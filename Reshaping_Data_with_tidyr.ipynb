{
 "cells": [
  {
   "cell_type": "markdown",
   "id": "0a60f04a-0a83-49fa-b8de-6a6c42c81dbd",
   "metadata": {
    "tags": []
   },
   "source": [
    "# Reshaping Data with tidyr\n",
    "## -- DataCamp --\n",
    "\n",
    " **Note**\n",
    "\n",
    "To use this code, select the R environment in Anaconda.\n",
    " \n",
    " **Used packages**\n",
    " - tidyverse\n",
    " \n",
    "**Table of content**\n",
    "- [&nbsp;&nbsp;1. Tidy data](#toc_041001_1)\n",
    "- [&nbsp;&nbsp;2. From Wide to Long and Back](#toc_041001_2)\n",
    "    - [&nbsp;&nbsp;2.1 Wide to Long](#toc_041001_2.1)\n",
    "    - [&nbsp;&nbsp;2.2 Long to Wide](#toc_041001_2.2)\n",
    "- [&nbsp;&nbsp;3. Expand data](#toc_041001_3)\n",
    "- [&nbsp;&nbsp;4. Tidy data](#toc_041001_4)\n",
    "- [&nbsp;&nbsp;5. Rectangling data](#toc_041001_5)"
   ]
  },
  {
   "cell_type": "markdown",
   "id": "d6fcc069-9447-4c21-8443-803c455cf5af",
   "metadata": {},
   "source": [
    "**Set environment and plot size**"
   ]
  },
  {
   "cell_type": "code",
   "execution_count": 1,
   "id": "41f8318d-e941-47d9-85a7-5fb511f31b9b",
   "metadata": {},
   "outputs": [],
   "source": [
    "suppressMessages(library(tidyverse))"
   ]
  },
  {
   "cell_type": "markdown",
   "id": "e5f3f38c-ad26-46a9-a1f2-a38f11995f69",
   "metadata": {},
   "source": [
    "**Import data**"
   ]
  },
  {
   "cell_type": "code",
   "execution_count": 134,
   "id": "108b3019-ae09-4b24-ba0a-634292b180f2",
   "metadata": {},
   "outputs": [],
   "source": [
    "olympic <- readRDS(\"data/reshape/olympic_medals_top_10.RDS\")\n",
    "netflix_df <- readRDS(\"data/reshape/Netflix/netflix_duration.RDS\")\n",
    "star_df <- readRDS(\"data/reshape/StarWars/star_wars_movie_planet_list.RDS\")\n",
    "nuke <- readRDS(\"data/reshape/Nuclear/nuke_wide_country.RDS\")"
   ]
  },
  {
   "cell_type": "markdown",
   "id": "59b27c56-36bf-4868-93c7-5793125919e7",
   "metadata": {
    "tags": []
   },
   "source": [
    "<a name=\"toc_041001_1\"></a>\n",
    "## 1.   Tidy data\n",
    "\n",
    "The **tidy data** format has columns, rows, and cells, just like in a spreadsheet. There are three conditions:\n",
    "- Each column should hold a single variable (e.g. City). \n",
    "- Each row should hold a single observation. \n",
    "- Each cell should now hold a single value (e.g. \"Hungary\" or \"Budapest\", not \"Hungary, Budapest\").\n",
    "\n",
    "The `dplyr` package works best on data that's already in a tidy format, but unfortunately, most data in the wild is messy. The `tidyr` package will help you deal with this. Useful function to create a tidy dataset:\n",
    "- `separate()` - separates each cell into several columns along a `sep = ` parameter.\n",
    "- `separate_rows()` - Separate each cell in a column into several rows.\n",
    "- `unite()` - does the opposite, it collapse cells across several columns into a single column."
   ]
  },
  {
   "cell_type": "markdown",
   "id": "026940ae-2739-4918-aa4e-a4d1ef95698d",
   "metadata": {},
   "source": [
    "<u>Separate columns</u>"
   ]
  },
  {
   "cell_type": "code",
   "execution_count": 11,
   "id": "b70512e6-2b00-4ebe-ad70-35a014f6708f",
   "metadata": {},
   "outputs": [
    {
     "data": {
      "text/html": [
       "<table class=\"dataframe\">\n",
       "<caption>A tibble: 4 × 2</caption>\n",
       "<thead>\n",
       "\t<tr><th scope=col>country</th><th scope=col>population</th></tr>\n",
       "\t<tr><th scope=col>&lt;chr&gt;</th><th scope=col>&lt;dbl&gt;</th></tr>\n",
       "</thead>\n",
       "<tbody>\n",
       "\t<tr><td>Brazil, South America</td><td>210.0</td></tr>\n",
       "\t<tr><td>Nepal, Asia          </td><td> 28.1</td></tr>\n",
       "\t<tr><td>Senegal, Africa      </td><td> 15.8</td></tr>\n",
       "\t<tr><td>Australia, Oceania   </td><td> 25.0</td></tr>\n",
       "</tbody>\n",
       "</table>\n"
      ],
      "text/latex": [
       "A tibble: 4 × 2\n",
       "\\begin{tabular}{ll}\n",
       " country & population\\\\\n",
       " <chr> & <dbl>\\\\\n",
       "\\hline\n",
       "\t Brazil, South America & 210.0\\\\\n",
       "\t Nepal, Asia           &  28.1\\\\\n",
       "\t Senegal, Africa       &  15.8\\\\\n",
       "\t Australia, Oceania    &  25.0\\\\\n",
       "\\end{tabular}\n"
      ],
      "text/markdown": [
       "\n",
       "A tibble: 4 × 2\n",
       "\n",
       "| country &lt;chr&gt; | population &lt;dbl&gt; |\n",
       "|---|---|\n",
       "| Brazil, South America | 210.0 |\n",
       "| Nepal, Asia           |  28.1 |\n",
       "| Senegal, Africa       |  15.8 |\n",
       "| Australia, Oceania    |  25.0 |\n",
       "\n"
      ],
      "text/plain": [
       "  country               population\n",
       "1 Brazil, South America 210.0     \n",
       "2 Nepal, Asia            28.1     \n",
       "3 Senegal, Africa        15.8     \n",
       "4 Australia, Oceania     25.0     "
      ]
     },
     "metadata": {},
     "output_type": "display_data"
    }
   ],
   "source": [
    "population_df <- tibble(\n",
    "    country = c(\"Brazil, South America\", \n",
    "              \"Nepal, Asia\",\n",
    "              \"Senegal, Africa\",\n",
    "              \"Australia, Oceania\"),\n",
    "    population = c(210, 28.1, 15.8, 25.0)\n",
    ")\n",
    "population_df"
   ]
  },
  {
   "cell_type": "markdown",
   "id": "2cb1ea9f-39ad-4839-9f70-0286b94e61cb",
   "metadata": {},
   "source": [
    "☝️ This is a messy dataset. Let's fix it!"
   ]
  },
  {
   "cell_type": "code",
   "execution_count": 8,
   "id": "8fcd2022-f436-4025-9c29-06904992b846",
   "metadata": {},
   "outputs": [
    {
     "data": {
      "text/html": [
       "<table class=\"dataframe\">\n",
       "<caption>A tibble: 4 × 3</caption>\n",
       "<thead>\n",
       "\t<tr><th scope=col>country</th><th scope=col>continent</th><th scope=col>population</th></tr>\n",
       "\t<tr><th scope=col>&lt;chr&gt;</th><th scope=col>&lt;chr&gt;</th><th scope=col>&lt;dbl&gt;</th></tr>\n",
       "</thead>\n",
       "<tbody>\n",
       "\t<tr><td>Brazil   </td><td>South America</td><td>210.0</td></tr>\n",
       "\t<tr><td>Nepal    </td><td>Asia         </td><td> 28.1</td></tr>\n",
       "\t<tr><td>Senegal  </td><td>Africa       </td><td> 15.8</td></tr>\n",
       "\t<tr><td>Australia</td><td>Oceania      </td><td> 25.0</td></tr>\n",
       "</tbody>\n",
       "</table>\n"
      ],
      "text/latex": [
       "A tibble: 4 × 3\n",
       "\\begin{tabular}{lll}\n",
       " country & continent & population\\\\\n",
       " <chr> & <chr> & <dbl>\\\\\n",
       "\\hline\n",
       "\t Brazil    & South America & 210.0\\\\\n",
       "\t Nepal     & Asia          &  28.1\\\\\n",
       "\t Senegal   & Africa        &  15.8\\\\\n",
       "\t Australia & Oceania       &  25.0\\\\\n",
       "\\end{tabular}\n"
      ],
      "text/markdown": [
       "\n",
       "A tibble: 4 × 3\n",
       "\n",
       "| country &lt;chr&gt; | continent &lt;chr&gt; | population &lt;dbl&gt; |\n",
       "|---|---|---|\n",
       "| Brazil    | South America | 210.0 |\n",
       "| Nepal     | Asia          |  28.1 |\n",
       "| Senegal   | Africa        |  15.8 |\n",
       "| Australia | Oceania       |  25.0 |\n",
       "\n"
      ],
      "text/plain": [
       "  country   continent     population\n",
       "1 Brazil    South America 210.0     \n",
       "2 Nepal     Asia           28.1     \n",
       "3 Senegal   Africa         15.8     \n",
       "4 Australia Oceania        25.0     "
      ]
     },
     "metadata": {},
     "output_type": "display_data"
    }
   ],
   "source": [
    "population_df %>%\n",
    "  separate(country, into = c(\"country\", \"continent\"), sep = \", \")"
   ]
  },
  {
   "cell_type": "markdown",
   "id": "3c8d6be7-81bb-4b4d-a42c-56424f9fee96",
   "metadata": {},
   "source": [
    "☝️ We got a tidy dataset"
   ]
  },
  {
   "cell_type": "code",
   "execution_count": 18,
   "id": "65549610-49a4-4f7d-be69-025c27e991e2",
   "metadata": {},
   "outputs": [
    {
     "data": {
      "text/html": [
       "<table class=\"dataframe\">\n",
       "<caption>A tibble: 3 × 3</caption>\n",
       "<thead>\n",
       "\t<tr><th scope=col>title</th><th scope=col>type</th><th scope=col>duration</th></tr>\n",
       "\t<tr><th scope=col>&lt;chr&gt;</th><th scope=col>&lt;chr&gt;</th><th scope=col>&lt;chr&gt;</th></tr>\n",
       "</thead>\n",
       "<tbody>\n",
       "\t<tr><td>Article 15         </td><td>Movie  </td><td>125 min </td></tr>\n",
       "\t<tr><td>Kill Me If You Dare</td><td>Movie  </td><td>100 min </td></tr>\n",
       "\t<tr><td>The Spy            </td><td>TV Show</td><td>1 Season</td></tr>\n",
       "</tbody>\n",
       "</table>\n"
      ],
      "text/latex": [
       "A tibble: 3 × 3\n",
       "\\begin{tabular}{lll}\n",
       " title & type & duration\\\\\n",
       " <chr> & <chr> & <chr>\\\\\n",
       "\\hline\n",
       "\t Article 15          & Movie   & 125 min \\\\\n",
       "\t Kill Me If You Dare & Movie   & 100 min \\\\\n",
       "\t The Spy             & TV Show & 1 Season\\\\\n",
       "\\end{tabular}\n"
      ],
      "text/markdown": [
       "\n",
       "A tibble: 3 × 3\n",
       "\n",
       "| title &lt;chr&gt; | type &lt;chr&gt; | duration &lt;chr&gt; |\n",
       "|---|---|---|\n",
       "| Article 15          | Movie   | 125 min  |\n",
       "| Kill Me If You Dare | Movie   | 100 min  |\n",
       "| The Spy             | TV Show | 1 Season |\n",
       "\n"
      ],
      "text/plain": [
       "  title               type    duration\n",
       "1 Article 15          Movie   125 min \n",
       "2 Kill Me If You Dare Movie   100 min \n",
       "3 The Spy             TV Show 1 Season"
      ]
     },
     "metadata": {},
     "output_type": "display_data"
    }
   ],
   "source": [
    "head(netflix_df, 3)"
   ]
  },
  {
   "cell_type": "code",
   "execution_count": 19,
   "id": "e3f932d3-be28-4431-a092-c012f7b22f85",
   "metadata": {},
   "outputs": [
    {
     "data": {
      "text/html": [
       "<table class=\"dataframe\">\n",
       "<caption>A tibble: 3 × 4</caption>\n",
       "<thead>\n",
       "\t<tr><th scope=col>title</th><th scope=col>type</th><th scope=col>value</th><th scope=col>unit</th></tr>\n",
       "\t<tr><th scope=col>&lt;chr&gt;</th><th scope=col>&lt;chr&gt;</th><th scope=col>&lt;int&gt;</th><th scope=col>&lt;chr&gt;</th></tr>\n",
       "</thead>\n",
       "<tbody>\n",
       "\t<tr><td>Article 15         </td><td>Movie  </td><td>125</td><td>min   </td></tr>\n",
       "\t<tr><td>Kill Me If You Dare</td><td>Movie  </td><td>100</td><td>min   </td></tr>\n",
       "\t<tr><td>The Spy            </td><td>TV Show</td><td>  1</td><td>Season</td></tr>\n",
       "</tbody>\n",
       "</table>\n"
      ],
      "text/latex": [
       "A tibble: 3 × 4\n",
       "\\begin{tabular}{llll}\n",
       " title & type & value & unit\\\\\n",
       " <chr> & <chr> & <int> & <chr>\\\\\n",
       "\\hline\n",
       "\t Article 15          & Movie   & 125 & min   \\\\\n",
       "\t Kill Me If You Dare & Movie   & 100 & min   \\\\\n",
       "\t The Spy             & TV Show &   1 & Season\\\\\n",
       "\\end{tabular}\n"
      ],
      "text/markdown": [
       "\n",
       "A tibble: 3 × 4\n",
       "\n",
       "| title &lt;chr&gt; | type &lt;chr&gt; | value &lt;int&gt; | unit &lt;chr&gt; |\n",
       "|---|---|---|---|\n",
       "| Article 15          | Movie   | 125 | min    |\n",
       "| Kill Me If You Dare | Movie   | 100 | min    |\n",
       "| The Spy             | TV Show |   1 | Season |\n",
       "\n"
      ],
      "text/plain": [
       "  title               type    value unit  \n",
       "1 Article 15          Movie   125   min   \n",
       "2 Kill Me If You Dare Movie   100   min   \n",
       "3 The Spy             TV Show   1   Season"
      ]
     },
     "metadata": {},
     "output_type": "display_data"
    }
   ],
   "source": [
    "netflix_df %>%\n",
    "  separate(duration, into = c(\"value\", \"unit\"), sep = \" \", convert = TRUE) %>% # convert = TRUE converted value to integer\n",
    "  head(3)"
   ]
  },
  {
   "cell_type": "markdown",
   "id": "1139dfb5-5cef-49cf-bee5-051aa8786e3b",
   "metadata": {},
   "source": [
    "However, what if our data looks like this:\n",
    "<div style=\"text-align:center;\">\n",
    "  <img src=\"images/reshape_02.png\" width = \"300\" align=\"center\">\n",
    "</div>\n",
    "\n",
    "Like the Netflix movie `duration` column, the `ingredients` column has multiple values in a single cell. Only this time, the different values don't correspond to different variables like they did in the Netflix data. Instead, they are different observations of ingredients for a certain drink and should be put in different rows. Note that this allows us to deal with different numbers of ingredients per drink elegantly.\n",
    "\n",
    "<div style=\"text-align:center;\">\n",
    "  <img src=\"images/reshape_01.png\" width = \"600\" align=\"center\">\n",
    "</div>\n",
    "\n",
    "We can achieve this result with the `separate_rows()` function. We pass it the messy column name and a string to use as a separator."
   ]
  },
  {
   "cell_type": "code",
   "execution_count": 38,
   "id": "9e151775-580f-4f0b-9e5d-68ff1a2897cd",
   "metadata": {},
   "outputs": [
    {
     "data": {
      "text/html": [
       "<table class=\"dataframe\">\n",
       "<caption>A tibble: 5 × 2</caption>\n",
       "<thead>\n",
       "\t<tr><th scope=col>drink</th><th scope=col>ingredients</th></tr>\n",
       "\t<tr><th scope=col>&lt;chr&gt;</th><th scope=col>&lt;chr&gt;</th></tr>\n",
       "</thead>\n",
       "<tbody>\n",
       "\t<tr><td>Chocolate milk</td><td>milk     </td></tr>\n",
       "\t<tr><td>Chocolate milk</td><td>chocolate</td></tr>\n",
       "\t<tr><td>Chocolate milk</td><td>sugar    </td></tr>\n",
       "\t<tr><td>Orange juice  </td><td>oranges  </td></tr>\n",
       "\t<tr><td>Orange juice  </td><td>sugar    </td></tr>\n",
       "</tbody>\n",
       "</table>\n"
      ],
      "text/latex": [
       "A tibble: 5 × 2\n",
       "\\begin{tabular}{ll}\n",
       " drink & ingredients\\\\\n",
       " <chr> & <chr>\\\\\n",
       "\\hline\n",
       "\t Chocolate milk & milk     \\\\\n",
       "\t Chocolate milk & chocolate\\\\\n",
       "\t Chocolate milk & sugar    \\\\\n",
       "\t Orange juice   & oranges  \\\\\n",
       "\t Orange juice   & sugar    \\\\\n",
       "\\end{tabular}\n"
      ],
      "text/markdown": [
       "\n",
       "A tibble: 5 × 2\n",
       "\n",
       "| drink &lt;chr&gt; | ingredients &lt;chr&gt; |\n",
       "|---|---|\n",
       "| Chocolate milk | milk      |\n",
       "| Chocolate milk | chocolate |\n",
       "| Chocolate milk | sugar     |\n",
       "| Orange juice   | oranges   |\n",
       "| Orange juice   | sugar     |\n",
       "\n"
      ],
      "text/plain": [
       "  drink          ingredients\n",
       "1 Chocolate milk milk       \n",
       "2 Chocolate milk chocolate  \n",
       "3 Chocolate milk sugar      \n",
       "4 Orange juice   oranges    \n",
       "5 Orange juice   sugar      "
      ]
     },
     "metadata": {},
     "output_type": "display_data"
    }
   ],
   "source": [
    "drink_df <- tibble (\n",
    "    drink = c(\"Chocolate milk\", \"Orange juice\"),\n",
    "    ingredients = c(\"milk, chocolate, sugar\", \"oranges, sugar\")    \n",
    "    )\n",
    "\n",
    "drink_df %>%\n",
    "  separate_rows(ingredients, sep = \", \")"
   ]
  },
  {
   "cell_type": "markdown",
   "id": "716856f5-8dda-45bc-99c4-2464cf49d40d",
   "metadata": {},
   "source": [
    "<u>Unite columns</u>"
   ]
  },
  {
   "cell_type": "code",
   "execution_count": 33,
   "id": "49c415a4-c1df-4e6f-a941-aed014639554",
   "metadata": {},
   "outputs": [],
   "source": [
    "mydf <- tibble(given_name = c(\"Adam\", \"Sarah\", \"Claire\"),\n",
    "               family_name = c(\"Smith\", \"Johnson\", \"Taylor\"))"
   ]
  },
  {
   "cell_type": "code",
   "execution_count": 36,
   "id": "88c39270-707c-437c-a37d-a1e01048c7ed",
   "metadata": {},
   "outputs": [
    {
     "data": {
      "text/html": [
       "<table class=\"dataframe\">\n",
       "<caption>A tibble: 3 × 1</caption>\n",
       "<thead>\n",
       "\t<tr><th scope=col>name</th></tr>\n",
       "\t<tr><th scope=col>&lt;chr&gt;</th></tr>\n",
       "</thead>\n",
       "<tbody>\n",
       "\t<tr><td>Adam Smith   </td></tr>\n",
       "\t<tr><td>Sarah Johnson</td></tr>\n",
       "\t<tr><td>Claire Taylor</td></tr>\n",
       "</tbody>\n",
       "</table>\n"
      ],
      "text/latex": [
       "A tibble: 3 × 1\n",
       "\\begin{tabular}{l}\n",
       " name\\\\\n",
       " <chr>\\\\\n",
       "\\hline\n",
       "\t Adam Smith   \\\\\n",
       "\t Sarah Johnson\\\\\n",
       "\t Claire Taylor\\\\\n",
       "\\end{tabular}\n"
      ],
      "text/markdown": [
       "\n",
       "A tibble: 3 × 1\n",
       "\n",
       "| name &lt;chr&gt; |\n",
       "|---|\n",
       "| Adam Smith    |\n",
       "| Sarah Johnson |\n",
       "| Claire Taylor |\n",
       "\n"
      ],
      "text/plain": [
       "  name         \n",
       "1 Adam Smith   \n",
       "2 Sarah Johnson\n",
       "3 Claire Taylor"
      ]
     },
     "metadata": {},
     "output_type": "display_data"
    }
   ],
   "source": [
    "mydf %>% \n",
    "  unite(\"name\", given_name, family_name, sep = \" \")"
   ]
  },
  {
   "cell_type": "markdown",
   "id": "dfd36ad2-34d3-4ef2-8f80-fc7209dc8435",
   "metadata": {},
   "source": [
    "<a name=\"toc_041001_2\"></a>\n",
    "## 2. From Wide to Long and Back"
   ]
  },
  {
   "cell_type": "markdown",
   "id": "b456a5e7-e805-4a41-9c8d-8c1c22f7f702",
   "metadata": {},
   "source": [
    "<a name=\"toc_041001_2.1\"></a>\n",
    "**2.1 Wide to long**\n",
    "\n",
    "Here we want to get a longer data frame, with appropriate column headers and a single variable per column.\n",
    "\n",
    "<div style=\"text-align:center;\">\n",
    "  <img src=\"images/reshape_03.png\" width = \"600\" align=\"center\">\n",
    "</div>\n",
    "\n",
    "We can do this with `pivot_longer()`. Some useful arguments:\n",
    "- `names_to` - name of the new column with the column names. Special case: `.value` separates the string by the `names_sep` character\n",
    "- `values_to` - name of the new column with the values\n",
    "- `values_drop_na` - drop rows where the value is NA\n",
    "- `names_prefix` - deletes prefixes when the original column names contained them\n",
    "- `names_sep` - we can separate one name column into two by specifying the separator character (e.g. separate column Part1_Group2 into Part and Group columns)\n",
    "- `names_transform = list(var = as.integer)` - specify the format of the new column"
   ]
  },
  {
   "cell_type": "code",
   "execution_count": 43,
   "id": "3696b73a-4925-45e4-b8cf-364f873eeeb4",
   "metadata": {},
   "outputs": [
    {
     "data": {
      "text/html": [
       "<table class=\"dataframe\">\n",
       "<caption>A tibble: 2 × 9</caption>\n",
       "<thead>\n",
       "\t<tr><th scope=col>year</th><th scope=col>United States</th><th scope=col>Russian Federation</th><th scope=col>United Kingdom</th><th scope=col>France</th><th scope=col>China</th><th scope=col>India</th><th scope=col>Pakistan</th><th scope=col>North Korea</th></tr>\n",
       "\t<tr><th scope=col>&lt;dbl&gt;</th><th scope=col>&lt;int&gt;</th><th scope=col>&lt;int&gt;</th><th scope=col>&lt;int&gt;</th><th scope=col>&lt;int&gt;</th><th scope=col>&lt;int&gt;</th><th scope=col>&lt;int&gt;</th><th scope=col>&lt;int&gt;</th><th scope=col>&lt;int&gt;</th></tr>\n",
       "</thead>\n",
       "<tbody>\n",
       "\t<tr><td>1945</td><td>3</td><td>NA</td><td>NA</td><td>NA</td><td>NA</td><td>NA</td><td>NA</td><td>NA</td></tr>\n",
       "\t<tr><td>1946</td><td>2</td><td>NA</td><td>NA</td><td>NA</td><td>NA</td><td>NA</td><td>NA</td><td>NA</td></tr>\n",
       "</tbody>\n",
       "</table>\n"
      ],
      "text/latex": [
       "A tibble: 2 × 9\n",
       "\\begin{tabular}{lllllllll}\n",
       " year & United States & Russian Federation & United Kingdom & France & China & India & Pakistan & North Korea\\\\\n",
       " <dbl> & <int> & <int> & <int> & <int> & <int> & <int> & <int> & <int>\\\\\n",
       "\\hline\n",
       "\t 1945 & 3 & NA & NA & NA & NA & NA & NA & NA\\\\\n",
       "\t 1946 & 2 & NA & NA & NA & NA & NA & NA & NA\\\\\n",
       "\\end{tabular}\n"
      ],
      "text/markdown": [
       "\n",
       "A tibble: 2 × 9\n",
       "\n",
       "| year &lt;dbl&gt; | United States &lt;int&gt; | Russian Federation &lt;int&gt; | United Kingdom &lt;int&gt; | France &lt;int&gt; | China &lt;int&gt; | India &lt;int&gt; | Pakistan &lt;int&gt; | North Korea &lt;int&gt; |\n",
       "|---|---|---|---|---|---|---|---|---|\n",
       "| 1945 | 3 | NA | NA | NA | NA | NA | NA | NA |\n",
       "| 1946 | 2 | NA | NA | NA | NA | NA | NA | NA |\n",
       "\n"
      ],
      "text/plain": [
       "  year United States Russian Federation United Kingdom France China India\n",
       "1 1945 3             NA                 NA             NA     NA    NA   \n",
       "2 1946 2             NA                 NA             NA     NA    NA   \n",
       "  Pakistan North Korea\n",
       "1 NA       NA         \n",
       "2 NA       NA         "
      ]
     },
     "metadata": {},
     "output_type": "display_data"
    }
   ],
   "source": [
    "head(nuke, 2)"
   ]
  },
  {
   "cell_type": "markdown",
   "id": "1b46bf0a-639d-4d0f-9300-07964c0aca9b",
   "metadata": {},
   "source": [
    "We can achieve our goal, with the `pivot_longer()` function. We've passed it a single argument, a range with the columns to put in a single column. A range is created by specifying the leftmost column followed by a `:` and then the rightmost column. \n",
    "\n",
    "Note that we should used backticks ($`$) around the column names that are not character strings, but e.g. numbers!"
   ]
  },
  {
   "cell_type": "code",
   "execution_count": 49,
   "id": "11a90d82-e43b-4b4d-a9ed-d34250340199",
   "metadata": {},
   "outputs": [
    {
     "data": {
      "text/html": [
       "<table class=\"dataframe\">\n",
       "<caption>A tibble: 2 × 3</caption>\n",
       "<thead>\n",
       "\t<tr><th scope=col>year</th><th scope=col>name</th><th scope=col>value</th></tr>\n",
       "\t<tr><th scope=col>&lt;dbl&gt;</th><th scope=col>&lt;chr&gt;</th><th scope=col>&lt;int&gt;</th></tr>\n",
       "</thead>\n",
       "<tbody>\n",
       "\t<tr><td>1945</td><td>United States     </td><td> 3</td></tr>\n",
       "\t<tr><td>1945</td><td>Russian Federation</td><td>NA</td></tr>\n",
       "</tbody>\n",
       "</table>\n"
      ],
      "text/latex": [
       "A tibble: 2 × 3\n",
       "\\begin{tabular}{lll}\n",
       " year & name & value\\\\\n",
       " <dbl> & <chr> & <int>\\\\\n",
       "\\hline\n",
       "\t 1945 & United States      &  3\\\\\n",
       "\t 1945 & Russian Federation & NA\\\\\n",
       "\\end{tabular}\n"
      ],
      "text/markdown": [
       "\n",
       "A tibble: 2 × 3\n",
       "\n",
       "| year &lt;dbl&gt; | name &lt;chr&gt; | value &lt;int&gt; |\n",
       "|---|---|---|\n",
       "| 1945 | United States      |  3 |\n",
       "| 1945 | Russian Federation | NA |\n",
       "\n"
      ],
      "text/plain": [
       "  year name               value\n",
       "1 1945 United States       3   \n",
       "2 1945 Russian Federation NA   "
      ]
     },
     "metadata": {},
     "output_type": "display_data"
    }
   ],
   "source": [
    "nuke %>%\n",
    "  pivot_longer(\"United States\":\"North Korea\") %>%\n",
    "  head(2)"
   ]
  },
  {
   "cell_type": "markdown",
   "id": "474bd3fe-0bc4-409d-864f-886f46610981",
   "metadata": {},
   "source": [
    "Alternatively, we can specify just the columns <u>not to pivot</u> with a minus (`-`) sign. "
   ]
  },
  {
   "cell_type": "code",
   "execution_count": 50,
   "id": "e1376cbc-65ad-4313-90e9-3cd72ddede31",
   "metadata": {},
   "outputs": [
    {
     "data": {
      "text/html": [
       "<table class=\"dataframe\">\n",
       "<caption>A tibble: 2 × 3</caption>\n",
       "<thead>\n",
       "\t<tr><th scope=col>year</th><th scope=col>name</th><th scope=col>value</th></tr>\n",
       "\t<tr><th scope=col>&lt;dbl&gt;</th><th scope=col>&lt;chr&gt;</th><th scope=col>&lt;int&gt;</th></tr>\n",
       "</thead>\n",
       "<tbody>\n",
       "\t<tr><td>1945</td><td>United States     </td><td> 3</td></tr>\n",
       "\t<tr><td>1945</td><td>Russian Federation</td><td>NA</td></tr>\n",
       "</tbody>\n",
       "</table>\n"
      ],
      "text/latex": [
       "A tibble: 2 × 3\n",
       "\\begin{tabular}{lll}\n",
       " year & name & value\\\\\n",
       " <dbl> & <chr> & <int>\\\\\n",
       "\\hline\n",
       "\t 1945 & United States      &  3\\\\\n",
       "\t 1945 & Russian Federation & NA\\\\\n",
       "\\end{tabular}\n"
      ],
      "text/markdown": [
       "\n",
       "A tibble: 2 × 3\n",
       "\n",
       "| year &lt;dbl&gt; | name &lt;chr&gt; | value &lt;int&gt; |\n",
       "|---|---|---|\n",
       "| 1945 | United States      |  3 |\n",
       "| 1945 | Russian Federation | NA |\n",
       "\n"
      ],
      "text/plain": [
       "  year name               value\n",
       "1 1945 United States       3   \n",
       "2 1945 Russian Federation NA   "
      ]
     },
     "metadata": {},
     "output_type": "display_data"
    }
   ],
   "source": [
    "nuke %>%\n",
    "  pivot_longer(-year) %>%\n",
    "  head(2)"
   ]
  },
  {
   "cell_type": "markdown",
   "id": "10f9659c-c009-4297-9a29-c04b3ba807a4",
   "metadata": {},
   "source": [
    "☝️ same result"
   ]
  },
  {
   "cell_type": "markdown",
   "id": "54c5f066-8a1e-43f4-952b-de8334b131aa",
   "metadata": {},
   "source": [
    "To overwrite the default column names, we can use the `names_to` and the `values_to` arguments:"
   ]
  },
  {
   "cell_type": "code",
   "execution_count": 58,
   "id": "80458452-ee62-4dfe-bd56-4d5487e0b5d7",
   "metadata": {},
   "outputs": [
    {
     "data": {
      "text/html": [
       "<table class=\"dataframe\">\n",
       "<caption>A tibble: 2 × 3</caption>\n",
       "<thead>\n",
       "\t<tr><th scope=col>year</th><th scope=col>country</th><th scope=col>n_bombs</th></tr>\n",
       "\t<tr><th scope=col>&lt;dbl&gt;</th><th scope=col>&lt;chr&gt;</th><th scope=col>&lt;int&gt;</th></tr>\n",
       "</thead>\n",
       "<tbody>\n",
       "\t<tr><td>1945</td><td>United States     </td><td> 3</td></tr>\n",
       "\t<tr><td>1945</td><td>Russian Federation</td><td>NA</td></tr>\n",
       "</tbody>\n",
       "</table>\n"
      ],
      "text/latex": [
       "A tibble: 2 × 3\n",
       "\\begin{tabular}{lll}\n",
       " year & country & n\\_bombs\\\\\n",
       " <dbl> & <chr> & <int>\\\\\n",
       "\\hline\n",
       "\t 1945 & United States      &  3\\\\\n",
       "\t 1945 & Russian Federation & NA\\\\\n",
       "\\end{tabular}\n"
      ],
      "text/markdown": [
       "\n",
       "A tibble: 2 × 3\n",
       "\n",
       "| year &lt;dbl&gt; | country &lt;chr&gt; | n_bombs &lt;int&gt; |\n",
       "|---|---|---|\n",
       "| 1945 | United States      |  3 |\n",
       "| 1945 | Russian Federation | NA |\n",
       "\n"
      ],
      "text/plain": [
       "  year country            n_bombs\n",
       "1 1945 United States       3     \n",
       "2 1945 Russian Federation NA     "
      ]
     },
     "metadata": {},
     "output_type": "display_data"
    }
   ],
   "source": [
    "nuke %>%\n",
    "  pivot_longer(-year, names_to = \"country\", values_to = \"n_bombs\") %>%\n",
    "  head(2)"
   ]
  },
  {
   "cell_type": "markdown",
   "id": "231b7dee-d9da-4202-bba1-a4d523d9118a",
   "metadata": {},
   "source": [
    "If we don't want any missing values, we can set `values_drop_na = TRUE`:"
   ]
  },
  {
   "cell_type": "code",
   "execution_count": 56,
   "id": "03b0c9b3-46ae-4a20-95a4-94c7e2b244c9",
   "metadata": {},
   "outputs": [
    {
     "data": {
      "text/html": [
       "<table class=\"dataframe\">\n",
       "<caption>A tibble: 2 × 3</caption>\n",
       "<thead>\n",
       "\t<tr><th scope=col>year</th><th scope=col>country</th><th scope=col>n_bombs</th></tr>\n",
       "\t<tr><th scope=col>&lt;dbl&gt;</th><th scope=col>&lt;chr&gt;</th><th scope=col>&lt;int&gt;</th></tr>\n",
       "</thead>\n",
       "<tbody>\n",
       "\t<tr><td>1945</td><td>United States</td><td>3</td></tr>\n",
       "\t<tr><td>1946</td><td>United States</td><td>2</td></tr>\n",
       "</tbody>\n",
       "</table>\n"
      ],
      "text/latex": [
       "A tibble: 2 × 3\n",
       "\\begin{tabular}{lll}\n",
       " year & country & n\\_bombs\\\\\n",
       " <dbl> & <chr> & <int>\\\\\n",
       "\\hline\n",
       "\t 1945 & United States & 3\\\\\n",
       "\t 1946 & United States & 2\\\\\n",
       "\\end{tabular}\n"
      ],
      "text/markdown": [
       "\n",
       "A tibble: 2 × 3\n",
       "\n",
       "| year &lt;dbl&gt; | country &lt;chr&gt; | n_bombs &lt;int&gt; |\n",
       "|---|---|---|\n",
       "| 1945 | United States | 3 |\n",
       "| 1946 | United States | 2 |\n",
       "\n"
      ],
      "text/plain": [
       "  year country       n_bombs\n",
       "1 1945 United States 3      \n",
       "2 1946 United States 2      "
      ]
     },
     "metadata": {},
     "output_type": "display_data"
    }
   ],
   "source": [
    "nuke %>%\n",
    "  pivot_longer(-year, names_to = \"country\", values_to = \"n_bombs\", \n",
    "               values_drop_na = TRUE) %>%\n",
    "  head(2)"
   ]
  },
  {
   "cell_type": "markdown",
   "id": "9682cbf1-65d6-410f-8f77-1212a3646557",
   "metadata": {},
   "source": [
    "Wide datasets sometimes contain column names with prefixes (Like `name_` in the example below)\n",
    "\n",
    "<div style=\"text-align:center;\">\n",
    "  <img src=\"images/reshape_04.png\" width = \"400\" align=\"center\">\n",
    "</div>\n",
    "\n",
    "We can remove this prefix when using `pivot_longer()` with the argument `names_prefix =`. So in the new `id` column, `1` and `2` will appear instead of `name_1` and `name_2`:\n",
    "\n",
    "<div style=\"text-align:center;\">\n",
    "  <img src=\"images/reshape_05.png\" width = \"600\" align=\"center\">\n",
    "</div>"
   ]
  },
  {
   "cell_type": "code",
   "execution_count": 62,
   "id": "a7453c65-3d65-4565-8fe2-74dcde29ee5d",
   "metadata": {},
   "outputs": [
    {
     "data": {
      "text/html": [
       "<table class=\"dataframe\">\n",
       "<caption>A tibble: 2 × 3</caption>\n",
       "<thead>\n",
       "\t<tr><th scope=col>segment</th><th scope=col>2019_Q1</th><th scope=col>2019_Q2</th></tr>\n",
       "\t<tr><th scope=col>&lt;chr&gt;</th><th scope=col>&lt;dbl&gt;</th><th scope=col>&lt;dbl&gt;</th></tr>\n",
       "</thead>\n",
       "<tbody>\n",
       "\t<tr><td>iPhone</td><td>52.00</td><td>31.00</td></tr>\n",
       "\t<tr><td>Mac   </td><td> 7.42</td><td> 5.51</td></tr>\n",
       "</tbody>\n",
       "</table>\n"
      ],
      "text/latex": [
       "A tibble: 2 × 3\n",
       "\\begin{tabular}{lll}\n",
       " segment & 2019\\_Q1 & 2019\\_Q2\\\\\n",
       " <chr> & <dbl> & <dbl>\\\\\n",
       "\\hline\n",
       "\t iPhone & 52.00 & 31.00\\\\\n",
       "\t Mac    &  7.42 &  5.51\\\\\n",
       "\\end{tabular}\n"
      ],
      "text/markdown": [
       "\n",
       "A tibble: 2 × 3\n",
       "\n",
       "| segment &lt;chr&gt; | 2019_Q1 &lt;dbl&gt; | 2019_Q2 &lt;dbl&gt; |\n",
       "|---|---|---|\n",
       "| iPhone | 52.00 | 31.00 |\n",
       "| Mac    |  7.42 |  5.51 |\n",
       "\n"
      ],
      "text/plain": [
       "  segment 2019_Q1 2019_Q2\n",
       "1 iPhone  52.00   31.00  \n",
       "2 Mac      7.42    5.51  "
      ]
     },
     "metadata": {},
     "output_type": "display_data"
    }
   ],
   "source": [
    "apple <- tibble(\n",
    " segment = c(\"iPhone\", \"Mac\"),\n",
    " `2019_Q1` = c(52.0, 7.42),  # use \" ` \" for column names that start with a number\n",
    " `2019_Q2` = c(31.0, 5.51))\n",
    "\n",
    "apple"
   ]
  },
  {
   "cell_type": "code",
   "execution_count": 65,
   "id": "d28b173a-1dbe-4485-8377-3495c82fbbb1",
   "metadata": {},
   "outputs": [
    {
     "data": {
      "text/html": [
       "<table class=\"dataframe\">\n",
       "<caption>A tibble: 4 × 4</caption>\n",
       "<thead>\n",
       "\t<tr><th scope=col>segment</th><th scope=col>year</th><th scope=col>quarter</th><th scope=col>value</th></tr>\n",
       "\t<tr><th scope=col>&lt;chr&gt;</th><th scope=col>&lt;int&gt;</th><th scope=col>&lt;int&gt;</th><th scope=col>&lt;dbl&gt;</th></tr>\n",
       "</thead>\n",
       "<tbody>\n",
       "\t<tr><td>iPhone</td><td>2019</td><td>1</td><td>52.00</td></tr>\n",
       "\t<tr><td>iPhone</td><td>2019</td><td>2</td><td>31.00</td></tr>\n",
       "\t<tr><td>Mac   </td><td>2019</td><td>1</td><td> 7.42</td></tr>\n",
       "\t<tr><td>Mac   </td><td>2019</td><td>2</td><td> 5.51</td></tr>\n",
       "</tbody>\n",
       "</table>\n"
      ],
      "text/latex": [
       "A tibble: 4 × 4\n",
       "\\begin{tabular}{llll}\n",
       " segment & year & quarter & value\\\\\n",
       " <chr> & <int> & <int> & <dbl>\\\\\n",
       "\\hline\n",
       "\t iPhone & 2019 & 1 & 52.00\\\\\n",
       "\t iPhone & 2019 & 2 & 31.00\\\\\n",
       "\t Mac    & 2019 & 1 &  7.42\\\\\n",
       "\t Mac    & 2019 & 2 &  5.51\\\\\n",
       "\\end{tabular}\n"
      ],
      "text/markdown": [
       "\n",
       "A tibble: 4 × 4\n",
       "\n",
       "| segment &lt;chr&gt; | year &lt;int&gt; | quarter &lt;int&gt; | value &lt;dbl&gt; |\n",
       "|---|---|---|---|\n",
       "| iPhone | 2019 | 1 | 52.00 |\n",
       "| iPhone | 2019 | 2 | 31.00 |\n",
       "| Mac    | 2019 | 1 |  7.42 |\n",
       "| Mac    | 2019 | 2 |  5.51 |\n",
       "\n"
      ],
      "text/plain": [
       "  segment year quarter value\n",
       "1 iPhone  2019 1       52.00\n",
       "2 iPhone  2019 2       31.00\n",
       "3 Mac     2019 1        7.42\n",
       "4 Mac     2019 2        5.51"
      ]
     },
     "metadata": {},
     "output_type": "display_data"
    }
   ],
   "source": [
    "apple %>%\n",
    "  pivot_longer(2:3, names_to = c(\"year\", \"quarter\"), values_to = \"value\", \n",
    "               names_sep = \"_Q\", \n",
    "               names_transform = list(year = as.integer, quarter = as.integer))"
   ]
  },
  {
   "cell_type": "markdown",
   "id": "e6e4d651-71c1-4a95-a19e-e76bca0b0fc4",
   "metadata": {},
   "source": [
    "Sometimes column headers are more complex, like below.\n",
    "\n",
    "<div style=\"text-align:center;\">\n",
    "  <img src=\"images/reshape_06.png\" width = \"600\" align=\"center\">\n",
    "</div>\n",
    "\n",
    "We want to create a tidy table like this:\n",
    "\n",
    "<div style=\"text-align:center;\">\n",
    "  <img src=\"images/reshape_07.png\" width = \"600\" align=\"center\">\n",
    "</div>\n",
    "\n",
    "Through the `.value` argument, we can tell the  `pivot_longer()` function  that it should create column names from each string it finds in the second part of the input string after separating by the character specified in the `names_sep` argument (here an underscore). \n",
    "\n",
    "<div style=\"text-align:center;\">\n",
    "  <img src=\"images/reshape_08.png\" width = \"400\" align=\"center\">\n",
    "</div>"
   ]
  },
  {
   "cell_type": "code",
   "execution_count": 75,
   "id": "9ac40c8a-9144-4eab-82f3-fd6088d6077c",
   "metadata": {},
   "outputs": [
    {
     "data": {
      "text/html": [
       "<table class=\"dataframe\">\n",
       "<caption>A tibble: 2 × 4</caption>\n",
       "<thead>\n",
       "\t<tr><th scope=col>segment</th><th scope=col>year</th><th scope=col>Q1</th><th scope=col>Q2</th></tr>\n",
       "\t<tr><th scope=col>&lt;chr&gt;</th><th scope=col>&lt;int&gt;</th><th scope=col>&lt;dbl&gt;</th><th scope=col>&lt;dbl&gt;</th></tr>\n",
       "</thead>\n",
       "<tbody>\n",
       "\t<tr><td>iPhone</td><td>2019</td><td>52.00</td><td>31.00</td></tr>\n",
       "\t<tr><td>Mac   </td><td>2019</td><td> 7.42</td><td> 5.51</td></tr>\n",
       "</tbody>\n",
       "</table>\n"
      ],
      "text/latex": [
       "A tibble: 2 × 4\n",
       "\\begin{tabular}{llll}\n",
       " segment & year & Q1 & Q2\\\\\n",
       " <chr> & <int> & <dbl> & <dbl>\\\\\n",
       "\\hline\n",
       "\t iPhone & 2019 & 52.00 & 31.00\\\\\n",
       "\t Mac    & 2019 &  7.42 &  5.51\\\\\n",
       "\\end{tabular}\n"
      ],
      "text/markdown": [
       "\n",
       "A tibble: 2 × 4\n",
       "\n",
       "| segment &lt;chr&gt; | year &lt;int&gt; | Q1 &lt;dbl&gt; | Q2 &lt;dbl&gt; |\n",
       "|---|---|---|---|\n",
       "| iPhone | 2019 | 52.00 | 31.00 |\n",
       "| Mac    | 2019 |  7.42 |  5.51 |\n",
       "\n"
      ],
      "text/plain": [
       "  segment year Q1    Q2   \n",
       "1 iPhone  2019 52.00 31.00\n",
       "2 Mac     2019  7.42  5.51"
      ]
     },
     "metadata": {},
     "output_type": "display_data"
    }
   ],
   "source": [
    "apple %>%\n",
    "  pivot_longer(2:3, names_to = c(\"year\", \".value\"), \n",
    "               names_sep = \"_\", \n",
    "               names_transform = list(year = as.integer, quarter = as.integer))"
   ]
  },
  {
   "cell_type": "markdown",
   "id": "22be5565-cf07-42a6-b3a0-56cb46407580",
   "metadata": {},
   "source": [
    "<a name=\"toc_041001_2.2\"></a>\n",
    "**2.2 Long to wide**\n",
    "\n",
    "Now we want to achieve the below:\n",
    "\n",
    "<div style=\"text-align:center;\">\n",
    "  <img src=\"images/reshape_09.png\" width = \"400\" align=\"center\">\n",
    "</div>\n",
    "\n",
    "We can do this with `pivot_wider()`. Useful arguments:\n",
    "- `names_from` -  specify the column from which to derive the new column names (above the `metric` column)\n",
    "- `values_from` - specify where to get the values for these new columns.\n",
    "- `names_prefix` - prefix for the newly created column names"
   ]
  },
  {
   "cell_type": "code",
   "execution_count": 77,
   "id": "dc508a83-65b0-4ac7-acba-d02e6eba36be",
   "metadata": {},
   "outputs": [],
   "source": [
    "metric <- tibble(\n",
    "  country = c(\"Afghanistan\", \"Afghanistan\", \"Albania\", \"Albania\"),\n",
    "  metric = c(\"life_exp\", \"pct_obese\",\"life_exp\", \"pct_obese\"),\n",
    "  value = c(62.7, 5.5, 76.4, 21.7))"
   ]
  },
  {
   "cell_type": "code",
   "execution_count": 80,
   "id": "9d13af4c-8b0f-40d3-88bb-dbcb8ffb8917",
   "metadata": {},
   "outputs": [
    {
     "data": {
      "text/html": [
       "<table class=\"dataframe\">\n",
       "<caption>A tibble: 2 × 3</caption>\n",
       "<thead>\n",
       "\t<tr><th scope=col>country</th><th scope=col>new_life_exp</th><th scope=col>new_pct_obese</th></tr>\n",
       "\t<tr><th scope=col>&lt;chr&gt;</th><th scope=col>&lt;dbl&gt;</th><th scope=col>&lt;dbl&gt;</th></tr>\n",
       "</thead>\n",
       "<tbody>\n",
       "\t<tr><td>Afghanistan</td><td>62.7</td><td> 5.5</td></tr>\n",
       "\t<tr><td>Albania    </td><td>76.4</td><td>21.7</td></tr>\n",
       "</tbody>\n",
       "</table>\n"
      ],
      "text/latex": [
       "A tibble: 2 × 3\n",
       "\\begin{tabular}{lll}\n",
       " country & new\\_life\\_exp & new\\_pct\\_obese\\\\\n",
       " <chr> & <dbl> & <dbl>\\\\\n",
       "\\hline\n",
       "\t Afghanistan & 62.7 &  5.5\\\\\n",
       "\t Albania     & 76.4 & 21.7\\\\\n",
       "\\end{tabular}\n"
      ],
      "text/markdown": [
       "\n",
       "A tibble: 2 × 3\n",
       "\n",
       "| country &lt;chr&gt; | new_life_exp &lt;dbl&gt; | new_pct_obese &lt;dbl&gt; |\n",
       "|---|---|---|\n",
       "| Afghanistan | 62.7 |  5.5 |\n",
       "| Albania     | 76.4 | 21.7 |\n",
       "\n"
      ],
      "text/plain": [
       "  country     new_life_exp new_pct_obese\n",
       "1 Afghanistan 62.7          5.5         \n",
       "2 Albania     76.4         21.7         "
      ]
     },
     "metadata": {},
     "output_type": "display_data"
    }
   ],
   "source": [
    "metric %>%\n",
    "  pivot_wider(names_from = \"metric\", values_from = \"value\",\n",
    "             names_prefix = \"new_\")"
   ]
  },
  {
   "cell_type": "markdown",
   "id": "1aaf9ce7-a3c9-4922-a496-b3108ae534fe",
   "metadata": {},
   "source": [
    "Sometimes we need to use both `pivot_longer()` and `pivot_wider()` to achieve our goal:\n",
    "\n",
    "<div style=\"text-align:center;\">\n",
    "  <img src=\"images/reshape_10.png\" width = \"600\" align=\"center\">\n",
    "</div>\n",
    "\n",
    "<div style=\"text-align:center;\">\n",
    "  <img src=\"images/reshape_12.png\" width = \"600\" align=\"center\">\n",
    "</div>\n",
    "\n",
    "<div style=\"text-align:center;\">\n",
    "  <img src=\"images/reshape_11.png\" width = \"600\" align=\"center\">\n",
    "</div>"
   ]
  },
  {
   "cell_type": "markdown",
   "id": "8a961f09-ba4c-46f9-a52a-ddc783368fb9",
   "metadata": {},
   "source": [
    "<a name=\"toc_041001_3\"></a>\n",
    "## 3. Expanding data\n",
    "\n",
    "The goal is to create new combinations of variables or to identify implicit missing values (combinations of variables not presented in the data)\n",
    "\n",
    "- `expand_grid()` - creates a tibble with all possible combinations of the vectors that you pass it\n",
    "- `expand()` - form `tidyr` creates a new tibble with all possible combinations of the values of the listed variables. Drops other variables.\n",
    "- `complete()` - adds missing possible combinations of values. Fill remaining variables with NA or with custom value. "
   ]
  },
  {
   "cell_type": "markdown",
   "id": "5675b565-dd34-497b-abd0-4dd4fbda8322",
   "metadata": {},
   "source": [
    "<u>The `expand_grid()` function</u>"
   ]
  },
  {
   "cell_type": "code",
   "execution_count": 92,
   "id": "2883e404-5fa8-4c90-9342-d509ab9ae496",
   "metadata": {
    "jp-MarkdownHeadingCollapsed": true,
    "tags": []
   },
   "outputs": [
    {
     "data": {
      "text/html": [
       "<table class=\"dataframe\">\n",
       "<caption>A tibble: 3 × 1</caption>\n",
       "<thead>\n",
       "\t<tr><th scope=col>codon</th></tr>\n",
       "\t<tr><th scope=col>&lt;chr&gt;</th></tr>\n",
       "</thead>\n",
       "<tbody>\n",
       "\t<tr><td>AAA</td></tr>\n",
       "\t<tr><td>AAC</td></tr>\n",
       "\t<tr><td>AAG</td></tr>\n",
       "</tbody>\n",
       "</table>\n"
      ],
      "text/latex": [
       "A tibble: 3 × 1\n",
       "\\begin{tabular}{l}\n",
       " codon\\\\\n",
       " <chr>\\\\\n",
       "\\hline\n",
       "\t AAA\\\\\n",
       "\t AAC\\\\\n",
       "\t AAG\\\\\n",
       "\\end{tabular}\n"
      ],
      "text/markdown": [
       "\n",
       "A tibble: 3 × 1\n",
       "\n",
       "| codon &lt;chr&gt; |\n",
       "|---|\n",
       "| AAA |\n",
       "| AAC |\n",
       "| AAG |\n",
       "\n"
      ],
      "text/plain": [
       "  codon\n",
       "1 AAA  \n",
       "2 AAC  \n",
       "3 AAG  "
      ]
     },
     "metadata": {},
     "output_type": "display_data"
    }
   ],
   "source": [
    "letters <- c(\"A\", \"C\", \"G\", \"U\")\n",
    "\n",
    "# Create a tibble with all possible 3 way combinations\n",
    "codon_df <- expand_grid(\n",
    "  letter1 = letters,\n",
    "  letter2 = letters,\n",
    "  letter3 = letters\n",
    ")\n",
    "\n",
    "codon_df %>%  \n",
    "  unite(\"codon\", letter1:letter3, sep= \"\") %>% \n",
    "  head(3)"
   ]
  },
  {
   "cell_type": "code",
   "execution_count": 95,
   "id": "1b908b29-a9d6-4785-896d-c23a64ad4f01",
   "metadata": {},
   "outputs": [
    {
     "data": {
      "text/html": [
       "<table class=\"dataframe\">\n",
       "<caption>A data.frame: 6 × 2</caption>\n",
       "<thead>\n",
       "\t<tr><th scope=col>year</th><th scope=col>country</th></tr>\n",
       "\t<tr><th scope=col>&lt;int&gt;</th><th scope=col>&lt;fct&gt;</th></tr>\n",
       "</thead>\n",
       "<tbody>\n",
       "\t<tr><td>1945</td><td>Russian Federation</td></tr>\n",
       "\t<tr><td>1946</td><td>Russian Federation</td></tr>\n",
       "\t<tr><td>1945</td><td>United Kingdom    </td></tr>\n",
       "\t<tr><td>1946</td><td>United Kingdom    </td></tr>\n",
       "\t<tr><td>1945</td><td>United States     </td></tr>\n",
       "\t<tr><td>1946</td><td>United States     </td></tr>\n",
       "</tbody>\n",
       "</table>\n"
      ],
      "text/latex": [
       "A data.frame: 6 × 2\n",
       "\\begin{tabular}{ll}\n",
       " year & country\\\\\n",
       " <int> & <fct>\\\\\n",
       "\\hline\n",
       "\t 1945 & Russian Federation\\\\\n",
       "\t 1946 & Russian Federation\\\\\n",
       "\t 1945 & United Kingdom    \\\\\n",
       "\t 1946 & United Kingdom    \\\\\n",
       "\t 1945 & United States     \\\\\n",
       "\t 1946 & United States     \\\\\n",
       "\\end{tabular}\n"
      ],
      "text/markdown": [
       "\n",
       "A data.frame: 6 × 2\n",
       "\n",
       "| year &lt;int&gt; | country &lt;fct&gt; |\n",
       "|---|---|\n",
       "| 1945 | Russian Federation |\n",
       "| 1946 | Russian Federation |\n",
       "| 1945 | United Kingdom     |\n",
       "| 1946 | United Kingdom     |\n",
       "| 1945 | United States      |\n",
       "| 1946 | United States      |\n",
       "\n"
      ],
      "text/plain": [
       "  year country           \n",
       "1 1945 Russian Federation\n",
       "2 1946 Russian Federation\n",
       "3 1945 United Kingdom    \n",
       "4 1946 United Kingdom    \n",
       "5 1945 United States     \n",
       "6 1946 United States     "
      ]
     },
     "metadata": {},
     "output_type": "display_data"
    }
   ],
   "source": [
    "full_df <-\n",
    "  expand.grid(\n",
    "    year = 1945:1946,\n",
    "    country = c(\"Russian Federation\", \"United Kingdom\", \"United States\")\n",
    "  )\n",
    "\n",
    "full_df"
   ]
  },
  {
   "cell_type": "markdown",
   "id": "0a42e3e9-3d5c-444c-8ca0-c6af5e2c1d0f",
   "metadata": {},
   "source": [
    "<u>The `expand()` function</u>"
   ]
  },
  {
   "cell_type": "code",
   "execution_count": 107,
   "id": "5ad73918-48c6-4c88-9bd6-1450567acd87",
   "metadata": {},
   "outputs": [
    {
     "data": {
      "text/html": [
       "<table class=\"dataframe\">\n",
       "<caption>A tibble: 3 × 3</caption>\n",
       "<thead>\n",
       "\t<tr><th scope=col>year</th><th scope=col>artist</th><th scope=col>n_albums</th></tr>\n",
       "\t<tr><th scope=col>&lt;dbl&gt;</th><th scope=col>&lt;chr&gt;</th><th scope=col>&lt;dbl&gt;</th></tr>\n",
       "</thead>\n",
       "<tbody>\n",
       "\t<tr><td>1977</td><td>Beatles       </td><td>2</td></tr>\n",
       "\t<tr><td>1977</td><td>Rolling Stones</td><td>1</td></tr>\n",
       "\t<tr><td>1979</td><td>Beatles       </td><td>1</td></tr>\n",
       "</tbody>\n",
       "</table>\n"
      ],
      "text/latex": [
       "A tibble: 3 × 3\n",
       "\\begin{tabular}{lll}\n",
       " year & artist & n\\_albums\\\\\n",
       " <dbl> & <chr> & <dbl>\\\\\n",
       "\\hline\n",
       "\t 1977 & Beatles        & 2\\\\\n",
       "\t 1977 & Rolling Stones & 1\\\\\n",
       "\t 1979 & Beatles        & 1\\\\\n",
       "\\end{tabular}\n"
      ],
      "text/markdown": [
       "\n",
       "A tibble: 3 × 3\n",
       "\n",
       "| year &lt;dbl&gt; | artist &lt;chr&gt; | n_albums &lt;dbl&gt; |\n",
       "|---|---|---|\n",
       "| 1977 | Beatles        | 2 |\n",
       "| 1977 | Rolling Stones | 1 |\n",
       "| 1979 | Beatles        | 1 |\n",
       "\n"
      ],
      "text/plain": [
       "  year artist         n_albums\n",
       "1 1977 Beatles        2       \n",
       "2 1977 Rolling Stones 1       \n",
       "3 1979 Beatles        1       "
      ]
     },
     "metadata": {},
     "output_type": "display_data"
    }
   ],
   "source": [
    "incomplete_df <- tibble(\n",
    "    year = c(1977, 1977, 1979),\n",
    "    artist = c(\"Beatles\", \"Rolling Stones\", \"Beatles\"),\n",
    "    n_albums = c(2, 1, 1)\n",
    "    )\n",
    "\n",
    "incomplete_df"
   ]
  },
  {
   "cell_type": "code",
   "execution_count": 108,
   "id": "e15e818e-5f29-4017-9f6d-4f57be4198e0",
   "metadata": {},
   "outputs": [
    {
     "data": {
      "text/html": [
       "<table class=\"dataframe\">\n",
       "<caption>A tibble: 4 × 2</caption>\n",
       "<thead>\n",
       "\t<tr><th scope=col>year</th><th scope=col>artist</th></tr>\n",
       "\t<tr><th scope=col>&lt;dbl&gt;</th><th scope=col>&lt;chr&gt;</th></tr>\n",
       "</thead>\n",
       "<tbody>\n",
       "\t<tr><td>1977</td><td>Beatles       </td></tr>\n",
       "\t<tr><td>1977</td><td>Rolling Stones</td></tr>\n",
       "\t<tr><td>1979</td><td>Beatles       </td></tr>\n",
       "\t<tr><td>1979</td><td>Rolling Stones</td></tr>\n",
       "</tbody>\n",
       "</table>\n"
      ],
      "text/latex": [
       "A tibble: 4 × 2\n",
       "\\begin{tabular}{ll}\n",
       " year & artist\\\\\n",
       " <dbl> & <chr>\\\\\n",
       "\\hline\n",
       "\t 1977 & Beatles       \\\\\n",
       "\t 1977 & Rolling Stones\\\\\n",
       "\t 1979 & Beatles       \\\\\n",
       "\t 1979 & Rolling Stones\\\\\n",
       "\\end{tabular}\n"
      ],
      "text/markdown": [
       "\n",
       "A tibble: 4 × 2\n",
       "\n",
       "| year &lt;dbl&gt; | artist &lt;chr&gt; |\n",
       "|---|---|\n",
       "| 1977 | Beatles        |\n",
       "| 1977 | Rolling Stones |\n",
       "| 1979 | Beatles        |\n",
       "| 1979 | Rolling Stones |\n",
       "\n"
      ],
      "text/plain": [
       "  year artist        \n",
       "1 1977 Beatles       \n",
       "2 1977 Rolling Stones\n",
       "3 1979 Beatles       \n",
       "4 1979 Rolling Stones"
      ]
     },
     "metadata": {},
     "output_type": "display_data"
    }
   ],
   "source": [
    "\n",
    "incomplete_df %>%\n",
    "  expand(year, artist)"
   ]
  },
  {
   "cell_type": "markdown",
   "id": "e5ed0cd9-0f21-4802-a94d-7ad929e41646",
   "metadata": {},
   "source": [
    "☝️ Missing cases were added, `n_albums` was dropped."
   ]
  },
  {
   "cell_type": "markdown",
   "id": "77e13f70-bceb-4167-9a3b-e8a84cea44b8",
   "metadata": {},
   "source": [
    "<u>The `complete()` function</u>"
   ]
  },
  {
   "cell_type": "code",
   "execution_count": 109,
   "id": "15fd5573-544d-4df1-a06b-b112fffaee44",
   "metadata": {},
   "outputs": [
    {
     "data": {
      "text/html": [
       "<table class=\"dataframe\">\n",
       "<caption>A tibble: 4 × 3</caption>\n",
       "<thead>\n",
       "\t<tr><th scope=col>year</th><th scope=col>artist</th><th scope=col>n_albums</th></tr>\n",
       "\t<tr><th scope=col>&lt;dbl&gt;</th><th scope=col>&lt;chr&gt;</th><th scope=col>&lt;dbl&gt;</th></tr>\n",
       "</thead>\n",
       "<tbody>\n",
       "\t<tr><td>1977</td><td>Beatles       </td><td> 2</td></tr>\n",
       "\t<tr><td>1977</td><td>Rolling Stones</td><td> 1</td></tr>\n",
       "\t<tr><td>1979</td><td>Beatles       </td><td> 1</td></tr>\n",
       "\t<tr><td>1979</td><td>Rolling Stones</td><td>NA</td></tr>\n",
       "</tbody>\n",
       "</table>\n"
      ],
      "text/latex": [
       "A tibble: 4 × 3\n",
       "\\begin{tabular}{lll}\n",
       " year & artist & n\\_albums\\\\\n",
       " <dbl> & <chr> & <dbl>\\\\\n",
       "\\hline\n",
       "\t 1977 & Beatles        &  2\\\\\n",
       "\t 1977 & Rolling Stones &  1\\\\\n",
       "\t 1979 & Beatles        &  1\\\\\n",
       "\t 1979 & Rolling Stones & NA\\\\\n",
       "\\end{tabular}\n"
      ],
      "text/markdown": [
       "\n",
       "A tibble: 4 × 3\n",
       "\n",
       "| year &lt;dbl&gt; | artist &lt;chr&gt; | n_albums &lt;dbl&gt; |\n",
       "|---|---|---|\n",
       "| 1977 | Beatles        |  2 |\n",
       "| 1977 | Rolling Stones |  1 |\n",
       "| 1979 | Beatles        |  1 |\n",
       "| 1979 | Rolling Stones | NA |\n",
       "\n"
      ],
      "text/plain": [
       "  year artist         n_albums\n",
       "1 1977 Beatles         2      \n",
       "2 1977 Rolling Stones  1      \n",
       "3 1979 Beatles         1      \n",
       "4 1979 Rolling Stones NA      "
      ]
     },
     "metadata": {},
     "output_type": "display_data"
    }
   ],
   "source": [
    "incomplete_df %>%\n",
    "  complete(year, artist)"
   ]
  },
  {
   "cell_type": "markdown",
   "id": "fef53a4d-a24b-4fc5-a6df-591e20995502",
   "metadata": {},
   "source": [
    "☝️ Missing cases were added, `n_albums` was replaced with NA where missing."
   ]
  },
  {
   "cell_type": "code",
   "execution_count": 111,
   "id": "50cbde04-1f13-4fb2-9d0b-a9486575c875",
   "metadata": {},
   "outputs": [
    {
     "data": {
      "text/html": [
       "<table class=\"dataframe\">\n",
       "<caption>A tibble: 4 × 3</caption>\n",
       "<thead>\n",
       "\t<tr><th scope=col>year</th><th scope=col>artist</th><th scope=col>n_albums</th></tr>\n",
       "\t<tr><th scope=col>&lt;dbl&gt;</th><th scope=col>&lt;chr&gt;</th><th scope=col>&lt;dbl&gt;</th></tr>\n",
       "</thead>\n",
       "<tbody>\n",
       "\t<tr><td>1977</td><td>Beatles       </td><td>2</td></tr>\n",
       "\t<tr><td>1977</td><td>Rolling Stones</td><td>1</td></tr>\n",
       "\t<tr><td>1979</td><td>Beatles       </td><td>1</td></tr>\n",
       "\t<tr><td>1979</td><td>Rolling Stones</td><td>0</td></tr>\n",
       "</tbody>\n",
       "</table>\n"
      ],
      "text/latex": [
       "A tibble: 4 × 3\n",
       "\\begin{tabular}{lll}\n",
       " year & artist & n\\_albums\\\\\n",
       " <dbl> & <chr> & <dbl>\\\\\n",
       "\\hline\n",
       "\t 1977 & Beatles        & 2\\\\\n",
       "\t 1977 & Rolling Stones & 1\\\\\n",
       "\t 1979 & Beatles        & 1\\\\\n",
       "\t 1979 & Rolling Stones & 0\\\\\n",
       "\\end{tabular}\n"
      ],
      "text/markdown": [
       "\n",
       "A tibble: 4 × 3\n",
       "\n",
       "| year &lt;dbl&gt; | artist &lt;chr&gt; | n_albums &lt;dbl&gt; |\n",
       "|---|---|---|\n",
       "| 1977 | Beatles        | 2 |\n",
       "| 1977 | Rolling Stones | 1 |\n",
       "| 1979 | Beatles        | 1 |\n",
       "| 1979 | Rolling Stones | 0 |\n",
       "\n"
      ],
      "text/plain": [
       "  year artist         n_albums\n",
       "1 1977 Beatles        2       \n",
       "2 1977 Rolling Stones 1       \n",
       "3 1979 Beatles        1       \n",
       "4 1979 Rolling Stones 0       "
      ]
     },
     "metadata": {},
     "output_type": "display_data"
    }
   ],
   "source": [
    "incomplete_df %>%\n",
    "  complete(year, artist, fill = list(n_albums = 0))"
   ]
  },
  {
   "cell_type": "markdown",
   "id": "6afb32fc-7612-4729-bf05-9c5f6c0619d6",
   "metadata": {},
   "source": [
    "☝️ Now, `n_albums` was replaced with 0 where missing."
   ]
  },
  {
   "cell_type": "markdown",
   "id": "a40f8b2c-aa5a-41b2-9c3b-00ff34c10c2e",
   "metadata": {},
   "source": [
    "With `complete()`, we can even create new combinations with addig additional categories to our existing variables:"
   ]
  },
  {
   "cell_type": "code",
   "execution_count": 114,
   "id": "9dc7bff9-c680-4958-845c-62f9b47c16f6",
   "metadata": {},
   "outputs": [
    {
     "data": {
      "text/html": [
       "<table class=\"dataframe\">\n",
       "<caption>A tibble: 6 × 3</caption>\n",
       "<thead>\n",
       "\t<tr><th scope=col>year</th><th scope=col>artist</th><th scope=col>n_albums</th></tr>\n",
       "\t<tr><th scope=col>&lt;dbl&gt;</th><th scope=col>&lt;chr&gt;</th><th scope=col>&lt;dbl&gt;</th></tr>\n",
       "</thead>\n",
       "<tbody>\n",
       "\t<tr><td>1977</td><td>ABBA          </td><td>NA</td></tr>\n",
       "\t<tr><td>1977</td><td>Beatles       </td><td> 2</td></tr>\n",
       "\t<tr><td>1977</td><td>Rolling Stones</td><td> 1</td></tr>\n",
       "\t<tr><td>1979</td><td>ABBA          </td><td>NA</td></tr>\n",
       "\t<tr><td>1979</td><td>Beatles       </td><td> 1</td></tr>\n",
       "\t<tr><td>1979</td><td>Rolling Stones</td><td>NA</td></tr>\n",
       "</tbody>\n",
       "</table>\n"
      ],
      "text/latex": [
       "A tibble: 6 × 3\n",
       "\\begin{tabular}{lll}\n",
       " year & artist & n\\_albums\\\\\n",
       " <dbl> & <chr> & <dbl>\\\\\n",
       "\\hline\n",
       "\t 1977 & ABBA           & NA\\\\\n",
       "\t 1977 & Beatles        &  2\\\\\n",
       "\t 1977 & Rolling Stones &  1\\\\\n",
       "\t 1979 & ABBA           & NA\\\\\n",
       "\t 1979 & Beatles        &  1\\\\\n",
       "\t 1979 & Rolling Stones & NA\\\\\n",
       "\\end{tabular}\n"
      ],
      "text/markdown": [
       "\n",
       "A tibble: 6 × 3\n",
       "\n",
       "| year &lt;dbl&gt; | artist &lt;chr&gt; | n_albums &lt;dbl&gt; |\n",
       "|---|---|---|\n",
       "| 1977 | ABBA           | NA |\n",
       "| 1977 | Beatles        |  2 |\n",
       "| 1977 | Rolling Stones |  1 |\n",
       "| 1979 | ABBA           | NA |\n",
       "| 1979 | Beatles        |  1 |\n",
       "| 1979 | Rolling Stones | NA |\n",
       "\n"
      ],
      "text/plain": [
       "  year artist         n_albums\n",
       "1 1977 ABBA           NA      \n",
       "2 1977 Beatles         2      \n",
       "3 1977 Rolling Stones  1      \n",
       "4 1979 ABBA           NA      \n",
       "5 1979 Beatles         1      \n",
       "6 1979 Rolling Stones NA      "
      ]
     },
     "metadata": {},
     "output_type": "display_data"
    }
   ],
   "source": [
    "incomplete_df %>%\n",
    "  complete(year, artist = c(\"Beatles\", \"Rolling Stones\", \"ABBA\"))"
   ]
  },
  {
   "cell_type": "markdown",
   "id": "bbe5a8c3-7915-4398-a4ad-f9b25f65bd27",
   "metadata": {},
   "source": [
    "We can do the same thing for the year variable. We specify a range of years to complete with from 1977 till 1979. "
   ]
  },
  {
   "cell_type": "code",
   "execution_count": 115,
   "id": "82ea81a5-11a6-440f-80d2-2332a252ba11",
   "metadata": {},
   "outputs": [
    {
     "data": {
      "text/html": [
       "<table class=\"dataframe\">\n",
       "<caption>A tibble: 4 × 3</caption>\n",
       "<thead>\n",
       "\t<tr><th scope=col>year</th><th scope=col>artist</th><th scope=col>n_albums</th></tr>\n",
       "\t<tr><th scope=col>&lt;dbl&gt;</th><th scope=col>&lt;chr&gt;</th><th scope=col>&lt;dbl&gt;</th></tr>\n",
       "</thead>\n",
       "<tbody>\n",
       "\t<tr><td>1977</td><td>Beatles       </td><td> 2</td></tr>\n",
       "\t<tr><td>1977</td><td>Rolling Stones</td><td> 1</td></tr>\n",
       "\t<tr><td>1978</td><td>NA            </td><td>NA</td></tr>\n",
       "\t<tr><td>1979</td><td>Beatles       </td><td> 1</td></tr>\n",
       "</tbody>\n",
       "</table>\n"
      ],
      "text/latex": [
       "A tibble: 4 × 3\n",
       "\\begin{tabular}{lll}\n",
       " year & artist & n\\_albums\\\\\n",
       " <dbl> & <chr> & <dbl>\\\\\n",
       "\\hline\n",
       "\t 1977 & Beatles        &  2\\\\\n",
       "\t 1977 & Rolling Stones &  1\\\\\n",
       "\t 1978 & NA             & NA\\\\\n",
       "\t 1979 & Beatles        &  1\\\\\n",
       "\\end{tabular}\n"
      ],
      "text/markdown": [
       "\n",
       "A tibble: 4 × 3\n",
       "\n",
       "| year &lt;dbl&gt; | artist &lt;chr&gt; | n_albums &lt;dbl&gt; |\n",
       "|---|---|---|\n",
       "| 1977 | Beatles        |  2 |\n",
       "| 1977 | Rolling Stones |  1 |\n",
       "| 1978 | NA             | NA |\n",
       "| 1979 | Beatles        |  1 |\n",
       "\n"
      ],
      "text/plain": [
       "  year artist         n_albums\n",
       "1 1977 Beatles         2      \n",
       "2 1977 Rolling Stones  1      \n",
       "3 1978 NA             NA      \n",
       "4 1979 Beatles         1      "
      ]
     },
     "metadata": {},
     "output_type": "display_data"
    }
   ],
   "source": [
    "incomplete_df %>%\n",
    "  complete(year = 1977:1979)"
   ]
  },
  {
   "cell_type": "markdown",
   "id": "67beaeaf-e6f8-4705-8521-869be87f2d28",
   "metadata": {},
   "source": [
    "However, there is a downside to specifying a range of values like this. First, is that you have to manually inspect the data for the lowest and highest value present. Second, is that when you re-use your code on an updated or different dataset, you might get unexpected results!\n",
    "\n",
    "This is where the `full_seq()` function can help. It will look for the lowest and highest value within the vector you pass it, and will then return a sequence between these two values. The interval between the values in the sequence can be set with the `period` argument. Because it looks for min and max values first, the function is not affected by duplicate values in the input. This allows us to pass it a variable from our data frame, giving us the same range of years that we would have specified manually. Note that we can also apply the `full_seq()` function on dates!"
   ]
  },
  {
   "cell_type": "code",
   "execution_count": 116,
   "id": "63cbb825-defb-45cc-b543-20b87f5765ac",
   "metadata": {},
   "outputs": [
    {
     "data": {
      "text/html": [
       "<table class=\"dataframe\">\n",
       "<caption>A tibble: 4 × 3</caption>\n",
       "<thead>\n",
       "\t<tr><th scope=col>year</th><th scope=col>artist</th><th scope=col>n_albums</th></tr>\n",
       "\t<tr><th scope=col>&lt;dbl&gt;</th><th scope=col>&lt;chr&gt;</th><th scope=col>&lt;dbl&gt;</th></tr>\n",
       "</thead>\n",
       "<tbody>\n",
       "\t<tr><td>1977</td><td>Beatles       </td><td> 2</td></tr>\n",
       "\t<tr><td>1977</td><td>Rolling Stones</td><td> 1</td></tr>\n",
       "\t<tr><td>1978</td><td>NA            </td><td>NA</td></tr>\n",
       "\t<tr><td>1979</td><td>Beatles       </td><td> 1</td></tr>\n",
       "</tbody>\n",
       "</table>\n"
      ],
      "text/latex": [
       "A tibble: 4 × 3\n",
       "\\begin{tabular}{lll}\n",
       " year & artist & n\\_albums\\\\\n",
       " <dbl> & <chr> & <dbl>\\\\\n",
       "\\hline\n",
       "\t 1977 & Beatles        &  2\\\\\n",
       "\t 1977 & Rolling Stones &  1\\\\\n",
       "\t 1978 & NA             & NA\\\\\n",
       "\t 1979 & Beatles        &  1\\\\\n",
       "\\end{tabular}\n"
      ],
      "text/markdown": [
       "\n",
       "A tibble: 4 × 3\n",
       "\n",
       "| year &lt;dbl&gt; | artist &lt;chr&gt; | n_albums &lt;dbl&gt; |\n",
       "|---|---|---|\n",
       "| 1977 | Beatles        |  2 |\n",
       "| 1977 | Rolling Stones |  1 |\n",
       "| 1978 | NA             | NA |\n",
       "| 1979 | Beatles        |  1 |\n",
       "\n"
      ],
      "text/plain": [
       "  year artist         n_albums\n",
       "1 1977 Beatles         2      \n",
       "2 1977 Rolling Stones  1      \n",
       "3 1978 NA             NA      \n",
       "4 1979 Beatles         1      "
      ]
     },
     "metadata": {},
     "output_type": "display_data"
    }
   ],
   "source": [
    "incomplete_df %>%\n",
    "  complete(year = full_seq(year, period = 1))"
   ]
  },
  {
   "cell_type": "markdown",
   "id": "83725cd1-c148-4c11-a87d-d3832742771a",
   "metadata": {},
   "source": [
    "☝️ Here we got the same result but now our code is more robust!"
   ]
  },
  {
   "cell_type": "markdown",
   "id": "e4e8383c-c391-4369-bb18-98f501ec0dc5",
   "metadata": {},
   "source": [
    "Let's see another example:"
   ]
  },
  {
   "cell_type": "code",
   "execution_count": 120,
   "id": "8da4fbe2-3760-48d3-a85a-bfd244c739b3",
   "metadata": {},
   "outputs": [
    {
     "data": {
      "text/html": [
       "<table class=\"dataframe\">\n",
       "<caption>A tibble: 2 × 5</caption>\n",
       "<thead>\n",
       "\t<tr><th scope=col>name</th><th scope=col>sport</th><th scope=col>year</th><th scope=col>medal</th><th scope=col>team</th></tr>\n",
       "\t<tr><th scope=col>&lt;chr&gt;</th><th scope=col>&lt;chr&gt;</th><th scope=col>&lt;dbl&gt;</th><th scope=col>&lt;chr&gt;</th><th scope=col>&lt;chr&gt;</th></tr>\n",
       "</thead>\n",
       "<tbody>\n",
       "\t<tr><td>Edward Battel       </td><td>Cycling  </td><td>1896</td><td>Bronze</td><td>Great Britain</td></tr>\n",
       "\t<tr><td>Arthur Charles Blake</td><td>Athletics</td><td>1896</td><td>Silver</td><td>United States</td></tr>\n",
       "</tbody>\n",
       "</table>\n"
      ],
      "text/latex": [
       "A tibble: 2 × 5\n",
       "\\begin{tabular}{lllll}\n",
       " name & sport & year & medal & team\\\\\n",
       " <chr> & <chr> & <dbl> & <chr> & <chr>\\\\\n",
       "\\hline\n",
       "\t Edward Battel        & Cycling   & 1896 & Bronze & Great Britain\\\\\n",
       "\t Arthur Charles Blake & Athletics & 1896 & Silver & United States\\\\\n",
       "\\end{tabular}\n"
      ],
      "text/markdown": [
       "\n",
       "A tibble: 2 × 5\n",
       "\n",
       "| name &lt;chr&gt; | sport &lt;chr&gt; | year &lt;dbl&gt; | medal &lt;chr&gt; | team &lt;chr&gt; |\n",
       "|---|---|---|---|---|\n",
       "| Edward Battel        | Cycling   | 1896 | Bronze | Great Britain |\n",
       "| Arthur Charles Blake | Athletics | 1896 | Silver | United States |\n",
       "\n"
      ],
      "text/plain": [
       "  name                 sport     year medal  team         \n",
       "1 Edward Battel        Cycling   1896 Bronze Great Britain\n",
       "2 Arthur Charles Blake Athletics 1896 Silver United States"
      ]
     },
     "metadata": {},
     "output_type": "display_data"
    }
   ],
   "source": [
    "head(olympic, 2)"
   ]
  },
  {
   "cell_type": "code",
   "execution_count": 124,
   "id": "d5d99825-f7e2-404c-a2ad-814bf7d397f6",
   "metadata": {},
   "outputs": [
    {
     "data": {
      "text/html": [
       "<table class=\"dataframe\">\n",
       "<caption>A tibble: 3 × 3</caption>\n",
       "<thead>\n",
       "\t<tr><th scope=col>team</th><th scope=col>year</th><th scope=col>n_medals</th></tr>\n",
       "\t<tr><th scope=col>&lt;chr&gt;</th><th scope=col>&lt;dbl&gt;</th><th scope=col>&lt;int&gt;</th></tr>\n",
       "</thead>\n",
       "<tbody>\n",
       "\t<tr><td>Australia</td><td>1896</td><td>2</td></tr>\n",
       "\t<tr><td>Australia</td><td>1900</td><td>5</td></tr>\n",
       "\t<tr><td>Australia</td><td>1904</td><td>4</td></tr>\n",
       "</tbody>\n",
       "</table>\n"
      ],
      "text/latex": [
       "A tibble: 3 × 3\n",
       "\\begin{tabular}{lll}\n",
       " team & year & n\\_medals\\\\\n",
       " <chr> & <dbl> & <int>\\\\\n",
       "\\hline\n",
       "\t Australia & 1896 & 2\\\\\n",
       "\t Australia & 1900 & 5\\\\\n",
       "\t Australia & 1904 & 4\\\\\n",
       "\\end{tabular}\n"
      ],
      "text/markdown": [
       "\n",
       "A tibble: 3 × 3\n",
       "\n",
       "| team &lt;chr&gt; | year &lt;dbl&gt; | n_medals &lt;int&gt; |\n",
       "|---|---|---|\n",
       "| Australia | 1896 | 2 |\n",
       "| Australia | 1900 | 5 |\n",
       "| Australia | 1904 | 4 |\n",
       "\n"
      ],
      "text/plain": [
       "  team      year n_medals\n",
       "1 Australia 1896 2       \n",
       "2 Australia 1900 5       \n",
       "3 Australia 1904 4       "
      ]
     },
     "metadata": {},
     "output_type": "display_data"
    }
   ],
   "source": [
    "olympic %>%\n",
    "  count(team, year, name = \"n_medals\") %>%\n",
    "  head(3)"
   ]
  },
  {
   "cell_type": "markdown",
   "id": "fa92e51d-1025-4ff3-8f5f-e8c085750461",
   "metadata": {},
   "source": [
    "☝️ Not all countries won medals each year. We need to add thos rows with 0 medals before we can plot the results."
   ]
  },
  {
   "cell_type": "code",
   "execution_count": 127,
   "id": "5e36f51e-7914-4548-94bc-66e6c5b6ba0a",
   "metadata": {},
   "outputs": [
    {
     "data": {
      "image/png": "[encoded data removed]",
      "text/plain": [
       "plot without title"
      ]
     },
     "metadata": {
      "image/png": {
       "height": 420,
       "width": 420
      }
     },
     "output_type": "display_data"
    }
   ],
   "source": [
    "olympic %>%\n",
    "  count(team, year, name = \"n_medals\") %>% \n",
    "  complete(team, year, fill = list(n_medals = 0)) %>% \n",
    "  ggplot(aes(x = year, y = n_medals, color = team)) +\n",
    "  geom_line(size = 1) +\n",
    "  scale_color_brewer(palette = \"Paired\") +\n",
    "  theme_minimal()"
   ]
  },
  {
   "cell_type": "markdown",
   "id": "7dc05a23-74b5-4032-a52a-862ebea8e3ab",
   "metadata": {},
   "source": [
    "A problem that can arise when using `complete()` is when we pass all variables, we may get nonsensical observations, like below, where  we got observations for the USA on the European continent and the UK in North America. These observations should not have been added since a country is always connected to the same continent.\n",
    "\n",
    "<div style=\"text-align:center;\">\n",
    "  <img src=\"images/reshape_13.png\" width = \"600\" align=\"center\">\n",
    "</div>\n",
    "\n",
    "We can establish such a connection with the `nesting()` function. By nesting variables, we tell the `complete()` function to treat them as a single variable! It will then no longer add observations for new value combinations of these variables. The result is better now, with a single observation added for the UK in the forties.\n",
    "\n",
    "<div style=\"text-align:center;\">\n",
    "  <img src=\"images/reshape_14.png\" width = \"600\" align=\"center\">\n",
    "</div>"
   ]
  },
  {
   "cell_type": "markdown",
   "id": "e608079f-fb8e-4942-9146-4fce7d47cc8e",
   "metadata": {},
   "source": [
    "Let's move on to a second example. We're looking at data collected by the US National Hurricane Center. It details the start and end dates of tropical storms in the Atlantic. What if we would want to use this data to find out how many storms were active simultaneously over time?\n",
    "\n",
    "<div style=\"text-align:center;\">\n",
    "  <img src=\"images/reshape_17.png\" width = \"300\" align=\"center\">\n",
    "</div>\n",
    "\n",
    "To answer this question, we need to take multiple steps. First, we reshape the date with the `pivot_longer()` function to a format with one observation for the start date, and one observation for the end date. What we want to do next, is use the `complete()` function to generate all dates between the start and end dates. Once this is done, we can simply count the dates and we'll have our answer.\n",
    "\n",
    "However, to achieve this result we first use `group_by()` to group the data by the name of each storm. Only then will the `full_seq()` function use the start and end dates of each storm individually instead of the first and last date in the full dataset. Note that after completing, we ungroup the data to not affect future operations.\n",
    "\n",
    "<div style=\"text-align:center;\">\n",
    "  <img src=\"images/reshape_15.png\" width = \"600\" align=\"center\">\n",
    "</div>\n",
    "\n",
    "Now that we have all the dates on which each storm was raging, we can count the occurrences of dates to see how many storms were active simultaneously. We do so with `dplyr`'s `count()` function. After this, we can count the occurrences of dates to see how many storms were active simultaneously. We do so with `count()` function. Finally, we'll use the `complete()` function once more to add zero values for dates on which no storms were active.\n",
    "\n",
    "<div style=\"text-align:center;\">\n",
    "  <img src=\"images/reshape_16.png\" width = \"600\" align=\"center\">\n",
    "</div>\n",
    "\n",
    "When we visualize the result, we can clearly see the Atlantic hurricane season starting around July and ending in October each year.\n",
    "\n",
    "<div style=\"text-align:center;\">\n",
    "  <img src=\"images/reshape_18.png\" width = \"500\" align=\"center\">\n",
    "</div>"
   ]
  },
  {
   "cell_type": "markdown",
   "id": "3edeaba2-ae5f-438b-8044-5b891c475bc5",
   "metadata": {
    "tags": []
   },
   "source": [
    "<a name=\"toc_041001_4\"></a>\n",
    "## 4. Rectangling data\n",
    "\n",
    "In this chapter we will learn how to turn nested data structures such as `JSON` and `XML` files into tidy, rectangular data. This skill will enable us to process data from web `APIs`. "
   ]
  },
  {
   "cell_type": "markdown",
   "id": "c0a9db52-d6a3-49ba-8ec0-4cba2272ed59",
   "metadata": {},
   "source": [
    "<a name=\"toc_041001_4.1\"></a>\n",
    "**4.1 Working with non-rectangular data**"
   ]
  },
  {
   "cell_type": "markdown",
   "id": "9b38baec-4b88-4086-ac21-a226f24b311a",
   "metadata": {},
   "source": [
    "So far, we've always worked with data in a rectangular, or tabular, structure, with columns and rows. To save this kind of data we often use the `CSV` format, where values are separated by commas. While this rectangular format is convenient for our analyses, not all data comes in this shape.\n",
    "\n",
    "Take for example `JSON` and `XML` files. Both formats are widely used and aim to be both human and machine-readable, but clearly, they don't have a rectangular shape with columns and rows. Instead, they have hierarchical, tree-like structures, with high-level elements branching into lower-level elements. These structures pose a challenge for data analysis, but don't be worried. `tidyr` can help you turn these into a rectangular format.\n",
    "\n",
    "<div style=\"text-align:center;\">\n",
    "  <img src=\"images/reshape_19.png\" width = \"600\" align=\"center\">\n",
    "</div>\n",
    "\n",
    "When you read a `JSON` file with the `rjson` package's `fromJSON()` function, you'll end up with a **nested list**. The example shown below has a top-level list with two elements. Each element corresponds to a Star Wars character and contains a named list with two items: the name of the character, and the films they appeared in. This `films` field is in itself again a *list*.\n",
    "\n",
    "<div style=\"text-align:center;\">\n",
    "  <img src=\"images/reshape_20.png\" width = \"600\" align=\"center\">\n",
    "</div>\n",
    "\n",
    "As a first step to rectangling this data, we'll use the `tibble()` function to create a data frame with one column, which we'll name character, and pass it the list. You'll see that this data frame already has two rows, one for each top-level element of the input list. However, the values in these rows are lists themselves, whereas we would like to have the elements of these lists spread out over multiple columns.\n",
    "\n",
    "<div style=\"text-align:center;\">\n",
    "  <img src=\"images/reshape_21.png\" width = \"400\" align=\"center\">\n",
    "</div>\n",
    "\n",
    "This can be done with tidyr's `unnest_wider()` function. It spreads the two elements of the character list into two columns: name and films. The `unnest_wider()` function was able to come up with these column names because we passed it a named list. \n",
    "\n",
    "<div style=\"text-align:center;\">\n",
    "  <img src=\"images/reshape_22.png\" width = \"250\" align=\"center\">\n",
    "</div>\n",
    "\n",
    "We could take our unnesting one step further and also apply it to our films column, as this too, is a list column. It contains four films for Darth Vader and two for Jar Jar Binks.\n",
    "\n",
    "<div style=\"text-align:center;\">\n",
    "  <img src=\"images/reshape_23.png\" width = \"600\" align=\"center\">\n",
    "</div>\n",
    "\n",
    "Since the elements in these columns weren't named lists, `tidyr `had to improvise when creating the column names, and since both characters appeared in a different number of films NA values were added for Jar Jar Binks' 3rd and 4th movie. This data isn't exactly tidy. The problem is that `films` is a variable, and should thus remain in a single column instead of being spread out over several. This is exactly what the `unnest_longer()` function will do for you. We pass it the films variable and the result is a now completely unnested, tidy, data frame. \n",
    "\n",
    "<div style=\"text-align:center;\">\n",
    "  <img src=\"images/reshape_24.png\" width = \"250\" align=\"center\">\n",
    "</div>\n",
    "\n",
    "Rectangling deeply nested data usually comes down to a series of `unnest_longer()` and `unnest_wider()` operations, the order of which depends on the data structure."
   ]
  },
  {
   "cell_type": "code",
   "execution_count": 136,
   "id": "24a9458d-f8db-419f-b09c-3a4e44f61082",
   "metadata": {},
   "outputs": [
    {
     "data": {
      "text/html": [
       "<ol>\n",
       "\t<li><dl>\n",
       "\t<dt>$title</dt>\n",
       "\t\t<dd>'A New Hope'</dd>\n",
       "\t<dt>$release_date</dt>\n",
       "\t\t<dd>'1977-05-25'</dd>\n",
       "\t<dt>$planets</dt>\n",
       "\t\t<dd><style>\n",
       ".list-inline {list-style: none; margin:0; padding: 0}\n",
       ".list-inline>li {display: inline-block}\n",
       ".list-inline>li:not(:last-child)::after {content: \"\\00b7\"; padding: 0 .5ex}\n",
       "</style>\n",
       "<ol class=list-inline><li>'Alderaan'</li><li>'Yavin IV'</li><li>'Tatooine'</li></ol>\n",
       "</dd>\n",
       "</dl>\n",
       "</li>\n",
       "\t<li><dl>\n",
       "\t<dt>$title</dt>\n",
       "\t\t<dd>'The Empire Strikes Back'</dd>\n",
       "\t<dt>$release_date</dt>\n",
       "\t\t<dd>'1980-05-17'</dd>\n",
       "\t<dt>$planets</dt>\n",
       "\t\t<dd><style>\n",
       ".list-inline {list-style: none; margin:0; padding: 0}\n",
       ".list-inline>li {display: inline-block}\n",
       ".list-inline>li:not(:last-child)::after {content: \"\\00b7\"; padding: 0 .5ex}\n",
       "</style>\n",
       "<ol class=list-inline><li>'Hoth'</li><li>'Dagobah'</li><li>'Bespin'</li><li>'Ord Mantell'</li></ol>\n",
       "</dd>\n",
       "</dl>\n",
       "</li>\n",
       "\t<li><dl>\n",
       "\t<dt>$title</dt>\n",
       "\t\t<dd>'Return of the Jedi'</dd>\n",
       "\t<dt>$release_date</dt>\n",
       "\t\t<dd>'1983-05-25'</dd>\n",
       "\t<dt>$planets</dt>\n",
       "\t\t<dd><style>\n",
       ".list-inline {list-style: none; margin:0; padding: 0}\n",
       ".list-inline>li {display: inline-block}\n",
       ".list-inline>li:not(:last-child)::after {content: \"\\00b7\"; padding: 0 .5ex}\n",
       "</style>\n",
       "<ol class=list-inline><li>'Dagobah'</li><li>'Endor'</li><li>'Naboo'</li><li>'Coruscant'</li><li>'Tatooine'</li></ol>\n",
       "</dd>\n",
       "</dl>\n",
       "</li>\n",
       "\t<li><dl>\n",
       "\t<dt>$title</dt>\n",
       "\t\t<dd>'The Phantom Menace'</dd>\n",
       "\t<dt>$release_date</dt>\n",
       "\t\t<dd>'1999-05-19'</dd>\n",
       "\t<dt>$planets</dt>\n",
       "\t\t<dd><style>\n",
       ".list-inline {list-style: none; margin:0; padding: 0}\n",
       ".list-inline>li {display: inline-block}\n",
       ".list-inline>li:not(:last-child)::after {content: \"\\00b7\"; padding: 0 .5ex}\n",
       "</style>\n",
       "<ol class=list-inline><li>'Naboo'</li><li>'Coruscant'</li><li>'Tatooine'</li></ol>\n",
       "</dd>\n",
       "</dl>\n",
       "</li>\n",
       "\t<li><dl>\n",
       "\t<dt>$title</dt>\n",
       "\t\t<dd>'Attack of the Clones'</dd>\n",
       "\t<dt>$release_date</dt>\n",
       "\t\t<dd>'2002-05-16'</dd>\n",
       "\t<dt>$planets</dt>\n",
       "\t\t<dd><style>\n",
       ".list-inline {list-style: none; margin:0; padding: 0}\n",
       ".list-inline>li {display: inline-block}\n",
       ".list-inline>li:not(:last-child)::after {content: \"\\00b7\"; padding: 0 .5ex}\n",
       "</style>\n",
       "<ol class=list-inline><li>'Naboo'</li><li>'Coruscant'</li><li>'Kamino'</li><li>'Geonosis'</li><li>'Tatooine'</li></ol>\n",
       "</dd>\n",
       "</dl>\n",
       "</li>\n",
       "\t<li><dl>\n",
       "\t<dt>$title</dt>\n",
       "\t\t<dd>'Revenge of the Sith'</dd>\n",
       "\t<dt>$release_date</dt>\n",
       "\t\t<dd>'2005-05-19'</dd>\n",
       "\t<dt>$planets</dt>\n",
       "\t\t<dd><style>\n",
       ".list-inline {list-style: none; margin:0; padding: 0}\n",
       ".list-inline>li {display: inline-block}\n",
       ".list-inline>li:not(:last-child)::after {content: \"\\00b7\"; padding: 0 .5ex}\n",
       "</style>\n",
       "<ol class=list-inline><li>'Alderaan'</li><li>'Dagobah'</li><li>'Naboo'</li><li>'Coruscant'</li><li>'Utapau'</li><li>'Mustafar'</li><li>'Kashyyyk'</li><li>'Polis Massa'</li><li>'Mygeeto'</li><li>'Felucia'</li><li>'Cato Neimoidia'</li><li>'Saleucami'</li><li>'Tatooine'</li></ol>\n",
       "</dd>\n",
       "</dl>\n",
       "</li>\n",
       "\t<li><dl>\n",
       "\t<dt>$title</dt>\n",
       "\t\t<dd>'The Force Awakens'</dd>\n",
       "\t<dt>$release_date</dt>\n",
       "\t\t<dd>'2015-12-11'</dd>\n",
       "\t<dt>$planets</dt>\n",
       "\t\t<dd>'Jakku'</dd>\n",
       "</dl>\n",
       "</li>\n",
       "</ol>\n"
      ],
      "text/latex": [
       "\\begin{enumerate}\n",
       "\\item \\begin{description}\n",
       "\\item[\\$title] 'A New Hope'\n",
       "\\item[\\$release\\_date] '1977-05-25'\n",
       "\\item[\\$planets] \\begin{enumerate*}\n",
       "\\item 'Alderaan'\n",
       "\\item 'Yavin IV'\n",
       "\\item 'Tatooine'\n",
       "\\end{enumerate*}\n",
       "\n",
       "\\end{description}\n",
       "\n",
       "\\item \\begin{description}\n",
       "\\item[\\$title] 'The Empire Strikes Back'\n",
       "\\item[\\$release\\_date] '1980-05-17'\n",
       "\\item[\\$planets] \\begin{enumerate*}\n",
       "\\item 'Hoth'\n",
       "\\item 'Dagobah'\n",
       "\\item 'Bespin'\n",
       "\\item 'Ord Mantell'\n",
       "\\end{enumerate*}\n",
       "\n",
       "\\end{description}\n",
       "\n",
       "\\item \\begin{description}\n",
       "\\item[\\$title] 'Return of the Jedi'\n",
       "\\item[\\$release\\_date] '1983-05-25'\n",
       "\\item[\\$planets] \\begin{enumerate*}\n",
       "\\item 'Dagobah'\n",
       "\\item 'Endor'\n",
       "\\item 'Naboo'\n",
       "\\item 'Coruscant'\n",
       "\\item 'Tatooine'\n",
       "\\end{enumerate*}\n",
       "\n",
       "\\end{description}\n",
       "\n",
       "\\item \\begin{description}\n",
       "\\item[\\$title] 'The Phantom Menace'\n",
       "\\item[\\$release\\_date] '1999-05-19'\n",
       "\\item[\\$planets] \\begin{enumerate*}\n",
       "\\item 'Naboo'\n",
       "\\item 'Coruscant'\n",
       "\\item 'Tatooine'\n",
       "\\end{enumerate*}\n",
       "\n",
       "\\end{description}\n",
       "\n",
       "\\item \\begin{description}\n",
       "\\item[\\$title] 'Attack of the Clones'\n",
       "\\item[\\$release\\_date] '2002-05-16'\n",
       "\\item[\\$planets] \\begin{enumerate*}\n",
       "\\item 'Naboo'\n",
       "\\item 'Coruscant'\n",
       "\\item 'Kamino'\n",
       "\\item 'Geonosis'\n",
       "\\item 'Tatooine'\n",
       "\\end{enumerate*}\n",
       "\n",
       "\\end{description}\n",
       "\n",
       "\\item \\begin{description}\n",
       "\\item[\\$title] 'Revenge of the Sith'\n",
       "\\item[\\$release\\_date] '2005-05-19'\n",
       "\\item[\\$planets] \\begin{enumerate*}\n",
       "\\item 'Alderaan'\n",
       "\\item 'Dagobah'\n",
       "\\item 'Naboo'\n",
       "\\item 'Coruscant'\n",
       "\\item 'Utapau'\n",
       "\\item 'Mustafar'\n",
       "\\item 'Kashyyyk'\n",
       "\\item 'Polis Massa'\n",
       "\\item 'Mygeeto'\n",
       "\\item 'Felucia'\n",
       "\\item 'Cato Neimoidia'\n",
       "\\item 'Saleucami'\n",
       "\\item 'Tatooine'\n",
       "\\end{enumerate*}\n",
       "\n",
       "\\end{description}\n",
       "\n",
       "\\item \\begin{description}\n",
       "\\item[\\$title] 'The Force Awakens'\n",
       "\\item[\\$release\\_date] '2015-12-11'\n",
       "\\item[\\$planets] 'Jakku'\n",
       "\\end{description}\n",
       "\n",
       "\\end{enumerate}\n"
      ],
      "text/markdown": [
       "1. $title\n",
       ":   'A New Hope'\n",
       "$release_date\n",
       ":   '1977-05-25'\n",
       "$planets\n",
       ":   1. 'Alderaan'\n",
       "2. 'Yavin IV'\n",
       "3. 'Tatooine'\n",
       "\n",
       "\n",
       "\n",
       "\n",
       "\n",
       "\n",
       "2. $title\n",
       ":   'The Empire Strikes Back'\n",
       "$release_date\n",
       ":   '1980-05-17'\n",
       "$planets\n",
       ":   1. 'Hoth'\n",
       "2. 'Dagobah'\n",
       "3. 'Bespin'\n",
       "4. 'Ord Mantell'\n",
       "\n",
       "\n",
       "\n",
       "\n",
       "\n",
       "\n",
       "3. $title\n",
       ":   'Return of the Jedi'\n",
       "$release_date\n",
       ":   '1983-05-25'\n",
       "$planets\n",
       ":   1. 'Dagobah'\n",
       "2. 'Endor'\n",
       "3. 'Naboo'\n",
       "4. 'Coruscant'\n",
       "5. 'Tatooine'\n",
       "\n",
       "\n",
       "\n",
       "\n",
       "\n",
       "\n",
       "4. $title\n",
       ":   'The Phantom Menace'\n",
       "$release_date\n",
       ":   '1999-05-19'\n",
       "$planets\n",
       ":   1. 'Naboo'\n",
       "2. 'Coruscant'\n",
       "3. 'Tatooine'\n",
       "\n",
       "\n",
       "\n",
       "\n",
       "\n",
       "\n",
       "5. $title\n",
       ":   'Attack of the Clones'\n",
       "$release_date\n",
       ":   '2002-05-16'\n",
       "$planets\n",
       ":   1. 'Naboo'\n",
       "2. 'Coruscant'\n",
       "3. 'Kamino'\n",
       "4. 'Geonosis'\n",
       "5. 'Tatooine'\n",
       "\n",
       "\n",
       "\n",
       "\n",
       "\n",
       "\n",
       "6. $title\n",
       ":   'Revenge of the Sith'\n",
       "$release_date\n",
       ":   '2005-05-19'\n",
       "$planets\n",
       ":   1. 'Alderaan'\n",
       "2. 'Dagobah'\n",
       "3. 'Naboo'\n",
       "4. 'Coruscant'\n",
       "5. 'Utapau'\n",
       "6. 'Mustafar'\n",
       "7. 'Kashyyyk'\n",
       "8. 'Polis Massa'\n",
       "9. 'Mygeeto'\n",
       "10. 'Felucia'\n",
       "11. 'Cato Neimoidia'\n",
       "12. 'Saleucami'\n",
       "13. 'Tatooine'\n",
       "\n",
       "\n",
       "\n",
       "\n",
       "\n",
       "\n",
       "7. $title\n",
       ":   'The Force Awakens'\n",
       "$release_date\n",
       ":   '2015-12-11'\n",
       "$planets\n",
       ":   'Jakku'\n",
       "\n",
       "\n",
       "\n",
       "\n",
       "\n"
      ],
      "text/plain": [
       "[[1]]\n",
       "[[1]]$title\n",
       "[1] \"A New Hope\"\n",
       "\n",
       "[[1]]$release_date\n",
       "[1] \"1977-05-25\"\n",
       "\n",
       "[[1]]$planets\n",
       "[1] \"Alderaan\" \"Yavin IV\" \"Tatooine\"\n",
       "\n",
       "\n",
       "[[2]]\n",
       "[[2]]$title\n",
       "[1] \"The Empire Strikes Back\"\n",
       "\n",
       "[[2]]$release_date\n",
       "[1] \"1980-05-17\"\n",
       "\n",
       "[[2]]$planets\n",
       "[1] \"Hoth\"        \"Dagobah\"     \"Bespin\"      \"Ord Mantell\"\n",
       "\n",
       "\n",
       "[[3]]\n",
       "[[3]]$title\n",
       "[1] \"Return of the Jedi\"\n",
       "\n",
       "[[3]]$release_date\n",
       "[1] \"1983-05-25\"\n",
       "\n",
       "[[3]]$planets\n",
       "[1] \"Dagobah\"   \"Endor\"     \"Naboo\"     \"Coruscant\" \"Tatooine\" \n",
       "\n",
       "\n",
       "[[4]]\n",
       "[[4]]$title\n",
       "[1] \"The Phantom Menace\"\n",
       "\n",
       "[[4]]$release_date\n",
       "[1] \"1999-05-19\"\n",
       "\n",
       "[[4]]$planets\n",
       "[1] \"Naboo\"     \"Coruscant\" \"Tatooine\" \n",
       "\n",
       "\n",
       "[[5]]\n",
       "[[5]]$title\n",
       "[1] \"Attack of the Clones\"\n",
       "\n",
       "[[5]]$release_date\n",
       "[1] \"2002-05-16\"\n",
       "\n",
       "[[5]]$planets\n",
       "[1] \"Naboo\"     \"Coruscant\" \"Kamino\"    \"Geonosis\"  \"Tatooine\" \n",
       "\n",
       "\n",
       "[[6]]\n",
       "[[6]]$title\n",
       "[1] \"Revenge of the Sith\"\n",
       "\n",
       "[[6]]$release_date\n",
       "[1] \"2005-05-19\"\n",
       "\n",
       "[[6]]$planets\n",
       " [1] \"Alderaan\"       \"Dagobah\"        \"Naboo\"          \"Coruscant\"     \n",
       " [5] \"Utapau\"         \"Mustafar\"       \"Kashyyyk\"       \"Polis Massa\"   \n",
       " [9] \"Mygeeto\"        \"Felucia\"        \"Cato Neimoidia\" \"Saleucami\"     \n",
       "[13] \"Tatooine\"      \n",
       "\n",
       "\n",
       "[[7]]\n",
       "[[7]]$title\n",
       "[1] \"The Force Awakens\"\n",
       "\n",
       "[[7]]$release_date\n",
       "[1] \"2015-12-11\"\n",
       "\n",
       "[[7]]$planets\n",
       "[1] \"Jakku\"\n",
       "\n"
      ]
     },
     "metadata": {},
     "output_type": "display_data"
    }
   ],
   "source": [
    "star_df"
   ]
  },
  {
   "cell_type": "code",
   "execution_count": 142,
   "id": "443237fa-d114-4591-add0-5a9d26a7140c",
   "metadata": {},
   "outputs": [
    {
     "data": {
      "text/html": [
       "<table class=\"dataframe\">\n",
       "<caption>A tibble: 7 × 1</caption>\n",
       "<thead>\n",
       "\t<tr><th scope=col>character</th></tr>\n",
       "\t<tr><th scope=col>&lt;list&gt;</th></tr>\n",
       "</thead>\n",
       "<tbody>\n",
       "\t<tr><td>A New Hope, 1977-05-25, Alderaan  , Yavin IV  , Tatooine  </td></tr>\n",
       "\t<tr><td>The Empire Strikes Back, 1980-05-17             , Hoth                   , Dagobah                , Bespin                 , Ord Mantell            </td></tr>\n",
       "\t<tr><td>Return of the Jedi, 1983-05-25        , Dagobah           , Endor             , Naboo             , Coruscant         , Tatooine          </td></tr>\n",
       "\t<tr><td>The Phantom Menace, 1999-05-19        , Naboo             , Coruscant         , Tatooine          </td></tr>\n",
       "\t<tr><td>Attack of the Clones, 2002-05-16          , Naboo               , Coruscant           , Kamino              , Geonosis            , Tatooine            </td></tr>\n",
       "\t<tr><td>Revenge of the Sith, 2005-05-19         , Alderaan           , Dagobah            , Naboo              , Coruscant          , Utapau             , Mustafar           , Kashyyyk           , Polis Massa        , Mygeeto            , Felucia            , Cato Neimoidia     , Saleucami          , Tatooine           </td></tr>\n",
       "\t<tr><td>The Force Awakens, 2015-12-11       , Jakku            </td></tr>\n",
       "</tbody>\n",
       "</table>\n"
      ],
      "text/latex": [
       "A tibble: 7 × 1\n",
       "\\begin{tabular}{l}\n",
       " character\\\\\n",
       " <list>\\\\\n",
       "\\hline\n",
       "\t A New Hope, 1977-05-25, Alderaan  , Yavin IV  , Tatooine  \\\\\n",
       "\t The Empire Strikes Back, 1980-05-17             , Hoth                   , Dagobah                , Bespin                 , Ord Mantell            \\\\\n",
       "\t Return of the Jedi, 1983-05-25        , Dagobah           , Endor             , Naboo             , Coruscant         , Tatooine          \\\\\n",
       "\t The Phantom Menace, 1999-05-19        , Naboo             , Coruscant         , Tatooine          \\\\\n",
       "\t Attack of the Clones, 2002-05-16          , Naboo               , Coruscant           , Kamino              , Geonosis            , Tatooine            \\\\\n",
       "\t Revenge of the Sith, 2005-05-19         , Alderaan           , Dagobah            , Naboo              , Coruscant          , Utapau             , Mustafar           , Kashyyyk           , Polis Massa        , Mygeeto            , Felucia            , Cato Neimoidia     , Saleucami          , Tatooine           \\\\\n",
       "\t The Force Awakens, 2015-12-11       , Jakku            \\\\\n",
       "\\end{tabular}\n"
      ],
      "text/markdown": [
       "\n",
       "A tibble: 7 × 1\n",
       "\n",
       "| character &lt;list&gt; |\n",
       "|---|\n",
       "| A New Hope, 1977-05-25, Alderaan  , Yavin IV  , Tatooine   |\n",
       "| The Empire Strikes Back, 1980-05-17             , Hoth                   , Dagobah                , Bespin                 , Ord Mantell             |\n",
       "| Return of the Jedi, 1983-05-25        , Dagobah           , Endor             , Naboo             , Coruscant         , Tatooine           |\n",
       "| The Phantom Menace, 1999-05-19        , Naboo             , Coruscant         , Tatooine           |\n",
       "| Attack of the Clones, 2002-05-16          , Naboo               , Coruscant           , Kamino              , Geonosis            , Tatooine             |\n",
       "| Revenge of the Sith, 2005-05-19         , Alderaan           , Dagobah            , Naboo              , Coruscant          , Utapau             , Mustafar           , Kashyyyk           , Polis Massa        , Mygeeto            , Felucia            , Cato Neimoidia     , Saleucami          , Tatooine            |\n",
       "| The Force Awakens, 2015-12-11       , Jakku             |\n",
       "\n"
      ],
      "text/plain": [
       "  character                                                                                                                                                                                                                                                                                                                \n",
       "1 A New Hope, 1977-05-25, Alderaan  , Yavin IV  , Tatooine                                                                                                                                                                                                                                                                 \n",
       "2 The Empire Strikes Back, 1980-05-17             , Hoth                   , Dagobah                , Bespin                 , Ord Mantell                                                                                                                                                                                 \n",
       "3 Return of the Jedi, 1983-05-25        , Dagobah           , Endor             , Naboo             , Coruscant         , Tatooine                                                                                                                                                                                         \n",
       "4 The Phantom Menace, 1999-05-19        , Naboo             , Coruscant         , Tatooine                                                                                                                                                                                                                                 \n",
       "5 Attack of the Clones, 2002-05-16          , Naboo               , Coruscant           , Kamino              , Geonosis            , Tatooine                                                                                                                                                                             \n",
       "6 Revenge of the Sith, 2005-05-19         , Alderaan           , Dagobah            , Naboo              , Coruscant          , Utapau             , Mustafar           , Kashyyyk           , Polis Massa        , Mygeeto            , Felucia            , Cato Neimoidia     , Saleucami          , Tatooine           \n",
       "7 The Force Awakens, 2015-12-11       , Jakku                                                                                                                                                                                                                                                                              "
      ]
     },
     "metadata": {},
     "output_type": "display_data"
    }
   ],
   "source": [
    "tibble(character = star_df)"
   ]
  },
  {
   "cell_type": "code",
   "execution_count": 141,
   "id": "060a01db-cf17-4b58-bdc9-66c57f8f3f15",
   "metadata": {},
   "outputs": [
    {
     "data": {
      "text/html": [
       "<table class=\"dataframe\">\n",
       "<caption>A tibble: 7 × 3</caption>\n",
       "<thead>\n",
       "\t<tr><th scope=col>title</th><th scope=col>release_date</th><th scope=col>planets</th></tr>\n",
       "\t<tr><th scope=col>&lt;chr&gt;</th><th scope=col>&lt;chr&gt;</th><th scope=col>&lt;list&gt;</th></tr>\n",
       "</thead>\n",
       "<tbody>\n",
       "\t<tr><td>A New Hope             </td><td>1977-05-25</td><td>Alderaan, Yavin IV, Tatooine</td></tr>\n",
       "\t<tr><td>The Empire Strikes Back</td><td>1980-05-17</td><td>Hoth       , Dagobah    , Bespin     , Ord Mantell</td></tr>\n",
       "\t<tr><td>Return of the Jedi     </td><td>1983-05-25</td><td>Dagobah  , Endor    , Naboo    , Coruscant, Tatooine </td></tr>\n",
       "\t<tr><td>The Phantom Menace     </td><td>1999-05-19</td><td>Naboo    , Coruscant, Tatooine </td></tr>\n",
       "\t<tr><td>Attack of the Clones   </td><td>2002-05-16</td><td>Naboo    , Coruscant, Kamino   , Geonosis , Tatooine </td></tr>\n",
       "\t<tr><td>Revenge of the Sith    </td><td>2005-05-19</td><td>Alderaan      , Dagobah       , Naboo         , Coruscant     , Utapau        , Mustafar      , Kashyyyk      , Polis Massa   , Mygeeto       , Felucia       , Cato Neimoidia, Saleucami     , Tatooine      </td></tr>\n",
       "\t<tr><td>The Force Awakens      </td><td>2015-12-11</td><td>Jakku</td></tr>\n",
       "</tbody>\n",
       "</table>\n"
      ],
      "text/latex": [
       "A tibble: 7 × 3\n",
       "\\begin{tabular}{lll}\n",
       " title & release\\_date & planets\\\\\n",
       " <chr> & <chr> & <list>\\\\\n",
       "\\hline\n",
       "\t A New Hope              & 1977-05-25 & Alderaan, Yavin IV, Tatooine\\\\\n",
       "\t The Empire Strikes Back & 1980-05-17 & Hoth       , Dagobah    , Bespin     , Ord Mantell\\\\\n",
       "\t Return of the Jedi      & 1983-05-25 & Dagobah  , Endor    , Naboo    , Coruscant, Tatooine \\\\\n",
       "\t The Phantom Menace      & 1999-05-19 & Naboo    , Coruscant, Tatooine \\\\\n",
       "\t Attack of the Clones    & 2002-05-16 & Naboo    , Coruscant, Kamino   , Geonosis , Tatooine \\\\\n",
       "\t Revenge of the Sith     & 2005-05-19 & Alderaan      , Dagobah       , Naboo         , Coruscant     , Utapau        , Mustafar      , Kashyyyk      , Polis Massa   , Mygeeto       , Felucia       , Cato Neimoidia, Saleucami     , Tatooine      \\\\\n",
       "\t The Force Awakens       & 2015-12-11 & Jakku\\\\\n",
       "\\end{tabular}\n"
      ],
      "text/markdown": [
       "\n",
       "A tibble: 7 × 3\n",
       "\n",
       "| title &lt;chr&gt; | release_date &lt;chr&gt; | planets &lt;list&gt; |\n",
       "|---|---|---|\n",
       "| A New Hope              | 1977-05-25 | Alderaan, Yavin IV, Tatooine |\n",
       "| The Empire Strikes Back | 1980-05-17 | Hoth       , Dagobah    , Bespin     , Ord Mantell |\n",
       "| Return of the Jedi      | 1983-05-25 | Dagobah  , Endor    , Naboo    , Coruscant, Tatooine  |\n",
       "| The Phantom Menace      | 1999-05-19 | Naboo    , Coruscant, Tatooine  |\n",
       "| Attack of the Clones    | 2002-05-16 | Naboo    , Coruscant, Kamino   , Geonosis , Tatooine  |\n",
       "| Revenge of the Sith     | 2005-05-19 | Alderaan      , Dagobah       , Naboo         , Coruscant     , Utapau        , Mustafar      , Kashyyyk      , Polis Massa   , Mygeeto       , Felucia       , Cato Neimoidia, Saleucami     , Tatooine       |\n",
       "| The Force Awakens       | 2015-12-11 | Jakku |\n",
       "\n"
      ],
      "text/plain": [
       "  title                   release_date\n",
       "1 A New Hope              1977-05-25  \n",
       "2 The Empire Strikes Back 1980-05-17  \n",
       "3 Return of the Jedi      1983-05-25  \n",
       "4 The Phantom Menace      1999-05-19  \n",
       "5 Attack of the Clones    2002-05-16  \n",
       "6 Revenge of the Sith     2005-05-19  \n",
       "7 The Force Awakens       2015-12-11  \n",
       "  planets                                                                                                                                                                                                       \n",
       "1 Alderaan, Yavin IV, Tatooine                                                                                                                                                                                  \n",
       "2 Hoth       , Dagobah    , Bespin     , Ord Mantell                                                                                                                                                            \n",
       "3 Dagobah  , Endor    , Naboo    , Coruscant, Tatooine                                                                                                                                                          \n",
       "4 Naboo    , Coruscant, Tatooine                                                                                                                                                                                \n",
       "5 Naboo    , Coruscant, Kamino   , Geonosis , Tatooine                                                                                                                                                          \n",
       "6 Alderaan      , Dagobah       , Naboo         , Coruscant     , Utapau        , Mustafar      , Kashyyyk      , Polis Massa   , Mygeeto       , Felucia       , Cato Neimoidia, Saleucami     , Tatooine      \n",
       "7 Jakku                                                                                                                                                                                                         "
      ]
     },
     "metadata": {},
     "output_type": "display_data"
    }
   ],
   "source": [
    "tibble(character = star_df) %>% \n",
    "  unnest_wider(character)"
   ]
  },
  {
   "cell_type": "markdown",
   "id": "b7dbc743-b823-4d48-8bfc-bf860e336ba0",
   "metadata": {},
   "source": [
    "☝️ Note that `planets` is still a list that we need to unnest but we want to keep its content in one column!"
   ]
  },
  {
   "cell_type": "code",
   "execution_count": 145,
   "id": "44db54d7-040a-4702-8fa9-9c61e287c82d",
   "metadata": {},
   "outputs": [
    {
     "data": {
      "text/html": [
       "<table class=\"dataframe\">\n",
       "<caption>A tibble: 6 × 3</caption>\n",
       "<thead>\n",
       "\t<tr><th scope=col>title</th><th scope=col>release_date</th><th scope=col>planets</th></tr>\n",
       "\t<tr><th scope=col>&lt;chr&gt;</th><th scope=col>&lt;chr&gt;</th><th scope=col>&lt;chr&gt;</th></tr>\n",
       "</thead>\n",
       "<tbody>\n",
       "\t<tr><td>A New Hope             </td><td>1977-05-25</td><td>Alderaan</td></tr>\n",
       "\t<tr><td>A New Hope             </td><td>1977-05-25</td><td>Yavin IV</td></tr>\n",
       "\t<tr><td>A New Hope             </td><td>1977-05-25</td><td>Tatooine</td></tr>\n",
       "\t<tr><td>The Empire Strikes Back</td><td>1980-05-17</td><td>Hoth    </td></tr>\n",
       "\t<tr><td>The Empire Strikes Back</td><td>1980-05-17</td><td>Dagobah </td></tr>\n",
       "\t<tr><td>The Empire Strikes Back</td><td>1980-05-17</td><td>Bespin  </td></tr>\n",
       "</tbody>\n",
       "</table>\n"
      ],
      "text/latex": [
       "A tibble: 6 × 3\n",
       "\\begin{tabular}{lll}\n",
       " title & release\\_date & planets\\\\\n",
       " <chr> & <chr> & <chr>\\\\\n",
       "\\hline\n",
       "\t A New Hope              & 1977-05-25 & Alderaan\\\\\n",
       "\t A New Hope              & 1977-05-25 & Yavin IV\\\\\n",
       "\t A New Hope              & 1977-05-25 & Tatooine\\\\\n",
       "\t The Empire Strikes Back & 1980-05-17 & Hoth    \\\\\n",
       "\t The Empire Strikes Back & 1980-05-17 & Dagobah \\\\\n",
       "\t The Empire Strikes Back & 1980-05-17 & Bespin  \\\\\n",
       "\\end{tabular}\n"
      ],
      "text/markdown": [
       "\n",
       "A tibble: 6 × 3\n",
       "\n",
       "| title &lt;chr&gt; | release_date &lt;chr&gt; | planets &lt;chr&gt; |\n",
       "|---|---|---|\n",
       "| A New Hope              | 1977-05-25 | Alderaan |\n",
       "| A New Hope              | 1977-05-25 | Yavin IV |\n",
       "| A New Hope              | 1977-05-25 | Tatooine |\n",
       "| The Empire Strikes Back | 1980-05-17 | Hoth     |\n",
       "| The Empire Strikes Back | 1980-05-17 | Dagobah  |\n",
       "| The Empire Strikes Back | 1980-05-17 | Bespin   |\n",
       "\n"
      ],
      "text/plain": [
       "  title                   release_date planets \n",
       "1 A New Hope              1977-05-25   Alderaan\n",
       "2 A New Hope              1977-05-25   Yavin IV\n",
       "3 A New Hope              1977-05-25   Tatooine\n",
       "4 The Empire Strikes Back 1980-05-17   Hoth    \n",
       "5 The Empire Strikes Back 1980-05-17   Dagobah \n",
       "6 The Empire Strikes Back 1980-05-17   Bespin  "
      ]
     },
     "metadata": {},
     "output_type": "display_data"
    }
   ],
   "source": [
    "tibble(character = star_df) %>% \n",
    "  unnest_wider(character) %>% \n",
    "  unnest_longer(planets) %>% \n",
    "  head()"
   ]
  },
  {
   "cell_type": "markdown",
   "id": "ae640ef7-b0d3-4277-b601-99c96f9d6c74",
   "metadata": {},
   "source": [
    "For more complex lists we may need to unnest over several columns. In the below example, after the first unnesting operation, we see that the rightmost column, `lessons`, is a list column too. However, the lists inside this column are **unnamed lists** and their length varies from three to four. These are signals that we should try using the `unnest_longer(`) function to spread the lesson lists over multiple observations.\n",
    "\n",
    "<div style=\"text-align:center;\">\n",
    "  <img src=\"images/reshape_25.png\" width = \"500\" align=\"center\">\n",
    "</div>\n",
    "\n",
    "When we do so, we get 14 observations, one for each lesson in this course. The lessons column is still there as it turned out to be a list of **named lists**. If you are a bit confused at this point, don't worry. Lists columns tend to do that to you. Since the unnested lessons column now contains named lists of equal length, we try the `unnest_wider()` function on it.\n",
    "\n",
    "<div style=\"text-align:center;\">\n",
    "  <img src=\"images/reshape_26.png\" width = \"500\" align=\"center\">\n",
    "</div>\n",
    "\n",
    "For each lesson, we now have an `id`, a `title`, and a list of the exercises it contains. We can keep digging deeper by unnesting the exercises over multiple observations with `unnest_longer()`. Note that we used `dplyr's` `select()` function to sub-selected just three columns to keep an overview. We now have 41 observations, one for each exercise in this course.\n",
    "\n",
    "<div style=\"text-align:center;\">\n",
    "  <img src=\"images/reshape_27.png\" width = \"500\" align=\"center\">\n",
    "</div>\n"
   ]
  },
  {
   "cell_type": "markdown",
   "id": "fd03196b-d6b2-40ad-9668-50e538ecc232",
   "metadata": {},
   "source": [
    "<a name=\"toc_041001_4.2\"></a>\n",
    "**4.2 Selecting nested variables**\n",
    "\n",
    "You may not need the data in all the columns you are unnesting, maybe you want to select just a few variables from different layers.\n",
    "\n",
    "Let's look at a deeply-nested real-world example with JSON data from the Google Maps API. At the top level we have a data frame with city names which we requested location data for, and the JSON response that we got from the API.\n",
    "\n",
    "<div style=\"text-align:center;\">\n",
    "  <img src=\"images/reshape_33.png\" width = \"250\" align=\"center\">\n",
    "</div>\n",
    "\n",
    "Using our old approach, we can unnest this JSON data a first time to find another list column. We can keep unnesting this data but as we can see below, the number of columns to keep track of keeps increasing too.\n",
    "\n",
    "<div style=\"text-align:center;\">\n",
    "  <img src=\"images/reshape_34.png\" width = \"550\" align=\"center\">\n",
    "</div>\n",
    "\n",
    "Eventually we might just be interested in the coordinates of each city, if we unnest the `geometry` and `location` list columns we can finally access that data. It takes us five unnesting operations and one `select()` call to get this result.\n",
    "\n",
    "<div style=\"text-align:center;\">\n",
    "  <img src=\"images/reshape_32.png\" width = \"550\" align=\"center\">\n",
    "</div>\n",
    "\n",
    "Alternatively, we could use `hoist()` to dig into this deeply nested structure directly. We look for elements in the json list column, then select the results list, within this list we select the first element since there only was one, then we select the `geometry` list, the `location list`, and finally either the `latitud` or `longitude` variables. Accessing unnested data this way is more efficient computationally and has a shorter syntax, but it does require you to know the structure of your data perfectly.\n",
    "\n",
    "<div style=\"text-align:center;\">\n",
    "  <img src=\"images/reshape_35.png\" width = \"400\" align=\"center\">\n",
    "</div>"
   ]
  },
  {
   "cell_type": "markdown",
   "id": "cf428fb1-0658-42b2-a9e8-ac0b4a85c529",
   "metadata": {},
   "source": [
    "<a name=\"toc_041001_4.3\"></a>\n",
    "**4.3 Nesting data for modeling**\n",
    "\n",
    "Sometimes nested data and the rectangular format can go hand in hand and make your analysis more elegant.\n",
    "\n",
    "Let's illustrate this with an example. You're looking at a data sample with the numbers of participants and the number of medals won by the USA at the summer and winter Olympics.\n",
    "\n",
    "<div style=\"text-align:center;\">\n",
    "  <img src=\"images/reshape_36.png\" width = \"400\" align=\"center\">\n",
    "</div>\n",
    "\n",
    "When we plot this data, we see a positive correlation, the USA wins more medals when more USA athletes participate.\n",
    "\n",
    "<div style=\"text-align:center;\">\n",
    "  <img src=\"images/reshape_37.png\" width = \"450\" align=\"center\">\n",
    "</div>\n",
    "\n",
    "Let's say we want to model this pattern, we can use a linear model using the `lm()` function and specify we want to explain the variance in `n_medals` based on `n_participants` plus an intercept of zero, since we know that you'll win zero medals if you don't participate. Don't worry if you're new to modeling, we're just interested in the model output which looks like this. It found a coefficient of 0.463, meaning that for every participant, the USA wins almost half a medal on average. Note that this output is not in a tidy format.\n",
    "\n",
    "<div style=\"text-align:center;\">\n",
    "  <img src=\"images/reshape_38.png\" width = \"500\" align=\"center\">\n",
    "</div>\n",
    "\n",
    "It gets worse when we call the `summary()` function on the fitted model. We now get a confusing overview with a lot of text mixed with numbers.\n",
    "\n",
    "<div style=\"text-align:center;\">\n",
    "  <img src=\"images/reshape_39.png\" width = \"500\" align=\"center\">\n",
    "</div>\n",
    "\n",
    "This problem can be solved using the `broom` package. Its mission is to turn messy outputs of built-in R functions into tidy tibbles. When we use its `glance()` function on the model, we get a tibble with the model performance statistics. When we use its `tidy()` function, we get an overview of the coefficients estimated by the model, it's just one row in this case and we recognize our earlier result of 0.463.\n",
    "\n",
    "<div style=\"text-align:center;\">\n",
    "  <img src=\"images/reshape_40.png\" width = \"500\" align=\"center\">\n",
    "</div>\n",
    "\n",
    "Now let's see how we can plug this trick into a pipeline to train multiple models using nested data. The `nest()` function will nest a subset of a data frame based on some grouping variable, country, in this case. The result is a list column, data, that has tibbles inside.\n",
    "\n",
    "<div style=\"text-align:center;\">\n",
    "  <img src=\"images/reshape_41.png\" width = \"200\" align=\"center\">\n",
    "</div>\n",
    "\n",
    "We can now use the `map()` function from the `purrr`package to apply a function to each tibble individually. We tell `map()` to iterate over the data column and to apply a function that fits a linear model on each nested tibble. The result is that we now have a new list column named fit with the fitted linear model.\n",
    "\n",
    "<div style=\"text-align:center;\">\n",
    "  <img src=\"images/reshape_42.png\" width = \"550\" align=\"center\">\n",
    "</div>\n",
    "\n",
    "Using `map()` function once more, we can apply `glance()` function on this fitted model. This output too gets added to a list column which we named glanced.\n",
    "\n",
    "<div style=\"text-align:center;\">\n",
    "  <img src=\"images/reshape_43.png\" width = \"550\" align=\"center\">\n",
    "</div>\n",
    "\n",
    "The magic happens when we now unnest our model results using `unnest()` function on the glanced column. We get a tidy overview of the model metrics.\n",
    "\n",
    "<div style=\"text-align:center;\">\n",
    "  <img src=\"images/reshape_44.png\" width = \"550\" align=\"center\">\n",
    "</div>\n",
    "\n",
    "We can do the same thing for `broom::tidy()` function if we want to inspect the estimated coefficients and more. Let's review what we're doing here. We specify a variable to group by, nest the groups, apply different functions on the nested data using the `map()` function, and then unnest the results.\n",
    "\n",
    "<div style=\"text-align:center;\">\n",
    "  <img src=\"images/reshape_45.png\" width = \"550\" align=\"center\">\n",
    "</div>\n",
    "\n",
    "If we now want to create more than one model, all we have to do is add a grouping variable at the start. Here, we've added the season variable to create models for both the winter and summer Olympics. The output remains tidy and it's easy to compare models.\n",
    "\n",
    "<div style=\"text-align:center;\">\n",
    "  <img src=\"images/reshape_46.png\" width = \"550\" align=\"center\">\n",
    "</div>"
   ]
  }
 ],
 "metadata": {
  "kernelspec": {
   "display_name": "R",
   "language": "R",
   "name": "ir"
  },
  "language_info": {
   "codemirror_mode": "r",
   "file_extension": ".r",
   "mimetype": "text/x-r-source",
   "name": "R",
   "pygments_lexer": "r",
   "version": "4.1.3"
  }
 },
 "nbformat": 4,
 "nbformat_minor": 5
}
