{
 "cells": [
  {
   "cell_type": "markdown",
   "id": "646b474f-58a4-4ec9-9662-ca5d791a4541",
   "metadata": {},
   "source": [
    "# Data Manipulation and Joining with dplyr\n",
    "## -- DataCamp - Data Analyst Career Track - Course 3 - 4 --\n",
    "\n",
    " **Note**\n",
    " This Notebook contains information from two Datacamp courses:\n",
    " - Data Manipulation with dplyr\n",
    " - Joining with dplyr\n",
    " \n",
    " To use this code, select the R environment in Anaconda\n",
    " \n",
    " **Used packages**\n",
    " - tidyverse\n",
    " - stringr\n",
    " \n",
    "**Table of content**\n",
    "- [&nbsp;&nbsp;1. Simple data wrangling ](#toc_54826_1)\n",
    "- [&nbsp;&nbsp;2. Aggregating Data](#toc_54826_2)\n",
    "- [&nbsp;&nbsp;3. Advanced selection techniques](#toc_54826_3)\n",
    "- [&nbsp;&nbsp;4. Advanced filtering techniques](#toc_54826_4)\n",
    "- [&nbsp;&nbsp;5. Advanced variable manipulation](#toc_54826_5)\n",
    "- [&nbsp;&nbsp;6. Joining data](#toc_54826_6)\n",
    "    - [&nbsp;&nbsp;6.1 bind_rows](#toc_54826_6.1)\n",
    "    - [&nbsp;&nbsp;6.2 inner_join](#toc_54826_6.2)\n",
    "    - [&nbsp;&nbsp;6.3 left_join](#toc_54826_6.3)\n",
    "    - [&nbsp;&nbsp;6.4 right_join](#toc_54826_6.4)\n",
    "    - [&nbsp;&nbsp;6.5 full_join](#toc_54826_6.5)\n",
    "    - [&nbsp;&nbsp;6.6 semi_join](#toc_54826_6.6)\n",
    "    - [&nbsp;&nbsp;6.7 anti_join](#toc_54826_6.7)\n",
    "    - [&nbsp;&nbsp;6.8 Joining tables to themselves](#toc_54826_6.8)\n",
    "    - [&nbsp;&nbsp;6.8 Visualizing set differences](#toc_54826_6.9)\n",
    "- [&nbsp;&nbsp;7. magrittr pipeable operator replacements](#toc_54826_7)"
   ]
  },
  {
   "cell_type": "markdown",
   "id": "dc070e24-8ae7-4cf9-ab07-8a1fb6734fa9",
   "metadata": {},
   "source": [
    "**Set environment and plot size**"
   ]
  },
  {
   "cell_type": "code",
   "execution_count": 2,
   "id": "782bfc28-ff37-4d97-8129-5cb693c8f1d8",
   "metadata": {},
   "outputs": [],
   "source": [
    "suppressMessages(library(tidyverse))\n",
    "suppressMessages(library(stringr))\n",
    "options(repr.plot.width=6, repr.plot.height=6)\n",
    "theme_set(theme_grey(base_size =10))"
   ]
  },
  {
   "cell_type": "markdown",
   "id": "dacd432f-0b09-48e5-a490-709764ccdc95",
   "metadata": {},
   "source": [
    "Note: if the above code return an error message:\n",
    "- Check that the correct R environment is selected in Anaconda\n",
    "- Restart computer\n"
   ]
  },
  {
   "cell_type": "markdown",
   "id": "d54b2fb5-b40a-4319-8349-87212c5a961e",
   "metadata": {},
   "source": [
    "**Import data**"
   ]
  },
  {
   "cell_type": "code",
   "execution_count": 6,
   "id": "e2b3113e-328a-4f5d-9b0a-6ee7b8f2f15a",
   "metadata": {},
   "outputs": [],
   "source": [
    "baby <- readRDS(\"data/babynames.rds\")\n",
    "usa <- readRDS(\"data/counties.rds\")"
   ]
  },
  {
   "cell_type": "markdown",
   "id": "ab8f1bf4-0748-4e5d-b9c2-309dceb23f27",
   "metadata": {},
   "source": [
    "<a name=\"toc_54826_1\"></a>\n",
    "## 1.   Simple data wrangling \n",
    "\n",
    "Most common dplyr verbs: \n",
    "- `select()` \n",
    "- `filter()`\n",
    "- `mutate()`\n",
    "- `arrange()`"
   ]
  },
  {
   "cell_type": "code",
   "execution_count": 42,
   "id": "2d828119-aa1d-4741-988f-8d4505b57cd8",
   "metadata": {},
   "outputs": [
    {
     "data": {
      "text/html": [
       "<table class=\"dataframe\">\n",
       "<caption>A tibble: 5 × 5</caption>\n",
       "<thead>\n",
       "\t<tr><th scope=col>state</th><th scope=col>county</th><th scope=col>population</th><th scope=col>unemployment</th><th scope=col>unemployed_pop</th></tr>\n",
       "\t<tr><th scope=col>&lt;chr&gt;</th><th scope=col>&lt;chr&gt;</th><th scope=col>&lt;dbl&gt;</th><th scope=col>&lt;dbl&gt;</th><th scope=col>&lt;dbl&gt;</th></tr>\n",
       "</thead>\n",
       "<tbody>\n",
       "\t<tr><td>New York</td><td>Tompkins  </td><td>103855</td><td>5.9</td><td>6127.445</td></tr>\n",
       "\t<tr><td>New York</td><td>Chemung   </td><td> 88267</td><td>5.4</td><td>4766.418</td></tr>\n",
       "\t<tr><td>New York</td><td>Madison   </td><td> 72427</td><td>5.1</td><td>3693.777</td></tr>\n",
       "\t<tr><td>New York</td><td>Livingston</td><td> 64801</td><td>5.4</td><td>3499.254</td></tr>\n",
       "\t<tr><td>New York</td><td>Seneca    </td><td> 35144</td><td>5.5</td><td>1932.920</td></tr>\n",
       "</tbody>\n",
       "</table>\n"
      ],
      "text/latex": [
       "A tibble: 5 × 5\n",
       "\\begin{tabular}{lllll}\n",
       " state & county & population & unemployment & unemployed\\_pop\\\\\n",
       " <chr> & <chr> & <dbl> & <dbl> & <dbl>\\\\\n",
       "\\hline\n",
       "\t New York & Tompkins   & 103855 & 5.9 & 6127.445\\\\\n",
       "\t New York & Chemung    &  88267 & 5.4 & 4766.418\\\\\n",
       "\t New York & Madison    &  72427 & 5.1 & 3693.777\\\\\n",
       "\t New York & Livingston &  64801 & 5.4 & 3499.254\\\\\n",
       "\t New York & Seneca     &  35144 & 5.5 & 1932.920\\\\\n",
       "\\end{tabular}\n"
      ],
      "text/markdown": [
       "\n",
       "A tibble: 5 × 5\n",
       "\n",
       "| state &lt;chr&gt; | county &lt;chr&gt; | population &lt;dbl&gt; | unemployment &lt;dbl&gt; | unemployed_pop &lt;dbl&gt; |\n",
       "|---|---|---|---|---|\n",
       "| New York | Tompkins   | 103855 | 5.9 | 6127.445 |\n",
       "| New York | Chemung    |  88267 | 5.4 | 4766.418 |\n",
       "| New York | Madison    |  72427 | 5.1 | 3693.777 |\n",
       "| New York | Livingston |  64801 | 5.4 | 3499.254 |\n",
       "| New York | Seneca     |  35144 | 5.5 | 1932.920 |\n",
       "\n"
      ],
      "text/plain": [
       "  state    county     population unemployment unemployed_pop\n",
       "1 New York Tompkins   103855     5.9          6127.445      \n",
       "2 New York Chemung     88267     5.4          4766.418      \n",
       "3 New York Madison     72427     5.1          3693.777      \n",
       "4 New York Livingston  64801     5.4          3499.254      \n",
       "5 New York Seneca      35144     5.5          1932.920      "
      ]
     },
     "metadata": {},
     "output_type": "display_data"
    }
   ],
   "source": [
    "# \n",
    "usafilt <- usa %>%\n",
    "  select(state, county, population, unemployment) %>%\n",
    "  filter(state == \"New York\", unemployment < 6)  %>%\n",
    "  mutate(unemployed_pop = population * unemployment / 100)  %>%\n",
    "  arrange(desc(population))\n",
    "\n",
    "usafilt"
   ]
  },
  {
   "cell_type": "code",
   "execution_count": 43,
   "id": "67547825-1d64-4b07-8510-aecdabcadf08",
   "metadata": {},
   "outputs": [
    {
     "data": {
      "text/html": [
       "<table class=\"dataframe\">\n",
       "<caption>A tibble: 2 × 5</caption>\n",
       "<thead>\n",
       "\t<tr><th scope=col>state</th><th scope=col>county</th><th scope=col>population</th><th scope=col>unemployment</th><th scope=col>unemployed_pop</th></tr>\n",
       "\t<tr><th scope=col>&lt;chr&gt;</th><th scope=col>&lt;chr&gt;</th><th scope=col>&lt;dbl&gt;</th><th scope=col>&lt;dbl&gt;</th><th scope=col>&lt;dbl&gt;</th></tr>\n",
       "</thead>\n",
       "<tbody>\n",
       "\t<tr><td>New York</td><td>Tompkins</td><td>103855</td><td>5.9</td><td>6127.445</td></tr>\n",
       "\t<tr><td>New York</td><td>Chemung </td><td> 88267</td><td>5.4</td><td>4766.418</td></tr>\n",
       "</tbody>\n",
       "</table>\n"
      ],
      "text/latex": [
       "A tibble: 2 × 5\n",
       "\\begin{tabular}{lllll}\n",
       " state & county & population & unemployment & unemployed\\_pop\\\\\n",
       " <chr> & <chr> & <dbl> & <dbl> & <dbl>\\\\\n",
       "\\hline\n",
       "\t New York & Tompkins & 103855 & 5.9 & 6127.445\\\\\n",
       "\t New York & Chemung  &  88267 & 5.4 & 4766.418\\\\\n",
       "\\end{tabular}\n"
      ],
      "text/markdown": [
       "\n",
       "A tibble: 2 × 5\n",
       "\n",
       "| state &lt;chr&gt; | county &lt;chr&gt; | population &lt;dbl&gt; | unemployment &lt;dbl&gt; | unemployed_pop &lt;dbl&gt; |\n",
       "|---|---|---|---|---|\n",
       "| New York | Tompkins | 103855 | 5.9 | 6127.445 |\n",
       "| New York | Chemung  |  88267 | 5.4 | 4766.418 |\n",
       "\n"
      ],
      "text/plain": [
       "  state    county   population unemployment unemployed_pop\n",
       "1 New York Tompkins 103855     5.9          6127.445      \n",
       "2 New York Chemung   88267     5.4          4766.418      "
      ]
     },
     "metadata": {},
     "output_type": "display_data"
    },
    {
     "data": {
      "text/html": [
       "<table class=\"dataframe\">\n",
       "<caption>A tibble: 4 × 4</caption>\n",
       "<thead>\n",
       "\t<tr><th scope=col>state</th><th scope=col>county</th><th scope=col>population</th><th scope=col>unemployment</th></tr>\n",
       "\t<tr><th scope=col>&lt;chr&gt;</th><th scope=col>&lt;chr&gt;</th><th scope=col>&lt;dbl&gt;</th><th scope=col>&lt;dbl&gt;</th></tr>\n",
       "</thead>\n",
       "<tbody>\n",
       "\t<tr><td>New York  </td><td>Chemung   </td><td>88267</td><td>5.4</td></tr>\n",
       "\t<tr><td>New York  </td><td>Livingston</td><td>64801</td><td>5.4</td></tr>\n",
       "\t<tr><td>New York  </td><td>Madison   </td><td>72427</td><td>5.1</td></tr>\n",
       "\t<tr><td>Washington</td><td>Lincoln   </td><td>10363</td><td>4.8</td></tr>\n",
       "</tbody>\n",
       "</table>\n"
      ],
      "text/latex": [
       "A tibble: 4 × 4\n",
       "\\begin{tabular}{llll}\n",
       " state & county & population & unemployment\\\\\n",
       " <chr> & <chr> & <dbl> & <dbl>\\\\\n",
       "\\hline\n",
       "\t New York   & Chemung    & 88267 & 5.4\\\\\n",
       "\t New York   & Livingston & 64801 & 5.4\\\\\n",
       "\t New York   & Madison    & 72427 & 5.1\\\\\n",
       "\t Washington & Lincoln    & 10363 & 4.8\\\\\n",
       "\\end{tabular}\n"
      ],
      "text/markdown": [
       "\n",
       "A tibble: 4 × 4\n",
       "\n",
       "| state &lt;chr&gt; | county &lt;chr&gt; | population &lt;dbl&gt; | unemployment &lt;dbl&gt; |\n",
       "|---|---|---|---|\n",
       "| New York   | Chemung    | 88267 | 5.4 |\n",
       "| New York   | Livingston | 64801 | 5.4 |\n",
       "| New York   | Madison    | 72427 | 5.1 |\n",
       "| Washington | Lincoln    | 10363 | 4.8 |\n",
       "\n"
      ],
      "text/plain": [
       "  state      county     population unemployment\n",
       "1 New York   Chemung    88267      5.4         \n",
       "2 New York   Livingston 64801      5.4         \n",
       "3 New York   Madison    72427      5.1         \n",
       "4 Washington Lincoln    10363      4.8         "
      ]
     },
     "metadata": {},
     "output_type": "display_data"
    }
   ],
   "source": [
    "# More filtering:\n",
    "usafilt %>%\n",
    " filter(county != \"Madison\", population > 64801)  # also, when using !=, use | instead of & if needed\n",
    "\n",
    "usa %>%\n",
    " select(state, county, population, unemployment) %>%\n",
    " filter(state %in% c(\"New York\", \"Washington\"), unemployment < 5.5)"
   ]
  },
  {
   "cell_type": "markdown",
   "id": "85e1a12a-d44c-4ad1-a422-86e3962fbcf4",
   "metadata": {},
   "source": [
    "<a name=\"toc_54826_2\"></a>\n",
    "## 2.   Aggregating data\n",
    "\n",
    "Usefult verbs:\n",
    "- `count()` - we can add `sort` and `weigh` arguments\n",
    "- `group_by()`\n",
    "- `summarize()` \n",
    "    - arguments: `sum()`,`mean()`,`median()`,`min()`,`max()`,`n()`\n",
    "- `slice_min()`, `slice_max()`, `slice_head()`, `slice_tail()` - extracts the most extreme observations\n",
    "- `distinct()` - Select distinct/unique rows"
   ]
  },
  {
   "cell_type": "code",
   "execution_count": 47,
   "id": "8a7a18d3-efe7-450c-a89e-813f59a252e9",
   "metadata": {},
   "outputs": [
    {
     "data": {
      "text/html": [
       "<table class=\"dataframe\">\n",
       "<caption>A tibble: 6 × 2</caption>\n",
       "<thead>\n",
       "\t<tr><th scope=col>state</th><th scope=col>n</th></tr>\n",
       "\t<tr><th scope=col>&lt;chr&gt;</th><th scope=col>&lt;int&gt;</th></tr>\n",
       "</thead>\n",
       "<tbody>\n",
       "\t<tr><td>Texas   </td><td>253</td></tr>\n",
       "\t<tr><td>Georgia </td><td>159</td></tr>\n",
       "\t<tr><td>Virginia</td><td>133</td></tr>\n",
       "\t<tr><td>Kentucky</td><td>120</td></tr>\n",
       "\t<tr><td>Missouri</td><td>115</td></tr>\n",
       "\t<tr><td>Kansas  </td><td>105</td></tr>\n",
       "</tbody>\n",
       "</table>\n"
      ],
      "text/latex": [
       "A tibble: 6 × 2\n",
       "\\begin{tabular}{ll}\n",
       " state & n\\\\\n",
       " <chr> & <int>\\\\\n",
       "\\hline\n",
       "\t Texas    & 253\\\\\n",
       "\t Georgia  & 159\\\\\n",
       "\t Virginia & 133\\\\\n",
       "\t Kentucky & 120\\\\\n",
       "\t Missouri & 115\\\\\n",
       "\t Kansas   & 105\\\\\n",
       "\\end{tabular}\n"
      ],
      "text/markdown": [
       "\n",
       "A tibble: 6 × 2\n",
       "\n",
       "| state &lt;chr&gt; | n &lt;int&gt; |\n",
       "|---|---|\n",
       "| Texas    | 253 |\n",
       "| Georgia  | 159 |\n",
       "| Virginia | 133 |\n",
       "| Kentucky | 120 |\n",
       "| Missouri | 115 |\n",
       "| Kansas   | 105 |\n",
       "\n"
      ],
      "text/plain": [
       "  state    n  \n",
       "1 Texas    253\n",
       "2 Georgia  159\n",
       "3 Virginia 133\n",
       "4 Kentucky 120\n",
       "5 Missouri 115\n",
       "6 Kansas   105"
      ]
     },
     "metadata": {},
     "output_type": "display_data"
    }
   ],
   "source": [
    "usa  %>%\n",
    "  count(state, sort = TRUE) %>%\n",
    "  head()"
   ]
  },
  {
   "cell_type": "code",
   "execution_count": 50,
   "id": "0742fd14-5cba-4e26-b616-58a9f3e4412e",
   "metadata": {},
   "outputs": [
    {
     "data": {
      "text/html": [
       "<table class=\"dataframe\">\n",
       "<caption>A tibble: 6 × 2</caption>\n",
       "<thead>\n",
       "\t<tr><th scope=col>state</th><th scope=col>n</th></tr>\n",
       "\t<tr><th scope=col>&lt;chr&gt;</th><th scope=col>&lt;dbl&gt;</th></tr>\n",
       "</thead>\n",
       "<tbody>\n",
       "\t<tr><td>California  </td><td>38421464</td></tr>\n",
       "\t<tr><td>Texas       </td><td>26538497</td></tr>\n",
       "\t<tr><td>New York    </td><td>19673174</td></tr>\n",
       "\t<tr><td>Florida     </td><td>19645772</td></tr>\n",
       "\t<tr><td>Illinois    </td><td>12873761</td></tr>\n",
       "\t<tr><td>Pennsylvania</td><td>12779559</td></tr>\n",
       "</tbody>\n",
       "</table>\n"
      ],
      "text/latex": [
       "A tibble: 6 × 2\n",
       "\\begin{tabular}{ll}\n",
       " state & n\\\\\n",
       " <chr> & <dbl>\\\\\n",
       "\\hline\n",
       "\t California   & 38421464\\\\\n",
       "\t Texas        & 26538497\\\\\n",
       "\t New York     & 19673174\\\\\n",
       "\t Florida      & 19645772\\\\\n",
       "\t Illinois     & 12873761\\\\\n",
       "\t Pennsylvania & 12779559\\\\\n",
       "\\end{tabular}\n"
      ],
      "text/markdown": [
       "\n",
       "A tibble: 6 × 2\n",
       "\n",
       "| state &lt;chr&gt; | n &lt;dbl&gt; |\n",
       "|---|---|\n",
       "| California   | 38421464 |\n",
       "| Texas        | 26538497 |\n",
       "| New York     | 19673174 |\n",
       "| Florida      | 19645772 |\n",
       "| Illinois     | 12873761 |\n",
       "| Pennsylvania | 12779559 |\n",
       "\n"
      ],
      "text/plain": [
       "  state        n       \n",
       "1 California   38421464\n",
       "2 Texas        26538497\n",
       "3 New York     19673174\n",
       "4 Florida      19645772\n",
       "5 Illinois     12873761\n",
       "6 Pennsylvania 12779559"
      ]
     },
     "metadata": {},
     "output_type": "display_data"
    }
   ],
   "source": [
    "usa  %>%\n",
    "  count(state, wt = population, sort = TRUE) %>%\n",
    "  head()"
   ]
  },
  {
   "cell_type": "markdown",
   "id": "d8813130-6bd4-4847-a331-e86f0b99ef22",
   "metadata": {},
   "source": [
    "☝️ Using weights, now instead of seeing the number of counties in each state, we see the total population (same as summing population by state)"
   ]
  },
  {
   "cell_type": "code",
   "execution_count": 56,
   "id": "63dfd16c-42b6-4abb-8ce6-a1f73733d427",
   "metadata": {},
   "outputs": [
    {
     "name": "stderr",
     "output_type": "stream",
     "text": [
      "\u001b[1m\u001b[22m`summarise()` has grouped output by 'state'. You can override using the\n",
      "`.groups` argument.\n"
     ]
    },
    {
     "data": {
      "text/html": [
       "<table class=\"dataframe\">\n",
       "<caption>A grouped_df: 6 × 4</caption>\n",
       "<thead>\n",
       "\t<tr><th scope=col>state</th><th scope=col>metro</th><th scope=col>total_pop</th><th scope=col>avg_pop</th></tr>\n",
       "\t<tr><th scope=col>&lt;chr&gt;</th><th scope=col>&lt;chr&gt;</th><th scope=col>&lt;dbl&gt;</th><th scope=col>&lt;dbl&gt;</th></tr>\n",
       "</thead>\n",
       "<tbody>\n",
       "\t<tr><td>Alabama</td><td>Metro   </td><td>3671377</td><td>126599.21</td></tr>\n",
       "\t<tr><td>Alabama</td><td>Nonmetro</td><td>1159243</td><td> 30506.39</td></tr>\n",
       "\t<tr><td>Alaska </td><td>Metro   </td><td> 494990</td><td>164996.67</td></tr>\n",
       "\t<tr><td>Alaska </td><td>Nonmetro</td><td> 230471</td><td>  9218.84</td></tr>\n",
       "\t<tr><td>Arizona</td><td>Metro   </td><td>6295145</td><td>786893.12</td></tr>\n",
       "\t<tr><td>Arizona</td><td>Nonmetro</td><td> 346783</td><td> 49540.43</td></tr>\n",
       "</tbody>\n",
       "</table>\n"
      ],
      "text/latex": [
       "A grouped\\_df: 6 × 4\n",
       "\\begin{tabular}{llll}\n",
       " state & metro & total\\_pop & avg\\_pop\\\\\n",
       " <chr> & <chr> & <dbl> & <dbl>\\\\\n",
       "\\hline\n",
       "\t Alabama & Metro    & 3671377 & 126599.21\\\\\n",
       "\t Alabama & Nonmetro & 1159243 &  30506.39\\\\\n",
       "\t Alaska  & Metro    &  494990 & 164996.67\\\\\n",
       "\t Alaska  & Nonmetro &  230471 &   9218.84\\\\\n",
       "\t Arizona & Metro    & 6295145 & 786893.12\\\\\n",
       "\t Arizona & Nonmetro &  346783 &  49540.43\\\\\n",
       "\\end{tabular}\n"
      ],
      "text/markdown": [
       "\n",
       "A grouped_df: 6 × 4\n",
       "\n",
       "| state &lt;chr&gt; | metro &lt;chr&gt; | total_pop &lt;dbl&gt; | avg_pop &lt;dbl&gt; |\n",
       "|---|---|---|---|\n",
       "| Alabama | Metro    | 3671377 | 126599.21 |\n",
       "| Alabama | Nonmetro | 1159243 |  30506.39 |\n",
       "| Alaska  | Metro    |  494990 | 164996.67 |\n",
       "| Alaska  | Nonmetro |  230471 |   9218.84 |\n",
       "| Arizona | Metro    | 6295145 | 786893.12 |\n",
       "| Arizona | Nonmetro |  346783 |  49540.43 |\n",
       "\n"
      ],
      "text/plain": [
       "  state   metro    total_pop avg_pop  \n",
       "1 Alabama Metro    3671377   126599.21\n",
       "2 Alabama Nonmetro 1159243    30506.39\n",
       "3 Alaska  Metro     494990   164996.67\n",
       "4 Alaska  Nonmetro  230471     9218.84\n",
       "5 Arizona Metro    6295145   786893.12\n",
       "6 Arizona Nonmetro  346783    49540.43"
      ]
     },
     "metadata": {},
     "output_type": "display_data"
    }
   ],
   "source": [
    "usa  %>%\n",
    "  group_by(state, metro) %>%\n",
    "  summarize(total_pop = sum(population),\n",
    "            avg_pop = mean(population)) %>%\n",
    "  head()"
   ]
  },
  {
   "cell_type": "code",
   "execution_count": 265,
   "id": "52ef0816-49ca-4fdf-88a0-deb75985da50",
   "metadata": {},
   "outputs": [
    {
     "data": {
      "text/html": [
       "<table class=\"dataframe\">\n",
       "<caption>A tibble: 3 × 5</caption>\n",
       "<thead>\n",
       "\t<tr><th scope=col>year</th><th scope=col>name</th><th scope=col>number</th><th scope=col>year_total</th><th scope=col>fraction</th></tr>\n",
       "\t<tr><th scope=col>&lt;dbl&gt;</th><th scope=col>&lt;chr&gt;</th><th scope=col>&lt;int&gt;</th><th scope=col>&lt;int&gt;</th><th scope=col>&lt;dbl&gt;</th></tr>\n",
       "</thead>\n",
       "<tbody>\n",
       "\t<tr><td>1880</td><td>Aaron</td><td>102</td><td>201478</td><td>5.062587e-04</td></tr>\n",
       "\t<tr><td>1880</td><td>Ab   </td><td>  5</td><td>201478</td><td>2.481661e-05</td></tr>\n",
       "\t<tr><td>1880</td><td>Abbie</td><td> 71</td><td>201478</td><td>3.523958e-04</td></tr>\n",
       "</tbody>\n",
       "</table>\n"
      ],
      "text/latex": [
       "A tibble: 3 × 5\n",
       "\\begin{tabular}{lllll}\n",
       " year & name & number & year\\_total & fraction\\\\\n",
       " <dbl> & <chr> & <int> & <int> & <dbl>\\\\\n",
       "\\hline\n",
       "\t 1880 & Aaron & 102 & 201478 & 5.062587e-04\\\\\n",
       "\t 1880 & Ab    &   5 & 201478 & 2.481661e-05\\\\\n",
       "\t 1880 & Abbie &  71 & 201478 & 3.523958e-04\\\\\n",
       "\\end{tabular}\n"
      ],
      "text/markdown": [
       "\n",
       "A tibble: 3 × 5\n",
       "\n",
       "| year &lt;dbl&gt; | name &lt;chr&gt; | number &lt;int&gt; | year_total &lt;int&gt; | fraction &lt;dbl&gt; |\n",
       "|---|---|---|---|---|\n",
       "| 1880 | Aaron | 102 | 201478 | 5.062587e-04 |\n",
       "| 1880 | Ab    |   5 | 201478 | 2.481661e-05 |\n",
       "| 1880 | Abbie |  71 | 201478 | 3.523958e-04 |\n",
       "\n"
      ],
      "text/plain": [
       "  year name  number year_total fraction    \n",
       "1 1880 Aaron 102    201478     5.062587e-04\n",
       "2 1880 Ab      5    201478     2.481661e-05\n",
       "3 1880 Abbie  71    201478     3.523958e-04"
      ]
     },
     "metadata": {},
     "output_type": "display_data"
    }
   ],
   "source": [
    "# Mutate() can also be used together with group_by()\n",
    "baby %>%\n",
    "  group_by(year) %>%\n",
    "  mutate(year_total = sum(number)) %>%\n",
    "  ungroup() %>% # we are done with the grouping\n",
    "  mutate(fraction = number / year_total) %>%\n",
    "  head(3)"
   ]
  },
  {
   "cell_type": "code",
   "execution_count": 69,
   "id": "bafb4c66-2b62-439a-82bd-9b3c24a37ff9",
   "metadata": {},
   "outputs": [
    {
     "data": {
      "text/html": [
       "<table class=\"dataframe\">\n",
       "<caption>A grouped_df: 6 × 4</caption>\n",
       "<thead>\n",
       "\t<tr><th scope=col>state</th><th scope=col>county</th><th scope=col>population</th><th scope=col>unemployment</th></tr>\n",
       "\t<tr><th scope=col>&lt;chr&gt;</th><th scope=col>&lt;chr&gt;</th><th scope=col>&lt;dbl&gt;</th><th scope=col>&lt;dbl&gt;</th></tr>\n",
       "</thead>\n",
       "<tbody>\n",
       "\t<tr><td>Alabama   </td><td>Jefferson             </td><td>  659026</td><td> 9.1</td></tr>\n",
       "\t<tr><td>Alaska    </td><td>Anchorage Municipality</td><td>  299107</td><td> 6.7</td></tr>\n",
       "\t<tr><td>Arizona   </td><td>Maricopa              </td><td> 4018143</td><td> 7.7</td></tr>\n",
       "\t<tr><td>Arkansas  </td><td>Pulaski               </td><td>  390463</td><td> 7.5</td></tr>\n",
       "\t<tr><td>California</td><td>Los Angeles           </td><td>10038388</td><td>10.0</td></tr>\n",
       "\t<tr><td>Colorado  </td><td>El Paso               </td><td>  655024</td><td> 8.4</td></tr>\n",
       "</tbody>\n",
       "</table>\n"
      ],
      "text/latex": [
       "A grouped\\_df: 6 × 4\n",
       "\\begin{tabular}{llll}\n",
       " state & county & population & unemployment\\\\\n",
       " <chr> & <chr> & <dbl> & <dbl>\\\\\n",
       "\\hline\n",
       "\t Alabama    & Jefferson              &   659026 &  9.1\\\\\n",
       "\t Alaska     & Anchorage Municipality &   299107 &  6.7\\\\\n",
       "\t Arizona    & Maricopa               &  4018143 &  7.7\\\\\n",
       "\t Arkansas   & Pulaski                &   390463 &  7.5\\\\\n",
       "\t California & Los Angeles            & 10038388 & 10.0\\\\\n",
       "\t Colorado   & El Paso                &   655024 &  8.4\\\\\n",
       "\\end{tabular}\n"
      ],
      "text/markdown": [
       "\n",
       "A grouped_df: 6 × 4\n",
       "\n",
       "| state &lt;chr&gt; | county &lt;chr&gt; | population &lt;dbl&gt; | unemployment &lt;dbl&gt; |\n",
       "|---|---|---|---|\n",
       "| Alabama    | Jefferson              |   659026 |  9.1 |\n",
       "| Alaska     | Anchorage Municipality |   299107 |  6.7 |\n",
       "| Arizona    | Maricopa               |  4018143 |  7.7 |\n",
       "| Arkansas   | Pulaski                |   390463 |  7.5 |\n",
       "| California | Los Angeles            | 10038388 | 10.0 |\n",
       "| Colorado   | El Paso                |   655024 |  8.4 |\n",
       "\n"
      ],
      "text/plain": [
       "  state      county                 population unemployment\n",
       "1 Alabama    Jefferson                659026    9.1        \n",
       "2 Alaska     Anchorage Municipality   299107    6.7        \n",
       "3 Arizona    Maricopa                4018143    7.7        \n",
       "4 Arkansas   Pulaski                  390463    7.5        \n",
       "5 California Los Angeles            10038388   10.0        \n",
       "6 Colorado   El Paso                  655024    8.4        "
      ]
     },
     "metadata": {},
     "output_type": "display_data"
    }
   ],
   "source": [
    "# Return the counties with the highest population in its state\n",
    "usa  %>%\n",
    "  select(state, county, population, unemployment) %>%\n",
    "  group_by(state) %>%\n",
    "  slice_max(population, n = 1)  %>% # n is the number of observations to be extracted for each group\n",
    "  head()  "
   ]
  },
  {
   "cell_type": "code",
   "execution_count": 72,
   "id": "d45c869b-dd20-4925-816e-897823397968",
   "metadata": {},
   "outputs": [
    {
     "name": "stderr",
     "output_type": "stream",
     "text": [
      "\u001b[1m\u001b[22m`summarise()` has grouped output by 'region'. You can override using the\n",
      "`.groups` argument.\n"
     ]
    },
    {
     "data": {
      "text/html": [
       "<table class=\"dataframe\">\n",
       "<caption>A grouped_df: 4 × 3</caption>\n",
       "<thead>\n",
       "\t<tr><th scope=col>region</th><th scope=col>state</th><th scope=col>average_income</th></tr>\n",
       "\t<tr><th scope=col>&lt;chr&gt;</th><th scope=col>&lt;chr&gt;</th><th scope=col>&lt;dbl&gt;</th></tr>\n",
       "</thead>\n",
       "<tbody>\n",
       "\t<tr><td>North Central</td><td>Missouri   </td><td>41755.40</td></tr>\n",
       "\t<tr><td>Northeast    </td><td>Maine      </td><td>46141.75</td></tr>\n",
       "\t<tr><td>South        </td><td>Mississippi</td><td>34938.93</td></tr>\n",
       "\t<tr><td>West         </td><td>New Mexico </td><td>40183.67</td></tr>\n",
       "</tbody>\n",
       "</table>\n"
      ],
      "text/latex": [
       "A grouped\\_df: 4 × 3\n",
       "\\begin{tabular}{lll}\n",
       " region & state & average\\_income\\\\\n",
       " <chr> & <chr> & <dbl>\\\\\n",
       "\\hline\n",
       "\t North Central & Missouri    & 41755.40\\\\\n",
       "\t Northeast     & Maine       & 46141.75\\\\\n",
       "\t South         & Mississippi & 34938.93\\\\\n",
       "\t West          & New Mexico  & 40183.67\\\\\n",
       "\\end{tabular}\n"
      ],
      "text/markdown": [
       "\n",
       "A grouped_df: 4 × 3\n",
       "\n",
       "| region &lt;chr&gt; | state &lt;chr&gt; | average_income &lt;dbl&gt; |\n",
       "|---|---|---|\n",
       "| North Central | Missouri    | 41755.40 |\n",
       "| Northeast     | Maine       | 46141.75 |\n",
       "| South         | Mississippi | 34938.93 |\n",
       "| West          | New Mexico  | 40183.67 |\n",
       "\n"
      ],
      "text/plain": [
       "  region        state       average_income\n",
       "1 North Central Missouri    41755.40      \n",
       "2 Northeast     Maine       46141.75      \n",
       "3 South         Mississippi 34938.93      \n",
       "4 West          New Mexico  40183.67      "
      ]
     },
     "metadata": {},
     "output_type": "display_data"
    }
   ],
   "source": [
    "usa %>%\n",
    "  select(region, state, county, population, income) %>%\n",
    "  group_by(region, state) %>%\n",
    "  summarize(average_income = mean(income))%>%\n",
    "  slice_min(average_income)"
   ]
  },
  {
   "cell_type": "code",
   "execution_count": 78,
   "id": "72ab6c13-5502-429f-912f-a9c577822130",
   "metadata": {},
   "outputs": [
    {
     "name": "stderr",
     "output_type": "stream",
     "text": [
      "\u001b[1m\u001b[22m`summarise()` has grouped output by 'state'. You can override using the\n",
      "`.groups` argument.\n"
     ]
    },
    {
     "data": {
      "text/html": [
       "<table class=\"dataframe\">\n",
       "<caption>A tibble: 2 × 2</caption>\n",
       "<thead>\n",
       "\t<tr><th scope=col>metro</th><th scope=col>n</th></tr>\n",
       "\t<tr><th scope=col>&lt;chr&gt;</th><th scope=col>&lt;int&gt;</th></tr>\n",
       "</thead>\n",
       "<tbody>\n",
       "\t<tr><td>Metro   </td><td>44</td></tr>\n",
       "\t<tr><td>Nonmetro</td><td> 6</td></tr>\n",
       "</tbody>\n",
       "</table>\n"
      ],
      "text/latex": [
       "A tibble: 2 × 2\n",
       "\\begin{tabular}{ll}\n",
       " metro & n\\\\\n",
       " <chr> & <int>\\\\\n",
       "\\hline\n",
       "\t Metro    & 44\\\\\n",
       "\t Nonmetro &  6\\\\\n",
       "\\end{tabular}\n"
      ],
      "text/markdown": [
       "\n",
       "A tibble: 2 × 2\n",
       "\n",
       "| metro &lt;chr&gt; | n &lt;int&gt; |\n",
       "|---|---|\n",
       "| Metro    | 44 |\n",
       "| Nonmetro |  6 |\n",
       "\n"
      ],
      "text/plain": [
       "  metro    n \n",
       "1 Metro    44\n",
       "2 Nonmetro  6"
      ]
     },
     "metadata": {},
     "output_type": "display_data"
    }
   ],
   "source": [
    "# Count the states with more people in Metro or Nonmetro areas\n",
    "usa %>%\n",
    "  select(region, state, county, population, metro) %>%\n",
    "  group_by(state, metro) %>%\n",
    "  summarize(total_pop = sum(population)) %>%\n",
    "  slice_max(total_pop, n = 1) %>%\n",
    "  ungroup() %>%\n",
    "  count(metro)"
   ]
  },
  {
   "cell_type": "code",
   "execution_count": 260,
   "id": "492346e1-38ee-43e0-ad13-82f8c5db2ca7",
   "metadata": {},
   "outputs": [
    {
     "data": {
      "text/html": [
       "<table class=\"dataframe\">\n",
       "<caption>A grouped_df: 3 × 3</caption>\n",
       "<thead>\n",
       "\t<tr><th scope=col>year</th><th scope=col>name</th><th scope=col>number</th></tr>\n",
       "\t<tr><th scope=col>&lt;dbl&gt;</th><th scope=col>&lt;chr&gt;</th><th scope=col>&lt;int&gt;</th></tr>\n",
       "</thead>\n",
       "<tbody>\n",
       "\t<tr><td>2015</td><td>Emma    </td><td>20445</td></tr>\n",
       "\t<tr><td>2010</td><td>Isabella</td><td>22935</td></tr>\n",
       "\t<tr><td>2005</td><td>Jacob   </td><td>25870</td></tr>\n",
       "</tbody>\n",
       "</table>\n"
      ],
      "text/latex": [
       "A grouped\\_df: 3 × 3\n",
       "\\begin{tabular}{lll}\n",
       " year & name & number\\\\\n",
       " <dbl> & <chr> & <int>\\\\\n",
       "\\hline\n",
       "\t 2015 & Emma     & 20445\\\\\n",
       "\t 2010 & Isabella & 22935\\\\\n",
       "\t 2005 & Jacob    & 25870\\\\\n",
       "\\end{tabular}\n"
      ],
      "text/markdown": [
       "\n",
       "A grouped_df: 3 × 3\n",
       "\n",
       "| year &lt;dbl&gt; | name &lt;chr&gt; | number &lt;int&gt; |\n",
       "|---|---|---|\n",
       "| 2015 | Emma     | 20445 |\n",
       "| 2010 | Isabella | 22935 |\n",
       "| 2005 | Jacob    | 25870 |\n",
       "\n"
      ],
      "text/plain": [
       "  year name     number\n",
       "1 2015 Emma     20445 \n",
       "2 2010 Isabella 22935 \n",
       "3 2005 Jacob    25870 "
      ]
     },
     "metadata": {},
     "output_type": "display_data"
    }
   ],
   "source": [
    "# Find the most common baby name in each year\n",
    "baby %>%\n",
    "  group_by(year) %>%\n",
    "  slice_max(number, n = 1) %>%\n",
    "  arrange(desc(year)) %>%\n",
    "  head(3)"
   ]
  },
  {
   "cell_type": "code",
   "execution_count": 150,
   "id": "274d8427-ea8a-45f3-99b3-83b2a543320a",
   "metadata": {},
   "outputs": [
    {
     "data": {
      "text/html": [
       "100"
      ],
      "text/latex": [
       "100"
      ],
      "text/markdown": [
       "100"
      ],
      "text/plain": [
       "[1] 100"
      ]
     },
     "metadata": {},
     "output_type": "display_data"
    },
    {
     "data": {
      "text/html": [
       "62"
      ],
      "text/latex": [
       "62"
      ],
      "text/markdown": [
       "62"
      ],
      "text/plain": [
       "[1] 62"
      ]
     },
     "metadata": {},
     "output_type": "display_data"
    }
   ],
   "source": [
    "# Select distinct/unique rows\n",
    "df <- tibble(\n",
    "  x = sample(10, 100, rep = TRUE),\n",
    "  y = sample(10, 100, rep = TRUE)\n",
    ")\n",
    "\n",
    "nrow(df)\n",
    "nrow(distinct(df))"
   ]
  },
  {
   "cell_type": "markdown",
   "id": "2b366545-88ba-494a-aa8b-2a66c31c6ad2",
   "metadata": {},
   "source": [
    "<a name=\"toc_54826_3\"></a>\n",
    "## 3.   Advanced selection techniques\n",
    "- `select()` - useful arguments (for more info: `?select_helpers`):\n",
    "    - `\"-\"` operator for de-selection\n",
    "    - `\":\"` operator for range selection\n",
    "    - `\"&\"` and `\"|\"` for selecting the intersection or the union of two sets of variables\n",
    "    - `\"!\"` operator for taking the complement of a set of variables\n",
    "    - `\"=\"` operator can be used to rename columns. Alternative to `rename()`\n",
    "    - `starts_with()` `ends_with()`\n",
    "    - `last_col()` - grabs the last column\n",
    "    - `group_cols()`: Select all grouping columns\n",
    "    - `contains()` - contains a literal string.\n",
    "    - `matches()` - catches a regular expression\n",
    "    - `where()` - Applies a function to all variables and selects those for which the function returns TRUE.\n",
    "    - `all_of()` - Matches variable names in a character vector. All names must be present, otherwise an out-of-bounds error is thrown.\n",
    "    - `any_of()` -  Same as `all_of()`, except that no error is thrown for names that don't exist.\n",
    "    - `everything()` - Matches all variables.\n",
    "$$$$\n",
    "- `transmute()` - a combination of `select()` and `mutate()`. It calculates new columns while dropping others."
   ]
  },
  {
   "cell_type": "markdown",
   "id": "9189c2d7-ae94-424c-82a9-87fcd5f9ef27",
   "metadata": {},
   "source": [
    "<u> Using `select()` arguments</u>"
   ]
  },
  {
   "cell_type": "code",
   "execution_count": 87,
   "id": "35b664ab-c87f-4ae2-bfa8-8d9ede6bc33d",
   "metadata": {},
   "outputs": [
    {
     "data": {
      "text/html": [
       "<table class=\"dataframe\">\n",
       "<caption>A tibble: 5 × 4</caption>\n",
       "<thead>\n",
       "\t<tr><th scope=col>county</th><th scope=col>population</th><th scope=col>unemployment</th><th scope=col>unemployed_pop</th></tr>\n",
       "\t<tr><th scope=col>&lt;chr&gt;</th><th scope=col>&lt;dbl&gt;</th><th scope=col>&lt;dbl&gt;</th><th scope=col>&lt;dbl&gt;</th></tr>\n",
       "</thead>\n",
       "<tbody>\n",
       "\t<tr><td>Tompkins  </td><td>103855</td><td>5.9</td><td>6127.445</td></tr>\n",
       "\t<tr><td>Chemung   </td><td> 88267</td><td>5.4</td><td>4766.418</td></tr>\n",
       "\t<tr><td>Madison   </td><td> 72427</td><td>5.1</td><td>3693.777</td></tr>\n",
       "\t<tr><td>Livingston</td><td> 64801</td><td>5.4</td><td>3499.254</td></tr>\n",
       "\t<tr><td>Seneca    </td><td> 35144</td><td>5.5</td><td>1932.920</td></tr>\n",
       "</tbody>\n",
       "</table>\n"
      ],
      "text/latex": [
       "A tibble: 5 × 4\n",
       "\\begin{tabular}{llll}\n",
       " county & population & unemployment & unemployed\\_pop\\\\\n",
       " <chr> & <dbl> & <dbl> & <dbl>\\\\\n",
       "\\hline\n",
       "\t Tompkins   & 103855 & 5.9 & 6127.445\\\\\n",
       "\t Chemung    &  88267 & 5.4 & 4766.418\\\\\n",
       "\t Madison    &  72427 & 5.1 & 3693.777\\\\\n",
       "\t Livingston &  64801 & 5.4 & 3499.254\\\\\n",
       "\t Seneca     &  35144 & 5.5 & 1932.920\\\\\n",
       "\\end{tabular}\n"
      ],
      "text/markdown": [
       "\n",
       "A tibble: 5 × 4\n",
       "\n",
       "| county &lt;chr&gt; | population &lt;dbl&gt; | unemployment &lt;dbl&gt; | unemployed_pop &lt;dbl&gt; |\n",
       "|---|---|---|---|\n",
       "| Tompkins   | 103855 | 5.9 | 6127.445 |\n",
       "| Chemung    |  88267 | 5.4 | 4766.418 |\n",
       "| Madison    |  72427 | 5.1 | 3693.777 |\n",
       "| Livingston |  64801 | 5.4 | 3499.254 |\n",
       "| Seneca     |  35144 | 5.5 | 1932.920 |\n",
       "\n"
      ],
      "text/plain": [
       "  county     population unemployment unemployed_pop\n",
       "1 Tompkins   103855     5.9          6127.445      \n",
       "2 Chemung     88267     5.4          4766.418      \n",
       "3 Madison     72427     5.1          3693.777      \n",
       "4 Livingston  64801     5.4          3499.254      \n",
       "5 Seneca      35144     5.5          1932.920      "
      ]
     },
     "metadata": {},
     "output_type": "display_data"
    }
   ],
   "source": [
    "# De-select columns:\n",
    "usafilt %>%\n",
    "  select(-state)"
   ]
  },
  {
   "cell_type": "code",
   "execution_count": 86,
   "id": "f5c67488-f5c8-47e1-9d83-2243413ad234",
   "metadata": {},
   "outputs": [
    {
     "data": {
      "text/html": [
       "<table class=\"dataframe\">\n",
       "<caption>A tibble: 3 × 8</caption>\n",
       "<thead>\n",
       "\t<tr><th scope=col>state</th><th scope=col>county</th><th scope=col>drive</th><th scope=col>carpool</th><th scope=col>transit</th><th scope=col>walk</th><th scope=col>other_transp</th><th scope=col>work_at_home</th></tr>\n",
       "\t<tr><th scope=col>&lt;chr&gt;</th><th scope=col>&lt;chr&gt;</th><th scope=col>&lt;dbl&gt;</th><th scope=col>&lt;dbl&gt;</th><th scope=col>&lt;dbl&gt;</th><th scope=col>&lt;dbl&gt;</th><th scope=col>&lt;dbl&gt;</th><th scope=col>&lt;dbl&gt;</th></tr>\n",
       "</thead>\n",
       "<tbody>\n",
       "\t<tr><td>Alabama</td><td>Autauga</td><td>87.5</td><td> 8.8</td><td>0.1</td><td>0.5</td><td>1.3</td><td>1.8</td></tr>\n",
       "\t<tr><td>Alabama</td><td>Baldwin</td><td>84.7</td><td> 8.8</td><td>0.1</td><td>1.0</td><td>1.4</td><td>3.9</td></tr>\n",
       "\t<tr><td>Alabama</td><td>Barbour</td><td>83.8</td><td>10.9</td><td>0.4</td><td>1.8</td><td>1.5</td><td>1.6</td></tr>\n",
       "</tbody>\n",
       "</table>\n"
      ],
      "text/latex": [
       "A tibble: 3 × 8\n",
       "\\begin{tabular}{llllllll}\n",
       " state & county & drive & carpool & transit & walk & other\\_transp & work\\_at\\_home\\\\\n",
       " <chr> & <chr> & <dbl> & <dbl> & <dbl> & <dbl> & <dbl> & <dbl>\\\\\n",
       "\\hline\n",
       "\t Alabama & Autauga & 87.5 &  8.8 & 0.1 & 0.5 & 1.3 & 1.8\\\\\n",
       "\t Alabama & Baldwin & 84.7 &  8.8 & 0.1 & 1.0 & 1.4 & 3.9\\\\\n",
       "\t Alabama & Barbour & 83.8 & 10.9 & 0.4 & 1.8 & 1.5 & 1.6\\\\\n",
       "\\end{tabular}\n"
      ],
      "text/markdown": [
       "\n",
       "A tibble: 3 × 8\n",
       "\n",
       "| state &lt;chr&gt; | county &lt;chr&gt; | drive &lt;dbl&gt; | carpool &lt;dbl&gt; | transit &lt;dbl&gt; | walk &lt;dbl&gt; | other_transp &lt;dbl&gt; | work_at_home &lt;dbl&gt; |\n",
       "|---|---|---|---|---|---|---|---|\n",
       "| Alabama | Autauga | 87.5 |  8.8 | 0.1 | 0.5 | 1.3 | 1.8 |\n",
       "| Alabama | Baldwin | 84.7 |  8.8 | 0.1 | 1.0 | 1.4 | 3.9 |\n",
       "| Alabama | Barbour | 83.8 | 10.9 | 0.4 | 1.8 | 1.5 | 1.6 |\n",
       "\n"
      ],
      "text/plain": [
       "  state   county  drive carpool transit walk other_transp work_at_home\n",
       "1 Alabama Autauga 87.5   8.8    0.1     0.5  1.3          1.8         \n",
       "2 Alabama Baldwin 84.7   8.8    0.1     1.0  1.4          3.9         \n",
       "3 Alabama Barbour 83.8  10.9    0.4     1.8  1.5          1.6         "
      ]
     },
     "metadata": {},
     "output_type": "display_data"
    }
   ],
   "source": [
    "# select a range of columns:\n",
    "usa %>%\n",
    "  select(state, county, drive:work_at_home) %>%\n",
    "  head(3)"
   ]
  },
  {
   "cell_type": "code",
   "execution_count": 97,
   "id": "a24477f2-953e-4bec-b4e0-769ed3e292c7",
   "metadata": {},
   "outputs": [
    {
     "data": {
      "text/html": [
       "<table class=\"dataframe\">\n",
       "<caption>A tibble: 3 × 5</caption>\n",
       "<thead>\n",
       "\t<tr><th scope=col>census_id</th><th scope=col>state</th><th scope=col>county</th><th scope=col>metro</th><th scope=col>population</th></tr>\n",
       "\t<tr><th scope=col>&lt;chr&gt;</th><th scope=col>&lt;chr&gt;</th><th scope=col>&lt;chr&gt;</th><th scope=col>&lt;chr&gt;</th><th scope=col>&lt;dbl&gt;</th></tr>\n",
       "</thead>\n",
       "<tbody>\n",
       "\t<tr><td>1001</td><td>Alabama</td><td>Autauga</td><td>Metro   </td><td> 55221</td></tr>\n",
       "\t<tr><td>1003</td><td>Alabama</td><td>Baldwin</td><td>Metro   </td><td>195121</td></tr>\n",
       "\t<tr><td>1005</td><td>Alabama</td><td>Barbour</td><td>Nonmetro</td><td> 26932</td></tr>\n",
       "</tbody>\n",
       "</table>\n"
      ],
      "text/latex": [
       "A tibble: 3 × 5\n",
       "\\begin{tabular}{lllll}\n",
       " census\\_id & state & county & metro & population\\\\\n",
       " <chr> & <chr> & <chr> & <chr> & <dbl>\\\\\n",
       "\\hline\n",
       "\t 1001 & Alabama & Autauga & Metro    &  55221\\\\\n",
       "\t 1003 & Alabama & Baldwin & Metro    & 195121\\\\\n",
       "\t 1005 & Alabama & Barbour & Nonmetro &  26932\\\\\n",
       "\\end{tabular}\n"
      ],
      "text/markdown": [
       "\n",
       "A tibble: 3 × 5\n",
       "\n",
       "| census_id &lt;chr&gt; | state &lt;chr&gt; | county &lt;chr&gt; | metro &lt;chr&gt; | population &lt;dbl&gt; |\n",
       "|---|---|---|---|---|\n",
       "| 1001 | Alabama | Autauga | Metro    |  55221 |\n",
       "| 1003 | Alabama | Baldwin | Metro    | 195121 |\n",
       "| 1005 | Alabama | Barbour | Nonmetro |  26932 |\n",
       "\n"
      ],
      "text/plain": [
       "  census_id state   county  metro    population\n",
       "1 1001      Alabama Autauga Metro     55221    \n",
       "2 1003      Alabama Baldwin Metro    195121    \n",
       "3 1005      Alabama Barbour Nonmetro  26932    "
      ]
     },
     "metadata": {},
     "output_type": "display_data"
    }
   ],
   "source": [
    "# The \"!\" operator\n",
    "usa %>%\n",
    "  select(!c(region, men:land_area)) %>%\n",
    "  head(3)"
   ]
  },
  {
   "cell_type": "code",
   "execution_count": 1,
   "id": "9737bcf5-9250-449d-9961-959d503e3fd7",
   "metadata": {},
   "outputs": [
    {
     "ename": "ERROR",
     "evalue": "Error in usafilt %>% rename(unemployment_rate = unemployment) %>% head(1): could not find function \"%>%\"\n",
     "output_type": "error",
     "traceback": [
      "Error in usafilt %>% rename(unemployment_rate = unemployment) %>% head(1): could not find function \"%>%\"\nTraceback:\n"
     ]
    }
   ],
   "source": [
    "# rename column with rename()\n",
    "usafilt %>%\n",
    "  rename(unemployment_rate = unemployment) %>%\n",
    "  head(1)\n",
    "\n",
    "# rename column in the select() statement:\n",
    "usafilt %>%\n",
    "  select(state, county, unemployment_rate = unemployment) %>%\n",
    "  head(1)"
   ]
  },
  {
   "cell_type": "code",
   "execution_count": 90,
   "id": "fa38deb7-45a1-4b13-b266-d5782cdba599",
   "metadata": {},
   "outputs": [
    {
     "data": {
      "text/html": [
       "<table class=\"dataframe\">\n",
       "<caption>A tibble: 3 × 6</caption>\n",
       "<thead>\n",
       "\t<tr><th scope=col>state</th><th scope=col>county</th><th scope=col>income</th><th scope=col>income_err</th><th scope=col>income_per_cap</th><th scope=col>income_per_cap_err</th></tr>\n",
       "\t<tr><th scope=col>&lt;chr&gt;</th><th scope=col>&lt;chr&gt;</th><th scope=col>&lt;dbl&gt;</th><th scope=col>&lt;dbl&gt;</th><th scope=col>&lt;dbl&gt;</th><th scope=col>&lt;dbl&gt;</th></tr>\n",
       "</thead>\n",
       "<tbody>\n",
       "\t<tr><td>Alabama</td><td>Autauga</td><td>51281</td><td>2391</td><td>24974</td><td>1080</td></tr>\n",
       "\t<tr><td>Alabama</td><td>Baldwin</td><td>50254</td><td>1263</td><td>27317</td><td> 711</td></tr>\n",
       "\t<tr><td>Alabama</td><td>Barbour</td><td>32964</td><td>2973</td><td>16824</td><td> 798</td></tr>\n",
       "</tbody>\n",
       "</table>\n"
      ],
      "text/latex": [
       "A tibble: 3 × 6\n",
       "\\begin{tabular}{llllll}\n",
       " state & county & income & income\\_err & income\\_per\\_cap & income\\_per\\_cap\\_err\\\\\n",
       " <chr> & <chr> & <dbl> & <dbl> & <dbl> & <dbl>\\\\\n",
       "\\hline\n",
       "\t Alabama & Autauga & 51281 & 2391 & 24974 & 1080\\\\\n",
       "\t Alabama & Baldwin & 50254 & 1263 & 27317 &  711\\\\\n",
       "\t Alabama & Barbour & 32964 & 2973 & 16824 &  798\\\\\n",
       "\\end{tabular}\n"
      ],
      "text/markdown": [
       "\n",
       "A tibble: 3 × 6\n",
       "\n",
       "| state &lt;chr&gt; | county &lt;chr&gt; | income &lt;dbl&gt; | income_err &lt;dbl&gt; | income_per_cap &lt;dbl&gt; | income_per_cap_err &lt;dbl&gt; |\n",
       "|---|---|---|---|---|---|\n",
       "| Alabama | Autauga | 51281 | 2391 | 24974 | 1080 |\n",
       "| Alabama | Baldwin | 50254 | 1263 | 27317 |  711 |\n",
       "| Alabama | Barbour | 32964 | 2973 | 16824 |  798 |\n",
       "\n"
      ],
      "text/plain": [
       "  state   county  income income_err income_per_cap income_per_cap_err\n",
       "1 Alabama Autauga 51281  2391       24974          1080              \n",
       "2 Alabama Baldwin 50254  1263       27317           711              \n",
       "3 Alabama Barbour 32964  2973       16824           798              "
      ]
     },
     "metadata": {},
     "output_type": "display_data"
    }
   ],
   "source": [
    "# select using \"starts_width\":\n",
    "usa %>%\n",
    "  select(state, county, starts_with(\"income\")) %>%\n",
    "  head(3)"
   ]
  },
  {
   "cell_type": "code",
   "execution_count": 107,
   "id": "d0fc0249-e81a-49aa-b7da-e7579b22501e",
   "metadata": {},
   "outputs": [
    {
     "data": {
      "text/html": [
       "'Petal.Width'"
      ],
      "text/latex": [
       "'Petal.Width'"
      ],
      "text/markdown": [
       "'Petal.Width'"
      ],
      "text/plain": [
       "[1] \"Petal.Width\""
      ]
     },
     "metadata": {},
     "output_type": "display_data"
    },
    {
     "data": {
      "text/html": [
       "<style>\n",
       ".list-inline {list-style: none; margin:0; padding: 0}\n",
       ".list-inline>li {display: inline-block}\n",
       ".list-inline>li:not(:last-child)::after {content: \"\\00b7\"; padding: 0 .5ex}\n",
       "</style>\n",
       "<ol class=list-inline><li>'Petal.Length'</li><li>'Petal.Width'</li><li>'Sepal.Width'</li></ol>\n"
      ],
      "text/latex": [
       "\\begin{enumerate*}\n",
       "\\item 'Petal.Length'\n",
       "\\item 'Petal.Width'\n",
       "\\item 'Sepal.Width'\n",
       "\\end{enumerate*}\n"
      ],
      "text/markdown": [
       "1. 'Petal.Length'\n",
       "2. 'Petal.Width'\n",
       "3. 'Sepal.Width'\n",
       "\n",
       "\n"
      ],
      "text/plain": [
       "[1] \"Petal.Length\" \"Petal.Width\"  \"Sepal.Width\" "
      ]
     },
     "metadata": {},
     "output_type": "display_data"
    },
    {
     "data": {
      "text/html": [
       "<style>\n",
       ".list-inline {list-style: none; margin:0; padding: 0}\n",
       ".list-inline>li {display: inline-block}\n",
       ".list-inline>li:not(:last-child)::after {content: \"\\00b7\"; padding: 0 .5ex}\n",
       "</style>\n",
       "<ol class=list-inline><li>'Sepal.Length'</li><li>'Species'</li></ol>\n"
      ],
      "text/latex": [
       "\\begin{enumerate*}\n",
       "\\item 'Sepal.Length'\n",
       "\\item 'Species'\n",
       "\\end{enumerate*}\n"
      ],
      "text/markdown": [
       "1. 'Sepal.Length'\n",
       "2. 'Species'\n",
       "\n",
       "\n"
      ],
      "text/plain": [
       "[1] \"Sepal.Length\" \"Species\"     "
      ]
     },
     "metadata": {},
     "output_type": "display_data"
    },
    {
     "data": {
      "text/html": [
       "<style>\n",
       ".list-inline {list-style: none; margin:0; padding: 0}\n",
       ".list-inline>li {display: inline-block}\n",
       ".list-inline>li:not(:last-child)::after {content: \"\\00b7\"; padding: 0 .5ex}\n",
       "</style>\n",
       "<ol class=list-inline><li>'Sepal.Length'</li><li>'Sepal.Width'</li><li>'Species'</li><li>'Petal.Length'</li></ol>\n"
      ],
      "text/latex": [
       "\\begin{enumerate*}\n",
       "\\item 'Sepal.Length'\n",
       "\\item 'Sepal.Width'\n",
       "\\item 'Species'\n",
       "\\item 'Petal.Length'\n",
       "\\end{enumerate*}\n"
      ],
      "text/markdown": [
       "1. 'Sepal.Length'\n",
       "2. 'Sepal.Width'\n",
       "3. 'Species'\n",
       "4. 'Petal.Length'\n",
       "\n",
       "\n"
      ],
      "text/plain": [
       "[1] \"Sepal.Length\" \"Sepal.Width\"  \"Species\"      \"Petal.Length\""
      ]
     },
     "metadata": {},
     "output_type": "display_data"
    }
   ],
   "source": [
    "# The \"|\" and \"&\" operators\n",
    "iris %>% \n",
    "  select(starts_with(\"Petal\") & ends_with(\"Width\")) %>% \n",
    "  names()\n",
    "\n",
    "iris %>% \n",
    "  select(starts_with(\"Petal\") | ends_with(\"Width\")) %>% \n",
    "  names()\n",
    "\n",
    "iris %>% \n",
    "  select(!(starts_with(\"Petal\")) & !(ends_with(\"Width\"))) %>%  # use \"&\" with \"!\" to de-select that matches either conditions\n",
    "  names()\n",
    "\n",
    "iris %>% \n",
    "  select(!(starts_with(\"Petal\")) | !(ends_with(\"Width\"))) %>% # use \"|\" with \"!\" to de-select the combination of the conditions\n",
    "  names()"
   ]
  },
  {
   "cell_type": "code",
   "execution_count": 149,
   "id": "59468972-41f4-4a35-b6ad-e70310b68de0",
   "metadata": {},
   "outputs": [
    {
     "data": {
      "text/html": [
       "<table class=\"dataframe\">\n",
       "<caption>A tibble: 1 × 4</caption>\n",
       "<thead>\n",
       "\t<tr><th scope=col>work_at_home</th><th scope=col>private_work</th><th scope=col>public_work</th><th scope=col>family_work</th></tr>\n",
       "\t<tr><th scope=col>&lt;dbl&gt;</th><th scope=col>&lt;dbl&gt;</th><th scope=col>&lt;dbl&gt;</th><th scope=col>&lt;dbl&gt;</th></tr>\n",
       "</thead>\n",
       "<tbody>\n",
       "\t<tr><td>1.8</td><td>73.6</td><td>20.9</td><td>0</td></tr>\n",
       "</tbody>\n",
       "</table>\n"
      ],
      "text/latex": [
       "A tibble: 1 × 4\n",
       "\\begin{tabular}{llll}\n",
       " work\\_at\\_home & private\\_work & public\\_work & family\\_work\\\\\n",
       " <dbl> & <dbl> & <dbl> & <dbl>\\\\\n",
       "\\hline\n",
       "\t 1.8 & 73.6 & 20.9 & 0\\\\\n",
       "\\end{tabular}\n"
      ],
      "text/markdown": [
       "\n",
       "A tibble: 1 × 4\n",
       "\n",
       "| work_at_home &lt;dbl&gt; | private_work &lt;dbl&gt; | public_work &lt;dbl&gt; | family_work &lt;dbl&gt; |\n",
       "|---|---|---|---|\n",
       "| 1.8 | 73.6 | 20.9 | 0 |\n",
       "\n"
      ],
      "text/plain": [
       "  work_at_home private_work public_work family_work\n",
       "1 1.8          73.6         20.9        0          "
      ]
     },
     "metadata": {},
     "output_type": "display_data"
    }
   ],
   "source": [
    "# select using \"contains\":\n",
    "usa %>%\n",
    "  select(contains(\"work\")) %>%\n",
    "  head(1)"
   ]
  },
  {
   "cell_type": "code",
   "execution_count": 145,
   "id": "0b052eda-edcf-4512-a47f-b6e58408f504",
   "metadata": {},
   "outputs": [
    {
     "data": {
      "text/html": [
       "<table class=\"dataframe\">\n",
       "<caption>A tibble: 1 × 1</caption>\n",
       "<thead>\n",
       "\t<tr><th scope=col>work_at_home</th></tr>\n",
       "\t<tr><th scope=col>&lt;dbl&gt;</th></tr>\n",
       "</thead>\n",
       "<tbody>\n",
       "\t<tr><td>1.8</td></tr>\n",
       "</tbody>\n",
       "</table>\n"
      ],
      "text/latex": [
       "A tibble: 1 × 1\n",
       "\\begin{tabular}{l}\n",
       " work\\_at\\_home\\\\\n",
       " <dbl>\\\\\n",
       "\\hline\n",
       "\t 1.8\\\\\n",
       "\\end{tabular}\n"
      ],
      "text/markdown": [
       "\n",
       "A tibble: 1 × 1\n",
       "\n",
       "| work_at_home &lt;dbl&gt; |\n",
       "|---|\n",
       "| 1.8 |\n",
       "\n"
      ],
      "text/plain": [
       "  work_at_home\n",
       "1 1.8         "
      ]
     },
     "metadata": {},
     "output_type": "display_data"
    }
   ],
   "source": [
    "# select using \"matches\":\n",
    "usa %>%\n",
    "  select(matches(\"^work\")) %>%\n",
    "  head(1)"
   ]
  },
  {
   "cell_type": "code",
   "execution_count": 115,
   "id": "5d2a837b-7be2-47d6-a781-a57d8ec92d1c",
   "metadata": {},
   "outputs": [
    {
     "data": {
      "text/html": [
       "<table class=\"dataframe\">\n",
       "<caption>A tibble: 3 × 5</caption>\n",
       "<thead>\n",
       "\t<tr><th scope=col>census_id</th><th scope=col>state</th><th scope=col>county</th><th scope=col>region</th><th scope=col>metro</th></tr>\n",
       "\t<tr><th scope=col>&lt;chr&gt;</th><th scope=col>&lt;chr&gt;</th><th scope=col>&lt;chr&gt;</th><th scope=col>&lt;chr&gt;</th><th scope=col>&lt;chr&gt;</th></tr>\n",
       "</thead>\n",
       "<tbody>\n",
       "\t<tr><td>1001</td><td>Alabama</td><td>Autauga</td><td>South</td><td>Metro   </td></tr>\n",
       "\t<tr><td>1003</td><td>Alabama</td><td>Baldwin</td><td>South</td><td>Metro   </td></tr>\n",
       "\t<tr><td>1005</td><td>Alabama</td><td>Barbour</td><td>South</td><td>Nonmetro</td></tr>\n",
       "</tbody>\n",
       "</table>\n"
      ],
      "text/latex": [
       "A tibble: 3 × 5\n",
       "\\begin{tabular}{lllll}\n",
       " census\\_id & state & county & region & metro\\\\\n",
       " <chr> & <chr> & <chr> & <chr> & <chr>\\\\\n",
       "\\hline\n",
       "\t 1001 & Alabama & Autauga & South & Metro   \\\\\n",
       "\t 1003 & Alabama & Baldwin & South & Metro   \\\\\n",
       "\t 1005 & Alabama & Barbour & South & Nonmetro\\\\\n",
       "\\end{tabular}\n"
      ],
      "text/markdown": [
       "\n",
       "A tibble: 3 × 5\n",
       "\n",
       "| census_id &lt;chr&gt; | state &lt;chr&gt; | county &lt;chr&gt; | region &lt;chr&gt; | metro &lt;chr&gt; |\n",
       "|---|---|---|---|---|\n",
       "| 1001 | Alabama | Autauga | South | Metro    |\n",
       "| 1003 | Alabama | Baldwin | South | Metro    |\n",
       "| 1005 | Alabama | Barbour | South | Nonmetro |\n",
       "\n"
      ],
      "text/plain": [
       "  census_id state   county  region metro   \n",
       "1 1001      Alabama Autauga South  Metro   \n",
       "2 1003      Alabama Baldwin South  Metro   \n",
       "3 1005      Alabama Barbour South  Nonmetro"
      ]
     },
     "metadata": {},
     "output_type": "display_data"
    }
   ],
   "source": [
    "# select using \"where\":\n",
    "usa %>%\n",
    "  select(where(is.character)) %>%\n",
    "  head(3)"
   ]
  },
  {
   "cell_type": "code",
   "execution_count": 128,
   "id": "6c5ecf00-06bf-4d45-a1d2-91fc68104105",
   "metadata": {},
   "outputs": [
    {
     "data": {
      "text/html": [
       "<table class=\"dataframe\">\n",
       "<caption>A tibble: 3 × 3</caption>\n",
       "<thead>\n",
       "\t<tr><th scope=col>carpool</th><th scope=col>family_work</th><th scope=col>unemployment</th></tr>\n",
       "\t<tr><th scope=col>&lt;dbl&gt;</th><th scope=col>&lt;dbl&gt;</th><th scope=col>&lt;dbl&gt;</th></tr>\n",
       "</thead>\n",
       "<tbody>\n",
       "\t<tr><td> 8.8</td><td>0.0</td><td> 7.6</td></tr>\n",
       "\t<tr><td> 8.8</td><td>0.4</td><td> 7.5</td></tr>\n",
       "\t<tr><td>10.9</td><td>0.1</td><td>17.6</td></tr>\n",
       "</tbody>\n",
       "</table>\n"
      ],
      "text/latex": [
       "A tibble: 3 × 3\n",
       "\\begin{tabular}{lll}\n",
       " carpool & family\\_work & unemployment\\\\\n",
       " <dbl> & <dbl> & <dbl>\\\\\n",
       "\\hline\n",
       "\t  8.8 & 0.0 &  7.6\\\\\n",
       "\t  8.8 & 0.4 &  7.5\\\\\n",
       "\t 10.9 & 0.1 & 17.6\\\\\n",
       "\\end{tabular}\n"
      ],
      "text/markdown": [
       "\n",
       "A tibble: 3 × 3\n",
       "\n",
       "| carpool &lt;dbl&gt; | family_work &lt;dbl&gt; | unemployment &lt;dbl&gt; |\n",
       "|---|---|---|\n",
       "|  8.8 | 0.0 |  7.6 |\n",
       "|  8.8 | 0.4 |  7.5 |\n",
       "| 10.9 | 0.1 | 17.6 |\n",
       "\n"
      ],
      "text/plain": [
       "  carpool family_work unemployment\n",
       "1  8.8    0.0          7.6        \n",
       "2  8.8    0.4          7.5        \n",
       "3 10.9    0.1         17.6        "
      ]
     },
     "metadata": {},
     "output_type": "display_data"
    }
   ],
   "source": [
    "# using purrr-like formulas with where()\n",
    "usa %>%\n",
    "  select(where(~ is.numeric(.x) && max(.x, na.rm=T) < 30)) %>%\n",
    "  head(3)"
   ]
  },
  {
   "cell_type": "markdown",
   "id": "a10c4907-9ae0-4a0c-879d-fb5175070be8",
   "metadata": {},
   "source": [
    "<u> The `transmute()` verb</u>"
   ]
  },
  {
   "cell_type": "code",
   "execution_count": 165,
   "id": "5e010bd3-98d3-4032-b2c1-895af2044fd6",
   "metadata": {},
   "outputs": [
    {
     "data": {
      "text/html": [
       "<table class=\"dataframe\">\n",
       "<caption>A tibble: 2 × 3</caption>\n",
       "<thead>\n",
       "\t<tr><th scope=col>state</th><th scope=col>county</th><th scope=col>percentage_men</th></tr>\n",
       "\t<tr><th scope=col>&lt;chr&gt;</th><th scope=col>&lt;chr&gt;</th><th scope=col>&lt;dbl&gt;</th></tr>\n",
       "</thead>\n",
       "<tbody>\n",
       "\t<tr><td>Alabama</td><td>Autauga</td><td>0.4843266</td></tr>\n",
       "\t<tr><td>Alabama</td><td>Baldwin</td><td>0.4884866</td></tr>\n",
       "</tbody>\n",
       "</table>\n"
      ],
      "text/latex": [
       "A tibble: 2 × 3\n",
       "\\begin{tabular}{lll}\n",
       " state & county & percentage\\_men\\\\\n",
       " <chr> & <chr> & <dbl>\\\\\n",
       "\\hline\n",
       "\t Alabama & Autauga & 0.4843266\\\\\n",
       "\t Alabama & Baldwin & 0.4884866\\\\\n",
       "\\end{tabular}\n"
      ],
      "text/markdown": [
       "\n",
       "A tibble: 2 × 3\n",
       "\n",
       "| state &lt;chr&gt; | county &lt;chr&gt; | percentage_men &lt;dbl&gt; |\n",
       "|---|---|---|\n",
       "| Alabama | Autauga | 0.4843266 |\n",
       "| Alabama | Baldwin | 0.4884866 |\n",
       "\n"
      ],
      "text/plain": [
       "  state   county  percentage_men\n",
       "1 Alabama Autauga 0.4843266     \n",
       "2 Alabama Baldwin 0.4884866     "
      ]
     },
     "metadata": {},
     "output_type": "display_data"
    }
   ],
   "source": [
    "# using transmute\n",
    "usa %>%\n",
    "  transmute(state, county, percentage_men = men/population) %>%\n",
    "  head(2)"
   ]
  },
  {
   "cell_type": "code",
   "execution_count": 166,
   "id": "2a77c0bf-98fd-41d2-afd8-a7a226107053",
   "metadata": {},
   "outputs": [
    {
     "data": {
      "text/html": [
       "<table class=\"dataframe\">\n",
       "<caption>A tibble: 2 × 3</caption>\n",
       "<thead>\n",
       "\t<tr><th scope=col>state</th><th scope=col>county</th><th scope=col>unemploymed_people</th></tr>\n",
       "\t<tr><th scope=col>&lt;chr&gt;</th><th scope=col>&lt;chr&gt;</th><th scope=col>&lt;dbl&gt;</th></tr>\n",
       "</thead>\n",
       "<tbody>\n",
       "\t<tr><td>Alabama</td><td>Autauga</td><td> 4196.796</td></tr>\n",
       "\t<tr><td>Alabama</td><td>Baldwin</td><td>14634.075</td></tr>\n",
       "</tbody>\n",
       "</table>\n"
      ],
      "text/latex": [
       "A tibble: 2 × 3\n",
       "\\begin{tabular}{lll}\n",
       " state & county & unemploymed\\_people\\\\\n",
       " <chr> & <chr> & <dbl>\\\\\n",
       "\\hline\n",
       "\t Alabama & Autauga &  4196.796\\\\\n",
       "\t Alabama & Baldwin & 14634.075\\\\\n",
       "\\end{tabular}\n"
      ],
      "text/markdown": [
       "\n",
       "A tibble: 2 × 3\n",
       "\n",
       "| state &lt;chr&gt; | county &lt;chr&gt; | unemploymed_people &lt;dbl&gt; |\n",
       "|---|---|---|\n",
       "| Alabama | Autauga |  4196.796 |\n",
       "| Alabama | Baldwin | 14634.075 |\n",
       "\n"
      ],
      "text/plain": [
       "  state   county  unemploymed_people\n",
       "1 Alabama Autauga  4196.796         \n",
       "2 Alabama Baldwin 14634.075         "
      ]
     },
     "metadata": {},
     "output_type": "display_data"
    }
   ],
   "source": [
    "usa %>%\n",
    "  transmute(state, county, unemploymed_people = population  * unemployment / 100) %>%\n",
    "  head(2)"
   ]
  },
  {
   "cell_type": "markdown",
   "id": "e3bafce0-3b0c-4142-8450-d884bd57a00c",
   "metadata": {},
   "source": [
    "<a name=\"toc_54826_4\"></a>\n",
    "## 4.  Advanced filtering techniques\n",
    "\n",
    "Useful operators:\n",
    "- `\"&\"` and `\"|\"` operators - see under `select()` arguments\n",
    "- `%in%` - in operator for multiple selection\n",
    "- `is.na()` and `!is.na()`\n",
    "\n",
    "\n",
    "Usefult stringr functions:\n",
    "- `str_detect()`"
   ]
  },
  {
   "cell_type": "code",
   "execution_count": 4,
   "id": "b90e375f-ca7f-4704-8346-f2c1178567d9",
   "metadata": {},
   "outputs": [],
   "source": [
    "data(mtcars) # this line resets the built-in dataset if it was modified\n",
    "mtcars <- mtcars %>% \n",
    "  rownames_to_column"
   ]
  },
  {
   "cell_type": "code",
   "execution_count": 5,
   "id": "022e77d8-db55-43af-8958-3cfbe0836698",
   "metadata": {},
   "outputs": [
    {
     "data": {
      "text/html": [
       "<table class=\"dataframe\">\n",
       "<caption>A data.frame: 3 × 12</caption>\n",
       "<thead>\n",
       "\t<tr><th></th><th scope=col>rowname</th><th scope=col>mpg</th><th scope=col>cyl</th><th scope=col>disp</th><th scope=col>hp</th><th scope=col>drat</th><th scope=col>wt</th><th scope=col>qsec</th><th scope=col>vs</th><th scope=col>am</th><th scope=col>gear</th><th scope=col>carb</th></tr>\n",
       "\t<tr><th></th><th scope=col>&lt;chr&gt;</th><th scope=col>&lt;dbl&gt;</th><th scope=col>&lt;dbl&gt;</th><th scope=col>&lt;dbl&gt;</th><th scope=col>&lt;dbl&gt;</th><th scope=col>&lt;dbl&gt;</th><th scope=col>&lt;dbl&gt;</th><th scope=col>&lt;dbl&gt;</th><th scope=col>&lt;dbl&gt;</th><th scope=col>&lt;dbl&gt;</th><th scope=col>&lt;dbl&gt;</th><th scope=col>&lt;dbl&gt;</th></tr>\n",
       "</thead>\n",
       "<tbody>\n",
       "\t<tr><th scope=row>1</th><td>Mazda RX4    </td><td>21.0</td><td>6</td><td>160</td><td>110</td><td>3.90</td><td>2.620</td><td>16.46</td><td>0</td><td>1</td><td>4</td><td>4</td></tr>\n",
       "\t<tr><th scope=row>2</th><td>Mazda RX4 Wag</td><td>21.0</td><td>6</td><td>160</td><td>110</td><td>3.90</td><td>2.875</td><td>17.02</td><td>0</td><td>1</td><td>4</td><td>4</td></tr>\n",
       "\t<tr><th scope=row>3</th><td>Datsun 710   </td><td>22.8</td><td>4</td><td>108</td><td> 93</td><td>3.85</td><td>2.320</td><td>18.61</td><td>1</td><td>1</td><td>4</td><td>1</td></tr>\n",
       "</tbody>\n",
       "</table>\n"
      ],
      "text/latex": [
       "A data.frame: 3 × 12\n",
       "\\begin{tabular}{r|llllllllllll}\n",
       "  & rowname & mpg & cyl & disp & hp & drat & wt & qsec & vs & am & gear & carb\\\\\n",
       "  & <chr> & <dbl> & <dbl> & <dbl> & <dbl> & <dbl> & <dbl> & <dbl> & <dbl> & <dbl> & <dbl> & <dbl>\\\\\n",
       "\\hline\n",
       "\t1 & Mazda RX4     & 21.0 & 6 & 160 & 110 & 3.90 & 2.620 & 16.46 & 0 & 1 & 4 & 4\\\\\n",
       "\t2 & Mazda RX4 Wag & 21.0 & 6 & 160 & 110 & 3.90 & 2.875 & 17.02 & 0 & 1 & 4 & 4\\\\\n",
       "\t3 & Datsun 710    & 22.8 & 4 & 108 &  93 & 3.85 & 2.320 & 18.61 & 1 & 1 & 4 & 1\\\\\n",
       "\\end{tabular}\n"
      ],
      "text/markdown": [
       "\n",
       "A data.frame: 3 × 12\n",
       "\n",
       "| <!--/--> | rowname &lt;chr&gt; | mpg &lt;dbl&gt; | cyl &lt;dbl&gt; | disp &lt;dbl&gt; | hp &lt;dbl&gt; | drat &lt;dbl&gt; | wt &lt;dbl&gt; | qsec &lt;dbl&gt; | vs &lt;dbl&gt; | am &lt;dbl&gt; | gear &lt;dbl&gt; | carb &lt;dbl&gt; |\n",
       "|---|---|---|---|---|---|---|---|---|---|---|---|---|\n",
       "| 1 | Mazda RX4     | 21.0 | 6 | 160 | 110 | 3.90 | 2.620 | 16.46 | 0 | 1 | 4 | 4 |\n",
       "| 2 | Mazda RX4 Wag | 21.0 | 6 | 160 | 110 | 3.90 | 2.875 | 17.02 | 0 | 1 | 4 | 4 |\n",
       "| 3 | Datsun 710    | 22.8 | 4 | 108 |  93 | 3.85 | 2.320 | 18.61 | 1 | 1 | 4 | 1 |\n",
       "\n"
      ],
      "text/plain": [
       "  rowname       mpg  cyl disp hp  drat wt    qsec  vs am gear carb\n",
       "1 Mazda RX4     21.0 6   160  110 3.90 2.620 16.46 0  1  4    4   \n",
       "2 Mazda RX4 Wag 21.0 6   160  110 3.90 2.875 17.02 0  1  4    4   \n",
       "3 Datsun 710    22.8 4   108   93 3.85 2.320 18.61 1  1  4    1   "
      ]
     },
     "metadata": {},
     "output_type": "display_data"
    }
   ],
   "source": [
    "# Use %in% operator\n",
    "mtcars %>%\n",
    "  filter(cyl %in% c(4, 6)) %>% \n",
    "  head(3)"
   ]
  },
  {
   "cell_type": "code",
   "execution_count": 6,
   "id": "12c4b7d2-847a-4bad-87d4-a9cd9a6f7475",
   "metadata": {},
   "outputs": [
    {
     "data": {
      "text/html": [
       "<table class=\"dataframe\">\n",
       "<caption>A data.frame: 3 × 12</caption>\n",
       "<thead>\n",
       "\t<tr><th></th><th scope=col>rowname</th><th scope=col>mpg</th><th scope=col>cyl</th><th scope=col>disp</th><th scope=col>hp</th><th scope=col>drat</th><th scope=col>wt</th><th scope=col>qsec</th><th scope=col>vs</th><th scope=col>am</th><th scope=col>gear</th><th scope=col>carb</th></tr>\n",
       "\t<tr><th></th><th scope=col>&lt;chr&gt;</th><th scope=col>&lt;dbl&gt;</th><th scope=col>&lt;dbl&gt;</th><th scope=col>&lt;dbl&gt;</th><th scope=col>&lt;dbl&gt;</th><th scope=col>&lt;dbl&gt;</th><th scope=col>&lt;dbl&gt;</th><th scope=col>&lt;dbl&gt;</th><th scope=col>&lt;dbl&gt;</th><th scope=col>&lt;dbl&gt;</th><th scope=col>&lt;dbl&gt;</th><th scope=col>&lt;dbl&gt;</th></tr>\n",
       "</thead>\n",
       "<tbody>\n",
       "\t<tr><th scope=row>1</th><td>Hornet Sportabout</td><td>18.7</td><td>8</td><td>360.0</td><td>175</td><td>3.15</td><td>3.44</td><td>17.02</td><td>0</td><td>0</td><td>3</td><td>2</td></tr>\n",
       "\t<tr><th scope=row>2</th><td>Duster 360       </td><td>14.3</td><td>8</td><td>360.0</td><td>245</td><td>3.21</td><td>3.57</td><td>15.84</td><td>0</td><td>0</td><td>3</td><td>4</td></tr>\n",
       "\t<tr><th scope=row>3</th><td>Merc 450SE       </td><td>16.4</td><td>8</td><td>275.8</td><td>180</td><td>3.07</td><td>4.07</td><td>17.40</td><td>0</td><td>0</td><td>3</td><td>3</td></tr>\n",
       "</tbody>\n",
       "</table>\n"
      ],
      "text/latex": [
       "A data.frame: 3 × 12\n",
       "\\begin{tabular}{r|llllllllllll}\n",
       "  & rowname & mpg & cyl & disp & hp & drat & wt & qsec & vs & am & gear & carb\\\\\n",
       "  & <chr> & <dbl> & <dbl> & <dbl> & <dbl> & <dbl> & <dbl> & <dbl> & <dbl> & <dbl> & <dbl> & <dbl>\\\\\n",
       "\\hline\n",
       "\t1 & Hornet Sportabout & 18.7 & 8 & 360.0 & 175 & 3.15 & 3.44 & 17.02 & 0 & 0 & 3 & 2\\\\\n",
       "\t2 & Duster 360        & 14.3 & 8 & 360.0 & 245 & 3.21 & 3.57 & 15.84 & 0 & 0 & 3 & 4\\\\\n",
       "\t3 & Merc 450SE        & 16.4 & 8 & 275.8 & 180 & 3.07 & 4.07 & 17.40 & 0 & 0 & 3 & 3\\\\\n",
       "\\end{tabular}\n"
      ],
      "text/markdown": [
       "\n",
       "A data.frame: 3 × 12\n",
       "\n",
       "| <!--/--> | rowname &lt;chr&gt; | mpg &lt;dbl&gt; | cyl &lt;dbl&gt; | disp &lt;dbl&gt; | hp &lt;dbl&gt; | drat &lt;dbl&gt; | wt &lt;dbl&gt; | qsec &lt;dbl&gt; | vs &lt;dbl&gt; | am &lt;dbl&gt; | gear &lt;dbl&gt; | carb &lt;dbl&gt; |\n",
       "|---|---|---|---|---|---|---|---|---|---|---|---|---|\n",
       "| 1 | Hornet Sportabout | 18.7 | 8 | 360.0 | 175 | 3.15 | 3.44 | 17.02 | 0 | 0 | 3 | 2 |\n",
       "| 2 | Duster 360        | 14.3 | 8 | 360.0 | 245 | 3.21 | 3.57 | 15.84 | 0 | 0 | 3 | 4 |\n",
       "| 3 | Merc 450SE        | 16.4 | 8 | 275.8 | 180 | 3.07 | 4.07 | 17.40 | 0 | 0 | 3 | 3 |\n",
       "\n"
      ],
      "text/plain": [
       "  rowname           mpg  cyl disp  hp  drat wt   qsec  vs am gear carb\n",
       "1 Hornet Sportabout 18.7 8   360.0 175 3.15 3.44 17.02 0  0  3    2   \n",
       "2 Duster 360        14.3 8   360.0 245 3.21 3.57 15.84 0  0  3    4   \n",
       "3 Merc 450SE        16.4 8   275.8 180 3.07 4.07 17.40 0  0  3    3   "
      ]
     },
     "metadata": {},
     "output_type": "display_data"
    }
   ],
   "source": [
    "# Not in\n",
    "mtcars %>%\n",
    "filter(!cyl %in% c(4, 6)) %>% \n",
    "  head(3)"
   ]
  },
  {
   "cell_type": "code",
   "execution_count": 223,
   "id": "0dfb43f4-39cc-4da0-9321-e618b81eadd8",
   "metadata": {},
   "outputs": [
    {
     "data": {
      "text/html": [
       "<table class=\"dataframe\">\n",
       "<caption>A data.frame: 3 × 12</caption>\n",
       "<thead>\n",
       "\t<tr><th></th><th scope=col>rowname</th><th scope=col>mpg</th><th scope=col>cyl</th><th scope=col>disp</th><th scope=col>hp</th><th scope=col>drat</th><th scope=col>wt</th><th scope=col>qsec</th><th scope=col>vs</th><th scope=col>am</th><th scope=col>gear</th><th scope=col>carb</th></tr>\n",
       "\t<tr><th></th><th scope=col>&lt;chr&gt;</th><th scope=col>&lt;dbl&gt;</th><th scope=col>&lt;dbl&gt;</th><th scope=col>&lt;dbl&gt;</th><th scope=col>&lt;dbl&gt;</th><th scope=col>&lt;dbl&gt;</th><th scope=col>&lt;dbl&gt;</th><th scope=col>&lt;dbl&gt;</th><th scope=col>&lt;dbl&gt;</th><th scope=col>&lt;dbl&gt;</th><th scope=col>&lt;dbl&gt;</th><th scope=col>&lt;dbl&gt;</th></tr>\n",
       "</thead>\n",
       "<tbody>\n",
       "\t<tr><th scope=row>1</th><td>Merc 230           </td><td>NA</td><td>4</td><td>140.8</td><td> 95</td><td>3.92</td><td>3.150</td><td>22.90</td><td>1</td><td>0</td><td>4</td><td>2</td></tr>\n",
       "\t<tr><th scope=row>2</th><td>Lincoln Continental</td><td>NA</td><td>8</td><td>460.0</td><td>215</td><td>3.00</td><td>5.424</td><td>17.82</td><td>0</td><td>0</td><td>3</td><td>4</td></tr>\n",
       "\t<tr><th scope=row>3</th><td>Toyota Corona      </td><td>NA</td><td>4</td><td>120.1</td><td> 97</td><td>3.70</td><td>2.465</td><td>20.01</td><td>1</td><td>0</td><td>3</td><td>1</td></tr>\n",
       "</tbody>\n",
       "</table>\n"
      ],
      "text/latex": [
       "A data.frame: 3 × 12\n",
       "\\begin{tabular}{r|llllllllllll}\n",
       "  & rowname & mpg & cyl & disp & hp & drat & wt & qsec & vs & am & gear & carb\\\\\n",
       "  & <chr> & <dbl> & <dbl> & <dbl> & <dbl> & <dbl> & <dbl> & <dbl> & <dbl> & <dbl> & <dbl> & <dbl>\\\\\n",
       "\\hline\n",
       "\t1 & Merc 230            & NA & 4 & 140.8 &  95 & 3.92 & 3.150 & 22.90 & 1 & 0 & 4 & 2\\\\\n",
       "\t2 & Lincoln Continental & NA & 8 & 460.0 & 215 & 3.00 & 5.424 & 17.82 & 0 & 0 & 3 & 4\\\\\n",
       "\t3 & Toyota Corona       & NA & 4 & 120.1 &  97 & 3.70 & 2.465 & 20.01 & 1 & 0 & 3 & 1\\\\\n",
       "\\end{tabular}\n"
      ],
      "text/markdown": [
       "\n",
       "A data.frame: 3 × 12\n",
       "\n",
       "| <!--/--> | rowname &lt;chr&gt; | mpg &lt;dbl&gt; | cyl &lt;dbl&gt; | disp &lt;dbl&gt; | hp &lt;dbl&gt; | drat &lt;dbl&gt; | wt &lt;dbl&gt; | qsec &lt;dbl&gt; | vs &lt;dbl&gt; | am &lt;dbl&gt; | gear &lt;dbl&gt; | carb &lt;dbl&gt; |\n",
       "|---|---|---|---|---|---|---|---|---|---|---|---|---|\n",
       "| 1 | Merc 230            | NA | 4 | 140.8 |  95 | 3.92 | 3.150 | 22.90 | 1 | 0 | 4 | 2 |\n",
       "| 2 | Lincoln Continental | NA | 8 | 460.0 | 215 | 3.00 | 5.424 | 17.82 | 0 | 0 | 3 | 4 |\n",
       "| 3 | Toyota Corona       | NA | 4 | 120.1 |  97 | 3.70 | 2.465 | 20.01 | 1 | 0 | 3 | 1 |\n",
       "\n"
      ],
      "text/plain": [
       "  rowname             mpg cyl disp  hp  drat wt    qsec  vs am gear carb\n",
       "1 Merc 230            NA  4   140.8  95 3.92 3.150 22.90 1  0  4    2   \n",
       "2 Lincoln Continental NA  8   460.0 215 3.00 5.424 17.82 0  0  3    4   \n",
       "3 Toyota Corona       NA  4   120.1  97 3.70 2.465 20.01 1  0  3    1   "
      ]
     },
     "metadata": {},
     "output_type": "display_data"
    }
   ],
   "source": [
    "# Filterin NAs\n",
    "mtcars$mpg[sample(32, 3)] <- NA\n",
    "\n",
    "mtcars %>% \n",
    "  filter(is.na(mpg)) %>% \n",
    "  head(3)"
   ]
  },
  {
   "cell_type": "code",
   "execution_count": 226,
   "id": "9a315a6e-4bdf-4f56-9330-fd90bdbf138e",
   "metadata": {},
   "outputs": [
    {
     "data": {
      "text/html": [
       "32"
      ],
      "text/latex": [
       "32"
      ],
      "text/markdown": [
       "32"
      ],
      "text/plain": [
       "[1] 32"
      ]
     },
     "metadata": {},
     "output_type": "display_data"
    },
    {
     "data": {
      "text/html": [
       "29"
      ],
      "text/latex": [
       "29"
      ],
      "text/markdown": [
       "29"
      ],
      "text/plain": [
       "[1] 29"
      ]
     },
     "metadata": {},
     "output_type": "display_data"
    }
   ],
   "source": [
    "# Filter complete rows\n",
    "mtcars %>% \n",
    "nrow()\n",
    "\n",
    "mtcars %>% \n",
    "  na.omit() %>% \n",
    "  nrow()"
   ]
  },
  {
   "cell_type": "markdown",
   "id": "068e825f-d917-4db5-9a56-16b1111577dc",
   "metadata": {},
   "source": [
    "<u>Using stringr</u>"
   ]
  },
  {
   "cell_type": "code",
   "execution_count": 7,
   "id": "faf43747-2f3c-48f2-958c-d109a118b2b1",
   "metadata": {},
   "outputs": [
    {
     "data": {
      "text/html": [
       "<table class=\"dataframe\">\n",
       "<caption>A data.frame: 2 × 12</caption>\n",
       "<thead>\n",
       "\t<tr><th></th><th scope=col>rowname</th><th scope=col>mpg</th><th scope=col>cyl</th><th scope=col>disp</th><th scope=col>hp</th><th scope=col>drat</th><th scope=col>wt</th><th scope=col>qsec</th><th scope=col>vs</th><th scope=col>am</th><th scope=col>gear</th><th scope=col>carb</th></tr>\n",
       "\t<tr><th></th><th scope=col>&lt;chr&gt;</th><th scope=col>&lt;dbl&gt;</th><th scope=col>&lt;dbl&gt;</th><th scope=col>&lt;dbl&gt;</th><th scope=col>&lt;dbl&gt;</th><th scope=col>&lt;dbl&gt;</th><th scope=col>&lt;dbl&gt;</th><th scope=col>&lt;dbl&gt;</th><th scope=col>&lt;dbl&gt;</th><th scope=col>&lt;dbl&gt;</th><th scope=col>&lt;dbl&gt;</th><th scope=col>&lt;dbl&gt;</th></tr>\n",
       "</thead>\n",
       "<tbody>\n",
       "\t<tr><th scope=row>1</th><td>Lincoln Continental</td><td>10.4</td><td>8</td><td>460.0</td><td>215</td><td>3.00</td><td>5.424</td><td>17.82</td><td>0</td><td>0</td><td>3</td><td>4</td></tr>\n",
       "\t<tr><th scope=row>2</th><td>Lotus Europa       </td><td>30.4</td><td>4</td><td> 95.1</td><td>113</td><td>3.77</td><td>1.513</td><td>16.90</td><td>1</td><td>1</td><td>5</td><td>2</td></tr>\n",
       "</tbody>\n",
       "</table>\n"
      ],
      "text/latex": [
       "A data.frame: 2 × 12\n",
       "\\begin{tabular}{r|llllllllllll}\n",
       "  & rowname & mpg & cyl & disp & hp & drat & wt & qsec & vs & am & gear & carb\\\\\n",
       "  & <chr> & <dbl> & <dbl> & <dbl> & <dbl> & <dbl> & <dbl> & <dbl> & <dbl> & <dbl> & <dbl> & <dbl>\\\\\n",
       "\\hline\n",
       "\t1 & Lincoln Continental & 10.4 & 8 & 460.0 & 215 & 3.00 & 5.424 & 17.82 & 0 & 0 & 3 & 4\\\\\n",
       "\t2 & Lotus Europa        & 30.4 & 4 &  95.1 & 113 & 3.77 & 1.513 & 16.90 & 1 & 1 & 5 & 2\\\\\n",
       "\\end{tabular}\n"
      ],
      "text/markdown": [
       "\n",
       "A data.frame: 2 × 12\n",
       "\n",
       "| <!--/--> | rowname &lt;chr&gt; | mpg &lt;dbl&gt; | cyl &lt;dbl&gt; | disp &lt;dbl&gt; | hp &lt;dbl&gt; | drat &lt;dbl&gt; | wt &lt;dbl&gt; | qsec &lt;dbl&gt; | vs &lt;dbl&gt; | am &lt;dbl&gt; | gear &lt;dbl&gt; | carb &lt;dbl&gt; |\n",
       "|---|---|---|---|---|---|---|---|---|---|---|---|---|\n",
       "| 1 | Lincoln Continental | 10.4 | 8 | 460.0 | 215 | 3.00 | 5.424 | 17.82 | 0 | 0 | 3 | 4 |\n",
       "| 2 | Lotus Europa        | 30.4 | 4 |  95.1 | 113 | 3.77 | 1.513 | 16.90 | 1 | 1 | 5 | 2 |\n",
       "\n"
      ],
      "text/plain": [
       "  rowname             mpg  cyl disp  hp  drat wt    qsec  vs am gear carb\n",
       "1 Lincoln Continental 10.4 8   460.0 215 3.00 5.424 17.82 0  0  3    4   \n",
       "2 Lotus Europa        30.4 4    95.1 113 3.77 1.513 16.90 1  1  5    2   "
      ]
     },
     "metadata": {},
     "output_type": "display_data"
    }
   ],
   "source": [
    "mtcars %>% \n",
    "  filter(str_detect(rowname, \"^L\")) %>% # starts with \"L\"\n",
    "  head(3)"
   ]
  },
  {
   "cell_type": "code",
   "execution_count": 198,
   "id": "cdaee288-fc3b-445c-90ed-a9bac871a02e",
   "metadata": {},
   "outputs": [
    {
     "data": {
      "text/html": [
       "<table class=\"dataframe\">\n",
       "<caption>A data.frame: 2 × 12</caption>\n",
       "<thead>\n",
       "\t<tr><th></th><th scope=col>rowname</th><th scope=col>mpg</th><th scope=col>cyl</th><th scope=col>disp</th><th scope=col>hp</th><th scope=col>drat</th><th scope=col>wt</th><th scope=col>qsec</th><th scope=col>vs</th><th scope=col>am</th><th scope=col>gear</th><th scope=col>carb</th></tr>\n",
       "\t<tr><th></th><th scope=col>&lt;chr&gt;</th><th scope=col>&lt;dbl&gt;</th><th scope=col>&lt;dbl&gt;</th><th scope=col>&lt;dbl&gt;</th><th scope=col>&lt;dbl&gt;</th><th scope=col>&lt;dbl&gt;</th><th scope=col>&lt;dbl&gt;</th><th scope=col>&lt;dbl&gt;</th><th scope=col>&lt;dbl&gt;</th><th scope=col>&lt;dbl&gt;</th><th scope=col>&lt;dbl&gt;</th><th scope=col>&lt;dbl&gt;</th></tr>\n",
       "</thead>\n",
       "<tbody>\n",
       "\t<tr><th scope=row>1</th><td>Merc 450SL    </td><td>17.3</td><td>8</td><td>275.8</td><td>180</td><td>3.07</td><td>3.73</td><td>17.6</td><td>0</td><td>0</td><td>3</td><td>3</td></tr>\n",
       "\t<tr><th scope=row>2</th><td>Ford Pantera L</td><td>15.8</td><td>8</td><td>351.0</td><td>264</td><td>4.22</td><td>3.17</td><td>14.5</td><td>0</td><td>1</td><td>5</td><td>4</td></tr>\n",
       "</tbody>\n",
       "</table>\n"
      ],
      "text/latex": [
       "A data.frame: 2 × 12\n",
       "\\begin{tabular}{r|llllllllllll}\n",
       "  & rowname & mpg & cyl & disp & hp & drat & wt & qsec & vs & am & gear & carb\\\\\n",
       "  & <chr> & <dbl> & <dbl> & <dbl> & <dbl> & <dbl> & <dbl> & <dbl> & <dbl> & <dbl> & <dbl> & <dbl>\\\\\n",
       "\\hline\n",
       "\t1 & Merc 450SL     & 17.3 & 8 & 275.8 & 180 & 3.07 & 3.73 & 17.6 & 0 & 0 & 3 & 3\\\\\n",
       "\t2 & Ford Pantera L & 15.8 & 8 & 351.0 & 264 & 4.22 & 3.17 & 14.5 & 0 & 1 & 5 & 4\\\\\n",
       "\\end{tabular}\n"
      ],
      "text/markdown": [
       "\n",
       "A data.frame: 2 × 12\n",
       "\n",
       "| <!--/--> | rowname &lt;chr&gt; | mpg &lt;dbl&gt; | cyl &lt;dbl&gt; | disp &lt;dbl&gt; | hp &lt;dbl&gt; | drat &lt;dbl&gt; | wt &lt;dbl&gt; | qsec &lt;dbl&gt; | vs &lt;dbl&gt; | am &lt;dbl&gt; | gear &lt;dbl&gt; | carb &lt;dbl&gt; |\n",
       "|---|---|---|---|---|---|---|---|---|---|---|---|---|\n",
       "| 1 | Merc 450SL     | 17.3 | 8 | 275.8 | 180 | 3.07 | 3.73 | 17.6 | 0 | 0 | 3 | 3 |\n",
       "| 2 | Ford Pantera L | 15.8 | 8 | 351.0 | 264 | 4.22 | 3.17 | 14.5 | 0 | 1 | 5 | 4 |\n",
       "\n"
      ],
      "text/plain": [
       "  rowname        mpg  cyl disp  hp  drat wt   qsec vs am gear carb\n",
       "1 Merc 450SL     17.3 8   275.8 180 3.07 3.73 17.6 0  0  3    3   \n",
       "2 Ford Pantera L 15.8 8   351.0 264 4.22 3.17 14.5 0  1  5    4   "
      ]
     },
     "metadata": {},
     "output_type": "display_data"
    }
   ],
   "source": [
    "mtcars %>% \n",
    "  filter(str_detect(rowname, \"L$\")) %>% # ends with \"L\"\n",
    "  head(3)"
   ]
  },
  {
   "cell_type": "code",
   "execution_count": 200,
   "id": "6f8c90c6-dd89-4a7c-9c4d-672ea9ec884c",
   "metadata": {},
   "outputs": [
    {
     "data": {
      "text/html": [
       "<table class=\"dataframe\">\n",
       "<caption>A data.frame: 3 × 12</caption>\n",
       "<thead>\n",
       "\t<tr><th></th><th scope=col>rowname</th><th scope=col>mpg</th><th scope=col>cyl</th><th scope=col>disp</th><th scope=col>hp</th><th scope=col>drat</th><th scope=col>wt</th><th scope=col>qsec</th><th scope=col>vs</th><th scope=col>am</th><th scope=col>gear</th><th scope=col>carb</th></tr>\n",
       "\t<tr><th></th><th scope=col>&lt;chr&gt;</th><th scope=col>&lt;dbl&gt;</th><th scope=col>&lt;dbl&gt;</th><th scope=col>&lt;dbl&gt;</th><th scope=col>&lt;dbl&gt;</th><th scope=col>&lt;dbl&gt;</th><th scope=col>&lt;dbl&gt;</th><th scope=col>&lt;dbl&gt;</th><th scope=col>&lt;dbl&gt;</th><th scope=col>&lt;dbl&gt;</th><th scope=col>&lt;dbl&gt;</th><th scope=col>&lt;dbl&gt;</th></tr>\n",
       "</thead>\n",
       "<tbody>\n",
       "\t<tr><th scope=row>1</th><td>Mazda RX4    </td><td>21.0</td><td>6</td><td>160</td><td>110</td><td>3.90</td><td>2.620</td><td>16.46</td><td>0</td><td>1</td><td>4</td><td>4</td></tr>\n",
       "\t<tr><th scope=row>2</th><td>Mazda RX4 Wag</td><td>21.0</td><td>6</td><td>160</td><td>110</td><td>3.90</td><td>2.875</td><td>17.02</td><td>0</td><td>1</td><td>4</td><td>4</td></tr>\n",
       "\t<tr><th scope=row>3</th><td>Datsun 710   </td><td>22.8</td><td>4</td><td>108</td><td> 93</td><td>3.85</td><td>2.320</td><td>18.61</td><td>1</td><td>1</td><td>4</td><td>1</td></tr>\n",
       "</tbody>\n",
       "</table>\n"
      ],
      "text/latex": [
       "A data.frame: 3 × 12\n",
       "\\begin{tabular}{r|llllllllllll}\n",
       "  & rowname & mpg & cyl & disp & hp & drat & wt & qsec & vs & am & gear & carb\\\\\n",
       "  & <chr> & <dbl> & <dbl> & <dbl> & <dbl> & <dbl> & <dbl> & <dbl> & <dbl> & <dbl> & <dbl> & <dbl>\\\\\n",
       "\\hline\n",
       "\t1 & Mazda RX4     & 21.0 & 6 & 160 & 110 & 3.90 & 2.620 & 16.46 & 0 & 1 & 4 & 4\\\\\n",
       "\t2 & Mazda RX4 Wag & 21.0 & 6 & 160 & 110 & 3.90 & 2.875 & 17.02 & 0 & 1 & 4 & 4\\\\\n",
       "\t3 & Datsun 710    & 22.8 & 4 & 108 &  93 & 3.85 & 2.320 & 18.61 & 1 & 1 & 4 & 1\\\\\n",
       "\\end{tabular}\n"
      ],
      "text/markdown": [
       "\n",
       "A data.frame: 3 × 12\n",
       "\n",
       "| <!--/--> | rowname &lt;chr&gt; | mpg &lt;dbl&gt; | cyl &lt;dbl&gt; | disp &lt;dbl&gt; | hp &lt;dbl&gt; | drat &lt;dbl&gt; | wt &lt;dbl&gt; | qsec &lt;dbl&gt; | vs &lt;dbl&gt; | am &lt;dbl&gt; | gear &lt;dbl&gt; | carb &lt;dbl&gt; |\n",
       "|---|---|---|---|---|---|---|---|---|---|---|---|---|\n",
       "| 1 | Mazda RX4     | 21.0 | 6 | 160 | 110 | 3.90 | 2.620 | 16.46 | 0 | 1 | 4 | 4 |\n",
       "| 2 | Mazda RX4 Wag | 21.0 | 6 | 160 | 110 | 3.90 | 2.875 | 17.02 | 0 | 1 | 4 | 4 |\n",
       "| 3 | Datsun 710    | 22.8 | 4 | 108 |  93 | 3.85 | 2.320 | 18.61 | 1 | 1 | 4 | 1 |\n",
       "\n"
      ],
      "text/plain": [
       "  rowname       mpg  cyl disp hp  drat wt    qsec  vs am gear carb\n",
       "1 Mazda RX4     21.0 6   160  110 3.90 2.620 16.46 0  1  4    4   \n",
       "2 Mazda RX4 Wag 21.0 6   160  110 3.90 2.875 17.02 0  1  4    4   \n",
       "3 Datsun 710    22.8 4   108   93 3.85 2.320 18.61 1  1  4    1   "
      ]
     },
     "metadata": {},
     "output_type": "display_data"
    }
   ],
   "source": [
    "mtcars %>%  \n",
    "  filter(str_detect(rowname, \"\\\\d\")) %>% # contains digits\n",
    "  head(3)  "
   ]
  },
  {
   "cell_type": "code",
   "execution_count": 201,
   "id": "893a8c7d-c0e5-43ea-a600-dc1facbf5ecf",
   "metadata": {},
   "outputs": [
    {
     "data": {
      "text/html": [
       "<table class=\"dataframe\">\n",
       "<caption>A data.frame: 3 × 12</caption>\n",
       "<thead>\n",
       "\t<tr><th></th><th scope=col>rowname</th><th scope=col>mpg</th><th scope=col>cyl</th><th scope=col>disp</th><th scope=col>hp</th><th scope=col>drat</th><th scope=col>wt</th><th scope=col>qsec</th><th scope=col>vs</th><th scope=col>am</th><th scope=col>gear</th><th scope=col>carb</th></tr>\n",
       "\t<tr><th></th><th scope=col>&lt;chr&gt;</th><th scope=col>&lt;dbl&gt;</th><th scope=col>&lt;dbl&gt;</th><th scope=col>&lt;dbl&gt;</th><th scope=col>&lt;dbl&gt;</th><th scope=col>&lt;dbl&gt;</th><th scope=col>&lt;dbl&gt;</th><th scope=col>&lt;dbl&gt;</th><th scope=col>&lt;dbl&gt;</th><th scope=col>&lt;dbl&gt;</th><th scope=col>&lt;dbl&gt;</th><th scope=col>&lt;dbl&gt;</th></tr>\n",
       "</thead>\n",
       "<tbody>\n",
       "\t<tr><th scope=row>1</th><td>Hornet Sportabout </td><td>18.7</td><td>8</td><td>360</td><td>175</td><td>3.15</td><td>3.44</td><td>17.02</td><td>0</td><td>0</td><td>3</td><td>2</td></tr>\n",
       "\t<tr><th scope=row>2</th><td>Valiant           </td><td>18.1</td><td>6</td><td>225</td><td>105</td><td>2.76</td><td>3.46</td><td>20.22</td><td>1</td><td>0</td><td>3</td><td>1</td></tr>\n",
       "\t<tr><th scope=row>3</th><td>Cadillac Fleetwood</td><td>10.4</td><td>8</td><td>472</td><td>205</td><td>2.93</td><td>5.25</td><td>17.98</td><td>0</td><td>0</td><td>3</td><td>4</td></tr>\n",
       "</tbody>\n",
       "</table>\n"
      ],
      "text/latex": [
       "A data.frame: 3 × 12\n",
       "\\begin{tabular}{r|llllllllllll}\n",
       "  & rowname & mpg & cyl & disp & hp & drat & wt & qsec & vs & am & gear & carb\\\\\n",
       "  & <chr> & <dbl> & <dbl> & <dbl> & <dbl> & <dbl> & <dbl> & <dbl> & <dbl> & <dbl> & <dbl> & <dbl>\\\\\n",
       "\\hline\n",
       "\t1 & Hornet Sportabout  & 18.7 & 8 & 360 & 175 & 3.15 & 3.44 & 17.02 & 0 & 0 & 3 & 2\\\\\n",
       "\t2 & Valiant            & 18.1 & 6 & 225 & 105 & 2.76 & 3.46 & 20.22 & 1 & 0 & 3 & 1\\\\\n",
       "\t3 & Cadillac Fleetwood & 10.4 & 8 & 472 & 205 & 2.93 & 5.25 & 17.98 & 0 & 0 & 3 & 4\\\\\n",
       "\\end{tabular}\n"
      ],
      "text/markdown": [
       "\n",
       "A data.frame: 3 × 12\n",
       "\n",
       "| <!--/--> | rowname &lt;chr&gt; | mpg &lt;dbl&gt; | cyl &lt;dbl&gt; | disp &lt;dbl&gt; | hp &lt;dbl&gt; | drat &lt;dbl&gt; | wt &lt;dbl&gt; | qsec &lt;dbl&gt; | vs &lt;dbl&gt; | am &lt;dbl&gt; | gear &lt;dbl&gt; | carb &lt;dbl&gt; |\n",
       "|---|---|---|---|---|---|---|---|---|---|---|---|---|\n",
       "| 1 | Hornet Sportabout  | 18.7 | 8 | 360 | 175 | 3.15 | 3.44 | 17.02 | 0 | 0 | 3 | 2 |\n",
       "| 2 | Valiant            | 18.1 | 6 | 225 | 105 | 2.76 | 3.46 | 20.22 | 1 | 0 | 3 | 1 |\n",
       "| 3 | Cadillac Fleetwood | 10.4 | 8 | 472 | 205 | 2.93 | 5.25 | 17.98 | 0 | 0 | 3 | 4 |\n",
       "\n"
      ],
      "text/plain": [
       "  rowname            mpg  cyl disp hp  drat wt   qsec  vs am gear carb\n",
       "1 Hornet Sportabout  18.7 8   360  175 3.15 3.44 17.02 0  0  3    2   \n",
       "2 Valiant            18.1 6   225  105 2.76 3.46 20.22 1  0  3    1   \n",
       "3 Cadillac Fleetwood 10.4 8   472  205 2.93 5.25 17.98 0  0  3    4   "
      ]
     },
     "metadata": {},
     "output_type": "display_data"
    }
   ],
   "source": [
    "mtcars %>% \n",
    "  filter(!str_detect(rowname, \"\\\\d\")) %>% # does not contain digits\n",
    "  head(3)  "
   ]
  },
  {
   "cell_type": "code",
   "execution_count": 207,
   "id": "a5579058-4b7d-4b8e-9eb9-8a0b5957cc9f",
   "metadata": {},
   "outputs": [
    {
     "data": {
      "text/html": [
       "<table class=\"dataframe\">\n",
       "<caption>A data.frame: 3 × 12</caption>\n",
       "<thead>\n",
       "\t<tr><th></th><th scope=col>rowname</th><th scope=col>mpg</th><th scope=col>cyl</th><th scope=col>disp</th><th scope=col>hp</th><th scope=col>drat</th><th scope=col>wt</th><th scope=col>qsec</th><th scope=col>vs</th><th scope=col>am</th><th scope=col>gear</th><th scope=col>carb</th></tr>\n",
       "\t<tr><th></th><th scope=col>&lt;chr&gt;</th><th scope=col>&lt;dbl&gt;</th><th scope=col>&lt;dbl&gt;</th><th scope=col>&lt;dbl&gt;</th><th scope=col>&lt;dbl&gt;</th><th scope=col>&lt;dbl&gt;</th><th scope=col>&lt;dbl&gt;</th><th scope=col>&lt;dbl&gt;</th><th scope=col>&lt;dbl&gt;</th><th scope=col>&lt;dbl&gt;</th><th scope=col>&lt;dbl&gt;</th><th scope=col>&lt;dbl&gt;</th></tr>\n",
       "</thead>\n",
       "<tbody>\n",
       "\t<tr><th scope=row>1</th><td>Toyota Corolla</td><td>33.9</td><td>4</td><td> 71.1</td><td>65</td><td>4.22</td><td>1.835</td><td>19.9</td><td>1</td><td>1</td><td>4</td><td>1</td></tr>\n",
       "\t<tr><th scope=row>2</th><td>Merc 240D     </td><td>24.4</td><td>4</td><td>146.7</td><td>62</td><td>3.69</td><td>3.190</td><td>20.0</td><td>1</td><td>0</td><td>4</td><td>2</td></tr>\n",
       "\t<tr><th scope=row>3</th><td>Merc 230      </td><td>22.8</td><td>4</td><td>140.8</td><td>95</td><td>3.92</td><td>3.150</td><td>22.9</td><td>1</td><td>0</td><td>4</td><td>2</td></tr>\n",
       "</tbody>\n",
       "</table>\n"
      ],
      "text/latex": [
       "A data.frame: 3 × 12\n",
       "\\begin{tabular}{r|llllllllllll}\n",
       "  & rowname & mpg & cyl & disp & hp & drat & wt & qsec & vs & am & gear & carb\\\\\n",
       "  & <chr> & <dbl> & <dbl> & <dbl> & <dbl> & <dbl> & <dbl> & <dbl> & <dbl> & <dbl> & <dbl> & <dbl>\\\\\n",
       "\\hline\n",
       "\t1 & Toyota Corolla & 33.9 & 4 &  71.1 & 65 & 4.22 & 1.835 & 19.9 & 1 & 1 & 4 & 1\\\\\n",
       "\t2 & Merc 240D      & 24.4 & 4 & 146.7 & 62 & 3.69 & 3.190 & 20.0 & 1 & 0 & 4 & 2\\\\\n",
       "\t3 & Merc 230       & 22.8 & 4 & 140.8 & 95 & 3.92 & 3.150 & 22.9 & 1 & 0 & 4 & 2\\\\\n",
       "\\end{tabular}\n"
      ],
      "text/markdown": [
       "\n",
       "A data.frame: 3 × 12\n",
       "\n",
       "| <!--/--> | rowname &lt;chr&gt; | mpg &lt;dbl&gt; | cyl &lt;dbl&gt; | disp &lt;dbl&gt; | hp &lt;dbl&gt; | drat &lt;dbl&gt; | wt &lt;dbl&gt; | qsec &lt;dbl&gt; | vs &lt;dbl&gt; | am &lt;dbl&gt; | gear &lt;dbl&gt; | carb &lt;dbl&gt; |\n",
       "|---|---|---|---|---|---|---|---|---|---|---|---|---|\n",
       "| 1 | Toyota Corolla | 33.9 | 4 |  71.1 | 65 | 4.22 | 1.835 | 19.9 | 1 | 1 | 4 | 1 |\n",
       "| 2 | Merc 240D      | 24.4 | 4 | 146.7 | 62 | 3.69 | 3.190 | 20.0 | 1 | 0 | 4 | 2 |\n",
       "| 3 | Merc 230       | 22.8 | 4 | 140.8 | 95 | 3.92 | 3.150 | 22.9 | 1 | 0 | 4 | 2 |\n",
       "\n"
      ],
      "text/plain": [
       "  rowname        mpg  cyl disp  hp drat wt    qsec vs am gear carb\n",
       "1 Toyota Corolla 33.9 4    71.1 65 4.22 1.835 19.9 1  1  4    1   \n",
       "2 Merc 240D      24.4 4   146.7 62 3.69 3.190 20.0 1  0  4    2   \n",
       "3 Merc 230       22.8 4   140.8 95 3.92 3.150 22.9 1  0  4    2   "
      ]
     },
     "metadata": {},
     "output_type": "display_data"
    }
   ],
   "source": [
    "mtcars %>% \n",
    "  filter(str_detect(rowname, \"Merc|Toy\")) %>%\n",
    "  arrange(desc(mpg)) %>%\n",
    "  head(3)  "
   ]
  },
  {
   "cell_type": "markdown",
   "id": "1e84f12b-2d26-44e5-b4ff-cab19c8c4172",
   "metadata": {},
   "source": [
    "<a name=\"toc_54826_5\"></a>\n",
    "## 5.  Advanced variable manipulation\n",
    "\n",
    "Extract, relocate and rename columns\n",
    "- `pull()` - column values to vector\n",
    "- `relocate()` - move columns to a new position\n",
    "- `rename()` - rename variables\n",
    "$$$$\n",
    "\n",
    "Handle NAs\n",
    "- `is.na()` and `!is.na()`  - find NAs in a column\n",
    "- `replace_na(list(x = 0))` - replace NAs in column x with a custom value (here 0)\n",
    "$$$$\n",
    "\n",
    "Functions to manipulate multiple variables at once:\n",
    "- `across()` - summarise or mutate multiple columns in the same way\n",
    "- `c_across()` - Compute across columns in row-wise data (first, use `rowwise()` to group data into individual rows!)\n",
    "$$$$\n",
    "\n",
    "Functions to use with `mutate()`:\n",
    "- Offsetting\n",
    "    - `lag()` - offset elements by 1\n",
    "    - `lead()` - offset elements by -1\n",
    "- Conditions\n",
    "   - `case_when()` - multi-case if_else()\n",
    "   - `if_else()` - element-wise if() + else()\n",
    "   - `na_if()` - replace specific values with NA\n",
    "   - `mutate_if`()"
   ]
  },
  {
   "cell_type": "markdown",
   "id": "e2273b6f-c5d0-4a7f-b419-632f03e237c1",
   "metadata": {},
   "source": [
    "<u>Extract variables</u>"
   ]
  },
  {
   "cell_type": "code",
   "execution_count": 294,
   "id": "cc72648d-bcc6-4dc8-a34f-3bc885f69a1c",
   "metadata": {},
   "outputs": [
    {
     "data": {
      "text/html": [
       "<style>\n",
       ".list-inline {list-style: none; margin:0; padding: 0}\n",
       ".list-inline>li {display: inline-block}\n",
       ".list-inline>li:not(:last-child)::after {content: \"\\00b7\"; padding: 0 .5ex}\n",
       "</style>\n",
       "<ol class=list-inline><li>'Aaron'</li><li>'Ab'</li><li>'Abbie'</li><li>'Abbott'</li><li>'Abby'</li><li>'Abe'</li></ol>\n"
      ],
      "text/latex": [
       "\\begin{enumerate*}\n",
       "\\item 'Aaron'\n",
       "\\item 'Ab'\n",
       "\\item 'Abbie'\n",
       "\\item 'Abbott'\n",
       "\\item 'Abby'\n",
       "\\item 'Abe'\n",
       "\\end{enumerate*}\n"
      ],
      "text/markdown": [
       "1. 'Aaron'\n",
       "2. 'Ab'\n",
       "3. 'Abbie'\n",
       "4. 'Abbott'\n",
       "5. 'Abby'\n",
       "6. 'Abe'\n",
       "\n",
       "\n"
      ],
      "text/plain": [
       "[1] \"Aaron\"  \"Ab\"     \"Abbie\"  \"Abbott\" \"Abby\"   \"Abe\"   "
      ]
     },
     "metadata": {},
     "output_type": "display_data"
    }
   ],
   "source": [
    "nana <- baby %>%\n",
    "  pull(name)\n",
    "\n",
    "head(unique(nana))"
   ]
  },
  {
   "cell_type": "markdown",
   "id": "4a101d8c-6eec-4a1c-96f3-de7212dd9348",
   "metadata": {},
   "source": [
    "<u>Relocate columns</u>"
   ]
  },
  {
   "cell_type": "code",
   "execution_count": 301,
   "id": "018aa08f-a845-441c-9ce9-49131f1c9755",
   "metadata": {},
   "outputs": [
    {
     "data": {
      "text/html": [
       "<style>\n",
       ".list-inline {list-style: none; margin:0; padding: 0}\n",
       ".list-inline>li {display: inline-block}\n",
       ".list-inline>li:not(:last-child)::after {content: \"\\00b7\"; padding: 0 .5ex}\n",
       "</style>\n",
       "<ol class=list-inline><li>'year'</li><li>'name'</li><li>'number'</li></ol>\n"
      ],
      "text/latex": [
       "\\begin{enumerate*}\n",
       "\\item 'year'\n",
       "\\item 'name'\n",
       "\\item 'number'\n",
       "\\end{enumerate*}\n"
      ],
      "text/markdown": [
       "1. 'year'\n",
       "2. 'name'\n",
       "3. 'number'\n",
       "\n",
       "\n"
      ],
      "text/plain": [
       "[1] \"year\"   \"name\"   \"number\""
      ]
     },
     "metadata": {},
     "output_type": "display_data"
    },
    {
     "data": {
      "text/html": [
       "<style>\n",
       ".list-inline {list-style: none; margin:0; padding: 0}\n",
       ".list-inline>li {display: inline-block}\n",
       ".list-inline>li:not(:last-child)::after {content: \"\\00b7\"; padding: 0 .5ex}\n",
       "</style>\n",
       "<ol class=list-inline><li>'number'</li><li>'year'</li><li>'name'</li></ol>\n"
      ],
      "text/latex": [
       "\\begin{enumerate*}\n",
       "\\item 'number'\n",
       "\\item 'year'\n",
       "\\item 'name'\n",
       "\\end{enumerate*}\n"
      ],
      "text/markdown": [
       "1. 'number'\n",
       "2. 'year'\n",
       "3. 'name'\n",
       "\n",
       "\n"
      ],
      "text/plain": [
       "[1] \"number\" \"year\"   \"name\"  "
      ]
     },
     "metadata": {},
     "output_type": "display_data"
    },
    {
     "data": {
      "text/html": [
       "<style>\n",
       ".list-inline {list-style: none; margin:0; padding: 0}\n",
       ".list-inline>li {display: inline-block}\n",
       ".list-inline>li:not(:last-child)::after {content: \"\\00b7\"; padding: 0 .5ex}\n",
       "</style>\n",
       "<ol class=list-inline><li>'name'</li><li>'number'</li><li>'year'</li></ol>\n"
      ],
      "text/latex": [
       "\\begin{enumerate*}\n",
       "\\item 'name'\n",
       "\\item 'number'\n",
       "\\item 'year'\n",
       "\\end{enumerate*}\n"
      ],
      "text/markdown": [
       "1. 'name'\n",
       "2. 'number'\n",
       "3. 'year'\n",
       "\n",
       "\n"
      ],
      "text/plain": [
       "[1] \"name\"   \"number\" \"year\"  "
      ]
     },
     "metadata": {},
     "output_type": "display_data"
    }
   ],
   "source": [
    "names(baby)\n",
    "\n",
    "baby %>%\n",
    "  relocate(number, year, name) %>%\n",
    "  names()\n",
    "\n",
    "baby %>%\n",
    "  relocate(year, .after = last_col()) %>%\n",
    "  names()"
   ]
  },
  {
   "cell_type": "markdown",
   "id": "a32d6c1e-13f4-4278-a91f-eebf64d88a2c",
   "metadata": {},
   "source": [
    "<u>Manipulate multiple cases at once</u>"
   ]
  },
  {
   "cell_type": "code",
   "execution_count": 340,
   "id": "c9c53eb1-2b79-44a6-b5bb-66ad14abf505",
   "metadata": {},
   "outputs": [
    {
     "data": {
      "text/html": [
       "<table class=\"dataframe\">\n",
       "<caption>A grouped_df: 2 × 12</caption>\n",
       "<thead>\n",
       "\t<tr><th scope=col>rowname</th><th scope=col>mpg</th><th scope=col>cyl</th><th scope=col>disp</th><th scope=col>hp</th><th scope=col>drat</th><th scope=col>wt</th><th scope=col>qsec</th><th scope=col>vs</th><th scope=col>am</th><th scope=col>gear</th><th scope=col>carb</th></tr>\n",
       "\t<tr><th scope=col>&lt;chr&gt;</th><th scope=col>&lt;dbl&gt;</th><th scope=col>&lt;dbl&gt;</th><th scope=col>&lt;dbl&gt;</th><th scope=col>&lt;dbl&gt;</th><th scope=col>&lt;dbl&gt;</th><th scope=col>&lt;dbl&gt;</th><th scope=col>&lt;dbl&gt;</th><th scope=col>&lt;dbl&gt;</th><th scope=col>&lt;dbl&gt;</th><th scope=col>&lt;dbl&gt;</th><th scope=col>&lt;dbl&gt;</th></tr>\n",
       "</thead>\n",
       "<tbody>\n",
       "\t<tr><td>Mazda RX4    </td><td>21</td><td>6</td><td>160</td><td>110</td><td>3.9</td><td>2.62</td><td>16.46</td><td>0</td><td>1</td><td>4</td><td>4</td></tr>\n",
       "\t<tr><td>Mazda RX4 Wag</td><td>21</td><td>6</td><td>160</td><td>110</td><td>3.9</td><td>2.88</td><td>17.02</td><td>0</td><td>1</td><td>4</td><td>4</td></tr>\n",
       "</tbody>\n",
       "</table>\n"
      ],
      "text/latex": [
       "A grouped\\_df: 2 × 12\n",
       "\\begin{tabular}{llllllllllll}\n",
       " rowname & mpg & cyl & disp & hp & drat & wt & qsec & vs & am & gear & carb\\\\\n",
       " <chr> & <dbl> & <dbl> & <dbl> & <dbl> & <dbl> & <dbl> & <dbl> & <dbl> & <dbl> & <dbl> & <dbl>\\\\\n",
       "\\hline\n",
       "\t Mazda RX4     & 21 & 6 & 160 & 110 & 3.9 & 2.62 & 16.46 & 0 & 1 & 4 & 4\\\\\n",
       "\t Mazda RX4 Wag & 21 & 6 & 160 & 110 & 3.9 & 2.88 & 17.02 & 0 & 1 & 4 & 4\\\\\n",
       "\\end{tabular}\n"
      ],
      "text/markdown": [
       "\n",
       "A grouped_df: 2 × 12\n",
       "\n",
       "| rowname &lt;chr&gt; | mpg &lt;dbl&gt; | cyl &lt;dbl&gt; | disp &lt;dbl&gt; | hp &lt;dbl&gt; | drat &lt;dbl&gt; | wt &lt;dbl&gt; | qsec &lt;dbl&gt; | vs &lt;dbl&gt; | am &lt;dbl&gt; | gear &lt;dbl&gt; | carb &lt;dbl&gt; |\n",
       "|---|---|---|---|---|---|---|---|---|---|---|---|\n",
       "| Mazda RX4     | 21 | 6 | 160 | 110 | 3.9 | 2.62 | 16.46 | 0 | 1 | 4 | 4 |\n",
       "| Mazda RX4 Wag | 21 | 6 | 160 | 110 | 3.9 | 2.88 | 17.02 | 0 | 1 | 4 | 4 |\n",
       "\n"
      ],
      "text/plain": [
       "  rowname       mpg cyl disp hp  drat wt   qsec  vs am gear carb\n",
       "1 Mazda RX4     21  6   160  110 3.9  2.62 16.46 0  1  4    4   \n",
       "2 Mazda RX4 Wag 21  6   160  110 3.9  2.88 17.02 0  1  4    4   "
      ]
     },
     "metadata": {},
     "output_type": "display_data"
    }
   ],
   "source": [
    "mtcars %>%\n",
    "  group_by(rowname) %>%\n",
    "  mutate(across(c(wt, qsec), ~ round(.x, 2))) %>% # .x refers to the given column\n",
    "  head(2)"
   ]
  },
  {
   "cell_type": "code",
   "execution_count": 322,
   "id": "511f82a2-fdf8-4966-85ce-58d20ce35af5",
   "metadata": {},
   "outputs": [
    {
     "data": {
      "text/html": [
       "<table class=\"dataframe\">\n",
       "<caption>A tibble: 3 × 3</caption>\n",
       "<thead>\n",
       "\t<tr><th scope=col>Species</th><th scope=col>mean_Sepal.Length</th><th scope=col>mean_Sepal.Width</th></tr>\n",
       "\t<tr><th scope=col>&lt;fct&gt;</th><th scope=col>&lt;dbl&gt;</th><th scope=col>&lt;dbl&gt;</th></tr>\n",
       "</thead>\n",
       "<tbody>\n",
       "\t<tr><td>setosa    </td><td>5.006</td><td>3.428</td></tr>\n",
       "\t<tr><td>versicolor</td><td>5.936</td><td>2.770</td></tr>\n",
       "\t<tr><td>virginica </td><td>6.588</td><td>2.974</td></tr>\n",
       "</tbody>\n",
       "</table>\n"
      ],
      "text/latex": [
       "A tibble: 3 × 3\n",
       "\\begin{tabular}{lll}\n",
       " Species & mean\\_Sepal.Length & mean\\_Sepal.Width\\\\\n",
       " <fct> & <dbl> & <dbl>\\\\\n",
       "\\hline\n",
       "\t setosa     & 5.006 & 3.428\\\\\n",
       "\t versicolor & 5.936 & 2.770\\\\\n",
       "\t virginica  & 6.588 & 2.974\\\\\n",
       "\\end{tabular}\n"
      ],
      "text/markdown": [
       "\n",
       "A tibble: 3 × 3\n",
       "\n",
       "| Species &lt;fct&gt; | mean_Sepal.Length &lt;dbl&gt; | mean_Sepal.Width &lt;dbl&gt; |\n",
       "|---|---|---|\n",
       "| setosa     | 5.006 | 3.428 |\n",
       "| versicolor | 5.936 | 2.770 |\n",
       "| virginica  | 6.588 | 2.974 |\n",
       "\n"
      ],
      "text/plain": [
       "  Species    mean_Sepal.Length mean_Sepal.Width\n",
       "1 setosa     5.006             3.428           \n",
       "2 versicolor 5.936             2.770           \n",
       "3 virginica  6.588             2.974           "
      ]
     },
     "metadata": {},
     "output_type": "display_data"
    }
   ],
   "source": [
    "iris %>%\n",
    "  group_by(Species) %>%\n",
    "  summarise(across(starts_with(\"Sepal\"), mean, .names = \"mean_{.col}\"))"
   ]
  },
  {
   "cell_type": "code",
   "execution_count": 320,
   "id": "58e8a2e8-3591-4af3-a7a5-87b8b3b0205b",
   "metadata": {},
   "outputs": [
    {
     "data": {
      "text/html": [
       "<table class=\"dataframe\">\n",
       "<caption>A tibble: 3 × 5</caption>\n",
       "<thead>\n",
       "\t<tr><th scope=col>Species</th><th scope=col>Sepal.Length_mean</th><th scope=col>Sepal.Length_sd</th><th scope=col>Sepal.Width_mean</th><th scope=col>Sepal.Width_sd</th></tr>\n",
       "\t<tr><th scope=col>&lt;fct&gt;</th><th scope=col>&lt;dbl&gt;</th><th scope=col>&lt;dbl&gt;</th><th scope=col>&lt;dbl&gt;</th><th scope=col>&lt;dbl&gt;</th></tr>\n",
       "</thead>\n",
       "<tbody>\n",
       "\t<tr><td>setosa    </td><td>5.006</td><td>0.3524897</td><td>3.428</td><td>0.3790644</td></tr>\n",
       "\t<tr><td>versicolor</td><td>5.936</td><td>0.5161711</td><td>2.770</td><td>0.3137983</td></tr>\n",
       "\t<tr><td>virginica </td><td>6.588</td><td>0.6358796</td><td>2.974</td><td>0.3224966</td></tr>\n",
       "</tbody>\n",
       "</table>\n"
      ],
      "text/latex": [
       "A tibble: 3 × 5\n",
       "\\begin{tabular}{lllll}\n",
       " Species & Sepal.Length\\_mean & Sepal.Length\\_sd & Sepal.Width\\_mean & Sepal.Width\\_sd\\\\\n",
       " <fct> & <dbl> & <dbl> & <dbl> & <dbl>\\\\\n",
       "\\hline\n",
       "\t setosa     & 5.006 & 0.3524897 & 3.428 & 0.3790644\\\\\n",
       "\t versicolor & 5.936 & 0.5161711 & 2.770 & 0.3137983\\\\\n",
       "\t virginica  & 6.588 & 0.6358796 & 2.974 & 0.3224966\\\\\n",
       "\\end{tabular}\n"
      ],
      "text/markdown": [
       "\n",
       "A tibble: 3 × 5\n",
       "\n",
       "| Species &lt;fct&gt; | Sepal.Length_mean &lt;dbl&gt; | Sepal.Length_sd &lt;dbl&gt; | Sepal.Width_mean &lt;dbl&gt; | Sepal.Width_sd &lt;dbl&gt; |\n",
       "|---|---|---|---|---|\n",
       "| setosa     | 5.006 | 0.3524897 | 3.428 | 0.3790644 |\n",
       "| versicolor | 5.936 | 0.5161711 | 2.770 | 0.3137983 |\n",
       "| virginica  | 6.588 | 0.6358796 | 2.974 | 0.3224966 |\n",
       "\n"
      ],
      "text/plain": [
       "  Species    Sepal.Length_mean Sepal.Length_sd Sepal.Width_mean Sepal.Width_sd\n",
       "1 setosa     5.006             0.3524897       3.428            0.3790644     \n",
       "2 versicolor 5.936             0.5161711       2.770            0.3137983     \n",
       "3 virginica  6.588             0.6358796       2.974            0.3224966     "
      ]
     },
     "metadata": {},
     "output_type": "display_data"
    }
   ],
   "source": [
    "iris %>%\n",
    "  group_by(Species) %>%\n",
    "  summarise(across(starts_with(\"Sepal\"), list(mean = mean, sd = sd)))"
   ]
  },
  {
   "cell_type": "code",
   "execution_count": 1,
   "id": "c00a5da7-c2b1-48d3-9822-dee3baca6b37",
   "metadata": {},
   "outputs": [
    {
     "ename": "ERROR",
     "evalue": "Error in tibble(id = 1:4, w = runif(4), x = runif(4), y = runif(4), z = runif(4)): could not find function \"tibble\"\n",
     "output_type": "error",
     "traceback": [
      "Error in tibble(id = 1:4, w = runif(4), x = runif(4), y = runif(4), z = runif(4)): could not find function \"tibble\"\nTraceback:\n"
     ]
    }
   ],
   "source": [
    "# Use c_across\n",
    "df <- tibble(id = 1:4, \n",
    "             w = runif(4), \n",
    "             x = runif(4), \n",
    "             y = runif(4), \n",
    "             z = runif(4))\n",
    "\n",
    "df %>%\n",
    "  rowwise() %>%\n",
    "  mutate(\n",
    "    sum = sum(c_across(w:z)),\n",
    "    sd = sd(c_across(w:z))\n",
    "  )"
   ]
  },
  {
   "cell_type": "markdown",
   "id": "d304cb2f-7c26-49b7-92ee-d73b90eca6f6",
   "metadata": {},
   "source": [
    "<u>Offset functions</u>\n",
    "\n",
    "It takes a vector and returns another vector of the same length."
   ]
  },
  {
   "cell_type": "code",
   "execution_count": 268,
   "id": "b049723f-cf13-44c3-a070-1b0771f37e19",
   "metadata": {},
   "outputs": [
    {
     "data": {
      "text/html": [
       "<style>\n",
       ".list-inline {list-style: none; margin:0; padding: 0}\n",
       ".list-inline>li {display: inline-block}\n",
       ".list-inline>li:not(:last-child)::after {content: \"\\00b7\"; padding: 0 .5ex}\n",
       "</style>\n",
       "<ol class=list-inline><li>&lt;NA&gt;</li><li>1</li><li>3</li><li>6</li></ol>\n"
      ],
      "text/latex": [
       "\\begin{enumerate*}\n",
       "\\item <NA>\n",
       "\\item 1\n",
       "\\item 3\n",
       "\\item 6\n",
       "\\end{enumerate*}\n"
      ],
      "text/markdown": [
       "1. &lt;NA&gt;\n",
       "2. 1\n",
       "3. 3\n",
       "4. 6\n",
       "\n",
       "\n"
      ],
      "text/plain": [
       "[1] NA  1  3  6"
      ]
     },
     "metadata": {},
     "output_type": "display_data"
    },
    {
     "data": {
      "text/html": [
       "<style>\n",
       ".list-inline {list-style: none; margin:0; padding: 0}\n",
       ".list-inline>li {display: inline-block}\n",
       ".list-inline>li:not(:last-child)::after {content: \"\\00b7\"; padding: 0 .5ex}\n",
       "</style>\n",
       "<ol class=list-inline><li>3</li><li>6</li><li>14</li><li>&lt;NA&gt;</li></ol>\n"
      ],
      "text/latex": [
       "\\begin{enumerate*}\n",
       "\\item 3\n",
       "\\item 6\n",
       "\\item 14\n",
       "\\item <NA>\n",
       "\\end{enumerate*}\n"
      ],
      "text/markdown": [
       "1. 3\n",
       "2. 6\n",
       "3. 14\n",
       "4. &lt;NA&gt;\n",
       "\n",
       "\n"
      ],
      "text/plain": [
       "[1]  3  6 14 NA"
      ]
     },
     "metadata": {},
     "output_type": "display_data"
    },
    {
     "data": {
      "text/html": [
       "<style>\n",
       ".list-inline {list-style: none; margin:0; padding: 0}\n",
       ".list-inline>li {display: inline-block}\n",
       ".list-inline>li:not(:last-child)::after {content: \"\\00b7\"; padding: 0 .5ex}\n",
       "</style>\n",
       "<ol class=list-inline><li>&lt;NA&gt;</li><li>2</li><li>3</li><li>8</li></ol>\n"
      ],
      "text/latex": [
       "\\begin{enumerate*}\n",
       "\\item <NA>\n",
       "\\item 2\n",
       "\\item 3\n",
       "\\item 8\n",
       "\\end{enumerate*}\n"
      ],
      "text/markdown": [
       "1. &lt;NA&gt;\n",
       "2. 2\n",
       "3. 3\n",
       "4. 8\n",
       "\n",
       "\n"
      ],
      "text/plain": [
       "[1] NA  2  3  8"
      ]
     },
     "metadata": {},
     "output_type": "display_data"
    }
   ],
   "source": [
    "v <- c(1, 3, 6, 14)\n",
    "lag(v)\n",
    "lead(v)\n",
    "v - lag(v) # compare consecutive steps"
   ]
  },
  {
   "cell_type": "code",
   "execution_count": 272,
   "id": "2da6de4d-c393-4f2a-b9d3-f7e05902b5ec",
   "metadata": {},
   "outputs": [
    {
     "data": {
      "text/html": [
       "<table class=\"dataframe\">\n",
       "<caption>A tibble: 3 × 6</caption>\n",
       "<thead>\n",
       "\t<tr><th scope=col>year</th><th scope=col>name</th><th scope=col>number</th><th scope=col>year_total</th><th scope=col>fraction</th><th scope=col>difference</th></tr>\n",
       "\t<tr><th scope=col>&lt;dbl&gt;</th><th scope=col>&lt;chr&gt;</th><th scope=col>&lt;int&gt;</th><th scope=col>&lt;int&gt;</th><th scope=col>&lt;dbl&gt;</th><th scope=col>&lt;dbl&gt;</th></tr>\n",
       "</thead>\n",
       "<tbody>\n",
       "\t<tr><td>1880</td><td>Matthew</td><td>113</td><td>201478</td><td>0.0005608553</td><td>           NA</td></tr>\n",
       "\t<tr><td>1885</td><td>Matthew</td><td>111</td><td>240822</td><td>0.0004609213</td><td>-9.993394e-05</td></tr>\n",
       "\t<tr><td>1890</td><td>Matthew</td><td> 86</td><td>301352</td><td>0.0002853806</td><td>-1.755408e-04</td></tr>\n",
       "</tbody>\n",
       "</table>\n"
      ],
      "text/latex": [
       "A tibble: 3 × 6\n",
       "\\begin{tabular}{llllll}\n",
       " year & name & number & year\\_total & fraction & difference\\\\\n",
       " <dbl> & <chr> & <int> & <int> & <dbl> & <dbl>\\\\\n",
       "\\hline\n",
       "\t 1880 & Matthew & 113 & 201478 & 0.0005608553 &            NA\\\\\n",
       "\t 1885 & Matthew & 111 & 240822 & 0.0004609213 & -9.993394e-05\\\\\n",
       "\t 1890 & Matthew &  86 & 301352 & 0.0002853806 & -1.755408e-04\\\\\n",
       "\\end{tabular}\n"
      ],
      "text/markdown": [
       "\n",
       "A tibble: 3 × 6\n",
       "\n",
       "| year &lt;dbl&gt; | name &lt;chr&gt; | number &lt;int&gt; | year_total &lt;int&gt; | fraction &lt;dbl&gt; | difference &lt;dbl&gt; |\n",
       "|---|---|---|---|---|---|\n",
       "| 1880 | Matthew | 113 | 201478 | 0.0005608553 |            NA |\n",
       "| 1885 | Matthew | 111 | 240822 | 0.0004609213 | -9.993394e-05 |\n",
       "| 1890 | Matthew |  86 | 301352 | 0.0002853806 | -1.755408e-04 |\n",
       "\n"
      ],
      "text/plain": [
       "  year name    number year_total fraction     difference   \n",
       "1 1880 Matthew 113    201478     0.0005608553            NA\n",
       "2 1885 Matthew 111    240822     0.0004609213 -9.993394e-05\n",
       "3 1890 Matthew  86    301352     0.0002853806 -1.755408e-04"
      ]
     },
     "metadata": {},
     "output_type": "display_data"
    }
   ],
   "source": [
    "babyfrac <- baby %>%\n",
    "  group_by(year) %>%\n",
    "  mutate(year_total = sum(number)) %>%\n",
    "  ungroup() %>%\n",
    "  mutate(fraction = number / year_total)\n",
    "\n",
    "babyfrac %>%\n",
    "  filter(name == \"Matthew\") %>%\n",
    "  arrange(year) %>%\n",
    "  mutate(difference = fraction - lag(fraction))  %>%\n",
    "  head(3)"
   ]
  },
  {
   "cell_type": "markdown",
   "id": "611f5407-6310-48bb-bb62-bf5ee5b7a611",
   "metadata": {},
   "source": [
    "☝️ The difference column shows if the name \"Matthew\" went up or down each year."
   ]
  },
  {
   "cell_type": "markdown",
   "id": "9af49a0e-fa4d-4d39-b3ab-645baface0e5",
   "metadata": {},
   "source": [
    "<u>Conditional functions</u>\n"
   ]
  },
  {
   "cell_type": "code",
   "execution_count": 1,
   "id": "8c044855-6c70-44cb-b121-b603ef1354b2",
   "metadata": {},
   "outputs": [
    {
     "ename": "ERROR",
     "evalue": "Error in baby %>% filter(name %in% c(\"Anna\", \"Martha\", \"Steve\", \"James\", : could not find function \"%>%\"\n",
     "output_type": "error",
     "traceback": [
      "Error in baby %>% filter(name %in% c(\"Anna\", \"Martha\", \"Steve\", \"James\", : could not find function \"%>%\"\nTraceback:\n"
     ]
    }
   ],
   "source": [
    "babcon <- baby %>%\n",
    "  filter(name %in% c(\"Anna\", \"Martha\", \"Steve\", \"James\", \"Elisabeth\")) %>%\n",
    "  mutate(gender = case_when(\n",
    "      name %in% c(\"Anna\", \"Martha\", \"Elisabeth\") ~ \"Female\",\n",
    "      name %in% c(\"Steve\", \"James\") ~ \"Male\")\n",
    "        ) \n",
    "\n",
    "head(babcon, 4)"
   ]
  },
  {
   "cell_type": "code",
   "execution_count": 284,
   "id": "daaa3b12-b2e2-4584-9abf-0b808877ef85",
   "metadata": {},
   "outputs": [
    {
     "data": {
      "text/html": [
       "<table class=\"dataframe\">\n",
       "<caption>A tibble: 4 × 5</caption>\n",
       "<thead>\n",
       "\t<tr><th scope=col>year</th><th scope=col>name</th><th scope=col>number</th><th scope=col>gender</th><th scope=col>Female</th></tr>\n",
       "\t<tr><th scope=col>&lt;dbl&gt;</th><th scope=col>&lt;chr&gt;</th><th scope=col>&lt;int&gt;</th><th scope=col>&lt;chr&gt;</th><th scope=col>&lt;chr&gt;</th></tr>\n",
       "</thead>\n",
       "<tbody>\n",
       "\t<tr><td>1880</td><td>Anna     </td><td>2616</td><td>Female</td><td>Female</td></tr>\n",
       "\t<tr><td>1880</td><td>Elisabeth</td><td>  24</td><td>Female</td><td>Female</td></tr>\n",
       "\t<tr><td>1880</td><td>James    </td><td>5949</td><td>Male  </td><td>NA    </td></tr>\n",
       "\t<tr><td>1880</td><td>Martha   </td><td>1040</td><td>Female</td><td>Female</td></tr>\n",
       "</tbody>\n",
       "</table>\n"
      ],
      "text/latex": [
       "A tibble: 4 × 5\n",
       "\\begin{tabular}{lllll}\n",
       " year & name & number & gender & Female\\\\\n",
       " <dbl> & <chr> & <int> & <chr> & <chr>\\\\\n",
       "\\hline\n",
       "\t 1880 & Anna      & 2616 & Female & Female\\\\\n",
       "\t 1880 & Elisabeth &   24 & Female & Female\\\\\n",
       "\t 1880 & James     & 5949 & Male   & NA    \\\\\n",
       "\t 1880 & Martha    & 1040 & Female & Female\\\\\n",
       "\\end{tabular}\n"
      ],
      "text/markdown": [
       "\n",
       "A tibble: 4 × 5\n",
       "\n",
       "| year &lt;dbl&gt; | name &lt;chr&gt; | number &lt;int&gt; | gender &lt;chr&gt; | Female &lt;chr&gt; |\n",
       "|---|---|---|---|---|\n",
       "| 1880 | Anna      | 2616 | Female | Female |\n",
       "| 1880 | Elisabeth |   24 | Female | Female |\n",
       "| 1880 | James     | 5949 | Male   | NA     |\n",
       "| 1880 | Martha    | 1040 | Female | Female |\n",
       "\n"
      ],
      "text/plain": [
       "  year name      number gender Female\n",
       "1 1880 Anna      2616   Female Female\n",
       "2 1880 Elisabeth   24   Female Female\n",
       "3 1880 James     5949   Male   NA    \n",
       "4 1880 Martha    1040   Female Female"
      ]
     },
     "metadata": {},
     "output_type": "display_data"
    }
   ],
   "source": [
    "babcon %>%\n",
    "  mutate(Female = na_if(gender, \"Male\"))  %>%\n",
    "  head(4)"
   ]
  },
  {
   "cell_type": "code",
   "execution_count": 528,
   "id": "102186e5-970c-4be4-b1e3-1344a6491aa9",
   "metadata": {},
   "outputs": [
    {
     "data": {
      "text/html": [
       "<table class=\"dataframe\">\n",
       "<caption>A tibble: 1 × 4</caption>\n",
       "<thead>\n",
       "\t<tr><th scope=col>year</th><th scope=col>name</th><th scope=col>number</th><th scope=col>gender</th></tr>\n",
       "\t<tr><th scope=col>&lt;dbl&gt;</th><th scope=col>&lt;fct&gt;</th><th scope=col>&lt;int&gt;</th><th scope=col>&lt;fct&gt;</th></tr>\n",
       "</thead>\n",
       "<tbody>\n",
       "\t<tr><td>1880</td><td>Anna</td><td>2616</td><td>Female</td></tr>\n",
       "</tbody>\n",
       "</table>\n"
      ],
      "text/latex": [
       "A tibble: 1 × 4\n",
       "\\begin{tabular}{llll}\n",
       " year & name & number & gender\\\\\n",
       " <dbl> & <fct> & <int> & <fct>\\\\\n",
       "\\hline\n",
       "\t 1880 & Anna & 2616 & Female\\\\\n",
       "\\end{tabular}\n"
      ],
      "text/markdown": [
       "\n",
       "A tibble: 1 × 4\n",
       "\n",
       "| year &lt;dbl&gt; | name &lt;fct&gt; | number &lt;int&gt; | gender &lt;fct&gt; |\n",
       "|---|---|---|---|\n",
       "| 1880 | Anna | 2616 | Female |\n",
       "\n"
      ],
      "text/plain": [
       "  year name number gender\n",
       "1 1880 Anna 2616   Female"
      ]
     },
     "metadata": {},
     "output_type": "display_data"
    }
   ],
   "source": [
    "# Using mutate_if()\n",
    "babcon %>%\n",
    " mutate_if(is.character, as.factor) %>%\n",
    " head(1)"
   ]
  },
  {
   "attachments": {
    "159ec695-464e-4a4b-b3c0-2333e5ee5b51.PNG": {
     "image/png": "[encoded data removed]"
    }
   },
   "cell_type": "markdown",
   "id": "7afc7185-0b9d-42b8-865c-74d0d7b016a1",
   "metadata": {
    "tags": []
   },
   "source": [
    "<a name=\"toc_54826_6\"></a>\n",
    "## 6.  Joining data\n",
    "Functions to combine tables of **relational data**:\n",
    "\n",
    "1) Appending and combining datasets\n",
    "    - `bind_rows()` - Simply adds rows to the bottom of the previous dataset. Row number will increase.\n",
    "    - `bind_cols()` - Simply add the columns from one dataset to another <u>without matching by ID</u>. Row number will not change.\n",
    "$$$$\n",
    "2) Mutating join verbs - the joined dataset contains new columns:\n",
    "    - `left_join(x, y)` - Join matching values from y to x\n",
    "    - `right_join(x, y)` - Join matching values from x to y\n",
    "    - `inner_join(x, y)` - Join data. Retain only rows with matches\n",
    "    - `full_join(x, y)` - Join data. Retain all values, all rows\n",
    "$$$$\n",
    "3) Filtering joins verbs -  keeps or removes observations from the first table, but it doesn't add new variables:\n",
    "    - `semi_join(x, y)` - what observations in X are also in Y?\n",
    "    - `anti-join(x, y)` - what observations in X are not in Y?\n",
    "\n",
    "<div>\n",
    " <img src=\"attachment:159ec695-464e-4a4b-b3c0-2333e5ee5b51.PNG\" width=\"600\">\n",
    "</div>"
   ]
  },
  {
   "cell_type": "markdown",
   "id": "d4ceb137-ce4f-4ccf-838e-971031fef69f",
   "metadata": {},
   "source": [
    "Import datasets, all part of relational databases"
   ]
  },
  {
   "cell_type": "code",
   "execution_count": 522,
   "id": "96dc607f-d3de-40e2-8520-a9e602117c03",
   "metadata": {},
   "outputs": [],
   "source": [
    "# Stack overflow database\n",
    "answers <- readRDS(\"data/answers.rds\")\n",
    "questions <- readRDS(\"data/questions.rds\")\n",
    "\n",
    "# LEGO database\n",
    "inventory_parts <- readRDS(\"data/inventory_parts.rds\")\n",
    "inventories <- readRDS(\"data/inventories.rds\")\n",
    "part_categories <- readRDS(\"data/part_categories.rds\")\n",
    "parts <- readRDS(\"data/parts.rds\")\n",
    "themes <- readRDS(\"data/themes.rds\")\n",
    "sets <- readRDS(\"data/sets.rds\")\n",
    "colors <- readRDS(\"data/colors.rds\")"
   ]
  },
  {
   "cell_type": "markdown",
   "id": "69b6124d-9741-4ad1-bf13-7ee8dbed5d5a",
   "metadata": {},
   "source": [
    "<a name=\"toc_54826_6.1\"></a>\n",
    "**6.1 bind_rows**"
   ]
  },
  {
   "cell_type": "code",
   "execution_count": 517,
   "id": "21994985-8249-493d-b33a-f3432c23c942",
   "metadata": {},
   "outputs": [
    {
     "data": {
      "text/html": [
       "<style>\n",
       ".list-inline {list-style: none; margin:0; padding: 0}\n",
       ".list-inline>li {display: inline-block}\n",
       ".list-inline>li:not(:last-child)::after {content: \"\\00b7\"; padding: 0 .5ex}\n",
       "</style>\n",
       "<ol class=list-inline><li>'id'</li><li>'creation_date'</li><li>'score'</li></ol>\n"
      ],
      "text/latex": [
       "\\begin{enumerate*}\n",
       "\\item 'id'\n",
       "\\item 'creation\\_date'\n",
       "\\item 'score'\n",
       "\\end{enumerate*}\n"
      ],
      "text/markdown": [
       "1. 'id'\n",
       "2. 'creation_date'\n",
       "3. 'score'\n",
       "\n",
       "\n"
      ],
      "text/plain": [
       "[1] \"id\"            \"creation_date\" \"score\"        "
      ]
     },
     "metadata": {},
     "output_type": "display_data"
    },
    {
     "data": {
      "text/html": [
       "294735"
      ],
      "text/latex": [
       "294735"
      ],
      "text/markdown": [
       "294735"
      ],
      "text/plain": [
       "[1] 294735"
      ]
     },
     "metadata": {},
     "output_type": "display_data"
    },
    {
     "data": {
      "text/html": [
       "<style>\n",
       ".list-inline {list-style: none; margin:0; padding: 0}\n",
       ".list-inline>li {display: inline-block}\n",
       ".list-inline>li:not(:last-child)::after {content: \"\\00b7\"; padding: 0 .5ex}\n",
       "</style>\n",
       "<ol class=list-inline><li>'id'</li><li>'creation_date'</li><li>'question_id'</li><li>'score'</li></ol>\n"
      ],
      "text/latex": [
       "\\begin{enumerate*}\n",
       "\\item 'id'\n",
       "\\item 'creation\\_date'\n",
       "\\item 'question\\_id'\n",
       "\\item 'score'\n",
       "\\end{enumerate*}\n"
      ],
      "text/markdown": [
       "1. 'id'\n",
       "2. 'creation_date'\n",
       "3. 'question_id'\n",
       "4. 'score'\n",
       "\n",
       "\n"
      ],
      "text/plain": [
       "[1] \"id\"            \"creation_date\" \"question_id\"   \"score\"        "
      ]
     },
     "metadata": {},
     "output_type": "display_data"
    },
    {
     "data": {
      "text/html": [
       "294735"
      ],
      "text/latex": [
       "294735"
      ],
      "text/markdown": [
       "294735"
      ],
      "text/plain": [
       "[1] 294735"
      ]
     },
     "metadata": {},
     "output_type": "display_data"
    }
   ],
   "source": [
    "names(questions)\n",
    "nrow(questions)\n",
    "\n",
    "names(answers)\n",
    "nrow(questions)"
   ]
  },
  {
   "cell_type": "code",
   "execution_count": 519,
   "id": "3e5d9b4a-ba16-48cc-8f9f-608a8b0a3ff9",
   "metadata": {},
   "outputs": [
    {
     "data": {
      "text/html": [
       "<table class=\"dataframe\">\n",
       "<caption>A tibble: 2 × 4</caption>\n",
       "<thead>\n",
       "\t<tr><th scope=col>id</th><th scope=col>creation_date</th><th scope=col>score</th><th scope=col>question_id</th></tr>\n",
       "\t<tr><th scope=col>&lt;int&gt;</th><th scope=col>&lt;date&gt;</th><th scope=col>&lt;int&gt;</th><th scope=col>&lt;int&gt;</th></tr>\n",
       "</thead>\n",
       "<tbody>\n",
       "\t<tr><td>22557677</td><td>2014-03-21</td><td>1</td><td>NA</td></tr>\n",
       "\t<tr><td>22557707</td><td>2014-03-21</td><td>2</td><td>NA</td></tr>\n",
       "</tbody>\n",
       "</table>\n"
      ],
      "text/latex": [
       "A tibble: 2 × 4\n",
       "\\begin{tabular}{llll}\n",
       " id & creation\\_date & score & question\\_id\\\\\n",
       " <int> & <date> & <int> & <int>\\\\\n",
       "\\hline\n",
       "\t 22557677 & 2014-03-21 & 1 & NA\\\\\n",
       "\t 22557707 & 2014-03-21 & 2 & NA\\\\\n",
       "\\end{tabular}\n"
      ],
      "text/markdown": [
       "\n",
       "A tibble: 2 × 4\n",
       "\n",
       "| id &lt;int&gt; | creation_date &lt;date&gt; | score &lt;int&gt; | question_id &lt;int&gt; |\n",
       "|---|---|---|---|\n",
       "| 22557677 | 2014-03-21 | 1 | NA |\n",
       "| 22557707 | 2014-03-21 | 2 | NA |\n",
       "\n"
      ],
      "text/plain": [
       "  id       creation_date score question_id\n",
       "1 22557677 2014-03-21    1     NA         \n",
       "2 22557707 2014-03-21    2     NA         "
      ]
     },
     "metadata": {},
     "output_type": "display_data"
    },
    {
     "data": {
      "text/html": [
       "675378"
      ],
      "text/latex": [
       "675378"
      ],
      "text/markdown": [
       "675378"
      ],
      "text/plain": [
       "[1] 675378"
      ]
     },
     "metadata": {},
     "output_type": "display_data"
    }
   ],
   "source": [
    "# Append datasets\n",
    "qa <- questions %>%\n",
    "  bind_rows(answers)\n",
    "\n",
    "head(qa, 2)\n",
    "nrow(qa)"
   ]
  },
  {
   "cell_type": "markdown",
   "id": "6bce7fd2-005e-42cf-9de1-388d48234b32",
   "metadata": {},
   "source": [
    "☝️ We appended the datasets but we cannot know which row is from which dsataset. For this, we need to make some changes beforehand:"
   ]
  },
  {
   "cell_type": "code",
   "execution_count": 525,
   "id": "59e3687f-3ed3-4f27-8640-1ec95ba6bba4",
   "metadata": {},
   "outputs": [
    {
     "data": {
      "text/html": [
       "<table class=\"dataframe\">\n",
       "<caption>A tibble: 2 × 5</caption>\n",
       "<thead>\n",
       "\t<tr><th scope=col>id</th><th scope=col>creation_date</th><th scope=col>score</th><th scope=col>ds</th><th scope=col>question_id</th></tr>\n",
       "\t<tr><th scope=col>&lt;int&gt;</th><th scope=col>&lt;date&gt;</th><th scope=col>&lt;int&gt;</th><th scope=col>&lt;chr&gt;</th><th scope=col>&lt;int&gt;</th></tr>\n",
       "</thead>\n",
       "<tbody>\n",
       "\t<tr><td>22557677</td><td>2014-03-21</td><td>1</td><td>questions</td><td>NA</td></tr>\n",
       "\t<tr><td>22557707</td><td>2014-03-21</td><td>2</td><td>questions</td><td>NA</td></tr>\n",
       "</tbody>\n",
       "</table>\n"
      ],
      "text/latex": [
       "A tibble: 2 × 5\n",
       "\\begin{tabular}{lllll}\n",
       " id & creation\\_date & score & ds & question\\_id\\\\\n",
       " <int> & <date> & <int> & <chr> & <int>\\\\\n",
       "\\hline\n",
       "\t 22557677 & 2014-03-21 & 1 & questions & NA\\\\\n",
       "\t 22557707 & 2014-03-21 & 2 & questions & NA\\\\\n",
       "\\end{tabular}\n"
      ],
      "text/markdown": [
       "\n",
       "A tibble: 2 × 5\n",
       "\n",
       "| id &lt;int&gt; | creation_date &lt;date&gt; | score &lt;int&gt; | ds &lt;chr&gt; | question_id &lt;int&gt; |\n",
       "|---|---|---|---|---|\n",
       "| 22557677 | 2014-03-21 | 1 | questions | NA |\n",
       "| 22557707 | 2014-03-21 | 2 | questions | NA |\n",
       "\n"
      ],
      "text/plain": [
       "  id       creation_date score ds        question_id\n",
       "1 22557677 2014-03-21    1     questions NA         \n",
       "2 22557707 2014-03-21    2     questions NA         "
      ]
     },
     "metadata": {},
     "output_type": "display_data"
    }
   ],
   "source": [
    "qa <-  bind_rows(questions %>% mutate(ds = \"questions\"), \n",
    "                answers %>% mutate(ds = \"answers\"))\n",
    "\n",
    "head(qa, 2)"
   ]
  },
  {
   "cell_type": "markdown",
   "id": "fb3c6ed4-3b55-4ec2-9d3b-f56b038a08e7",
   "metadata": {},
   "source": [
    "<a name=\"toc_54826_6.2\"></a>\n",
    "**6.2 inner_join**"
   ]
  },
  {
   "cell_type": "markdown",
   "id": "32343f16-9394-423e-a36f-c2aef53df47f",
   "metadata": {},
   "source": [
    "First, let's join tables by an ID column that has the same name:"
   ]
  },
  {
   "cell_type": "code",
   "execution_count": 414,
   "id": "3d683b86-726e-4d9e-a13f-0c157109d99d",
   "metadata": {},
   "outputs": [
    {
     "data": {
      "text/html": [
       "<table class=\"dataframe\">\n",
       "<caption>A tibble: 3 × 3</caption>\n",
       "<thead>\n",
       "\t<tr><th scope=col>id</th><th scope=col>version</th><th scope=col>set_num</th></tr>\n",
       "\t<tr><th scope=col>&lt;dbl&gt;</th><th scope=col>&lt;dbl&gt;</th><th scope=col>&lt;chr&gt;</th></tr>\n",
       "</thead>\n",
       "<tbody>\n",
       "\t<tr><td>1</td><td>1</td><td>7922-1</td></tr>\n",
       "\t<tr><td>3</td><td>1</td><td>3931-1</td></tr>\n",
       "\t<tr><td>4</td><td>1</td><td>6942-1</td></tr>\n",
       "</tbody>\n",
       "</table>\n"
      ],
      "text/latex": [
       "A tibble: 3 × 3\n",
       "\\begin{tabular}{lll}\n",
       " id & version & set\\_num\\\\\n",
       " <dbl> & <dbl> & <chr>\\\\\n",
       "\\hline\n",
       "\t 1 & 1 & 7922-1\\\\\n",
       "\t 3 & 1 & 3931-1\\\\\n",
       "\t 4 & 1 & 6942-1\\\\\n",
       "\\end{tabular}\n"
      ],
      "text/markdown": [
       "\n",
       "A tibble: 3 × 3\n",
       "\n",
       "| id &lt;dbl&gt; | version &lt;dbl&gt; | set_num &lt;chr&gt; |\n",
       "|---|---|---|\n",
       "| 1 | 1 | 7922-1 |\n",
       "| 3 | 1 | 3931-1 |\n",
       "| 4 | 1 | 6942-1 |\n",
       "\n"
      ],
      "text/plain": [
       "  id version set_num\n",
       "1 1  1       7922-1 \n",
       "2 3  1       3931-1 \n",
       "3 4  1       6942-1 "
      ]
     },
     "metadata": {},
     "output_type": "display_data"
    },
    {
     "data": {
      "text/html": [
       "15174"
      ],
      "text/latex": [
       "15174"
      ],
      "text/markdown": [
       "15174"
      ],
      "text/plain": [
       "[1] 15174"
      ]
     },
     "metadata": {},
     "output_type": "display_data"
    }
   ],
   "source": [
    "head(inventories, 3)\n",
    "nrow(inventories)"
   ]
  },
  {
   "cell_type": "markdown",
   "id": "3c84a2a9-e493-4669-b915-a425b1c0da78",
   "metadata": {},
   "source": [
    "☝️ `set_num` links to the corresponding column in the `sets` table. "
   ]
  },
  {
   "cell_type": "code",
   "execution_count": 415,
   "id": "b42c721c-efc4-4f64-a50d-79f2f13d2931",
   "metadata": {},
   "outputs": [
    {
     "data": {
      "text/html": [
       "<table class=\"dataframe\">\n",
       "<caption>A tibble: 2 × 4</caption>\n",
       "<thead>\n",
       "\t<tr><th scope=col>set_num</th><th scope=col>name</th><th scope=col>year</th><th scope=col>theme_id</th></tr>\n",
       "\t<tr><th scope=col>&lt;chr&gt;</th><th scope=col>&lt;chr&gt;</th><th scope=col>&lt;dbl&gt;</th><th scope=col>&lt;dbl&gt;</th></tr>\n",
       "</thead>\n",
       "<tbody>\n",
       "\t<tr><td>700.3-1  </td><td>Medium Gift Set (ABB)   </td><td>1949</td><td>365</td></tr>\n",
       "\t<tr><td>700.1.1-1</td><td>Single 2 x 4 Brick (ABB)</td><td>1950</td><td>371</td></tr>\n",
       "</tbody>\n",
       "</table>\n"
      ],
      "text/latex": [
       "A tibble: 2 × 4\n",
       "\\begin{tabular}{llll}\n",
       " set\\_num & name & year & theme\\_id\\\\\n",
       " <chr> & <chr> & <dbl> & <dbl>\\\\\n",
       "\\hline\n",
       "\t 700.3-1   & Medium Gift Set (ABB)    & 1949 & 365\\\\\n",
       "\t 700.1.1-1 & Single 2 x 4 Brick (ABB) & 1950 & 371\\\\\n",
       "\\end{tabular}\n"
      ],
      "text/markdown": [
       "\n",
       "A tibble: 2 × 4\n",
       "\n",
       "| set_num &lt;chr&gt; | name &lt;chr&gt; | year &lt;dbl&gt; | theme_id &lt;dbl&gt; |\n",
       "|---|---|---|---|\n",
       "| 700.3-1   | Medium Gift Set (ABB)    | 1949 | 365 |\n",
       "| 700.1.1-1 | Single 2 x 4 Brick (ABB) | 1950 | 371 |\n",
       "\n"
      ],
      "text/plain": [
       "  set_num   name                     year theme_id\n",
       "1 700.3-1   Medium Gift Set (ABB)    1949 365     \n",
       "2 700.1.1-1 Single 2 x 4 Brick (ABB) 1950 371     "
      ]
     },
     "metadata": {},
     "output_type": "display_data"
    },
    {
     "data": {
      "text/html": [
       "4977"
      ],
      "text/latex": [
       "4977"
      ],
      "text/markdown": [
       "4977"
      ],
      "text/plain": [
       "[1] 4977"
      ]
     },
     "metadata": {},
     "output_type": "display_data"
    }
   ],
   "source": [
    "head(sets, 2)\n",
    "nrow(sets)"
   ]
  },
  {
   "cell_type": "code",
   "execution_count": 392,
   "id": "3ed196d9-0e50-4d53-82b2-7791d4c455b7",
   "metadata": {},
   "outputs": [
    {
     "data": {
      "text/html": [
       "<table class=\"dataframe\">\n",
       "<caption>A tibble: 3 × 6</caption>\n",
       "<thead>\n",
       "\t<tr><th scope=col>id</th><th scope=col>version</th><th scope=col>set_num</th><th scope=col>name</th><th scope=col>year</th><th scope=col>theme_id</th></tr>\n",
       "\t<tr><th scope=col>&lt;dbl&gt;</th><th scope=col>&lt;dbl&gt;</th><th scope=col>&lt;chr&gt;</th><th scope=col>&lt;chr&gt;</th><th scope=col>&lt;dbl&gt;</th><th scope=col>&lt;dbl&gt;</th></tr>\n",
       "</thead>\n",
       "<tbody>\n",
       "\t<tr><td>21</td><td>1</td><td>3474-1  </td><td>1 x 6 Light Gray Bricks</td><td>2000</td><td>254</td></tr>\n",
       "\t<tr><td>25</td><td>1</td><td>71012-11</td><td>Minnie Mouse           </td><td>2016</td><td>555</td></tr>\n",
       "\t<tr><td>26</td><td>1</td><td>6435-1  </td><td>Coast Guard HQ         </td><td>1999</td><td> 96</td></tr>\n",
       "</tbody>\n",
       "</table>\n"
      ],
      "text/latex": [
       "A tibble: 3 × 6\n",
       "\\begin{tabular}{llllll}\n",
       " id & version & set\\_num & name & year & theme\\_id\\\\\n",
       " <dbl> & <dbl> & <chr> & <chr> & <dbl> & <dbl>\\\\\n",
       "\\hline\n",
       "\t 21 & 1 & 3474-1   & 1 x 6 Light Gray Bricks & 2000 & 254\\\\\n",
       "\t 25 & 1 & 71012-11 & Minnie Mouse            & 2016 & 555\\\\\n",
       "\t 26 & 1 & 6435-1   & Coast Guard HQ          & 1999 &  96\\\\\n",
       "\\end{tabular}\n"
      ],
      "text/markdown": [
       "\n",
       "A tibble: 3 × 6\n",
       "\n",
       "| id &lt;dbl&gt; | version &lt;dbl&gt; | set_num &lt;chr&gt; | name &lt;chr&gt; | year &lt;dbl&gt; | theme_id &lt;dbl&gt; |\n",
       "|---|---|---|---|---|---|\n",
       "| 21 | 1 | 3474-1   | 1 x 6 Light Gray Bricks | 2000 | 254 |\n",
       "| 25 | 1 | 71012-11 | Minnie Mouse            | 2016 | 555 |\n",
       "| 26 | 1 | 6435-1   | Coast Guard HQ          | 1999 |  96 |\n",
       "\n"
      ],
      "text/plain": [
       "  id version set_num  name                    year theme_id\n",
       "1 21 1       3474-1   1 x 6 Light Gray Bricks 2000 254     \n",
       "2 25 1       71012-11 Minnie Mouse            2016 555     \n",
       "3 26 1       6435-1   Coast Guard HQ          1999  96     "
      ]
     },
     "metadata": {},
     "output_type": "display_data"
    },
    {
     "data": {
      "text/html": [
       "5056"
      ],
      "text/latex": [
       "5056"
      ],
      "text/markdown": [
       "5056"
      ],
      "text/plain": [
       "[1] 5056"
      ]
     },
     "metadata": {},
     "output_type": "display_data"
    }
   ],
   "source": [
    "invset <- inventories %>%\n",
    "  inner_join(sets, by = \"set_num\")\n",
    "\n",
    "head(invset, 3)\n",
    "nrow(invset)"
   ]
  },
  {
   "cell_type": "markdown",
   "id": "80b1c232-f152-40b0-9685-0444791867cc",
   "metadata": {},
   "source": [
    "☝️  While we started with 4,977 sets, our joined result now has 5,056. This is because each set can have multiple versions, each of which gets its own inventory item."
   ]
  },
  {
   "cell_type": "code",
   "execution_count": 393,
   "id": "7e03bb3f-3e08-441f-bab1-31715505d341",
   "metadata": {},
   "outputs": [
    {
     "data": {
      "text/html": [
       "4976"
      ],
      "text/latex": [
       "4976"
      ],
      "text/markdown": [
       "4976"
      ],
      "text/plain": [
       "[1] 4976"
      ]
     },
     "metadata": {},
     "output_type": "display_data"
    }
   ],
   "source": [
    "invset %>%\n",
    "  filter(version == 1) %>%\n",
    "  nrow()"
   ]
  },
  {
   "cell_type": "markdown",
   "id": "b576956d-69da-42cd-9711-965d69afefbc",
   "metadata": {},
   "source": [
    "☝️ If we filter for version 1, We got 4976 instead of 4977. This means there's one set that doesn't have a version 1, which is probably a data quality issue. An inner join keeps an observation only if it has an exact match between the first and the second tables. "
   ]
  },
  {
   "cell_type": "markdown",
   "id": "ee7cbadb-583c-4e3e-a1bd-88db61d33363",
   "metadata": {},
   "source": [
    "Now, let's join tables by an ID column that has different names:"
   ]
  },
  {
   "cell_type": "code",
   "execution_count": 378,
   "id": "15808382-a845-4e14-8c41-56d8fd3d2e16",
   "metadata": {},
   "outputs": [
    {
     "data": {
      "text/html": [
       "<table class=\"dataframe\">\n",
       "<caption>A tibble: 2 × 3</caption>\n",
       "<thead>\n",
       "\t<tr><th scope=col>id</th><th scope=col>name</th><th scope=col>parent_id</th></tr>\n",
       "\t<tr><th scope=col>&lt;dbl&gt;</th><th scope=col>&lt;chr&gt;</th><th scope=col>&lt;dbl&gt;</th></tr>\n",
       "</thead>\n",
       "<tbody>\n",
       "\t<tr><td>1</td><td>Technic       </td><td>NA</td></tr>\n",
       "\t<tr><td>2</td><td>Arctic Technic</td><td> 1</td></tr>\n",
       "</tbody>\n",
       "</table>\n"
      ],
      "text/latex": [
       "A tibble: 2 × 3\n",
       "\\begin{tabular}{lll}\n",
       " id & name & parent\\_id\\\\\n",
       " <dbl> & <chr> & <dbl>\\\\\n",
       "\\hline\n",
       "\t 1 & Technic        & NA\\\\\n",
       "\t 2 & Arctic Technic &  1\\\\\n",
       "\\end{tabular}\n"
      ],
      "text/markdown": [
       "\n",
       "A tibble: 2 × 3\n",
       "\n",
       "| id &lt;dbl&gt; | name &lt;chr&gt; | parent_id &lt;dbl&gt; |\n",
       "|---|---|---|\n",
       "| 1 | Technic        | NA |\n",
       "| 2 | Arctic Technic |  1 |\n",
       "\n"
      ],
      "text/plain": [
       "  id name           parent_id\n",
       "1 1  Technic        NA       \n",
       "2 2  Arctic Technic  1       "
      ]
     },
     "metadata": {},
     "output_type": "display_data"
    }
   ],
   "source": [
    "head(themes, 2)"
   ]
  },
  {
   "cell_type": "markdown",
   "id": "588dcbd6-f65a-4518-b1ca-002f8dc0f291",
   "metadata": {},
   "source": [
    "☝️ The `theme_id` column in `sets` links to the `id` column in `themes`. "
   ]
  },
  {
   "cell_type": "code",
   "execution_count": 416,
   "id": "dcc826e1-cca9-4649-930f-3b653050eb81",
   "metadata": {},
   "outputs": [
    {
     "data": {
      "text/html": [
       "<table class=\"dataframe\">\n",
       "<caption>A tibble: 2 × 6</caption>\n",
       "<thead>\n",
       "\t<tr><th scope=col>set_num</th><th scope=col>name_set</th><th scope=col>year</th><th scope=col>theme_id</th><th scope=col>name_theme</th><th scope=col>parent_id</th></tr>\n",
       "\t<tr><th scope=col>&lt;chr&gt;</th><th scope=col>&lt;chr&gt;</th><th scope=col>&lt;dbl&gt;</th><th scope=col>&lt;dbl&gt;</th><th scope=col>&lt;chr&gt;</th><th scope=col>&lt;dbl&gt;</th></tr>\n",
       "</thead>\n",
       "<tbody>\n",
       "\t<tr><td>700.3-1  </td><td>Medium Gift Set (ABB)   </td><td>1949</td><td>365</td><td>System      </td><td> NA</td></tr>\n",
       "\t<tr><td>700.1.1-1</td><td>Single 2 x 4 Brick (ABB)</td><td>1950</td><td>371</td><td>Supplemental</td><td>365</td></tr>\n",
       "</tbody>\n",
       "</table>\n"
      ],
      "text/latex": [
       "A tibble: 2 × 6\n",
       "\\begin{tabular}{llllll}\n",
       " set\\_num & name\\_set & year & theme\\_id & name\\_theme & parent\\_id\\\\\n",
       " <chr> & <chr> & <dbl> & <dbl> & <chr> & <dbl>\\\\\n",
       "\\hline\n",
       "\t 700.3-1   & Medium Gift Set (ABB)    & 1949 & 365 & System       &  NA\\\\\n",
       "\t 700.1.1-1 & Single 2 x 4 Brick (ABB) & 1950 & 371 & Supplemental & 365\\\\\n",
       "\\end{tabular}\n"
      ],
      "text/markdown": [
       "\n",
       "A tibble: 2 × 6\n",
       "\n",
       "| set_num &lt;chr&gt; | name_set &lt;chr&gt; | year &lt;dbl&gt; | theme_id &lt;dbl&gt; | name_theme &lt;chr&gt; | parent_id &lt;dbl&gt; |\n",
       "|---|---|---|---|---|---|\n",
       "| 700.3-1   | Medium Gift Set (ABB)    | 1949 | 365 | System       |  NA |\n",
       "| 700.1.1-1 | Single 2 x 4 Brick (ABB) | 1950 | 371 | Supplemental | 365 |\n",
       "\n"
      ],
      "text/plain": [
       "  set_num   name_set                 year theme_id name_theme   parent_id\n",
       "1 700.3-1   Medium Gift Set (ABB)    1949 365      System        NA      \n",
       "2 700.1.1-1 Single 2 x 4 Brick (ABB) 1950 371      Supplemental 365      "
      ]
     },
     "metadata": {},
     "output_type": "display_data"
    },
    {
     "data": {
      "text/html": [
       "4977"
      ],
      "text/latex": [
       "4977"
      ],
      "text/markdown": [
       "4977"
      ],
      "text/plain": [
       "[1] 4977"
      ]
     },
     "metadata": {},
     "output_type": "display_data"
    }
   ],
   "source": [
    "setheme <- sets %>%\n",
    "  inner_join(themes,\n",
    "             by = c(\"theme_id\" = \"id\"), \n",
    "             suffix = c(\"_set\", \"_theme\"))\n",
    "\n",
    "head(setheme, 2)\n",
    "nrow(setheme)"
   ]
  },
  {
   "cell_type": "markdown",
   "id": "25ae347d-51e8-4a6d-8ced-58d6f5f6ea48",
   "metadata": {},
   "source": [
    "☝️  Each set has exactly one theme, so the joined table has exactly as many observations as the sets table."
   ]
  },
  {
   "attachments": {
    "dffed65c-6341-4b76-baa1-b9cfe4f624d4.PNG": {
     "image/png": "[encoded data removed]"
    }
   },
   "cell_type": "markdown",
   "id": "80509ed9-9338-4b58-859c-4487b4edf238",
   "metadata": {},
   "source": [
    "Now, let's join more than two tables at once:\n",
    "<div>\n",
    " <img src=\"attachment:dffed65c-6341-4b76-baa1-b9cfe4f624d4.PNG\" width=\"500\">\n",
    "</div>"
   ]
  },
  {
   "cell_type": "code",
   "execution_count": 401,
   "id": "baf6f8bb-c4a7-4ee7-8891-e67ecd9edbdf",
   "metadata": {},
   "outputs": [
    {
     "data": {
      "text/html": [
       "<table class=\"dataframe\">\n",
       "<caption>A tibble: 2 × 11</caption>\n",
       "<thead>\n",
       "\t<tr><th scope=col>set_num</th><th scope=col>name_set</th><th scope=col>year</th><th scope=col>theme_id</th><th scope=col>id</th><th scope=col>version</th><th scope=col>part_num</th><th scope=col>color_id</th><th scope=col>quantity</th><th scope=col>name_color</th><th scope=col>rgb</th></tr>\n",
       "\t<tr><th scope=col>&lt;chr&gt;</th><th scope=col>&lt;chr&gt;</th><th scope=col>&lt;dbl&gt;</th><th scope=col>&lt;dbl&gt;</th><th scope=col>&lt;dbl&gt;</th><th scope=col>&lt;dbl&gt;</th><th scope=col>&lt;chr&gt;</th><th scope=col>&lt;dbl&gt;</th><th scope=col>&lt;dbl&gt;</th><th scope=col>&lt;chr&gt;</th><th scope=col>&lt;chr&gt;</th></tr>\n",
       "</thead>\n",
       "<tbody>\n",
       "\t<tr><td>700.3-1</td><td>Medium Gift Set (ABB)</td><td>1949</td><td>365</td><td>24197</td><td>1</td><td>bdoor01</td><td> 2</td><td>2</td><td>Green</td><td>#237841</td></tr>\n",
       "\t<tr><td>700.3-1</td><td>Medium Gift Set (ABB)</td><td>1949</td><td>365</td><td>24197</td><td>1</td><td>bdoor01</td><td>15</td><td>1</td><td>White</td><td>#FFFFFF</td></tr>\n",
       "</tbody>\n",
       "</table>\n"
      ],
      "text/latex": [
       "A tibble: 2 × 11\n",
       "\\begin{tabular}{lllllllllll}\n",
       " set\\_num & name\\_set & year & theme\\_id & id & version & part\\_num & color\\_id & quantity & name\\_color & rgb\\\\\n",
       " <chr> & <chr> & <dbl> & <dbl> & <dbl> & <dbl> & <chr> & <dbl> & <dbl> & <chr> & <chr>\\\\\n",
       "\\hline\n",
       "\t 700.3-1 & Medium Gift Set (ABB) & 1949 & 365 & 24197 & 1 & bdoor01 &  2 & 2 & Green & \\#237841\\\\\n",
       "\t 700.3-1 & Medium Gift Set (ABB) & 1949 & 365 & 24197 & 1 & bdoor01 & 15 & 1 & White & \\#FFFFFF\\\\\n",
       "\\end{tabular}\n"
      ],
      "text/markdown": [
       "\n",
       "A tibble: 2 × 11\n",
       "\n",
       "| set_num &lt;chr&gt; | name_set &lt;chr&gt; | year &lt;dbl&gt; | theme_id &lt;dbl&gt; | id &lt;dbl&gt; | version &lt;dbl&gt; | part_num &lt;chr&gt; | color_id &lt;dbl&gt; | quantity &lt;dbl&gt; | name_color &lt;chr&gt; | rgb &lt;chr&gt; |\n",
       "|---|---|---|---|---|---|---|---|---|---|---|\n",
       "| 700.3-1 | Medium Gift Set (ABB) | 1949 | 365 | 24197 | 1 | bdoor01 |  2 | 2 | Green | #237841 |\n",
       "| 700.3-1 | Medium Gift Set (ABB) | 1949 | 365 | 24197 | 1 | bdoor01 | 15 | 1 | White | #FFFFFF |\n",
       "\n"
      ],
      "text/plain": [
       "  set_num name_set              year theme_id id    version part_num color_id\n",
       "1 700.3-1 Medium Gift Set (ABB) 1949 365      24197 1       bdoor01   2      \n",
       "2 700.3-1 Medium Gift Set (ABB) 1949 365      24197 1       bdoor01  15      \n",
       "  quantity name_color rgb    \n",
       "1 2        Green      #237841\n",
       "2 1        White      #FFFFFF"
      ]
     },
     "metadata": {},
     "output_type": "display_data"
    }
   ],
   "source": [
    "sets %>%\n",
    "  inner_join(inventories, by = \"set_num\") %>%\n",
    "  inner_join(inventory_parts, by = c(\"id\" = \"inventory_id\")) %>%\n",
    "  inner_join(colors, c(\"color_id\" = \"id\"), suffix = c(\"_set\", \"_color\"))  %>%\n",
    "  head(2)"
   ]
  },
  {
   "cell_type": "markdown",
   "id": "a34c5bfb-a163-49fb-a399-efe34d388298",
   "metadata": {},
   "source": [
    "<a name=\"toc_54826_6.3\"></a>\n",
    "**6.3 right_join**"
   ]
  },
  {
   "cell_type": "code",
   "execution_count": 404,
   "id": "685b3d45-87d1-4cbb-820e-ff05723f5f75",
   "metadata": {},
   "outputs": [],
   "source": [
    "# Prepare data\n",
    "inventory_parts_joines <- inventories %>%\n",
    "  inner_join(inventory_parts, by = c(\"id\" = \"inventory_id\")) %>%\n",
    "  select(-id, -version) %>%\n",
    "  arrange(desc(quantity))\n",
    "\n",
    "batmobile <- inventory_parts_joines %>%\n",
    "  filter(set_num == \"7784-1\") %>%\n",
    "  select(-set_num)\n",
    "\n",
    "batwing <- inventory_parts_joines %>%\n",
    "  filter(set_num == \"70916-1\") %>%\n",
    "  select(-set_num)"
   ]
  },
  {
   "cell_type": "code",
   "execution_count": 418,
   "id": "f249bd90-235a-4b19-9837-8295e986afd2",
   "metadata": {},
   "outputs": [
    {
     "data": {
      "text/html": [
       "<table class=\"dataframe\">\n",
       "<caption>A tibble: 2 × 4</caption>\n",
       "<thead>\n",
       "\t<tr><th scope=col>part_num</th><th scope=col>color_id</th><th scope=col>quantity_mobile</th><th scope=col>quantity_wing</th></tr>\n",
       "\t<tr><th scope=col>&lt;chr&gt;</th><th scope=col>&lt;dbl&gt;</th><th scope=col>&lt;dbl&gt;</th><th scope=col>&lt;dbl&gt;</th></tr>\n",
       "</thead>\n",
       "<tbody>\n",
       "\t<tr><td>2780 </td><td>0</td><td>28</td><td>17</td></tr>\n",
       "\t<tr><td>50950</td><td>0</td><td>28</td><td> 2</td></tr>\n",
       "</tbody>\n",
       "</table>\n"
      ],
      "text/latex": [
       "A tibble: 2 × 4\n",
       "\\begin{tabular}{llll}\n",
       " part\\_num & color\\_id & quantity\\_mobile & quantity\\_wing\\\\\n",
       " <chr> & <dbl> & <dbl> & <dbl>\\\\\n",
       "\\hline\n",
       "\t 2780  & 0 & 28 & 17\\\\\n",
       "\t 50950 & 0 & 28 &  2\\\\\n",
       "\\end{tabular}\n"
      ],
      "text/markdown": [
       "\n",
       "A tibble: 2 × 4\n",
       "\n",
       "| part_num &lt;chr&gt; | color_id &lt;dbl&gt; | quantity_mobile &lt;dbl&gt; | quantity_wing &lt;dbl&gt; |\n",
       "|---|---|---|---|\n",
       "| 2780  | 0 | 28 | 17 |\n",
       "| 50950 | 0 | 28 |  2 |\n",
       "\n"
      ],
      "text/plain": [
       "  part_num color_id quantity_mobile quantity_wing\n",
       "1 2780     0        28              17           \n",
       "2 50950    0        28               2           "
      ]
     },
     "metadata": {},
     "output_type": "display_data"
    },
    {
     "data": {
      "text/html": [
       "45"
      ],
      "text/latex": [
       "45"
      ],
      "text/markdown": [
       "45"
      ],
      "text/plain": [
       "[1] 45"
      ]
     },
     "metadata": {},
     "output_type": "display_data"
    }
   ],
   "source": [
    "# join datasets by multiple columns using inner_join\n",
    "\n",
    "innerbat <- batmobile %>%\n",
    "  inner_join(batwing, by = c(\"part_num\", \"color_id\"), suffix = c(\"_mobile\", \"_wing\"))\n",
    "\n",
    "head(innerbat, 2)\n",
    "nrow(innerbat)"
   ]
  },
  {
   "cell_type": "markdown",
   "id": "196b4a35-8b09-4a59-bfc7-e18ef40ed734",
   "metadata": {},
   "source": [
    "☝️ This shows that the first part appears 28 times in the Batmobile set, but only 17 times in the Batwing set. This dataset only contains parts that were in both sets."
   ]
  },
  {
   "cell_type": "markdown",
   "id": "0da91011-fde5-4432-9f3c-2120cc3f2037",
   "metadata": {},
   "source": [
    "Now, we want to keep parts that were in the Batmobile but not the Batwing. An `inner_join()` keeps only observations that appear in both tables. But if you want to keep all the observations in one of the tables, you can use a different dplyr verb: `left_join()`. "
   ]
  },
  {
   "cell_type": "code",
   "execution_count": 417,
   "id": "69a1e12f-251b-464e-841d-0250f40386ca",
   "metadata": {},
   "outputs": [
    {
     "data": {
      "text/html": [
       "<table class=\"dataframe\">\n",
       "<caption>A tibble: 2 × 4</caption>\n",
       "<thead>\n",
       "\t<tr><th scope=col>part_num</th><th scope=col>color_id</th><th scope=col>quantity_mobile</th><th scope=col>quantity_wing</th></tr>\n",
       "\t<tr><th scope=col>&lt;chr&gt;</th><th scope=col>&lt;dbl&gt;</th><th scope=col>&lt;dbl&gt;</th><th scope=col>&lt;dbl&gt;</th></tr>\n",
       "</thead>\n",
       "<tbody>\n",
       "\t<tr><td>3023</td><td>72</td><td>62</td><td>NA</td></tr>\n",
       "\t<tr><td>2780</td><td> 0</td><td>28</td><td>17</td></tr>\n",
       "</tbody>\n",
       "</table>\n"
      ],
      "text/latex": [
       "A tibble: 2 × 4\n",
       "\\begin{tabular}{llll}\n",
       " part\\_num & color\\_id & quantity\\_mobile & quantity\\_wing\\\\\n",
       " <chr> & <dbl> & <dbl> & <dbl>\\\\\n",
       "\\hline\n",
       "\t 3023 & 72 & 62 & NA\\\\\n",
       "\t 2780 &  0 & 28 & 17\\\\\n",
       "\\end{tabular}\n"
      ],
      "text/markdown": [
       "\n",
       "A tibble: 2 × 4\n",
       "\n",
       "| part_num &lt;chr&gt; | color_id &lt;dbl&gt; | quantity_mobile &lt;dbl&gt; | quantity_wing &lt;dbl&gt; |\n",
       "|---|---|---|---|\n",
       "| 3023 | 72 | 62 | NA |\n",
       "| 2780 |  0 | 28 | 17 |\n",
       "\n"
      ],
      "text/plain": [
       "  part_num color_id quantity_mobile quantity_wing\n",
       "1 3023     72       62              NA           \n",
       "2 2780      0       28              17           "
      ]
     },
     "metadata": {},
     "output_type": "display_data"
    },
    {
     "data": {
      "text/html": [
       "173"
      ],
      "text/latex": [
       "173"
      ],
      "text/markdown": [
       "173"
      ],
      "text/plain": [
       "[1] 173"
      ]
     },
     "metadata": {},
     "output_type": "display_data"
    }
   ],
   "source": [
    "# join datasets by multiple columns using left_join\n",
    "\n",
    "leftbat <- batmobile %>%\n",
    "  left_join(batwing, by = c(\"part_num\", \"color_id\"), suffix = c(\"_mobile\", \"_wing\"))\n",
    "\n",
    "head(leftbat, 2)\n",
    "nrow(leftbat)"
   ]
  },
  {
   "cell_type": "markdown",
   "id": "1a0cd66d-d878-4c2a-890a-7ebcead76b54",
   "metadata": {},
   "source": [
    "☝️ Notice that the quantity batwing column now has NAs in it, representing missing values. For instance, the first piece, with part num 3023 and color id 72, appears 62 times in the Batmobile but never appears in the Batwing. The number of rows was 45 with `inner_join` but now it is 173 with `left_join`."
   ]
  },
  {
   "cell_type": "markdown",
   "id": "97326c00-a9b7-4331-b74f-65aee943753a",
   "metadata": {},
   "source": [
    "<a name=\"toc_54826_6.4\"></a>\n",
    "**6.4 right_join**"
   ]
  },
  {
   "cell_type": "code",
   "execution_count": 476,
   "id": "6622c9a5-b00d-4ae0-bb70-9f0f7025569f",
   "metadata": {},
   "outputs": [
    {
     "data": {
      "text/html": [
       "<table class=\"dataframe\">\n",
       "<caption>A tibble: 1 × 4</caption>\n",
       "<thead>\n",
       "\t<tr><th scope=col>part_num</th><th scope=col>color_id</th><th scope=col>quantity_mobile</th><th scope=col>quantity_wing</th></tr>\n",
       "\t<tr><th scope=col>&lt;chr&gt;</th><th scope=col>&lt;dbl&gt;</th><th scope=col>&lt;dbl&gt;</th><th scope=col>&lt;dbl&gt;</th></tr>\n",
       "</thead>\n",
       "<tbody>\n",
       "\t<tr><td>3023</td><td>0</td><td>NA</td><td>22</td></tr>\n",
       "</tbody>\n",
       "</table>\n"
      ],
      "text/latex": [
       "A tibble: 1 × 4\n",
       "\\begin{tabular}{llll}\n",
       " part\\_num & color\\_id & quantity\\_mobile & quantity\\_wing\\\\\n",
       " <chr> & <dbl> & <dbl> & <dbl>\\\\\n",
       "\\hline\n",
       "\t 3023 & 0 & NA & 22\\\\\n",
       "\\end{tabular}\n"
      ],
      "text/markdown": [
       "\n",
       "A tibble: 1 × 4\n",
       "\n",
       "| part_num &lt;chr&gt; | color_id &lt;dbl&gt; | quantity_mobile &lt;dbl&gt; | quantity_wing &lt;dbl&gt; |\n",
       "|---|---|---|---|\n",
       "| 3023 | 0 | NA | 22 |\n",
       "\n"
      ],
      "text/plain": [
       "  part_num color_id quantity_mobile quantity_wing\n",
       "1 3023     0        NA              22           "
      ]
     },
     "metadata": {},
     "output_type": "display_data"
    },
    {
     "data": {
      "text/html": [
       "312"
      ],
      "text/latex": [
       "312"
      ],
      "text/markdown": [
       "312"
      ],
      "text/plain": [
       "[1] 312"
      ]
     },
     "metadata": {},
     "output_type": "display_data"
    }
   ],
   "source": [
    "# join datasets by multiple columns using left_join\n",
    "\n",
    "rigthbat <- batmobile %>%\n",
    "  right_join(batwing, by = c(\"part_num\", \"color_id\"), suffix = c(\"_mobile\", \"_wing\")) \n",
    "\n",
    "rigthbat %>%\n",
    "  filter(is.na(quantity_mobile)) %>%\n",
    "  head(1)\n",
    "\n",
    "nrow(rigthbat)"
   ]
  },
  {
   "cell_type": "markdown",
   "id": "e05856ba-a430-46e6-9295-2614af0924d4",
   "metadata": {},
   "source": [
    "☝️ Notice that now the batmobile quantity column has NAs. We can replace the NA values with something else if we want."
   ]
  },
  {
   "cell_type": "code",
   "execution_count": 433,
   "id": "1dd8a73e-29d2-48c2-83dd-c9068d76a747",
   "metadata": {},
   "outputs": [
    {
     "data": {
      "text/html": [
       "<table class=\"dataframe\">\n",
       "<caption>A tibble: 1 × 4</caption>\n",
       "<thead>\n",
       "\t<tr><th scope=col>part_num</th><th scope=col>color_id</th><th scope=col>quantity_mobile</th><th scope=col>quantity_wing</th></tr>\n",
       "\t<tr><th scope=col>&lt;chr&gt;</th><th scope=col>&lt;dbl&gt;</th><th scope=col>&lt;dbl&gt;</th><th scope=col>&lt;dbl&gt;</th></tr>\n",
       "</thead>\n",
       "<tbody>\n",
       "\t<tr><td>3023</td><td>0</td><td>0</td><td>22</td></tr>\n",
       "</tbody>\n",
       "</table>\n"
      ],
      "text/latex": [
       "A tibble: 1 × 4\n",
       "\\begin{tabular}{llll}\n",
       " part\\_num & color\\_id & quantity\\_mobile & quantity\\_wing\\\\\n",
       " <chr> & <dbl> & <dbl> & <dbl>\\\\\n",
       "\\hline\n",
       "\t 3023 & 0 & 0 & 22\\\\\n",
       "\\end{tabular}\n"
      ],
      "text/markdown": [
       "\n",
       "A tibble: 1 × 4\n",
       "\n",
       "| part_num &lt;chr&gt; | color_id &lt;dbl&gt; | quantity_mobile &lt;dbl&gt; | quantity_wing &lt;dbl&gt; |\n",
       "|---|---|---|---|\n",
       "| 3023 | 0 | 0 | 22 |\n",
       "\n"
      ],
      "text/plain": [
       "  part_num color_id quantity_mobile quantity_wing\n",
       "1 3023     0        0               22           "
      ]
     },
     "metadata": {},
     "output_type": "display_data"
    }
   ],
   "source": [
    "#Replace NAs with 0\n",
    "rigthbat %>%\n",
    "  replace_na(list(quantity_mobile = 0)) %>%\n",
    "  filter(part_num == \"3023\") %>%\n",
    "  head(1)"
   ]
  },
  {
   "cell_type": "markdown",
   "id": "5ab26a63-c905-47ac-8eb5-efebc7b4aed8",
   "metadata": {},
   "source": [
    "<a name=\"toc_54826_6.5\"></a>\n",
    "**6.5 Full join**"
   ]
  },
  {
   "cell_type": "code",
   "execution_count": 485,
   "id": "2c4c4279-485b-40d3-9bfc-8f1558278709",
   "metadata": {},
   "outputs": [
    {
     "data": {
      "text/html": [
       "440"
      ],
      "text/latex": [
       "440"
      ],
      "text/markdown": [
       "440"
      ],
      "text/plain": [
       "[1] 440"
      ]
     },
     "metadata": {},
     "output_type": "display_data"
    }
   ],
   "source": [
    "fullbat <- batmobile %>%\n",
    "  full_join(batwing, by = c(\"part_num\", \"color_id\"), suffix = c(\"_mobile\", \"_wing\"))\n",
    "\n",
    "nrow(fullbat)"
   ]
  },
  {
   "cell_type": "markdown",
   "id": "3befbffb-0b60-461c-8d84-20acce055c88",
   "metadata": {},
   "source": [
    "☝️ We have more rows than either of the tables originally. This new table contains all rows that in either ot the original tables. There may be NAs in either quantity columns."
   ]
  },
  {
   "cell_type": "markdown",
   "id": "8f7f1a69-af30-47f3-9cf1-7a309a26b22d",
   "metadata": {},
   "source": [
    "<a name=\"toc_54826_6.6\"></a>\n",
    "**6.6 Semi join**"
   ]
  },
  {
   "cell_type": "code",
   "execution_count": 494,
   "id": "7538fe12-9282-45b0-8065-66dcd2774769",
   "metadata": {},
   "outputs": [
    {
     "data": {
      "text/html": [
       "<style>\n",
       ".list-inline {list-style: none; margin:0; padding: 0}\n",
       ".list-inline>li {display: inline-block}\n",
       ".list-inline>li:not(:last-child)::after {content: \"\\00b7\"; padding: 0 .5ex}\n",
       "</style>\n",
       "<ol class=list-inline><li>'part_num'</li><li>'color_id'</li><li>'quantity'</li></ol>\n"
      ],
      "text/latex": [
       "\\begin{enumerate*}\n",
       "\\item 'part\\_num'\n",
       "\\item 'color\\_id'\n",
       "\\item 'quantity'\n",
       "\\end{enumerate*}\n"
      ],
      "text/markdown": [
       "1. 'part_num'\n",
       "2. 'color_id'\n",
       "3. 'quantity'\n",
       "\n",
       "\n"
      ],
      "text/plain": [
       "[1] \"part_num\" \"color_id\" \"quantity\""
      ]
     },
     "metadata": {},
     "output_type": "display_data"
    },
    {
     "data": {
      "text/html": [
       "173"
      ],
      "text/latex": [
       "173"
      ],
      "text/markdown": [
       "173"
      ],
      "text/plain": [
       "[1] 173"
      ]
     },
     "metadata": {},
     "output_type": "display_data"
    }
   ],
   "source": [
    "names(batmobile)\n",
    "nrow(batmobile)"
   ]
  },
  {
   "cell_type": "code",
   "execution_count": 492,
   "id": "34ddf76f-5275-463a-b149-1431db2c6ee4",
   "metadata": {},
   "outputs": [
    {
     "data": {
      "text/html": [
       "<table class=\"dataframe\">\n",
       "<caption>A tibble: 3 × 3</caption>\n",
       "<thead>\n",
       "\t<tr><th scope=col>part_num</th><th scope=col>color_id</th><th scope=col>quantity</th></tr>\n",
       "\t<tr><th scope=col>&lt;chr&gt;</th><th scope=col>&lt;dbl&gt;</th><th scope=col>&lt;dbl&gt;</th></tr>\n",
       "</thead>\n",
       "<tbody>\n",
       "\t<tr><td>2780 </td><td> 0</td><td>28</td></tr>\n",
       "\t<tr><td>50950</td><td> 0</td><td>28</td></tr>\n",
       "\t<tr><td>3004 </td><td>71</td><td>26</td></tr>\n",
       "</tbody>\n",
       "</table>\n"
      ],
      "text/latex": [
       "A tibble: 3 × 3\n",
       "\\begin{tabular}{lll}\n",
       " part\\_num & color\\_id & quantity\\\\\n",
       " <chr> & <dbl> & <dbl>\\\\\n",
       "\\hline\n",
       "\t 2780  &  0 & 28\\\\\n",
       "\t 50950 &  0 & 28\\\\\n",
       "\t 3004  & 71 & 26\\\\\n",
       "\\end{tabular}\n"
      ],
      "text/markdown": [
       "\n",
       "A tibble: 3 × 3\n",
       "\n",
       "| part_num &lt;chr&gt; | color_id &lt;dbl&gt; | quantity &lt;dbl&gt; |\n",
       "|---|---|---|\n",
       "| 2780  |  0 | 28 |\n",
       "| 50950 |  0 | 28 |\n",
       "| 3004  | 71 | 26 |\n",
       "\n"
      ],
      "text/plain": [
       "  part_num color_id quantity\n",
       "1 2780      0       28      \n",
       "2 50950     0       28      \n",
       "3 3004     71       26      "
      ]
     },
     "metadata": {},
     "output_type": "display_data"
    },
    {
     "data": {
      "text/html": [
       "45"
      ],
      "text/latex": [
       "45"
      ],
      "text/markdown": [
       "45"
      ],
      "text/plain": [
       "[1] 45"
      ]
     },
     "metadata": {},
     "output_type": "display_data"
    }
   ],
   "source": [
    "semibat <- batmobile %>%\n",
    "  semi_join(batwing, by = c(\"color_id\", \"part_num\"))\n",
    "\n",
    "head(semibat, 3)\n",
    "nrow(semibat)"
   ]
  },
  {
   "cell_type": "markdown",
   "id": "3aa73411-449b-49d9-a4b0-106cd39a1407",
   "metadata": {},
   "source": [
    "☝️ This is a filtered batmobile dataset (no more or less columns) that only contain rows that are **also** in the batwing dataset."
   ]
  },
  {
   "cell_type": "markdown",
   "id": "40cdd9df-0fdb-4fc1-afb1-e406aa1ec3f7",
   "metadata": {},
   "source": [
    "<a name=\"toc_54826_6.7\"></a>\n",
    "**6.7 Anti join**"
   ]
  },
  {
   "cell_type": "code",
   "execution_count": 491,
   "id": "04cb9281-7fa2-4c9f-90c2-06f76a0d72c9",
   "metadata": {},
   "outputs": [
    {
     "data": {
      "text/html": [
       "<table class=\"dataframe\">\n",
       "<caption>A tibble: 3 × 3</caption>\n",
       "<thead>\n",
       "\t<tr><th scope=col>part_num</th><th scope=col>color_id</th><th scope=col>quantity</th></tr>\n",
       "\t<tr><th scope=col>&lt;chr&gt;</th><th scope=col>&lt;dbl&gt;</th><th scope=col>&lt;dbl&gt;</th></tr>\n",
       "</thead>\n",
       "<tbody>\n",
       "\t<tr><td>3023 </td><td>72</td><td>62</td></tr>\n",
       "\t<tr><td>3010 </td><td> 0</td><td>21</td></tr>\n",
       "\t<tr><td>30363</td><td> 0</td><td>21</td></tr>\n",
       "</tbody>\n",
       "</table>\n"
      ],
      "text/latex": [
       "A tibble: 3 × 3\n",
       "\\begin{tabular}{lll}\n",
       " part\\_num & color\\_id & quantity\\\\\n",
       " <chr> & <dbl> & <dbl>\\\\\n",
       "\\hline\n",
       "\t 3023  & 72 & 62\\\\\n",
       "\t 3010  &  0 & 21\\\\\n",
       "\t 30363 &  0 & 21\\\\\n",
       "\\end{tabular}\n"
      ],
      "text/markdown": [
       "\n",
       "A tibble: 3 × 3\n",
       "\n",
       "| part_num &lt;chr&gt; | color_id &lt;dbl&gt; | quantity &lt;dbl&gt; |\n",
       "|---|---|---|\n",
       "| 3023  | 72 | 62 |\n",
       "| 3010  |  0 | 21 |\n",
       "| 30363 |  0 | 21 |\n",
       "\n"
      ],
      "text/plain": [
       "  part_num color_id quantity\n",
       "1 3023     72       62      \n",
       "2 3010      0       21      \n",
       "3 30363     0       21      "
      ]
     },
     "metadata": {},
     "output_type": "display_data"
    },
    {
     "data": {
      "text/html": [
       "128"
      ],
      "text/latex": [
       "128"
      ],
      "text/markdown": [
       "128"
      ],
      "text/plain": [
       "[1] 128"
      ]
     },
     "metadata": {},
     "output_type": "display_data"
    }
   ],
   "source": [
    "antibat <- batmobile %>%\n",
    "  anti_join(batwing, by = c(\"color_id\", \"part_num\"))\n",
    "\n",
    "head(antibat, 3)\n",
    "nrow(antibat)"
   ]
  },
  {
   "cell_type": "markdown",
   "id": "9c7209d5-0813-4f62-bd51-713b28426d9f",
   "metadata": {},
   "source": [
    "☝️ This is a filtered batmobile dataset that only contain rows that are **not** in the batwing dataset."
   ]
  },
  {
   "cell_type": "markdown",
   "id": "440e92d6-13dc-49f2-813f-1d62890e7b74",
   "metadata": {},
   "source": [
    "<a name=\"toc_54826_6.8\"></a>\n",
    "**6.8 Joining tables to themselves**"
   ]
  },
  {
   "cell_type": "markdown",
   "id": "045dd03f-6c65-4577-9d5d-d19651be5444",
   "metadata": {},
   "source": [
    "The `themes` dataset is a hierarchical dataset. These datasets often contain a **parent_id** column  to represent this hierarchical relationship."
   ]
  },
  {
   "cell_type": "code",
   "execution_count": 437,
   "id": "6cf3500a-2b88-47e6-a3e9-7e77ef8ab5fc",
   "metadata": {},
   "outputs": [
    {
     "data": {
      "text/html": [
       "<table class=\"dataframe\">\n",
       "<caption>A tibble: 10 × 3</caption>\n",
       "<thead>\n",
       "\t<tr><th scope=col>id</th><th scope=col>name</th><th scope=col>parent_id</th></tr>\n",
       "\t<tr><th scope=col>&lt;dbl&gt;</th><th scope=col>&lt;chr&gt;</th><th scope=col>&lt;dbl&gt;</th></tr>\n",
       "</thead>\n",
       "<tbody>\n",
       "\t<tr><td> 1</td><td>Technic       </td><td>NA</td></tr>\n",
       "\t<tr><td> 2</td><td>Arctic Technic</td><td> 1</td></tr>\n",
       "\t<tr><td> 3</td><td>Competition   </td><td> 1</td></tr>\n",
       "\t<tr><td> 4</td><td>Expert Builder</td><td> 1</td></tr>\n",
       "\t<tr><td> 5</td><td>Model         </td><td> 1</td></tr>\n",
       "\t<tr><td> 6</td><td>Airport       </td><td> 5</td></tr>\n",
       "\t<tr><td> 7</td><td>Construction  </td><td> 5</td></tr>\n",
       "\t<tr><td> 8</td><td>Farm          </td><td> 5</td></tr>\n",
       "\t<tr><td> 9</td><td>Fire          </td><td> 5</td></tr>\n",
       "\t<tr><td>10</td><td>Harbor        </td><td> 5</td></tr>\n",
       "</tbody>\n",
       "</table>\n"
      ],
      "text/latex": [
       "A tibble: 10 × 3\n",
       "\\begin{tabular}{lll}\n",
       " id & name & parent\\_id\\\\\n",
       " <dbl> & <chr> & <dbl>\\\\\n",
       "\\hline\n",
       "\t  1 & Technic        & NA\\\\\n",
       "\t  2 & Arctic Technic &  1\\\\\n",
       "\t  3 & Competition    &  1\\\\\n",
       "\t  4 & Expert Builder &  1\\\\\n",
       "\t  5 & Model          &  1\\\\\n",
       "\t  6 & Airport        &  5\\\\\n",
       "\t  7 & Construction   &  5\\\\\n",
       "\t  8 & Farm           &  5\\\\\n",
       "\t  9 & Fire           &  5\\\\\n",
       "\t 10 & Harbor         &  5\\\\\n",
       "\\end{tabular}\n"
      ],
      "text/markdown": [
       "\n",
       "A tibble: 10 × 3\n",
       "\n",
       "| id &lt;dbl&gt; | name &lt;chr&gt; | parent_id &lt;dbl&gt; |\n",
       "|---|---|---|\n",
       "|  1 | Technic        | NA |\n",
       "|  2 | Arctic Technic |  1 |\n",
       "|  3 | Competition    |  1 |\n",
       "|  4 | Expert Builder |  1 |\n",
       "|  5 | Model          |  1 |\n",
       "|  6 | Airport        |  5 |\n",
       "|  7 | Construction   |  5 |\n",
       "|  8 | Farm           |  5 |\n",
       "|  9 | Fire           |  5 |\n",
       "| 10 | Harbor         |  5 |\n",
       "\n"
      ],
      "text/plain": [
       "   id name           parent_id\n",
       "1   1 Technic        NA       \n",
       "2   2 Arctic Technic  1       \n",
       "3   3 Competition     1       \n",
       "4   4 Expert Builder  1       \n",
       "5   5 Model           1       \n",
       "6   6 Airport         5       \n",
       "7   7 Construction    5       \n",
       "8   8 Farm            5       \n",
       "9   9 Fire            5       \n",
       "10 10 Harbor          5       "
      ]
     },
     "metadata": {},
     "output_type": "display_data"
    }
   ],
   "source": [
    "head(themes, 10)"
   ]
  },
  {
   "attachments": {
    "97d2c267-b9b8-4359-8616-4590b04b0e44.PNG": {
     "image/png": "[encoded data removed]"
    }
   },
   "cell_type": "markdown",
   "id": "3700808f-e733-480d-9d02-23e34e28155d",
   "metadata": {},
   "source": [
    "☝️ The themes \"Arctic Technic\", \"Competition\", \"Expert Builder\", and \"Model\" all have the parent id 1. Based on the first id column, we can see that that ID corresponds to the first theme, called \"Technic\". We can also see that the next five rows have the parent id 5, which we can see corresponds to the theme \"Model\".\n",
    "\n",
    "This means that the Technic theme has four children, and its child theme Model also has five children themes:\n",
    "<div>\n",
    " <img src=\"attachment:97d2c267-b9b8-4359-8616-4590b04b0e44.PNG\" width=\"600\">\n",
    "</div>\n",
    "\n",
    "Sometimes it may be necessary to join a table to itself, by matching each theme to its parents."
   ]
  },
  {
   "cell_type": "code",
   "execution_count": 444,
   "id": "91634534-265e-4ba4-9a26-a4aaf233dc19",
   "metadata": {},
   "outputs": [
    {
     "data": {
      "text/html": [
       "<table class=\"dataframe\">\n",
       "<caption>A tibble: 6 × 5</caption>\n",
       "<thead>\n",
       "\t<tr><th scope=col>id</th><th scope=col>name_child</th><th scope=col>parent_id</th><th scope=col>name_parent</th><th scope=col>parent_id_parent</th></tr>\n",
       "\t<tr><th scope=col>&lt;dbl&gt;</th><th scope=col>&lt;chr&gt;</th><th scope=col>&lt;dbl&gt;</th><th scope=col>&lt;chr&gt;</th><th scope=col>&lt;dbl&gt;</th></tr>\n",
       "</thead>\n",
       "<tbody>\n",
       "\t<tr><td>2</td><td>Arctic Technic</td><td>1</td><td>Technic</td><td>NA</td></tr>\n",
       "\t<tr><td>3</td><td>Competition   </td><td>1</td><td>Technic</td><td>NA</td></tr>\n",
       "\t<tr><td>4</td><td>Expert Builder</td><td>1</td><td>Technic</td><td>NA</td></tr>\n",
       "\t<tr><td>5</td><td>Model         </td><td>1</td><td>Technic</td><td>NA</td></tr>\n",
       "\t<tr><td>6</td><td>Airport       </td><td>5</td><td>Model  </td><td> 1</td></tr>\n",
       "\t<tr><td>7</td><td>Construction  </td><td>5</td><td>Model  </td><td> 1</td></tr>\n",
       "</tbody>\n",
       "</table>\n"
      ],
      "text/latex": [
       "A tibble: 6 × 5\n",
       "\\begin{tabular}{lllll}\n",
       " id & name\\_child & parent\\_id & name\\_parent & parent\\_id\\_parent\\\\\n",
       " <dbl> & <chr> & <dbl> & <chr> & <dbl>\\\\\n",
       "\\hline\n",
       "\t 2 & Arctic Technic & 1 & Technic & NA\\\\\n",
       "\t 3 & Competition    & 1 & Technic & NA\\\\\n",
       "\t 4 & Expert Builder & 1 & Technic & NA\\\\\n",
       "\t 5 & Model          & 1 & Technic & NA\\\\\n",
       "\t 6 & Airport        & 5 & Model   &  1\\\\\n",
       "\t 7 & Construction   & 5 & Model   &  1\\\\\n",
       "\\end{tabular}\n"
      ],
      "text/markdown": [
       "\n",
       "A tibble: 6 × 5\n",
       "\n",
       "| id &lt;dbl&gt; | name_child &lt;chr&gt; | parent_id &lt;dbl&gt; | name_parent &lt;chr&gt; | parent_id_parent &lt;dbl&gt; |\n",
       "|---|---|---|---|---|\n",
       "| 2 | Arctic Technic | 1 | Technic | NA |\n",
       "| 3 | Competition    | 1 | Technic | NA |\n",
       "| 4 | Expert Builder | 1 | Technic | NA |\n",
       "| 5 | Model          | 1 | Technic | NA |\n",
       "| 6 | Airport        | 5 | Model   |  1 |\n",
       "| 7 | Construction   | 5 | Model   |  1 |\n",
       "\n"
      ],
      "text/plain": [
       "  id name_child     parent_id name_parent parent_id_parent\n",
       "1 2  Arctic Technic 1         Technic     NA              \n",
       "2 3  Competition    1         Technic     NA              \n",
       "3 4  Expert Builder 1         Technic     NA              \n",
       "4 5  Model          1         Technic     NA              \n",
       "5 6  Airport        5         Model        1              \n",
       "6 7  Construction   5         Model        1              "
      ]
     },
     "metadata": {},
     "output_type": "display_data"
    }
   ],
   "source": [
    "# Child-parent table\n",
    "cptheme <- themes %>%\n",
    "  inner_join(themes, by = c(\"parent_id\" = \"id\"), suffix = c(\"_child\", \"_parent\")) \n",
    "\n",
    "head(cptheme, 6)"
   ]
  },
  {
   "cell_type": "code",
   "execution_count": 449,
   "id": "4408673f-dfda-4b65-9743-1f216a850e6b",
   "metadata": {},
   "outputs": [
    {
     "data": {
      "text/html": [
       "<table class=\"dataframe\">\n",
       "<caption>A spec_tbl_df: 3 × 5</caption>\n",
       "<thead>\n",
       "\t<tr><th scope=col>id</th><th scope=col>name_child</th><th scope=col>parent_id</th><th scope=col>name_parent</th><th scope=col>parent_id_parent</th></tr>\n",
       "\t<tr><th scope=col>&lt;dbl&gt;</th><th scope=col>&lt;chr&gt;</th><th scope=col>&lt;dbl&gt;</th><th scope=col>&lt;chr&gt;</th><th scope=col>&lt;dbl&gt;</th></tr>\n",
       "</thead>\n",
       "<tbody>\n",
       "\t<tr><td>567</td><td>The Fellowship of the Ring</td><td>566</td><td>The Lord of the Rings</td><td>561</td></tr>\n",
       "\t<tr><td>568</td><td>The Two Towers            </td><td>566</td><td>The Lord of the Rings</td><td>561</td></tr>\n",
       "\t<tr><td>569</td><td>The Return of the King    </td><td>566</td><td>The Lord of the Rings</td><td>561</td></tr>\n",
       "</tbody>\n",
       "</table>\n"
      ],
      "text/latex": [
       "A spec\\_tbl\\_df: 3 × 5\n",
       "\\begin{tabular}{lllll}\n",
       " id & name\\_child & parent\\_id & name\\_parent & parent\\_id\\_parent\\\\\n",
       " <dbl> & <chr> & <dbl> & <chr> & <dbl>\\\\\n",
       "\\hline\n",
       "\t 567 & The Fellowship of the Ring & 566 & The Lord of the Rings & 561\\\\\n",
       "\t 568 & The Two Towers             & 566 & The Lord of the Rings & 561\\\\\n",
       "\t 569 & The Return of the King     & 566 & The Lord of the Rings & 561\\\\\n",
       "\\end{tabular}\n"
      ],
      "text/markdown": [
       "\n",
       "A spec_tbl_df: 3 × 5\n",
       "\n",
       "| id &lt;dbl&gt; | name_child &lt;chr&gt; | parent_id &lt;dbl&gt; | name_parent &lt;chr&gt; | parent_id_parent &lt;dbl&gt; |\n",
       "|---|---|---|---|---|\n",
       "| 567 | The Fellowship of the Ring | 566 | The Lord of the Rings | 561 |\n",
       "| 568 | The Two Towers             | 566 | The Lord of the Rings | 561 |\n",
       "| 569 | The Return of the King     | 566 | The Lord of the Rings | 561 |\n",
       "\n"
      ],
      "text/plain": [
       "  id  name_child                 parent_id name_parent          \n",
       "1 567 The Fellowship of the Ring 566       The Lord of the Rings\n",
       "2 568 The Two Towers             566       The Lord of the Rings\n",
       "3 569 The Return of the King     566       The Lord of the Rings\n",
       "  parent_id_parent\n",
       "1 561             \n",
       "2 561             \n",
       "3 561             "
      ]
     },
     "metadata": {},
     "output_type": "display_data"
    }
   ],
   "source": [
    "cptheme %>%\n",
    "  filter(name_parent == \"The Lord of the Rings\")"
   ]
  },
  {
   "cell_type": "markdown",
   "id": "14a9fa1c-4efe-40bc-b37a-53ed7ffb395e",
   "metadata": {},
   "source": [
    "☝️  The \"The Lord of the Rings\" parent category (566) has am even higher parent category (561), called \"The Hobbit and Lord of the Rings\""
   ]
  },
  {
   "cell_type": "code",
   "execution_count": 455,
   "id": "0e5c529a-5c87-401e-b0b4-fffbe66cb8f0",
   "metadata": {},
   "outputs": [
    {
     "data": {
      "text/html": [
       "<table class=\"dataframe\">\n",
       "<caption>A spec_tbl_df: 1 × 3</caption>\n",
       "<thead>\n",
       "\t<tr><th scope=col>id</th><th scope=col>name</th><th scope=col>parent_id</th></tr>\n",
       "\t<tr><th scope=col>&lt;dbl&gt;</th><th scope=col>&lt;chr&gt;</th><th scope=col>&lt;dbl&gt;</th></tr>\n",
       "</thead>\n",
       "<tbody>\n",
       "\t<tr><td>561</td><td>The Hobbit and Lord of the Rings</td><td>NA</td></tr>\n",
       "</tbody>\n",
       "</table>\n"
      ],
      "text/latex": [
       "A spec\\_tbl\\_df: 1 × 3\n",
       "\\begin{tabular}{lll}\n",
       " id & name & parent\\_id\\\\\n",
       " <dbl> & <chr> & <dbl>\\\\\n",
       "\\hline\n",
       "\t 561 & The Hobbit and Lord of the Rings & NA\\\\\n",
       "\\end{tabular}\n"
      ],
      "text/markdown": [
       "\n",
       "A spec_tbl_df: 1 × 3\n",
       "\n",
       "| id &lt;dbl&gt; | name &lt;chr&gt; | parent_id &lt;dbl&gt; |\n",
       "|---|---|---|\n",
       "| 561 | The Hobbit and Lord of the Rings | NA |\n",
       "\n"
      ],
      "text/plain": [
       "  id  name                             parent_id\n",
       "1 561 The Hobbit and Lord of the Rings NA       "
      ]
     },
     "metadata": {},
     "output_type": "display_data"
    },
    {
     "data": {
      "text/html": [
       "<table class=\"dataframe\">\n",
       "<caption>A spec_tbl_df: 2 × 5</caption>\n",
       "<thead>\n",
       "\t<tr><th scope=col>id</th><th scope=col>name_child</th><th scope=col>parent_id</th><th scope=col>name_parent</th><th scope=col>parent_id_parent</th></tr>\n",
       "\t<tr><th scope=col>&lt;dbl&gt;</th><th scope=col>&lt;chr&gt;</th><th scope=col>&lt;dbl&gt;</th><th scope=col>&lt;chr&gt;</th><th scope=col>&lt;dbl&gt;</th></tr>\n",
       "</thead>\n",
       "<tbody>\n",
       "\t<tr><td>562</td><td>The Hobbit           </td><td>561</td><td>The Hobbit and Lord of the Rings</td><td>NA</td></tr>\n",
       "\t<tr><td>566</td><td>The Lord of the Rings</td><td>561</td><td>The Hobbit and Lord of the Rings</td><td>NA</td></tr>\n",
       "</tbody>\n",
       "</table>\n"
      ],
      "text/latex": [
       "A spec\\_tbl\\_df: 2 × 5\n",
       "\\begin{tabular}{lllll}\n",
       " id & name\\_child & parent\\_id & name\\_parent & parent\\_id\\_parent\\\\\n",
       " <dbl> & <chr> & <dbl> & <chr> & <dbl>\\\\\n",
       "\\hline\n",
       "\t 562 & The Hobbit            & 561 & The Hobbit and Lord of the Rings & NA\\\\\n",
       "\t 566 & The Lord of the Rings & 561 & The Hobbit and Lord of the Rings & NA\\\\\n",
       "\\end{tabular}\n"
      ],
      "text/markdown": [
       "\n",
       "A spec_tbl_df: 2 × 5\n",
       "\n",
       "| id &lt;dbl&gt; | name_child &lt;chr&gt; | parent_id &lt;dbl&gt; | name_parent &lt;chr&gt; | parent_id_parent &lt;dbl&gt; |\n",
       "|---|---|---|---|---|\n",
       "| 562 | The Hobbit            | 561 | The Hobbit and Lord of the Rings | NA |\n",
       "| 566 | The Lord of the Rings | 561 | The Hobbit and Lord of the Rings | NA |\n",
       "\n"
      ],
      "text/plain": [
       "  id  name_child            parent_id name_parent                     \n",
       "1 562 The Hobbit            561       The Hobbit and Lord of the Rings\n",
       "2 566 The Lord of the Rings 561       The Hobbit and Lord of the Rings\n",
       "  parent_id_parent\n",
       "1 NA              \n",
       "2 NA              "
      ]
     },
     "metadata": {},
     "output_type": "display_data"
    },
    {
     "data": {
      "text/html": [
       "<table class=\"dataframe\">\n",
       "<caption>A spec_tbl_df: 6 × 5</caption>\n",
       "<thead>\n",
       "\t<tr><th scope=col>id</th><th scope=col>name_child</th><th scope=col>parent_id</th><th scope=col>name_parent</th><th scope=col>parent_id_parent</th></tr>\n",
       "\t<tr><th scope=col>&lt;dbl&gt;</th><th scope=col>&lt;chr&gt;</th><th scope=col>&lt;dbl&gt;</th><th scope=col>&lt;chr&gt;</th><th scope=col>&lt;dbl&gt;</th></tr>\n",
       "</thead>\n",
       "<tbody>\n",
       "\t<tr><td>563</td><td>An Unexpected Journey        </td><td>562</td><td>The Hobbit           </td><td>561</td></tr>\n",
       "\t<tr><td>564</td><td>The Desolation of Smaug      </td><td>562</td><td>The Hobbit           </td><td>561</td></tr>\n",
       "\t<tr><td>565</td><td>The Battle of the Five Armies</td><td>562</td><td>The Hobbit           </td><td>561</td></tr>\n",
       "\t<tr><td>567</td><td>The Fellowship of the Ring   </td><td>566</td><td>The Lord of the Rings</td><td>561</td></tr>\n",
       "\t<tr><td>568</td><td>The Two Towers               </td><td>566</td><td>The Lord of the Rings</td><td>561</td></tr>\n",
       "\t<tr><td>569</td><td>The Return of the King       </td><td>566</td><td>The Lord of the Rings</td><td>561</td></tr>\n",
       "</tbody>\n",
       "</table>\n"
      ],
      "text/latex": [
       "A spec\\_tbl\\_df: 6 × 5\n",
       "\\begin{tabular}{lllll}\n",
       " id & name\\_child & parent\\_id & name\\_parent & parent\\_id\\_parent\\\\\n",
       " <dbl> & <chr> & <dbl> & <chr> & <dbl>\\\\\n",
       "\\hline\n",
       "\t 563 & An Unexpected Journey         & 562 & The Hobbit            & 561\\\\\n",
       "\t 564 & The Desolation of Smaug       & 562 & The Hobbit            & 561\\\\\n",
       "\t 565 & The Battle of the Five Armies & 562 & The Hobbit            & 561\\\\\n",
       "\t 567 & The Fellowship of the Ring    & 566 & The Lord of the Rings & 561\\\\\n",
       "\t 568 & The Two Towers                & 566 & The Lord of the Rings & 561\\\\\n",
       "\t 569 & The Return of the King        & 566 & The Lord of the Rings & 561\\\\\n",
       "\\end{tabular}\n"
      ],
      "text/markdown": [
       "\n",
       "A spec_tbl_df: 6 × 5\n",
       "\n",
       "| id &lt;dbl&gt; | name_child &lt;chr&gt; | parent_id &lt;dbl&gt; | name_parent &lt;chr&gt; | parent_id_parent &lt;dbl&gt; |\n",
       "|---|---|---|---|---|\n",
       "| 563 | An Unexpected Journey         | 562 | The Hobbit            | 561 |\n",
       "| 564 | The Desolation of Smaug       | 562 | The Hobbit            | 561 |\n",
       "| 565 | The Battle of the Five Armies | 562 | The Hobbit            | 561 |\n",
       "| 567 | The Fellowship of the Ring    | 566 | The Lord of the Rings | 561 |\n",
       "| 568 | The Two Towers                | 566 | The Lord of the Rings | 561 |\n",
       "| 569 | The Return of the King        | 566 | The Lord of the Rings | 561 |\n",
       "\n"
      ],
      "text/plain": [
       "  id  name_child                    parent_id name_parent          \n",
       "1 563 An Unexpected Journey         562       The Hobbit           \n",
       "2 564 The Desolation of Smaug       562       The Hobbit           \n",
       "3 565 The Battle of the Five Armies 562       The Hobbit           \n",
       "4 567 The Fellowship of the Ring    566       The Lord of the Rings\n",
       "5 568 The Two Towers                566       The Lord of the Rings\n",
       "6 569 The Return of the King        566       The Lord of the Rings\n",
       "  parent_id_parent\n",
       "1 561             \n",
       "2 561             \n",
       "3 561             \n",
       "4 561             \n",
       "5 561             \n",
       "6 561             "
      ]
     },
     "metadata": {},
     "output_type": "display_data"
    }
   ],
   "source": [
    "themes %>%\n",
    "  filter(id == 561) \n",
    "\n",
    "cptheme %>%\n",
    "  filter(name_parent == \"The Hobbit and Lord of the Rings\") \n",
    "\n",
    "cptheme %>%\n",
    "  filter(parent_id_parent == 561) "
   ]
  },
  {
   "cell_type": "code",
   "execution_count": 460,
   "id": "e22c4973-4a38-4222-919a-1e48d1cc3b50",
   "metadata": {},
   "outputs": [
    {
     "data": {
      "text/html": [
       "<table class=\"dataframe\">\n",
       "<caption>A spec_tbl_df: 6 × 7</caption>\n",
       "<thead>\n",
       "\t<tr><th scope=col>id_parent</th><th scope=col>name_parent</th><th scope=col>parent_id</th><th scope=col>id_child</th><th scope=col>name_child</th><th scope=col>id_grandchild</th><th scope=col>name</th></tr>\n",
       "\t<tr><th scope=col>&lt;dbl&gt;</th><th scope=col>&lt;chr&gt;</th><th scope=col>&lt;dbl&gt;</th><th scope=col>&lt;dbl&gt;</th><th scope=col>&lt;chr&gt;</th><th scope=col>&lt;dbl&gt;</th><th scope=col>&lt;chr&gt;</th></tr>\n",
       "</thead>\n",
       "<tbody>\n",
       "\t<tr><td>561</td><td>The Hobbit and Lord of the Rings</td><td>NA</td><td>562</td><td>The Hobbit           </td><td>563</td><td>An Unexpected Journey        </td></tr>\n",
       "\t<tr><td>561</td><td>The Hobbit and Lord of the Rings</td><td>NA</td><td>562</td><td>The Hobbit           </td><td>564</td><td>The Desolation of Smaug      </td></tr>\n",
       "\t<tr><td>561</td><td>The Hobbit and Lord of the Rings</td><td>NA</td><td>562</td><td>The Hobbit           </td><td>565</td><td>The Battle of the Five Armies</td></tr>\n",
       "\t<tr><td>561</td><td>The Hobbit and Lord of the Rings</td><td>NA</td><td>566</td><td>The Lord of the Rings</td><td>567</td><td>The Fellowship of the Ring   </td></tr>\n",
       "\t<tr><td>561</td><td>The Hobbit and Lord of the Rings</td><td>NA</td><td>566</td><td>The Lord of the Rings</td><td>568</td><td>The Two Towers               </td></tr>\n",
       "\t<tr><td>561</td><td>The Hobbit and Lord of the Rings</td><td>NA</td><td>566</td><td>The Lord of the Rings</td><td>569</td><td>The Return of the King       </td></tr>\n",
       "</tbody>\n",
       "</table>\n"
      ],
      "text/latex": [
       "A spec\\_tbl\\_df: 6 × 7\n",
       "\\begin{tabular}{lllllll}\n",
       " id\\_parent & name\\_parent & parent\\_id & id\\_child & name\\_child & id\\_grandchild & name\\\\\n",
       " <dbl> & <chr> & <dbl> & <dbl> & <chr> & <dbl> & <chr>\\\\\n",
       "\\hline\n",
       "\t 561 & The Hobbit and Lord of the Rings & NA & 562 & The Hobbit            & 563 & An Unexpected Journey        \\\\\n",
       "\t 561 & The Hobbit and Lord of the Rings & NA & 562 & The Hobbit            & 564 & The Desolation of Smaug      \\\\\n",
       "\t 561 & The Hobbit and Lord of the Rings & NA & 562 & The Hobbit            & 565 & The Battle of the Five Armies\\\\\n",
       "\t 561 & The Hobbit and Lord of the Rings & NA & 566 & The Lord of the Rings & 567 & The Fellowship of the Ring   \\\\\n",
       "\t 561 & The Hobbit and Lord of the Rings & NA & 566 & The Lord of the Rings & 568 & The Two Towers               \\\\\n",
       "\t 561 & The Hobbit and Lord of the Rings & NA & 566 & The Lord of the Rings & 569 & The Return of the King       \\\\\n",
       "\\end{tabular}\n"
      ],
      "text/markdown": [
       "\n",
       "A spec_tbl_df: 6 × 7\n",
       "\n",
       "| id_parent &lt;dbl&gt; | name_parent &lt;chr&gt; | parent_id &lt;dbl&gt; | id_child &lt;dbl&gt; | name_child &lt;chr&gt; | id_grandchild &lt;dbl&gt; | name &lt;chr&gt; |\n",
       "|---|---|---|---|---|---|---|\n",
       "| 561 | The Hobbit and Lord of the Rings | NA | 562 | The Hobbit            | 563 | An Unexpected Journey         |\n",
       "| 561 | The Hobbit and Lord of the Rings | NA | 562 | The Hobbit            | 564 | The Desolation of Smaug       |\n",
       "| 561 | The Hobbit and Lord of the Rings | NA | 562 | The Hobbit            | 565 | The Battle of the Five Armies |\n",
       "| 561 | The Hobbit and Lord of the Rings | NA | 566 | The Lord of the Rings | 567 | The Fellowship of the Ring    |\n",
       "| 561 | The Hobbit and Lord of the Rings | NA | 566 | The Lord of the Rings | 568 | The Two Towers                |\n",
       "| 561 | The Hobbit and Lord of the Rings | NA | 566 | The Lord of the Rings | 569 | The Return of the King        |\n",
       "\n"
      ],
      "text/plain": [
       "  id_parent name_parent                      parent_id id_child\n",
       "1 561       The Hobbit and Lord of the Rings NA        562     \n",
       "2 561       The Hobbit and Lord of the Rings NA        562     \n",
       "3 561       The Hobbit and Lord of the Rings NA        562     \n",
       "4 561       The Hobbit and Lord of the Rings NA        566     \n",
       "5 561       The Hobbit and Lord of the Rings NA        566     \n",
       "6 561       The Hobbit and Lord of the Rings NA        566     \n",
       "  name_child            id_grandchild name                         \n",
       "1 The Hobbit            563           An Unexpected Journey        \n",
       "2 The Hobbit            564           The Desolation of Smaug      \n",
       "3 The Hobbit            565           The Battle of the Five Armies\n",
       "4 The Lord of the Rings 567           The Fellowship of the Ring   \n",
       "5 The Lord of the Rings 568           The Two Towers               \n",
       "6 The Lord of the Rings 569           The Return of the King       "
      ]
     },
     "metadata": {},
     "output_type": "display_data"
    }
   ],
   "source": [
    "# Grandparent-grandchild relationships\n",
    "\n",
    "themes %>% \n",
    "  inner_join(themes, by = c(\"id\" = \"parent_id\"), suffix = c(\"_parent\", \"_child\")) %>%\n",
    "  inner_join(themes, by = c(\"id_child\" = \"parent_id\"), suffix = c(\"_parent\", \"_grandchild\")) %>%\n",
    "  filter(name_parent == \"The Hobbit and Lord of the Rings\") "
   ]
  },
  {
   "cell_type": "code",
   "execution_count": 470,
   "id": "96d0b8d4-351c-4568-b7d4-d1cae3977f33",
   "metadata": {},
   "outputs": [
    {
     "data": {
      "text/html": [
       "<table class=\"dataframe\">\n",
       "<caption>A tibble: 3 × 5</caption>\n",
       "<thead>\n",
       "\t<tr><th scope=col>id</th><th scope=col>name_parent</th><th scope=col>parent_id</th><th scope=col>id_child</th><th scope=col>name_child</th></tr>\n",
       "\t<tr><th scope=col>&lt;dbl&gt;</th><th scope=col>&lt;chr&gt;</th><th scope=col>&lt;dbl&gt;</th><th scope=col>&lt;dbl&gt;</th><th scope=col>&lt;chr&gt;</th></tr>\n",
       "</thead>\n",
       "<tbody>\n",
       "\t<tr><td>2</td><td>Arctic Technic</td><td>1</td><td>NA</td><td>NA</td></tr>\n",
       "\t<tr><td>3</td><td>Competition   </td><td>1</td><td>NA</td><td>NA</td></tr>\n",
       "\t<tr><td>4</td><td>Expert Builder</td><td>1</td><td>NA</td><td>NA</td></tr>\n",
       "</tbody>\n",
       "</table>\n"
      ],
      "text/latex": [
       "A tibble: 3 × 5\n",
       "\\begin{tabular}{lllll}\n",
       " id & name\\_parent & parent\\_id & id\\_child & name\\_child\\\\\n",
       " <dbl> & <chr> & <dbl> & <dbl> & <chr>\\\\\n",
       "\\hline\n",
       "\t 2 & Arctic Technic & 1 & NA & NA\\\\\n",
       "\t 3 & Competition    & 1 & NA & NA\\\\\n",
       "\t 4 & Expert Builder & 1 & NA & NA\\\\\n",
       "\\end{tabular}\n"
      ],
      "text/markdown": [
       "\n",
       "A tibble: 3 × 5\n",
       "\n",
       "| id &lt;dbl&gt; | name_parent &lt;chr&gt; | parent_id &lt;dbl&gt; | id_child &lt;dbl&gt; | name_child &lt;chr&gt; |\n",
       "|---|---|---|---|---|\n",
       "| 2 | Arctic Technic | 1 | NA | NA |\n",
       "| 3 | Competition    | 1 | NA | NA |\n",
       "| 4 | Expert Builder | 1 | NA | NA |\n",
       "\n"
      ],
      "text/plain": [
       "  id name_parent    parent_id id_child name_child\n",
       "1 2  Arctic Technic 1         NA       NA        \n",
       "2 3  Competition    1         NA       NA        \n",
       "3 4  Expert Builder 1         NA       NA        "
      ]
     },
     "metadata": {},
     "output_type": "display_data"
    },
    {
     "data": {
      "text/html": [
       "586"
      ],
      "text/latex": [
       "586"
      ],
      "text/markdown": [
       "586"
      ],
      "text/plain": [
       "[1] 586"
      ]
     },
     "metadata": {},
     "output_type": "display_data"
    }
   ],
   "source": [
    "# Use left_join to find themes that do not have any child themes.\n",
    "nochtheme <- themes %>% \n",
    "  left_join(themes, by = c(\"id\" = \"parent_id\"), suffix = c(\"_parent\", \"_child\")) %>%\n",
    "  filter(is.na(id_child))\n",
    "\n",
    "head(nochtheme, 3)\n",
    "nrow(nochtheme)  "
   ]
  },
  {
   "cell_type": "markdown",
   "id": "23259e3e-63bd-4013-9440-c0ca547f179c",
   "metadata": {},
   "source": [
    "<a name=\"toc_54826_6.9\"></a>\n",
    "**6.9 Visualizing set differences**"
   ]
  },
  {
   "cell_type": "code",
   "execution_count": 499,
   "id": "58244265-2651-4479-bb50-7b0b894197ba",
   "metadata": {},
   "outputs": [],
   "source": [
    "batmobile_color <- batmobile %>%\n",
    "  group_by(color_id) %>%\n",
    "  summarize(total = sum(quantity))\n",
    "\n",
    "batwing_color <- batwing  %>%\n",
    "  group_by(color_id) %>%\n",
    "  summarize(total = sum(quantity))"
   ]
  },
  {
   "cell_type": "code",
   "execution_count": 506,
   "id": "aaac512f-962a-4674-ae1b-bde7b6005e84",
   "metadata": {},
   "outputs": [
    {
     "data": {
      "text/html": [
       "<table class=\"dataframe\">\n",
       "<caption>A tibble: 3 × 6</caption>\n",
       "<thead>\n",
       "\t<tr><th scope=col>color_id</th><th scope=col>total_mobile</th><th scope=col>total_wing</th><th scope=col>name</th><th scope=col>rgb</th><th scope=col>difference</th></tr>\n",
       "\t<tr><th scope=col>&lt;dbl&gt;</th><th scope=col>&lt;dbl&gt;</th><th scope=col>&lt;dbl&gt;</th><th scope=col>&lt;chr&gt;</th><th scope=col>&lt;chr&gt;</th><th scope=col>&lt;dbl&gt;</th></tr>\n",
       "</thead>\n",
       "<tbody>\n",
       "\t<tr><td>0</td><td>0.51615970</td><td>0.39733840</td><td>Black</td><td>#05131D</td><td> 0.11882129</td></tr>\n",
       "\t<tr><td>1</td><td>0.03136882</td><td>0.04277567</td><td>Blue </td><td>#0055BF</td><td>-0.01140684</td></tr>\n",
       "\t<tr><td>4</td><td>0.01520913</td><td>0.07699620</td><td>Red  </td><td>#C91A09</td><td>-0.06178707</td></tr>\n",
       "</tbody>\n",
       "</table>\n"
      ],
      "text/latex": [
       "A tibble: 3 × 6\n",
       "\\begin{tabular}{llllll}\n",
       " color\\_id & total\\_mobile & total\\_wing & name & rgb & difference\\\\\n",
       " <dbl> & <dbl> & <dbl> & <chr> & <chr> & <dbl>\\\\\n",
       "\\hline\n",
       "\t 0 & 0.51615970 & 0.39733840 & Black & \\#05131D &  0.11882129\\\\\n",
       "\t 1 & 0.03136882 & 0.04277567 & Blue  & \\#0055BF & -0.01140684\\\\\n",
       "\t 4 & 0.01520913 & 0.07699620 & Red   & \\#C91A09 & -0.06178707\\\\\n",
       "\\end{tabular}\n"
      ],
      "text/markdown": [
       "\n",
       "A tibble: 3 × 6\n",
       "\n",
       "| color_id &lt;dbl&gt; | total_mobile &lt;dbl&gt; | total_wing &lt;dbl&gt; | name &lt;chr&gt; | rgb &lt;chr&gt; | difference &lt;dbl&gt; |\n",
       "|---|---|---|---|---|---|\n",
       "| 0 | 0.51615970 | 0.39733840 | Black | #05131D |  0.11882129 |\n",
       "| 1 | 0.03136882 | 0.04277567 | Blue  | #0055BF | -0.01140684 |\n",
       "| 4 | 0.01520913 | 0.07699620 | Red   | #C91A09 | -0.06178707 |\n",
       "\n"
      ],
      "text/plain": [
       "  color_id total_mobile total_wing name  rgb     difference \n",
       "1 0        0.51615970   0.39733840 Black #05131D  0.11882129\n",
       "2 1        0.03136882   0.04277567 Blue  #0055BF -0.01140684\n",
       "3 4        0.01520913   0.07699620 Red   #C91A09 -0.06178707"
      ]
     },
     "metadata": {},
     "output_type": "display_data"
    }
   ],
   "source": [
    "colors_joined <- batmobile_color %>%\n",
    "  full_join(batwing_color, by = \"color_id\", suffix = c(\"_mobile\", \"_wing\")) %>%\n",
    "  replace_na(list(total_mobile = 0, total_wing = 0)) %>%\n",
    "  inner_join(colors, by = c(\"color_id\" = \"id\")) %>%\n",
    "  mutate(total_mobile = total_mobile / sum(total_mobile), # create fractions\n",
    "         total_wing = total_wing / sum(total_wing),\n",
    "         difference = total_mobile - total_wing  # calculate difference\n",
    "         )\n",
    "\n",
    "head(colors_joined, 3)"
   ]
  },
  {
   "cell_type": "code",
   "execution_count": 509,
   "id": "a5a1fe96-b411-4c58-a059-38e323da3c6a",
   "metadata": {},
   "outputs": [
    {
     "data": {
      "image/png": "[encoded data removed]",
      "text/plain": [
       "plot without title"
      ]
     },
     "metadata": {
      "image/png": {
       "height": 360,
       "width": 360
      }
     },
     "output_type": "display_data"
    }
   ],
   "source": [
    "# Visualize\n",
    "\n",
    "color_palette <- setNames(colors_joined$rgb, colors_joined$name)\n",
    "\n",
    "colors_joined %>%\n",
    "  mutate(name = fct_reorder(name, difference)) %>%\n",
    "  ggplot(aes(name, difference, fill = name)) +\n",
    "  geom_col() +\n",
    "  coord_flip() +\n",
    "  scale_fill_manual(values = color_palette, guide = \"none\") +\n",
    "  labs(y = \"Difference: Batmobile - Batwing\")"
   ]
  },
  {
   "cell_type": "markdown",
   "id": "a4f43d90-5aa0-4a06-9fc5-fec6b84ebc8e",
   "metadata": {},
   "source": [
    "☝️ Interpretation:\n",
    "- The bars on the right, like Black and Light Bluish Gray, have positive differences, meaning they're more common in the batmobile set. \n",
    "- The colors on the left, like Red and Dark Bluish Gray, are more common in the Batwing. "
   ]
  },
  {
   "cell_type": "code",
   "execution_count": 163,
   "id": "0db2b8aa-17b3-4ad3-bba6-94b2b1f35412",
   "metadata": {},
   "outputs": [
    {
     "data": {
      "text/html": [
       "<table class=\"dataframe\">\n",
       "<caption>A tibble: 2 × 3</caption>\n",
       "<thead>\n",
       "\t<tr><th scope=col>state</th><th scope=col>county</th><th scope=col>fraction_men</th></tr>\n",
       "\t<tr><th scope=col>&lt;chr&gt;</th><th scope=col>&lt;chr&gt;</th><th scope=col>&lt;dbl&gt;</th></tr>\n",
       "</thead>\n",
       "<tbody>\n",
       "\t<tr><td>Alabama</td><td>Autauga</td><td>0.4843266</td></tr>\n",
       "\t<tr><td>Alabama</td><td>Baldwin</td><td>0.4884866</td></tr>\n",
       "</tbody>\n",
       "</table>\n"
      ],
      "text/latex": [
       "A tibble: 2 × 3\n",
       "\\begin{tabular}{lll}\n",
       " state & county & fraction\\_men\\\\\n",
       " <chr> & <chr> & <dbl>\\\\\n",
       "\\hline\n",
       "\t Alabama & Autauga & 0.4843266\\\\\n",
       "\t Alabama & Baldwin & 0.4884866\\\\\n",
       "\\end{tabular}\n"
      ],
      "text/markdown": [
       "\n",
       "A tibble: 2 × 3\n",
       "\n",
       "| state &lt;chr&gt; | county &lt;chr&gt; | fraction_men &lt;dbl&gt; |\n",
       "|---|---|---|\n",
       "| Alabama | Autauga | 0.4843266 |\n",
       "| Alabama | Baldwin | 0.4884866 |\n",
       "\n"
      ],
      "text/plain": [
       "  state   county  fraction_men\n",
       "1 Alabama Autauga 0.4843266   \n",
       "2 Alabama Baldwin 0.4884866   "
      ]
     },
     "metadata": {},
     "output_type": "display_data"
    }
   ],
   "source": [
    "usa %>%\n",
    "  transmute(state, county, fraction_men = men / population) %>%\n",
    "  head(2)"
   ]
  },
  {
   "cell_type": "markdown",
   "id": "c9825f61-5acb-4812-abf2-e85c1b0d0fc1",
   "metadata": {},
   "source": [
    "<a name=\"toc_54826_7\"></a>\n",
    "## 7.   magrittr pipeable operator replacements\n",
    "\n",
    "We can make R more pipe friendly with the below functions.\n",
    "\n",
    "| Base R | magrittr |\n",
    "|--|-----|\n",
    "|`x * y` |`x %>% multiply_by(y)`|\n",
    "|`x ^ y` |`x %>% raise_to_power(y)`|\n",
    "|`x[y]` |`x %>% extract(y)`|\n"
   ]
  },
  {
   "cell_type": "code",
   "execution_count": 12,
   "id": "feedbcc2-c62c-4826-b93a-c1933b20450d",
   "metadata": {},
   "outputs": [
    {
     "data": {
      "text/html": [
       "<style>\n",
       ".list-inline {list-style: none; margin:0; padding: 0}\n",
       ".list-inline>li {display: inline-block}\n",
       ".list-inline>li:not(:last-child)::after {content: \"\\00b7\"; padding: 0 .5ex}\n",
       "</style>\n",
       "<ol class=list-inline><li>2</li><li>4</li><li>6</li><li>8</li></ol>\n"
      ],
      "text/latex": [
       "\\begin{enumerate*}\n",
       "\\item 2\n",
       "\\item 4\n",
       "\\item 6\n",
       "\\item 8\n",
       "\\end{enumerate*}\n"
      ],
      "text/markdown": [
       "1. 2\n",
       "2. 4\n",
       "3. 6\n",
       "4. 8\n",
       "\n",
       "\n"
      ],
      "text/plain": [
       "[1] 2 4 6 8"
      ]
     },
     "metadata": {},
     "output_type": "display_data"
    },
    {
     "data": {
      "text/html": [
       "6"
      ],
      "text/latex": [
       "6"
      ],
      "text/markdown": [
       "6"
      ],
      "text/plain": [
       "[1] 6"
      ]
     },
     "metadata": {},
     "output_type": "display_data"
    }
   ],
   "source": [
    "c(1, 2, 3, 4) %>%\n",
    "  multiply_by(2)\n",
    "\n",
    "c(5, 1, 6, 3) %>%\n",
    "  extract(3)"
   ]
  },
  {
   "cell_type": "code",
   "execution_count": null,
   "id": "c38de9df-d403-4bc5-83c3-535fd1174b4c",
   "metadata": {},
   "outputs": [],
   "source": []
  }
 ],
 "metadata": {
  "kernelspec": {
   "display_name": "R",
   "language": "R",
   "name": "ir"
  },
  "language_info": {
   "codemirror_mode": "r",
   "file_extension": ".r",
   "mimetype": "text/x-r-source",
   "name": "R",
   "pygments_lexer": "r",
   "version": "4.1.3"
  }
 },
 "nbformat": 4,
 "nbformat_minor": 5
}
