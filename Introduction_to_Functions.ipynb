{
 "cells": [
  {
   "cell_type": "markdown",
   "id": "3472321d-433d-482b-aa69-44429372ee53",
   "metadata": {
    "tags": []
   },
   "source": [
    "# Introduction to Functions in R \n",
    "## -- DataCamp - R Programmer - Course 10 --\n",
    "\n",
    " **Note**\n",
    "\n",
    "To use this code, select the R environment in Anaconda\n",
    " \n",
    " **Used packages**\n",
    " - tidyverse\n",
    " - assertive\n",
    " - broom\n",
    " - zeallot\n",
    " \n",
    "**Table of content**\n",
    "- [&nbsp;&nbsp;1. How to write functions](#toc_852741_1)\n",
    "- [&nbsp;&nbsp;2. Function arguments](#toc_852741_2)\n",
    "    - [&nbsp;&nbsp;2.1  Default arguments](#toc_852741_2.1)\n",
    "    - [&nbsp;&nbsp;2.2  Ellipsis](#toc_852741_2.5)\n",
    "    - [&nbsp;&nbsp;2.3  Checking arguments](#toc_852741_2.3)\n",
    "    - [&nbsp;&nbsp;2.4  Parsing, deparsing and expressions](#toc_852741_2.4)\n",
    "- [&nbsp;&nbsp;3. Returning values from functions](#toc_852741_3)\n",
    "    - [&nbsp;&nbsp;3.1 Return value](#toc_852741_3.1)\n",
    "    - [&nbsp;&nbsp;3.2 Attributes](#toc_852741_3.2)\n",
    "- [&nbsp;&nbsp;4. Scope and precendence](#toc_852741_4)\n",
    "    - [&nbsp;&nbsp;4.1 Environments](#toc_852741_4.1)\n",
    "    - [&nbsp;&nbsp;4.2 Scope and precendence](#toc_852741_4.2)"
   ]
  },
  {
   "cell_type": "markdown",
   "id": "d5e4a7f6-05b9-4a0a-b4c8-489ad482d407",
   "metadata": {},
   "source": [
    "**Set environment and plot size**"
   ]
  },
  {
   "cell_type": "code",
   "execution_count": 1,
   "id": "3b2fd5e8-2492-49ea-99a5-3c93571f0ad6",
   "metadata": {},
   "outputs": [],
   "source": [
    "options(repr.plot.width=7, repr.plot.height=7) # controls display format\n",
    "suppressMessages(library(tidyverse))\n",
    "suppressMessages(library(assertive))\n",
    "suppressMessages(library(broom))\n",
    "suppressMessages(library(zeallot))"
   ]
  },
  {
   "cell_type": "markdown",
   "id": "e54b097f-4b6d-4bf6-9172-1689c0268383",
   "metadata": {},
   "source": [
    "Note: if the above code return an error message:\n",
    "- Check that the correct R environment is selected in Anaconda\n",
    "- Restart computer"
   ]
  },
  {
   "cell_type": "markdown",
   "id": "6e6c8616-0a82-4682-a0be-fe91eec752bc",
   "metadata": {
    "tags": []
   },
   "source": [
    "<a name=\"toc_852741_1\"></a>\n",
    "## 1.   How to write functions\n",
    "\n",
    "Writing custom functions are very helpful to avoid code repetition. Can reduce workload, copy errors etc.\n",
    "\n",
    "<u>Syntax:</u>\n",
    "\n",
    "```R\n",
    "my_fun <- function(arg1, arg2){\n",
    "    body\n",
    "}\n",
    "```\n",
    "\n",
    "- `function(arg1, arg2)` $\\leftarrow$ this line is called the function's **signature**. It contains the `function()` function and our **argument** list.\n",
    "- **body** $\\leftarrow$ The space between the `{}` is called the body of the function\n",
    "\n",
    "<u>Some best practices:</u>\n",
    "- All function names should contain a verb\n",
    "- All function names should be self-explanatory\n",
    "- The argument list order matters! Always start with **data arguments** (what you compute on) followed by the **detail arguments** (how you perform the computation). This makes it **pipe friendly**.\n",
    "- Function body should be started with custom error messages."
   ]
  },
  {
   "cell_type": "markdown",
   "id": "60edaf17-21d6-4837-b1b8-c6825595f2fd",
   "metadata": {},
   "source": [
    "**Basics of converting scripts into functions**\n",
    "\n",
    "The general steps:\n",
    "- Make a function template\n",
    "- Paste the script that we want to convert to a function to the body\n",
    "- Choose the arguments\n",
    "- Replace specific values with argument names\n",
    "- Make specific variable names more general so it will work for many situations\n",
    "- Remove a final assignment"
   ]
  },
  {
   "cell_type": "code",
   "execution_count": 2,
   "id": "b33eb682-cf1a-4cd7-99d6-0e758595f733",
   "metadata": {},
   "outputs": [
    {
     "data": {
      "text/html": [
       "<style>\n",
       ".list-inline {list-style: none; margin:0; padding: 0}\n",
       ".list-inline>li {display: inline-block}\n",
       ".list-inline>li:not(:last-child)::after {content: \"\\00b7\"; padding: 0 .5ex}\n",
       "</style>\n",
       "<ol class=list-inline><li>'head'</li><li>'head'</li><li>'tail'</li><li>'tail'</li><li>'tail'</li></ol>\n"
      ],
      "text/latex": [
       "\\begin{enumerate*}\n",
       "\\item 'head'\n",
       "\\item 'head'\n",
       "\\item 'tail'\n",
       "\\item 'tail'\n",
       "\\item 'tail'\n",
       "\\end{enumerate*}\n"
      ],
      "text/markdown": [
       "1. 'head'\n",
       "2. 'head'\n",
       "3. 'tail'\n",
       "4. 'tail'\n",
       "5. 'tail'\n",
       "\n",
       "\n"
      ],
      "text/plain": [
       "[1] \"head\" \"head\" \"tail\" \"tail\" \"tail\""
      ]
     },
     "metadata": {},
     "output_type": "display_data"
    }
   ],
   "source": [
    "# Create a script\n",
    "coin_sides <- c(\"head\", \"tail\")\n",
    "\n",
    "sample(coin_sides, 5, replace = TRUE)"
   ]
  },
  {
   "cell_type": "code",
   "execution_count": 3,
   "id": "7106d005-433d-4b05-a735-e6256f2dd2f2",
   "metadata": {},
   "outputs": [
    {
     "data": {
      "text/html": [
       "<style>\n",
       ".list-inline {list-style: none; margin:0; padding: 0}\n",
       ".list-inline>li {display: inline-block}\n",
       ".list-inline>li:not(:last-child)::after {content: \"\\00b7\"; padding: 0 .5ex}\n",
       "</style>\n",
       "<ol class=list-inline><li>'tail'</li><li>'head'</li><li>'head'</li><li>'head'</li><li>'head'</li></ol>\n"
      ],
      "text/latex": [
       "\\begin{enumerate*}\n",
       "\\item 'tail'\n",
       "\\item 'head'\n",
       "\\item 'head'\n",
       "\\item 'head'\n",
       "\\item 'head'\n",
       "\\end{enumerate*}\n"
      ],
      "text/markdown": [
       "1. 'tail'\n",
       "2. 'head'\n",
       "3. 'head'\n",
       "4. 'head'\n",
       "5. 'head'\n",
       "\n",
       "\n"
      ],
      "text/plain": [
       "[1] \"tail\" \"head\" \"head\" \"head\" \"head\""
      ]
     },
     "metadata": {},
     "output_type": "display_data"
    }
   ],
   "source": [
    "# Paste your script into the function body\n",
    "toss_coin <- function() {\n",
    "  sample(coin_sides, 5, replace = TRUE)\n",
    "}\n",
    "\n",
    "# Call your function\n",
    "toss_coin()"
   ]
  },
  {
   "cell_type": "code",
   "execution_count": 4,
   "id": "1911e3b4-6a07-4cd2-9dbe-fee111f7f13b",
   "metadata": {},
   "outputs": [
    {
     "data": {
      "text/html": [
       "<style>\n",
       ".list-inline {list-style: none; margin:0; padding: 0}\n",
       ".list-inline>li {display: inline-block}\n",
       ".list-inline>li:not(:last-child)::after {content: \"\\00b7\"; padding: 0 .5ex}\n",
       "</style>\n",
       "<ol class=list-inline><li>'tail'</li><li>'head'</li><li>'tail'</li><li>'head'</li><li>'head'</li><li>'tail'</li><li>'tail'</li><li>'head'</li><li>'head'</li><li>'head'</li></ol>\n"
      ],
      "text/latex": [
       "\\begin{enumerate*}\n",
       "\\item 'tail'\n",
       "\\item 'head'\n",
       "\\item 'tail'\n",
       "\\item 'head'\n",
       "\\item 'head'\n",
       "\\item 'tail'\n",
       "\\item 'tail'\n",
       "\\item 'head'\n",
       "\\item 'head'\n",
       "\\item 'head'\n",
       "\\end{enumerate*}\n"
      ],
      "text/markdown": [
       "1. 'tail'\n",
       "2. 'head'\n",
       "3. 'tail'\n",
       "4. 'head'\n",
       "5. 'head'\n",
       "6. 'tail'\n",
       "7. 'tail'\n",
       "8. 'head'\n",
       "9. 'head'\n",
       "10. 'head'\n",
       "\n",
       "\n"
      ],
      "text/plain": [
       " [1] \"tail\" \"head\" \"tail\" \"head\" \"head\" \"tail\" \"tail\" \"head\" \"head\" \"head\""
      ]
     },
     "metadata": {},
     "output_type": "display_data"
    }
   ],
   "source": [
    "# Update the function to return n coin tosses\n",
    "toss_coin <- function(n) {\n",
    "  coin_sides <- c(\"head\", \"tail\")\n",
    "  sample(coin_sides, n, replace = TRUE)\n",
    "}\n",
    "\n",
    "# Generate 10 coin tosses\n",
    "toss_coin(10)"
   ]
  },
  {
   "cell_type": "markdown",
   "id": "1f736df9-596b-45e6-ab5a-1a8e84b98f12",
   "metadata": {},
   "source": [
    "**Creating wrapper functions**"
   ]
  },
  {
   "cell_type": "code",
   "execution_count": 5,
   "id": "644a50ea-fb99-4e4e-9b5a-a3ea30d95c1f",
   "metadata": {},
   "outputs": [],
   "source": [
    "run_linear_regression <- function(data, formula){\n",
    "    lm(formula, data)\n",
    "    }"
   ]
  },
  {
   "cell_type": "markdown",
   "id": "4a072c80-8fa8-407b-a71b-9ab738344d8b",
   "metadata": {},
   "source": [
    "☝️ the `lm()` function does not follow function best practices and is not pipe-friendly. We can write a **wrapper function** to make it easier to use."
   ]
  },
  {
   "cell_type": "code",
   "execution_count": 34,
   "id": "be6bf66c-840c-4bb6-97ae-f8fdd41ea081",
   "metadata": {},
   "outputs": [
    {
     "data": {
      "text/html": [
       "2.51121076233184"
      ],
      "text/latex": [
       "2.51121076233184"
      ],
      "text/markdown": [
       "2.51121076233184"
      ],
      "text/plain": [
       "[1] 2.511211"
      ]
     },
     "metadata": {},
     "output_type": "display_data"
    }
   ],
   "source": [
    "get_reciprocal <- function(x) {\n",
    "  1 / x\n",
    "}\n",
    "\n",
    "# Write a function to calculate the harmonic mean\n",
    "calc_harmonic_mean <- function(x)  {\n",
    "  x %>%\n",
    "    get_reciprocal %>%\n",
    "    mean() %>%\n",
    "    get_reciprocal\n",
    "}\n",
    "\n",
    "calc_harmonic_mean(c(1,5,4,7))"
   ]
  },
  {
   "cell_type": "markdown",
   "id": "2f5d19dd-6b86-4121-9815-fbc26a1fe227",
   "metadata": {},
   "source": [
    "<a name=\"toc_852741_2\"></a>\n",
    "## 2.  Function arguments\n",
    "\n",
    "When looking at a funcition's arguments with `args()` we can see many different argument types.\n",
    "- Required arguments - just the argument name is mentioned in the signature\n",
    "- Default (optional) arguments - the argument name  in the signature followed by a `= <value>`\n",
    "    - arguments with pre-defined default values (numerical, logical etc.)\n",
    "    - **NULL default**  $\\leftarrow$ a NULL default means that there is special handling of the argument that is too complicated to include in the function signature, and that you ought to read the documentation\n",
    "    - **Categorical vector defaults** $\\leftarrow$ To **pass** a character vector in the signature, we need to call `match.arg()` in the body and reassigns it. If not specified, R will only choose the first vector element.\n",
    "    \n",
    "```R\n",
    "function(cat_arg = c(\"choice1\", \"choice2\")) {\n",
    "  cat_arg <- match.arg(cat_arg)\n",
    "}\n",
    "```"
   ]
  },
  {
   "cell_type": "markdown",
   "id": "2b8051f4-a1db-4224-a4bb-b5654c33a43c",
   "metadata": {},
   "source": [
    "<a name=\"toc_852741_2.1\"></a>\n",
    "**2.1 Default arguments**\n",
    "\n",
    "By adding default values to arguments in the function signature, we can make them optional."
   ]
  },
  {
   "cell_type": "code",
   "execution_count": 6,
   "id": "680aba07-b96e-4f0e-a7f1-7aa4309293d6",
   "metadata": {},
   "outputs": [
    {
     "data": {
      "text/html": [
       "<style>\n",
       ".list-inline {list-style: none; margin:0; padding: 0}\n",
       ".list-inline>li {display: inline-block}\n",
       ".list-inline>li:not(:last-child)::after {content: \"\\00b7\"; padding: 0 .5ex}\n",
       "</style>\n",
       "<ol class=list-inline><li>'tail'</li><li>'tail'</li><li>'tail'</li><li>'tail'</li><li>'head'</li><li>'tail'</li><li>'tail'</li><li>'tail'</li><li>'tail'</li><li>'head'</li></ol>\n"
      ],
      "text/latex": [
       "\\begin{enumerate*}\n",
       "\\item 'tail'\n",
       "\\item 'tail'\n",
       "\\item 'tail'\n",
       "\\item 'tail'\n",
       "\\item 'head'\n",
       "\\item 'tail'\n",
       "\\item 'tail'\n",
       "\\item 'tail'\n",
       "\\item 'tail'\n",
       "\\item 'head'\n",
       "\\end{enumerate*}\n"
      ],
      "text/markdown": [
       "1. 'tail'\n",
       "2. 'tail'\n",
       "3. 'tail'\n",
       "4. 'tail'\n",
       "5. 'head'\n",
       "6. 'tail'\n",
       "7. 'tail'\n",
       "8. 'tail'\n",
       "9. 'tail'\n",
       "10. 'head'\n",
       "\n",
       "\n"
      ],
      "text/plain": [
       " [1] \"tail\" \"tail\" \"tail\" \"tail\" \"head\" \"tail\" \"tail\" \"tail\" \"tail\" \"head\""
      ]
     },
     "metadata": {},
     "output_type": "display_data"
    },
    {
     "data": {
      "text/html": [
       "<style>\n",
       ".list-inline {list-style: none; margin:0; padding: 0}\n",
       ".list-inline>li {display: inline-block}\n",
       ".list-inline>li:not(:last-child)::after {content: \"\\00b7\"; padding: 0 .5ex}\n",
       "</style>\n",
       "<ol class=list-inline><li>'head'</li><li>'head'</li><li>'head'</li><li>'tail'</li><li>'tail'</li><li>'head'</li><li>'head'</li><li>'tail'</li><li>'head'</li><li>'head'</li></ol>\n"
      ],
      "text/latex": [
       "\\begin{enumerate*}\n",
       "\\item 'head'\n",
       "\\item 'head'\n",
       "\\item 'head'\n",
       "\\item 'tail'\n",
       "\\item 'tail'\n",
       "\\item 'head'\n",
       "\\item 'head'\n",
       "\\item 'tail'\n",
       "\\item 'head'\n",
       "\\item 'head'\n",
       "\\end{enumerate*}\n"
      ],
      "text/markdown": [
       "1. 'head'\n",
       "2. 'head'\n",
       "3. 'head'\n",
       "4. 'tail'\n",
       "5. 'tail'\n",
       "6. 'head'\n",
       "7. 'head'\n",
       "8. 'tail'\n",
       "9. 'head'\n",
       "10. 'head'\n",
       "\n",
       "\n"
      ],
      "text/plain": [
       " [1] \"head\" \"head\" \"head\" \"tail\" \"tail\" \"head\" \"head\" \"tail\" \"head\" \"head\""
      ]
     },
     "metadata": {},
     "output_type": "display_data"
    }
   ],
   "source": [
    "toss_coin <- function(n, p_head = 0.5) {\n",
    "  coin_sides <- c(\"head\", \"tail\")\n",
    "   weight = c(p_head, 1 - p_head) \n",
    "  sample(coin_sides, n, replace = TRUE, prob = weight)\n",
    "}\n",
    "\n",
    "toss_coin(10) # p_head is optional as it had a default value\n",
    "toss_coin(10, p_head = 0.9)"
   ]
  },
  {
   "cell_type": "code",
   "execution_count": 53,
   "id": "f9660caf-545b-4c06-ac52-e77b4b0dd321",
   "metadata": {},
   "outputs": [
    {
     "data": {
      "text/html": [
       "<style>\n",
       ".list-inline {list-style: none; margin:0; padding: 0}\n",
       ".list-inline>li {display: inline-block}\n",
       ".list-inline>li:not(:last-child)::after {content: \"\\00b7\"; padding: 0 .5ex}\n",
       "</style>\n",
       "<ol class=list-inline><li>[1,4]</li><li>(4,7]</li><li>(10,13]</li><li>(13,16]</li></ol>\n",
       "\n",
       "<details>\n",
       "\t<summary style=display:list-item;cursor:pointer>\n",
       "\t\t<strong>Levels</strong>:\n",
       "\t</summary>\n",
       "\t<style>\n",
       "\t.list-inline {list-style: none; margin:0; padding: 0}\n",
       "\t.list-inline>li {display: inline-block}\n",
       "\t.list-inline>li:not(:last-child)::after {content: \"\\00b7\"; padding: 0 .5ex}\n",
       "\t</style>\n",
       "\t<ol class=list-inline><li>'[1,4]'</li><li>'(4,7]'</li><li>'(7,10]'</li><li>'(10,13]'</li><li>'(13,16]'</li></ol>\n",
       "</details>"
      ],
      "text/latex": [
       "\\begin{enumerate*}\n",
       "\\item {[}1,4{]}\n",
       "\\item (4,7{]}\n",
       "\\item (10,13{]}\n",
       "\\item (13,16{]}\n",
       "\\end{enumerate*}\n",
       "\n",
       "\\emph{Levels}: \\begin{enumerate*}\n",
       "\\item '{[}1,4{]}'\n",
       "\\item '(4,7{]}'\n",
       "\\item '(7,10{]}'\n",
       "\\item '(10,13{]}'\n",
       "\\item '(13,16{]}'\n",
       "\\end{enumerate*}\n"
      ],
      "text/markdown": [
       "1. [1,4]\n",
       "2. (4,7]\n",
       "3. (10,13]\n",
       "4. (13,16]\n",
       "\n",
       "\n",
       "\n",
       "**Levels**: 1. '[1,4]'\n",
       "2. '(4,7]'\n",
       "3. '(7,10]'\n",
       "4. '(10,13]'\n",
       "5. '(13,16]'\n",
       "\n",
       "\n"
      ],
      "text/plain": [
       "[1] [1,4]   (4,7]   (10,13] (13,16]\n",
       "Levels: [1,4] (4,7] (7,10] (10,13] (13,16]"
      ]
     },
     "metadata": {},
     "output_type": "display_data"
    }
   ],
   "source": [
    "#Categorical defaults\n",
    "cut_by_quantile <- function(x, n = 5, na.rm = FALSE, labels = NULL, \n",
    "                            interval_type = c(\"(lo, hi]\", \"[lo, hi)\")) {\n",
    "  \n",
    "  interval_type <- match.arg(interval_type) # Match the interval_type argument\n",
    "  probs <- seq(0, 1, length.out = n + 1)\n",
    "  qtiles <- quantile(x, probs, na.rm = na.rm, names = FALSE)\n",
    "  right <- switch(interval_type, \"(lo, hi]\" = TRUE, \"[lo, hi)\" = FALSE)\n",
    "  cut(x, qtiles, labels = labels, right = right, include.lowest = TRUE)\n",
    "}\n",
    "\n",
    "cut_by_quantile(seq(1, 20, 5))"
   ]
  },
  {
   "cell_type": "markdown",
   "id": "10610984-5ac8-47ca-809d-25d0bb9162dc",
   "metadata": {},
   "source": [
    "<a name=\"toc_852741_2.2\"></a>\n",
    "**2.2 Ellipsis**\n",
    "\n",
    "The `...` argument is called an **ellipsis** and it accepts any other arguments. \n",
    "\n",
    "It makes the code more flexible, however sometimes a change of argument written by another user could break the code. Whether it's better to use d...  or not depends upon how much you trust the inner function, and how stable you need your signature to be. "
   ]
  },
  {
   "cell_type": "code",
   "execution_count": 28,
   "id": "be91c562-53f7-4927-b456-25e00fadfe87",
   "metadata": {},
   "outputs": [
    {
     "data": {
      "text/html": [
       "6.31963661149854"
      ],
      "text/latex": [
       "6.31963661149854"
      ],
      "text/markdown": [
       "6.31963661149854"
      ],
      "text/plain": [
       "[1] 6.319637"
      ]
     },
     "metadata": {},
     "output_type": "display_data"
    }
   ],
   "source": [
    "calc_geomean <- function(x, na.rm = TRUE){\n",
    "  log(x) %>%\n",
    "  mean(na.rm = na.rm) %>%\n",
    "  exp()\n",
    "}\n",
    "\n",
    "calc_geomean(c(12, 5, 7, 4, NA, 6))"
   ]
  },
  {
   "cell_type": "code",
   "execution_count": 33,
   "id": "d7776ee6-869a-42f9-a467-48f57d751980",
   "metadata": {},
   "outputs": [
    {
     "data": {
      "text/html": [
       "6"
      ],
      "text/latex": [
       "6"
      ],
      "text/markdown": [
       "6"
      ],
      "text/plain": [
       "[1] 6"
      ]
     },
     "metadata": {},
     "output_type": "display_data"
    }
   ],
   "source": [
    "# Now do the same but with ellipsis\n",
    "calc_geomean <- function(x, ...){\n",
    "  log(x) %>%\n",
    "  mean(...) %>%\n",
    "  exp()\n",
    "}\n",
    "\n",
    "calc_geomean(c(12, 5, 7, 4, NA, 6), na.rm = TRUE, trim = 1)"
   ]
  },
  {
   "cell_type": "code",
   "execution_count": 75,
   "id": "648d07a5-fdfa-4b8f-a88a-1873f04fad0d",
   "metadata": {},
   "outputs": [
    {
     "name": "stderr",
     "output_type": "stream",
     "text": [
      "\u001b[1m\u001b[22m`summarise()` has grouped output by 'supp'. You can override using the\n",
      "`.groups` argument.\n"
     ]
    },
    {
     "data": {
      "text/html": [
       "<table class=\"dataframe\">\n",
       "<caption>A grouped_df: 6 × 3</caption>\n",
       "<thead>\n",
       "\t<tr><th scope=col>supp</th><th scope=col>dose</th><th scope=col>mean(len)</th></tr>\n",
       "\t<tr><th scope=col>&lt;fct&gt;</th><th scope=col>&lt;dbl&gt;</th><th scope=col>&lt;dbl&gt;</th></tr>\n",
       "</thead>\n",
       "<tbody>\n",
       "\t<tr><td>OJ</td><td>0.5</td><td>13.23</td></tr>\n",
       "\t<tr><td>OJ</td><td>1.0</td><td>22.70</td></tr>\n",
       "\t<tr><td>OJ</td><td>2.0</td><td>26.06</td></tr>\n",
       "\t<tr><td>VC</td><td>0.5</td><td> 7.98</td></tr>\n",
       "\t<tr><td>VC</td><td>1.0</td><td>16.77</td></tr>\n",
       "\t<tr><td>VC</td><td>2.0</td><td>26.14</td></tr>\n",
       "</tbody>\n",
       "</table>\n"
      ],
      "text/latex": [
       "A grouped\\_df: 6 × 3\n",
       "\\begin{tabular}{lll}\n",
       " supp & dose & mean(len)\\\\\n",
       " <fct> & <dbl> & <dbl>\\\\\n",
       "\\hline\n",
       "\t OJ & 0.5 & 13.23\\\\\n",
       "\t OJ & 1.0 & 22.70\\\\\n",
       "\t OJ & 2.0 & 26.06\\\\\n",
       "\t VC & 0.5 &  7.98\\\\\n",
       "\t VC & 1.0 & 16.77\\\\\n",
       "\t VC & 2.0 & 26.14\\\\\n",
       "\\end{tabular}\n"
      ],
      "text/markdown": [
       "\n",
       "A grouped_df: 6 × 3\n",
       "\n",
       "| supp &lt;fct&gt; | dose &lt;dbl&gt; | mean(len) &lt;dbl&gt; |\n",
       "|---|---|---|\n",
       "| OJ | 0.5 | 13.23 |\n",
       "| OJ | 1.0 | 22.70 |\n",
       "| OJ | 2.0 | 26.06 |\n",
       "| VC | 0.5 |  7.98 |\n",
       "| VC | 1.0 | 16.77 |\n",
       "| VC | 2.0 | 26.14 |\n",
       "\n"
      ],
      "text/plain": [
       "  supp dose mean(len)\n",
       "1 OJ   0.5  13.23    \n",
       "2 OJ   1.0  22.70    \n",
       "3 OJ   2.0  26.06    \n",
       "4 VC   0.5   7.98    \n",
       "5 VC   1.0  16.77    \n",
       "6 VC   2.0  26.14    "
      ]
     },
     "metadata": {},
     "output_type": "display_data"
    }
   ],
   "source": [
    "ToothGrowth_mean <- function(x, ...){\n",
    "    x %>%\n",
    "    group_by(...) %>%\n",
    "    summarize(mean(len))\n",
    "    }\n",
    "\n",
    "ToothGrowth_mean(ToothGrowth, supp, dose)"
   ]
  },
  {
   "cell_type": "markdown",
   "id": "6bf0a3c6-2b53-4140-8208-271e76137612",
   "metadata": {},
   "source": [
    "<a name=\"toc_852741_2.3\"></a>\n",
    "**2.3 Checking arguments**\n",
    "\n",
    "If the arguments are not given proper values in a function call, it is always nice to receive a useful **error message**. That code for providing the error message is called an **assertion**. Best practice is to put this at the start of the function body!\n",
    "\n",
    "- `stop()` - Gives an error message and stops execution. Works somewhat like the `paste()` function but writes an error message\n",
    "- `warning()` - Gives a warning but continues with execution\n",
    "\n",
    "It works, but it is far too boring to write over and over in all functions. Fortunately, R has many fine packages for writing assertions, like `testthat` or `assertive`, that has a strong focus on providing clear error messages. Some useful `assertive` functions:\n",
    "- `assert_is*()` - *=numeric, character, logical, integer etc. \n",
    "- `assert_all_are_positive()`  \n",
    "- `has_cols()`, `has_dims()` \n",
    "- `is_existing_file()`, `is_empty_file()` "
   ]
  },
  {
   "cell_type": "code",
   "execution_count": 35,
   "id": "1b8d1126-9337-43a9-b7a5-ebb3b901bf90",
   "metadata": {
    "scrolled": true
   },
   "outputs": [
    {
     "ename": "ERROR",
     "evalue": "Error in calc_geomean(c(\"one\", \"three\", \"six\")): x is not a class 'numeric'; it has class 'character'.\n",
     "output_type": "error",
     "traceback": [
      "Error in calc_geomean(c(\"one\", \"three\", \"six\")): x is not a class 'numeric'; it has class 'character'.\nTraceback:\n",
      "1. calc_geomean(c(\"one\", \"three\", \"six\"))",
      "2. stop(\"x is not a class 'numeric'; it has class '\", class(x), \n .     \"'.\")   # at line 3 of file <text>"
     ]
    }
   ],
   "source": [
    "calc_geomean <- function(x, na.rm = TRUE){\n",
    "  if(!is.numeric(x)){\n",
    "      stop(\"x is not a class 'numeric'; it has class '\", class(x), \"'.\")\n",
    "      }\n",
    "    \n",
    "  log(x) %>%\n",
    "  mean(na.rm = na.rm) %>%\n",
    "  exp()\n",
    "}\n",
    "\n",
    "calc_geomean(c(\"one\", \"three\", \"six\"))"
   ]
  },
  {
   "cell_type": "code",
   "execution_count": 63,
   "id": "5f96fb6f",
   "metadata": {},
   "outputs": [
    {
     "data": {
      "text/html": [
       "<style>\n",
       ".list-inline {list-style: none; margin:0; padding: 0}\n",
       ".list-inline>li {display: inline-block}\n",
       ".list-inline>li:not(:last-child)::after {content: \"\\00b7\"; padding: 0 .5ex}\n",
       "</style>\n",
       "<ol class=list-inline><li>virginica</li><li>setosa</li></ol>\n",
       "\n",
       "<details>\n",
       "\t<summary style=display:list-item;cursor:pointer>\n",
       "\t\t<strong>Levels</strong>:\n",
       "\t</summary>\n",
       "\t<style>\n",
       "\t.list-inline {list-style: none; margin:0; padding: 0}\n",
       "\t.list-inline>li {display: inline-block}\n",
       "\t.list-inline>li:not(:last-child)::after {content: \"\\00b7\"; padding: 0 .5ex}\n",
       "\t</style>\n",
       "\t<ol class=list-inline><li>'setosa'</li><li>'versicolor'</li><li>'virginica'</li></ol>\n",
       "</details>"
      ],
      "text/latex": [
       "\\begin{enumerate*}\n",
       "\\item virginica\n",
       "\\item setosa\n",
       "\\end{enumerate*}\n",
       "\n",
       "\\emph{Levels}: \\begin{enumerate*}\n",
       "\\item 'setosa'\n",
       "\\item 'versicolor'\n",
       "\\item 'virginica'\n",
       "\\end{enumerate*}\n"
      ],
      "text/markdown": [
       "1. virginica\n",
       "2. setosa\n",
       "\n",
       "\n",
       "\n",
       "**Levels**: 1. 'setosa'\n",
       "2. 'versicolor'\n",
       "3. 'virginica'\n",
       "\n",
       "\n"
      ],
      "text/plain": [
       "[1] virginica setosa   \n",
       "Levels: setosa versicolor virginica"
      ]
     },
     "metadata": {},
     "output_type": "display_data"
    }
   ],
   "source": [
    "sampler <- function(data, n){\n",
    "   \n",
    "  data_name <- deparse(substitute(data)) # deparse(substitute(x)) takes the argument name literally\n",
    "  \n",
    "  if(!exists(data_name)){\n",
    "    stop(\"The \", data_name, \" dataset does not exist. Please check again.\")\n",
    "  }\n",
    "  \n",
    "  sample(data$Species, n, replace = F)\n",
    "}\n",
    "\n",
    "sampler(iris, 2)"
   ]
  },
  {
   "cell_type": "code",
   "execution_count": 64,
   "id": "0a8850d9",
   "metadata": {},
   "outputs": [
    {
     "ename": "ERROR",
     "evalue": "Error in sampler(risi, 2): The risi dataset does not exist. Please check again.\n",
     "output_type": "error",
     "traceback": [
      "Error in sampler(risi, 2): The risi dataset does not exist. Please check again.\nTraceback:\n",
      "1. sampler(risi, 2)",
      "2. stop(\"The \", data_name, \" dataset does not exist. Please check again.\")   # at line 6 of file <text>"
     ]
    }
   ],
   "source": [
    "sampler(risi, 2)"
   ]
  },
  {
   "cell_type": "code",
   "execution_count": 53,
   "id": "202e99ce-499b-4827-89f9-3416f4b66808",
   "metadata": {},
   "outputs": [
    {
     "name": "stderr",
     "output_type": "stream",
     "text": [
      "Warning message in calc_geomean(c(\"one\", \"three\", \"six\")):\n",
      "\"x is not a class 'numeric'; it has class 'character'.\"\n"
     ]
    },
    {
     "data": {
      "text/html": [
       "NaN"
      ],
      "text/latex": [
       "NaN"
      ],
      "text/markdown": [
       "NaN"
      ],
      "text/plain": [
       "[1] NaN"
      ]
     },
     "metadata": {},
     "output_type": "display_data"
    }
   ],
   "source": [
    "calc_geomean <- function(x, na.rm = TRUE){\n",
    "  if(!is.numeric(x)){\n",
    "      warning(\"x is not a class 'numeric'; it has class '\", class(x), \"'.\")\n",
    "      return(NaN)\n",
    "      }\n",
    "    \n",
    "  log(x) %>%\n",
    "  mean(na.rm = na.rm) %>%\n",
    "  exp()\n",
    "}\n",
    "\n",
    "calc_geomean(c(\"one\", \"three\", \"six\"))"
   ]
  },
  {
   "cell_type": "code",
   "execution_count": 48,
   "id": "8e6b063b-8bf1-4a3f-9866-c69a3629c458",
   "metadata": {},
   "outputs": [
    {
     "ename": "ERROR",
     "evalue": "Error in calc_geomean(c(\"one\", \"three\", \"six\")): is_numeric : x is not of class 'numeric'; it has class 'character'.\n",
     "output_type": "error",
     "traceback": [
      "Error in calc_geomean(c(\"one\", \"three\", \"six\")): is_numeric : x is not of class 'numeric'; it has class 'character'.\nTraceback:\n",
      "1. calc_geomean(c(\"one\", \"three\", \"six\"))",
      "2. assertive::assert_is_numeric(x)   # at line 3 of file <text>",
      "3. assert_engine(is_numeric, x, .xname = get_name_in_parent(x), \n .     severity = severity)",
      "4. give_feedback(handler_type, msg, predicate_name)"
     ]
    }
   ],
   "source": [
    "# Using the assertive package\n",
    "calc_geomean <- function(x, na.rm = TRUE){\n",
    "  assertive::assert_is_numeric(x)\n",
    "  assertive::assert_all_are_positive(x)\n",
    "    \n",
    "  log(x) %>%\n",
    "  mean(na.rm = na.rm) %>%\n",
    "  exp()\n",
    "}\n",
    "\n",
    "calc_geomean(c(\"one\", \"three\", \"six\"))"
   ]
  },
  {
   "cell_type": "code",
   "execution_count": 46,
   "id": "9395a5ce-a26f-43c1-adc4-33ebb8d5f72d",
   "metadata": {
    "scrolled": true
   },
   "outputs": [
    {
     "ename": "ERROR",
     "evalue": "Error in calc_geomean(c(1, 5, 7, -2, 0, 3)): is_positive : x contains non-positive values.\nThere were 2 failures:\n  Position Value   Cause\n1        4    -2 too low\n2        5     0 too low\n",
     "output_type": "error",
     "traceback": [
      "Error in calc_geomean(c(1, 5, 7, -2, 0, 3)): is_positive : x contains non-positive values.\nThere were 2 failures:\n  Position Value   Cause\n1        4    -2 too low\n2        5     0 too low\nTraceback:\n",
      "1. calc_geomean(c(1, 5, 7, -2, 0, 3))",
      "2. assertive::assert_all_are_positive(x)   # at line 4 of file <text>",
      "3. assert_engine(is_positive, x, .xname = .xname, msg = msg, na_ignore = na_ignore, \n .     severity = severity)",
      "4. give_feedback(handler_type, msg, predicate_name)"
     ]
    }
   ],
   "source": [
    "calc_geomean(c(1, 5, 7, -2, 0, 3))"
   ]
  },
  {
   "cell_type": "markdown",
   "id": "3dcae351",
   "metadata": {},
   "source": [
    "<a name=\"toc_852741_2.4\"></a>\n",
    "**2.4 Parsing, deparsing and expressions**\n",
    "\n",
    "Sometimes we want to use our arguments literally and sometimes in alternative ways. The following functions can help us to tackle these tasks:\n",
    "- `expression()` - creates an R object of the expression class. Evaluate it with `eval()`\n",
    "- `parse()` - convert character string to R expression\n",
    "- `deparse()` - converts an R expression to an R object of the character class."
   ]
  },
  {
   "cell_type": "markdown",
   "id": "a7f8b5a1",
   "metadata": {},
   "source": [
    "<u>Expressions</u>"
   ]
  },
  {
   "cell_type": "code",
   "execution_count": 17,
   "id": "085b81ca",
   "metadata": {},
   "outputs": [
    {
     "name": "stdout",
     "output_type": "stream",
     "text": [
      "expression(min(c(5, 12, 52)))\n"
     ]
    },
    {
     "data": {
      "text/html": [
       "'expression'"
      ],
      "text/latex": [
       "'expression'"
      ],
      "text/markdown": [
       "'expression'"
      ],
      "text/plain": [
       "[1] \"expression\""
      ]
     },
     "metadata": {},
     "output_type": "display_data"
    }
   ],
   "source": [
    "x1 <- expression(min(c(5, 12, 52)))   # Create expression in R\n",
    "print(x1)\n",
    "class(x1)"
   ]
  },
  {
   "cell_type": "code",
   "execution_count": 21,
   "id": "1b55c2c5",
   "metadata": {},
   "outputs": [
    {
     "data": {
      "text/html": [
       "5"
      ],
      "text/latex": [
       "5"
      ],
      "text/markdown": [
       "5"
      ],
      "text/plain": [
       "[1] 5"
      ]
     },
     "metadata": {},
     "output_type": "display_data"
    }
   ],
   "source": [
    "eval(x1)  # Use eval function to evaluate expression"
   ]
  },
  {
   "cell_type": "markdown",
   "id": "af11f13c",
   "metadata": {},
   "source": [
    "<u>Parsing</u>"
   ]
  },
  {
   "cell_type": "markdown",
   "id": "643e7196",
   "metadata": {},
   "source": [
    "`parse()` creates expressions from strings, so they can be evaluated as R code with `eval()`."
   ]
  },
  {
   "cell_type": "code",
   "execution_count": 18,
   "id": "1ee5596a",
   "metadata": {},
   "outputs": [
    {
     "data": {
      "text/html": [
       "'2^2'"
      ],
      "text/latex": [
       "'2\\textasciicircum{}2'"
      ],
      "text/markdown": [
       "'2^2'"
      ],
      "text/plain": [
       "[1] \"2^2\""
      ]
     },
     "metadata": {},
     "output_type": "display_data"
    }
   ],
   "source": [
    "x2 <- \"2^2\"   # Create character string\n",
    "x2   "
   ]
  },
  {
   "cell_type": "code",
   "execution_count": 19,
   "id": "f53edfc8",
   "metadata": {},
   "outputs": [
    {
     "data": {
      "text/plain": [
       "expression(2^2)"
      ]
     },
     "metadata": {},
     "output_type": "display_data"
    }
   ],
   "source": [
    "parse(text = x2)"
   ]
  },
  {
   "cell_type": "code",
   "execution_count": 20,
   "id": "767a14c1",
   "metadata": {},
   "outputs": [
    {
     "data": {
      "text/html": [
       "4"
      ],
      "text/latex": [
       "4"
      ],
      "text/markdown": [
       "4"
      ],
      "text/plain": [
       "[1] 4"
      ]
     },
     "metadata": {},
     "output_type": "display_data"
    }
   ],
   "source": [
    "eval(parse(text = x2))"
   ]
  },
  {
   "cell_type": "code",
   "execution_count": 51,
   "id": "829037d3",
   "metadata": {},
   "outputs": [
    {
     "data": {
      "text/html": [
       "'mean(seq(1, 10, by=2))'"
      ],
      "text/latex": [
       "'mean(seq(1, 10, by=2))'"
      ],
      "text/markdown": [
       "'mean(seq(1, 10, by=2))'"
      ],
      "text/plain": [
       "[1] \"mean(seq(1, 10, by=2))\""
      ]
     },
     "metadata": {},
     "output_type": "display_data"
    },
    {
     "data": {
      "text/html": [
       "5"
      ],
      "text/latex": [
       "5"
      ],
      "text/markdown": [
       "5"
      ],
      "text/plain": [
       "[1] 5"
      ]
     },
     "metadata": {},
     "output_type": "display_data"
    }
   ],
   "source": [
    "seq = \"1, 10\"\n",
    "by = \"2\"\n",
    "stat <- \"mean\"\n",
    "\n",
    "parseq <- paste0(stat,\"(seq(\",seq,\", by=\",by,\"))\")\n",
    "\n",
    "parseq\n",
    "eval(parse(text=parseq)) "
   ]
  },
  {
   "cell_type": "markdown",
   "id": "23b87990",
   "metadata": {},
   "source": [
    "<u>Deparsing</u>"
   ]
  },
  {
   "cell_type": "code",
   "execution_count": 22,
   "id": "1ff7cef4",
   "metadata": {},
   "outputs": [
    {
     "data": {
      "text/html": [
       "'\"2^2\"'"
      ],
      "text/latex": [
       "'\"2\\textasciicircum{}2\"'"
      ],
      "text/markdown": [
       "'\"2^2\"'"
      ],
      "text/plain": [
       "[1] \"\\\"2^2\\\"\""
      ]
     },
     "metadata": {},
     "output_type": "display_data"
    }
   ],
   "source": [
    "x3 <- deparse(x2)                 # Convert expression to character\n",
    "x3 "
   ]
  },
  {
   "cell_type": "markdown",
   "id": "9380d609",
   "metadata": {},
   "source": [
    "As soon as we use an argument (here `x`) inside a function, it is evaluated, so it \"stops being an (unevaluated) expression\" and \"starts being its resulting values (evaluated expression)\". To prevent this, we must capture `x` by `substitute()`. So if we want to display the inputted argument as a text, we can use the `deparse(substitute(arg)` syntax:"
   ]
  },
  {
   "cell_type": "code",
   "execution_count": 26,
   "id": "44b7eb13",
   "metadata": {},
   "outputs": [
    {
     "name": "stdout",
     "output_type": "stream",
     "text": [
      "[1] \"square\"\n"
     ]
    }
   ],
   "source": [
    "ds1 <- function(x) {\n",
    "  print(deparse(substitute(x)))\n",
    "}\n",
    "\n",
    "ds1(square)"
   ]
  },
  {
   "cell_type": "markdown",
   "id": "1d2de8ee",
   "metadata": {},
   "source": [
    "A more complex use case:"
   ]
  },
  {
   "cell_type": "code",
   "execution_count": 23,
   "id": "ec4069cf",
   "metadata": {
    "scrolled": true
   },
   "outputs": [],
   "source": [
    "library(tidyverse)\n",
    "\n",
    "plot_attr <- function(data, attribute) {\n",
    " ggplot(data, aes(x = Species, y = attribute)) +  \n",
    "  geom_col() +\n",
    "  labs(title = paste(deparse(substitute(attribute)), \"by Species\")) +\n",
    "  theme_classic()\n",
    "}"
   ]
  },
  {
   "cell_type": "code",
   "execution_count": 6,
   "id": "c7808b06",
   "metadata": {},
   "outputs": [
    {
     "data": {
      "image/png": "[encoded data removed]",
      "text/plain": [
       "plot without title"
      ]
     },
     "metadata": {
      "image/png": {
       "height": 420,
       "width": 420
      }
     },
     "output_type": "display_data"
    }
   ],
   "source": [
    "plot_attr(iris, iris$Sepal.Length)"
   ]
  },
  {
   "cell_type": "raw",
   "id": "c02779d2-224c-4e4b-a416-fe5808323f00",
   "metadata": {},
   "source": [
    "irisplot <- function(param){\n",
    "    iris %>% \n",
    "        ggplot(aes_string(x = \"Petal.Length\", y = param)) +\n",
    "        geom_point() + \n",
    "        geom_smooth(method = \"lm\") +\n",
    "        theme_classic()\n",
    "}\n",
    "\n",
    "irisplot(\"Sepal.Length\")"
   ]
  },
  {
   "cell_type": "markdown",
   "id": "33d1b0e3-6a27-49b4-8d12-6e59d6790089",
   "metadata": {
    "tags": []
   },
   "source": [
    "<a name=\"toc_852741_3\"></a>\n",
    "## 3.  Returning values from functions\n",
    "\n",
    "- If a function does not have a `return()` function in it, then the first executed value will be returned.\n",
    "- The `return()` will stop function execution and return the value put into it. \n",
    "- If we want to return multiple values, we can assign a list as a return value. If this is not possible, we can add **attributes** to our returned object to stor additional information.\n",
    "- To further use the returned object, assign the function to an object.\n",
    "- Apart from the return value, any number of lines can be printed to the console."
   ]
  },
  {
   "cell_type": "markdown",
   "id": "1f00cf1b-213e-4285-b316-faeb7434bc93",
   "metadata": {},
   "source": [
    "<a name=\"toc_852741_3.1\"></a>\n",
    "**3.1 Return value**"
   ]
  },
  {
   "cell_type": "code",
   "execution_count": 59,
   "id": "361a5cc2-26b9-4aef-8d56-4d8b1cf7d6ff",
   "metadata": {},
   "outputs": [],
   "source": [
    "is_leap_year <- function(year) {\n",
    "\n",
    "  if(year%%400 == 0) {\n",
    "    return(TRUE)\n",
    "  }\n",
    "\n",
    "  if(year%%100 == 0) {\n",
    "    return(FALSE)\n",
    "  }  \n",
    "\n",
    "  if(year%%4 == 0) {\n",
    "    return(TRUE)\n",
    "  } \n",
    "    \n",
    "  return(FALSE) # Otherwise return FALSE\n",
    "}"
   ]
  },
  {
   "cell_type": "code",
   "execution_count": 66,
   "id": "5741e036-2b5c-436a-b509-efa95376b6af",
   "metadata": {},
   "outputs": [
    {
     "data": {
      "text/html": [
       "FALSE"
      ],
      "text/latex": [
       "FALSE"
      ],
      "text/markdown": [
       "FALSE"
      ],
      "text/plain": [
       "[1] FALSE"
      ]
     },
     "metadata": {},
     "output_type": "display_data"
    },
    {
     "data": {
      "text/html": [
       "2"
      ],
      "text/latex": [
       "2"
      ],
      "text/markdown": [
       "2"
      ],
      "text/plain": [
       "[1] 2"
      ]
     },
     "metadata": {},
     "output_type": "display_data"
    }
   ],
   "source": [
    "is_leap_year(2022)\n",
    "\n",
    "leap <- is_leap_year(2022)\n",
    "TRUE + TRUE + leap"
   ]
  },
  {
   "cell_type": "markdown",
   "id": "1586f298-ac3d-42a4-945f-01ff1e8d8282",
   "metadata": {},
   "source": [
    "<a name=\"toc_852741_3.2\"></a>\n",
    "**3.2 Attributes**\n",
    "\n",
    "Objects can have multiple attributes. Their name starts with `$`. \n",
    "\n",
    "Attributes contain the **metadata** about the result (For example, it could be the file a dataset was loaded from, the date or the username who created the variable, the number of iterations for an algorithm to converge etc.).\n",
    "\n",
    "- `attributes()` - lists an object's attributes.\n",
    "- `attr()` - list a specific attribute"
   ]
  },
  {
   "cell_type": "markdown",
   "id": "aca9966f-4e2d-4aec-b01a-b6917f3f065f",
   "metadata": {},
   "source": [
    "<u>Extracting attributes</u>"
   ]
  },
  {
   "cell_type": "code",
   "execution_count": 85,
   "id": "20fce5d0-176b-40f0-a7d5-71baadc1588d",
   "metadata": {},
   "outputs": [
    {
     "data": {
      "text/html": [
       "<dl>\n",
       "\t<dt>$names</dt>\n",
       "\t\t<dd><style>\n",
       ".list-inline {list-style: none; margin:0; padding: 0}\n",
       ".list-inline>li {display: inline-block}\n",
       ".list-inline>li:not(:last-child)::after {content: \"\\00b7\"; padding: 0 .5ex}\n",
       "</style>\n",
       "<ol class=list-inline><li>'Sepal.Length'</li><li>'Sepal.Width'</li><li>'Petal.Length'</li><li>'Petal.Width'</li><li>'Species'</li></ol>\n",
       "</dd>\n",
       "\t<dt>$class</dt>\n",
       "\t\t<dd>'data.frame'</dd>\n",
       "\t<dt>$row.names</dt>\n",
       "\t\t<dd><style>\n",
       ".list-inline {list-style: none; margin:0; padding: 0}\n",
       ".list-inline>li {display: inline-block}\n",
       ".list-inline>li:not(:last-child)::after {content: \"\\00b7\"; padding: 0 .5ex}\n",
       "</style>\n",
       "<ol class=list-inline><li>1</li><li>2</li><li>3</li><li>4</li><li>5</li><li>6</li><li>7</li><li>8</li><li>9</li><li>10</li><li>11</li><li>12</li><li>13</li><li>14</li><li>15</li><li>16</li><li>17</li><li>18</li><li>19</li><li>20</li><li>21</li><li>22</li><li>23</li><li>24</li><li>25</li><li>26</li><li>27</li><li>28</li><li>29</li><li>30</li><li>31</li><li>32</li><li>33</li><li>34</li><li>35</li><li>36</li><li>37</li><li>38</li><li>39</li><li>40</li><li>41</li><li>42</li><li>43</li><li>44</li><li>45</li><li>46</li><li>47</li><li>48</li><li>49</li><li>50</li><li>51</li><li>52</li><li>53</li><li>54</li><li>55</li><li>56</li><li>57</li><li>58</li><li>59</li><li>60</li><li>61</li><li>62</li><li>63</li><li>64</li><li>65</li><li>66</li><li>67</li><li>68</li><li>69</li><li>70</li><li>71</li><li>72</li><li>73</li><li>74</li><li>75</li><li>76</li><li>77</li><li>78</li><li>79</li><li>80</li><li>81</li><li>82</li><li>83</li><li>84</li><li>85</li><li>86</li><li>87</li><li>88</li><li>89</li><li>90</li><li>91</li><li>92</li><li>93</li><li>94</li><li>95</li><li>96</li><li>97</li><li>98</li><li>99</li><li>100</li><li>101</li><li>102</li><li>103</li><li>104</li><li>105</li><li>106</li><li>107</li><li>108</li><li>109</li><li>110</li><li>111</li><li>112</li><li>113</li><li>114</li><li>115</li><li>116</li><li>117</li><li>118</li><li>119</li><li>120</li><li>121</li><li>122</li><li>123</li><li>124</li><li>125</li><li>126</li><li>127</li><li>128</li><li>129</li><li>130</li><li>131</li><li>132</li><li>133</li><li>134</li><li>135</li><li>136</li><li>137</li><li>138</li><li>139</li><li>140</li><li>141</li><li>142</li><li>143</li><li>144</li><li>145</li><li>146</li><li>147</li><li>148</li><li>149</li><li>150</li></ol>\n",
       "</dd>\n",
       "</dl>\n"
      ],
      "text/latex": [
       "\\begin{description}\n",
       "\\item[\\$names] \\begin{enumerate*}\n",
       "\\item 'Sepal.Length'\n",
       "\\item 'Sepal.Width'\n",
       "\\item 'Petal.Length'\n",
       "\\item 'Petal.Width'\n",
       "\\item 'Species'\n",
       "\\end{enumerate*}\n",
       "\n",
       "\\item[\\$class] 'data.frame'\n",
       "\\item[\\$row.names] \\begin{enumerate*}\n",
       "\\item 1\n",
       "\\item 2\n",
       "\\item 3\n",
       "\\item 4\n",
       "\\item 5\n",
       "\\item 6\n",
       "\\item 7\n",
       "\\item 8\n",
       "\\item 9\n",
       "\\item 10\n",
       "\\item 11\n",
       "\\item 12\n",
       "\\item 13\n",
       "\\item 14\n",
       "\\item 15\n",
       "\\item 16\n",
       "\\item 17\n",
       "\\item 18\n",
       "\\item 19\n",
       "\\item 20\n",
       "\\item 21\n",
       "\\item 22\n",
       "\\item 23\n",
       "\\item 24\n",
       "\\item 25\n",
       "\\item 26\n",
       "\\item 27\n",
       "\\item 28\n",
       "\\item 29\n",
       "\\item 30\n",
       "\\item 31\n",
       "\\item 32\n",
       "\\item 33\n",
       "\\item 34\n",
       "\\item 35\n",
       "\\item 36\n",
       "\\item 37\n",
       "\\item 38\n",
       "\\item 39\n",
       "\\item 40\n",
       "\\item 41\n",
       "\\item 42\n",
       "\\item 43\n",
       "\\item 44\n",
       "\\item 45\n",
       "\\item 46\n",
       "\\item 47\n",
       "\\item 48\n",
       "\\item 49\n",
       "\\item 50\n",
       "\\item 51\n",
       "\\item 52\n",
       "\\item 53\n",
       "\\item 54\n",
       "\\item 55\n",
       "\\item 56\n",
       "\\item 57\n",
       "\\item 58\n",
       "\\item 59\n",
       "\\item 60\n",
       "\\item 61\n",
       "\\item 62\n",
       "\\item 63\n",
       "\\item 64\n",
       "\\item 65\n",
       "\\item 66\n",
       "\\item 67\n",
       "\\item 68\n",
       "\\item 69\n",
       "\\item 70\n",
       "\\item 71\n",
       "\\item 72\n",
       "\\item 73\n",
       "\\item 74\n",
       "\\item 75\n",
       "\\item 76\n",
       "\\item 77\n",
       "\\item 78\n",
       "\\item 79\n",
       "\\item 80\n",
       "\\item 81\n",
       "\\item 82\n",
       "\\item 83\n",
       "\\item 84\n",
       "\\item 85\n",
       "\\item 86\n",
       "\\item 87\n",
       "\\item 88\n",
       "\\item 89\n",
       "\\item 90\n",
       "\\item 91\n",
       "\\item 92\n",
       "\\item 93\n",
       "\\item 94\n",
       "\\item 95\n",
       "\\item 96\n",
       "\\item 97\n",
       "\\item 98\n",
       "\\item 99\n",
       "\\item 100\n",
       "\\item 101\n",
       "\\item 102\n",
       "\\item 103\n",
       "\\item 104\n",
       "\\item 105\n",
       "\\item 106\n",
       "\\item 107\n",
       "\\item 108\n",
       "\\item 109\n",
       "\\item 110\n",
       "\\item 111\n",
       "\\item 112\n",
       "\\item 113\n",
       "\\item 114\n",
       "\\item 115\n",
       "\\item 116\n",
       "\\item 117\n",
       "\\item 118\n",
       "\\item 119\n",
       "\\item 120\n",
       "\\item 121\n",
       "\\item 122\n",
       "\\item 123\n",
       "\\item 124\n",
       "\\item 125\n",
       "\\item 126\n",
       "\\item 127\n",
       "\\item 128\n",
       "\\item 129\n",
       "\\item 130\n",
       "\\item 131\n",
       "\\item 132\n",
       "\\item 133\n",
       "\\item 134\n",
       "\\item 135\n",
       "\\item 136\n",
       "\\item 137\n",
       "\\item 138\n",
       "\\item 139\n",
       "\\item 140\n",
       "\\item 141\n",
       "\\item 142\n",
       "\\item 143\n",
       "\\item 144\n",
       "\\item 145\n",
       "\\item 146\n",
       "\\item 147\n",
       "\\item 148\n",
       "\\item 149\n",
       "\\item 150\n",
       "\\end{enumerate*}\n",
       "\n",
       "\\end{description}\n"
      ],
      "text/markdown": [
       "$names\n",
       ":   1. 'Sepal.Length'\n",
       "2. 'Sepal.Width'\n",
       "3. 'Petal.Length'\n",
       "4. 'Petal.Width'\n",
       "5. 'Species'\n",
       "\n",
       "\n",
       "\n",
       "$class\n",
       ":   'data.frame'\n",
       "$row.names\n",
       ":   1. 1\n",
       "2. 2\n",
       "3. 3\n",
       "4. 4\n",
       "5. 5\n",
       "6. 6\n",
       "7. 7\n",
       "8. 8\n",
       "9. 9\n",
       "10. 10\n",
       "11. 11\n",
       "12. 12\n",
       "13. 13\n",
       "14. 14\n",
       "15. 15\n",
       "16. 16\n",
       "17. 17\n",
       "18. 18\n",
       "19. 19\n",
       "20. 20\n",
       "21. 21\n",
       "22. 22\n",
       "23. 23\n",
       "24. 24\n",
       "25. 25\n",
       "26. 26\n",
       "27. 27\n",
       "28. 28\n",
       "29. 29\n",
       "30. 30\n",
       "31. 31\n",
       "32. 32\n",
       "33. 33\n",
       "34. 34\n",
       "35. 35\n",
       "36. 36\n",
       "37. 37\n",
       "38. 38\n",
       "39. 39\n",
       "40. 40\n",
       "41. 41\n",
       "42. 42\n",
       "43. 43\n",
       "44. 44\n",
       "45. 45\n",
       "46. 46\n",
       "47. 47\n",
       "48. 48\n",
       "49. 49\n",
       "50. 50\n",
       "51. 51\n",
       "52. 52\n",
       "53. 53\n",
       "54. 54\n",
       "55. 55\n",
       "56. 56\n",
       "57. 57\n",
       "58. 58\n",
       "59. 59\n",
       "60. 60\n",
       "61. 61\n",
       "62. 62\n",
       "63. 63\n",
       "64. 64\n",
       "65. 65\n",
       "66. 66\n",
       "67. 67\n",
       "68. 68\n",
       "69. 69\n",
       "70. 70\n",
       "71. 71\n",
       "72. 72\n",
       "73. 73\n",
       "74. 74\n",
       "75. 75\n",
       "76. 76\n",
       "77. 77\n",
       "78. 78\n",
       "79. 79\n",
       "80. 80\n",
       "81. 81\n",
       "82. 82\n",
       "83. 83\n",
       "84. 84\n",
       "85. 85\n",
       "86. 86\n",
       "87. 87\n",
       "88. 88\n",
       "89. 89\n",
       "90. 90\n",
       "91. 91\n",
       "92. 92\n",
       "93. 93\n",
       "94. 94\n",
       "95. 95\n",
       "96. 96\n",
       "97. 97\n",
       "98. 98\n",
       "99. 99\n",
       "100. 100\n",
       "101. 101\n",
       "102. 102\n",
       "103. 103\n",
       "104. 104\n",
       "105. 105\n",
       "106. 106\n",
       "107. 107\n",
       "108. 108\n",
       "109. 109\n",
       "110. 110\n",
       "111. 111\n",
       "112. 112\n",
       "113. 113\n",
       "114. 114\n",
       "115. 115\n",
       "116. 116\n",
       "117. 117\n",
       "118. 118\n",
       "119. 119\n",
       "120. 120\n",
       "121. 121\n",
       "122. 122\n",
       "123. 123\n",
       "124. 124\n",
       "125. 125\n",
       "126. 126\n",
       "127. 127\n",
       "128. 128\n",
       "129. 129\n",
       "130. 130\n",
       "131. 131\n",
       "132. 132\n",
       "133. 133\n",
       "134. 134\n",
       "135. 135\n",
       "136. 136\n",
       "137. 137\n",
       "138. 138\n",
       "139. 139\n",
       "140. 140\n",
       "141. 141\n",
       "142. 142\n",
       "143. 143\n",
       "144. 144\n",
       "145. 145\n",
       "146. 146\n",
       "147. 147\n",
       "148. 148\n",
       "149. 149\n",
       "150. 150\n",
       "\n",
       "\n",
       "\n",
       "\n",
       "\n"
      ],
      "text/plain": [
       "$names\n",
       "[1] \"Sepal.Length\" \"Sepal.Width\"  \"Petal.Length\" \"Petal.Width\"  \"Species\"     \n",
       "\n",
       "$class\n",
       "[1] \"data.frame\"\n",
       "\n",
       "$row.names\n",
       "  [1]   1   2   3   4   5   6   7   8   9  10  11  12  13  14  15  16  17  18\n",
       " [19]  19  20  21  22  23  24  25  26  27  28  29  30  31  32  33  34  35  36\n",
       " [37]  37  38  39  40  41  42  43  44  45  46  47  48  49  50  51  52  53  54\n",
       " [55]  55  56  57  58  59  60  61  62  63  64  65  66  67  68  69  70  71  72\n",
       " [73]  73  74  75  76  77  78  79  80  81  82  83  84  85  86  87  88  89  90\n",
       " [91]  91  92  93  94  95  96  97  98  99 100 101 102 103 104 105 106 107 108\n",
       "[109] 109 110 111 112 113 114 115 116 117 118 119 120 121 122 123 124 125 126\n",
       "[127] 127 128 129 130 131 132 133 134 135 136 137 138 139 140 141 142 143 144\n",
       "[145] 145 146 147 148 149 150\n"
      ]
     },
     "metadata": {},
     "output_type": "display_data"
    }
   ],
   "source": [
    "attributes(iris)"
   ]
  },
  {
   "cell_type": "code",
   "execution_count": 86,
   "id": "1afd0680-3400-40dc-bb2f-596467b8de2e",
   "metadata": {},
   "outputs": [
    {
     "data": {
      "text/html": [
       "<style>\n",
       ".list-inline {list-style: none; margin:0; padding: 0}\n",
       ".list-inline>li {display: inline-block}\n",
       ".list-inline>li:not(:last-child)::after {content: \"\\00b7\"; padding: 0 .5ex}\n",
       "</style>\n",
       "<ol class=list-inline><li>'Sepal.Length'</li><li>'Sepal.Width'</li><li>'Petal.Length'</li><li>'Petal.Width'</li><li>'Species'</li></ol>\n"
      ],
      "text/latex": [
       "\\begin{enumerate*}\n",
       "\\item 'Sepal.Length'\n",
       "\\item 'Sepal.Width'\n",
       "\\item 'Petal.Length'\n",
       "\\item 'Petal.Width'\n",
       "\\item 'Species'\n",
       "\\end{enumerate*}\n"
      ],
      "text/markdown": [
       "1. 'Sepal.Length'\n",
       "2. 'Sepal.Width'\n",
       "3. 'Petal.Length'\n",
       "4. 'Petal.Width'\n",
       "5. 'Species'\n",
       "\n",
       "\n"
      ],
      "text/plain": [
       "[1] \"Sepal.Length\" \"Sepal.Width\"  \"Petal.Length\" \"Petal.Width\"  \"Species\"     "
      ]
     },
     "metadata": {},
     "output_type": "display_data"
    }
   ],
   "source": [
    "attr(iris, \"names\")"
   ]
  },
  {
   "cell_type": "code",
   "execution_count": 87,
   "id": "b97a7157-8491-4cea-a345-a03ef6a6d95d",
   "metadata": {},
   "outputs": [
    {
     "data": {
      "text/html": [
       "<dl>\n",
       "\t<dt>$class</dt>\n",
       "\t\t<dd><style>\n",
       ".list-inline {list-style: none; margin:0; padding: 0}\n",
       ".list-inline>li {display: inline-block}\n",
       ".list-inline>li:not(:last-child)::after {content: \"\\00b7\"; padding: 0 .5ex}\n",
       "</style>\n",
       "<ol class=list-inline><li>'grouped_df'</li><li>'tbl_df'</li><li>'tbl'</li><li>'data.frame'</li></ol>\n",
       "</dd>\n",
       "\t<dt>$row.names</dt>\n",
       "\t\t<dd><style>\n",
       ".list-inline {list-style: none; margin:0; padding: 0}\n",
       ".list-inline>li {display: inline-block}\n",
       ".list-inline>li:not(:last-child)::after {content: \"\\00b7\"; padding: 0 .5ex}\n",
       "</style>\n",
       "<ol class=list-inline><li>1</li><li>2</li><li>3</li><li>4</li><li>5</li><li>6</li><li>7</li><li>8</li><li>9</li><li>10</li><li>11</li><li>12</li><li>13</li><li>14</li><li>15</li><li>16</li><li>17</li><li>18</li><li>19</li><li>20</li><li>21</li><li>22</li><li>23</li><li>24</li><li>25</li><li>26</li><li>27</li><li>28</li><li>29</li><li>30</li><li>31</li><li>32</li><li>33</li><li>34</li><li>35</li><li>36</li><li>37</li><li>38</li><li>39</li><li>40</li><li>41</li><li>42</li><li>43</li><li>44</li><li>45</li><li>46</li><li>47</li><li>48</li><li>49</li><li>50</li><li>51</li><li>52</li><li>53</li><li>54</li><li>55</li><li>56</li><li>57</li><li>58</li><li>59</li><li>60</li><li>61</li><li>62</li><li>63</li><li>64</li><li>65</li><li>66</li><li>67</li><li>68</li><li>69</li><li>70</li><li>71</li><li>72</li><li>73</li><li>74</li><li>75</li><li>76</li><li>77</li><li>78</li><li>79</li><li>80</li><li>81</li><li>82</li><li>83</li><li>84</li><li>85</li><li>86</li><li>87</li><li>88</li><li>89</li><li>90</li><li>91</li><li>92</li><li>93</li><li>94</li><li>95</li><li>96</li><li>97</li><li>98</li><li>99</li><li>100</li><li>101</li><li>102</li><li>103</li><li>104</li><li>105</li><li>106</li><li>107</li><li>108</li><li>109</li><li>110</li><li>111</li><li>112</li><li>113</li><li>114</li><li>115</li><li>116</li><li>117</li><li>118</li><li>119</li><li>120</li><li>121</li><li>122</li><li>123</li><li>124</li><li>125</li><li>126</li><li>127</li><li>128</li><li>129</li><li>130</li><li>131</li><li>132</li><li>133</li><li>134</li><li>135</li><li>136</li><li>137</li><li>138</li><li>139</li><li>140</li><li>141</li><li>142</li><li>143</li><li>144</li><li>145</li><li>146</li><li>147</li><li>148</li><li>149</li><li>150</li></ol>\n",
       "</dd>\n",
       "\t<dt>$names</dt>\n",
       "\t\t<dd><style>\n",
       ".list-inline {list-style: none; margin:0; padding: 0}\n",
       ".list-inline>li {display: inline-block}\n",
       ".list-inline>li:not(:last-child)::after {content: \"\\00b7\"; padding: 0 .5ex}\n",
       "</style>\n",
       "<ol class=list-inline><li>'Sepal.Length'</li><li>'Sepal.Width'</li><li>'Petal.Length'</li><li>'Petal.Width'</li><li>'Species'</li></ol>\n",
       "</dd>\n",
       "\t<dt>$groups</dt>\n",
       "\t\t<dd><table class=\"dataframe\">\n",
       "<caption>A tibble: 3 × 2</caption>\n",
       "<thead>\n",
       "\t<tr><th scope=col>Species</th><th scope=col>.rows</th></tr>\n",
       "\t<tr><th scope=col>&lt;fct&gt;</th><th scope=col>&lt;list&lt;int&gt;&gt;</th></tr>\n",
       "</thead>\n",
       "<tbody>\n",
       "\t<tr><td>setosa    </td><td>1, 2, 3, 4, 5, 6, 7, 8, 9, 10, 11, 12, 13, 14, 15, 16, 17, 18, 19, 20, 21, 22, 23, 24, 25, 26, 27, 28, 29, 30, 31, 32, 33, 34, 35, 36, 37, 38, 39, 40, 41, 42, 43, 44, 45, 46, 47, 48, 49, 50</td></tr>\n",
       "\t<tr><td>versicolor</td><td>51, 52, 53, 54, 55, 56, 57, 58, 59, 60, 61, 62, 63, 64, 65, 66, 67, 68, 69, 70, 71, 72, 73, 74, 75, 76, 77, 78, 79, 80, 81, 82, 83, 84, 85, 86, 87, 88, 89, 90, 91, 92, 93, 94, 95, 96, 97, 98, 99, 100</td></tr>\n",
       "\t<tr><td>virginica </td><td>101, 102, 103, 104, 105, 106, 107, 108, 109, 110, 111, 112, 113, 114, 115, 116, 117, 118, 119, 120, 121, 122, 123, 124, 125, 126, 127, 128, 129, 130, 131, 132, 133, 134, 135, 136, 137, 138, 139, 140, 141, 142, 143, 144, 145, 146, 147, 148, 149, 150</td></tr>\n",
       "</tbody>\n",
       "</table>\n",
       "</dd>\n",
       "</dl>\n"
      ],
      "text/latex": [
       "\\begin{description}\n",
       "\\item[\\$class] \\begin{enumerate*}\n",
       "\\item 'grouped\\_df'\n",
       "\\item 'tbl\\_df'\n",
       "\\item 'tbl'\n",
       "\\item 'data.frame'\n",
       "\\end{enumerate*}\n",
       "\n",
       "\\item[\\$row.names] \\begin{enumerate*}\n",
       "\\item 1\n",
       "\\item 2\n",
       "\\item 3\n",
       "\\item 4\n",
       "\\item 5\n",
       "\\item 6\n",
       "\\item 7\n",
       "\\item 8\n",
       "\\item 9\n",
       "\\item 10\n",
       "\\item 11\n",
       "\\item 12\n",
       "\\item 13\n",
       "\\item 14\n",
       "\\item 15\n",
       "\\item 16\n",
       "\\item 17\n",
       "\\item 18\n",
       "\\item 19\n",
       "\\item 20\n",
       "\\item 21\n",
       "\\item 22\n",
       "\\item 23\n",
       "\\item 24\n",
       "\\item 25\n",
       "\\item 26\n",
       "\\item 27\n",
       "\\item 28\n",
       "\\item 29\n",
       "\\item 30\n",
       "\\item 31\n",
       "\\item 32\n",
       "\\item 33\n",
       "\\item 34\n",
       "\\item 35\n",
       "\\item 36\n",
       "\\item 37\n",
       "\\item 38\n",
       "\\item 39\n",
       "\\item 40\n",
       "\\item 41\n",
       "\\item 42\n",
       "\\item 43\n",
       "\\item 44\n",
       "\\item 45\n",
       "\\item 46\n",
       "\\item 47\n",
       "\\item 48\n",
       "\\item 49\n",
       "\\item 50\n",
       "\\item 51\n",
       "\\item 52\n",
       "\\item 53\n",
       "\\item 54\n",
       "\\item 55\n",
       "\\item 56\n",
       "\\item 57\n",
       "\\item 58\n",
       "\\item 59\n",
       "\\item 60\n",
       "\\item 61\n",
       "\\item 62\n",
       "\\item 63\n",
       "\\item 64\n",
       "\\item 65\n",
       "\\item 66\n",
       "\\item 67\n",
       "\\item 68\n",
       "\\item 69\n",
       "\\item 70\n",
       "\\item 71\n",
       "\\item 72\n",
       "\\item 73\n",
       "\\item 74\n",
       "\\item 75\n",
       "\\item 76\n",
       "\\item 77\n",
       "\\item 78\n",
       "\\item 79\n",
       "\\item 80\n",
       "\\item 81\n",
       "\\item 82\n",
       "\\item 83\n",
       "\\item 84\n",
       "\\item 85\n",
       "\\item 86\n",
       "\\item 87\n",
       "\\item 88\n",
       "\\item 89\n",
       "\\item 90\n",
       "\\item 91\n",
       "\\item 92\n",
       "\\item 93\n",
       "\\item 94\n",
       "\\item 95\n",
       "\\item 96\n",
       "\\item 97\n",
       "\\item 98\n",
       "\\item 99\n",
       "\\item 100\n",
       "\\item 101\n",
       "\\item 102\n",
       "\\item 103\n",
       "\\item 104\n",
       "\\item 105\n",
       "\\item 106\n",
       "\\item 107\n",
       "\\item 108\n",
       "\\item 109\n",
       "\\item 110\n",
       "\\item 111\n",
       "\\item 112\n",
       "\\item 113\n",
       "\\item 114\n",
       "\\item 115\n",
       "\\item 116\n",
       "\\item 117\n",
       "\\item 118\n",
       "\\item 119\n",
       "\\item 120\n",
       "\\item 121\n",
       "\\item 122\n",
       "\\item 123\n",
       "\\item 124\n",
       "\\item 125\n",
       "\\item 126\n",
       "\\item 127\n",
       "\\item 128\n",
       "\\item 129\n",
       "\\item 130\n",
       "\\item 131\n",
       "\\item 132\n",
       "\\item 133\n",
       "\\item 134\n",
       "\\item 135\n",
       "\\item 136\n",
       "\\item 137\n",
       "\\item 138\n",
       "\\item 139\n",
       "\\item 140\n",
       "\\item 141\n",
       "\\item 142\n",
       "\\item 143\n",
       "\\item 144\n",
       "\\item 145\n",
       "\\item 146\n",
       "\\item 147\n",
       "\\item 148\n",
       "\\item 149\n",
       "\\item 150\n",
       "\\end{enumerate*}\n",
       "\n",
       "\\item[\\$names] \\begin{enumerate*}\n",
       "\\item 'Sepal.Length'\n",
       "\\item 'Sepal.Width'\n",
       "\\item 'Petal.Length'\n",
       "\\item 'Petal.Width'\n",
       "\\item 'Species'\n",
       "\\end{enumerate*}\n",
       "\n",
       "\\item[\\$groups] A tibble: 3 × 2\n",
       "\\begin{tabular}{ll}\n",
       " Species & .rows\\\\\n",
       " <fct> & <list<int>>\\\\\n",
       "\\hline\n",
       "\t setosa     & 1, 2, 3, 4, 5, 6, 7, 8, 9, 10, 11, 12, 13, 14, 15, 16, 17, 18, 19, 20, 21, 22, 23, 24, 25, 26, 27, 28, 29, 30, 31, 32, 33, 34, 35, 36, 37, 38, 39, 40, 41, 42, 43, 44, 45, 46, 47, 48, 49, 50\\\\\n",
       "\t versicolor & 51, 52, 53, 54, 55, 56, 57, 58, 59, 60, 61, 62, 63, 64, 65, 66, 67, 68, 69, 70, 71, 72, 73, 74, 75, 76, 77, 78, 79, 80, 81, 82, 83, 84, 85, 86, 87, 88, 89, 90, 91, 92, 93, 94, 95, 96, 97, 98, 99, 100\\\\\n",
       "\t virginica  & 101, 102, 103, 104, 105, 106, 107, 108, 109, 110, 111, 112, 113, 114, 115, 116, 117, 118, 119, 120, 121, 122, 123, 124, 125, 126, 127, 128, 129, 130, 131, 132, 133, 134, 135, 136, 137, 138, 139, 140, 141, 142, 143, 144, 145, 146, 147, 148, 149, 150\\\\\n",
       "\\end{tabular}\n",
       "\n",
       "\\end{description}\n"
      ],
      "text/markdown": [
       "$class\n",
       ":   1. 'grouped_df'\n",
       "2. 'tbl_df'\n",
       "3. 'tbl'\n",
       "4. 'data.frame'\n",
       "\n",
       "\n",
       "\n",
       "$row.names\n",
       ":   1. 1\n",
       "2. 2\n",
       "3. 3\n",
       "4. 4\n",
       "5. 5\n",
       "6. 6\n",
       "7. 7\n",
       "8. 8\n",
       "9. 9\n",
       "10. 10\n",
       "11. 11\n",
       "12. 12\n",
       "13. 13\n",
       "14. 14\n",
       "15. 15\n",
       "16. 16\n",
       "17. 17\n",
       "18. 18\n",
       "19. 19\n",
       "20. 20\n",
       "21. 21\n",
       "22. 22\n",
       "23. 23\n",
       "24. 24\n",
       "25. 25\n",
       "26. 26\n",
       "27. 27\n",
       "28. 28\n",
       "29. 29\n",
       "30. 30\n",
       "31. 31\n",
       "32. 32\n",
       "33. 33\n",
       "34. 34\n",
       "35. 35\n",
       "36. 36\n",
       "37. 37\n",
       "38. 38\n",
       "39. 39\n",
       "40. 40\n",
       "41. 41\n",
       "42. 42\n",
       "43. 43\n",
       "44. 44\n",
       "45. 45\n",
       "46. 46\n",
       "47. 47\n",
       "48. 48\n",
       "49. 49\n",
       "50. 50\n",
       "51. 51\n",
       "52. 52\n",
       "53. 53\n",
       "54. 54\n",
       "55. 55\n",
       "56. 56\n",
       "57. 57\n",
       "58. 58\n",
       "59. 59\n",
       "60. 60\n",
       "61. 61\n",
       "62. 62\n",
       "63. 63\n",
       "64. 64\n",
       "65. 65\n",
       "66. 66\n",
       "67. 67\n",
       "68. 68\n",
       "69. 69\n",
       "70. 70\n",
       "71. 71\n",
       "72. 72\n",
       "73. 73\n",
       "74. 74\n",
       "75. 75\n",
       "76. 76\n",
       "77. 77\n",
       "78. 78\n",
       "79. 79\n",
       "80. 80\n",
       "81. 81\n",
       "82. 82\n",
       "83. 83\n",
       "84. 84\n",
       "85. 85\n",
       "86. 86\n",
       "87. 87\n",
       "88. 88\n",
       "89. 89\n",
       "90. 90\n",
       "91. 91\n",
       "92. 92\n",
       "93. 93\n",
       "94. 94\n",
       "95. 95\n",
       "96. 96\n",
       "97. 97\n",
       "98. 98\n",
       "99. 99\n",
       "100. 100\n",
       "101. 101\n",
       "102. 102\n",
       "103. 103\n",
       "104. 104\n",
       "105. 105\n",
       "106. 106\n",
       "107. 107\n",
       "108. 108\n",
       "109. 109\n",
       "110. 110\n",
       "111. 111\n",
       "112. 112\n",
       "113. 113\n",
       "114. 114\n",
       "115. 115\n",
       "116. 116\n",
       "117. 117\n",
       "118. 118\n",
       "119. 119\n",
       "120. 120\n",
       "121. 121\n",
       "122. 122\n",
       "123. 123\n",
       "124. 124\n",
       "125. 125\n",
       "126. 126\n",
       "127. 127\n",
       "128. 128\n",
       "129. 129\n",
       "130. 130\n",
       "131. 131\n",
       "132. 132\n",
       "133. 133\n",
       "134. 134\n",
       "135. 135\n",
       "136. 136\n",
       "137. 137\n",
       "138. 138\n",
       "139. 139\n",
       "140. 140\n",
       "141. 141\n",
       "142. 142\n",
       "143. 143\n",
       "144. 144\n",
       "145. 145\n",
       "146. 146\n",
       "147. 147\n",
       "148. 148\n",
       "149. 149\n",
       "150. 150\n",
       "\n",
       "\n",
       "\n",
       "$names\n",
       ":   1. 'Sepal.Length'\n",
       "2. 'Sepal.Width'\n",
       "3. 'Petal.Length'\n",
       "4. 'Petal.Width'\n",
       "5. 'Species'\n",
       "\n",
       "\n",
       "\n",
       "$groups\n",
       ":   \n",
       "A tibble: 3 × 2\n",
       "\n",
       "| Species &lt;fct&gt; | .rows &lt;list&lt;int&gt;&gt; |\n",
       "|---|---|\n",
       "| setosa     | 1, 2, 3, 4, 5, 6, 7, 8, 9, 10, 11, 12, 13, 14, 15, 16, 17, 18, 19, 20, 21, 22, 23, 24, 25, 26, 27, 28, 29, 30, 31, 32, 33, 34, 35, 36, 37, 38, 39, 40, 41, 42, 43, 44, 45, 46, 47, 48, 49, 50 |\n",
       "| versicolor | 51, 52, 53, 54, 55, 56, 57, 58, 59, 60, 61, 62, 63, 64, 65, 66, 67, 68, 69, 70, 71, 72, 73, 74, 75, 76, 77, 78, 79, 80, 81, 82, 83, 84, 85, 86, 87, 88, 89, 90, 91, 92, 93, 94, 95, 96, 97, 98, 99, 100 |\n",
       "| virginica  | 101, 102, 103, 104, 105, 106, 107, 108, 109, 110, 111, 112, 113, 114, 115, 116, 117, 118, 119, 120, 121, 122, 123, 124, 125, 126, 127, 128, 129, 130, 131, 132, 133, 134, 135, 136, 137, 138, 139, 140, 141, 142, 143, 144, 145, 146, 147, 148, 149, 150 |\n",
       "\n",
       "\n",
       "\n",
       "\n"
      ],
      "text/plain": [
       "$class\n",
       "[1] \"grouped_df\" \"tbl_df\"     \"tbl\"        \"data.frame\"\n",
       "\n",
       "$row.names\n",
       "  [1]   1   2   3   4   5   6   7   8   9  10  11  12  13  14  15  16  17  18\n",
       " [19]  19  20  21  22  23  24  25  26  27  28  29  30  31  32  33  34  35  36\n",
       " [37]  37  38  39  40  41  42  43  44  45  46  47  48  49  50  51  52  53  54\n",
       " [55]  55  56  57  58  59  60  61  62  63  64  65  66  67  68  69  70  71  72\n",
       " [73]  73  74  75  76  77  78  79  80  81  82  83  84  85  86  87  88  89  90\n",
       " [91]  91  92  93  94  95  96  97  98  99 100 101 102 103 104 105 106 107 108\n",
       "[109] 109 110 111 112 113 114 115 116 117 118 119 120 121 122 123 124 125 126\n",
       "[127] 127 128 129 130 131 132 133 134 135 136 137 138 139 140 141 142 143 144\n",
       "[145] 145 146 147 148 149 150\n",
       "\n",
       "$names\n",
       "[1] \"Sepal.Length\" \"Sepal.Width\"  \"Petal.Length\" \"Petal.Width\"  \"Species\"     \n",
       "\n",
       "$groups\n",
       "\u001b[90m# A tibble: 3 x 2\u001b[39m\n",
       "  Species          .rows\n",
       "  \u001b[3m\u001b[90m<fct>\u001b[39m\u001b[23m      \u001b[3m\u001b[90m<list<int>>\u001b[39m\u001b[23m\n",
       "\u001b[90m1\u001b[39m setosa            \u001b[90m[50]\u001b[39m\n",
       "\u001b[90m2\u001b[39m versicolor        \u001b[90m[50]\u001b[39m\n",
       "\u001b[90m3\u001b[39m virginica         \u001b[90m[50]\u001b[39m\n"
      ]
     },
     "metadata": {},
     "output_type": "display_data"
    }
   ],
   "source": [
    "iris %>%\n",
    "  group_by(Species) %>%\n",
    "  attributes()"
   ]
  },
  {
   "cell_type": "markdown",
   "id": "925a1f69-b110-4702-861f-8a95547f5c3e",
   "metadata": {},
   "source": [
    "☝️ `dplyr` has a philosophy that all its functions should accept a data frame as their first argument, and return a data frame. That means that `group_by()` couldn't return a list. To comply with the package philosophy, it returned a data frame, then returned the group metadata as an attribute to that data frame. In general, you should include additional return values as attributes when you need the return value to be a particular type. If you don't have this constraint, you should return the values in a list."
   ]
  },
  {
   "cell_type": "code",
   "execution_count": 66,
   "id": "a03cd9a1-61fd-4294-a6d8-479042c0628e",
   "metadata": {},
   "outputs": [
    {
     "name": "stdout",
     "output_type": "stream",
     "text": [
      "List of 13\n",
      " $ coefficients : Named num [1:3] 5.01 0.93 1.58\n",
      "  ..- attr(*, \"names\")= chr [1:3] \"(Intercept)\" \"Speciesversicolor\" \"Speciesvirginica\"\n",
      " $ residuals    : Named num [1:150] 0.094 -0.106 -0.306 -0.406 -0.006 ...\n",
      "  ..- attr(*, \"names\")= chr [1:150] \"1\" \"2\" \"3\" \"4\" ...\n",
      " $ effects      : Named num [1:150] -71.5659 0.8025 7.91 -0.3826 0.0174 ...\n",
      "  ..- attr(*, \"names\")= chr [1:150] \"(Intercept)\" \"Speciesversicolor\" \"Speciesvirginica\" \"\" ...\n",
      " $ rank         : int 3\n",
      " $ fitted.values: Named num [1:150] 5.01 5.01 5.01 5.01 5.01 ...\n",
      "  ..- attr(*, \"names\")= chr [1:150] \"1\" \"2\" \"3\" \"4\" ...\n",
      " $ assign       : int [1:3] 0 1 1\n",
      " $ qr           :List of 5\n",
      "  ..$ qr   : num [1:150, 1:3] -12.2474 0.0816 0.0816 0.0816 0.0816 ...\n",
      "  .. ..- attr(*, \"dimnames\")=List of 2\n",
      "  .. .. ..$ : chr [1:150] \"1\" \"2\" \"3\" \"4\" ...\n",
      "  .. .. ..$ : chr [1:3] \"(Intercept)\" \"Speciesversicolor\" \"Speciesvirginica\"\n",
      "  .. ..- attr(*, \"assign\")= int [1:3] 0 1 1\n",
      "  .. ..- attr(*, \"contrasts\")=List of 1\n",
      "  .. .. ..$ Species: chr \"contr.treatment\"\n",
      "  ..$ qraux: num [1:3] 1.08 1.05 1.09\n",
      "  ..$ pivot: int [1:3] 1 2 3\n",
      "  ..$ tol  : num 1e-07\n",
      "  ..$ rank : int 3\n",
      "  ..- attr(*, \"class\")= chr \"qr\"\n",
      " $ df.residual  : int 147\n",
      " $ contrasts    :List of 1\n",
      "  ..$ Species: chr \"contr.treatment\"\n",
      " $ xlevels      :List of 1\n",
      "  ..$ Species: chr [1:3] \"setosa\" \"versicolor\" \"virginica\"\n",
      " $ call         : language lm(formula = Sepal.Length ~ Species, data = iris)\n",
      " $ terms        :Classes 'terms', 'formula'  language Sepal.Length ~ Species\n",
      "  .. ..- attr(*, \"variables\")= language list(Sepal.Length, Species)\n",
      "  .. ..- attr(*, \"factors\")= int [1:2, 1] 0 1\n",
      "  .. .. ..- attr(*, \"dimnames\")=List of 2\n",
      "  .. .. .. ..$ : chr [1:2] \"Sepal.Length\" \"Species\"\n",
      "  .. .. .. ..$ : chr \"Species\"\n",
      "  .. ..- attr(*, \"term.labels\")= chr \"Species\"\n",
      "  .. ..- attr(*, \"order\")= int 1\n",
      "  .. ..- attr(*, \"intercept\")= int 1\n",
      "  .. ..- attr(*, \"response\")= int 1\n",
      "  .. ..- attr(*, \".Environment\")=<environment: R_GlobalEnv> \n",
      "  .. ..- attr(*, \"predvars\")= language list(Sepal.Length, Species)\n",
      "  .. ..- attr(*, \"dataClasses\")= Named chr [1:2] \"numeric\" \"factor\"\n",
      "  .. .. ..- attr(*, \"names\")= chr [1:2] \"Sepal.Length\" \"Species\"\n",
      " $ model        :'data.frame':\t150 obs. of  2 variables:\n",
      "  ..$ Sepal.Length: num [1:150] 5.1 4.9 4.7 4.6 5 5.4 4.6 5 4.4 4.9 ...\n",
      "  ..$ Species     : Factor w/ 3 levels \"setosa\",\"versicolor\",..: 1 1 1 1 1 1 1 1 1 1 ...\n",
      "  ..- attr(*, \"terms\")=Classes 'terms', 'formula'  language Sepal.Length ~ Species\n",
      "  .. .. ..- attr(*, \"variables\")= language list(Sepal.Length, Species)\n",
      "  .. .. ..- attr(*, \"factors\")= int [1:2, 1] 0 1\n",
      "  .. .. .. ..- attr(*, \"dimnames\")=List of 2\n",
      "  .. .. .. .. ..$ : chr [1:2] \"Sepal.Length\" \"Species\"\n",
      "  .. .. .. .. ..$ : chr \"Species\"\n",
      "  .. .. ..- attr(*, \"term.labels\")= chr \"Species\"\n",
      "  .. .. ..- attr(*, \"order\")= int 1\n",
      "  .. .. ..- attr(*, \"intercept\")= int 1\n",
      "  .. .. ..- attr(*, \"response\")= int 1\n",
      "  .. .. ..- attr(*, \".Environment\")=<environment: R_GlobalEnv> \n",
      "  .. .. ..- attr(*, \"predvars\")= language list(Sepal.Length, Species)\n",
      "  .. .. ..- attr(*, \"dataClasses\")= Named chr [1:2] \"numeric\" \"factor\"\n",
      "  .. .. .. ..- attr(*, \"names\")= chr [1:2] \"Sepal.Length\" \"Species\"\n",
      " - attr(*, \"class\")= chr \"lm\"\n"
     ]
    }
   ],
   "source": [
    "m1 <- lm(Sepal.Length ~ Species, data = iris)\n",
    "str(m1)"
   ]
  },
  {
   "cell_type": "code",
   "execution_count": 69,
   "id": "a9b9c6f8",
   "metadata": {},
   "outputs": [
    {
     "data": {
      "text/plain": [
       "lm(formula = Sepal.Length ~ Species, data = iris)"
      ]
     },
     "metadata": {},
     "output_type": "display_data"
    },
    {
     "data": {
      "text/html": [
       "<style>\n",
       ".dl-inline {width: auto; margin:0; padding: 0}\n",
       ".dl-inline>dt, .dl-inline>dd {float: none; width: auto; display: inline-block}\n",
       ".dl-inline>dt::after {content: \":\\0020\"; padding-right: .5ex}\n",
       ".dl-inline>dt:not(:first-of-type) {padding-left: .5ex}\n",
       "</style><dl class=dl-inline><dt>(Intercept)</dt><dd>5.006</dd><dt>Speciesversicolor</dt><dd>0.93</dd><dt>Speciesvirginica</dt><dd>1.582</dd></dl>\n"
      ],
      "text/latex": [
       "\\begin{description*}\n",
       "\\item[(Intercept)] 5.006\n",
       "\\item[Speciesversicolor] 0.93\n",
       "\\item[Speciesvirginica] 1.582\n",
       "\\end{description*}\n"
      ],
      "text/markdown": [
       "(Intercept)\n",
       ":   5.006Speciesversicolor\n",
       ":   0.93Speciesvirginica\n",
       ":   1.582\n",
       "\n"
      ],
      "text/plain": [
       "      (Intercept) Speciesversicolor  Speciesvirginica \n",
       "            5.006             0.930             1.582 "
      ]
     },
     "metadata": {},
     "output_type": "display_data"
    }
   ],
   "source": [
    "m1$call\n",
    "m1$coefficients "
   ]
  },
  {
   "cell_type": "markdown",
   "id": "e677ee5c-73ac-4088-bf20-07b75a569a75",
   "metadata": {},
   "source": [
    "The `lm()` output has many attributes on different levels that are difficult to extract but we can use `broom` package to do that."
   ]
  },
  {
   "cell_type": "code",
   "execution_count": 121,
   "id": "8de50656-ebe9-4c48-8958-5b098d56e785",
   "metadata": {},
   "outputs": [
    {
     "data": {
      "text/html": [
       "<table class=\"dataframe\">\n",
       "<caption>A tibble: 1 × 12</caption>\n",
       "<thead>\n",
       "\t<tr><th scope=col>r.squared</th><th scope=col>adj.r.squared</th><th scope=col>sigma</th><th scope=col>statistic</th><th scope=col>p.value</th><th scope=col>df</th><th scope=col>logLik</th><th scope=col>AIC</th><th scope=col>BIC</th><th scope=col>deviance</th><th scope=col>df.residual</th><th scope=col>nobs</th></tr>\n",
       "\t<tr><th scope=col>&lt;dbl&gt;</th><th scope=col>&lt;dbl&gt;</th><th scope=col>&lt;dbl&gt;</th><th scope=col>&lt;dbl&gt;</th><th scope=col>&lt;dbl&gt;</th><th scope=col>&lt;dbl&gt;</th><th scope=col>&lt;dbl&gt;</th><th scope=col>&lt;dbl&gt;</th><th scope=col>&lt;dbl&gt;</th><th scope=col>&lt;dbl&gt;</th><th scope=col>&lt;int&gt;</th><th scope=col>&lt;int&gt;</th></tr>\n",
       "</thead>\n",
       "<tbody>\n",
       "\t<tr><td>0.6187057</td><td>0.6135181</td><td>0.5147894</td><td>119.2645</td><td>1.669669e-31</td><td>2</td><td>-111.726</td><td>231.452</td><td>243.4945</td><td>38.9562</td><td>147</td><td>150</td></tr>\n",
       "</tbody>\n",
       "</table>\n"
      ],
      "text/latex": [
       "A tibble: 1 × 12\n",
       "\\begin{tabular}{llllllllllll}\n",
       " r.squared & adj.r.squared & sigma & statistic & p.value & df & logLik & AIC & BIC & deviance & df.residual & nobs\\\\\n",
       " <dbl> & <dbl> & <dbl> & <dbl> & <dbl> & <dbl> & <dbl> & <dbl> & <dbl> & <dbl> & <int> & <int>\\\\\n",
       "\\hline\n",
       "\t 0.6187057 & 0.6135181 & 0.5147894 & 119.2645 & 1.669669e-31 & 2 & -111.726 & 231.452 & 243.4945 & 38.9562 & 147 & 150\\\\\n",
       "\\end{tabular}\n"
      ],
      "text/markdown": [
       "\n",
       "A tibble: 1 × 12\n",
       "\n",
       "| r.squared &lt;dbl&gt; | adj.r.squared &lt;dbl&gt; | sigma &lt;dbl&gt; | statistic &lt;dbl&gt; | p.value &lt;dbl&gt; | df &lt;dbl&gt; | logLik &lt;dbl&gt; | AIC &lt;dbl&gt; | BIC &lt;dbl&gt; | deviance &lt;dbl&gt; | df.residual &lt;int&gt; | nobs &lt;int&gt; |\n",
       "|---|---|---|---|---|---|---|---|---|---|---|---|\n",
       "| 0.6187057 | 0.6135181 | 0.5147894 | 119.2645 | 1.669669e-31 | 2 | -111.726 | 231.452 | 243.4945 | 38.9562 | 147 | 150 |\n",
       "\n"
      ],
      "text/plain": [
       "  r.squared adj.r.squared sigma     statistic p.value      df logLik   AIC    \n",
       "1 0.6187057 0.6135181     0.5147894 119.2645  1.669669e-31 2  -111.726 231.452\n",
       "  BIC      deviance df.residual nobs\n",
       "1 243.4945 38.9562  147         150 "
      ]
     },
     "metadata": {},
     "output_type": "display_data"
    },
    {
     "data": {
      "text/html": [
       "<table class=\"dataframe\">\n",
       "<caption>A tibble: 3 × 5</caption>\n",
       "<thead>\n",
       "\t<tr><th scope=col>term</th><th scope=col>estimate</th><th scope=col>std.error</th><th scope=col>statistic</th><th scope=col>p.value</th></tr>\n",
       "\t<tr><th scope=col>&lt;chr&gt;</th><th scope=col>&lt;dbl&gt;</th><th scope=col>&lt;dbl&gt;</th><th scope=col>&lt;dbl&gt;</th><th scope=col>&lt;dbl&gt;</th></tr>\n",
       "</thead>\n",
       "<tbody>\n",
       "\t<tr><td>(Intercept)      </td><td>5.006</td><td>0.07280222</td><td>68.761639</td><td>1.134286e-113</td></tr>\n",
       "\t<tr><td>Speciesversicolor</td><td>0.930</td><td>0.10295789</td><td> 9.032819</td><td> 8.770194e-16</td></tr>\n",
       "\t<tr><td>Speciesvirginica </td><td>1.582</td><td>0.10295789</td><td>15.365506</td><td> 2.214821e-32</td></tr>\n",
       "</tbody>\n",
       "</table>\n"
      ],
      "text/latex": [
       "A tibble: 3 × 5\n",
       "\\begin{tabular}{lllll}\n",
       " term & estimate & std.error & statistic & p.value\\\\\n",
       " <chr> & <dbl> & <dbl> & <dbl> & <dbl>\\\\\n",
       "\\hline\n",
       "\t (Intercept)       & 5.006 & 0.07280222 & 68.761639 & 1.134286e-113\\\\\n",
       "\t Speciesversicolor & 0.930 & 0.10295789 &  9.032819 &  8.770194e-16\\\\\n",
       "\t Speciesvirginica  & 1.582 & 0.10295789 & 15.365506 &  2.214821e-32\\\\\n",
       "\\end{tabular}\n"
      ],
      "text/markdown": [
       "\n",
       "A tibble: 3 × 5\n",
       "\n",
       "| term &lt;chr&gt; | estimate &lt;dbl&gt; | std.error &lt;dbl&gt; | statistic &lt;dbl&gt; | p.value &lt;dbl&gt; |\n",
       "|---|---|---|---|---|\n",
       "| (Intercept)       | 5.006 | 0.07280222 | 68.761639 | 1.134286e-113 |\n",
       "| Speciesversicolor | 0.930 | 0.10295789 |  9.032819 |  8.770194e-16 |\n",
       "| Speciesvirginica  | 1.582 | 0.10295789 | 15.365506 |  2.214821e-32 |\n",
       "\n"
      ],
      "text/plain": [
       "  term              estimate std.error  statistic p.value      \n",
       "1 (Intercept)       5.006    0.07280222 68.761639 1.134286e-113\n",
       "2 Speciesversicolor 0.930    0.10295789  9.032819  8.770194e-16\n",
       "3 Speciesvirginica  1.582    0.10295789 15.365506  2.214821e-32"
      ]
     },
     "metadata": {},
     "output_type": "display_data"
    },
    {
     "data": {
      "text/html": [
       "<table class=\"dataframe\">\n",
       "<caption>A tibble: 2 × 8</caption>\n",
       "<thead>\n",
       "\t<tr><th scope=col>Sepal.Length</th><th scope=col>Species</th><th scope=col>.fitted</th><th scope=col>.resid</th><th scope=col>.hat</th><th scope=col>.sigma</th><th scope=col>.cooksd</th><th scope=col>.std.resid</th></tr>\n",
       "\t<tr><th scope=col>&lt;dbl&gt;</th><th scope=col>&lt;fct&gt;</th><th scope=col>&lt;dbl&gt;</th><th scope=col>&lt;dbl&gt;</th><th scope=col>&lt;dbl&gt;</th><th scope=col>&lt;dbl&gt;</th><th scope=col>&lt;dbl&gt;</th><th scope=col>&lt;dbl&gt;</th></tr>\n",
       "</thead>\n",
       "<tbody>\n",
       "\t<tr><td>5.1</td><td>setosa</td><td>5.006</td><td> 0.094</td><td>0.02</td><td>0.5164896</td><td>0.0002314478</td><td> 0.1844528</td></tr>\n",
       "\t<tr><td>4.9</td><td>setosa</td><td>5.006</td><td>-0.106</td><td>0.02</td><td>0.5164734</td><td>0.0002943127</td><td>-0.2079999</td></tr>\n",
       "</tbody>\n",
       "</table>\n"
      ],
      "text/latex": [
       "A tibble: 2 × 8\n",
       "\\begin{tabular}{llllllll}\n",
       " Sepal.Length & Species & .fitted & .resid & .hat & .sigma & .cooksd & .std.resid\\\\\n",
       " <dbl> & <fct> & <dbl> & <dbl> & <dbl> & <dbl> & <dbl> & <dbl>\\\\\n",
       "\\hline\n",
       "\t 5.1 & setosa & 5.006 &  0.094 & 0.02 & 0.5164896 & 0.0002314478 &  0.1844528\\\\\n",
       "\t 4.9 & setosa & 5.006 & -0.106 & 0.02 & 0.5164734 & 0.0002943127 & -0.2079999\\\\\n",
       "\\end{tabular}\n"
      ],
      "text/markdown": [
       "\n",
       "A tibble: 2 × 8\n",
       "\n",
       "| Sepal.Length &lt;dbl&gt; | Species &lt;fct&gt; | .fitted &lt;dbl&gt; | .resid &lt;dbl&gt; | .hat &lt;dbl&gt; | .sigma &lt;dbl&gt; | .cooksd &lt;dbl&gt; | .std.resid &lt;dbl&gt; |\n",
       "|---|---|---|---|---|---|---|---|\n",
       "| 5.1 | setosa | 5.006 |  0.094 | 0.02 | 0.5164896 | 0.0002314478 |  0.1844528 |\n",
       "| 4.9 | setosa | 5.006 | -0.106 | 0.02 | 0.5164734 | 0.0002943127 | -0.2079999 |\n",
       "\n"
      ],
      "text/plain": [
       "  Sepal.Length Species .fitted .resid .hat .sigma    .cooksd      .std.resid\n",
       "1 5.1          setosa  5.006    0.094 0.02 0.5164896 0.0002314478  0.1844528\n",
       "2 4.9          setosa  5.006   -0.106 0.02 0.5164734 0.0002943127 -0.2079999"
      ]
     },
     "metadata": {},
     "output_type": "display_data"
    }
   ],
   "source": [
    "groom_model <- function(model) {\n",
    "  list(\n",
    "    model = broom::glance(model),\n",
    "    coefficients = broom::tidy(model),\n",
    "    observations = broom::augment(model) %>% head(2)\n",
    "  )\n",
    "}\n",
    "\n",
    "# Multi-assigning the result to three variables at once\n",
    "c(mdl, cff, obs) %<-% groom_model(m1)  # %<-% operator is from the zeallot package. It unpacks lists and assignes them to multiple variables\n",
    "\n",
    "# See these individual variables\n",
    "mdl\n",
    "cff\n",
    "obs"
   ]
  },
  {
   "cell_type": "markdown",
   "id": "8d783691-d01f-4c93-8db3-89473523fd1e",
   "metadata": {},
   "source": [
    "<u>Creating attributes</u>"
   ]
  },
  {
   "cell_type": "code",
   "execution_count": 131,
   "id": "aa61095c-4d22-44e4-93f3-92be63365796",
   "metadata": {},
   "outputs": [
    {
     "data": {
      "text/plain": [
       "$names\n",
       "[1] \"speed\" \"dist\" \n",
       "\n",
       "$class\n",
       "[1] \"data.frame\"\n",
       "\n",
       "$row.names\n",
       " [1]  1  2  3  4  5  6  7  8  9 10 11 12 13 14 15 16 17 18 19 20 21 22 23 24 25\n",
       "[26] 26 27 28 29 30 31 32 33 34 35 36 37 38 39 40 41 42 43 44 45 46 47 48 49 50\n",
       "\n",
       "$formula\n",
       "dist ~ speed\n",
       "<environment: 0x0000000009f58168>\n"
      ]
     },
     "metadata": {},
     "output_type": "display_data"
    },
    {
     "data": {
      "image/png": "[encoded data removed]",
      "text/plain": [
       "plot without title"
      ]
     },
     "metadata": {
      "image/png": {
       "height": 420,
       "width": 420
      }
     },
     "output_type": "display_data"
    }
   ],
   "source": [
    "pipeable_plot <- function(data, formula) {\n",
    "  plot(formula, data)\n",
    "  attr(data, \"formula\") <- formula   # Add a \"formula\" attribute to data\n",
    "  invisible(data) # do not print \n",
    "}\n",
    "\n",
    "# From previous exercise\n",
    "plt_dist_vs_speed <- cars %>% \n",
    "  pipeable_plot(dist ~ speed)\n",
    "\n",
    "attributes(plt_dist_vs_speed)"
   ]
  },
  {
   "cell_type": "markdown",
   "id": "711f1f74-8d80-46b2-9cbc-0958b32b1a90",
   "metadata": {},
   "source": [
    "<a name=\"toc_852741_4\"></a>\n",
    "## 4.  Scope and precendence\n",
    "\n",
    "<u>Scope</u>\n",
    "\n",
    "When we call a function, R gives it an **environment** to store its variables. \n",
    "\n",
    "```R\n",
    "x_times_y <- function(x){\n",
    "  x * y\n",
    "}\n",
    "```\n",
    "\n",
    "With the above example, `x` will be added to the function environment, then the `x * y` calculation will be performed in that environment. However, note that there is no `y` argument to the function! So when we call the function, we get an error stating that `y` wasn't found. Let's make one small change to the code: we define y outside the function: \n",
    "\n",
    "```R\n",
    "x_times_y <- function(x){\n",
    "  x * y\n",
    "}\n",
    "y <- 4\n",
    "```\n",
    "\n",
    "Now the function call works. R used the same process here as we saw earlier with the exists function. When it couldn't find `y` inside the function's environment, it looked in the **parent environment**. If R was to find `y` in the function environment, it wouldn't look further in the parent environment.\n",
    "\n",
    "After running the above code, let's try to print `x`:\n",
    "```R\n",
    "print(x)\n",
    "```\n",
    "This gives an error because `x` is being looked for in the **global environment**, but it isn't there. The function's environment isn't a parent of the global environment, it's a **child** instead. So R can't look there, which means that `x` can't be found, and you get an error.\n",
    "\n",
    "So a function can look for variables outside its environment, but the reverse isn't true: you can't look inside the function's environment from outside.\n",
    "\n",
    "<u>Precedence</u>\n",
    "```R\n",
    "x_times_y <- function(x){\n",
    "  x <- 9\n",
    "  y <- 6\n",
    "  x * y\n",
    "}\n",
    "\n",
    "x_times_y(10)\n",
    "```\n",
    "\n",
    "Above `x` is **passed into** the function and also **defined inside** the function body. So which gets used? When the function is first called, `x` is set to 10 in the function's environment. Then, as R works through the function body, `x` is changed to 9. So values defined inside the function take **precedence** over values passed into the function, and the answer is 9 * 6 = 54."
   ]
  },
  {
   "cell_type": "markdown",
   "id": "4f17b9c6-c9c5-4fc6-b7ed-a91f051c1834",
   "metadata": {},
   "source": [
    "<a name=\"toc_852741_4.1\"></a>\n",
    "**4.1 Environments**\n",
    "\n",
    "Environments are used to store other variables. Mostly, you can think of them as lists, but there's an important extra property that is relevant to writing functions. Every environment has a **parent environment** (except the **empty** environment, at the root of the environment tree). This determines which variables R know about at different places in your code.\n",
    "\n",
    "- `list2env()` - Creates an environment from a list\n",
    "- `parent.env()` -  Find the parent environment of a given environment\n",
    "- `environmentName()` - Print the environment name\n",
    "- `search()` - list all active environments\n",
    "- `exists()` - check if a given variable is present in the environment. First R tries to find the variable in the current environment, but if it cannot find it, it will look in the parent environment, then the grandparent environment, and so on until it finds it. If we are only interested in the current environment, we can turn off the inheritance with `inherits = FALSE`."
   ]
  },
  {
   "cell_type": "code",
   "execution_count": 139,
   "id": "18a82c9c-3ce4-419a-8d12-8b018a31cf3b",
   "metadata": {},
   "outputs": [
    {
     "data": {
      "text/html": [
       "<style>\n",
       ".list-inline {list-style: none; margin:0; padding: 0}\n",
       ".list-inline>li {display: inline-block}\n",
       ".list-inline>li:not(:last-child)::after {content: \"\\00b7\"; padding: 0 .5ex}\n",
       "</style>\n",
       "<ol class=list-inline><li>'.GlobalEnv'</li><li>'package:zeallot'</li><li>'package:broom'</li><li>'package:assertive'</li><li>'package:forcats'</li><li>'package:stringr'</li><li>'package:dplyr'</li><li>'package:purrr'</li><li>'package:readr'</li><li>'package:tidyr'</li><li>'package:tibble'</li><li>'package:ggplot2'</li><li>'package:tidyverse'</li><li>'jupyter:irkernel'</li><li>'package:stats'</li><li>'package:graphics'</li><li>'package:grDevices'</li><li>'package:utils'</li><li>'package:datasets'</li><li>'package:methods'</li><li>'Autoloads'</li><li>'package:base'</li></ol>\n"
      ],
      "text/latex": [
       "\\begin{enumerate*}\n",
       "\\item '.GlobalEnv'\n",
       "\\item 'package:zeallot'\n",
       "\\item 'package:broom'\n",
       "\\item 'package:assertive'\n",
       "\\item 'package:forcats'\n",
       "\\item 'package:stringr'\n",
       "\\item 'package:dplyr'\n",
       "\\item 'package:purrr'\n",
       "\\item 'package:readr'\n",
       "\\item 'package:tidyr'\n",
       "\\item 'package:tibble'\n",
       "\\item 'package:ggplot2'\n",
       "\\item 'package:tidyverse'\n",
       "\\item 'jupyter:irkernel'\n",
       "\\item 'package:stats'\n",
       "\\item 'package:graphics'\n",
       "\\item 'package:grDevices'\n",
       "\\item 'package:utils'\n",
       "\\item 'package:datasets'\n",
       "\\item 'package:methods'\n",
       "\\item 'Autoloads'\n",
       "\\item 'package:base'\n",
       "\\end{enumerate*}\n"
      ],
      "text/markdown": [
       "1. '.GlobalEnv'\n",
       "2. 'package:zeallot'\n",
       "3. 'package:broom'\n",
       "4. 'package:assertive'\n",
       "5. 'package:forcats'\n",
       "6. 'package:stringr'\n",
       "7. 'package:dplyr'\n",
       "8. 'package:purrr'\n",
       "9. 'package:readr'\n",
       "10. 'package:tidyr'\n",
       "11. 'package:tibble'\n",
       "12. 'package:ggplot2'\n",
       "13. 'package:tidyverse'\n",
       "14. 'jupyter:irkernel'\n",
       "15. 'package:stats'\n",
       "16. 'package:graphics'\n",
       "17. 'package:grDevices'\n",
       "18. 'package:utils'\n",
       "19. 'package:datasets'\n",
       "20. 'package:methods'\n",
       "21. 'Autoloads'\n",
       "22. 'package:base'\n",
       "\n",
       "\n"
      ],
      "text/plain": [
       " [1] \".GlobalEnv\"        \"package:zeallot\"   \"package:broom\"    \n",
       " [4] \"package:assertive\" \"package:forcats\"   \"package:stringr\"  \n",
       " [7] \"package:dplyr\"     \"package:purrr\"     \"package:readr\"    \n",
       "[10] \"package:tidyr\"     \"package:tibble\"    \"package:ggplot2\"  \n",
       "[13] \"package:tidyverse\" \"jupyter:irkernel\"  \"package:stats\"    \n",
       "[16] \"package:graphics\"  \"package:grDevices\" \"package:utils\"    \n",
       "[19] \"package:datasets\"  \"package:methods\"   \"Autoloads\"        \n",
       "[22] \"package:base\"     "
      ]
     },
     "metadata": {},
     "output_type": "display_data"
    }
   ],
   "source": [
    "search()"
   ]
  },
  {
   "cell_type": "code",
   "execution_count": 142,
   "id": "c5c5c4a0-fa5b-4733-94fb-bbace1d2b053",
   "metadata": {},
   "outputs": [
    {
     "data": {
      "text/plain": [
       "capitals :  chr [1:3] \"Cape Town\" \"Bloemfontein\" \"Pretoria\"\n",
       "national_parks :  chr [1:3] \"Addo Elephant National Park\" \"Agulhas National Park\" ...\n",
       "popu :  num [1:3] 40583573 44819778 47390900"
      ]
     },
     "metadata": {},
     "output_type": "display_data"
    }
   ],
   "source": [
    "rsa_lst <- list(\n",
    "  capitals = c(\"Cape Town\", \"Bloemfontein\", \"Pretoria\"),\n",
    "  national_parks = c(\"Addo Elephant National Park\", \"Agulhas National Park\", \"Bontebok National Park\"),\n",
    "  popu = c(40583573, 44819778, 47390900)\n",
    ")\n",
    "\n",
    "ls.str(rsa_lst) # List the structure of each element of rsa_lst"
   ]
  },
  {
   "cell_type": "code",
   "execution_count": 150,
   "id": "1207f857-e178-49bf-9fd0-816c79cd9624",
   "metadata": {},
   "outputs": [
    {
     "data": {
      "text/plain": [
       "capitals :  chr [1:3] \"Cape Town\" \"Bloemfontein\" \"Pretoria\"\n",
       "national_parks :  chr [1:3] \"Addo Elephant National Park\" \"Agulhas National Park\" ...\n",
       "popu :  num [1:3] 40583573 44819778 47390900"
      ]
     },
     "metadata": {},
     "output_type": "display_data"
    }
   ],
   "source": [
    "rsa_env <- list2env(rsa_lst) # Convert the list to an environment\n",
    "ls.str(rsa_env) # List the structure of each variable"
   ]
  },
  {
   "cell_type": "code",
   "execution_count": 145,
   "id": "3669cd56-701e-48ff-bb4a-852b04748421",
   "metadata": {},
   "outputs": [
    {
     "data": {
      "text/html": [
       "'R_GlobalEnv'"
      ],
      "text/latex": [
       "'R\\_GlobalEnv'"
      ],
      "text/markdown": [
       "'R_GlobalEnv'"
      ],
      "text/plain": [
       "[1] \"R_GlobalEnv\""
      ]
     },
     "metadata": {},
     "output_type": "display_data"
    }
   ],
   "source": [
    "parent <- parent.env(rsa_env) # Find the parent environment of rsa_env\n",
    "environmentName(parent) # Print its name"
   ]
  },
  {
   "cell_type": "code",
   "execution_count": 159,
   "id": "399b6586-5468-401d-89d0-317347324f64",
   "metadata": {},
   "outputs": [
    {
     "data": {
      "text/html": [
       "TRUE"
      ],
      "text/latex": [
       "TRUE"
      ],
      "text/markdown": [
       "TRUE"
      ],
      "text/plain": [
       "[1] TRUE"
      ]
     },
     "metadata": {},
     "output_type": "display_data"
    }
   ],
   "source": [
    "# Does population exist in rsa_env?\n",
    "exists(\"popu\", envir = rsa_env) "
   ]
  },
  {
   "cell_type": "markdown",
   "id": "11731b1d-bcc2-48a7-bb70-171f44bf8276",
   "metadata": {},
   "source": [
    "<a name=\"toc_852741_4.2\"></a>\n",
    "**4.2 Scope and Precedence**"
   ]
  },
  {
   "cell_type": "code",
   "execution_count": 171,
   "id": "1965d0e3-75f2-467d-9075-2f0bf4fda26d",
   "metadata": {},
   "outputs": [
    {
     "ename": "ERROR",
     "evalue": "Error in x_plus_y(5): object 'z' not found\n",
     "output_type": "error",
     "traceback": [
      "Error in x_plus_y(5): object 'z' not found\nTraceback:\n",
      "1. x_plus_y(5)"
     ]
    }
   ],
   "source": [
    "x_plus_y <- function(x) {\n",
    "  x + z\n",
    "}\n",
    "\n",
    "x_plus_y(5)"
   ]
  },
  {
   "cell_type": "code",
   "execution_count": 172,
   "id": "de441f2f-033d-498b-be83-904fc28fc7b0",
   "metadata": {},
   "outputs": [
    {
     "data": {
      "text/html": [
       "7"
      ],
      "text/latex": [
       "7"
      ],
      "text/markdown": [
       "7"
      ],
      "text/plain": [
       "[1] 7"
      ]
     },
     "metadata": {},
     "output_type": "display_data"
    }
   ],
   "source": [
    "x_plus_y <- function(x) {\n",
    "  x + z\n",
    "}\n",
    "\n",
    "z <- 2\n",
    "\n",
    "x_plus_y(5)"
   ]
  },
  {
   "cell_type": "code",
   "execution_count": 173,
   "id": "e424fb15-50b4-46c0-ab40-34d1067263c9",
   "metadata": {},
   "outputs": [
    {
     "data": {
      "text/html": [
       "8"
      ],
      "text/latex": [
       "8"
      ],
      "text/markdown": [
       "8"
      ],
      "text/plain": [
       "[1] 8"
      ]
     },
     "metadata": {},
     "output_type": "display_data"
    },
    {
     "name": "stdout",
     "output_type": "stream",
     "text": [
      "[1] 7\n"
     ]
    },
    {
     "ename": "ERROR",
     "evalue": "Error in print(x): object 'x' not found\n",
     "output_type": "error",
     "traceback": [
      "Error in print(x): object 'x' not found\nTraceback:\n",
      "1. print(x)"
     ]
    }
   ],
   "source": [
    "x_plus_y <- function(x) {\n",
    "  y <- 3\n",
    "  x + y\n",
    "}\n",
    "y <- 7\n",
    "\n",
    "x_plus_y(5)\n",
    "\n",
    "print(y)\n",
    "print(x)"
   ]
  },
  {
   "cell_type": "code",
   "execution_count": 176,
   "id": "f5db3c5b-a36e-4152-9bf7-cbeda60ec054",
   "metadata": {},
   "outputs": [
    {
     "data": {
      "text/html": [
       "4"
      ],
      "text/latex": [
       "4"
      ],
      "text/markdown": [
       "4"
      ],
      "text/plain": [
       "[1] 4"
      ]
     },
     "metadata": {},
     "output_type": "display_data"
    },
    {
     "name": "stdout",
     "output_type": "stream",
     "text": [
      "[1] 10\n"
     ]
    },
    {
     "ename": "ERROR",
     "evalue": "Error in print(x): object 'x' not found\n",
     "output_type": "error",
     "traceback": [
      "Error in print(x): object 'x' not found\nTraceback:\n",
      "1. print(x)"
     ]
    }
   ],
   "source": [
    "x_plus_y <- function(x) {\n",
    "  x <- 1\n",
    "  y <- 3\n",
    "  x + y\n",
    "}\n",
    "y <- 10\n",
    "\n",
    "x_plus_y(5)\n",
    "\n",
    "print(y)\n",
    "print(x)"
   ]
  }
 ],
 "metadata": {
  "kernelspec": {
   "display_name": "R",
   "language": "R",
   "name": "ir"
  },
  "language_info": {
   "codemirror_mode": "r",
   "file_extension": ".r",
   "mimetype": "text/x-r-source",
   "name": "R",
   "pygments_lexer": "r",
   "version": "4.1.3"
  }
 },
 "nbformat": 4,
 "nbformat_minor": 5
}
