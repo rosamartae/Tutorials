{
 "cells": [
  {
   "cell_type": "markdown",
   "id": "de13b136-22a8-4c44-8ebe-a9137c0168d9",
   "metadata": {},
   "source": [
    "# String Manipulation with stringr in R\n",
    "## -- DataCamp - R Programmer Career Track - Course 7 --\n",
    "\n",
    " **Note**\n",
    "\n",
    "To use this code, select the R environment in Anaconda\n",
    " \n",
    " **Used packages**\n",
    " - tidyverse\n",
    " - rebus\n",
    " - stringi - read txt\n",
    " - babynames - data package\n",
    " \n",
    "**Table of content**\n",
    "- [&nbsp;&nbsp;1. String basics](#toc_46431_1)\n",
    "    - [&nbsp;&nbsp;1.1  Entering strings](#toc_46431_1.1)\n",
    "    - [&nbsp;&nbsp;1.2  Convert numbers to string using formats](#toc_46431_1.2)\n",
    "    - [&nbsp;&nbsp;1.3  Paste together strings and variables](#toc_46431_1.3)\n",
    "- [&nbsp;&nbsp;2. Introducting stringr](#toc_46431_2)\n",
    "    - [&nbsp;&nbsp;2.1  Basic string functions](#toc_46431_2.1)\n",
    "    - [&nbsp;&nbsp;2.2  Subset strings and detect matches using patterns](#toc_46431_2.2)\n",
    "    - [&nbsp;&nbsp;2.3  Join and Split strings](#toc_46431_2.3)\n",
    "    - [&nbsp;&nbsp;2.4  Remove and replace matches in string](#toc_46431_2.4)  \n",
    "- [&nbsp;&nbsp;3. Regular expressions](#toc_46431_3)\n",
    "    - [&nbsp;&nbsp;3.1  Stringr regular expressions](#toc_46431_3.1)\n",
    "    - [&nbsp;&nbsp;3.2  Using the rebus package](#toc_46431_3.2)\n",
    "- [&nbsp;&nbsp;4. Advanced string manipulation](#toc_46431_4)\n",
    "    - [&nbsp;&nbsp;4.1  Capture groups](#toc_46431_4.1)\n",
    "    - [&nbsp;&nbsp;4.2  Backreferences](#toc_46431_4.2)\n",
    "    - [&nbsp;&nbsp;4.3  Unicode matching](#toc_46431_4.3)"
   ]
  },
  {
   "cell_type": "markdown",
   "id": "c87dcff8-4bf4-4fd8-a430-03bcccacd450",
   "metadata": {},
   "source": [
    "**Set environment and plot size**"
   ]
  },
  {
   "cell_type": "code",
   "execution_count": 2,
   "id": "b0ba484f-1189-45b1-84ed-384950546f67",
   "metadata": {},
   "outputs": [],
   "source": [
    "suppressMessages(library(tidyverse))\n",
    "suppressMessages(library(rebus))\n",
    "suppressMessages(library(stringi))\n",
    "suppressMessages(library(babynames))\n",
    "options(repr.plot.width=7, repr.plot.height=7) # controls display format\n",
    "theme_set(theme_grey(base_size =10))"
   ]
  },
  {
   "cell_type": "markdown",
   "id": "3da1e9d9-6396-43b9-b406-bb0f51a0a027",
   "metadata": {},
   "source": [
    "Note: if the above code return an error message:\n",
    "- Check that the correct R environment is selected in Anaconda\n",
    "- Restart computer"
   ]
  },
  {
   "cell_type": "markdown",
   "id": "f19d01cb-0e93-4f03-827b-18025357616b",
   "metadata": {},
   "source": [
    "**Import data**"
   ]
  },
  {
   "cell_type": "code",
   "execution_count": 117,
   "id": "c282df5a-41df-45cd-bf32-a9ccbbb1e319",
   "metadata": {},
   "outputs": [],
   "source": [
    "adverbs <- readRDS(\"data/strings/adverbs.RDS\")\n",
    "catcidents <- readRDS(\"data/strings/catcidents.RDS\")\n",
    "dna <- readRDS(\"data/strings/dna.RDS\")\n",
    "narratives <- readRDS(\"data/strings/narratives.RDS\")"
   ]
  },
  {
   "cell_type": "markdown",
   "id": "9c091187-c665-4093-9f3f-fc9953dcf50c",
   "metadata": {},
   "source": [
    "<a name=\"toc_46431_1\"></a>\n",
    "## 1.   String basics"
   ]
  },
  {
   "cell_type": "markdown",
   "id": "22307def-6bc4-49fd-b926-3de92fd9cd50",
   "metadata": {},
   "source": [
    "<a name=\"toc_46431_1.1\"></a>\n",
    "**1.1 Entering strings**\n",
    " \n",
    "- To tell R something is a string you surround it with double quotes `\" \"`.\n",
    "- If we need to input a string that has double quotes inside it, we can\n",
    "    - use single quotes `' '`, \n",
    "    - use **escape sequence** with `\\\"`. Actually, as R always prints strings with double quotes (even if we used single quotes to define them), the double quotes inside the printed string will always have a backslash in front of them `\\\"`.\n",
    "    \n",
    "<u>Good practices</u>\n",
    "- If the string's text does not contain any quotes, wrap it in double quotes.\n",
    "- If the text contains double quotes but not single quotes, wrap it in single quotes. \n",
    "- If the text contains both kinds of quotes, wrap it in double quotes and escape the double quotes in the text.\n",
    "\n",
    "<u>Other uses of escape sequences</u>:\n",
    "- For `\"\\\"` use `\"\\\\\"`\n",
    "- newline: `\"\\n\"`\n",
    "- Unicode characters: `\"\\u\"`. Use [8 hex digits sequence](http://www.unicode.org/charts/) for a particular Unicode character. E.g. writeLines(\"\\U1F30D\") may not work in Jupyter.\n",
    "\n",
    "<u>Some common ways to print strings:</u>:\n",
    "- `print()`\n",
    "- `writeLines()`\n",
    "- `cat()`"
   ]
  },
  {
   "cell_type": "code",
   "execution_count": 3,
   "id": "035c4fcb-4e06-4001-9c18-c5d698a04d2b",
   "metadata": {},
   "outputs": [
    {
     "name": "stdout",
     "output_type": "stream",
     "text": [
      "[1] \"This is a string\"\n",
      "[1] \"I said \\\"hi!\\\"\"\n",
      "[1] \"I'd say\\\"hi!\\\"\"\n"
     ]
    }
   ],
   "source": [
    "print(\"This is a string\")\n",
    "print('I said \"hi!\"')\n",
    "print(\"I'd say\\\"hi!\\\"\")"
   ]
  },
  {
   "cell_type": "markdown",
   "id": "8d3cc616-3dad-4b41-b4f6-26d0a6ff47aa",
   "metadata": {},
   "source": [
    "To see the string the intended way, use `writelines()` or `cat()` instead of `print()`:"
   ]
  },
  {
   "cell_type": "code",
   "execution_count": 4,
   "id": "cd41aedf-964e-49c0-8e0c-93e077c5a16d",
   "metadata": {},
   "outputs": [
    {
     "name": "stdout",
     "output_type": "stream",
     "text": [
      "I'd say\"hi!\"\n",
      "I'd say\"hi!\""
     ]
    }
   ],
   "source": [
    "writeLines(\"I'd say\\\"hi!\\\"\")\n",
    "cat(\"I'd say\\\"hi!\\\"\")"
   ]
  },
  {
   "cell_type": "markdown",
   "id": "c46c7c40-5fec-4140-bc33-d2891650af41",
   "metadata": {},
   "source": [
    "These functions can also be used to concatenate strings:"
   ]
  },
  {
   "cell_type": "code",
   "execution_count": 5,
   "id": "7c7fbbc8-0055-4363-9d81-1f6d0229c7c7",
   "metadata": {},
   "outputs": [
    {
     "name": "stdout",
     "output_type": "stream",
     "text": [
      "[1] \"The table was a large one, but the three were all crowded together at one corner of it:\"                           \n",
      "[2] \"\\\"No room! No room!\\\" they cried out when they saw Alice coming.\"                                                  \n",
      "[3] \"\\\"There's plenty of room!\\\" said Alice indignantly, and she sat down in a large arm-chair at one end of the table.\"\n",
      "\n",
      "\n",
      "The table was a large one, but the three were all crowded together at one corner of it: \"No room! No room!\" they cried out when they saw Alice coming. \"There's plenty of room!\" said Alice indignantly, and she sat down in a large arm-chair at one end of the table. \n",
      "\n",
      "The table was a large one, but the three were all crowded together at one corner of it: \"No room! No room!\" they cried out when they saw Alice coming. \"There's plenty of room!\" said Alice indignantly, and she sat down in a large arm-chair at one end of the table."
     ]
    }
   ],
   "source": [
    "line1 <- \"The table was a large one, but the three were all crowded together at one corner of it:\"\n",
    "line2 <- '\"No room! No room!\" they cried out when they saw Alice coming.'\n",
    "line3 <- \"\\\"There's plenty of room!\\\" said Alice indignantly, and she sat down in a large arm-chair at one end of the table.\"\n",
    "lines <- c(line1, line2, line3)\n",
    "\n",
    "print(lines) \n",
    "writeLines(\"\\n\")\n",
    "\n",
    "writeLines(lines, sep = \" \")\n",
    "writeLines(\"\\n\")\n",
    "\n",
    "cat(lines) # adds space by defaul"
   ]
  },
  {
   "cell_type": "markdown",
   "id": "616f6e6e-cf8c-4bac-ac2e-79306e1d15e7",
   "metadata": {},
   "source": [
    "<a name=\"toc_46431_1.2\"></a>\n",
    "**1.2 Convert numbers to string using formats**\n",
    "\n",
    "- `as.character()` - gives an unformatted character representation of the number. Trailing zeros are removed\n",
    "$$$$\n",
    "- `format()` - Arguments:\n",
    "    - `scientific = TRUE`\n",
    "    - `digits =` When the representation is scientific, the digits argument is the number of digits before the exponent. When the representation is fixed (normal), digits controls the significant digits used for the smallest (in magnitude) number. \n",
    "    - `trim = ` - if FALSE, values are right-justified to a common width; if TRUE the leading blanks for justification are suppressed.\n",
    "    - `big.mark =` - used for prettying (longish) numerical and complex sequences.\n",
    "    - `nsmall` - the minimum number of digits to the right of the decimal point.\n",
    "$$$$\n",
    "- `formatC()` -  Has more arguments than `format()` and formats numbers individually. Some examples:\n",
    "    - `format =` \"f\": fixed (normal) format; \"e\": scientific format; \"g\": use the scientific format only if it saves space (default)\n",
    "   - `digits =` if \"g\": significant digits; if \"f\": number of digits \n",
    "   - `flag =`  allows modifiers:\n",
    "       - `+`: force the display of the sign \n",
    "       - `-`: left align numbers \n",
    "       - `0`: pad numbers with leading zeros"
   ]
  },
  {
   "cell_type": "markdown",
   "id": "2057d642-0f40-4db2-8944-c288aff2d7dd",
   "metadata": {},
   "source": [
    "<u>`as.character()` and `as.numeric()`</u> "
   ]
  },
  {
   "cell_type": "code",
   "execution_count": 6,
   "id": "dd37d5de-2ca0-47e3-896b-aafe24ee80af",
   "metadata": {},
   "outputs": [
    {
     "data": {
      "text/html": [
       "<style>\n",
       ".list-inline {list-style: none; margin:0; padding: 0}\n",
       ".list-inline>li {display: inline-block}\n",
       ".list-inline>li:not(:last-child)::after {content: \"\\00b7\"; padding: 0 .5ex}\n",
       "</style>\n",
       "<ol class=list-inline><li>'1.3'</li><li>'0.01'</li></ol>\n"
      ],
      "text/latex": [
       "\\begin{enumerate*}\n",
       "\\item '1.3'\n",
       "\\item '0.01'\n",
       "\\end{enumerate*}\n"
      ],
      "text/markdown": [
       "1. '1.3'\n",
       "2. '0.01'\n",
       "\n",
       "\n"
      ],
      "text/plain": [
       "[1] \"1.3\"  \"0.01\""
      ]
     },
     "metadata": {},
     "output_type": "display_data"
    },
    {
     "data": {
      "text/html": [
       "<style>\n",
       ".list-inline {list-style: none; margin:0; padding: 0}\n",
       ".list-inline>li {display: inline-block}\n",
       ".list-inline>li:not(:last-child)::after {content: \"\\00b7\"; padding: 0 .5ex}\n",
       "</style>\n",
       "<ol class=list-inline><li>1.3</li><li>0.01</li></ol>\n"
      ],
      "text/latex": [
       "\\begin{enumerate*}\n",
       "\\item 1.3\n",
       "\\item 0.01\n",
       "\\end{enumerate*}\n"
      ],
      "text/markdown": [
       "1. 1.3\n",
       "2. 0.01\n",
       "\n",
       "\n"
      ],
      "text/plain": [
       "[1] 1.30 0.01"
      ]
     },
     "metadata": {},
     "output_type": "display_data"
    }
   ],
   "source": [
    "as.character(c(1.30, 0.01))\n",
    "as.numeric(c(\"1.30\", \"0.01\"))"
   ]
  },
  {
   "cell_type": "markdown",
   "id": "f7a8108f-ed80-42d0-93f8-244ecda4380d",
   "metadata": {},
   "source": [
    "☝️ No trailing zeros"
   ]
  },
  {
   "cell_type": "markdown",
   "id": "3f313219-9756-4300-9452-379310e9d727",
   "metadata": {},
   "source": [
    "<u>`format()`</u> "
   ]
  },
  {
   "cell_type": "code",
   "execution_count": 7,
   "id": "9c4dd43f-de7f-4b30-89b5-4505c38b87e2",
   "metadata": {},
   "outputs": [
    {
     "data": {
      "text/html": [
       "'1.345899'"
      ],
      "text/latex": [
       "'1.345899'"
      ],
      "text/markdown": [
       "'1.345899'"
      ],
      "text/plain": [
       "[1] \"1.345899\""
      ]
     },
     "metadata": {},
     "output_type": "display_data"
    },
    {
     "data": {
      "text/html": [
       "'1.345897'"
      ],
      "text/latex": [
       "'1.345897'"
      ],
      "text/markdown": [
       "'1.345897'"
      ],
      "text/plain": [
       "[1] \"1.345897\""
      ]
     },
     "metadata": {},
     "output_type": "display_data"
    }
   ],
   "source": [
    "format(1.3458985) # rounded up\n",
    "format(1.3458975) # rounded down"
   ]
  },
  {
   "cell_type": "markdown",
   "id": "23e7fcf9-f2ef-4378-b9c3-88d734636704",
   "metadata": {},
   "source": [
    "☝️ format() uses the **“round to even\"** rule (similar to the `round()` function) instead of the more familiar **\"round up\"** rule. This means: If the difference between the number and the nearest integer is exactly 0.5, look at the integer part of the number. If the integer part is EVEN, round towards zero. If the integer part of the number is ODD, round away from zero. In either case, the rounded number is an even integer."
   ]
  },
  {
   "cell_type": "code",
   "execution_count": 8,
   "id": "d7874f62-3130-46e9-ba05-31e8c9f512ba",
   "metadata": {},
   "outputs": [
    {
     "data": {
      "text/html": [
       "<style>\n",
       ".list-inline {list-style: none; margin:0; padding: 0}\n",
       ".list-inline>li {display: inline-block}\n",
       ".list-inline>li:not(:last-child)::after {content: \"\\00b7\"; padding: 0 .5ex}\n",
       "</style>\n",
       "<ol class=list-inline><li><span style=white-space:pre-wrap>'    0.0011'</span></li><li>'10012.0000'</li><li><span style=white-space:pre-wrap>'    0.0110'</span></li><li><span style=white-space:pre-wrap>'    1.0000'</span></li><li><span style=white-space:pre-wrap>'    1.0011'</span></li><li><span style=white-space:pre-wrap>'    2.0110'</span></li></ol>\n"
      ],
      "text/latex": [
       "\\begin{enumerate*}\n",
       "\\item '    0.0011'\n",
       "\\item '10012.0000'\n",
       "\\item '    0.0110'\n",
       "\\item '    1.0000'\n",
       "\\item '    1.0011'\n",
       "\\item '    2.0110'\n",
       "\\end{enumerate*}\n"
      ],
      "text/markdown": [
       "1. <span style=white-space:pre-wrap>'    0.0011'</span>\n",
       "2. '10012.0000'\n",
       "3. <span style=white-space:pre-wrap>'    0.0110'</span>\n",
       "4. <span style=white-space:pre-wrap>'    1.0000'</span>\n",
       "5. <span style=white-space:pre-wrap>'    1.0011'</span>\n",
       "6. <span style=white-space:pre-wrap>'    2.0110'</span>\n",
       "\n",
       "\n"
      ],
      "text/plain": [
       "[1] \"    0.0011\" \"10012.0000\" \"    0.0110\" \"    1.0000\" \"    1.0011\"\n",
       "[6] \"    2.0110\""
      ]
     },
     "metadata": {},
     "output_type": "display_data"
    },
    {
     "data": {
      "text/html": [
       "<style>\n",
       ".list-inline {list-style: none; margin:0; padding: 0}\n",
       ".list-inline>li {display: inline-block}\n",
       ".list-inline>li:not(:last-child)::after {content: \"\\00b7\"; padding: 0 .5ex}\n",
       "</style>\n",
       "<ol class=list-inline><li>'1'</li><li>'2'</li><li>'1'</li></ol>\n"
      ],
      "text/latex": [
       "\\begin{enumerate*}\n",
       "\\item '1'\n",
       "\\item '2'\n",
       "\\item '1'\n",
       "\\end{enumerate*}\n"
      ],
      "text/markdown": [
       "1. '1'\n",
       "2. '2'\n",
       "3. '1'\n",
       "\n",
       "\n"
      ],
      "text/plain": [
       "[1] \"1\" \"2\" \"1\""
      ]
     },
     "metadata": {},
     "output_type": "display_data"
    }
   ],
   "source": [
    "format(c(0.0011, 10012, 0.011, 1, 1.0011, 2.011),  scientific = FALSE, digits = 2) # the smalles number is 0.0011\n",
    "format(c(1.0011, 2.011, 1), scientific = FALSE, digits = 1) # the smalles number is 1 "
   ]
  },
  {
   "cell_type": "markdown",
   "id": "67a1560a-4cb4-4333-b082-afce5d28449d",
   "metadata": {},
   "source": [
    "☝️ When `scientific = FALSE` , `digits=` presents a given number of significant digits according to the smalles number in the vector. "
   ]
  },
  {
   "cell_type": "code",
   "execution_count": 9,
   "id": "411d9f85-7e29-4a75-8dcf-82d0eb1f5353",
   "metadata": {},
   "outputs": [
    {
     "data": {
      "text/html": [
       "'1.345898e+00'"
      ],
      "text/latex": [
       "'1.345898e+00'"
      ],
      "text/markdown": [
       "'1.345898e+00'"
      ],
      "text/plain": [
       "[1] \"1.345898e+00\""
      ]
     },
     "metadata": {},
     "output_type": "display_data"
    },
    {
     "data": {
      "text/html": [
       "'1.35e+00'"
      ],
      "text/latex": [
       "'1.35e+00'"
      ],
      "text/markdown": [
       "'1.35e+00'"
      ],
      "text/plain": [
       "[1] \"1.35e+00\""
      ]
     },
     "metadata": {},
     "output_type": "display_data"
    }
   ],
   "source": [
    "format(1.34589829100, scientific = TRUE)\n",
    "format(1.34589829100, scientific = TRUE, digits = 3)"
   ]
  },
  {
   "cell_type": "markdown",
   "id": "54de7ca6-cf7d-4576-9483-5cd02ccd61db",
   "metadata": {},
   "source": [
    "☝️ When `scientific = TRUE`, `digits=` sets the number of digits before the exponent"
   ]
  },
  {
   "cell_type": "code",
   "execution_count": 10,
   "id": "3d618280-148d-4408-b152-41e9a5756f42",
   "metadata": {},
   "outputs": [
    {
     "data": {
      "text/html": [
       "<style>\n",
       ".list-inline {list-style: none; margin:0; padding: 0}\n",
       ".list-inline>li {display: inline-block}\n",
       ".list-inline>li:not(:last-child)::after {content: \"\\00b7\"; padding: 0 .5ex}\n",
       "</style>\n",
       "<ol class=list-inline><li>'1.0'</li><li>'2.0'</li><li>'1.0'</li><li>'1.2'</li></ol>\n"
      ],
      "text/latex": [
       "\\begin{enumerate*}\n",
       "\\item '1.0'\n",
       "\\item '2.0'\n",
       "\\item '1.0'\n",
       "\\item '1.2'\n",
       "\\end{enumerate*}\n"
      ],
      "text/markdown": [
       "1. '1.0'\n",
       "2. '2.0'\n",
       "3. '1.0'\n",
       "4. '1.2'\n",
       "\n",
       "\n"
      ],
      "text/plain": [
       "[1] \"1.0\" \"2.0\" \"1.0\" \"1.2\""
      ]
     },
     "metadata": {},
     "output_type": "display_data"
    },
    {
     "data": {
      "text/html": [
       "<style>\n",
       ".list-inline {list-style: none; margin:0; padding: 0}\n",
       ".list-inline>li {display: inline-block}\n",
       ".list-inline>li:not(:last-child)::after {content: \"\\00b7\"; padding: 0 .5ex}\n",
       "</style>\n",
       "<ol class=list-inline><li>'1.00'</li><li>'2.00'</li><li>'1.00'</li><li>'1.25'</li></ol>\n"
      ],
      "text/latex": [
       "\\begin{enumerate*}\n",
       "\\item '1.00'\n",
       "\\item '2.00'\n",
       "\\item '1.00'\n",
       "\\item '1.25'\n",
       "\\end{enumerate*}\n"
      ],
      "text/markdown": [
       "1. '1.00'\n",
       "2. '2.00'\n",
       "3. '1.00'\n",
       "4. '1.25'\n",
       "\n",
       "\n"
      ],
      "text/plain": [
       "[1] \"1.00\" \"2.00\" \"1.00\" \"1.25\""
      ]
     },
     "metadata": {},
     "output_type": "display_data"
    }
   ],
   "source": [
    "format(c(1.000, 2.0, 1, 1.245), scientific = FALSE, digits = 2)\n",
    "format(c(1.000, 2.0, 1, 1.245), scientific = FALSE, digits = 2, nsmall = 2)"
   ]
  },
  {
   "cell_type": "markdown",
   "id": "465e38db-e1dd-4770-beca-1dd098821964",
   "metadata": {},
   "source": [
    "☝️ `nsmall` sets the minimum number of digits after \".\". It also keeps trailing zeros."
   ]
  },
  {
   "cell_type": "code",
   "execution_count": 11,
   "id": "0626f128-c6a8-4d6c-90e2-3d2c5d46220d",
   "metadata": {},
   "outputs": [
    {
     "name": "stdout",
     "output_type": "stream",
     "text": [
      "       72\n",
      "    1,030\n",
      "   10,292\n",
      "1,189,192\n"
     ]
    }
   ],
   "source": [
    "income <- c(72.19 , 1030.18, 10291.93, 1189192.18)\n",
    "pretty_income <- format(income, digits = 2, big.mark = \",\")\n",
    "writeLines(pretty_income)"
   ]
  },
  {
   "cell_type": "markdown",
   "id": "3c0d4ff1-0e43-426b-8656-81e62fe0c062",
   "metadata": {},
   "source": [
    "☝️ When numbers are long it can be helpful to \"prettify\" them by adding \",\" to every 3 digits."
   ]
  },
  {
   "cell_type": "markdown",
   "id": "5b4ab8ed-0ee6-40f8-882d-4d197d582b2f",
   "metadata": {},
   "source": [
    "<u>`formatC()`</u> "
   ]
  },
  {
   "cell_type": "code",
   "execution_count": 12,
   "id": "c57176f4-99f8-45d4-9e6a-ad201bf7ae60",
   "metadata": {},
   "outputs": [
    {
     "data": {
      "text/html": [
       "'1.345899'"
      ],
      "text/latex": [
       "'1.345899'"
      ],
      "text/markdown": [
       "'1.345899'"
      ],
      "text/plain": [
       "[1] \"1.345899\""
      ]
     },
     "metadata": {},
     "output_type": "display_data"
    },
    {
     "data": {
      "text/html": [
       "'1.346'"
      ],
      "text/latex": [
       "'1.346'"
      ],
      "text/markdown": [
       "'1.346'"
      ],
      "text/plain": [
       "[1] \"1.346\""
      ]
     },
     "metadata": {},
     "output_type": "display_data"
    }
   ],
   "source": [
    "# format() vs formatC() defaults\n",
    "format(1.34589889100)\n",
    "formatC(1.34589889100)"
   ]
  },
  {
   "cell_type": "code",
   "execution_count": 13,
   "id": "104a5248-8b81-4e50-9855-d90a58a9526c",
   "metadata": {},
   "outputs": [
    {
     "data": {
      "text/html": [
       "<style>\n",
       ".list-inline {list-style: none; margin:0; padding: 0}\n",
       ".list-inline>li {display: inline-block}\n",
       ".list-inline>li:not(:last-child)::after {content: \"\\00b7\"; padding: 0 .5ex}\n",
       "</style>\n",
       "<ol class=list-inline><li>'0.001'</li><li>'0.02'</li><li>'1e+04'</li><li>' 1'</li></ol>\n"
      ],
      "text/latex": [
       "\\begin{enumerate*}\n",
       "\\item '0.001'\n",
       "\\item '0.02'\n",
       "\\item '1e+04'\n",
       "\\item ' 1'\n",
       "\\end{enumerate*}\n"
      ],
      "text/markdown": [
       "1. '0.001'\n",
       "2. '0.02'\n",
       "3. '1e+04'\n",
       "4. ' 1'\n",
       "\n",
       "\n"
      ],
      "text/plain": [
       "[1] \"0.001\" \"0.02\"  \"1e+04\" \" 1\"   "
      ]
     },
     "metadata": {},
     "output_type": "display_data"
    },
    {
     "data": {
      "text/html": [
       "<style>\n",
       ".list-inline {list-style: none; margin:0; padding: 0}\n",
       ".list-inline>li {display: inline-block}\n",
       ".list-inline>li:not(:last-child)::after {content: \"\\00b7\"; padding: 0 .5ex}\n",
       "</style>\n",
       "<ol class=list-inline><li>'1.1e-03'</li><li>'2.1e-02'</li><li>'1.0e+04'</li><li>'1.0e+00'</li></ol>\n"
      ],
      "text/latex": [
       "\\begin{enumerate*}\n",
       "\\item '1.1e-03'\n",
       "\\item '2.1e-02'\n",
       "\\item '1.0e+04'\n",
       "\\item '1.0e+00'\n",
       "\\end{enumerate*}\n"
      ],
      "text/markdown": [
       "1. '1.1e-03'\n",
       "2. '2.1e-02'\n",
       "3. '1.0e+04'\n",
       "4. '1.0e+00'\n",
       "\n",
       "\n"
      ],
      "text/plain": [
       "[1] \"1.1e-03\" \"2.1e-02\" \"1.0e+04\" \"1.0e+00\""
      ]
     },
     "metadata": {},
     "output_type": "display_data"
    },
    {
     "data": {
      "text/html": [
       "<style>\n",
       ".list-inline {list-style: none; margin:0; padding: 0}\n",
       ".list-inline>li {display: inline-block}\n",
       ".list-inline>li:not(:last-child)::after {content: \"\\00b7\"; padding: 0 .5ex}\n",
       "</style>\n",
       "<ol class=list-inline><li>'0.0'</li><li>'0.0'</li><li>'10012.0'</li><li>'1.0'</li></ol>\n"
      ],
      "text/latex": [
       "\\begin{enumerate*}\n",
       "\\item '0.0'\n",
       "\\item '0.0'\n",
       "\\item '10012.0'\n",
       "\\item '1.0'\n",
       "\\end{enumerate*}\n"
      ],
      "text/markdown": [
       "1. '0.0'\n",
       "2. '0.0'\n",
       "3. '10012.0'\n",
       "4. '1.0'\n",
       "\n",
       "\n"
      ],
      "text/plain": [
       "[1] \"0.0\"     \"0.0\"     \"10012.0\" \"1.0\"    "
      ]
     },
     "metadata": {},
     "output_type": "display_data"
    }
   ],
   "source": [
    "formatC(c(0.0011, 0.021, 10012, 1),  format = \"g\", digits = 1) # flexible format\n",
    "formatC(c(0.0011, 0.021, 10012, 1),  format = \"e\", digits = 1)  # scientific format\n",
    "formatC(c(0.0011, 0.021, 10012, 1),  format = \"f\", digits = 1)  # fixed format"
   ]
  },
  {
   "cell_type": "markdown",
   "id": "26ac3903-8e11-43f3-91ea-4ef0c3e298f1",
   "metadata": {},
   "source": [
    "☝️ Behaviour of `digits` argument:\n",
    "- `formatC()` formats numbers individually\n",
    "- when using scientific format, the digits argument behaves like it does in `format()`; it specifies the number of significant digits. \n",
    "- when using fixed format, unlike `format()`, digits is the number of digits after the decimal point. This is more predictable than format(), because the number of places after the decimal is fixed regardless of the values being formatted."
   ]
  },
  {
   "cell_type": "code",
   "execution_count": 14,
   "id": "e43fe7fd-0237-49de-a02f-c5be304fcab2",
   "metadata": {},
   "outputs": [
    {
     "data": {
      "text/html": [
       "<style>\n",
       ".list-inline {list-style: none; margin:0; padding: 0}\n",
       ".list-inline>li {display: inline-block}\n",
       ".list-inline>li:not(:last-child)::after {content: \"\\00b7\"; padding: 0 .5ex}\n",
       "</style>\n",
       "<ol class=list-inline><li>'+4'</li><li>'-1.91'</li><li>'+3'</li><li>'-5.002'</li></ol>\n"
      ],
      "text/latex": [
       "\\begin{enumerate*}\n",
       "\\item '+4'\n",
       "\\item '-1.91'\n",
       "\\item '+3'\n",
       "\\item '-5.002'\n",
       "\\end{enumerate*}\n"
      ],
      "text/markdown": [
       "1. '+4'\n",
       "2. '-1.91'\n",
       "3. '+3'\n",
       "4. '-5.002'\n",
       "\n",
       "\n"
      ],
      "text/plain": [
       "[1] \"+4\"     \"-1.91\"  \"+3\"     \"-5.002\""
      ]
     },
     "metadata": {},
     "output_type": "display_data"
    }
   ],
   "source": [
    "percent_change <-c(4.000, -1.910,  3.000, -5.002)\n",
    "formatC(percent_change, flag = \"+\")"
   ]
  },
  {
   "cell_type": "markdown",
   "id": "9a841314-e950-4261-b91f-f93ed4f3af91",
   "metadata": {},
   "source": [
    "<a name=\"toc_46431_1.3\"></a>\n",
    "**1.3 Paste together strings and variables**\n",
    "\n",
    "- `paste()` - provides a separator operator by default\n",
    "- `paste0()` - no separator operator\n",
    "- `str_c()` - same as paste() but part of the stringr package (see later)\n",
    "\n",
    "Arguments:\n",
    "- `sep=` separator character\n",
    "- `collapse=`  it further collapses all the resulting strings into one, with the specified separator character between them"
   ]
  },
  {
   "cell_type": "markdown",
   "id": "ea966f3a-9051-4da6-957a-6cafa0de5939",
   "metadata": {},
   "source": [
    "We can use `paste()` to pasted together strings element by element:"
   ]
  },
  {
   "cell_type": "code",
   "execution_count": 15,
   "id": "fa6b5964-8d52-4f26-95df-c0889c99fce9",
   "metadata": {},
   "outputs": [
    {
     "data": {
      "text/html": [
       "<span style=white-space:pre-wrap>'A B C  D E'</span>"
      ],
      "text/latex": [
       "'A B C  D E'"
      ],
      "text/markdown": [
       "<span style=white-space:pre-wrap>'A B C  D E'</span>"
      ],
      "text/plain": [
       "[1] \"A B C  D E\""
      ]
     },
     "metadata": {},
     "output_type": "display_data"
    },
    {
     "data": {
      "text/html": [
       "'ABC DE'"
      ],
      "text/latex": [
       "'ABC DE'"
      ],
      "text/markdown": [
       "'ABC DE'"
      ],
      "text/plain": [
       "[1] \"ABC DE\""
      ]
     },
     "metadata": {},
     "output_type": "display_data"
    }
   ],
   "source": [
    "paste(\"A\", \"B\", \"C\", \" D\", \"E\")\n",
    "paste0(\"A\", \"B\", \"C\", \" D\", \"E\")"
   ]
  },
  {
   "cell_type": "code",
   "execution_count": 16,
   "id": "560f0439-85ee-4c24-8772-603a72e72918",
   "metadata": {},
   "outputs": [
    {
     "data": {
      "text/html": [
       "'A-B-C-D-E'"
      ],
      "text/latex": [
       "'A-B-C-D-E'"
      ],
      "text/markdown": [
       "'A-B-C-D-E'"
      ],
      "text/plain": [
       "[1] \"A-B-C-D-E\""
      ]
     },
     "metadata": {},
     "output_type": "display_data"
    },
    {
     "data": {
      "text/html": [
       "<style>\n",
       ".list-inline {list-style: none; margin:0; padding: 0}\n",
       ".list-inline>li {display: inline-block}\n",
       ".list-inline>li:not(:last-child)::after {content: \"\\00b7\"; padding: 0 .5ex}\n",
       "</style>\n",
       "<ol class=list-inline><li>'72.19%'</li><li>'1030.18%'</li><li>'10291.93%'</li><li>'1189192.18%'</li></ol>\n"
      ],
      "text/latex": [
       "\\begin{enumerate*}\n",
       "\\item '72.19\\%'\n",
       "\\item '1030.18\\%'\n",
       "\\item '10291.93\\%'\n",
       "\\item '1189192.18\\%'\n",
       "\\end{enumerate*}\n"
      ],
      "text/markdown": [
       "1. '72.19%'\n",
       "2. '1030.18%'\n",
       "3. '10291.93%'\n",
       "4. '1189192.18%'\n",
       "\n",
       "\n"
      ],
      "text/plain": [
       "[1] \"72.19%\"      \"1030.18%\"    \"10291.93%\"   \"1189192.18%\""
      ]
     },
     "metadata": {},
     "output_type": "display_data"
    },
    {
     "data": {
      "text/html": [
       "<style>\n",
       ".list-inline {list-style: none; margin:0; padding: 0}\n",
       ".list-inline>li {display: inline-block}\n",
       ".list-inline>li:not(:last-child)::after {content: \"\\00b7\"; padding: 0 .5ex}\n",
       "</style>\n",
       "<ol class=list-inline><li>'A-a'</li><li>'B-a'</li><li>'C-a'</li><li>'D-a'</li><li>'E-a'</li></ol>\n"
      ],
      "text/latex": [
       "\\begin{enumerate*}\n",
       "\\item 'A-a'\n",
       "\\item 'B-a'\n",
       "\\item 'C-a'\n",
       "\\item 'D-a'\n",
       "\\item 'E-a'\n",
       "\\end{enumerate*}\n"
      ],
      "text/markdown": [
       "1. 'A-a'\n",
       "2. 'B-a'\n",
       "3. 'C-a'\n",
       "4. 'D-a'\n",
       "5. 'E-a'\n",
       "\n",
       "\n"
      ],
      "text/plain": [
       "[1] \"A-a\" \"B-a\" \"C-a\" \"D-a\" \"E-a\""
      ]
     },
     "metadata": {},
     "output_type": "display_data"
    }
   ],
   "source": [
    "paste(\"A\", \"B\", \"C\", \"D\", \"E\", sep = \"-\")\n",
    "paste(income, \"%\", sep = \"\")\n",
    "paste(c(\"A\", \"B\", \"C\", \"D\", \"E\"), \"a\", sep = \"-\")"
   ]
  },
  {
   "cell_type": "markdown",
   "id": "03a78a5e-1c23-4ee8-a185-242e6e009b9f",
   "metadata": {},
   "source": [
    "However, usually we'll use paste with a mix of fixed strings and variables, allowing us to build up complicated output:"
   ]
  },
  {
   "cell_type": "code",
   "execution_count": 17,
   "id": "9ede39f7-7db8-4dfa-981c-85a94832a1aa",
   "metadata": {},
   "outputs": [
    {
     "data": {
      "text/html": [
       "<style>\n",
       ".list-inline {list-style: none; margin:0; padding: 0}\n",
       ".list-inline>li {display: inline-block}\n",
       ".list-inline>li:not(:last-child)::after {content: \"\\00b7\"; padding: 0 .5ex}\n",
       "</style>\n",
       "<ol class=list-inline><li>'2010: +4%'</li><li>'2011: -1.91%'</li><li>'2012: +3%'</li><li>'2013: -5.002%'</li></ol>\n"
      ],
      "text/latex": [
       "\\begin{enumerate*}\n",
       "\\item '2010: +4\\%'\n",
       "\\item '2011: -1.91\\%'\n",
       "\\item '2012: +3\\%'\n",
       "\\item '2013: -5.002\\%'\n",
       "\\end{enumerate*}\n"
      ],
      "text/markdown": [
       "1. '2010: +4%'\n",
       "2. '2011: -1.91%'\n",
       "3. '2012: +3%'\n",
       "4. '2013: -5.002%'\n",
       "\n",
       "\n"
      ],
      "text/plain": [
       "[1] \"2010: +4%\"     \"2011: -1.91%\"  \"2012: +3%\"     \"2013: -5.002%\""
      ]
     },
     "metadata": {},
     "output_type": "display_data"
    }
   ],
   "source": [
    "years <- c(2010, 2011, 2012, 2013)\n",
    "pretty_percent <- formatC(percent_change, flag = \"+\")\n",
    "\n",
    "paste(years, paste(pretty_percent, \"%\", sep=\"\"), sep=\": \")"
   ]
  },
  {
   "cell_type": "code",
   "execution_count": 18,
   "id": "752bfae7-67d1-4517-a7f4-1350e975487d",
   "metadata": {},
   "outputs": [
    {
     "data": {
      "text/html": [
       "<style>\n",
       ".list-inline {list-style: none; margin:0; padding: 0}\n",
       ".list-inline>li {display: inline-block}\n",
       ".list-inline>li:not(:last-child)::after {content: \"\\00b7\"; padding: 0 .5ex}\n",
       "</style>\n",
       "<ol class=list-inline><li>'Here, a, moo'</li><li>'There, a, moo'</li><li>'Everywhere, a, moo'</li></ol>\n"
      ],
      "text/latex": [
       "\\begin{enumerate*}\n",
       "\\item 'Here, a, moo'\n",
       "\\item 'There, a, moo'\n",
       "\\item 'Everywhere, a, moo'\n",
       "\\end{enumerate*}\n"
      ],
      "text/markdown": [
       "1. 'Here, a, moo'\n",
       "2. 'There, a, moo'\n",
       "3. 'Everywhere, a, moo'\n",
       "\n",
       "\n"
      ],
      "text/plain": [
       "[1] \"Here, a, moo\"       \"There, a, moo\"      \"Everywhere, a, moo\""
      ]
     },
     "metadata": {},
     "output_type": "display_data"
    },
    {
     "data": {
      "text/html": [
       "'Here a moo, There a moo, Everywhere a moo'"
      ],
      "text/latex": [
       "'Here a moo, There a moo, Everywhere a moo'"
      ],
      "text/markdown": [
       "'Here a moo, There a moo, Everywhere a moo'"
      ],
      "text/plain": [
       "[1] \"Here a moo, There a moo, Everywhere a moo\""
      ]
     },
     "metadata": {},
     "output_type": "display_data"
    }
   ],
   "source": [
    "animal_goes <- \"moo\"\n",
    "\n",
    "paste(c(\"Here\", \"There\", \"Everywhere\"), \"a\", animal_goes, sep = \", \") # returns 3 separate strings\n",
    "paste(c(\"Here\", \"There\", \"Everywhere\"), \"a\", animal_goes, collapse = \", \") # returns 1 collaped strings"
   ]
  },
  {
   "cell_type": "markdown",
   "id": "f7921f6f-705b-4270-b242-908ec7186967",
   "metadata": {},
   "source": [
    "Some more complex examples:"
   ]
  },
  {
   "cell_type": "code",
   "execution_count": 19,
   "id": "3811d959-c163-479f-9c1b-6fe68a949fcf",
   "metadata": {},
   "outputs": [
    {
     "name": "stdout",
     "output_type": "stream",
     "text": [
      "Old MacDonals had a farm\n",
      "E-I-E-I-O\n",
      "And on his farm he had a dog\n",
      "E-I-E-I-O\n",
      "Here a woof, There a woof, Everywhere a woof-woof\n",
      "Old MacDonals had a farm\n",
      "E-I-E-I-O\n"
     ]
    }
   ],
   "source": [
    "# Create a function that works for any animal in Old MacDonals' a farm\n",
    "\n",
    "old_mac <- function(animal, animal_goes){\n",
    "    \n",
    "    eieio <- paste(\"E\", \"I\", \"E\", \"I\", \"O\", sep = \"-\")\n",
    "    old_mac <- \"Old MacDonals had a farm\"\n",
    "    \n",
    "    writeLines(c(\n",
    "        old_mac,\n",
    "        eieio,\n",
    "        paste(\"And on his farm he had a\", animal),\n",
    "        eieio,\n",
    "        paste(c(\"Here\", \"There\", \"Everywhere\"), \"a\", \n",
    "              c(animal_goes, animal_goes, paste(rep(animal_goes, 2), collapse = \"-\")),\n",
    "              collapse = \", \"),\n",
    "        old_mac,\n",
    "        eieio))\n",
    "    }\n",
    "\n",
    "old_mac(\"dog\", \"woof\")"
   ]
  },
  {
   "cell_type": "code",
   "execution_count": 20,
   "id": "00d133f1-d44e-4229-b1ce-e2ce691ab1e2",
   "metadata": {},
   "outputs": [
    {
     "name": "stdout",
     "output_type": "stream",
     "text": [
      "I want to order a pizza with sausage, spinach, and feta.\n"
     ]
    }
   ],
   "source": [
    "# When re-running this cell we will get a brand new pizza order each time!\n",
    "\n",
    "toppings <- c(\"anchovies\",\"artichoke\",\"bacon\",\"breakfast bacon\",\"Canadian bacon\",\"cheese\",\"chicken\",\"chili peppers\",\"feta\",\"garlic\",\"green peppers\",\"grilled onions\",\"ground beef\",\"ham\",\"hot sauce\",\"meatballs\",\"mushrooms\",\"olives\",\"onions\",\"pepperoni\",\"pineapple\",\"sausage\",\"spinach\",\"sun-dried tomato\",\"tomatoes\")\n",
    "\n",
    "my_toppings <- sample(toppings, size = 3) # Randomly sample 3 toppings\n",
    "my_toppings_and <- paste(c(\"\", \"\", \"and \"), my_toppings, sep = \"\")\n",
    "these_toppings <- paste(my_toppings_and, collapse = \", \")\n",
    "my_order <- paste(\"I want to order a pizza with \", these_toppings, \".\", sep = \"\")\n",
    "writeLines(my_order)"
   ]
  },
  {
   "cell_type": "markdown",
   "id": "492bfa9f-7a07-45f0-86a3-12837f75ff03",
   "metadata": {},
   "source": [
    "<a name=\"toc_46431_2\"></a>\n",
    "## 2.   Introducing stringr\n",
    "\n",
    "- all functions start with `str_`\n",
    "- all functions take a vector of strings as the first argument"
   ]
  },
  {
   "cell_type": "code",
   "execution_count": 21,
   "id": "8d81f14e-d4d6-4ce8-9bd8-4035a1485db3",
   "metadata": {},
   "outputs": [
    {
     "data": {
      "text/html": [
       "<table class=\"dataframe\">\n",
       "<caption>A tibble: 6 × 5</caption>\n",
       "<thead>\n",
       "\t<tr><th scope=col>year</th><th scope=col>sex</th><th scope=col>name</th><th scope=col>n</th><th scope=col>prop</th></tr>\n",
       "\t<tr><th scope=col>&lt;dbl&gt;</th><th scope=col>&lt;chr&gt;</th><th scope=col>&lt;chr&gt;</th><th scope=col>&lt;int&gt;</th><th scope=col>&lt;dbl&gt;</th></tr>\n",
       "</thead>\n",
       "<tbody>\n",
       "\t<tr><td>1880</td><td>F</td><td>Mary     </td><td>7065</td><td>0.07238359</td></tr>\n",
       "\t<tr><td>1880</td><td>F</td><td>Anna     </td><td>2604</td><td>0.02667896</td></tr>\n",
       "\t<tr><td>1880</td><td>F</td><td>Emma     </td><td>2003</td><td>0.02052149</td></tr>\n",
       "\t<tr><td>1880</td><td>F</td><td>Elizabeth</td><td>1939</td><td>0.01986579</td></tr>\n",
       "\t<tr><td>1880</td><td>F</td><td>Minnie   </td><td>1746</td><td>0.01788843</td></tr>\n",
       "\t<tr><td>1880</td><td>F</td><td>Margaret </td><td>1578</td><td>0.01616720</td></tr>\n",
       "</tbody>\n",
       "</table>\n"
      ],
      "text/latex": [
       "A tibble: 6 × 5\n",
       "\\begin{tabular}{lllll}\n",
       " year & sex & name & n & prop\\\\\n",
       " <dbl> & <chr> & <chr> & <int> & <dbl>\\\\\n",
       "\\hline\n",
       "\t 1880 & F & Mary      & 7065 & 0.07238359\\\\\n",
       "\t 1880 & F & Anna      & 2604 & 0.02667896\\\\\n",
       "\t 1880 & F & Emma      & 2003 & 0.02052149\\\\\n",
       "\t 1880 & F & Elizabeth & 1939 & 0.01986579\\\\\n",
       "\t 1880 & F & Minnie    & 1746 & 0.01788843\\\\\n",
       "\t 1880 & F & Margaret  & 1578 & 0.01616720\\\\\n",
       "\\end{tabular}\n"
      ],
      "text/markdown": [
       "\n",
       "A tibble: 6 × 5\n",
       "\n",
       "| year &lt;dbl&gt; | sex &lt;chr&gt; | name &lt;chr&gt; | n &lt;int&gt; | prop &lt;dbl&gt; |\n",
       "|---|---|---|---|---|\n",
       "| 1880 | F | Mary      | 7065 | 0.07238359 |\n",
       "| 1880 | F | Anna      | 2604 | 0.02667896 |\n",
       "| 1880 | F | Emma      | 2003 | 0.02052149 |\n",
       "| 1880 | F | Elizabeth | 1939 | 0.01986579 |\n",
       "| 1880 | F | Minnie    | 1746 | 0.01788843 |\n",
       "| 1880 | F | Margaret  | 1578 | 0.01616720 |\n",
       "\n"
      ],
      "text/plain": [
       "  year sex name      n    prop      \n",
       "1 1880 F   Mary      7065 0.07238359\n",
       "2 1880 F   Anna      2604 0.02667896\n",
       "3 1880 F   Emma      2003 0.02052149\n",
       "4 1880 F   Elizabeth 1939 0.01986579\n",
       "5 1880 F   Minnie    1746 0.01788843\n",
       "6 1880 F   Margaret  1578 0.01616720"
      ]
     },
     "metadata": {},
     "output_type": "display_data"
    }
   ],
   "source": [
    "# Prepare data\n",
    "head(babynames::babynames)\n",
    "\n",
    "babynames_2014 <- filter(babynames, year == 2014)\n",
    "boy_names <- filter(babynames_2014, sex == \"M\")$name\n",
    "girl_names <- filter(babynames_2014, sex == \"F\")$name"
   ]
  },
  {
   "cell_type": "markdown",
   "id": "d23ea7df-93fb-4a64-8475-d608db50a815",
   "metadata": {},
   "source": [
    "<a name=\"toc_46431_2.1\"></a>\n",
    "**2.1 Basic string functions**\n",
    "\n",
    "Manage case\n",
    "- `str_to_lower` - lowecase\n",
    "- `str_to_upper` - uppercase\n",
    "- `str_to_title` - sentence case\n",
    "\n",
    "Manage length\n",
    "- `str_length()` - gives the number of characters for each string in a vector\n",
    "- `str_trim()` - removes whitespaces from the left. right or both\n",
    "- `str_squish()` - removes whitespaces and collapse multiple spaces into single spaces\n",
    "\n",
    "Manage order\n",
    "- `str_sort()` - sort a character vector\n",
    "- `str_order()` - return indexes that sorts a character vector"
   ]
  },
  {
   "cell_type": "markdown",
   "id": "6088ba85-e5c5-4a62-b82d-b6be175f1b0f",
   "metadata": {},
   "source": [
    "<u>Manage case </u>"
   ]
  },
  {
   "cell_type": "code",
   "execution_count": 22,
   "id": "988ae253-cb6f-4a31-a0ae-40a565c2de33",
   "metadata": {},
   "outputs": [
    {
     "data": {
      "text/html": [
       "'mystring'"
      ],
      "text/latex": [
       "'mystring'"
      ],
      "text/markdown": [
       "'mystring'"
      ],
      "text/plain": [
       "[1] \"mystring\""
      ]
     },
     "metadata": {},
     "output_type": "display_data"
    },
    {
     "data": {
      "text/html": [
       "'MYSTRING'"
      ],
      "text/latex": [
       "'MYSTRING'"
      ],
      "text/markdown": [
       "'MYSTRING'"
      ],
      "text/plain": [
       "[1] \"MYSTRING\""
      ]
     },
     "metadata": {},
     "output_type": "display_data"
    },
    {
     "data": {
      "text/html": [
       "'Mystring'"
      ],
      "text/latex": [
       "'Mystring'"
      ],
      "text/markdown": [
       "'Mystring'"
      ],
      "text/plain": [
       "[1] \"Mystring\""
      ]
     },
     "metadata": {},
     "output_type": "display_data"
    }
   ],
   "source": [
    "st <-  \"MyStrinG\"\n",
    "str_to_lower(st)\n",
    "str_to_upper(st)\n",
    "str_to_title(st)"
   ]
  },
  {
   "cell_type": "markdown",
   "id": "93ece36d-181a-4ef8-b49e-0c45225c43b2",
   "metadata": {},
   "source": [
    "<u>The `str_length()` function </u>"
   ]
  },
  {
   "cell_type": "code",
   "execution_count": 23,
   "id": "853fa21b-ab39-4ed5-880f-2c343021be67",
   "metadata": {},
   "outputs": [
    {
     "data": {
      "text/html": [
       "14047"
      ],
      "text/latex": [
       "14047"
      ],
      "text/markdown": [
       "14047"
      ],
      "text/plain": [
       "[1] 14047"
      ]
     },
     "metadata": {},
     "output_type": "display_data"
    },
    {
     "data": {
      "text/html": [
       "<style>\n",
       ".list-inline {list-style: none; margin:0; padding: 0}\n",
       ".list-inline>li {display: inline-block}\n",
       ".list-inline>li:not(:last-child)::after {content: \"\\00b7\"; padding: 0 .5ex}\n",
       "</style>\n",
       "<ol class=list-inline><li>4</li><li>4</li><li>5</li><li>5</li><li>7</li><li>5</li></ol>\n"
      ],
      "text/latex": [
       "\\begin{enumerate*}\n",
       "\\item 4\n",
       "\\item 4\n",
       "\\item 5\n",
       "\\item 5\n",
       "\\item 7\n",
       "\\item 5\n",
       "\\end{enumerate*}\n"
      ],
      "text/markdown": [
       "1. 4\n",
       "2. 4\n",
       "3. 5\n",
       "4. 5\n",
       "5. 7\n",
       "6. 5\n",
       "\n",
       "\n"
      ],
      "text/plain": [
       "[1] 4 4 5 5 7 5"
      ]
     },
     "metadata": {},
     "output_type": "display_data"
    }
   ],
   "source": [
    "# Find the length of all boy_names\n",
    "\n",
    "length(boy_names) # gives the number of elements\n",
    "\n",
    "str_length(boy_names) %>%\n",
    "  head()  # gives the length of each element"
   ]
  },
  {
   "cell_type": "code",
   "execution_count": 24,
   "id": "b4e18c06-7477-4516-94e2-ccf8fa574c57",
   "metadata": {},
   "outputs": [
    {
     "data": {
      "text/html": [
       "<span style=white-space:pre-wrap>'hel   lo'</span>"
      ],
      "text/latex": [
       "'hel   lo'"
      ],
      "text/markdown": [
       "<span style=white-space:pre-wrap>'hel   lo'</span>"
      ],
      "text/plain": [
       "[1] \"hel   lo\""
      ]
     },
     "metadata": {},
     "output_type": "display_data"
    },
    {
     "data": {
      "text/html": [
       "<span style=white-space:pre-wrap>'hel   lo  '</span>"
      ],
      "text/latex": [
       "'hel   lo  '"
      ],
      "text/markdown": [
       "<span style=white-space:pre-wrap>'hel   lo  '</span>"
      ],
      "text/plain": [
       "[1] \"hel   lo  \""
      ]
     },
     "metadata": {},
     "output_type": "display_data"
    },
    {
     "data": {
      "text/html": [
       "'hel lo'"
      ],
      "text/latex": [
       "'hel lo'"
      ],
      "text/markdown": [
       "'hel lo'"
      ],
      "text/plain": [
       "[1] \"hel lo\""
      ]
     },
     "metadata": {},
     "output_type": "display_data"
    }
   ],
   "source": [
    "str_trim(\" hel   lo  \")\n",
    "str_trim(\" hel   lo  \", side = \"left\")\n",
    "str_squish(\" hel  lo  \")"
   ]
  },
  {
   "cell_type": "markdown",
   "id": "c96ff27c-4cb6-4cc0-b950-b97f43d971dd",
   "metadata": {},
   "source": [
    "<u>Manage order </u>"
   ]
  },
  {
   "cell_type": "code",
   "execution_count": 25,
   "id": "e2e070bf-f5bf-4e93-bac0-75d68240c8e0",
   "metadata": {},
   "outputs": [
    {
     "data": {
      "text/html": [
       "<style>\n",
       ".list-inline {list-style: none; margin:0; padding: 0}\n",
       ".list-inline>li {display: inline-block}\n",
       ".list-inline>li:not(:last-child)::after {content: \"\\00b7\"; padding: 0 .5ex}\n",
       "</style>\n",
       "<ol class=list-inline><li>'Noah'</li><li>'Liam'</li><li>'Mason'</li><li>'Jacob'</li><li>'William'</li><li>'Ethan'</li></ol>\n"
      ],
      "text/latex": [
       "\\begin{enumerate*}\n",
       "\\item 'Noah'\n",
       "\\item 'Liam'\n",
       "\\item 'Mason'\n",
       "\\item 'Jacob'\n",
       "\\item 'William'\n",
       "\\item 'Ethan'\n",
       "\\end{enumerate*}\n"
      ],
      "text/markdown": [
       "1. 'Noah'\n",
       "2. 'Liam'\n",
       "3. 'Mason'\n",
       "4. 'Jacob'\n",
       "5. 'William'\n",
       "6. 'Ethan'\n",
       "\n",
       "\n"
      ],
      "text/plain": [
       "[1] \"Noah\"    \"Liam\"    \"Mason\"   \"Jacob\"   \"William\" \"Ethan\"  "
      ]
     },
     "metadata": {},
     "output_type": "display_data"
    },
    {
     "data": {
      "text/html": [
       "<style>\n",
       ".list-inline {list-style: none; margin:0; padding: 0}\n",
       ".list-inline>li {display: inline-block}\n",
       ".list-inline>li:not(:last-child)::after {content: \"\\00b7\"; padding: 0 .5ex}\n",
       "</style>\n",
       "<ol class=list-inline><li>5468</li><li>4861</li><li>8768</li><li>5055</li><li>899</li><li>4010</li></ol>\n"
      ],
      "text/latex": [
       "\\begin{enumerate*}\n",
       "\\item 5468\n",
       "\\item 4861\n",
       "\\item 8768\n",
       "\\item 5055\n",
       "\\item 899\n",
       "\\item 4010\n",
       "\\end{enumerate*}\n"
      ],
      "text/markdown": [
       "1. 5468\n",
       "2. 4861\n",
       "3. 8768\n",
       "4. 5055\n",
       "5. 899\n",
       "6. 4010\n",
       "\n",
       "\n"
      ],
      "text/plain": [
       "[1] 5468 4861 8768 5055  899 4010"
      ]
     },
     "metadata": {},
     "output_type": "display_data"
    },
    {
     "data": {
      "text/html": [
       "<style>\n",
       ".list-inline {list-style: none; margin:0; padding: 0}\n",
       ".list-inline>li {display: inline-block}\n",
       ".list-inline>li:not(:last-child)::after {content: \"\\00b7\"; padding: 0 .5ex}\n",
       "</style>\n",
       "<ol class=list-inline><li>'Zyyon'</li><li>'Zytaveon'</li><li>'Zyshawn'</li><li>'Zyrus'</li><li>'Zyron'</li><li>'Zyrion'</li></ol>\n"
      ],
      "text/latex": [
       "\\begin{enumerate*}\n",
       "\\item 'Zyyon'\n",
       "\\item 'Zytaveon'\n",
       "\\item 'Zyshawn'\n",
       "\\item 'Zyrus'\n",
       "\\item 'Zyron'\n",
       "\\item 'Zyrion'\n",
       "\\end{enumerate*}\n"
      ],
      "text/markdown": [
       "1. 'Zyyon'\n",
       "2. 'Zytaveon'\n",
       "3. 'Zyshawn'\n",
       "4. 'Zyrus'\n",
       "5. 'Zyron'\n",
       "6. 'Zyrion'\n",
       "\n",
       "\n"
      ],
      "text/plain": [
       "[1] \"Zyyon\"    \"Zytaveon\" \"Zyshawn\"  \"Zyrus\"    \"Zyron\"    \"Zyrion\"  "
      ]
     },
     "metadata": {},
     "output_type": "display_data"
    }
   ],
   "source": [
    "head(boy_names)\n",
    "\n",
    "str_order(boy_names)  %>%\n",
    "  head()\n",
    "\n",
    "str_sort(boy_names, decreasing = TRUE)  %>%\n",
    "  head()"
   ]
  },
  {
   "cell_type": "markdown",
   "id": "12c73405-ffdb-4c92-94b7-f99ca881da8b",
   "metadata": {},
   "source": [
    "<a name=\"toc_46431_2.2\"></a>\n",
    "**2.2 Subset strings and detect matches using patterns**\n",
    "\n",
    "All of the below functions use a **pattern** argument, that can also be **regular expressions**:\n",
    "\n",
    "- `str_sub()` - extracts parts of strings based on their location.\n",
    "- `str_subset()` - returns the strings that are a match\n",
    "- `str_detect()` - detect matches, gives TRUE, FALSE result\n",
    "- `str_which()` - Find the indexes of strings that contain the pattern\n",
    "- `str_count()` - count the number of matches in the string\n",
    "- `str_locate()` - locates the start and end positions of a pattern in a string. \n",
    "- `str_starts()` | `str_ends()` - Detect match at the begining | end of the string\n",
    "- `str_extract()` - returns the first matched part of each string (or NA) as a vector\n",
    "- `str_match()` - returns the first matched part of each string (or NA) as a matrix\n",
    "- `str_view_all()` - view HTML rendering of all matches (including regex)"
   ]
  },
  {
   "cell_type": "code",
   "execution_count": 131,
   "id": "0dc2cb25-93f8-4ec7-a3cb-c7e481bce425",
   "metadata": {},
   "outputs": [
    {
     "data": {
      "text/html": [
       "<style>\n",
       ".list-inline {list-style: none; margin:0; padding: 0}\n",
       ".list-inline>li {display: inline-block}\n",
       ".list-inline>li:not(:last-child)::after {content: \"\\00b7\"; padding: 0 .5ex}\n",
       "</style>\n",
       "<ol class=list-inline><li>'Noah'</li><li>'Liam'</li><li>'Mason'</li><li>'Jacob'</li><li>'William'</li><li>'Ethan'</li></ol>\n"
      ],
      "text/latex": [
       "\\begin{enumerate*}\n",
       "\\item 'Noah'\n",
       "\\item 'Liam'\n",
       "\\item 'Mason'\n",
       "\\item 'Jacob'\n",
       "\\item 'William'\n",
       "\\item 'Ethan'\n",
       "\\end{enumerate*}\n"
      ],
      "text/markdown": [
       "1. 'Noah'\n",
       "2. 'Liam'\n",
       "3. 'Mason'\n",
       "4. 'Jacob'\n",
       "5. 'William'\n",
       "6. 'Ethan'\n",
       "\n",
       "\n"
      ],
      "text/plain": [
       "[1] \"Noah\"    \"Liam\"    \"Mason\"   \"Jacob\"   \"William\" \"Ethan\"  "
      ]
     },
     "metadata": {},
     "output_type": "display_data"
    },
    {
     "data": {
      "text/html": [
       "<style>\n",
       ".list-inline {list-style: none; margin:0; padding: 0}\n",
       ".list-inline>li {display: inline-block}\n",
       ".list-inline>li:not(:last-child)::after {content: \"\\00b7\"; padding: 0 .5ex}\n",
       "</style>\n",
       "<ol class=list-inline><li>'h'</li><li>'m'</li><li>'n'</li><li>'b'</li><li>'m'</li><li>'n'</li></ol>\n"
      ],
      "text/latex": [
       "\\begin{enumerate*}\n",
       "\\item 'h'\n",
       "\\item 'm'\n",
       "\\item 'n'\n",
       "\\item 'b'\n",
       "\\item 'm'\n",
       "\\item 'n'\n",
       "\\end{enumerate*}\n"
      ],
      "text/markdown": [
       "1. 'h'\n",
       "2. 'm'\n",
       "3. 'n'\n",
       "4. 'b'\n",
       "5. 'm'\n",
       "6. 'n'\n",
       "\n",
       "\n"
      ],
      "text/plain": [
       "[1] \"h\" \"m\" \"n\" \"b\" \"m\" \"n\""
      ]
     },
     "metadata": {},
     "output_type": "display_data"
    },
    {
     "data": {
      "text/plain": [
       ".\n",
       "   A    B    C    D    E    F    G    H    I    J    K    L    M    N    O    P \n",
       "1454  651  770  998  549  185  334  403  235 1390 1291  537  914  424  207  230 \n",
       "   Q    R    S    T    U    V    W    X    Y    Z \n",
       "  56  778  806  771   43  160  174   56  252  379 "
      ]
     },
     "metadata": {},
     "output_type": "display_data"
    }
   ],
   "source": [
    "boy_names %>% head()\n",
    "\n",
    "str_sub(boy_names, start = -1, end = -1) %>% head() # last letters\n",
    "\n",
    "str_sub(boy_names, start = 1, end = 1) %>% # table of first letters\n",
    "  table()"
   ]
  },
  {
   "cell_type": "markdown",
   "id": "eb2a9a2e-db1b-4b7e-a2bc-9710aa9019e0",
   "metadata": {},
   "source": [
    "<u>Using patterns:</u>"
   ]
  },
  {
   "cell_type": "code",
   "execution_count": 27,
   "id": "6c39ae44-23ce-4f2a-adca-c13cd9442ed8",
   "metadata": {},
   "outputs": [
    {
     "data": {
      "text/html": [
       "<style>\n",
       ".list-inline {list-style: none; margin:0; padding: 0}\n",
       ".list-inline>li {display: inline-block}\n",
       ".list-inline>li:not(:last-child)::after {content: \"\\00b7\"; padding: 0 .5ex}\n",
       "</style>\n",
       "<ol class=list-inline><li>'pepperoni'</li><li>'sausage and green peppers '</li><li>'sausage and green peppers and red peppers'</li></ol>\n"
      ],
      "text/latex": [
       "\\begin{enumerate*}\n",
       "\\item 'pepperoni'\n",
       "\\item 'sausage and green peppers '\n",
       "\\item 'sausage and green peppers and red peppers'\n",
       "\\end{enumerate*}\n"
      ],
      "text/markdown": [
       "1. 'pepperoni'\n",
       "2. 'sausage and green peppers '\n",
       "3. 'sausage and green peppers and red peppers'\n",
       "\n",
       "\n"
      ],
      "text/plain": [
       "[1] \"pepperoni\"                                \n",
       "[2] \"sausage and green peppers \"               \n",
       "[3] \"sausage and green peppers and red peppers\""
      ]
     },
     "metadata": {},
     "output_type": "display_data"
    },
    {
     "data": {
      "text/html": [
       "<style>\n",
       ".list-inline {list-style: none; margin:0; padding: 0}\n",
       ".list-inline>li {display: inline-block}\n",
       ".list-inline>li:not(:last-child)::after {content: \"\\00b7\"; padding: 0 .5ex}\n",
       "</style>\n",
       "<ol class=list-inline><li>FALSE</li><li>TRUE</li><li>TRUE</li><li>TRUE</li></ol>\n"
      ],
      "text/latex": [
       "\\begin{enumerate*}\n",
       "\\item FALSE\n",
       "\\item TRUE\n",
       "\\item TRUE\n",
       "\\item TRUE\n",
       "\\end{enumerate*}\n"
      ],
      "text/markdown": [
       "1. FALSE\n",
       "2. TRUE\n",
       "3. TRUE\n",
       "4. TRUE\n",
       "\n",
       "\n"
      ],
      "text/plain": [
       "[1] FALSE  TRUE  TRUE  TRUE"
      ]
     },
     "metadata": {},
     "output_type": "display_data"
    },
    {
     "data": {
      "text/html": [
       "<style>\n",
       ".list-inline {list-style: none; margin:0; padding: 0}\n",
       ".list-inline>li {display: inline-block}\n",
       ".list-inline>li:not(:last-child)::after {content: \"\\00b7\"; padding: 0 .5ex}\n",
       "</style>\n",
       "<ol class=list-inline><li>2</li><li>3</li><li>4</li></ol>\n"
      ],
      "text/latex": [
       "\\begin{enumerate*}\n",
       "\\item 2\n",
       "\\item 3\n",
       "\\item 4\n",
       "\\end{enumerate*}\n"
      ],
      "text/markdown": [
       "1. 2\n",
       "2. 3\n",
       "3. 4\n",
       "\n",
       "\n"
      ],
      "text/plain": [
       "[1] 2 3 4"
      ]
     },
     "metadata": {},
     "output_type": "display_data"
    },
    {
     "data": {
      "text/html": [
       "<style>\n",
       ".list-inline {list-style: none; margin:0; padding: 0}\n",
       ".list-inline>li {display: inline-block}\n",
       ".list-inline>li:not(:last-child)::after {content: \"\\00b7\"; padding: 0 .5ex}\n",
       "</style>\n",
       "<ol class=list-inline><li>0</li><li>1</li><li>1</li><li>2</li></ol>\n"
      ],
      "text/latex": [
       "\\begin{enumerate*}\n",
       "\\item 0\n",
       "\\item 1\n",
       "\\item 1\n",
       "\\item 2\n",
       "\\end{enumerate*}\n"
      ],
      "text/markdown": [
       "1. 0\n",
       "2. 1\n",
       "3. 1\n",
       "4. 2\n",
       "\n",
       "\n"
      ],
      "text/plain": [
       "[1] 0 1 1 2"
      ]
     },
     "metadata": {},
     "output_type": "display_data"
    },
    {
     "data": {
      "text/html": [
       "<style>\n",
       ".list-inline {list-style: none; margin:0; padding: 0}\n",
       ".list-inline>li {display: inline-block}\n",
       ".list-inline>li:not(:last-child)::after {content: \"\\00b7\"; padding: 0 .5ex}\n",
       "</style>\n",
       "<ol class=list-inline><li>FALSE</li><li>TRUE</li><li>FALSE</li><li>FALSE</li></ol>\n"
      ],
      "text/latex": [
       "\\begin{enumerate*}\n",
       "\\item FALSE\n",
       "\\item TRUE\n",
       "\\item FALSE\n",
       "\\item FALSE\n",
       "\\end{enumerate*}\n"
      ],
      "text/markdown": [
       "1. FALSE\n",
       "2. TRUE\n",
       "3. FALSE\n",
       "4. FALSE\n",
       "\n",
       "\n"
      ],
      "text/plain": [
       "[1] FALSE  TRUE FALSE FALSE"
      ]
     },
     "metadata": {},
     "output_type": "display_data"
    }
   ],
   "source": [
    "pizzas <- c(\"cheese\", \"pepperoni\", \"sausage and green peppers \", \"sausage and green peppers and red peppers\")\n",
    "\n",
    "str_subset(pizzas, pattern = \"pepper\")\n",
    "str_detect(pizzas, pattern = \"pepper\")\n",
    "str_which(pizzas, pattern = \"pepper\")\n",
    "str_count(pizzas, pattern = \"pepper\")\n",
    "str_starts(pizzas, pattern = \"pepper\")"
   ]
  },
  {
   "cell_type": "code",
   "execution_count": 28,
   "id": "dd60df43-8fdb-436e-9670-42fff44fc195",
   "metadata": {},
   "outputs": [
    {
     "data": {
      "text/html": [
       "<table class=\"dataframe\">\n",
       "<caption>A matrix: 4 × 2 of type int</caption>\n",
       "<thead>\n",
       "\t<tr><th scope=col>start</th><th scope=col>end</th></tr>\n",
       "</thead>\n",
       "<tbody>\n",
       "\t<tr><td>NA</td><td>NA</td></tr>\n",
       "\t<tr><td> 1</td><td> 6</td></tr>\n",
       "\t<tr><td>19</td><td>24</td></tr>\n",
       "\t<tr><td>19</td><td>24</td></tr>\n",
       "</tbody>\n",
       "</table>\n"
      ],
      "text/latex": [
       "A matrix: 4 × 2 of type int\n",
       "\\begin{tabular}{ll}\n",
       " start & end\\\\\n",
       "\\hline\n",
       "\t NA & NA\\\\\n",
       "\t  1 &  6\\\\\n",
       "\t 19 & 24\\\\\n",
       "\t 19 & 24\\\\\n",
       "\\end{tabular}\n"
      ],
      "text/markdown": [
       "\n",
       "A matrix: 4 × 2 of type int\n",
       "\n",
       "| start | end |\n",
       "|---|---|\n",
       "| NA | NA |\n",
       "|  1 |  6 |\n",
       "| 19 | 24 |\n",
       "| 19 | 24 |\n",
       "\n"
      ],
      "text/plain": [
       "     start end\n",
       "[1,] NA    NA \n",
       "[2,]  1     6 \n",
       "[3,] 19    24 \n",
       "[4,] 19    24 "
      ]
     },
     "metadata": {},
     "output_type": "display_data"
    }
   ],
   "source": [
    "str_locate(pizzas, pattern = \"pepper\")"
   ]
  },
  {
   "cell_type": "code",
   "execution_count": 29,
   "id": "b900fc71-162d-458d-9c5a-f4a69c16b664",
   "metadata": {},
   "outputs": [
    {
     "data": {
      "text/html": [
       "<style>\n",
       ".list-inline {list-style: none; margin:0; padding: 0}\n",
       ".list-inline>li {display: inline-block}\n",
       ".list-inline>li:not(:last-child)::after {content: \"\\00b7\"; padding: 0 .5ex}\n",
       "</style>\n",
       "<ol class=list-inline><li>NA</li><li>'pepperoni'</li><li>NA</li><li>NA</li></ol>\n"
      ],
      "text/latex": [
       "\\begin{enumerate*}\n",
       "\\item NA\n",
       "\\item 'pepperoni'\n",
       "\\item NA\n",
       "\\item NA\n",
       "\\end{enumerate*}\n"
      ],
      "text/markdown": [
       "1. NA\n",
       "2. 'pepperoni'\n",
       "3. NA\n",
       "4. NA\n",
       "\n",
       "\n"
      ],
      "text/plain": [
       "[1] NA          \"pepperoni\" NA          NA         "
      ]
     },
     "metadata": {},
     "output_type": "display_data"
    },
    {
     "data": {
      "text/html": [
       "<table class=\"dataframe\">\n",
       "<caption>A matrix: 4 × 1 of type chr</caption>\n",
       "<tbody>\n",
       "\t<tr><td>NA       </td></tr>\n",
       "\t<tr><td>pepperoni</td></tr>\n",
       "\t<tr><td>NA       </td></tr>\n",
       "\t<tr><td>NA       </td></tr>\n",
       "</tbody>\n",
       "</table>\n"
      ],
      "text/latex": [
       "A matrix: 4 × 1 of type chr\n",
       "\\begin{tabular}{l}\n",
       "\t NA       \\\\\n",
       "\t pepperoni\\\\\n",
       "\t NA       \\\\\n",
       "\t NA       \\\\\n",
       "\\end{tabular}\n"
      ],
      "text/markdown": [
       "\n",
       "A matrix: 4 × 1 of type chr\n",
       "\n",
       "| NA        |\n",
       "| pepperoni |\n",
       "| NA        |\n",
       "| NA        |\n",
       "\n"
      ],
      "text/plain": [
       "     [,1]     \n",
       "[1,] NA       \n",
       "[2,] pepperoni\n",
       "[3,] NA       \n",
       "[4,] NA       "
      ]
     },
     "metadata": {},
     "output_type": "display_data"
    }
   ],
   "source": [
    "str_extract(pizzas, pattern = \"^p.+i$\")  # for regular expression, see chapter 3\n",
    "str_match(pizzas, pattern = \"^p.+i$\")"
   ]
  },
  {
   "cell_type": "code",
   "execution_count": 30,
   "id": "bf9d3707-5d91-4cf4-9ade-879729e36d6b",
   "metadata": {},
   "outputs": [
    {
     "data": {
      "text/html": [
       "'Umaiza'"
      ],
      "text/latex": [
       "'Umaiza'"
      ],
      "text/markdown": [
       "'Umaiza'"
      ],
      "text/plain": [
       "[1] \"Umaiza\""
      ]
     },
     "metadata": {},
     "output_type": "display_data"
    }
   ],
   "source": [
    "# Find girl_names that contain \"U\" and \"z\"\n",
    "starts_U <- str_subset(girl_names, \"U\")\n",
    "str_subset(starts_U, \"z\")"
   ]
  },
  {
   "cell_type": "code",
   "execution_count": 31,
   "id": "bdd09e6e-172e-4bbd-a9ae-dadb0357ebdf",
   "metadata": {},
   "outputs": [
    {
     "data": {
      "text/html": [
       "<table class=\"dataframe\">\n",
       "<caption>A tibble: 6 × 5</caption>\n",
       "<thead>\n",
       "\t<tr><th scope=col>year</th><th scope=col>sex</th><th scope=col>name</th><th scope=col>n</th><th scope=col>prop</th></tr>\n",
       "\t<tr><th scope=col>&lt;dbl&gt;</th><th scope=col>&lt;chr&gt;</th><th scope=col>&lt;chr&gt;</th><th scope=col>&lt;int&gt;</th><th scope=col>&lt;dbl&gt;</th></tr>\n",
       "</thead>\n",
       "<tbody>\n",
       "\t<tr><td>1880</td><td>F</td><td>Lizzie</td><td>388</td><td>0.00397521</td></tr>\n",
       "\t<tr><td>1880</td><td>F</td><td>Kizzie</td><td> 13</td><td>0.00013319</td></tr>\n",
       "\t<tr><td>1881</td><td>F</td><td>Lizzie</td><td>396</td><td>0.00400587</td></tr>\n",
       "\t<tr><td>1881</td><td>F</td><td>Kizzie</td><td>  9</td><td>0.00009104</td></tr>\n",
       "\t<tr><td>1882</td><td>F</td><td>Lizzie</td><td>495</td><td>0.00427849</td></tr>\n",
       "\t<tr><td>1882</td><td>F</td><td>Kizzie</td><td>  9</td><td>0.00007779</td></tr>\n",
       "</tbody>\n",
       "</table>\n"
      ],
      "text/latex": [
       "A tibble: 6 × 5\n",
       "\\begin{tabular}{lllll}\n",
       " year & sex & name & n & prop\\\\\n",
       " <dbl> & <chr> & <chr> & <int> & <dbl>\\\\\n",
       "\\hline\n",
       "\t 1880 & F & Lizzie & 388 & 0.00397521\\\\\n",
       "\t 1880 & F & Kizzie &  13 & 0.00013319\\\\\n",
       "\t 1881 & F & Lizzie & 396 & 0.00400587\\\\\n",
       "\t 1881 & F & Kizzie &   9 & 0.00009104\\\\\n",
       "\t 1882 & F & Lizzie & 495 & 0.00427849\\\\\n",
       "\t 1882 & F & Kizzie &   9 & 0.00007779\\\\\n",
       "\\end{tabular}\n"
      ],
      "text/markdown": [
       "\n",
       "A tibble: 6 × 5\n",
       "\n",
       "| year &lt;dbl&gt; | sex &lt;chr&gt; | name &lt;chr&gt; | n &lt;int&gt; | prop &lt;dbl&gt; |\n",
       "|---|---|---|---|---|\n",
       "| 1880 | F | Lizzie | 388 | 0.00397521 |\n",
       "| 1880 | F | Kizzie |  13 | 0.00013319 |\n",
       "| 1881 | F | Lizzie | 396 | 0.00400587 |\n",
       "| 1881 | F | Kizzie |   9 | 0.00009104 |\n",
       "| 1882 | F | Lizzie | 495 | 0.00427849 |\n",
       "| 1882 | F | Kizzie |   9 | 0.00007779 |\n",
       "\n"
      ],
      "text/plain": [
       "  year sex name   n   prop      \n",
       "1 1880 F   Lizzie 388 0.00397521\n",
       "2 1880 F   Kizzie  13 0.00013319\n",
       "3 1881 F   Lizzie 396 0.00400587\n",
       "4 1881 F   Kizzie   9 0.00009104\n",
       "5 1882 F   Lizzie 495 0.00427849\n",
       "6 1882 F   Kizzie   9 0.00007779"
      ]
     },
     "metadata": {},
     "output_type": "display_data"
    }
   ],
   "source": [
    "# Find rows where baby name contains \"zz\"\n",
    "contains_zz <- str_detect(babynames$name, \"zz\")\n",
    "babynames[contains_zz,] %>%\n",
    "  head()"
   ]
  },
  {
   "cell_type": "code",
   "execution_count": 32,
   "id": "b334b8a6-def4-40ce-aa72-b28937002e78",
   "metadata": {},
   "outputs": [
    {
     "data": {
      "text/plain": [
       "   ends_in_ee\n",
       "    FALSE  TRUE\n",
       "  F 18609   572\n",
       "  M 13963    84"
      ]
     },
     "metadata": {},
     "output_type": "display_data"
    }
   ],
   "source": [
    "# Compare how many boy names end in \"ee\" compared to girl names. \n",
    "all_names <- babynames_2014$name\n",
    "last_two_letters <- str_sub(all_names, start = -2, end = -1)\n",
    "ends_in_ee <- str_detect(last_two_letters, \"ee\")\n",
    "table(babynames_2014$sex, ends_in_ee)"
   ]
  },
  {
   "cell_type": "markdown",
   "id": "94522c3a-bdfb-4d21-b902-f69bf3b4c1dc",
   "metadata": {},
   "source": [
    "The `fixed()` function specifies that a pattern is a fixed string, rather than a regular expression:"
   ]
  },
  {
   "cell_type": "code",
   "execution_count": 33,
   "id": "3f6404b8-a30e-45e1-b6fc-e3b168e1d431",
   "metadata": {},
   "outputs": [
    {
     "data": {
      "text/html": [
       "<style>\n",
       ".list-inline {list-style: none; margin:0; padding: 0}\n",
       ".list-inline>li {display: inline-block}\n",
       ".list-inline>li:not(:last-child)::after {content: \"\\00b7\"; padding: 0 .5ex}\n",
       "</style>\n",
       "<ol class=list-inline><li>TRUE</li><li>TRUE</li></ol>\n"
      ],
      "text/latex": [
       "\\begin{enumerate*}\n",
       "\\item TRUE\n",
       "\\item TRUE\n",
       "\\end{enumerate*}\n"
      ],
      "text/markdown": [
       "1. TRUE\n",
       "2. TRUE\n",
       "\n",
       "\n"
      ],
      "text/plain": [
       "[1] TRUE TRUE"
      ]
     },
     "metadata": {},
     "output_type": "display_data"
    },
    {
     "data": {
      "text/html": [
       "<style>\n",
       ".list-inline {list-style: none; margin:0; padding: 0}\n",
       ".list-inline>li {display: inline-block}\n",
       ".list-inline>li:not(:last-child)::after {content: \"\\00b7\"; padding: 0 .5ex}\n",
       "</style>\n",
       "<ol class=list-inline><li>FALSE</li><li>TRUE</li></ol>\n"
      ],
      "text/latex": [
       "\\begin{enumerate*}\n",
       "\\item FALSE\n",
       "\\item TRUE\n",
       "\\end{enumerate*}\n"
      ],
      "text/markdown": [
       "1. FALSE\n",
       "2. TRUE\n",
       "\n",
       "\n"
      ],
      "text/plain": [
       "[1] FALSE  TRUE"
      ]
     },
     "metadata": {},
     "output_type": "display_data"
    }
   ],
   "source": [
    "pattern <- \"a.b\"\n",
    "strings <- c(\"abb\", \"a.b\")\n",
    "str_detect(strings, pattern)\n",
    "str_detect(strings, fixed(pattern))"
   ]
  },
  {
   "cell_type": "code",
   "execution_count": 34,
   "id": "7b52697b-35b2-415a-87b6-f780e24b5e05",
   "metadata": {},
   "outputs": [
    {
     "name": "stderr",
     "output_type": "stream",
     "text": [
      "Warning message:\n",
      "\"\u001b[1m\u001b[22m`str_view()` was deprecated in stringr 1.5.0.\n",
      "\u001b[36mi\u001b[39m Please use `str_view_all()` instead.\"\n"
     ]
    },
    {
     "data": {
      "text/plain": [
       "\u001b[90m[1] |\u001b[39m Alvin \u001b[36m<&>\u001b[39m Simon \u001b[36m<&>\u001b[39m Theodore"
      ]
     },
     "metadata": {},
     "output_type": "display_data"
    },
    {
     "data": {
      "text/plain": [
       "\u001b[90m[1] |\u001b[39m \u001b[36m<A>\u001b[39mlvin & Sim\u001b[36m<o>\u001b[39mn & The\u001b[36m<o>\u001b[39md\u001b[36m<o>\u001b[39mre"
      ]
     },
     "metadata": {},
     "output_type": "display_data"
    }
   ],
   "source": [
    "# Visualize matches\n",
    "str_view_all(\"Alvin & Simon & Theodore\", pattern = \"&\")\n",
    "str_view_all(\"Alvin & Simon & Theodore\", pattern = \"[Ao]\") # for more regex patterns, see chapter 3"
   ]
  },
  {
   "cell_type": "markdown",
   "id": "2b2e2db9-f7d4-48de-b13e-52f7e6a75ece",
   "metadata": {},
   "source": [
    "<a name=\"toc_46431_2.3\"></a>\n",
    "**2.3 Join and Split strings**\n",
    "\n",
    "Joining:\n",
    "- `str_dup()` - repeats strings\n",
    "- `str_c()` - stringr version of `paste()`\n",
    "- `str_flatten()` - Combines a vector of stings into one long string.\n",
    "\n",
    "Splitting:\n",
    "- `str_split()` - split into substrings at occurrences of a pattern match. Arguments:\n",
    "   - `pattern=` - pattern to met matched\n",
    "   - `n = ` number of substrings to be returned. Stops splitting when n is reached.\n",
    "   - `simplify = TRUE` split a vector of strings into a matrix of substrings\n",
    "   - `fixed()` takes pattern literally\n",
    "   \n",
    "Other:\n",
    "- `str_unique()` - removes duplicate strings from a vector of strings"
   ]
  },
  {
   "cell_type": "markdown",
   "id": "67ab1a90-7342-4bbe-8e2c-197a314f9e79",
   "metadata": {},
   "source": [
    "<u>The `str_c()` function </u>"
   ]
  },
  {
   "cell_type": "code",
   "execution_count": 35,
   "id": "a8745dd8-79c0-434d-98f9-c44b675f2c2d",
   "metadata": {},
   "outputs": [
    {
     "data": {
      "text/html": [
       "'I want to order a pizza with sausage, spinach, and feta.'"
      ],
      "text/latex": [
       "'I want to order a pizza with sausage, spinach, and feta.'"
      ],
      "text/markdown": [
       "'I want to order a pizza with sausage, spinach, and feta.'"
      ],
      "text/plain": [
       "[1] \"I want to order a pizza with sausage, spinach, and feta.\""
      ]
     },
     "metadata": {},
     "output_type": "display_data"
    },
    {
     "data": {
      "text/html": [
       "'I want to order a pizza with sausage, spinach, and feta.'"
      ],
      "text/latex": [
       "'I want to order a pizza with sausage, spinach, and feta.'"
      ],
      "text/markdown": [
       "'I want to order a pizza with sausage, spinach, and feta.'"
      ],
      "text/plain": [
       "[1] \"I want to order a pizza with sausage, spinach, and feta.\""
      ]
     },
     "metadata": {},
     "output_type": "display_data"
    }
   ],
   "source": [
    "paste(\"I want to order a pizza with \", these_toppings, \".\", sep = \"\")\n",
    "str_c(\"I want to order a pizza with \", these_toppings, \".\", sep = \"\") # same result"
   ]
  },
  {
   "cell_type": "markdown",
   "id": "6c36225c-7080-4cfa-9cb8-9ba9720a1ed9",
   "metadata": {},
   "source": [
    "<u>The `str_dup()` and `str_unique()` function </u>"
   ]
  },
  {
   "cell_type": "code",
   "execution_count": 36,
   "id": "60c34407-0f03-4770-8268-986360cdfda1",
   "metadata": {},
   "outputs": [
    {
     "data": {
      "text/html": [
       "<style>\n",
       ".list-inline {list-style: none; margin:0; padding: 0}\n",
       ".list-inline>li {display: inline-block}\n",
       ".list-inline>li:not(:last-child)::after {content: \"\\00b7\"; padding: 0 .5ex}\n",
       "</style>\n",
       "<ol class=list-inline><li>'Hey'</li><li>'Hey'</li><li>'Hey'</li></ol>\n"
      ],
      "text/latex": [
       "\\begin{enumerate*}\n",
       "\\item 'Hey'\n",
       "\\item 'Hey'\n",
       "\\item 'Hey'\n",
       "\\end{enumerate*}\n"
      ],
      "text/markdown": [
       "1. 'Hey'\n",
       "2. 'Hey'\n",
       "3. 'Hey'\n",
       "\n",
       "\n"
      ],
      "text/plain": [
       "[1] \"Hey\" \"Hey\" \"Hey\""
      ]
     },
     "metadata": {},
     "output_type": "display_data"
    },
    {
     "data": {
      "text/html": [
       "'HeyHeyHey'"
      ],
      "text/latex": [
       "'HeyHeyHey'"
      ],
      "text/markdown": [
       "'HeyHeyHey'"
      ],
      "text/plain": [
       "[1] \"HeyHeyHey\""
      ]
     },
     "metadata": {},
     "output_type": "display_data"
    }
   ],
   "source": [
    "rep(\"Hey\", 3)  # creates 3 strings\n",
    "str_dup(\"Hey\", times = 3) # creates 1 string"
   ]
  },
  {
   "cell_type": "code",
   "execution_count": 37,
   "id": "029ccfc7-a14e-467c-b4ae-2a567c143d51",
   "metadata": {},
   "outputs": [
    {
     "data": {
      "text/html": [
       "'Hey'"
      ],
      "text/latex": [
       "'Hey'"
      ],
      "text/markdown": [
       "'Hey'"
      ],
      "text/plain": [
       "[1] \"Hey\""
      ]
     },
     "metadata": {},
     "output_type": "display_data"
    }
   ],
   "source": [
    "hey <- rep(\"Hey\", 3) # vector of strings\n",
    "str_unique(hey)"
   ]
  },
  {
   "cell_type": "markdown",
   "id": "bd082f4c-a962-4222-817a-15e831181736",
   "metadata": {},
   "source": [
    "<u>The `str_flatten()` function </u>"
   ]
  },
  {
   "cell_type": "code",
   "execution_count": 38,
   "id": "6386f98c-f9c7-459a-91b0-dbc2cb7ffec8",
   "metadata": {},
   "outputs": [
    {
     "data": {
      "text/html": [
       "<style>\n",
       ".list-inline {list-style: none; margin:0; padding: 0}\n",
       ".list-inline>li {display: inline-block}\n",
       ".list-inline>li:not(:last-child)::after {content: \"\\00b7\"; padding: 0 .5ex}\n",
       "</style>\n",
       "<ol class=list-inline><li>'Hey'</li><li>'Hey'</li><li>'Hey'</li></ol>\n"
      ],
      "text/latex": [
       "\\begin{enumerate*}\n",
       "\\item 'Hey'\n",
       "\\item 'Hey'\n",
       "\\item 'Hey'\n",
       "\\end{enumerate*}\n"
      ],
      "text/markdown": [
       "1. 'Hey'\n",
       "2. 'Hey'\n",
       "3. 'Hey'\n",
       "\n",
       "\n"
      ],
      "text/plain": [
       "[1] \"Hey\" \"Hey\" \"Hey\""
      ]
     },
     "metadata": {},
     "output_type": "display_data"
    },
    {
     "data": {
      "text/html": [
       "'Hey, Hey, Hey'"
      ],
      "text/latex": [
       "'Hey, Hey, Hey'"
      ],
      "text/markdown": [
       "'Hey, Hey, Hey'"
      ],
      "text/plain": [
       "[1] \"Hey, Hey, Hey\""
      ]
     },
     "metadata": {},
     "output_type": "display_data"
    }
   ],
   "source": [
    "rep(\"Hey\", 3)\n",
    "str_flatten(rep(\"Hey\", 3), \", \")"
   ]
  },
  {
   "cell_type": "markdown",
   "id": "e891c507-d502-4114-9938-81d8e9ea7f74",
   "metadata": {},
   "source": [
    "<u>The `str_split()` function </u>"
   ]
  },
  {
   "cell_type": "code",
   "execution_count": 39,
   "id": "f6127246-185e-4270-9a60-cbd526311474",
   "metadata": {},
   "outputs": [
    {
     "data": {
      "text/html": [
       "<ol>\n",
       "\t<li><style>\n",
       ".list-inline {list-style: none; margin:0; padding: 0}\n",
       ".list-inline>li {display: inline-block}\n",
       ".list-inline>li:not(:last-child)::after {content: \"\\00b7\"; padding: 0 .5ex}\n",
       "</style>\n",
       "<ol class=list-inline><li>'Alvin '</li><li>' Simon '</li><li>' Theodore'</li></ol>\n",
       "</li>\n",
       "</ol>\n"
      ],
      "text/latex": [
       "\\begin{enumerate}\n",
       "\\item \\begin{enumerate*}\n",
       "\\item 'Alvin '\n",
       "\\item ' Simon '\n",
       "\\item ' Theodore'\n",
       "\\end{enumerate*}\n",
       "\n",
       "\\end{enumerate}\n"
      ],
      "text/markdown": [
       "1. 1. 'Alvin '\n",
       "2. ' Simon '\n",
       "3. ' Theodore'\n",
       "\n",
       "\n",
       "\n",
       "\n",
       "\n"
      ],
      "text/plain": [
       "[[1]]\n",
       "[1] \"Alvin \"    \" Simon \"   \" Theodore\"\n"
      ]
     },
     "metadata": {},
     "output_type": "display_data"
    },
    {
     "data": {
      "text/html": [
       "<ol>\n",
       "\t<li><style>\n",
       ".list-inline {list-style: none; margin:0; padding: 0}\n",
       ".list-inline>li {display: inline-block}\n",
       ".list-inline>li:not(:last-child)::after {content: \"\\00b7\"; padding: 0 .5ex}\n",
       "</style>\n",
       "<ol class=list-inline><li>'Alvin '</li><li>' Simon &amp; Theodore'</li></ol>\n",
       "</li>\n",
       "</ol>\n"
      ],
      "text/latex": [
       "\\begin{enumerate}\n",
       "\\item \\begin{enumerate*}\n",
       "\\item 'Alvin '\n",
       "\\item ' Simon \\& Theodore'\n",
       "\\end{enumerate*}\n",
       "\n",
       "\\end{enumerate}\n"
      ],
      "text/markdown": [
       "1. 1. 'Alvin '\n",
       "2. ' Simon &amp; Theodore'\n",
       "\n",
       "\n",
       "\n",
       "\n",
       "\n"
      ],
      "text/plain": [
       "[[1]]\n",
       "[1] \"Alvin \"            \" Simon & Theodore\"\n"
      ]
     },
     "metadata": {},
     "output_type": "display_data"
    },
    {
     "data": {
      "text/html": [
       "<ol>\n",
       "\t<li><style>\n",
       ".list-inline {list-style: none; margin:0; padding: 0}\n",
       ".list-inline>li {display: inline-block}\n",
       ".list-inline>li:not(:last-child)::after {content: \"\\00b7\"; padding: 0 .5ex}\n",
       "</style>\n",
       "<ol class=list-inline><li>'You '</li><li>' Me'</li></ol>\n",
       "</li>\n",
       "\t<li><style>\n",
       ".list-inline {list-style: none; margin:0; padding: 0}\n",
       ".list-inline>li {display: inline-block}\n",
       ".list-inline>li:not(:last-child)::after {content: \"\\00b7\"; padding: 0 .5ex}\n",
       "</style>\n",
       "<ol class=list-inline><li>'Tom '</li><li>' Jerry'</li></ol>\n",
       "</li>\n",
       "\t<li><style>\n",
       ".list-inline {list-style: none; margin:0; padding: 0}\n",
       ".list-inline>li {display: inline-block}\n",
       ".list-inline>li:not(:last-child)::after {content: \"\\00b7\"; padding: 0 .5ex}\n",
       "</style>\n",
       "<ol class=list-inline><li>'Alvin '</li><li>' Simon '</li><li>' Theodore'</li></ol>\n",
       "</li>\n",
       "</ol>\n"
      ],
      "text/latex": [
       "\\begin{enumerate}\n",
       "\\item \\begin{enumerate*}\n",
       "\\item 'You '\n",
       "\\item ' Me'\n",
       "\\end{enumerate*}\n",
       "\n",
       "\\item \\begin{enumerate*}\n",
       "\\item 'Tom '\n",
       "\\item ' Jerry'\n",
       "\\end{enumerate*}\n",
       "\n",
       "\\item \\begin{enumerate*}\n",
       "\\item 'Alvin '\n",
       "\\item ' Simon '\n",
       "\\item ' Theodore'\n",
       "\\end{enumerate*}\n",
       "\n",
       "\\end{enumerate}\n"
      ],
      "text/markdown": [
       "1. 1. 'You '\n",
       "2. ' Me'\n",
       "\n",
       "\n",
       "\n",
       "2. 1. 'Tom '\n",
       "2. ' Jerry'\n",
       "\n",
       "\n",
       "\n",
       "3. 1. 'Alvin '\n",
       "2. ' Simon '\n",
       "3. ' Theodore'\n",
       "\n",
       "\n",
       "\n",
       "\n",
       "\n"
      ],
      "text/plain": [
       "[[1]]\n",
       "[1] \"You \" \" Me\" \n",
       "\n",
       "[[2]]\n",
       "[1] \"Tom \"   \" Jerry\"\n",
       "\n",
       "[[3]]\n",
       "[1] \"Alvin \"    \" Simon \"   \" Theodore\"\n"
      ]
     },
     "metadata": {},
     "output_type": "display_data"
    }
   ],
   "source": [
    "str_split(\"Alvin & Simon & Theodore\", pattern = \"&\")\n",
    "str_split(\"Alvin & Simon & Theodore\", pattern = \"&\", n = 2) # n = number of substrings returned. \n",
    "\n",
    "chars <- c(\"You & Me\", \"Tom & Jerry\", \"Alvin & Simon & Theodore\")\n",
    "str_split(chars, pattern = \"&\") # gives a list of substrings"
   ]
  },
  {
   "cell_type": "code",
   "execution_count": 40,
   "id": "eae5cd71-6db1-418f-b08f-fcaa2283d043",
   "metadata": {},
   "outputs": [
    {
     "data": {
      "text/html": [
       "<table class=\"dataframe\">\n",
       "<caption>A matrix: 3 × 2 of type chr</caption>\n",
       "<tbody>\n",
       "\t<tr><td>You   </td><td> Me              </td></tr>\n",
       "\t<tr><td>Tom   </td><td> Jerry           </td></tr>\n",
       "\t<tr><td>Alvin </td><td> Simon &amp; Theodore</td></tr>\n",
       "</tbody>\n",
       "</table>\n"
      ],
      "text/latex": [
       "A matrix: 3 × 2 of type chr\n",
       "\\begin{tabular}{ll}\n",
       "\t You    &  Me              \\\\\n",
       "\t Tom    &  Jerry           \\\\\n",
       "\t Alvin  &  Simon \\& Theodore\\\\\n",
       "\\end{tabular}\n"
      ],
      "text/markdown": [
       "\n",
       "A matrix: 3 × 2 of type chr\n",
       "\n",
       "| You    |  Me               |\n",
       "| Tom    |  Jerry            |\n",
       "| Alvin  |  Simon &amp; Theodore |\n",
       "\n"
      ],
      "text/plain": [
       "     [,1]   [,2]             \n",
       "[1,] You     Me              \n",
       "[2,] Tom     Jerry           \n",
       "[3,] Alvin   Simon & Theodore"
      ]
     },
     "metadata": {},
     "output_type": "display_data"
    }
   ],
   "source": [
    "str_split(chars, pattern = \"&\", n = 2, simplify = TRUE) # gives a matrix of substrings"
   ]
  },
  {
   "cell_type": "code",
   "execution_count": 41,
   "id": "faef12fd-0586-4fda-ac60-a8b1dd3e7fa1",
   "metadata": {},
   "outputs": [
    {
     "data": {
      "text/html": [
       "<table class=\"dataframe\">\n",
       "<caption>A matrix: 2 × 2 of type chr</caption>\n",
       "<tbody>\n",
       "\t<tr><td>23.01.2017</td><td>29.01.2017</td></tr>\n",
       "\t<tr><td>30.01.2017</td><td>06.02.2017</td></tr>\n",
       "</tbody>\n",
       "</table>\n"
      ],
      "text/latex": [
       "A matrix: 2 × 2 of type chr\n",
       "\\begin{tabular}{ll}\n",
       "\t 23.01.2017 & 29.01.2017\\\\\n",
       "\t 30.01.2017 & 06.02.2017\\\\\n",
       "\\end{tabular}\n"
      ],
      "text/markdown": [
       "\n",
       "A matrix: 2 × 2 of type chr\n",
       "\n",
       "| 23.01.2017 | 29.01.2017 |\n",
       "| 30.01.2017 | 06.02.2017 |\n",
       "\n"
      ],
      "text/plain": [
       "     [,1]       [,2]      \n",
       "[1,] 23.01.2017 29.01.2017\n",
       "[2,] 30.01.2017 06.02.2017"
      ]
     },
     "metadata": {},
     "output_type": "display_data"
    },
    {
     "data": {
      "text/html": [
       "<table class=\"dataframe\">\n",
       "<caption>A matrix: 2 × 3 of type chr</caption>\n",
       "<tbody>\n",
       "\t<tr><td>23</td><td>01</td><td>2017</td></tr>\n",
       "\t<tr><td>30</td><td>01</td><td>2017</td></tr>\n",
       "</tbody>\n",
       "</table>\n"
      ],
      "text/latex": [
       "A matrix: 2 × 3 of type chr\n",
       "\\begin{tabular}{lll}\n",
       "\t 23 & 01 & 2017\\\\\n",
       "\t 30 & 01 & 2017\\\\\n",
       "\\end{tabular}\n"
      ],
      "text/markdown": [
       "\n",
       "A matrix: 2 × 3 of type chr\n",
       "\n",
       "| 23 | 01 | 2017 |\n",
       "| 30 | 01 | 2017 |\n",
       "\n"
      ],
      "text/plain": [
       "     [,1] [,2] [,3]\n",
       "[1,] 23   01   2017\n",
       "[2,] 30   01   2017"
      ]
     },
     "metadata": {},
     "output_type": "display_data"
    }
   ],
   "source": [
    "# Extract start day, month and year\n",
    "date_ranges <- c(\"23.01.2017 - 29.01.2017\", \"30.01.2017 - 06.02.2017\")\n",
    "\n",
    "split_dates_n <- str_split(date_ranges, fixed(\" - \"), n = 2, simplify = TRUE)\n",
    "split_dates_n\n",
    "\n",
    "start_dates <- split_dates_n[,1]\n",
    "str_split(start_dates, fixed(\".\"), simplify = TRUE)"
   ]
  },
  {
   "cell_type": "code",
   "execution_count": 42,
   "id": "47d7e79d-a2a3-4e21-ba34-0990c4fa08ba",
   "metadata": {},
   "outputs": [
    {
     "data": {
      "text/html": [
       "<style>\n",
       ".list-inline {list-style: none; margin:0; padding: 0}\n",
       ".list-inline>li {display: inline-block}\n",
       ".list-inline>li:not(:last-child)::after {content: \"\\00b7\"; padding: 0 .5ex}\n",
       "</style>\n",
       "<ol class=list-inline><li>'George'</li><li>'David'</li></ol>\n"
      ],
      "text/latex": [
       "\\begin{enumerate*}\n",
       "\\item 'George'\n",
       "\\item 'David'\n",
       "\\end{enumerate*}\n"
      ],
      "text/markdown": [
       "1. 'George'\n",
       "2. 'David'\n",
       "\n",
       "\n"
      ],
      "text/plain": [
       "[1] \"George\" \"David\" "
      ]
     },
     "metadata": {},
     "output_type": "display_data"
    },
    {
     "data": {
      "text/html": [
       "<style>\n",
       ".list-inline {list-style: none; margin:0; padding: 0}\n",
       ".list-inline>li {display: inline-block}\n",
       ".list-inline>li:not(:last-child)::after {content: \"\\00b7\"; padding: 0 .5ex}\n",
       "</style>\n",
       "<ol class=list-inline><li>'Box'</li><li>'Cox'</li></ol>\n"
      ],
      "text/latex": [
       "\\begin{enumerate*}\n",
       "\\item 'Box'\n",
       "\\item 'Cox'\n",
       "\\end{enumerate*}\n"
      ],
      "text/markdown": [
       "1. 'Box'\n",
       "2. 'Cox'\n",
       "\n",
       "\n"
      ],
      "text/plain": [
       "[1] \"Box\" \"Cox\""
      ]
     },
     "metadata": {},
     "output_type": "display_data"
    }
   ],
   "source": [
    "# Extract first and last names \n",
    "both_names <- c(\"Box, George\", \"Cox, David\")\n",
    "\n",
    "both_names_split <- str_split(both_names, fixed(\", \"), simplify = TRUE)\n",
    "both_names_split[,2]\n",
    "both_names_split[,1]"
   ]
  },
  {
   "cell_type": "code",
   "execution_count": 43,
   "id": "629ed5c1-e18e-43eb-89e6-0b06f1cc2a37",
   "metadata": {},
   "outputs": [
    {
     "data": {
      "text/html": [
       "<style>\n",
       ".list-inline {list-style: none; margin:0; padding: 0}\n",
       ".list-inline>li {display: inline-block}\n",
       ".list-inline>li:not(:last-child)::after {content: \"\\00b7\"; padding: 0 .5ex}\n",
       "</style>\n",
       "<ol class=list-inline><li>'The table was a large one, but the three were all crowded together at one corner of it:'</li><li>'\"No room! No room!\" they cried out when they saw Alice coming.'</li><li>'\"There\\'s plenty of room!\" said Alice indignantly, and she sat down in a large arm-chair at one end of the table.'</li></ol>\n"
      ],
      "text/latex": [
       "\\begin{enumerate*}\n",
       "\\item 'The table was a large one, but the three were all crowded together at one corner of it:'\n",
       "\\item '\"No room! No room!\" they cried out when they saw Alice coming.'\n",
       "\\item '\"There\\textbackslash{}'s plenty of room!\" said Alice indignantly, and she sat down in a large arm-chair at one end of the table.'\n",
       "\\end{enumerate*}\n"
      ],
      "text/markdown": [
       "1. 'The table was a large one, but the three were all crowded together at one corner of it:'\n",
       "2. '\"No room! No room!\" they cried out when they saw Alice coming.'\n",
       "3. '\"There\\'s plenty of room!\" said Alice indignantly, and she sat down in a large arm-chair at one end of the table.'\n",
       "\n",
       "\n"
      ],
      "text/plain": [
       "[1] \"The table was a large one, but the three were all crowded together at one corner of it:\"                           \n",
       "[2] \"\\\"No room! No room!\\\" they cried out when they saw Alice coming.\"                                                  \n",
       "[3] \"\\\"There's plenty of room!\\\" said Alice indignantly, and she sat down in a large arm-chair at one end of the table.\""
      ]
     },
     "metadata": {},
     "output_type": "display_data"
    },
    {
     "data": {
      "text/html": [
       "<ol>\n",
       "\t<li>18</li>\n",
       "\t<li>12</li>\n",
       "\t<li>21</li>\n",
       "</ol>\n"
      ],
      "text/latex": [
       "\\begin{enumerate}\n",
       "\\item 18\n",
       "\\item 12\n",
       "\\item 21\n",
       "\\end{enumerate}\n"
      ],
      "text/markdown": [
       "1. 18\n",
       "2. 12\n",
       "3. 21\n",
       "\n",
       "\n"
      ],
      "text/plain": [
       "[[1]]\n",
       "[1] 18\n",
       "\n",
       "[[2]]\n",
       "[1] 12\n",
       "\n",
       "[[3]]\n",
       "[1] 21\n"
      ]
     },
     "metadata": {},
     "output_type": "display_data"
    },
    {
     "data": {
      "text/html": [
       "<ol>\n",
       "\t<li><style>\n",
       ".list-inline {list-style: none; margin:0; padding: 0}\n",
       ".list-inline>li {display: inline-block}\n",
       ".list-inline>li:not(:last-child)::after {content: \"\\00b7\"; padding: 0 .5ex}\n",
       "</style>\n",
       "<ol class=list-inline><li>3</li><li>5</li><li>3</li><li>1</li><li>5</li><li>4</li><li>3</li><li>3</li><li>5</li><li>4</li><li>3</li><li>7</li><li>8</li><li>2</li><li>3</li><li>6</li><li>2</li><li>3</li></ol>\n",
       "</li>\n",
       "\t<li><style>\n",
       ".list-inline {list-style: none; margin:0; padding: 0}\n",
       ".list-inline>li {display: inline-block}\n",
       ".list-inline>li:not(:last-child)::after {content: \"\\00b7\"; padding: 0 .5ex}\n",
       "</style>\n",
       "<ol class=list-inline><li>3</li><li>5</li><li>2</li><li>6</li><li>4</li><li>5</li><li>3</li><li>4</li><li>4</li><li>3</li><li>5</li><li>7</li></ol>\n",
       "</li>\n",
       "\t<li><style>\n",
       ".list-inline {list-style: none; margin:0; padding: 0}\n",
       ".list-inline>li {display: inline-block}\n",
       ".list-inline>li:not(:last-child)::after {content: \"\\00b7\"; padding: 0 .5ex}\n",
       "</style>\n",
       "<ol class=list-inline><li>8</li><li>6</li><li>2</li><li>6</li><li>4</li><li>5</li><li>12</li><li>3</li><li>3</li><li>3</li><li>4</li><li>2</li><li>1</li><li>5</li><li>9</li><li>2</li><li>3</li><li>3</li><li>2</li><li>3</li><li>6</li></ol>\n",
       "</li>\n",
       "</ol>\n"
      ],
      "text/latex": [
       "\\begin{enumerate}\n",
       "\\item \\begin{enumerate*}\n",
       "\\item 3\n",
       "\\item 5\n",
       "\\item 3\n",
       "\\item 1\n",
       "\\item 5\n",
       "\\item 4\n",
       "\\item 3\n",
       "\\item 3\n",
       "\\item 5\n",
       "\\item 4\n",
       "\\item 3\n",
       "\\item 7\n",
       "\\item 8\n",
       "\\item 2\n",
       "\\item 3\n",
       "\\item 6\n",
       "\\item 2\n",
       "\\item 3\n",
       "\\end{enumerate*}\n",
       "\n",
       "\\item \\begin{enumerate*}\n",
       "\\item 3\n",
       "\\item 5\n",
       "\\item 2\n",
       "\\item 6\n",
       "\\item 4\n",
       "\\item 5\n",
       "\\item 3\n",
       "\\item 4\n",
       "\\item 4\n",
       "\\item 3\n",
       "\\item 5\n",
       "\\item 7\n",
       "\\end{enumerate*}\n",
       "\n",
       "\\item \\begin{enumerate*}\n",
       "\\item 8\n",
       "\\item 6\n",
       "\\item 2\n",
       "\\item 6\n",
       "\\item 4\n",
       "\\item 5\n",
       "\\item 12\n",
       "\\item 3\n",
       "\\item 3\n",
       "\\item 3\n",
       "\\item 4\n",
       "\\item 2\n",
       "\\item 1\n",
       "\\item 5\n",
       "\\item 9\n",
       "\\item 2\n",
       "\\item 3\n",
       "\\item 3\n",
       "\\item 2\n",
       "\\item 3\n",
       "\\item 6\n",
       "\\end{enumerate*}\n",
       "\n",
       "\\end{enumerate}\n"
      ],
      "text/markdown": [
       "1. 1. 3\n",
       "2. 5\n",
       "3. 3\n",
       "4. 1\n",
       "5. 5\n",
       "6. 4\n",
       "7. 3\n",
       "8. 3\n",
       "9. 5\n",
       "10. 4\n",
       "11. 3\n",
       "12. 7\n",
       "13. 8\n",
       "14. 2\n",
       "15. 3\n",
       "16. 6\n",
       "17. 2\n",
       "18. 3\n",
       "\n",
       "\n",
       "\n",
       "2. 1. 3\n",
       "2. 5\n",
       "3. 2\n",
       "4. 6\n",
       "5. 4\n",
       "6. 5\n",
       "7. 3\n",
       "8. 4\n",
       "9. 4\n",
       "10. 3\n",
       "11. 5\n",
       "12. 7\n",
       "\n",
       "\n",
       "\n",
       "3. 1. 8\n",
       "2. 6\n",
       "3. 2\n",
       "4. 6\n",
       "5. 4\n",
       "6. 5\n",
       "7. 12\n",
       "8. 3\n",
       "9. 3\n",
       "10. 3\n",
       "11. 4\n",
       "12. 2\n",
       "13. 1\n",
       "14. 5\n",
       "15. 9\n",
       "16. 2\n",
       "17. 3\n",
       "18. 3\n",
       "19. 2\n",
       "20. 3\n",
       "21. 6\n",
       "\n",
       "\n",
       "\n",
       "\n",
       "\n"
      ],
      "text/plain": [
       "[[1]]\n",
       " [1] 3 5 3 1 5 4 3 3 5 4 3 7 8 2 3 6 2 3\n",
       "\n",
       "[[2]]\n",
       " [1] 3 5 2 6 4 5 3 4 4 3 5 7\n",
       "\n",
       "[[3]]\n",
       " [1]  8  6  2  6  4  5 12  3  3  3  4  2  1  5  9  2  3  3  2  3  6\n"
      ]
     },
     "metadata": {},
     "output_type": "display_data"
    },
    {
     "data": {
      "text/html": [
       "<ol>\n",
       "\t<li>3.88888888888889</li>\n",
       "\t<li>4.25</li>\n",
       "\t<li>4.38095238095238</li>\n",
       "</ol>\n"
      ],
      "text/latex": [
       "\\begin{enumerate}\n",
       "\\item 3.88888888888889\n",
       "\\item 4.25\n",
       "\\item 4.38095238095238\n",
       "\\end{enumerate}\n"
      ],
      "text/markdown": [
       "1. 3.88888888888889\n",
       "2. 4.25\n",
       "3. 4.38095238095238\n",
       "\n",
       "\n"
      ],
      "text/plain": [
       "[[1]]\n",
       "[1] 3.888889\n",
       "\n",
       "[[2]]\n",
       "[1] 4.25\n",
       "\n",
       "[[3]]\n",
       "[1] 4.380952\n"
      ]
     },
     "metadata": {},
     "output_type": "display_data"
    }
   ],
   "source": [
    "# Some simple text statistics\n",
    "lines\n",
    "\n",
    "words <- str_split(lines, fixed(\" \"))\n",
    "\n",
    "lapply(words, length) # Number of words per line\n",
    "  \n",
    "word_lengths <- lapply(words, str_length) # Number of characters in each word\n",
    "word_lengths\n",
    "\n",
    "lapply(word_lengths, mean) # Average word length per line"
   ]
  },
  {
   "cell_type": "code",
   "execution_count": 1,
   "id": "8ab1aad4-41e2-4616-8977-121fa710b3c8",
   "metadata": {},
   "outputs": [
    {
     "ename": "ERROR",
     "evalue": "Error in str_flatten(fruit, \", \"): could not find function \"str_flatten\"\n",
     "output_type": "error",
     "traceback": [
      "Error in str_flatten(fruit, \", \"): could not find function \"str_flatten\"\nTraceback:\n"
     ]
    }
   ],
   "source": [
    "str_flatten(fruit, \", \")"
   ]
  },
  {
   "cell_type": "markdown",
   "id": "5495d96c-27fa-40f8-a279-e9da11035e9e",
   "metadata": {},
   "source": [
    "<a name=\"toc_46431_2.4\"></a>\n",
    "**2.4 Remove and replace matches in strings**\n",
    "\n",
    "- `str_remove()` - remove first match\n",
    "- `str_remove_all()` - removes all matches\n",
    "- `str_replace()` - replace the first matched pattern in each string.\n",
    "- `str_replace_all()` - replace all matched pattern in each string"
   ]
  },
  {
   "cell_type": "code",
   "execution_count": 8,
   "id": "ed0fcd27-6a0d-4b0d-8d05-4c64c5c284d5",
   "metadata": {},
   "outputs": [
    {
     "data": {
      "text/html": [
       "<style>\n",
       ".list-inline {list-style: none; margin:0; padding: 0}\n",
       ".list-inline>li {display: inline-block}\n",
       ".list-inline>li:not(:last-child)::after {content: \"\\00b7\"; padding: 0 .5ex}\n",
       "</style>\n",
       "<ol class=list-inline><li>'8.52'</li><li>'4.62 minutes'</li></ol>\n"
      ],
      "text/latex": [
       "\\begin{enumerate*}\n",
       "\\item '8.52'\n",
       "\\item '4.62 minutes'\n",
       "\\end{enumerate*}\n"
      ],
      "text/markdown": [
       "1. '8.52'\n",
       "2. '4.62 minutes'\n",
       "\n",
       "\n"
      ],
      "text/plain": [
       "[1] \"8.52\"         \"4.62 minutes\""
      ]
     },
     "metadata": {},
     "output_type": "display_data"
    },
    {
     "data": {
      "text/html": [
       "<style>\n",
       ".list-inline {list-style: none; margin:0; padding: 0}\n",
       ".list-inline>li {display: inline-block}\n",
       ".list-inline>li:not(:last-child)::after {content: \"\\00b7\"; padding: 0 .5ex}\n",
       "</style>\n",
       "<ol class=list-inline><li>'8.52'</li><li>'4.62'</li></ol>\n"
      ],
      "text/latex": [
       "\\begin{enumerate*}\n",
       "\\item '8.52'\n",
       "\\item '4.62'\n",
       "\\end{enumerate*}\n"
      ],
      "text/markdown": [
       "1. '8.52'\n",
       "2. '4.62'\n",
       "\n",
       "\n"
      ],
      "text/plain": [
       "[1] \"8.52\" \"4.62\""
      ]
     },
     "metadata": {},
     "output_type": "display_data"
    }
   ],
   "source": [
    "timepoint <- c(\"8.52 minutes\", \"4.62 minutes minutes\")\n",
    "str_remove(timepoint, \" minutes\")\n",
    "str_remove_all(timepoint, \" minutes\")"
   ]
  },
  {
   "cell_type": "code",
   "execution_count": 9,
   "id": "03467f5e-ce4d-4532-8f63-87debc1a1863",
   "metadata": {},
   "outputs": [
    {
     "data": {
      "text/html": [
       "'Tox and Jerry'"
      ],
      "text/latex": [
       "'Tox and Jerry'"
      ],
      "text/markdown": [
       "'Tox and Jerry'"
      ],
      "text/plain": [
       "[1] \"Tox and Jerry\""
      ]
     },
     "metadata": {},
     "output_type": "display_data"
    },
    {
     "data": {
      "text/html": [
       "'Alvin and Simon &amp; Theodore'"
      ],
      "text/latex": [
       "'Alvin and Simon \\& Theodore'"
      ],
      "text/markdown": [
       "'Alvin and Simon &amp; Theodore'"
      ],
      "text/plain": [
       "[1] \"Alvin and Simon & Theodore\""
      ]
     },
     "metadata": {},
     "output_type": "display_data"
    },
    {
     "data": {
      "text/html": [
       "'Alvin and Simon and Theodore'"
      ],
      "text/latex": [
       "'Alvin and Simon and Theodore'"
      ],
      "text/markdown": [
       "'Alvin and Simon and Theodore'"
      ],
      "text/plain": [
       "[1] \"Alvin and Simon and Theodore\""
      ]
     },
     "metadata": {},
     "output_type": "display_data"
    }
   ],
   "source": [
    "str_replace(\"Tox & Jerry\", pattern = \"&\", replace = \"and\")\n",
    "str_replace(\"Alvin & Simon & Theodore\", pattern = \"&\", replace = \"and\")\n",
    "str_replace_all(\"Alvin & Simon & Theodore\", pattern = \"&\", replace = \"and\")"
   ]
  },
  {
   "cell_type": "markdown",
   "id": "6fd8634f-db36-4427-84d4-ded6d690bde6",
   "metadata": {},
   "source": [
    "<a name=\"toc_46431_3\"></a>\n",
    "## 3.  Regular expressions\n",
    "\n",
    "Regular expressions are a language for describing patterns in strings. Apart from `stringr`, we can also use the package `rebus` to write regular expressions."
   ]
  },
  {
   "cell_type": "markdown",
   "id": "010a80da-6ddc-46c9-9fa8-92e1c91602e1",
   "metadata": {},
   "source": [
    "<a name=\"toc_46431_3.1\"></a>\n",
    "**3.1 `Stringr` regular expressions**\n",
    "\n",
    "In stringr, Regex is written af ter the `pattern =` argument in `\"\"`\n",
    "\n",
    "\n",
    "- Match characters\n",
    "    - `.` - any character (except a new line)\n",
    "    - `\\\\.`, `\\\\-`, `\\\\\\\\`, `\\\\}`  - match `\".\"`, `\"-\"`, `\"\\\"` or `\"}\"` characters\n",
    "    - `\\\\d` - match any digits; `\\\\D` - match any non-digits\n",
    "    - `\\\\w`- match any word character (letters or digits); `\\\\W` - match any non-word characters\n",
    "    - `\\\\s` - match any whitespace; `\\\\S` - match any non-whitespace\n",
    "    - `\\\\n`- match new lines\n",
    "    - `\\\\t` - match tab\n",
    "    - `\\\\b` - match word boundaries (e.g. spaces between words)\n",
    "    - `[:alpha:]` - match every letters\n",
    "    - `[:lower:]` - match lower case letters\n",
    "    - `[:upper:]` - match upper case letters\n",
    "    - `[:punct:]` - match punctuetion (e.g. `.!?(\\}\"@`)\n",
    "    - `[:symbol:]` - match punctuetion (e.g. `=+^$>`)\n",
    "    - `[:space:]` - match spaces\n",
    "    - `[:blank:]` - match spaces and tab (but not new line))\n",
    "$$$$\n",
    "- Anchors:\n",
    "    - `^a` - starts with \"a\"\n",
    "    - `a$` - ends with \"a\"\n",
    "$$$$    \n",
    "- Quantifiers:\n",
    "    - `a?` - 0 or 1\n",
    "    - `a*` - 0 or more\n",
    "    - `a+` - 1 or more\n",
    "    - `a{n}` - exactly n  matches consecutively\n",
    "    - `a{n,}` - n or more\n",
    "    - `a{n,m}` - between n and m\n",
    "$$$$    \n",
    "- Alternatives\n",
    "    - `ab|c` - \"ab\" or \"c\"\n",
    "    - `[abc]` - one of \"a\" \"b\" or \"c\"\n",
    "    - `[^abc]` - anything but \"a\", \"b\" or \"c\"\n",
    "    - `[a-z]` `[A-F]` `[1-9]` `[a-zA-Z0-9]`- in the range given\n",
    "$$$$    \n",
    "- Look Arounds\n",
    "    - `a(?=c)` - \"a\" that is followed by\"c\", e.g. acb\n",
    "    - `a(?!c)` - \"a\" that is not followed by\"c\", e.g. abc\n",
    "    - `(?<=c)a` - \"a\" that is preceded by \"c\", e.g. cab\n",
    "    - `(?<!c)a` - \"a\" that is not preceded by \"c\", e.g. bac"
   ]
  },
  {
   "cell_type": "code",
   "execution_count": 46,
   "id": "5902792a-a1d1-470f-b8a3-1619e1bb8c3d",
   "metadata": {},
   "outputs": [
    {
     "data": {
      "text/html": [
       "<style>\n",
       ".list-inline {list-style: none; margin:0; padding: 0}\n",
       ".list-inline>li {display: inline-block}\n",
       ".list-inline>li:not(:last-child)::after {content: \"\\00b7\"; padding: 0 .5ex}\n",
       "</style>\n",
       "<ol class=list-inline><li>TRUE</li><li>FALSE</li><li>TRUE</li><li>FALSE</li><li>FALSE</li></ol>\n"
      ],
      "text/latex": [
       "\\begin{enumerate*}\n",
       "\\item TRUE\n",
       "\\item FALSE\n",
       "\\item TRUE\n",
       "\\item FALSE\n",
       "\\item FALSE\n",
       "\\end{enumerate*}\n"
      ],
      "text/markdown": [
       "1. TRUE\n",
       "2. FALSE\n",
       "3. TRUE\n",
       "4. FALSE\n",
       "5. FALSE\n",
       "\n",
       "\n"
      ],
      "text/plain": [
       "[1]  TRUE FALSE  TRUE FALSE FALSE"
      ]
     },
     "metadata": {},
     "output_type": "display_data"
    },
    {
     "data": {
      "text/html": [
       "<style>\n",
       ".list-inline {list-style: none; margin:0; padding: 0}\n",
       ".list-inline>li {display: inline-block}\n",
       ".list-inline>li:not(:last-child)::after {content: \"\\00b7\"; padding: 0 .5ex}\n",
       "</style>\n",
       "<ol class=list-inline><li>TRUE</li><li>TRUE</li><li>FALSE</li><li>TRUE</li><li>TRUE</li></ol>\n"
      ],
      "text/latex": [
       "\\begin{enumerate*}\n",
       "\\item TRUE\n",
       "\\item TRUE\n",
       "\\item FALSE\n",
       "\\item TRUE\n",
       "\\item TRUE\n",
       "\\end{enumerate*}\n"
      ],
      "text/markdown": [
       "1. TRUE\n",
       "2. TRUE\n",
       "3. FALSE\n",
       "4. TRUE\n",
       "5. TRUE\n",
       "\n",
       "\n"
      ],
      "text/plain": [
       "[1]  TRUE  TRUE FALSE  TRUE  TRUE"
      ]
     },
     "metadata": {},
     "output_type": "display_data"
    },
    {
     "data": {
      "text/html": [
       "<style>\n",
       ".list-inline {list-style: none; margin:0; padding: 0}\n",
       ".list-inline>li {display: inline-block}\n",
       ".list-inline>li:not(:last-child)::after {content: \"\\00b7\"; padding: 0 .5ex}\n",
       "</style>\n",
       "<ol class=list-inline><li>TRUE</li><li>TRUE</li><li>TRUE</li><li>TRUE</li><li>FALSE</li></ol>\n"
      ],
      "text/latex": [
       "\\begin{enumerate*}\n",
       "\\item TRUE\n",
       "\\item TRUE\n",
       "\\item TRUE\n",
       "\\item TRUE\n",
       "\\item FALSE\n",
       "\\end{enumerate*}\n"
      ],
      "text/markdown": [
       "1. TRUE\n",
       "2. TRUE\n",
       "3. TRUE\n",
       "4. TRUE\n",
       "5. FALSE\n",
       "\n",
       "\n"
      ],
      "text/plain": [
       "[1]  TRUE  TRUE  TRUE  TRUE FALSE"
      ]
     },
     "metadata": {},
     "output_type": "display_data"
    },
    {
     "data": {
      "text/html": [
       "<style>\n",
       ".list-inline {list-style: none; margin:0; padding: 0}\n",
       ".list-inline>li {display: inline-block}\n",
       ".list-inline>li:not(:last-child)::after {content: \"\\00b7\"; padding: 0 .5ex}\n",
       "</style>\n",
       "<ol class=list-inline><li>TRUE</li><li>FALSE</li><li>FALSE</li><li>TRUE</li><li>FALSE</li></ol>\n"
      ],
      "text/latex": [
       "\\begin{enumerate*}\n",
       "\\item TRUE\n",
       "\\item FALSE\n",
       "\\item FALSE\n",
       "\\item TRUE\n",
       "\\item FALSE\n",
       "\\end{enumerate*}\n"
      ],
      "text/markdown": [
       "1. TRUE\n",
       "2. FALSE\n",
       "3. FALSE\n",
       "4. TRUE\n",
       "5. FALSE\n",
       "\n",
       "\n"
      ],
      "text/plain": [
       "[1]  TRUE FALSE FALSE  TRUE FALSE"
      ]
     },
     "metadata": {},
     "output_type": "display_data"
    },
    {
     "data": {
      "text/html": [
       "<style>\n",
       ".list-inline {list-style: none; margin:0; padding: 0}\n",
       ".list-inline>li {display: inline-block}\n",
       ".list-inline>li:not(:last-child)::after {content: \"\\00b7\"; padding: 0 .5ex}\n",
       "</style>\n",
       "<ol class=list-inline><li>TRUE</li><li>TRUE</li><li>FALSE</li><li>FALSE</li><li>FALSE</li></ol>\n"
      ],
      "text/latex": [
       "\\begin{enumerate*}\n",
       "\\item TRUE\n",
       "\\item TRUE\n",
       "\\item FALSE\n",
       "\\item FALSE\n",
       "\\item FALSE\n",
       "\\end{enumerate*}\n"
      ],
      "text/markdown": [
       "1. TRUE\n",
       "2. TRUE\n",
       "3. FALSE\n",
       "4. FALSE\n",
       "5. FALSE\n",
       "\n",
       "\n"
      ],
      "text/plain": [
       "[1]  TRUE  TRUE FALSE FALSE FALSE"
      ]
     },
     "metadata": {},
     "output_type": "display_data"
    }
   ],
   "source": [
    "str_detect(c(\"S85 dc\", \"Xff.\", \"0125\", \"abcd \", \".-?\"), pattern = \"\\\\d\")\n",
    "str_detect(c(\"S85 dc\", \"Xff.\", \"0125\", \"abcd \", \".-?\"), pattern = \"\\\\D\")\n",
    "str_detect(c(\"S85 dc\", \"Xff.\", \"0125\", \"abcd \", \".-?\"), pattern = \"\\\\w\")\n",
    "str_detect(c(\"S85 dc\", \"Xff.\", \"0125\", \"abcd \", \".-?\"), pattern = \"\\\\s\")\n",
    "str_detect(c(\"S85 dc\", \"Xff.\", \"0125\", \"abcd \", \".-?\"), pattern = \"[:upper:]\")"
   ]
  },
  {
   "cell_type": "code",
   "execution_count": 47,
   "id": "2712e2b8-64b8-4368-b494-9023fa59dec6",
   "metadata": {},
   "outputs": [
    {
     "data": {
      "text/html": [
       "<style>\n",
       ".list-inline {list-style: none; margin:0; padding: 0}\n",
       ".list-inline>li {display: inline-block}\n",
       ".list-inline>li:not(:last-child)::after {content: \"\\00b7\"; padding: 0 .5ex}\n",
       "</style>\n",
       "<ol class=list-inline><li>TRUE</li><li>FALSE</li></ol>\n"
      ],
      "text/latex": [
       "\\begin{enumerate*}\n",
       "\\item TRUE\n",
       "\\item FALSE\n",
       "\\end{enumerate*}\n"
      ],
      "text/markdown": [
       "1. TRUE\n",
       "2. FALSE\n",
       "\n",
       "\n"
      ],
      "text/plain": [
       "[1]  TRUE FALSE"
      ]
     },
     "metadata": {},
     "output_type": "display_data"
    },
    {
     "data": {
      "text/html": [
       "<style>\n",
       ".list-inline {list-style: none; margin:0; padding: 0}\n",
       ".list-inline>li {display: inline-block}\n",
       ".list-inline>li:not(:last-child)::after {content: \"\\00b7\"; padding: 0 .5ex}\n",
       "</style>\n",
       "<ol class=list-inline><li>FALSE</li><li>TRUE</li></ol>\n"
      ],
      "text/latex": [
       "\\begin{enumerate*}\n",
       "\\item FALSE\n",
       "\\item TRUE\n",
       "\\end{enumerate*}\n"
      ],
      "text/markdown": [
       "1. FALSE\n",
       "2. TRUE\n",
       "\n",
       "\n"
      ],
      "text/plain": [
       "[1] FALSE  TRUE"
      ]
     },
     "metadata": {},
     "output_type": "display_data"
    }
   ],
   "source": [
    "str_detect(c(\"R2-D2\", \"C-3PO\"), pattern = \"^R\")\n",
    "str_detect(c(\"R2-D2\", \"C-3PO\"), pattern = \"O$\")"
   ]
  },
  {
   "cell_type": "code",
   "execution_count": 48,
   "id": "3c214def-61e4-48d4-ad4d-bb7fed2e63ca",
   "metadata": {},
   "outputs": [
    {
     "data": {
      "text/html": [
       "<style>\n",
       ".list-inline {list-style: none; margin:0; padding: 0}\n",
       ".list-inline>li {display: inline-block}\n",
       ".list-inline>li:not(:last-child)::after {content: \"\\00b7\"; padding: 0 .5ex}\n",
       "</style>\n",
       "<ol class=list-inline><li>TRUE</li><li>TRUE</li></ol>\n"
      ],
      "text/latex": [
       "\\begin{enumerate*}\n",
       "\\item TRUE\n",
       "\\item TRUE\n",
       "\\end{enumerate*}\n"
      ],
      "text/markdown": [
       "1. TRUE\n",
       "2. TRUE\n",
       "\n",
       "\n"
      ],
      "text/plain": [
       "[1] TRUE TRUE"
      ]
     },
     "metadata": {},
     "output_type": "display_data"
    },
    {
     "data": {
      "text/html": [
       "<style>\n",
       ".list-inline {list-style: none; margin:0; padding: 0}\n",
       ".list-inline>li {display: inline-block}\n",
       ".list-inline>li:not(:last-child)::after {content: \"\\00b7\"; padding: 0 .5ex}\n",
       "</style>\n",
       "<ol class=list-inline><li>FALSE</li><li>TRUE</li></ol>\n"
      ],
      "text/latex": [
       "\\begin{enumerate*}\n",
       "\\item FALSE\n",
       "\\item TRUE\n",
       "\\end{enumerate*}\n"
      ],
      "text/markdown": [
       "1. FALSE\n",
       "2. TRUE\n",
       "\n",
       "\n"
      ],
      "text/plain": [
       "[1] FALSE  TRUE"
      ]
     },
     "metadata": {},
     "output_type": "display_data"
    },
    {
     "data": {
      "text/html": [
       "<style>\n",
       ".list-inline {list-style: none; margin:0; padding: 0}\n",
       ".list-inline>li {display: inline-block}\n",
       ".list-inline>li:not(:last-child)::after {content: \"\\00b7\"; padding: 0 .5ex}\n",
       "</style>\n",
       "<ol class=list-inline><li>FALSE</li><li>FALSE</li><li>TRUE</li></ol>\n"
      ],
      "text/latex": [
       "\\begin{enumerate*}\n",
       "\\item FALSE\n",
       "\\item FALSE\n",
       "\\item TRUE\n",
       "\\end{enumerate*}\n"
      ],
      "text/markdown": [
       "1. FALSE\n",
       "2. FALSE\n",
       "3. TRUE\n",
       "\n",
       "\n"
      ],
      "text/plain": [
       "[1] FALSE FALSE  TRUE"
      ]
     },
     "metadata": {},
     "output_type": "display_data"
    }
   ],
   "source": [
    "str_detect(c(\"R2-D2\", \"C-3PO\"), pattern = \"C?\")\n",
    "str_detect(c(\"R2-D2\", \"C-3PO\"), pattern = \"C+\")\n",
    "str_detect(c(\"R2-D2\", \"C-3PO\", \"C22\"), pattern = \"2{2}\") # in R2-D2 the two \"2\" is not consecutive"
   ]
  },
  {
   "cell_type": "code",
   "execution_count": 49,
   "id": "a225e8a8-4281-4366-8a50-c8ce9696940f",
   "metadata": {},
   "outputs": [
    {
     "data": {
      "text/html": [
       "<style>\n",
       ".list-inline {list-style: none; margin:0; padding: 0}\n",
       ".list-inline>li {display: inline-block}\n",
       ".list-inline>li:not(:last-child)::after {content: \"\\00b7\"; padding: 0 .5ex}\n",
       "</style>\n",
       "<ol class=list-inline><li>TRUE</li><li>TRUE</li></ol>\n"
      ],
      "text/latex": [
       "\\begin{enumerate*}\n",
       "\\item TRUE\n",
       "\\item TRUE\n",
       "\\end{enumerate*}\n"
      ],
      "text/markdown": [
       "1. TRUE\n",
       "2. TRUE\n",
       "\n",
       "\n"
      ],
      "text/plain": [
       "[1] TRUE TRUE"
      ]
     },
     "metadata": {},
     "output_type": "display_data"
    },
    {
     "data": {
      "text/html": [
       "<style>\n",
       ".list-inline {list-style: none; margin:0; padding: 0}\n",
       ".list-inline>li {display: inline-block}\n",
       ".list-inline>li:not(:last-child)::after {content: \"\\00b7\"; padding: 0 .5ex}\n",
       "</style>\n",
       "<ol class=list-inline><li>TRUE</li><li>FALSE</li></ol>\n"
      ],
      "text/latex": [
       "\\begin{enumerate*}\n",
       "\\item TRUE\n",
       "\\item FALSE\n",
       "\\end{enumerate*}\n"
      ],
      "text/markdown": [
       "1. TRUE\n",
       "2. FALSE\n",
       "\n",
       "\n"
      ],
      "text/plain": [
       "[1]  TRUE FALSE"
      ]
     },
     "metadata": {},
     "output_type": "display_data"
    },
    {
     "data": {
      "text/html": [
       "<style>\n",
       ".list-inline {list-style: none; margin:0; padding: 0}\n",
       ".list-inline>li {display: inline-block}\n",
       ".list-inline>li:not(:last-child)::after {content: \"\\00b7\"; padding: 0 .5ex}\n",
       "</style>\n",
       "<ol class=list-inline><li>FALSE</li><li>TRUE</li></ol>\n"
      ],
      "text/latex": [
       "\\begin{enumerate*}\n",
       "\\item FALSE\n",
       "\\item TRUE\n",
       "\\end{enumerate*}\n"
      ],
      "text/markdown": [
       "1. FALSE\n",
       "2. TRUE\n",
       "\n",
       "\n"
      ],
      "text/plain": [
       "[1] FALSE  TRUE"
      ]
     },
     "metadata": {},
     "output_type": "display_data"
    },
    {
     "data": {
      "text/html": [
       "<style>\n",
       ".list-inline {list-style: none; margin:0; padding: 0}\n",
       ".list-inline>li {display: inline-block}\n",
       ".list-inline>li:not(:last-child)::after {content: \"\\00b7\"; padding: 0 .5ex}\n",
       "</style>\n",
       "<ol class=list-inline><li>TRUE</li><li>TRUE</li></ol>\n"
      ],
      "text/latex": [
       "\\begin{enumerate*}\n",
       "\\item TRUE\n",
       "\\item TRUE\n",
       "\\end{enumerate*}\n"
      ],
      "text/markdown": [
       "1. TRUE\n",
       "2. TRUE\n",
       "\n",
       "\n"
      ],
      "text/plain": [
       "[1] TRUE TRUE"
      ]
     },
     "metadata": {},
     "output_type": "display_data"
    }
   ],
   "source": [
    "str_detect(c(\"R2-D2\", \"C-3PO\"), pattern = \"R2|PO\")\n",
    "str_detect(c(\"R2-D2\", \"C-3PO\"), pattern = \"[RG]\")\n",
    "str_detect(c(\"R2-D2\", \"C-3PO\"), pattern = \"[^RD2-]\")\n",
    "str_detect(c(\"R2-D2\", \"C-3PO\"), pattern = \"[1-3]\")"
   ]
  },
  {
   "cell_type": "code",
   "execution_count": 50,
   "id": "f7b8a708-cfab-4f76-97d8-3201551f0c7f",
   "metadata": {},
   "outputs": [
    {
     "data": {
      "text/html": [
       "<style>\n",
       ".list-inline {list-style: none; margin:0; padding: 0}\n",
       ".list-inline>li {display: inline-block}\n",
       ".list-inline>li:not(:last-child)::after {content: \"\\00b7\"; padding: 0 .5ex}\n",
       "</style>\n",
       "<ol class=list-inline><li>TRUE</li><li>TRUE</li><li>FALSE</li><li>TRUE</li></ol>\n"
      ],
      "text/latex": [
       "\\begin{enumerate*}\n",
       "\\item TRUE\n",
       "\\item TRUE\n",
       "\\item FALSE\n",
       "\\item TRUE\n",
       "\\end{enumerate*}\n"
      ],
      "text/markdown": [
       "1. TRUE\n",
       "2. TRUE\n",
       "3. FALSE\n",
       "4. TRUE\n",
       "\n",
       "\n"
      ],
      "text/plain": [
       "[1]  TRUE  TRUE FALSE  TRUE"
      ]
     },
     "metadata": {},
     "output_type": "display_data"
    },
    {
     "data": {
      "text/html": [
       "<style>\n",
       ".list-inline {list-style: none; margin:0; padding: 0}\n",
       ".list-inline>li {display: inline-block}\n",
       ".list-inline>li:not(:last-child)::after {content: \"\\00b7\"; padding: 0 .5ex}\n",
       "</style>\n",
       "<ol class=list-inline><li>TRUE</li><li>TRUE</li><li>TRUE</li><li>FALSE</li></ol>\n"
      ],
      "text/latex": [
       "\\begin{enumerate*}\n",
       "\\item TRUE\n",
       "\\item TRUE\n",
       "\\item TRUE\n",
       "\\item FALSE\n",
       "\\end{enumerate*}\n"
      ],
      "text/markdown": [
       "1. TRUE\n",
       "2. TRUE\n",
       "3. TRUE\n",
       "4. FALSE\n",
       "\n",
       "\n"
      ],
      "text/plain": [
       "[1]  TRUE  TRUE  TRUE FALSE"
      ]
     },
     "metadata": {},
     "output_type": "display_data"
    },
    {
     "data": {
      "text/html": [
       "<style>\n",
       ".list-inline {list-style: none; margin:0; padding: 0}\n",
       ".list-inline>li {display: inline-block}\n",
       ".list-inline>li:not(:last-child)::after {content: \"\\00b7\"; padding: 0 .5ex}\n",
       "</style>\n",
       "<ol class=list-inline><li>TRUE</li><li>TRUE</li><li>TRUE</li><li>FALSE</li></ol>\n"
      ],
      "text/latex": [
       "\\begin{enumerate*}\n",
       "\\item TRUE\n",
       "\\item TRUE\n",
       "\\item TRUE\n",
       "\\item FALSE\n",
       "\\end{enumerate*}\n"
      ],
      "text/markdown": [
       "1. TRUE\n",
       "2. TRUE\n",
       "3. TRUE\n",
       "4. FALSE\n",
       "\n",
       "\n"
      ],
      "text/plain": [
       "[1]  TRUE  TRUE  TRUE FALSE"
      ]
     },
     "metadata": {},
     "output_type": "display_data"
    },
    {
     "data": {
      "text/html": [
       "<style>\n",
       ".list-inline {list-style: none; margin:0; padding: 0}\n",
       ".list-inline>li {display: inline-block}\n",
       ".list-inline>li:not(:last-child)::after {content: \"\\00b7\"; padding: 0 .5ex}\n",
       "</style>\n",
       "<ol class=list-inline><li>TRUE</li><li>TRUE</li><li>FALSE</li><li>TRUE</li></ol>\n"
      ],
      "text/latex": [
       "\\begin{enumerate*}\n",
       "\\item TRUE\n",
       "\\item TRUE\n",
       "\\item FALSE\n",
       "\\item TRUE\n",
       "\\end{enumerate*}\n"
      ],
      "text/markdown": [
       "1. TRUE\n",
       "2. TRUE\n",
       "3. FALSE\n",
       "4. TRUE\n",
       "\n",
       "\n"
      ],
      "text/plain": [
       "[1]  TRUE  TRUE FALSE  TRUE"
      ]
     },
     "metadata": {},
     "output_type": "display_data"
    },
    {
     "data": {
      "text/plain": [
       "\u001b[90m[1] |\u001b[39m b\u001b[36m<a>\u001b[39mca\n",
       "\u001b[90m[2] |\u001b[39m \u001b[36m<a>\u001b[39mcab\n",
       "\u001b[90m[4] |\u001b[39m b\u001b[36m<a>\u001b[39mc"
      ]
     },
     "metadata": {},
     "output_type": "display_data"
    }
   ],
   "source": [
    "str_detect(c(\"baca\", \"acab\", \"cab\", \"bac\"), pattern = \"a(?=c)\") # followed by\n",
    "str_detect(c(\"baca\", \"acab\", \"cab\", \"bac\"), pattern = \"a(?!c)\") # not followed by\n",
    "str_detect(c(\"baca\", \"acab\", \"cab\", \"bac\"), pattern = \"(?<=c)a\") # preceded by\n",
    "str_detect(c(\"baca\", \"acab\", \"cab\", \"bac\"), pattern = \"(?<!c)a\") # not preceded by\n",
    "\n",
    "str_view(c(\"baca\", \"acab\", \"cab\", \"bac\"), pattern = \"(?<!c)a\") # look matches  "
   ]
  },
  {
   "cell_type": "code",
   "execution_count": 51,
   "id": "6682a7c4-5f8b-411c-bef3-6842d8607039",
   "metadata": {},
   "outputs": [
    {
     "data": {
      "text/html": [
       "<style>\n",
       ".list-inline {list-style: none; margin:0; padding: 0}\n",
       ".list-inline>li {display: inline-block}\n",
       ".list-inline>li:not(:last-child)::after {content: \"\\00b7\"; padding: 0 .5ex}\n",
       "</style>\n",
       "<ol class=list-inline><li>TRUE</li><li>FALSE</li></ol>\n"
      ],
      "text/latex": [
       "\\begin{enumerate*}\n",
       "\\item TRUE\n",
       "\\item FALSE\n",
       "\\end{enumerate*}\n"
      ],
      "text/markdown": [
       "1. TRUE\n",
       "2. FALSE\n",
       "\n",
       "\n"
      ],
      "text/plain": [
       "[1]  TRUE FALSE"
      ]
     },
     "metadata": {},
     "output_type": "display_data"
    },
    {
     "data": {
      "text/html": [
       "<style>\n",
       ".list-inline {list-style: none; margin:0; padding: 0}\n",
       ".list-inline>li {display: inline-block}\n",
       ".list-inline>li:not(:last-child)::after {content: \"\\00b7\"; padding: 0 .5ex}\n",
       "</style>\n",
       "<ol class=list-inline><li>FALSE</li><li>TRUE</li></ol>\n"
      ],
      "text/latex": [
       "\\begin{enumerate*}\n",
       "\\item FALSE\n",
       "\\item TRUE\n",
       "\\end{enumerate*}\n"
      ],
      "text/markdown": [
       "1. FALSE\n",
       "2. TRUE\n",
       "\n",
       "\n"
      ],
      "text/plain": [
       "[1] FALSE  TRUE"
      ]
     },
     "metadata": {},
     "output_type": "display_data"
    }
   ],
   "source": [
    "# Complex examples\n",
    "str_detect(c(\"R2-D2\", \"C-3PO\"), pattern = \"^.\\\\d+\") # starts with any character then one or more digits\n",
    "str_detect(c(\"R2-D2\", \"C-3PO\"), pattern = \"^C\\\\-\\\\d+\") # starts with \"C\" then a \"-\" then one or more digits"
   ]
  },
  {
   "cell_type": "markdown",
   "id": "8b108e77-060a-4f02-92f7-093f74d9ea63",
   "metadata": {},
   "source": [
    "<a name=\"toc_46431_3.2\"></a>\n",
    "**3.2 Using the `rebus` package**\n",
    "\n",
    "Rebus provides alternative syntax that can be easier to read. It uses special wildcards before or after `%R%`, which is a sepcial rebus operator that can be read as \"then\".\n",
    "\n",
    "Rebus wildcards:\n",
    "- `START` - match the start of the string\n",
    "- `END` - match the end of the string\n",
    "- `ANY_CHAR` - match any characters\n",
    "- `or(\"a\", \"b\")` - match \"a\" or \"b\"\n",
    "- `DGT` - match digits\n",
    "- `one_or_more(\"a\")` - match strings with 1 or more \"a\"\n",
    "- `optional()` - expressions inside are only optional\n",
    "- `capture()` - use with `str_match()` to capture groups\n",
    "\n",
    "for more, see rebus's documentation"
   ]
  },
  {
   "cell_type": "markdown",
   "id": "7541c1b5-4906-4209-8578-a660c72e699f",
   "metadata": {},
   "source": [
    "`rebus` syntax can be converted to basic regular expressions:"
   ]
  },
  {
   "cell_type": "code",
   "execution_count": 52,
   "id": "df96af81-3655-42f7-aff8-f79dd348fba4",
   "metadata": {},
   "outputs": [
    {
     "data": {
      "text/html": [
       "'^.a'"
      ],
      "text/latex": [
       "'\\textasciicircum{}.a'"
      ],
      "text/markdown": [
       "'^.a'"
      ],
      "text/plain": [
       "<regex> ^.a"
      ]
     },
     "metadata": {},
     "output_type": "display_data"
    }
   ],
   "source": [
    "START %R% ANY_CHAR %R% \"a\""
   ]
  },
  {
   "cell_type": "code",
   "execution_count": 53,
   "id": "984387bf-e8db-40e3-aab8-ca9a1f1e28fa",
   "metadata": {},
   "outputs": [
    {
     "data": {
      "text/html": [
       "<style>\n",
       ".list-inline {list-style: none; margin:0; padding: 0}\n",
       ".list-inline>li {display: inline-block}\n",
       ".list-inline>li:not(:last-child)::after {content: \"\\00b7\"; padding: 0 .5ex}\n",
       "</style>\n",
       "<ol class=list-inline><li>TRUE</li><li>TRUE</li><li>FALSE</li><li>FALSE</li></ol>\n"
      ],
      "text/latex": [
       "\\begin{enumerate*}\n",
       "\\item TRUE\n",
       "\\item TRUE\n",
       "\\item FALSE\n",
       "\\item FALSE\n",
       "\\end{enumerate*}\n"
      ],
      "text/markdown": [
       "1. TRUE\n",
       "2. TRUE\n",
       "3. FALSE\n",
       "4. FALSE\n",
       "\n",
       "\n"
      ],
      "text/plain": [
       "[1]  TRUE  TRUE FALSE FALSE"
      ]
     },
     "metadata": {},
     "output_type": "display_data"
    },
    {
     "data": {
      "text/html": [
       "<style>\n",
       ".list-inline {list-style: none; margin:0; padding: 0}\n",
       ".list-inline>li {display: inline-block}\n",
       ".list-inline>li:not(:last-child)::after {content: \"\\00b7\"; padding: 0 .5ex}\n",
       "</style>\n",
       "<ol class=list-inline><li>TRUE</li><li>TRUE</li><li>FALSE</li><li>FALSE</li></ol>\n"
      ],
      "text/latex": [
       "\\begin{enumerate*}\n",
       "\\item TRUE\n",
       "\\item TRUE\n",
       "\\item FALSE\n",
       "\\item FALSE\n",
       "\\end{enumerate*}\n"
      ],
      "text/markdown": [
       "1. TRUE\n",
       "2. TRUE\n",
       "3. FALSE\n",
       "4. FALSE\n",
       "\n",
       "\n"
      ],
      "text/plain": [
       "[1]  TRUE  TRUE FALSE FALSE"
      ]
     },
     "metadata": {},
     "output_type": "display_data"
    },
    {
     "data": {
      "text/html": [
       "<style>\n",
       ".list-inline {list-style: none; margin:0; padding: 0}\n",
       ".list-inline>li {display: inline-block}\n",
       ".list-inline>li:not(:last-child)::after {content: \"\\00b7\"; padding: 0 .5ex}\n",
       "</style>\n",
       "<ol class=list-inline><li>TRUE</li><li>FALSE</li><li>FALSE</li><li>FALSE</li></ol>\n"
      ],
      "text/latex": [
       "\\begin{enumerate*}\n",
       "\\item TRUE\n",
       "\\item FALSE\n",
       "\\item FALSE\n",
       "\\item FALSE\n",
       "\\end{enumerate*}\n"
      ],
      "text/markdown": [
       "1. TRUE\n",
       "2. FALSE\n",
       "3. FALSE\n",
       "4. FALSE\n",
       "\n",
       "\n"
      ],
      "text/plain": [
       "[1]  TRUE FALSE FALSE FALSE"
      ]
     },
     "metadata": {},
     "output_type": "display_data"
    },
    {
     "data": {
      "text/html": [
       "<style>\n",
       ".list-inline {list-style: none; margin:0; padding: 0}\n",
       ".list-inline>li {display: inline-block}\n",
       ".list-inline>li:not(:last-child)::after {content: \"\\00b7\"; padding: 0 .5ex}\n",
       "</style>\n",
       "<ol class=list-inline><li>TRUE</li><li>FALSE</li><li>FALSE</li><li>FALSE</li></ol>\n"
      ],
      "text/latex": [
       "\\begin{enumerate*}\n",
       "\\item TRUE\n",
       "\\item FALSE\n",
       "\\item FALSE\n",
       "\\item FALSE\n",
       "\\end{enumerate*}\n"
      ],
      "text/markdown": [
       "1. TRUE\n",
       "2. FALSE\n",
       "3. FALSE\n",
       "4. FALSE\n",
       "\n",
       "\n"
      ],
      "text/plain": [
       "[1]  TRUE FALSE FALSE FALSE"
      ]
     },
     "metadata": {},
     "output_type": "display_data"
    }
   ],
   "source": [
    "x <- c(\"cat\", \"coat\", \"scotland\", \"tic toc\")\n",
    "\n",
    "str_detect(x, pattern = START %R% \"c\") # same result as with \"^c\"\n",
    "str_detect(x, pattern = \"at\" %R% END)\n",
    "str_detect(x, pattern = START %R% \"cat\" %R% END)\n",
    "str_detect(x, pattern = START %R% ANY_CHAR %R% \"a\") # second charactr is \"a\""
   ]
  },
  {
   "cell_type": "code",
   "execution_count": 54,
   "id": "4933f1f0-7cc9-4700-ab8b-208db784667d",
   "metadata": {},
   "outputs": [
    {
     "data": {
      "text/plain": [
       "\u001b[90m  [293] |\u001b[39m \u001b[36m<Kathr>\u001b[39myn\n",
       "\u001b[90m [2929] |\u001b[39m \u001b[36m<Cathr>\u001b[39myn\n",
       "\u001b[90m [4598] |\u001b[39m \u001b[36m<Kathr>\u001b[39mine\n",
       "\u001b[90m [7854] |\u001b[39m \u001b[36m<Kathr>\u001b[39mynn\n",
       "\u001b[90m [8257] |\u001b[39m \u001b[36m<Kathr>\u001b[39myne\n",
       "\u001b[90m[11136] |\u001b[39m \u001b[36m<Cathr>\u001b[39mine\n",
       "\u001b[90m[17803] |\u001b[39m \u001b[36m<Kathr>\u001b[39mynne"
      ]
     },
     "metadata": {},
     "output_type": "display_data"
    }
   ],
   "source": [
    "ckath <- START %R% or(\"Cathr\", \"Kathr\")\n",
    "str_view(girl_names, pattern = ckath, match = TRUE)"
   ]
  },
  {
   "cell_type": "code",
   "execution_count": 55,
   "id": "6bf8190e-6951-451e-b135-01ee8f1aa247",
   "metadata": {},
   "outputs": [
    {
     "data": {
      "text/html": [
       "<style>\n",
       ".list-inline {list-style: none; margin:0; padding: 0}\n",
       ".list-inline>li {display: inline-block}\n",
       ".list-inline>li:not(:last-child)::after {content: \"\\00b7\"; padding: 0 .5ex}\n",
       "</style>\n",
       "<ol class=list-inline><li>'555-555-0191'</li><li>NA</li><li>'(555) 555 0191'</li><li>'555.555.0191'</li></ol>\n"
      ],
      "text/latex": [
       "\\begin{enumerate*}\n",
       "\\item '555-555-0191'\n",
       "\\item NA\n",
       "\\item '(555) 555 0191'\n",
       "\\item '555.555.0191'\n",
       "\\end{enumerate*}\n"
      ],
      "text/markdown": [
       "1. '555-555-0191'\n",
       "2. NA\n",
       "3. '(555) 555 0191'\n",
       "4. '555.555.0191'\n",
       "\n",
       "\n"
      ],
      "text/plain": [
       "[1] \"555-555-0191\"   NA               \"(555) 555 0191\" \"555.555.0191\"  "
      ]
     },
     "metadata": {},
     "output_type": "display_data"
    },
    {
     "data": {
      "text/html": [
       "<ol>\n",
       "\t<li>'555-555-0191'</li>\n",
       "\t<li></li>\n",
       "\t<li>'(555) 555 0191'</li>\n",
       "\t<li><style>\n",
       ".list-inline {list-style: none; margin:0; padding: 0}\n",
       ".list-inline>li {display: inline-block}\n",
       ".list-inline>li:not(:last-child)::after {content: \"\\00b7\"; padding: 0 .5ex}\n",
       "</style>\n",
       "<ol class=list-inline><li>'555.555.0191'</li><li>'555.555.0192'</li></ol>\n",
       "</li>\n",
       "</ol>\n"
      ],
      "text/latex": [
       "\\begin{enumerate}\n",
       "\\item '555-555-0191'\n",
       "\\item \n",
       "\\item '(555) 555 0191'\n",
       "\\item \\begin{enumerate*}\n",
       "\\item '555.555.0191'\n",
       "\\item '555.555.0192'\n",
       "\\end{enumerate*}\n",
       "\n",
       "\\end{enumerate}\n"
      ],
      "text/markdown": [
       "1. '555-555-0191'\n",
       "2. \n",
       "3. '(555) 555 0191'\n",
       "4. 1. '555.555.0191'\n",
       "2. '555.555.0192'\n",
       "\n",
       "\n",
       "\n",
       "\n",
       "\n"
      ],
      "text/plain": [
       "[[1]]\n",
       "[1] \"555-555-0191\"\n",
       "\n",
       "[[2]]\n",
       "character(0)\n",
       "\n",
       "[[3]]\n",
       "[1] \"(555) 555 0191\"\n",
       "\n",
       "[[4]]\n",
       "[1] \"555.555.0191\" \"555.555.0192\"\n"
      ]
     },
     "metadata": {},
     "output_type": "display_data"
    }
   ],
   "source": [
    "contact <- c(\"Call me at 555-555-0191\", \"123 Main St\", \"(555) 555 0191\", \"Phone: 555.555.0191 Mobile: 555.555.0192\")\n",
    "\n",
    "three_digits <- DGT %R% DGT %R% DGT\n",
    "four_digits <- three_digits %R% DGT\n",
    "separator <- char_class(\"-.() \")\n",
    "\n",
    "phone_pattern <- optional(OPEN_PAREN) %R% \n",
    "  three_digits %R% \n",
    "  zero_or_more(separator) %R% \n",
    "  three_digits %R% \n",
    "  zero_or_more(separator) %R%\n",
    "  four_digits\n",
    "  \n",
    "str_extract(contact, pattern = phone_pattern) # Extract phone numbers\n",
    "\n",
    "str_extract_all(contact, pattern = phone_pattern) # Extract ALL phone numbers"
   ]
  },
  {
   "cell_type": "markdown",
   "id": "578a0501-1921-4e0a-bb88-da36bb6f4816",
   "metadata": {},
   "source": [
    "<a name=\"toc_46431_4\"></a>\n",
    "## 4.  Advanced string manipulation"
   ]
  },
  {
   "cell_type": "markdown",
   "id": "8151a335-ba4c-4b2c-a037-0448a5d34932",
   "metadata": {},
   "source": [
    "<a name=\"toc_46431_4.1\"></a>\n",
    "**4.1 Capture groups**\n",
    "\n",
    "Pattern groups can be matched with `str_match()`. The different groups will be in different columns of the output matrix. To create groups:\n",
    "- `()` - With stringr syntax, simply put the part of the regex in () to indicate it is a group\n",
    "- `capture()` - With rebus, put the given expression inside the capture() function"
   ]
  },
  {
   "cell_type": "markdown",
   "id": "458d8fe1-280e-4cd0-bb8a-6d604289b5a1",
   "metadata": {},
   "source": [
    "☝️ Here each row corresponds to an input string. The first column will be the entire match, the same as you'd get from str_extract. Then, there is a column with just the piece that matched the captured part of the pattern. The piece of the string that matched the ANY_CHAR was \"F\" in the first string and \"c\" in the second."
   ]
  },
  {
   "cell_type": "code",
   "execution_count": 56,
   "id": "4dd317af-a806-4b35-bbdc-5bb9f8883ca3",
   "metadata": {},
   "outputs": [
    {
     "data": {
      "text/html": [
       "<table class=\"dataframe\">\n",
       "<caption>A matrix: 2 × 2 of type chr</caption>\n",
       "<tbody>\n",
       "\t<tr><td>Fa</td><td>F</td></tr>\n",
       "\t<tr><td>ca</td><td>c</td></tr>\n",
       "</tbody>\n",
       "</table>\n"
      ],
      "text/latex": [
       "A matrix: 2 × 2 of type chr\n",
       "\\begin{tabular}{ll}\n",
       "\t Fa & F\\\\\n",
       "\t ca & c\\\\\n",
       "\\end{tabular}\n"
      ],
      "text/markdown": [
       "\n",
       "A matrix: 2 × 2 of type chr\n",
       "\n",
       "| Fa | F |\n",
       "| ca | c |\n",
       "\n"
      ],
      "text/plain": [
       "     [,1] [,2]\n",
       "[1,] Fa   F   \n",
       "[2,] ca   c   "
      ]
     },
     "metadata": {},
     "output_type": "display_data"
    },
    {
     "data": {
      "text/html": [
       "<table class=\"dataframe\">\n",
       "<caption>A matrix: 2 × 2 of type chr</caption>\n",
       "<tbody>\n",
       "\t<tr><td>Fa</td><td>F</td></tr>\n",
       "\t<tr><td>ca</td><td>c</td></tr>\n",
       "</tbody>\n",
       "</table>\n"
      ],
      "text/latex": [
       "A matrix: 2 × 2 of type chr\n",
       "\\begin{tabular}{ll}\n",
       "\t Fa & F\\\\\n",
       "\t ca & c\\\\\n",
       "\\end{tabular}\n"
      ],
      "text/markdown": [
       "\n",
       "A matrix: 2 × 2 of type chr\n",
       "\n",
       "| Fa | F |\n",
       "| ca | c |\n",
       "\n"
      ],
      "text/plain": [
       "     [,1] [,2]\n",
       "[1,] Fa   F   \n",
       "[2,] ca   c   "
      ]
     },
     "metadata": {},
     "output_type": "display_data"
    }
   ],
   "source": [
    "str_match(c(\"Fat\", \"cat\"), pattern = \"(.+)a\")\n",
    "str_match(c(\"Fat\", \"cat\"), pattern = capture(ANY_CHAR) %R% \"a\")  # same result with rebus"
   ]
  },
  {
   "cell_type": "code",
   "execution_count": 57,
   "id": "ba1ee2f0-9e5f-4738-877d-de98b0bda181",
   "metadata": {},
   "outputs": [
    {
     "data": {
      "text/html": [
       "<table class=\"dataframe\">\n",
       "<caption>A matrix: 2 × 3 of type chr</caption>\n",
       "<tbody>\n",
       "\t<tr><td>$5.50 </td><td>5 </td><td>50</td></tr>\n",
       "\t<tr><td>$32.00</td><td>32</td><td>00</td></tr>\n",
       "</tbody>\n",
       "</table>\n"
      ],
      "text/latex": [
       "A matrix: 2 × 3 of type chr\n",
       "\\begin{tabular}{lll}\n",
       "\t \\$5.50  & 5  & 50\\\\\n",
       "\t \\$32.00 & 32 & 00\\\\\n",
       "\\end{tabular}\n"
      ],
      "text/markdown": [
       "\n",
       "A matrix: 2 × 3 of type chr\n",
       "\n",
       "| $5.50  | 5  | 50 |\n",
       "| $32.00 | 32 | 00 |\n",
       "\n"
      ],
      "text/plain": [
       "     [,1]   [,2] [,3]\n",
       "[1,] $5.50  5    50  \n",
       "[2,] $32.00 32   00  "
      ]
     },
     "metadata": {},
     "output_type": "display_data"
    }
   ],
   "source": [
    "pattern <-  DOLLAR %R% \n",
    "            capture(DGT %R% optional(DGT)) %R% \n",
    "            DOT %R% \n",
    "            capture(dgt(2))\n",
    "                              \n",
    "str_match(c(\"$5.50\", \"$32.00\"), pattern = pattern)"
   ]
  },
  {
   "cell_type": "markdown",
   "id": "928c04c3-4a76-4207-9939-ecab23835d9b",
   "metadata": {},
   "source": [
    "<a name=\"toc_46431_4.2\"></a>\n",
    "**4.2 Backreferences**\n",
    "\n",
    "Referring to a captured part of a pattern is known as a **backreference**. Since there may be multiple captures, regular expressions, we need to distinguish the different captures:\n",
    "- `stringr`: `\\\\1`, `\\\\2` for the 1st and 2nd capture, respectively\n",
    "- `rebus`: `REF1`, `REF˙2`"
   ]
  },
  {
   "cell_type": "code",
   "execution_count": 58,
   "id": "ffc907dd-e5d7-450b-a68d-be023046feb5",
   "metadata": {},
   "outputs": [
    {
     "data": {
      "text/plain": [
       "\u001b[90m[1] |\u001b[39m Paris in\u001b[36m< the the>\u001b[39m spring"
      ]
     },
     "metadata": {},
     "output_type": "display_data"
    }
   ],
   "source": [
    "str_view(\"Paris in the the spring\",\n",
    "         SPC %R%\n",
    "         capture(one_or_more(WRD)) %R%\n",
    "         SPC %R%\n",
    "         REF1)"
   ]
  },
  {
   "cell_type": "markdown",
   "id": "27ed9b80-e121-42b3-b44c-2060125a452d",
   "metadata": {},
   "source": [
    "☝️ Here `REF1` changes to `\"the\"` as that is the 1st captured word we are referring to."
   ]
  },
  {
   "cell_type": "code",
   "execution_count": 63,
   "id": "7cba6c20-59a3-40d9-b137-d5b51e5c9442",
   "metadata": {},
   "outputs": [
    {
     "data": {
      "text/plain": [
       "\u001b[90m [3439] |\u001b[39m T\u001b[36m<alal>\u001b[39m\n",
       "\u001b[90m [5703] |\u001b[39m Yoch\u001b[36m<anan>\u001b[39m\n",
       "\u001b[90m [5828] |\u001b[39m J\u001b[36m<alal>\u001b[39m\n",
       "\u001b[90m [6347] |\u001b[39m Ch\u001b[36m<anan>\u001b[39m\n",
       "\u001b[90m [7290] |\u001b[39m Ke\u001b[36m<anan>\u001b[39m\n",
       "\u001b[90m [7347] |\u001b[39m M\u001b[36m<anan>\u001b[39m\n",
       "\u001b[90m [7832] |\u001b[39m K\u001b[36m<anan>\u001b[39m\n",
       "\u001b[90m [7991] |\u001b[39m R\u001b[36m<onon>\u001b[39m\n",
       "\u001b[90m [8308] |\u001b[39m Elch\u001b[36m<onon>\u001b[39m\n",
       "\u001b[90m [9058] |\u001b[39m H\u001b[36m<anan>\u001b[39m\n",
       "\u001b[90m [9215] |\u001b[39m Ke\u001b[36m<enen>\u001b[39m\n",
       "\u001b[90m[10649] |\u001b[39m Yoh\u001b[36m<anan>\u001b[39m\n",
       "\u001b[90m[11356] |\u001b[39m Joh\u001b[36m<anan>\u001b[39m\n",
       "\u001b[90m[13039] |\u001b[39m K\u001b[36m<arar>\u001b[39m"
      ]
     },
     "metadata": {},
     "output_type": "display_data"
    }
   ],
   "source": [
    "# Capture names with a pair of letters repeated twice\n",
    "pairs <- capture(LOWER %R% LOWER) %R% REF1 %R% END\n",
    "str_view(boy_names, pattern = pairs, match = TRUE)"
   ]
  },
  {
   "cell_type": "code",
   "execution_count": 77,
   "id": "a80bbd51-8127-48c8-b2ad-65b6839bfacc",
   "metadata": {},
   "outputs": [
    {
     "data": {
      "text/plain": [
       "\u001b[90m [3439] |\u001b[39m T\u001b[36m<alal>\u001b[39m\n",
       "\u001b[90m [5703] |\u001b[39m Yoch\u001b[36m<anan>\u001b[39m\n",
       "\u001b[90m [5828] |\u001b[39m J\u001b[36m<alal>\u001b[39m\n",
       "\u001b[90m [6347] |\u001b[39m Ch\u001b[36m<anan>\u001b[39m\n",
       "\u001b[90m [7290] |\u001b[39m Ke\u001b[36m<anan>\u001b[39m\n",
       "\u001b[90m [7347] |\u001b[39m M\u001b[36m<anan>\u001b[39m\n",
       "\u001b[90m [7832] |\u001b[39m K\u001b[36m<anan>\u001b[39m\n",
       "\u001b[90m [7991] |\u001b[39m R\u001b[36m<onon>\u001b[39m\n",
       "\u001b[90m [8308] |\u001b[39m Elch\u001b[36m<onon>\u001b[39m\n",
       "\u001b[90m [9058] |\u001b[39m H\u001b[36m<anan>\u001b[39m\n",
       "\u001b[90m [9215] |\u001b[39m Ke\u001b[36m<enen>\u001b[39m\n",
       "\u001b[90m[10649] |\u001b[39m Yoh\u001b[36m<anan>\u001b[39m\n",
       "\u001b[90m[11356] |\u001b[39m Joh\u001b[36m<anan>\u001b[39m\n",
       "\u001b[90m[13039] |\u001b[39m K\u001b[36m<arar>\u001b[39m"
      ]
     },
     "metadata": {},
     "output_type": "display_data"
    }
   ],
   "source": [
    "# The same with stringr syntax:\n",
    "pairss <- '([:lower:][:lower:])\\\\1$'\n",
    "str_view(boy_names, pattern = pairss, match = TRUE)"
   ]
  },
  {
   "cell_type": "code",
   "execution_count": 73,
   "id": "c5077902-77ff-4d11-9d79-ba97720c0428",
   "metadata": {},
   "outputs": [
    {
     "data": {
      "text/plain": [
       "\u001b[90m [173] |\u001b[39m J\u001b[36m<esse>\u001b[39m\n",
       "\u001b[90m [452] |\u001b[39m R\u001b[36m<occo>\u001b[39m\n",
       "\u001b[90m [802] |\u001b[39m Ap\u001b[36m<ollo>\u001b[39m\n",
       "\u001b[90m[1011] |\u001b[39m Pi\u001b[36m<erre>\u001b[39m\n",
       "\u001b[90m[1078] |\u001b[39m Ca\u001b[36m<naan>\u001b[39m\n",
       "\u001b[90m[1365] |\u001b[39m Gius\u001b[36m<eppe>\u001b[39m\n",
       "\u001b[90m[1494] |\u001b[39m Ja\u001b[36m<leel>\u001b[39m\n",
       "\u001b[90m[2124] |\u001b[39m Ever\u001b[36m<ette>\u001b[39m\n",
       "\u001b[90m[3001] |\u001b[39m Jah\u001b[36m<leel>\u001b[39m\n",
       "\u001b[90m[3714] |\u001b[39m Eti\u001b[36m<enne>\u001b[39m\n",
       "\u001b[90m[3956] |\u001b[39m Ka\u001b[36m<naan>\u001b[39m\n",
       "\u001b[90m[4324] |\u001b[39m Lav\u001b[36m<elle>\u001b[39m\n",
       "\u001b[90m[4842] |\u001b[39m Ta\u001b[36m<meem>\u001b[39m\n",
       "\u001b[90m[4957] |\u001b[39m Jo\u001b[36m<elle>\u001b[39m\n",
       "\u001b[90m[5140] |\u001b[39m Jeanpi\u001b[36m<erre>\u001b[39m\n",
       "\u001b[90m[5316] |\u001b[39m G\u001b[36m<reer>\u001b[39m\n",
       "\u001b[90m[5362] |\u001b[39m Keny\u001b[36m<atta>\u001b[39m\n",
       "\u001b[90m[6131] |\u001b[39m Ka\u001b[36m<leel>\u001b[39m\n",
       "\u001b[90m[6152] |\u001b[39m Kha\u001b[36m<leel>\u001b[39m\n",
       "\u001b[90m[6164] |\u001b[39m Lafay\u001b[36m<ette>\u001b[39m\n",
       "... and 36 more"
      ]
     },
     "metadata": {},
     "output_type": "display_data"
    }
   ],
   "source": [
    "# Capture names with a pair of letters followed by their reverse\n",
    "pairs2 <- capture(LOWER) %R% capture(LOWER) %R% REF2 %R% REF1 %R% END\n",
    "str_view(boy_names, pattern = pairs2, match = TRUE)"
   ]
  },
  {
   "cell_type": "code",
   "execution_count": 80,
   "id": "ef98eb98-2630-4efc-8ad9-6b7c3c8629ea",
   "metadata": {},
   "outputs": [
    {
     "data": {
      "text/html": [
       "<style>\n",
       ".list-inline {list-style: none; margin:0; padding: 0}\n",
       ".list-inline>li {display: inline-block}\n",
       ".list-inline>li:not(:last-child)::after {content: \"\\00b7\"; padding: 0 .5ex}\n",
       "</style>\n",
       "<ol class=list-inline><li>'hhello'</li><li>'ssweet'</li><li>'kkitten'</li></ol>\n"
      ],
      "text/latex": [
       "\\begin{enumerate*}\n",
       "\\item 'hhello'\n",
       "\\item 'ssweet'\n",
       "\\item 'kkitten'\n",
       "\\end{enumerate*}\n"
      ],
      "text/markdown": [
       "1. 'hhello'\n",
       "2. 'ssweet'\n",
       "3. 'kkitten'\n",
       "\n",
       "\n"
      ],
      "text/plain": [
       "[1] \"hhello\"  \"ssweet\"  \"kkitten\""
      ]
     },
     "metadata": {},
     "output_type": "display_data"
    }
   ],
   "source": [
    "x <- c(\"hello\", \"sweet\", \"kitten\")\n",
    "str_replace(x, capture(ANY_CHAR), str_c(REF1, REF1))"
   ]
  },
  {
   "cell_type": "markdown",
   "id": "1db34e26-30c9-4eb6-a175-61d3316ab67b",
   "metadata": {},
   "source": [
    "<a name=\"toc_46431_4.3\"></a>\n",
    "**4.3 Unicode matching**\n",
    "\n",
    "Place to find unicodes: E.g. https://symbl.cc/en/search/?q=plus+minus\n",
    "\n",
    "<u>Writing unicode characters in R:</u>\n",
    "- `\"\\U___\"` - where \"___\" is the unicode (often written after `U+` on websites). \n",
    "\n",
    "Note: On Windows, unicode characters more that 4 digits may not be handled correctly!\n",
    "\n",
    "<u>Matching Unicode groups:</u>\n",
    "- `\\p {name}`"
   ]
  },
  {
   "cell_type": "code",
   "execution_count": 103,
   "id": "83c9122d-33a8-448e-834e-63380e02b100",
   "metadata": {},
   "outputs": [
    {
     "data": {
      "text/html": [
       "'μ'"
      ],
      "text/latex": [
       "'μ'"
      ],
      "text/markdown": [
       "'μ'"
      ],
      "text/plain": [
       "[1] \"µ\""
      ]
     },
     "metadata": {},
     "output_type": "display_data"
    },
    {
     "data": {
      "text/html": [
       "'🔟'"
      ],
      "text/latex": [
       "'🔟'"
      ],
      "text/markdown": [
       "'🔟'"
      ],
      "text/plain": [
       "[1] \"<U+0001F51F>\""
      ]
     },
     "metadata": {},
     "output_type": "display_data"
    },
    {
     "data": {
      "text/html": [
       "'🌻'"
      ],
      "text/latex": [
       "'🌻'"
      ],
      "text/markdown": [
       "'🌻'"
      ],
      "text/plain": [
       "[1] \"<U+0001F33B>\""
      ]
     },
     "metadata": {},
     "output_type": "display_data"
    },
    {
     "data": {
      "text/html": [
       "'花'"
      ],
      "text/latex": [
       "'花'"
      ],
      "text/markdown": [
       "'花'"
      ],
      "text/plain": [
       "[1] \"<U+82B1>\""
      ]
     },
     "metadata": {},
     "output_type": "display_data"
    }
   ],
   "source": [
    "\"\\U03BC\"\n",
    "\"\\U0001F51F\"\n",
    "\"\\U1F33B\"\n",
    "\"\\U82B1\""
   ]
  },
  {
   "cell_type": "code",
   "execution_count": 106,
   "id": "7f55520a-7574-4417-b599-4eeceb026746",
   "metadata": {},
   "outputs": [
    {
     "data": {
      "text/html": [
       "'Normal(μ = 0, σ = 1)'"
      ],
      "text/latex": [
       "'Normal(μ = 0, σ = 1)'"
      ],
      "text/markdown": [
       "'Normal(μ = 0, σ = 1)'"
      ],
      "text/plain": [
       "[1] \"Normal(µ = 0, s = 1)\""
      ]
     },
     "metadata": {},
     "output_type": "display_data"
    }
   ],
   "source": [
    "x <- \"Normal(\\U03BC = 0, \\U03C3 = 1)\"\n",
    "x"
   ]
  },
  {
   "cell_type": "code",
   "execution_count": 112,
   "id": "ee008581-baf2-4415-b78a-d6b1a4c9697c",
   "metadata": {},
   "outputs": [
    {
     "data": {
      "text/plain": [
       "\u001b[90m[1] |\u001b[39m Normal(\u001b[36m<µ>\u001b[39m = 0, s = 1)"
      ]
     },
     "metadata": {},
     "output_type": "display_data"
    },
    {
     "data": {
      "text/plain": [
       "\u001b[90m[1] |\u001b[39m Normal(\u001b[36m<µ>\u001b[39m = 0, \u001b[36m<s>\u001b[39m = 1)"
      ]
     },
     "metadata": {},
     "output_type": "display_data"
    }
   ],
   "source": [
    "str_view(x, pattern = \"\\U03BC\")\n",
    "str_view(x, pattern = rebus::greek_and_coptic())"
   ]
  }
 ],
 "metadata": {
  "kernelspec": {
   "display_name": "R",
   "language": "R",
   "name": "ir"
  },
  "language_info": {
   "codemirror_mode": "r",
   "file_extension": ".r",
   "mimetype": "text/x-r-source",
   "name": "R",
   "pygments_lexer": "r",
   "version": "4.1.3"
  }
 },
 "nbformat": 4,
 "nbformat_minor": 5
}
