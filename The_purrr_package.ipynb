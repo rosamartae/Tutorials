{
 "cells": [
  {
   "cell_type": "markdown",
   "id": "95e2f42f-eb79-4dca-8020-07ecc5bad2a0",
   "metadata": {},
   "source": [
    "# The purrr package\n",
    "## -- DataCamp - Intermediate Tidyverse Toolbox Skill Track - Courses 2-3 --\n",
    "\n",
    "This script containg the **Foundations of Functional Programming with purrr** and the **Intermediate Functional Programming with purrr** courses.\n",
    "\n",
    "**DRAFT - currently only course 1 is included!**\n",
    "\n",
    "To use this code, select the R environment in Anaconda\n",
    " \n",
    " **Used packages**\n",
    " - tidyverse\n",
    " - repurrrsive - for datasets\n",
    " \n",
    "**Table of content**\n",
    "\n",
    "- [&nbsp;&nbsp;1. Simplifying Iteration and Lists With purrr](#toc_935640_1)"
   ]
  },
  {
   "cell_type": "markdown",
   "id": "434b6e4e-a866-4785-b661-36b8d2a6ac17",
   "metadata": {},
   "source": [
    "**Set environment and plot size**"
   ]
  },
  {
   "cell_type": "code",
   "execution_count": 1,
   "id": "ffb35858-f660-434c-9628-123cfa075e32",
   "metadata": {},
   "outputs": [
    {
     "name": "stderr",
     "output_type": "stream",
     "text": [
      "-- \u001b[1mAttaching packages\u001b[22m --------------------------------------- tidyverse 1.3.2 --\n",
      "\u001b[32mv\u001b[39m \u001b[34mggplot2\u001b[39m 3.4.0      \u001b[32mv\u001b[39m \u001b[34mpurrr  \u001b[39m 0.3.5 \n",
      "\u001b[32mv\u001b[39m \u001b[34mtibble \u001b[39m 3.1.8      \u001b[32mv\u001b[39m \u001b[34mdplyr  \u001b[39m 1.0.10\n",
      "\u001b[32mv\u001b[39m \u001b[34mtidyr  \u001b[39m 1.2.1      \u001b[32mv\u001b[39m \u001b[34mstringr\u001b[39m 1.5.0 \n",
      "\u001b[32mv\u001b[39m \u001b[34mreadr  \u001b[39m 2.1.3      \u001b[32mv\u001b[39m \u001b[34mforcats\u001b[39m 0.5.2 \n",
      "-- \u001b[1mConflicts\u001b[22m ------------------------------------------ tidyverse_conflicts() --\n",
      "\u001b[31mx\u001b[39m \u001b[34mdplyr\u001b[39m::\u001b[32mfilter()\u001b[39m masks \u001b[34mstats\u001b[39m::filter()\n",
      "\u001b[31mx\u001b[39m \u001b[34mdplyr\u001b[39m::\u001b[32mlag()\u001b[39m    masks \u001b[34mstats\u001b[39m::lag()\n"
     ]
    }
   ],
   "source": [
    "options(repr.plot.width=6, repr.plot.height=6)\n",
    "library(tidyverse)\n",
    "library(repurrrsive)"
   ]
  },
  {
   "cell_type": "markdown",
   "id": "0cfaef7a-4b2c-4a72-ad0f-20a2a263da6d",
   "metadata": {},
   "source": [
    "Note: if the above code return an error message:\n",
    "- Check that the correct R environment is selected in Anaconda\n",
    "- Restart computer"
   ]
  },
  {
   "cell_type": "markdown",
   "id": "024d2a61-f9c4-480e-a2dd-fa6a7640cd09",
   "metadata": {},
   "source": [
    "**Import and prepare data**"
   ]
  },
  {
   "cell_type": "markdown",
   "id": "a79a2974-4ff5-4956-8aaa-1298135f95c8",
   "metadata": {},
   "source": [
    "<a name=\"toc_935640_1\"></a>\n",
    "## 1.   Introduction to lists"
   ]
  },
  {
   "cell_type": "markdown",
   "id": "4716415c-1c30-4a43-8d24-c99787b91ddb",
   "metadata": {},
   "source": [
    "Lists can be created using `list()`."
   ]
  },
  {
   "cell_type": "code",
   "execution_count": 141,
   "id": "7a740aff-3ad7-4ff3-9609-b7a29c06df61",
   "metadata": {},
   "outputs": [],
   "source": [
    "bird_counts <- list(first = c(3, 1), \n",
    "                    second = c(3, 8, 1, 2), \n",
    "                    c(8, 3, 9, 9, 5, 5),\n",
    "                    c(8, 9, 7, 9, 5, 4, 1, 5))"
   ]
  },
  {
   "cell_type": "markdown",
   "id": "81cce1be-130c-48c9-b799-1a47a5a48418",
   "metadata": {},
   "source": [
    " List elements can be named or unnamed."
   ]
  },
  {
   "cell_type": "code",
   "execution_count": 143,
   "id": "66bb787a-6bd5-474a-9231-251749ce7245",
   "metadata": {},
   "outputs": [
    {
     "data": {
      "text/html": [
       "<style>\n",
       ".list-inline {list-style: none; margin:0; padding: 0}\n",
       ".list-inline>li {display: inline-block}\n",
       ".list-inline>li:not(:last-child)::after {content: \"\\00b7\"; padding: 0 .5ex}\n",
       "</style>\n",
       "<ol class=list-inline><li>'first'</li><li>'second'</li><li>''</li><li>''</li></ol>\n"
      ],
      "text/latex": [
       "\\begin{enumerate*}\n",
       "\\item 'first'\n",
       "\\item 'second'\n",
       "\\item ''\n",
       "\\item ''\n",
       "\\end{enumerate*}\n"
      ],
      "text/markdown": [
       "1. 'first'\n",
       "2. 'second'\n",
       "3. ''\n",
       "4. ''\n",
       "\n",
       "\n"
      ],
      "text/plain": [
       "[1] \"first\"  \"second\" \"\"       \"\"      "
      ]
     },
     "metadata": {},
     "output_type": "display_data"
    }
   ],
   "source": [
    "names(bird_counts) # here some elements are named some are not"
   ]
  },
  {
   "cell_type": "markdown",
   "id": "7445238b-d7de-49d1-9e92-8817746ed17e",
   "metadata": {},
   "source": [
    "Lists can contain mixed data types"
   ]
  },
  {
   "cell_type": "code",
   "execution_count": 83,
   "id": "0ba54838-41ac-4183-9bc0-54d875de9903",
   "metadata": {},
   "outputs": [
    {
     "data": {
      "text/plain": [
       "$bird\n",
       "     bird weight wing_length\n",
       "1   robin     76         100\n",
       "2 sparrow     14          35\n",
       "3     jay    100         130\n",
       "\n",
       "$model\n",
       "\n",
       "Call:\n",
       "lm(formula = weight ~ wing_length, data = biglist[[\"bird\"]])\n",
       "\n",
       "Coefficients:\n",
       "(Intercept)  wing_length  \n",
       "   -17.3216       0.9131  \n",
       "\n",
       "\n",
       "$plot\n"
      ]
     },
     "metadata": {},
     "output_type": "display_data"
    },
    {
     "data": {
      "image/png": "[encoded data removed]",
      "text/plain": [
       "plot without title"
      ]
     },
     "metadata": {
      "image/png": {
       "height": 360,
       "width": 360
      }
     },
     "output_type": "display_data"
    }
   ],
   "source": [
    "#Prepare our list\n",
    "biglist <- list()\n",
    "\n",
    "biglist[[\"bird\"]] <- \n",
    "    data.frame(\n",
    "        bird = c(\"robin\", \"sparrow\", \"jay\"),\n",
    "        weight = c(76, 14, 100),\n",
    "        wing_length = c(100, 35, 130)\n",
    "    )\n",
    "\n",
    "biglist[[\"model\"]] <- lm(weight ~ wing_length, data = biglist[[\"bird\"]])\n",
    "\n",
    "biglist[[\"plot\"]] <- \n",
    "    ggplot(\n",
    "        data = biglist[[\"model\"]],\n",
    "        aes(x = weight, y = wing_length)) +\n",
    "        geom_point()\n",
    "\n",
    "biglist"
   ]
  },
  {
   "cell_type": "markdown",
   "id": "cead934b-3a9a-4c91-86a3-9883b9ac8878",
   "metadata": {},
   "source": [
    "<u>Subsetting lists</u>\n",
    "\n",
    "Indexing lists:\n",
    "- `biglist[[1]]` - subsets the first element of the list by index\n",
    "- `biglist[[\"bird\"]]` - subsets the first element of the list by name\n",
    "- `biglist$bird` - same result\n",
    "- `biglist[[1]][2]` - for multi-level lists\n",
    "- `biglist[[1]]$name` - alternative for multi-level lists"
   ]
  },
  {
   "cell_type": "code",
   "execution_count": 126,
   "id": "783462eb-59e3-418c-8cb4-a56dc9d4a9bc",
   "metadata": {},
   "outputs": [
    {
     "data": {
      "text/plain": [
       "               Length Class  Mode     \n",
       "GrandBudapest  4      -none- character\n",
       "Moonrise1      4      -none- character\n",
       "Royal1         4      -none- character\n",
       "Moonrise2      4      -none- character\n",
       "Cavalcanti     5      -none- character\n",
       "Royal2         5      -none- character\n",
       "GrandBudapest2 4      -none- character\n",
       "Moonrise3      5      -none- character\n",
       "Chevalier      4      -none- character\n",
       "Zissou         5      -none- character\n",
       "FantasticFox   5      -none- character\n",
       "Darjeeling     5      -none- character\n",
       "Rushmore       5      -none- character\n",
       "BottleRocket   7      -none- character\n",
       "Darjeeling2    5      -none- character"
      ]
     },
     "metadata": {},
     "output_type": "display_data"
    },
    {
     "data": {
      "text/plain": [
       "     Length Class  Mode\n",
       "[1,] 14     -none- list\n",
       "[2,] 14     -none- list\n",
       "[3,] 14     -none- list\n",
       "[4,] 14     -none- list\n",
       "[5,] 14     -none- list\n",
       "[6,] 14     -none- list\n",
       "[7,] 13     -none- list"
      ]
     },
     "metadata": {},
     "output_type": "display_data"
    }
   ],
   "source": [
    "# Check wesanderson and the sw_films datasets from repurrrsive package\n",
    "summary(wesanderson)\n",
    "summary(sw_films)"
   ]
  },
  {
   "cell_type": "code",
   "execution_count": 130,
   "id": "5a008a2b-5eda-46a2-8e1d-9662bb8fced8",
   "metadata": {},
   "outputs": [
    {
     "data": {
      "text/html": [
       "'#5B1A18'"
      ],
      "text/latex": [
       "'\\#5B1A18'"
      ],
      "text/markdown": [
       "'#5B1A18'"
      ],
      "text/plain": [
       "[1] \"#5B1A18\""
      ]
     },
     "metadata": {},
     "output_type": "display_data"
    },
    {
     "data": {
      "text/html": [
       "'#5B1A18'"
      ],
      "text/latex": [
       "'\\#5B1A18'"
      ],
      "text/markdown": [
       "'#5B1A18'"
      ],
      "text/plain": [
       "[1] \"#5B1A18\""
      ]
     },
     "metadata": {},
     "output_type": "display_data"
    },
    {
     "data": {
      "text/html": [
       "'A New Hope'"
      ],
      "text/latex": [
       "'A New Hope'"
      ],
      "text/markdown": [
       "'A New Hope'"
      ],
      "text/plain": [
       "[1] \"A New Hope\""
      ]
     },
     "metadata": {},
     "output_type": "display_data"
    },
    {
     "data": {
      "text/html": [
       "<strong>$title</strong> = 'A New Hope'"
      ],
      "text/latex": [
       "\\textbf{\\$title} = 'A New Hope'"
      ],
      "text/markdown": [
       "**$title** = 'A New Hope'"
      ],
      "text/plain": [
       "$title\n",
       "[1] \"A New Hope\"\n"
      ]
     },
     "metadata": {},
     "output_type": "display_data"
    }
   ],
   "source": [
    "# Third element of the first wesanderson vector\n",
    "wesanderson[[1]][3]\n",
    "\n",
    "# Alternatively\n",
    "wesanderson$GrandBudapest[3]\n",
    "\n",
    "# Subset the first element of the sw_films data, the title column \n",
    "sw_films[[1]]$title\n",
    "\n",
    "#Alternatively\n",
    "sw_films[[1]][1]"
   ]
  },
  {
   "cell_type": "markdown",
   "id": "ac6f6b9c-9275-456e-870b-5142d575f357",
   "metadata": {},
   "source": [
    "<a name=\"toc_935640_2\"></a>\n",
    "## 2.   Simplifying iteration and lists with map functions"
   ]
  },
  {
   "cell_type": "markdown",
   "id": "2a68ad4d-c912-4c3b-8b5f-d76ea4fd9e71",
   "metadata": {
    "tags": []
   },
   "source": [
    "<a name=\"toc_935640_2.1\"></a>\n",
    "<u>**2.1  The `map()` function**</u>\n",
    "    \n",
    "purrr allows us to simplify iteration, either with **vectors** or **lists**, without having to deal with **for loops**. Iteration lets us do the same thing over and over again with different inputs. This means we don't have to write out repetitive lines of code for each new input. Iteration saves time, reduces lines of code, and prevents typos. \n",
    "\n",
    "For example, we can read in files with a separate line for each file:\n",
    "<div style=\"text-align:center;\">\n",
    "  <img src=\"images/purrr_001.png\" width = \"250\" align=\"center\">\n",
    "</div>\n",
    "\n",
    "Or we can build a for loop that reads them in iteratively. When there are only three files this might not make sense, but when we are dealing with dozens or hundreds of inputs it can be a huge time saver.\n",
    "<div style=\"text-align:center;\">\n",
    "  <img src=\"images/purrr_002.png\" width = \"250\" align=\"center\">\n",
    "</div>\n",
    "\n",
    "For loops are powerful, but are often one of the places where typos that are tough to identify pop up and this prevents you from moving on in your workflow.\n",
    "\n",
    "`purrr` makes iteration easier. It wraps a for loop into a single function, `map()`, which reduces the number of lines of code we need. This means we can focus on the important pieces of what we are trying to accomplish. Instead of worrying about indexing and brackets or curly braces, we can just put in the pieces and get what we need. \n",
    "\n",
    "`map(object, function)` takes two arguments\n",
    "- object - can be a vector or a list\n",
    "- function - any function in R that takes the input object."
   ]
  },
  {
   "cell_type": "markdown",
   "id": "526bb349-5d72-4b80-a34d-b7c55f3b465c",
   "metadata": {},
   "source": [
    "<u>Example 1:</u> Iteration by list elements"
   ]
  },
  {
   "cell_type": "code",
   "execution_count": 89,
   "id": "e1f2eea6-fc94-4760-8a2d-560f701c87e0",
   "metadata": {},
   "outputs": [
    {
     "data": {
      "text/html": [
       "<ol>\n",
       "\t<li>4</li>\n",
       "\t<li>14</li>\n",
       "\t<li>39</li>\n",
       "\t<li>48</li>\n",
       "</ol>\n"
      ],
      "text/latex": [
       "\\begin{enumerate}\n",
       "\\item 4\n",
       "\\item 14\n",
       "\\item 39\n",
       "\\item 48\n",
       "\\end{enumerate}\n"
      ],
      "text/markdown": [
       "1. 4\n",
       "2. 14\n",
       "3. 39\n",
       "4. 48\n",
       "\n",
       "\n"
      ],
      "text/plain": [
       "[[1]]\n",
       "[1] 4\n",
       "\n",
       "[[2]]\n",
       "[1] 14\n",
       "\n",
       "[[3]]\n",
       "[1] 39\n",
       "\n",
       "[[4]]\n",
       "[1] 48\n"
      ]
     },
     "metadata": {},
     "output_type": "display_data"
    }
   ],
   "source": [
    "# Calculate something on each element\n",
    "\n",
    "bird_sum <- list() # initialize list\n",
    "\n",
    "for(i in seq_along(bird_counts)){\n",
    "    bird_sum[[i]] <- sum(bird_counts[[i]])\n",
    "    }\n",
    "\n",
    "bird_sum"
   ]
  },
  {
   "cell_type": "code",
   "execution_count": 87,
   "id": "a24d0434-f5ae-4db9-bb5e-1243e6870569",
   "metadata": {},
   "outputs": [
    {
     "data": {
      "text/html": [
       "<ol>\n",
       "\t<li>4</li>\n",
       "\t<li>14</li>\n",
       "\t<li>39</li>\n",
       "\t<li>48</li>\n",
       "</ol>\n"
      ],
      "text/latex": [
       "\\begin{enumerate}\n",
       "\\item 4\n",
       "\\item 14\n",
       "\\item 39\n",
       "\\item 48\n",
       "\\end{enumerate}\n"
      ],
      "text/markdown": [
       "1. 4\n",
       "2. 14\n",
       "3. 39\n",
       "4. 48\n",
       "\n",
       "\n"
      ],
      "text/plain": [
       "[[1]]\n",
       "[1] 4\n",
       "\n",
       "[[2]]\n",
       "[1] 14\n",
       "\n",
       "[[3]]\n",
       "[1] 39\n",
       "\n",
       "[[4]]\n",
       "[1] 48\n"
      ]
     },
     "metadata": {},
     "output_type": "display_data"
    }
   ],
   "source": [
    "# Now with purrr\n",
    "bird_sum <- map(bird_counts, sum)\n",
    "bird_sum"
   ]
  },
  {
   "cell_type": "markdown",
   "id": "a9454224-199c-41f9-a86f-1b7e249c0020",
   "metadata": {},
   "source": [
    "☝️  The output of both methods is the same! However, purrr makes our code simpler by letting us focus on the pieces we are working with, instead of the structure of the for loop."
   ]
  },
  {
   "cell_type": "markdown",
   "id": "e657469b-4150-4d4e-b0fd-549dd7d1c0a2",
   "metadata": {},
   "source": [
    "<u>Example 2:</u> Read multiple data file at once"
   ]
  },
  {
   "cell_type": "code",
   "execution_count": 14,
   "id": "29767198-70ec-40b4-9fcd-ba8fac0524c0",
   "metadata": {},
   "outputs": [
    {
     "data": {
      "text/html": [
       "<style>\n",
       ".list-inline {list-style: none; margin:0; padding: 0}\n",
       ".list-inline>li {display: inline-block}\n",
       ".list-inline>li:not(:last-child)::after {content: \"\\00b7\"; padding: 0 .5ex}\n",
       "</style>\n",
       "<ol class=list-inline><li>'data_from_1990.csv'</li><li>'data_from_1991.csv'</li><li>'data_from_1992.csv'</li><li>'data_from_1993.csv'</li><li>'data_from_1994.csv'</li><li>'data_from_1995.csv'</li><li>'data_from_1996.csv'</li><li>'data_from_1997.csv'</li><li>'data_from_1998.csv'</li><li>'data_from_1999.csv'</li><li>'data_from_2000.csv'</li><li>'data_from_2001.csv'</li><li>'data_from_2002.csv'</li><li>'data_from_2003.csv'</li><li>'data_from_2004.csv'</li><li>'data_from_2005.csv'</li></ol>\n"
      ],
      "text/latex": [
       "\\begin{enumerate*}\n",
       "\\item 'data\\_from\\_1990.csv'\n",
       "\\item 'data\\_from\\_1991.csv'\n",
       "\\item 'data\\_from\\_1992.csv'\n",
       "\\item 'data\\_from\\_1993.csv'\n",
       "\\item 'data\\_from\\_1994.csv'\n",
       "\\item 'data\\_from\\_1995.csv'\n",
       "\\item 'data\\_from\\_1996.csv'\n",
       "\\item 'data\\_from\\_1997.csv'\n",
       "\\item 'data\\_from\\_1998.csv'\n",
       "\\item 'data\\_from\\_1999.csv'\n",
       "\\item 'data\\_from\\_2000.csv'\n",
       "\\item 'data\\_from\\_2001.csv'\n",
       "\\item 'data\\_from\\_2002.csv'\n",
       "\\item 'data\\_from\\_2003.csv'\n",
       "\\item 'data\\_from\\_2004.csv'\n",
       "\\item 'data\\_from\\_2005.csv'\n",
       "\\end{enumerate*}\n"
      ],
      "text/markdown": [
       "1. 'data_from_1990.csv'\n",
       "2. 'data_from_1991.csv'\n",
       "3. 'data_from_1992.csv'\n",
       "4. 'data_from_1993.csv'\n",
       "5. 'data_from_1994.csv'\n",
       "6. 'data_from_1995.csv'\n",
       "7. 'data_from_1996.csv'\n",
       "8. 'data_from_1997.csv'\n",
       "9. 'data_from_1998.csv'\n",
       "10. 'data_from_1999.csv'\n",
       "11. 'data_from_2000.csv'\n",
       "12. 'data_from_2001.csv'\n",
       "13. 'data_from_2002.csv'\n",
       "14. 'data_from_2003.csv'\n",
       "15. 'data_from_2004.csv'\n",
       "16. 'data_from_2005.csv'\n",
       "\n",
       "\n"
      ],
      "text/plain": [
       " [1] \"data_from_1990.csv\" \"data_from_1991.csv\" \"data_from_1992.csv\"\n",
       " [4] \"data_from_1993.csv\" \"data_from_1994.csv\" \"data_from_1995.csv\"\n",
       " [7] \"data_from_1996.csv\" \"data_from_1997.csv\" \"data_from_1998.csv\"\n",
       "[10] \"data_from_1999.csv\" \"data_from_2000.csv\" \"data_from_2001.csv\"\n",
       "[13] \"data_from_2002.csv\" \"data_from_2003.csv\" \"data_from_2004.csv\"\n",
       "[16] \"data_from_2005.csv\""
      ]
     },
     "metadata": {},
     "output_type": "display_data"
    }
   ],
   "source": [
    "files <- list.files(\"data/purrr\")\n",
    "files"
   ]
  },
  {
   "cell_type": "code",
   "execution_count": 86,
   "id": "6de849a0-81f7-43a8-925c-3b0e7be2d212",
   "metadata": {},
   "outputs": [
    {
     "data": {
      "text/html": [
       "16"
      ],
      "text/latex": [
       "16"
      ],
      "text/markdown": [
       "16"
      ],
      "text/plain": [
       "[1] 16"
      ]
     },
     "metadata": {},
     "output_type": "display_data"
    }
   ],
   "source": [
    "# Initialize list\n",
    "all_files <- list()\n",
    "\n",
    "# For loop to read files into a list\n",
    "suppressMessages(\n",
    "    for(i in seq_along(files)){\n",
    "      all_files[[i]] <- read_csv(file = paste0(\"data/purrr/\", files[[i]]))\n",
    "}\n",
    ")\n",
    "\n",
    "# Output size of list object\n",
    "length(all_files)"
   ]
  },
  {
   "cell_type": "code",
   "execution_count": 22,
   "id": "80a5a822-3295-4bc6-b017-43970904e561",
   "metadata": {},
   "outputs": [
    {
     "data": {
      "text/html": [
       "16"
      ],
      "text/latex": [
       "16"
      ],
      "text/markdown": [
       "16"
      ],
      "text/plain": [
       "[1] 16"
      ]
     },
     "metadata": {},
     "output_type": "display_data"
    }
   ],
   "source": [
    "# Alternatively:\n",
    "\n",
    "suppressMessages(\n",
    "    all_files_purrr <- map(paste0(\"data/purrr/\", files), read_csv) \n",
    ")\n",
    "\n",
    "length(all_files_purrr)"
   ]
  },
  {
   "cell_type": "markdown",
   "id": "01b1b83d-33a0-489a-b8aa-ae9532d04854",
   "metadata": {},
   "source": [
    "<u>Example 3:</u> Change class with purr"
   ]
  },
  {
   "cell_type": "code",
   "execution_count": 25,
   "id": "89376c33-10e0-4558-a27e-ca11687fc59e",
   "metadata": {},
   "outputs": [
    {
     "data": {
      "text/html": [
       "'numeric'"
      ],
      "text/latex": [
       "'numeric'"
      ],
      "text/markdown": [
       "'numeric'"
      ],
      "text/plain": [
       "[1] \"numeric\""
      ]
     },
     "metadata": {},
     "output_type": "display_data"
    }
   ],
   "source": [
    "# Check the class type of the first element\n",
    "class(bird_counts[[1]])  "
   ]
  },
  {
   "cell_type": "code",
   "execution_count": 30,
   "id": "231e512c-d521-4502-81ee-fd63c3668197",
   "metadata": {},
   "outputs": [
    {
     "data": {
      "text/html": [
       "'character'"
      ],
      "text/latex": [
       "'character'"
      ],
      "text/markdown": [
       "'character'"
      ],
      "text/plain": [
       "[1] \"character\""
      ]
     },
     "metadata": {},
     "output_type": "display_data"
    }
   ],
   "source": [
    "# Change each character element to a number\n",
    "birdchar <- map(bird_counts, as.character)\n",
    "\n",
    "# Check the class type of the first element again\n",
    "class(birdchar[[1]]) "
   ]
  },
  {
   "cell_type": "markdown",
   "id": "eebef31f-a609-45ec-a980-019c3bc7536a",
   "metadata": {},
   "source": [
    "<a name=\"toc_935640_2.2\"></a>\n",
    "<u>**2.2  Alternative `map_*()` functions**</u>\n",
    "\n",
    "`map()` returns a list. If we want to return another data object, we can use some alternative functions, like\n",
    "- `map_dbl()` - return a double vector\n",
    "- `map_int()` - return an integer vector\n",
    "- `map_chr()` - return a character vector\n",
    "- `map_dfc()` - return a dataframe with column binding\n",
    "- `map_dfr()` - return a dataframe with row binding"
   ]
  },
  {
   "cell_type": "code",
   "execution_count": 93,
   "id": "ead496d1-9678-459d-85fc-4c9da1937007",
   "metadata": {},
   "outputs": [
    {
     "data": {
      "text/html": [
       "<style>\n",
       ".list-inline {list-style: none; margin:0; padding: 0}\n",
       ".list-inline>li {display: inline-block}\n",
       ".list-inline>li:not(:last-child)::after {content: \"\\00b7\"; padding: 0 .5ex}\n",
       "</style>\n",
       "<ol class=list-inline><li>4</li><li>14</li><li>39</li><li>48</li></ol>\n"
      ],
      "text/latex": [
       "\\begin{enumerate*}\n",
       "\\item 4\n",
       "\\item 14\n",
       "\\item 39\n",
       "\\item 48\n",
       "\\end{enumerate*}\n"
      ],
      "text/markdown": [
       "1. 4\n",
       "2. 14\n",
       "3. 39\n",
       "4. 48\n",
       "\n",
       "\n"
      ],
      "text/plain": [
       "[1]  4 14 39 48"
      ]
     },
     "metadata": {},
     "output_type": "display_data"
    }
   ],
   "source": [
    "map_dbl(bird_counts, sum)"
   ]
  },
  {
   "cell_type": "code",
   "execution_count": 92,
   "id": "399005ba-8fd2-43b7-b2df-daadbacc48c0",
   "metadata": {},
   "outputs": [
    {
     "data": {
      "text/html": [
       "<style>\n",
       ".list-inline {list-style: none; margin:0; padding: 0}\n",
       ".list-inline>li {display: inline-block}\n",
       ".list-inline>li:not(:last-child)::after {content: \"\\00b7\"; padding: 0 .5ex}\n",
       "</style>\n",
       "<ol class=list-inline><li>'4.000000'</li><li>'14.000000'</li><li>'39.000000'</li><li>'48.000000'</li></ol>\n"
      ],
      "text/latex": [
       "\\begin{enumerate*}\n",
       "\\item '4.000000'\n",
       "\\item '14.000000'\n",
       "\\item '39.000000'\n",
       "\\item '48.000000'\n",
       "\\end{enumerate*}\n"
      ],
      "text/markdown": [
       "1. '4.000000'\n",
       "2. '14.000000'\n",
       "3. '39.000000'\n",
       "4. '48.000000'\n",
       "\n",
       "\n"
      ],
      "text/plain": [
       "[1] \"4.000000\"  \"14.000000\" \"39.000000\" \"48.000000\""
      ]
     },
     "metadata": {},
     "output_type": "display_data"
    }
   ],
   "source": [
    "map_chr(bird_counts, sum)"
   ]
  },
  {
   "cell_type": "code",
   "execution_count": 90,
   "id": "715fff2c-5307-4ed1-9a81-e9615eb43939",
   "metadata": {},
   "outputs": [
    {
     "name": "stderr",
     "output_type": "stream",
     "text": [
      "\u001b[1m\u001b[22mNew names:\n",
      "\u001b[36m*\u001b[39m `` -> `...1`\n",
      "\u001b[36m*\u001b[39m `` -> `...2`\n",
      "\u001b[36m*\u001b[39m `` -> `...3`\n",
      "\u001b[36m*\u001b[39m `` -> `...4`\n"
     ]
    },
    {
     "data": {
      "text/html": [
       "<table class=\"dataframe\">\n",
       "<caption>A tibble: 1 × 4</caption>\n",
       "<thead>\n",
       "\t<tr><th scope=col>...1</th><th scope=col>...2</th><th scope=col>...3</th><th scope=col>...4</th></tr>\n",
       "\t<tr><th scope=col>&lt;dbl&gt;</th><th scope=col>&lt;dbl&gt;</th><th scope=col>&lt;dbl&gt;</th><th scope=col>&lt;dbl&gt;</th></tr>\n",
       "</thead>\n",
       "<tbody>\n",
       "\t<tr><td>4</td><td>14</td><td>39</td><td>48</td></tr>\n",
       "</tbody>\n",
       "</table>\n"
      ],
      "text/latex": [
       "A tibble: 1 × 4\n",
       "\\begin{tabular}{llll}\n",
       " ...1 & ...2 & ...3 & ...4\\\\\n",
       " <dbl> & <dbl> & <dbl> & <dbl>\\\\\n",
       "\\hline\n",
       "\t 4 & 14 & 39 & 48\\\\\n",
       "\\end{tabular}\n"
      ],
      "text/markdown": [
       "\n",
       "A tibble: 1 × 4\n",
       "\n",
       "| ...1 &lt;dbl&gt; | ...2 &lt;dbl&gt; | ...3 &lt;dbl&gt; | ...4 &lt;dbl&gt; |\n",
       "|---|---|---|---|\n",
       "| 4 | 14 | 39 | 48 |\n",
       "\n"
      ],
      "text/plain": [
       "  ...1 ...2 ...3 ...4\n",
       "1 4    14   39   48  "
      ]
     },
     "metadata": {},
     "output_type": "display_data"
    }
   ],
   "source": [
    "map_dfc(bird_counts, sum)"
   ]
  },
  {
   "cell_type": "markdown",
   "id": "35e316a2-447e-4122-a844-e3d774dcc730",
   "metadata": {},
   "source": [
    "<a name=\"toc_935640_2.3\"></a>\n",
    "**<u>2.3 The `~` and `.x` operators</u>**\n",
    "\n",
    "We can put `.x` or simply `.` into the function to show `map()` where we want the given list element name to be inputted. In cases like this, we need to write the `~` operator before the function call! The `~` operator in R creates a **formula**. Formulas are useful in R because they prevent immediate evaluation of symbols, so in this case R will not take `.` literally. \n",
    "\n",
    "In the most simple cases, \n",
    "\n",
    "- `map(wesanderson, length)` and\n",
    "- `map(wesanderson, ~ length(.x))`\n",
    "\n",
    "give the same result.\n",
    "\n",
    "However, in more complex situations, we max need to specify the exact location of the list elements within the function:\n",
    "\n",
    "`map(data, ~ lm(mpg ~ wt, data = .))` \n",
    "\n",
    "is basically a shortcut for \n",
    "\n",
    "`map(data, function(x) {lm(mpg ~ wt, data = x)})` \n",
    "\n",
    "This way `map()` can change the value of `.` in the formula as needed."
   ]
  },
  {
   "cell_type": "code",
   "execution_count": 136,
   "id": "76bfc3ac-5e63-4049-a20c-eb9600789a73",
   "metadata": {},
   "outputs": [
    {
     "data": {
      "text/html": [
       "<style>\n",
       ".list-inline {list-style: none; margin:0; padding: 0}\n",
       ".list-inline>li {display: inline-block}\n",
       ".list-inline>li:not(:last-child)::after {content: \"\\00b7\"; padding: 0 .5ex}\n",
       "</style>\n",
       "<ol class=list-inline><li>200</li><li>200</li><li>200</li><li>200</li><li>200</li><li>200</li><li>200</li><li>200</li><li>200</li><li>200</li><li>200</li><li>200</li><li>200</li><li>200</li><li>200</li><li>200</li></ol>\n"
      ],
      "text/latex": [
       "\\begin{enumerate*}\n",
       "\\item 200\n",
       "\\item 200\n",
       "\\item 200\n",
       "\\item 200\n",
       "\\item 200\n",
       "\\item 200\n",
       "\\item 200\n",
       "\\item 200\n",
       "\\item 200\n",
       "\\item 200\n",
       "\\item 200\n",
       "\\item 200\n",
       "\\item 200\n",
       "\\item 200\n",
       "\\item 200\n",
       "\\item 200\n",
       "\\end{enumerate*}\n"
      ],
      "text/markdown": [
       "1. 200\n",
       "2. 200\n",
       "3. 200\n",
       "4. 200\n",
       "5. 200\n",
       "6. 200\n",
       "7. 200\n",
       "8. 200\n",
       "9. 200\n",
       "10. 200\n",
       "11. 200\n",
       "12. 200\n",
       "13. 200\n",
       "14. 200\n",
       "15. 200\n",
       "16. 200\n",
       "\n",
       "\n"
      ],
      "text/plain": [
       " [1] 200 200 200 200 200 200 200 200 200 200 200 200 200 200 200 200"
      ]
     },
     "metadata": {},
     "output_type": "display_data"
    }
   ],
   "source": [
    "# Check the number of rows in each element of a list. \n",
    "map_dbl(all_files, ~ nrow(.x))"
   ]
  },
  {
   "cell_type": "code",
   "execution_count": 12,
   "id": "2d63cf38-7a6d-4450-ba99-65923306dc95",
   "metadata": {},
   "outputs": [
    {
     "data": {
      "text/html": [
       "<ol>\n",
       "\t<li>'George Lucas'</li>\n",
       "\t<li>'George Lucas'</li>\n",
       "\t<li>'George Lucas'</li>\n",
       "\t<li>'George Lucas'</li>\n",
       "\t<li>'Richard Marquand'</li>\n",
       "\t<li>'Irvin Kershner'</li>\n",
       "\t<li>'J. J. Abrams'</li>\n",
       "</ol>\n"
      ],
      "text/latex": [
       "\\begin{enumerate}\n",
       "\\item 'George Lucas'\n",
       "\\item 'George Lucas'\n",
       "\\item 'George Lucas'\n",
       "\\item 'George Lucas'\n",
       "\\item 'Richard Marquand'\n",
       "\\item 'Irvin Kershner'\n",
       "\\item 'J. J. Abrams'\n",
       "\\end{enumerate}\n"
      ],
      "text/markdown": [
       "1. 'George Lucas'\n",
       "2. 'George Lucas'\n",
       "3. 'George Lucas'\n",
       "4. 'George Lucas'\n",
       "5. 'Richard Marquand'\n",
       "6. 'Irvin Kershner'\n",
       "7. 'J. J. Abrams'\n",
       "\n",
       "\n"
      ],
      "text/plain": [
       "[[1]]\n",
       "[1] \"George Lucas\"\n",
       "\n",
       "[[2]]\n",
       "[1] \"George Lucas\"\n",
       "\n",
       "[[3]]\n",
       "[1] \"George Lucas\"\n",
       "\n",
       "[[4]]\n",
       "[1] \"George Lucas\"\n",
       "\n",
       "[[5]]\n",
       "[1] \"Richard Marquand\"\n",
       "\n",
       "[[6]]\n",
       "[1] \"Irvin Kershner\"\n",
       "\n",
       "[[7]]\n",
       "[1] \"J. J. Abrams\"\n"
      ]
     },
     "metadata": {},
     "output_type": "display_data"
    }
   ],
   "source": [
    "# Pull out the director element of sw_films in a list and character vector\n",
    "map(sw_films, ~.x[[\"director\"]])"
   ]
  },
  {
   "cell_type": "code",
   "execution_count": 15,
   "id": "a90d1711-fa1c-4916-bf0d-26b7241ae424",
   "metadata": {},
   "outputs": [
    {
     "data": {
      "text/html": [
       "<style>\n",
       ".list-inline {list-style: none; margin:0; padding: 0}\n",
       ".list-inline>li {display: inline-block}\n",
       ".list-inline>li:not(:last-child)::after {content: \"\\00b7\"; padding: 0 .5ex}\n",
       "</style>\n",
       "<ol class=list-inline><li>TRUE</li><li>TRUE</li><li>TRUE</li><li>TRUE</li><li>FALSE</li><li>FALSE</li><li>FALSE</li></ol>\n"
      ],
      "text/latex": [
       "\\begin{enumerate*}\n",
       "\\item TRUE\n",
       "\\item TRUE\n",
       "\\item TRUE\n",
       "\\item TRUE\n",
       "\\item FALSE\n",
       "\\item FALSE\n",
       "\\item FALSE\n",
       "\\end{enumerate*}\n"
      ],
      "text/markdown": [
       "1. TRUE\n",
       "2. TRUE\n",
       "3. TRUE\n",
       "4. TRUE\n",
       "5. FALSE\n",
       "6. FALSE\n",
       "7. FALSE\n",
       "\n",
       "\n"
      ],
      "text/plain": [
       "[1]  TRUE  TRUE  TRUE  TRUE FALSE FALSE FALSE"
      ]
     },
     "metadata": {},
     "output_type": "display_data"
    }
   ],
   "source": [
    "map_lgl(sw_films, ~.x[[\"director\"]] == \"George Lucas\")"
   ]
  },
  {
   "cell_type": "markdown",
   "id": "c5f49033-7d96-4504-9994-1fe3c1c697b9",
   "metadata": {},
   "source": [
    "<u>Example:</u> Simulating data"
   ]
  },
  {
   "cell_type": "code",
   "execution_count": 3,
   "id": "7f0abe79-c168-47d6-b7cd-e8947058cc2f",
   "metadata": {},
   "outputs": [
    {
     "data": {
      "text/html": [
       "<table class=\"dataframe\">\n",
       "<caption>A data.frame: 2 × 2</caption>\n",
       "<thead>\n",
       "\t<tr><th></th><th scope=col>site</th><th scope=col>a</th></tr>\n",
       "\t<tr><th></th><th scope=col>&lt;dbl&gt;</th><th scope=col>&lt;dbl&gt;</th></tr>\n",
       "</thead>\n",
       "<tbody>\n",
       "\t<tr><th scope=row>1</th><td>5</td><td>5.820833</td></tr>\n",
       "\t<tr><th scope=row>2</th><td>5</td><td>3.470739</td></tr>\n",
       "</tbody>\n",
       "</table>\n"
      ],
      "text/latex": [
       "A data.frame: 2 × 2\n",
       "\\begin{tabular}{r|ll}\n",
       "  & site & a\\\\\n",
       "  & <dbl> & <dbl>\\\\\n",
       "\\hline\n",
       "\t1 & 5 & 5.820833\\\\\n",
       "\t2 & 5 & 3.470739\\\\\n",
       "\\end{tabular}\n"
      ],
      "text/markdown": [
       "\n",
       "A data.frame: 2 × 2\n",
       "\n",
       "| <!--/--> | site &lt;dbl&gt; | a &lt;dbl&gt; |\n",
       "|---|---|---|\n",
       "| 1 | 5 | 5.820833 |\n",
       "| 2 | 5 | 3.470739 |\n",
       "\n"
      ],
      "text/plain": [
       "  site a       \n",
       "1 5    5.820833\n",
       "2 5    3.470739"
      ]
     },
     "metadata": {},
     "output_type": "display_data"
    }
   ],
   "source": [
    "list_of_means <- list(5, 2, 300, 15)\n",
    "\n",
    "list_of_df <- map(list_of_means,\n",
    "                    ~ data.frame(site = .x, \n",
    "                                 a = rnorm(mean = .x, n = 200, sd = (5/2))\n",
    "                     ))\n",
    "\n",
    "head(list_of_df[[1]], 2)"
   ]
  },
  {
   "cell_type": "code",
   "execution_count": 9,
   "id": "c92da6b9-bf46-4746-8d3e-a6a91bfbc6d6",
   "metadata": {},
   "outputs": [
    {
     "data": {
      "text/html": [
       "<ol>\n",
       "\t<li>4.903615797353</li>\n",
       "\t<li>1.98721980873331</li>\n",
       "\t<li>299.623691815556</li>\n",
       "\t<li>14.9902029473326</li>\n",
       "</ol>\n"
      ],
      "text/latex": [
       "\\begin{enumerate}\n",
       "\\item 4.903615797353\n",
       "\\item 1.98721980873331\n",
       "\\item 299.623691815556\n",
       "\\item 14.9902029473326\n",
       "\\end{enumerate}\n"
      ],
      "text/markdown": [
       "1. 4.903615797353\n",
       "2. 1.98721980873331\n",
       "3. 299.623691815556\n",
       "4. 14.9902029473326\n",
       "\n",
       "\n"
      ],
      "text/plain": [
       "[[1]]\n",
       "[1] 4.903616\n",
       "\n",
       "[[2]]\n",
       "[1] 1.98722\n",
       "\n",
       "[[3]]\n",
       "[1] 299.6237\n",
       "\n",
       "[[4]]\n",
       "[1] 14.9902\n"
      ]
     },
     "metadata": {},
     "output_type": "display_data"
    }
   ],
   "source": [
    "map(list_of_df, ~ mean(.x$a))"
   ]
  },
  {
   "cell_type": "markdown",
   "id": "7c886b07-7aad-45fa-9a9c-dbde36f32c2e",
   "metadata": {},
   "source": [
    "<u>Example:</u> Using `map()` for modeling"
   ]
  },
  {
   "cell_type": "code",
   "execution_count": 11,
   "id": "f70be0d0-3678-4caa-99b6-de0b61f79c13",
   "metadata": {},
   "outputs": [
    {
     "data": {
      "text/plain": [
       "[[1]]\n",
       "\n",
       "Call:\n",
       "lm(formula = a ~ b, data = .)\n",
       "\n",
       "Residuals:\n",
       "     Min       1Q   Median       3Q      Max \n",
       "-10.5152  -1.2977   0.1348   1.5111   7.7006 \n",
       "\n",
       "Coefficients:\n",
       "             Estimate Std. Error t value Pr(>|t|)  \n",
       "(Intercept)  5.571767   2.263014   2.462   0.0147 *\n",
       "b           -0.004424   0.011311  -0.391   0.6961  \n",
       "---\n",
       "Signif. codes:  0 '***' 0.001 '**' 0.01 '*' 0.05 '.' 0.1 ' ' 1\n",
       "\n",
       "Residual standard error: 2.563 on 198 degrees of freedom\n",
       "Multiple R-squared:  0.0007721,\tAdjusted R-squared:  -0.004275 \n",
       "F-statistic: 0.153 on 1 and 198 DF,  p-value: 0.6961\n",
       "\n",
       "\n",
       "[[2]]\n",
       "\n",
       "Call:\n",
       "lm(formula = a ~ b, data = .)\n",
       "\n",
       "Residuals:\n",
       "    Min      1Q  Median      3Q     Max \n",
       "-6.9927 -1.6931 -0.0785  1.8932  8.9481 \n",
       "\n",
       "Coefficients:\n",
       "            Estimate Std. Error t value Pr(>|t|)\n",
       "(Intercept)  0.96468    2.62044   0.368    0.713\n",
       "b            0.02021    0.01300   1.555    0.122\n",
       "\n",
       "Residual standard error: 2.711 on 198 degrees of freedom\n",
       "Multiple R-squared:  0.01206,\tAdjusted R-squared:  0.00707 \n",
       "F-statistic: 2.417 on 1 and 198 DF,  p-value: 0.1216\n",
       "\n",
       "\n",
       "[[3]]\n",
       "\n",
       "Call:\n",
       "lm(formula = a ~ b, data = .)\n",
       "\n",
       "Residuals:\n",
       "    Min      1Q  Median      3Q     Max \n",
       "-5.5282 -1.6066 -0.0373  1.7427  5.5390 \n",
       "\n",
       "Coefficients:\n",
       "             Estimate Std. Error t value Pr(>|t|)   \n",
       "(Intercept)  6.323912   2.340360   2.702  0.00749 **\n",
       "b           -0.006618   0.011635  -0.569  0.57015   \n",
       "---\n",
       "Signif. codes:  0 '***' 0.001 '**' 0.01 '*' 0.05 '.' 0.1 ' ' 1\n",
       "\n",
       "Residual standard error: 2.318 on 198 degrees of freedom\n",
       "Multiple R-squared:  0.001631,\tAdjusted R-squared:  -0.003411 \n",
       "F-statistic: 0.3235 on 1 and 198 DF,  p-value: 0.5702\n",
       "\n"
      ]
     },
     "metadata": {},
     "output_type": "display_data"
    }
   ],
   "source": [
    "# Run a linear model\n",
    "\n",
    "sites <- list(\"north\",\"east\",\"west\")\n",
    "\n",
    "list_of_df2 <-  map(sites,  \n",
    "  ~data.frame(sites = .x,\n",
    "       a = rnorm(mean = 5, n = 200, sd = (5/2)),\n",
    "       b = rnorm(mean = 200, n = 200, sd = 15)))\n",
    "\n",
    "list_of_df2 %>%\n",
    "    map(~ lm(a ~ b, data = .)) %>%\n",
    "    map(summary)"
   ]
  },
  {
   "cell_type": "markdown",
   "id": "92aa464b-29b3-4f46-8417-c096be62b988",
   "metadata": {},
   "source": [
    "<u>Example:</u> Using `map()` for asking questions from a list"
   ]
  },
  {
   "cell_type": "code",
   "execution_count": 21,
   "id": "06c25815-797c-45d6-a4ce-9aa9fc79e861",
   "metadata": {},
   "outputs": [
    {
     "data": {
      "text/html": [
       "<style>\n",
       ".list-inline {list-style: none; margin:0; padding: 0}\n",
       ".list-inline>li {display: inline-block}\n",
       ".list-inline>li:not(:last-child)::after {content: \"\\00b7\"; padding: 0 .5ex}\n",
       "</style>\n",
       "<ol class=list-inline><li>TRUE</li><li>TRUE</li><li>TRUE</li><li>TRUE</li><li>TRUE</li><li>TRUE</li></ol>\n"
      ],
      "text/latex": [
       "\\begin{enumerate*}\n",
       "\\item TRUE\n",
       "\\item TRUE\n",
       "\\item TRUE\n",
       "\\item TRUE\n",
       "\\item TRUE\n",
       "\\item TRUE\n",
       "\\end{enumerate*}\n"
      ],
      "text/markdown": [
       "1. TRUE\n",
       "2. TRUE\n",
       "3. TRUE\n",
       "4. TRUE\n",
       "5. TRUE\n",
       "6. TRUE\n",
       "\n",
       "\n"
      ],
      "text/plain": [
       "[1] TRUE TRUE TRUE TRUE TRUE TRUE"
      ]
     },
     "metadata": {},
     "output_type": "display_data"
    }
   ],
   "source": [
    "# Load the data\n",
    "data(gh_users)\n",
    "\n",
    "# Determine if the repositories are user-owned, rather than organization-owned\n",
    "map_lgl(gh_users, ~.x[[\"type\"]] == \"User\")"
   ]
  },
  {
   "cell_type": "code",
   "execution_count": 23,
   "id": "8629a2d0-146f-4358-a1d4-ac8d07ce96f6",
   "metadata": {},
   "outputs": [
    {
     "data": {
      "text/html": [
       "<style>\n",
       ".dl-inline {width: auto; margin:0; padding: 0}\n",
       ".dl-inline>dt, .dl-inline>dd {float: none; width: auto; display: inline-block}\n",
       ".dl-inline>dt::after {content: \":\\0020\"; padding-right: .5ex}\n",
       ".dl-inline>dt:not(:first-of-type) {padding-left: .5ex}\n",
       "</style><dl class=dl-inline><dt>Julia Silge</dt><dd>26</dd><dt>Maëlle Salmon</dt><dd>31</dd><dt>Gábor Csárdi</dt><dd>52</dd><dt>Jeff L.</dt><dd>67</dd><dt>Thomas J. Leeper</dt><dd>99</dd><dt>Jennifer (Jenny) Bryan</dt><dd>168</dd></dl>\n"
      ],
      "text/latex": [
       "\\begin{description*}\n",
       "\\item[Julia Silge] 26\n",
       "\\item[Maëlle Salmon] 31\n",
       "\\item[Gábor Csárdi] 52\n",
       "\\item[Jeff L.] 67\n",
       "\\item[Thomas J. Leeper] 99\n",
       "\\item[Jennifer (Jenny) Bryan] 168\n",
       "\\end{description*}\n"
      ],
      "text/markdown": [
       "Julia Silge\n",
       ":   26Maëlle Salmon\n",
       ":   31Gábor Csárdi\n",
       ":   52Jeff L.\n",
       ":   67Thomas J. Leeper\n",
       ":   99Jennifer (Jenny) Bryan\n",
       ":   168\n",
       "\n"
      ],
      "text/plain": [
       "           Julia Silge          Maëlle Salmon           Gábor Csárdi \n",
       "                    26                     31                     52 \n",
       "               Jeff L.       Thomas J. Leeper Jennifer (Jenny) Bryan \n",
       "                    67                     99                    168 "
      ]
     },
     "metadata": {},
     "output_type": "display_data"
    }
   ],
   "source": [
    "# Which user has the most public repositories? \n",
    "map_int(gh_users, ~.x[[\"public_repos\"]]) %>%\n",
    "      set_names(map_chr(gh_users, \"name\")) %>%\n",
    "    sort()"
   ]
  },
  {
   "cell_type": "markdown",
   "id": "06d65cc5-d65b-4a71-9487-88150a535dd5",
   "metadata": {},
   "source": [
    "<a name=\"toc_935640_2.4\"></a>\n",
    "**<u>2.4 Naming unnamed lists</u>**"
   ]
  },
  {
   "cell_type": "code",
   "execution_count": 150,
   "id": "5404aef0-42ee-408a-bd97-8cbfe94c24b2",
   "metadata": {},
   "outputs": [
    {
     "data": {
      "text/plain": [
       "NULL"
      ]
     },
     "metadata": {},
     "output_type": "display_data"
    }
   ],
   "source": [
    "names(sw_films)"
   ]
  },
  {
   "cell_type": "markdown",
   "id": "3ac08abc-d72c-48db-ac28-da15c40c2a0f",
   "metadata": {},
   "source": [
    "In the above list all elements containa $title infomration that we can use to name our elements. To do that, we need to extract names from the list using the `map_chr()` function. The first argument in `map_chr()` is the name of our list, `sw_films`, and our second argument is the name of the element where the names are stored, in this case, `\"title\"`. We then put the `map_chr()` function inside the `set_names()` function. Then we can check that setting names worked by calling the `names()` function on `sw_films`."
   ]
  },
  {
   "cell_type": "code",
   "execution_count": 149,
   "id": "1a4c6fe7-8191-42dc-aa36-9e7ad0f3946e",
   "metadata": {},
   "outputs": [
    {
     "data": {
      "text/html": [
       "<style>\n",
       ".list-inline {list-style: none; margin:0; padding: 0}\n",
       ".list-inline>li {display: inline-block}\n",
       ".list-inline>li:not(:last-child)::after {content: \"\\00b7\"; padding: 0 .5ex}\n",
       "</style>\n",
       "<ol class=list-inline><li>'A New Hope'</li><li>'Attack of the Clones'</li><li>'The Phantom Menace'</li><li>'Revenge of the Sith'</li><li>'Return of the Jedi'</li><li>'The Empire Strikes Back'</li><li>'The Force Awakens'</li></ol>\n"
      ],
      "text/latex": [
       "\\begin{enumerate*}\n",
       "\\item 'A New Hope'\n",
       "\\item 'Attack of the Clones'\n",
       "\\item 'The Phantom Menace'\n",
       "\\item 'Revenge of the Sith'\n",
       "\\item 'Return of the Jedi'\n",
       "\\item 'The Empire Strikes Back'\n",
       "\\item 'The Force Awakens'\n",
       "\\end{enumerate*}\n"
      ],
      "text/markdown": [
       "1. 'A New Hope'\n",
       "2. 'Attack of the Clones'\n",
       "3. 'The Phantom Menace'\n",
       "4. 'Revenge of the Sith'\n",
       "5. 'Return of the Jedi'\n",
       "6. 'The Empire Strikes Back'\n",
       "7. 'The Force Awakens'\n",
       "\n",
       "\n"
      ],
      "text/plain": [
       "[1] \"A New Hope\"              \"Attack of the Clones\"   \n",
       "[3] \"The Phantom Menace\"      \"Revenge of the Sith\"    \n",
       "[5] \"Return of the Jedi\"      \"The Empire Strikes Back\"\n",
       "[7] \"The Force Awakens\"      "
      ]
     },
     "metadata": {},
     "output_type": "display_data"
    }
   ],
   "source": [
    "# Set names so each element of the list is named for the film title\n",
    "sw_films_named <- sw_films %>% \n",
    "  set_names(map_chr(sw_films, \"title\")) # Iterate over the title element.\n",
    "\n",
    "# Check to see if the names worked/are correct\n",
    "names(sw_films_named)"
   ]
  },
  {
   "cell_type": "markdown",
   "id": "f6fbd45b-a5b9-4cbf-aa61-63823914f753",
   "metadata": {},
   "source": [
    "A more complex example:"
   ]
  },
  {
   "cell_type": "code",
   "execution_count": 18,
   "id": "61a367d3-95fa-44fb-8b55-25b7441abcea",
   "metadata": {},
   "outputs": [],
   "source": [
    "# Map over name element of list\n",
    "map(gh_users, ~.x[[\"name\"]])\n",
    "\n",
    "# Name gh_users with the names of the users\n",
    "gh_users_named <- gh_users %>% \n",
    "    set_names(map_chr(gh_users, \"name\"))\n",
    "\n",
    "# Name gh_repos with the names of the repo owner\n",
    "gh_repos_named <- gh_repos %>% \n",
    "    map_chr(~ .[[1]]$owner$login) %>% \n",
    "    set_names(gh_repos, .)"
   ]
  },
  {
   "cell_type": "markdown",
   "id": "b086884c-4547-47d7-9dbf-332936418af2",
   "metadata": {},
   "source": [
    "<a name=\"toc_935640_2.5\"></a>\n",
    "**<u>2.5 Using pipes wihin `map()`</u>**"
   ]
  },
  {
   "cell_type": "code",
   "execution_count": 147,
   "id": "99a89e39-be59-4600-a316-a3563562cb01",
   "metadata": {},
   "outputs": [
    {
     "data": {
      "text/html": [
       "<style>\n",
       ".list-inline {list-style: none; margin:0; padding: 0}\n",
       ".list-inline>li {display: inline-block}\n",
       ".list-inline>li:not(:last-child)::after {content: \"\\00b7\"; padding: 0 .5ex}\n",
       "</style>\n",
       "<ol class=list-inline><li>200</li><li>200</li><li>200</li><li>200</li><li>200</li><li>200</li><li>200</li><li>200</li><li>200</li><li>200</li><li>200</li><li>200</li><li>200</li><li>200</li><li>200</li><li>200</li></ol>\n"
      ],
      "text/latex": [
       "\\begin{enumerate*}\n",
       "\\item 200\n",
       "\\item 200\n",
       "\\item 200\n",
       "\\item 200\n",
       "\\item 200\n",
       "\\item 200\n",
       "\\item 200\n",
       "\\item 200\n",
       "\\item 200\n",
       "\\item 200\n",
       "\\item 200\n",
       "\\item 200\n",
       "\\item 200\n",
       "\\item 200\n",
       "\\item 200\n",
       "\\item 200\n",
       "\\end{enumerate*}\n"
      ],
      "text/markdown": [
       "1. 200\n",
       "2. 200\n",
       "3. 200\n",
       "4. 200\n",
       "5. 200\n",
       "6. 200\n",
       "7. 200\n",
       "8. 200\n",
       "9. 200\n",
       "10. 200\n",
       "11. 200\n",
       "12. 200\n",
       "13. 200\n",
       "14. 200\n",
       "15. 200\n",
       "16. 200\n",
       "\n",
       "\n"
      ],
      "text/plain": [
       " [1] 200 200 200 200 200 200 200 200 200 200 200 200 200 200 200 200"
      ]
     },
     "metadata": {},
     "output_type": "display_data"
    }
   ],
   "source": [
    "map_dbl(all_files, ~.x %>%\n",
    "                    nrow()\n",
    "       )"
   ]
  },
  {
   "cell_type": "code",
   "execution_count": 155,
   "id": "652feedd-57ed-4c60-befd-19be6d70bf9e",
   "metadata": {},
   "outputs": [
    {
     "data": {
      "text/html": [
       "<ol>\n",
       "\t<li>0.841470984807897</li>\n",
       "\t<li>0.987765945992736</li>\n",
       "\t<li>0.987026644990354</li>\n",
       "\t<li>0.909297426825682</li>\n",
       "\t<li>0.786749131547214</li>\n",
       "\t<li>0.638157635148468</li>\n",
       "\t<li>0.475771838152751</li>\n",
       "\t<li>0.308071742363045</li>\n",
       "\t<li>0.141120008059867</li>\n",
       "\t<li>-0.0206835315295825</li>\n",
       "</ol>\n"
      ],
      "text/latex": [
       "\\begin{enumerate}\n",
       "\\item 0.841470984807897\n",
       "\\item 0.987765945992736\n",
       "\\item 0.987026644990354\n",
       "\\item 0.909297426825682\n",
       "\\item 0.786749131547214\n",
       "\\item 0.638157635148468\n",
       "\\item 0.475771838152751\n",
       "\\item 0.308071742363045\n",
       "\\item 0.141120008059867\n",
       "\\item -0.0206835315295825\n",
       "\\end{enumerate}\n"
      ],
      "text/markdown": [
       "1. 0.841470984807897\n",
       "2. 0.987765945992736\n",
       "3. 0.987026644990354\n",
       "4. 0.909297426825682\n",
       "5. 0.786749131547214\n",
       "6. 0.638157635148468\n",
       "7. 0.475771838152751\n",
       "8. 0.308071742363045\n",
       "9. 0.141120008059867\n",
       "10. -0.0206835315295825\n",
       "\n",
       "\n"
      ],
      "text/plain": [
       "[[1]]\n",
       "[1] 0.841471\n",
       "\n",
       "[[2]]\n",
       "[1] 0.9877659\n",
       "\n",
       "[[3]]\n",
       "[1] 0.9870266\n",
       "\n",
       "[[4]]\n",
       "[1] 0.9092974\n",
       "\n",
       "[[5]]\n",
       "[1] 0.7867491\n",
       "\n",
       "[[6]]\n",
       "[1] 0.6381576\n",
       "\n",
       "[[7]]\n",
       "[1] 0.4757718\n",
       "\n",
       "[[8]]\n",
       "[1] 0.3080717\n",
       "\n",
       "[[9]]\n",
       "[1] 0.14112\n",
       "\n",
       "[[10]]\n",
       "[1] -0.02068353\n"
      ]
     },
     "metadata": {},
     "output_type": "display_data"
    }
   ],
   "source": [
    "# Create a list of values from 1 through 10\n",
    "numlist <- list(1,2,3,4,5,6,7,8,9,10)\n",
    "\n",
    "# Iterate over the numlist \n",
    "map(numlist, ~.x %>% sqrt() %>% sin())"
   ]
  },
  {
   "cell_type": "code",
   "execution_count": 12,
   "id": "4839dcf3-8829-4914-8b30-82d1771cce9b",
   "metadata": {},
   "outputs": [
    {
     "data": {
      "text/html": [
       "<ol>\n",
       "\t<li>1.61</li>\n",
       "\t<li>0.69</li>\n",
       "\t<li>5.7</li>\n",
       "\t<li>2.71</li>\n",
       "</ol>\n"
      ],
      "text/latex": [
       "\\begin{enumerate}\n",
       "\\item 1.61\n",
       "\\item 0.69\n",
       "\\item 5.7\n",
       "\\item 2.71\n",
       "\\end{enumerate}\n"
      ],
      "text/markdown": [
       "1. 1.61\n",
       "2. 0.69\n",
       "3. 5.7\n",
       "4. 2.71\n",
       "\n",
       "\n"
      ],
      "text/plain": [
       "[[1]]\n",
       "[1] 1.61\n",
       "\n",
       "[[2]]\n",
       "[1] 0.69\n",
       "\n",
       "[[3]]\n",
       "[1] 5.7\n",
       "\n",
       "[[4]]\n",
       "[1] 2.71\n"
      ]
     },
     "metadata": {},
     "output_type": "display_data"
    }
   ],
   "source": [
    "map(list_of_means, ~.x %>%\n",
    "    log() %>%\n",
    "    sum() %>%\n",
    "    round(2)\n",
    "   )"
   ]
  },
  {
   "cell_type": "markdown",
   "id": "20863584-fda7-4e3b-b322-7db632208c8c",
   "metadata": {},
   "source": [
    "<a name=\"toc_935640_2.6\"></a>\n",
    "**<u>2.6 The `map2()`, `pmap()` and `imap()` functions</u>**"
   ]
  },
  {
   "cell_type": "markdown",
   "id": "50a3decf-4ae2-4185-a7b8-e8b8aa95aba2",
   "metadata": {},
   "source": [
    "- `map2()` - apply a function to pairs of elements from two lists or vectors. When needed, we can refer to the specific lists as `.x`, and `.y`\n",
    "- `pmap()` - apply a function to 3 or more lists. We need to create a list of lists we want to use, as our input, and then it will apply the function to groups of elements from a list of lists or vectors.\n",
    "- `imap()` - apply a function to each element and its index."
   ]
  },
  {
   "cell_type": "code",
   "execution_count": 25,
   "id": "9fa11012-38c7-4766-92a9-126024944462",
   "metadata": {},
   "outputs": [
    {
     "data": {
      "text/html": [
       "<table class=\"dataframe\">\n",
       "<caption>A data.frame: 2 × 2</caption>\n",
       "<thead>\n",
       "\t<tr><th></th><th scope=col>a</th><th scope=col>b</th></tr>\n",
       "\t<tr><th></th><th scope=col>&lt;dbl&gt;</th><th scope=col>&lt;dbl&gt;</th></tr>\n",
       "</thead>\n",
       "<tbody>\n",
       "\t<tr><th scope=row>1</th><td>5.249646</td><td>236.8449</td></tr>\n",
       "\t<tr><th scope=row>2</th><td>5.250264</td><td>204.5569</td></tr>\n",
       "</tbody>\n",
       "</table>\n"
      ],
      "text/latex": [
       "A data.frame: 2 × 2\n",
       "\\begin{tabular}{r|ll}\n",
       "  & a & b\\\\\n",
       "  & <dbl> & <dbl>\\\\\n",
       "\\hline\n",
       "\t1 & 5.249646 & 236.8449\\\\\n",
       "\t2 & 5.250264 & 204.5569\\\\\n",
       "\\end{tabular}\n"
      ],
      "text/markdown": [
       "\n",
       "A data.frame: 2 × 2\n",
       "\n",
       "| <!--/--> | a &lt;dbl&gt; | b &lt;dbl&gt; |\n",
       "|---|---|---|\n",
       "| 1 | 5.249646 | 236.8449 |\n",
       "| 2 | 5.250264 | 204.5569 |\n",
       "\n"
      ],
      "text/plain": [
       "  a        b       \n",
       "1 5.249646 236.8449\n",
       "2 5.250264 204.5569"
      ]
     },
     "metadata": {},
     "output_type": "display_data"
    }
   ],
   "source": [
    "# create two lists containing pairs of information\n",
    "list_of_means <- list(5, 2, 300, 15)\n",
    "list_of_sd <- list(0.5, 0.01, 20, 1)\n",
    "\n",
    "# Usi map2() to simulate data\n",
    "simdata <- map2(list_of_means, list_of_sd,\n",
    "                ~ data.frame(a = rnorm(mean = .x, n = 200, sd = .y),\n",
    "                             b = rnorm(mean = 200, n = 200, sd = 15)))\n",
    "                             \n",
    "head(simdata[[1]], 2)"
   ]
  },
  {
   "cell_type": "code",
   "execution_count": 36,
   "id": "d65d4ef1-7cdf-4b1a-b462-b61c215042b6",
   "metadata": {},
   "outputs": [
    {
     "data": {
      "text/html": [
       "<table class=\"dataframe\">\n",
       "<caption>A data.frame: 2 × 1</caption>\n",
       "<thead>\n",
       "\t<tr><th></th><th scope=col>a</th></tr>\n",
       "\t<tr><th></th><th scope=col>&lt;dbl&gt;</th></tr>\n",
       "</thead>\n",
       "<tbody>\n",
       "\t<tr><th scope=row>1</th><td>5.670574</td></tr>\n",
       "\t<tr><th scope=row>2</th><td>4.403826</td></tr>\n",
       "</tbody>\n",
       "</table>\n"
      ],
      "text/latex": [
       "A data.frame: 2 × 1\n",
       "\\begin{tabular}{r|l}\n",
       "  & a\\\\\n",
       "  & <dbl>\\\\\n",
       "\\hline\n",
       "\t1 & 5.670574\\\\\n",
       "\t2 & 4.403826\\\\\n",
       "\\end{tabular}\n"
      ],
      "text/markdown": [
       "\n",
       "A data.frame: 2 × 1\n",
       "\n",
       "| <!--/--> | a &lt;dbl&gt; |\n",
       "|---|---|\n",
       "| 1 | 5.670574 |\n",
       "| 2 | 4.403826 |\n",
       "\n"
      ],
      "text/plain": [
       "  a       \n",
       "1 5.670574\n",
       "2 4.403826"
      ]
     },
     "metadata": {},
     "output_type": "display_data"
    }
   ],
   "source": [
    "# create a list of lists\n",
    "list_of_means <- list(5, 2, 300, 15)\n",
    "list_of_sd <- list(0.5, 0.01, 20, 1)\n",
    "list_of_samplesize <- list(200, 120, 50, 8)\n",
    "\n",
    "input_list <- list(\n",
    "    means = list_of_means,\n",
    "    sd = list_of_sd,\n",
    "    samplesize = list_of_samplesize)\n",
    "\n",
    "# Simulate data\n",
    "\n",
    "simdata <- pmap(input_list,\n",
    "                function(means, sd, samplesize)\n",
    "                    data.frame(a = rnorm(mean = means, n = samplesize, sd = sd))\n",
    "                )\n",
    "                \n",
    "head(simdata[[1]], 2)"
   ]
  },
  {
   "cell_type": "markdown",
   "id": "30a6042e-e3e1-40e5-b1d1-032d49acad7b",
   "metadata": {},
   "source": [
    " ☝️  Above the 2. argument of `pmap()`, is a custom function where we use the names of the elements from our inputs_list as the arguments. This allows us to use the name of those lists as our arguments instead of using `.x` or `.y`. Our new list is our simulated datasets. Each element of the list is a different dataset, in a dataframe. "
   ]
  },
  {
   "cell_type": "markdown",
   "id": "1f425ca3-75b4-4837-8ac0-90b2604f685c",
   "metadata": {},
   "source": [
    "<a name=\"toc_935640_3\"></a>\n",
    "## 3.   Troubleshooting lists with purrr"
   ]
  },
  {
   "cell_type": "markdown",
   "id": "4f4219d8-c8f1-4c00-9d9b-aa7615ebce35",
   "metadata": {},
   "source": [
    "This chapter gives an overview on:\n",
    "- `safely()` - identify where in the list an issue is occurring\n",
    "- `possibly()` - handle the detected issues\n",
    "- `walk()` - it creates cleaner output."
   ]
  },
  {
   "cell_type": "markdown",
   "id": "2fbfcdfa-e8bb-4531-8f5e-57cbc9e06d6b",
   "metadata": {},
   "source": [
    "<a name=\"toc_935640_3.1\"></a>\n",
    "**<u>3.1 The `safely()` function</u>**\n",
    "\n",
    "When we try to `map()` over a list and one of the elements has the wrong data type, then the `map()` function will not work. For instance, if a function requires numeric input, and one of the elements has the character string \"unknown\", then the function won't work on that element. In these cases we can use `safely()`, inside of `map()` to identify where in the list an issue is occurring. \n",
    "\n",
    "The `safely()` takes a function and it also has an `otherwise` argument, where we can tell `safely()` how to deal with an input, such as a character string in a list of numerics, that it does not expect. E.g. `NA_real` will give the result as `NA` in these cases. Another argument is `quiet = FALSE` that makes error messages to be printed (TRUE by default)."
   ]
  },
  {
   "cell_type": "markdown",
   "id": "d9d95902-d70e-4153-a2b7-52ef4cc172de",
   "metadata": {},
   "source": [
    "In simple cases where we expect that some problems may occure, we can use if-else logic to fix problem in advance:"
   ]
  },
  {
   "cell_type": "code",
   "execution_count": 75,
   "id": "5b568689-332d-4c29-9b8d-227ced3162e7",
   "metadata": {},
   "outputs": [
    {
     "data": {
      "text/html": [
       "<ol>\n",
       "\t<li>172</li>\n",
       "\t<li>167</li>\n",
       "</ol>\n"
      ],
      "text/latex": [
       "\\begin{enumerate}\n",
       "\\item 172\n",
       "\\item 167\n",
       "\\end{enumerate}\n"
      ],
      "text/markdown": [
       "1. 172\n",
       "2. 167\n",
       "\n",
       "\n"
      ],
      "text/plain": [
       "[[1]]\n",
       "[1] 172\n",
       "\n",
       "[[2]]\n",
       "[1] 167\n"
      ]
     },
     "metadata": {},
     "output_type": "display_data"
    }
   ],
   "source": [
    "# Load sw_people data\n",
    "data(sw_people)\n",
    "\n",
    "# Map over sw_people and pull out the height element\n",
    "height_cm <- map(sw_people, \"height\") %>%\n",
    "  map(function(x){\n",
    "    ifelse(x == \"unknown\", NA,\n",
    "    as.numeric(x))\n",
    "})\n",
    "\n",
    "head(height_cm, 2)"
   ]
  },
  {
   "cell_type": "markdown",
   "id": "7904e6c8-77a3-49e1-9ba6-5344342ed4d1",
   "metadata": {},
   "source": [
    "In more complex cases or when unexpected errors can occure, it is better to use `safely()`:"
   ]
  },
  {
   "cell_type": "code",
   "execution_count": 48,
   "id": "075bb52d-54f4-4403-9302-f1d7da1afb26",
   "metadata": {},
   "outputs": [
    {
     "data": {
      "text/plain": [
       "[[1]]\n",
       "[[1]]$result\n",
       "[1] NA\n",
       "\n",
       "[[1]]$error\n",
       "<simpleError in x * 10: non-numeric argument to binary operator>\n",
       "\n",
       "\n",
       "[[2]]\n",
       "[[2]]$result\n",
       "[1] 100\n",
       "\n",
       "[[2]]$error\n",
       "NULL\n",
       "\n"
      ]
     },
     "metadata": {},
     "output_type": "display_data"
    }
   ],
   "source": [
    "a <- list(\"unknown\", 10)\n",
    "\n",
    "map(a, safely(function(x) x * 10,\n",
    "           otherwise = NA_real_)) # outputs NA when the input is unexpected"
   ]
  },
  {
   "cell_type": "code",
   "execution_count": 63,
   "id": "e25b603a-6dd8-4671-a3af-67b56b4a23f0",
   "metadata": {},
   "outputs": [
    {
     "data": {
      "text/plain": [
       "$result\n",
       "$result[[1]]\n",
       "[1] 2.302585\n",
       "\n",
       "$result[[2]]\n",
       "[1] NA\n",
       "\n",
       "$result[[3]]\n",
       "[1] -Inf\n",
       "\n",
       "\n",
       "$error\n",
       "$error[[1]]\n",
       "NULL\n",
       "\n",
       "$error[[2]]\n",
       "<simpleError in .Primitive(\"log\")(x, base): non-numeric argument to mathematical function>\n",
       "\n",
       "$error[[3]]\n",
       "NULL\n",
       "\n"
      ]
     },
     "metadata": {},
     "output_type": "display_data"
    }
   ],
   "source": [
    "# Map safely over log\n",
    "a <- list(10, \"I can\", 0) \n",
    "\n",
    "xy <- map(a, safely(log, otherwise = NA_real_)) %>%\n",
    "      transpose() # reorder the output, so that the results come first and then the errors.\n",
    "\n",
    "xy"
   ]
  },
  {
   "cell_type": "code",
   "execution_count": 62,
   "id": "814570a1-0dbb-4207-a9da-3c55276113a2",
   "metadata": {},
   "outputs": [
    {
     "data": {
      "text/html": [
       "<ol>\n",
       "\t<li>2.30258509299405</li>\n",
       "\t<li>&lt;NA&gt;</li>\n",
       "\t<li>-Inf</li>\n",
       "</ol>\n"
      ],
      "text/latex": [
       "\\begin{enumerate}\n",
       "\\item 2.30258509299405\n",
       "\\item <NA>\n",
       "\\item -Inf\n",
       "\\end{enumerate}\n"
      ],
      "text/markdown": [
       "1. 2.30258509299405\n",
       "2. &lt;NA&gt;\n",
       "3. -Inf\n",
       "\n",
       "\n"
      ],
      "text/plain": [
       "[[1]]\n",
       "[1] 2.302585\n",
       "\n",
       "[[2]]\n",
       "[1] NA\n",
       "\n",
       "[[3]]\n",
       "[1] -Inf\n"
      ]
     },
     "metadata": {},
     "output_type": "display_data"
    }
   ],
   "source": [
    "# print only the results\n",
    "xy[[\"result\"]]"
   ]
  },
  {
   "cell_type": "markdown",
   "id": "5bdeacb7-a12b-4c1e-9a80-27bde561f46a",
   "metadata": {},
   "source": [
    "<a name=\"toc_935640_3.2\"></a>\n",
    "**<u>3.2 The `possibly()` function</u>**\n",
    "\n",
    "While `safely()` is great for pinpointing where the issue is, and what the issue is with messy data, `possibly()` helps us get past it and get on with our day. It is a good idea to diagnose your a problem with `safely()` and then replace it with `possibly()` once the issue is resolved so that you can get the output you want and keep working."
   ]
  },
  {
   "cell_type": "code",
   "execution_count": 79,
   "id": "66756693-e933-42b0-937d-0dc53a1a9631",
   "metadata": {},
   "outputs": [
    {
     "data": {
      "text/html": [
       "<ol>\n",
       "\t<li>&lt;NA&gt;</li>\n",
       "\t<li>100</li>\n",
       "</ol>\n"
      ],
      "text/latex": [
       "\\begin{enumerate}\n",
       "\\item <NA>\n",
       "\\item 100\n",
       "\\end{enumerate}\n"
      ],
      "text/markdown": [
       "1. &lt;NA&gt;\n",
       "2. 100\n",
       "\n",
       "\n"
      ],
      "text/plain": [
       "[[1]]\n",
       "[1] NA\n",
       "\n",
       "[[2]]\n",
       "[1] 100\n"
      ]
     },
     "metadata": {},
     "output_type": "display_data"
    }
   ],
   "source": [
    "a <- list(\"unknown\", 10)\n",
    "\n",
    "map(a, possibly(function(x) x * 10,\n",
    "           otherwise = NA_real_)) # outputs NA when the input is unexpected"
   ]
  },
  {
   "cell_type": "markdown",
   "id": "e8d9751d-04ef-4b2d-b4d2-6a8434b5228b",
   "metadata": {},
   "source": [
    "☝️ This is the same code as before just with `possibly` isntead of `safely`. The output is much cleaner as it only contains the results and not the error messages. This is the output we can use for our further analysis."
   ]
  },
  {
   "cell_type": "markdown",
   "id": "524fc08f-9c58-4694-9aac-1fb1f40abb71",
   "metadata": {},
   "source": [
    "<a name=\"toc_935640_3.3\"></a>\n",
    "**<u>3.3 The `walk()` function</u>**\n",
    "\n",
    "Regular list output is filled with bracketed elements and isn't very easy to read. This is why purrr has the `walk()` function, which helps make a list output more human-readable. It outputs the same information as normal list output, but it's much more compact and easier to search through.\n",
    "\n",
    "`walk()` works much like `map()`, in that it takes both a `.x` and a function argument."
   ]
  },
  {
   "cell_type": "code",
   "execution_count": 93,
   "id": "e8da9899-236d-4d18-b59e-d34d8b36a1a0",
   "metadata": {},
   "outputs": [
    {
     "name": "stdout",
     "output_type": "stream",
     "text": [
      "[[1]]\n",
      "[1] -10\n",
      "\n",
      "[[2]]\n",
      "[1] 1\n",
      "\n",
      "[[3]]\n",
      "[1] 10\n",
      "\n"
     ]
    }
   ],
   "source": [
    "short_list <- list(-10, 1, 10)\n",
    "print(short_list)"
   ]
  },
  {
   "cell_type": "markdown",
   "id": "bf83371c-e2fb-4bd4-8128-80dcf8692a88",
   "metadata": {},
   "source": [
    "☝️ This output looks a bit messy."
   ]
  },
  {
   "cell_type": "code",
   "execution_count": 88,
   "id": "3d56a105-3ad6-425e-8da3-37aec37c047c",
   "metadata": {},
   "outputs": [
    {
     "name": "stdout",
     "output_type": "stream",
     "text": [
      "[1] -10\n",
      "[1] 1\n",
      "[1] 10\n"
     ]
    }
   ],
   "source": [
    "walk(short_list, print)"
   ]
  },
  {
   "cell_type": "code",
   "execution_count": 95,
   "id": "de920b61-5289-4718-8a18-0f978bc0cc03",
   "metadata": {},
   "outputs": [
    {
     "data": {
      "image/png": "[encoded data removed]",
      "text/plain": [
       "plot without title"
      ]
     },
     "metadata": {
      "image/png": {
       "height": 360,
       "width": 360
      }
     },
     "output_type": "display_data"
    },
    {
     "data": {
      "image/png": "[encoded data removed]",
      "text/plain": [
       "plot without title"
      ]
     },
     "metadata": {
      "image/png": {
       "height": 360,
       "width": 360
      }
     },
     "output_type": "display_data"
    }
   ],
   "source": [
    "# Load the gap_split data\n",
    "data(gap_split)\n",
    "\n",
    "# Map over the first 10 elements of gap_split\n",
    "plots <- map2(gap_split[1:10], \n",
    "              names(gap_split[1:10]), \n",
    "              ~ ggplot(.x, aes(year, lifeExp)) + \n",
    "                geom_line() +\n",
    "                labs(title = .y))\n",
    "\n",
    "# Object name, then function name\n",
    "walk(plots[1:2], print)"
   ]
  },
  {
   "cell_type": "markdown",
   "id": "86cece07-918e-4587-8f3a-26fe02084e13",
   "metadata": {},
   "source": [
    "<a name=\"toc_935640_4\"></a>\n",
    "## 4.   Complex problem solving with purrr"
   ]
  },
  {
   "cell_type": "markdown",
   "id": "caf329b5-98e9-41e5-8ea6-ae1f3cc2316e",
   "metadata": {},
   "source": [
    "<a name=\"toc_935640_4.1\"></a>\n",
    "**<u>4.1 Creating graphs with purrr </u>**"
   ]
  },
  {
   "cell_type": "code",
   "execution_count": 57,
   "id": "95f51ccb-9822-49fd-8bef-ce5d914876ac",
   "metadata": {},
   "outputs": [
    {
     "data": {
      "image/png": "[encoded data removed]",
      "text/plain": [
       "plot without title"
      ]
     },
     "metadata": {
      "image/png": {
       "height": 360,
       "width": 360
      }
     },
     "output_type": "display_data"
    }
   ],
   "source": [
    "map_df(gh_users, `[`, \n",
    "       c(\"login\",\"name\",\"followers\",\"public_repos\")) %>%\n",
    "  ggplot(aes(x = followers, y = public_repos)) + \n",
    "         geom_point()"
   ]
  },
  {
   "cell_type": "markdown",
   "id": "4f5d2639-9b96-43a7-bed0-2d43a9c1d023",
   "metadata": {},
   "source": [
    "☝️ we can map `[` just like any other function. Here we used `[` as a function to extract the elements \"login\",\"name\",\"followers\" and \"public_repos\"."
   ]
  },
  {
   "cell_type": "code",
   "execution_count": 59,
   "id": "44808ef2-ecbc-488a-aa59-d90202ffbda4",
   "metadata": {},
   "outputs": [
    {
     "name": "stderr",
     "output_type": "stream",
     "text": [
      "Warning message in mask$eval_all_mutate(quo):\n",
      "\"NAs introduced by coercion\"\n",
      "Warning message in mask$eval_all_mutate(quo):\n",
      "\"NAs introduced by coercion\"\n",
      "Warning message in geom_histogram(stat = \"count\"):\n",
      "\"\u001b[1m\u001b[22mIgnoring unknown parameters: `binwidth`, `bins`, and `pad`\"\n",
      "Warning message:\n",
      "\"\u001b[1m\u001b[22mRemoved 6 rows containing non-finite values (`stat_count()`).\"\n"
     ]
    },
    {
     "data": {
      "image/png": "[encoded data removed]",
      "text/plain": [
       "plot without title"
      ]
     },
     "metadata": {
      "image/png": {
       "height": 360,
       "width": 360
      }
     },
     "output_type": "display_data"
    }
   ],
   "source": [
    "# Turn data into correct data frame format\n",
    "film_by_character <- tibble(filmtitle = map_chr(sw_films, \"title\")) %>%\n",
    "    mutate(filmtitle, characters = map(sw_films, \"characters\")) %>%\n",
    "    unnest(cols = c(characters))\n",
    "\n",
    "# Pull out elements from sw_people\n",
    "sw_characters <- map_df(sw_people, `[`, c(\"height\",\"mass\",\"name\",\"url\"))\n",
    "\n",
    "# Join our two new objects\n",
    "character_data <- inner_join(film_by_character, sw_characters, by = c(\"characters\" = \"url\")) %>%\n",
    "    mutate(height = as.numeric(height), mass = as.numeric(mass))    # Make sure the columns are numbers\n",
    "\n",
    "# Plot the heights, faceted by film title\n",
    "ggplot(character_data, aes(x = height)) +\n",
    "  geom_histogram(stat = \"count\") +\n",
    "  facet_wrap(~ filmtitle)"
   ]
  }
 ],
 "metadata": {
  "kernelspec": {
   "display_name": "R",
   "language": "R",
   "name": "ir"
  },
  "language_info": {
   "codemirror_mode": "r",
   "file_extension": ".r",
   "mimetype": "text/x-r-source",
   "name": "R",
   "pygments_lexer": "r",
   "version": "3.6.1"
  }
 },
 "nbformat": 4,
 "nbformat_minor": 5
}
