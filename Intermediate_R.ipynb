{
 "cells": [
  {
   "cell_type": "markdown",
   "id": "5658ddcb-c643-4026-a108-4e3ae4666fe1",
   "metadata": {},
   "source": [
    "# Intermediate R\n",
    "## -- DataCamp - Data Scientist with R - Course 2 --\n",
    "\n",
    " **Note**\n",
    "\n",
    "To use this code, select the R environment in Anaconda\n",
    " \n",
    " **Used packages**\n",
    " \n",
    "**Table of content**\n",
    "- [&nbsp;&nbsp;1. Conditionals and Control Flow](#toc_12654_1)\n",
    "    - [&nbsp;&nbsp;1.1 Relational Operators](#toc_12654_1.1)\n",
    "    - [&nbsp;&nbsp;1.2 Logical Operators](#toc_12654_1.2)\n",
    "- [&nbsp;&nbsp;2. Loops](#toc_12654_2)\n",
    "    - [&nbsp;&nbsp;2.1 While loop](#toc_12654_2.1)\n",
    "    - [&nbsp;&nbsp;2.2 For loop](#toc_12654_2.2)\n",
    "- [&nbsp;&nbsp;3. Functions](#toc_12654_3)\n",
    "    - [&nbsp;&nbsp;3.1 Get information about existing functions](#toc_12654_3.1)\n",
    "    - [&nbsp;&nbsp;3.2 Writing functions](#toc_12654_3.2)\n",
    "        - [&nbsp;&nbsp;3.2.1 Controlling what is returned](#toc_12654_3.2.1)\n",
    "        - [&nbsp;&nbsp;3.2.2 Guard functions against misuse](#toc_12654_3.2.2)\n",
    "- [&nbsp;&nbsp;4. The apply family](#toc_12654_4)"
   ]
  },
  {
   "cell_type": "markdown",
   "id": "4fe3f73a-0c26-4550-acd3-586b322b24e9",
   "metadata": {},
   "source": [
    "**Set environment and plot size**"
   ]
  },
  {
   "cell_type": "code",
   "execution_count": 3,
   "id": "9db3a876-5af5-4504-84c6-680352e169b1",
   "metadata": {},
   "outputs": [],
   "source": [
    "options(repr.plot.width=7, repr.plot.height=7) # controls display format\n",
    "theme_set(theme_grey(base_size =10))"
   ]
  },
  {
   "cell_type": "markdown",
   "id": "80d5f3e8-686c-44f5-836d-0b1f13185e96",
   "metadata": {},
   "source": [
    "Note: if the above code return an error message:\n",
    "- Check that the correct R environment is selected in Anaconda\n",
    "- Restart computer"
   ]
  },
  {
   "cell_type": "markdown",
   "id": "433865d6-dbcc-439a-8abf-fb0a7f50a76a",
   "metadata": {
    "tags": []
   },
   "source": [
    "<a name=\"toc_12654_1\"></a>\n",
    "## 1.   Conditionals and Control Flow"
   ]
  },
  {
   "cell_type": "markdown",
   "id": "cf77bfe6-6318-4e0e-92c6-3c6472ae9dc7",
   "metadata": {},
   "source": [
    "<a name=\"toc_12654_1.1\"></a>\n",
    "**1.1 Relational Operators**\n",
    "\n",
    "- `==` - equality operator\n",
    "- `!=` - inequality operator\n",
    "- `>`, `<`, `>=`, `<=` - greater, shorter than operators"
   ]
  },
  {
   "cell_type": "code",
   "execution_count": 13,
   "id": "ef7cd1dd-0cbb-44bb-b95e-56b5e99c454e",
   "metadata": {},
   "outputs": [
    {
     "data": {
      "text/html": [
       "TRUE"
      ],
      "text/latex": [
       "TRUE"
      ],
      "text/markdown": [
       "TRUE"
      ],
      "text/plain": [
       "[1] TRUE"
      ]
     },
     "metadata": {},
     "output_type": "display_data"
    },
    {
     "data": {
      "text/html": [
       "FALSE"
      ],
      "text/latex": [
       "FALSE"
      ],
      "text/markdown": [
       "FALSE"
      ],
      "text/plain": [
       "[1] FALSE"
      ]
     },
     "metadata": {},
     "output_type": "display_data"
    }
   ],
   "source": [
    "TRUE == TRUE\n",
    "-6 * 14 != 17 - 101"
   ]
  },
  {
   "cell_type": "code",
   "execution_count": 9,
   "id": "3423f4f5-1edc-439f-9662-09182db797e4",
   "metadata": {},
   "outputs": [
    {
     "data": {
      "text/html": [
       "<style>\n",
       ".list-inline {list-style: none; margin:0; padding: 0}\n",
       ".list-inline>li {display: inline-block}\n",
       ".list-inline>li:not(:last-child)::after {content: \"\\00b7\"; padding: 0 .5ex}\n",
       "</style>\n",
       "<ol class=list-inline><li>FALSE</li><li>TRUE</li><li>FALSE</li><li>TRUE</li></ol>\n"
      ],
      "text/latex": [
       "\\begin{enumerate*}\n",
       "\\item FALSE\n",
       "\\item TRUE\n",
       "\\item FALSE\n",
       "\\item TRUE\n",
       "\\end{enumerate*}\n"
      ],
      "text/markdown": [
       "1. FALSE\n",
       "2. TRUE\n",
       "3. FALSE\n",
       "4. TRUE\n",
       "\n",
       "\n"
      ],
      "text/plain": [
       "[1] FALSE  TRUE FALSE  TRUE"
      ]
     },
     "metadata": {},
     "output_type": "display_data"
    }
   ],
   "source": [
    "a <- c(16, 9, 13, 17)\n",
    "b <- c(1, 90, 8, 17)\n",
    "\n",
    "a <= b"
   ]
  },
  {
   "cell_type": "code",
   "execution_count": 1,
   "id": "9a95dce0-bd6c-4a1a-951d-6bad42de35f5",
   "metadata": {},
   "outputs": [
    {
     "data": {
      "text/html": [
       "<table class=\"dataframe\">\n",
       "<caption>A matrix: 2 × 7 of type lgl</caption>\n",
       "<tbody>\n",
       "\t<tr><td>FALSE</td><td>FALSE</td><td> TRUE</td><td>FALSE</td><td>FALSE</td><td>FALSE</td><td>FALSE</td></tr>\n",
       "\t<tr><td>FALSE</td><td>FALSE</td><td>FALSE</td><td>FALSE</td><td>FALSE</td><td> TRUE</td><td>FALSE</td></tr>\n",
       "</tbody>\n",
       "</table>\n"
      ],
      "text/latex": [
       "A matrix: 2 × 7 of type lgl\n",
       "\\begin{tabular}{lllllll}\n",
       "\t FALSE & FALSE &  TRUE & FALSE & FALSE & FALSE & FALSE\\\\\n",
       "\t FALSE & FALSE & FALSE & FALSE & FALSE &  TRUE & FALSE\\\\\n",
       "\\end{tabular}\n"
      ],
      "text/markdown": [
       "\n",
       "A matrix: 2 × 7 of type lgl\n",
       "\n",
       "| FALSE | FALSE |  TRUE | FALSE | FALSE | FALSE | FALSE |\n",
       "| FALSE | FALSE | FALSE | FALSE | FALSE |  TRUE | FALSE |\n",
       "\n"
      ],
      "text/plain": [
       "     [,1]  [,2]  [,3]  [,4]  [,5]  [,6]  [,7] \n",
       "[1,] FALSE FALSE  TRUE FALSE FALSE FALSE FALSE\n",
       "[2,] FALSE FALSE FALSE FALSE FALSE  TRUE FALSE"
      ]
     },
     "metadata": {},
     "output_type": "display_data"
    }
   ],
   "source": [
    "linkedin <- c(16, 9, 13, 5, 2, 17, 14)\n",
    "facebook <- c(17, 7, 5, 16, 8, 13, 14)\n",
    "views <- matrix(c(linkedin, facebook), nrow = 2, byrow = TRUE)\n",
    "\n",
    "# When does views equal 13?\n",
    "views==13"
   ]
  },
  {
   "cell_type": "markdown",
   "id": "d62e1187-59a0-4f3f-9b49-0de42ba67dc6",
   "metadata": {},
   "source": [
    "<a name=\"toc_12654_1.2\"></a>\n",
    "**1.2 Logial Operators**\n",
    "\n",
    "- `&`  - and operator\n",
    "- `|` - or operator\n",
    "- `!` - NOT operator\n",
    "- `&&` and `||` - only investigates the first element of a vector! Rarely used."
   ]
  },
  {
   "cell_type": "code",
   "execution_count": 36,
   "id": "d92d84bb-c3bb-46f6-a7c6-b6cdbc2ebfaa",
   "metadata": {},
   "outputs": [
    {
     "data": {
      "text/html": [
       "<style>\n",
       ".list-inline {list-style: none; margin:0; padding: 0}\n",
       ".list-inline>li {display: inline-block}\n",
       ".list-inline>li:not(:last-child)::after {content: \"\\00b7\"; padding: 0 .5ex}\n",
       "</style>\n",
       "<ol class=list-inline><li>TRUE</li><li>FALSE</li><li>FALSE</li></ol>\n"
      ],
      "text/latex": [
       "\\begin{enumerate*}\n",
       "\\item TRUE\n",
       "\\item FALSE\n",
       "\\item FALSE\n",
       "\\end{enumerate*}\n"
      ],
      "text/markdown": [
       "1. TRUE\n",
       "2. FALSE\n",
       "3. FALSE\n",
       "\n",
       "\n"
      ],
      "text/plain": [
       "[1]  TRUE FALSE FALSE"
      ]
     },
     "metadata": {},
     "output_type": "display_data"
    },
    {
     "data": {
      "text/html": [
       "1"
      ],
      "text/latex": [
       "1"
      ],
      "text/markdown": [
       "1"
      ],
      "text/plain": [
       "[1] 1"
      ]
     },
     "metadata": {},
     "output_type": "display_data"
    }
   ],
   "source": [
    "a <- c(TRUE & TRUE, FALSE & FALSE, TRUE & FALSE)\n",
    "a\n",
    "sum(a) # 1 + 0 + 0"
   ]
  },
  {
   "cell_type": "code",
   "execution_count": 56,
   "id": "41641903-8258-4810-88d3-fa4783d0b2f4",
   "metadata": {},
   "outputs": [
    {
     "data": {
      "text/html": [
       "TRUE"
      ],
      "text/latex": [
       "TRUE"
      ],
      "text/markdown": [
       "TRUE"
      ],
      "text/plain": [
       "[1] TRUE"
      ]
     },
     "metadata": {},
     "output_type": "display_data"
    },
    {
     "data": {
      "text/html": [
       "FALSE"
      ],
      "text/latex": [
       "FALSE"
      ],
      "text/markdown": [
       "FALSE"
      ],
      "text/plain": [
       "[1] FALSE"
      ]
     },
     "metadata": {},
     "output_type": "display_data"
    }
   ],
   "source": [
    "x <- 12\n",
    "x > 5 & x < 15\n",
    "x > 5 & x < 10"
   ]
  },
  {
   "cell_type": "code",
   "execution_count": 58,
   "id": "b74c3358-54ac-44fb-9cf0-79369319f0ff",
   "metadata": {},
   "outputs": [
    {
     "data": {
      "text/html": [
       "TRUE"
      ],
      "text/latex": [
       "TRUE"
      ],
      "text/markdown": [
       "TRUE"
      ],
      "text/plain": [
       "[1] TRUE"
      ]
     },
     "metadata": {},
     "output_type": "display_data"
    },
    {
     "data": {
      "text/html": [
       "FALSE"
      ],
      "text/latex": [
       "FALSE"
      ],
      "text/markdown": [
       "FALSE"
      ],
      "text/plain": [
       "[1] FALSE"
      ]
     },
     "metadata": {},
     "output_type": "display_data"
    }
   ],
   "source": [
    "5 & 6 > 5  # means 5 or higher\n",
    "5 > 5 & 6 > 5  # means higher than 5"
   ]
  },
  {
   "cell_type": "code",
   "execution_count": 20,
   "id": "5c6be9f9-383f-4333-95ae-d3bbf6cab031",
   "metadata": {},
   "outputs": [
    {
     "data": {
      "text/html": [
       "TRUE"
      ],
      "text/latex": [
       "TRUE"
      ],
      "text/markdown": [
       "TRUE"
      ],
      "text/plain": [
       "[1] TRUE"
      ]
     },
     "metadata": {},
     "output_type": "display_data"
    },
    {
     "data": {
      "text/html": [
       "FALSE"
      ],
      "text/latex": [
       "FALSE"
      ],
      "text/markdown": [
       "FALSE"
      ],
      "text/plain": [
       "[1] FALSE"
      ]
     },
     "metadata": {},
     "output_type": "display_data"
    },
    {
     "data": {
      "text/html": [
       "TRUE"
      ],
      "text/latex": [
       "TRUE"
      ],
      "text/markdown": [
       "TRUE"
      ],
      "text/plain": [
       "[1] TRUE"
      ]
     },
     "metadata": {},
     "output_type": "display_data"
    }
   ],
   "source": [
    "TRUE | TRUE\n",
    "FALSE | FALSE\n",
    "TRUE | FALSE"
   ]
  },
  {
   "cell_type": "code",
   "execution_count": 21,
   "id": "fb655e33-2c25-43fb-b614-6bb68d0a1e8b",
   "metadata": {},
   "outputs": [
    {
     "data": {
      "text/html": [
       "TRUE"
      ],
      "text/latex": [
       "TRUE"
      ],
      "text/markdown": [
       "TRUE"
      ],
      "text/plain": [
       "[1] TRUE"
      ]
     },
     "metadata": {},
     "output_type": "display_data"
    }
   ],
   "source": [
    "y <- 4\n",
    "y < 5 | y > 15"
   ]
  },
  {
   "cell_type": "code",
   "execution_count": 33,
   "id": "11d800fb-6684-43eb-b21a-dbee32b6d050",
   "metadata": {},
   "outputs": [
    {
     "data": {
      "text/html": [
       "FALSE"
      ],
      "text/latex": [
       "FALSE"
      ],
      "text/markdown": [
       "FALSE"
      ],
      "text/plain": [
       "[1] FALSE"
      ]
     },
     "metadata": {},
     "output_type": "display_data"
    },
    {
     "data": {
      "text/html": [
       "TRUE"
      ],
      "text/latex": [
       "TRUE"
      ],
      "text/markdown": [
       "TRUE"
      ],
      "text/plain": [
       "[1] TRUE"
      ]
     },
     "metadata": {},
     "output_type": "display_data"
    },
    {
     "data": {
      "text/html": [
       "FALSE"
      ],
      "text/latex": [
       "FALSE"
      ],
      "text/markdown": [
       "FALSE"
      ],
      "text/plain": [
       "[1] FALSE"
      ]
     },
     "metadata": {},
     "output_type": "display_data"
    }
   ],
   "source": [
    "!TRUE\n",
    "!FALSE\n",
    "!!FALSE"
   ]
  },
  {
   "cell_type": "code",
   "execution_count": 24,
   "id": "38dac7d0-3367-440b-aba5-d0fc4a2bfeb5",
   "metadata": {},
   "outputs": [
    {
     "data": {
      "text/html": [
       "TRUE"
      ],
      "text/latex": [
       "TRUE"
      ],
      "text/markdown": [
       "TRUE"
      ],
      "text/plain": [
       "[1] TRUE"
      ]
     },
     "metadata": {},
     "output_type": "display_data"
    },
    {
     "data": {
      "text/html": [
       "FALSE"
      ],
      "text/latex": [
       "FALSE"
      ],
      "text/markdown": [
       "FALSE"
      ],
      "text/plain": [
       "[1] FALSE"
      ]
     },
     "metadata": {},
     "output_type": "display_data"
    }
   ],
   "source": [
    "!(x < 5)\n",
    "!is.numeric(5)"
   ]
  },
  {
   "cell_type": "code",
   "execution_count": 30,
   "id": "ecc7a98e-a0ea-432e-98ff-a18733add471",
   "metadata": {},
   "outputs": [
    {
     "data": {
      "text/html": [
       "<style>\n",
       ".list-inline {list-style: none; margin:0; padding: 0}\n",
       ".list-inline>li {display: inline-block}\n",
       ".list-inline>li:not(:last-child)::after {content: \"\\00b7\"; padding: 0 .5ex}\n",
       "</style>\n",
       "<ol class=list-inline><li>TRUE</li><li>FALSE</li><li>FALSE</li></ol>\n"
      ],
      "text/latex": [
       "\\begin{enumerate*}\n",
       "\\item TRUE\n",
       "\\item FALSE\n",
       "\\item FALSE\n",
       "\\end{enumerate*}\n"
      ],
      "text/markdown": [
       "1. TRUE\n",
       "2. FALSE\n",
       "3. FALSE\n",
       "\n",
       "\n"
      ],
      "text/plain": [
       "[1]  TRUE FALSE FALSE"
      ]
     },
     "metadata": {},
     "output_type": "display_data"
    },
    {
     "data": {
      "text/html": [
       "TRUE"
      ],
      "text/latex": [
       "TRUE"
      ],
      "text/markdown": [
       "TRUE"
      ],
      "text/plain": [
       "[1] TRUE"
      ]
     },
     "metadata": {},
     "output_type": "display_data"
    },
    {
     "data": {
      "text/html": [
       "FALSE"
      ],
      "text/latex": [
       "FALSE"
      ],
      "text/markdown": [
       "FALSE"
      ],
      "text/plain": [
       "[1] FALSE"
      ]
     },
     "metadata": {},
     "output_type": "display_data"
    }
   ],
   "source": [
    "c(TRUE, TRUE, FALSE) & c(TRUE, FALSE, TRUE)\n",
    "c(TRUE, TRUE, FALSE) && c(TRUE, FALSE, TRUE)\n",
    "c(FALSE, TRUE, FALSE) && c(TRUE, FALSE, TRUE)"
   ]
  },
  {
   "cell_type": "code",
   "execution_count": 32,
   "id": "bd218e7f-8843-4950-ac7b-2ea7fefe9e9e",
   "metadata": {},
   "outputs": [
    {
     "data": {
      "text/html": [
       "<style>\n",
       ".list-inline {list-style: none; margin:0; padding: 0}\n",
       ".list-inline>li {display: inline-block}\n",
       ".list-inline>li:not(:last-child)::after {content: \"\\00b7\"; padding: 0 .5ex}\n",
       "</style>\n",
       "<ol class=list-inline><li>TRUE</li><li>TRUE</li><li>FALSE</li></ol>\n"
      ],
      "text/latex": [
       "\\begin{enumerate*}\n",
       "\\item TRUE\n",
       "\\item TRUE\n",
       "\\item FALSE\n",
       "\\end{enumerate*}\n"
      ],
      "text/markdown": [
       "1. TRUE\n",
       "2. TRUE\n",
       "3. FALSE\n",
       "\n",
       "\n"
      ],
      "text/plain": [
       "[1]  TRUE  TRUE FALSE"
      ]
     },
     "metadata": {},
     "output_type": "display_data"
    },
    {
     "data": {
      "text/html": [
       "TRUE"
      ],
      "text/latex": [
       "TRUE"
      ],
      "text/markdown": [
       "TRUE"
      ],
      "text/plain": [
       "[1] TRUE"
      ]
     },
     "metadata": {},
     "output_type": "display_data"
    },
    {
     "data": {
      "text/html": [
       "TRUE"
      ],
      "text/latex": [
       "TRUE"
      ],
      "text/markdown": [
       "TRUE"
      ],
      "text/plain": [
       "[1] TRUE"
      ]
     },
     "metadata": {},
     "output_type": "display_data"
    }
   ],
   "source": [
    "c(TRUE, TRUE, FALSE) | c(TRUE, FALSE, FALSE)\n",
    "c(TRUE, TRUE, FALSE) || c(TRUE, FALSE, FALSE)\n",
    "c(FALSE, TRUE, FALSE) || c(TRUE, FALSE, FALSE)"
   ]
  },
  {
   "cell_type": "markdown",
   "id": "ac70c86a-ae75-4f15-8e90-a4d0faae7d12",
   "metadata": {},
   "source": [
    "<a name=\"toc_12654_1.3\"></a>\n",
    "**1.3 Conditional Statements**\n",
    "\n",
    "`ifelse()` - one-line ifelse:\n",
    "\n",
    "Simple if statement:\n",
    "```R\n",
    "if(condition) {\n",
    "  expr\n",
    "}\n",
    "```\n",
    "\n",
    "if else statement:\n",
    "```R\n",
    "if(condition) {\n",
    "   expr1\n",
    "} else {\n",
    "   expr2\n",
    "}\n",
    "```\n",
    "\n",
    "else if statement:\n",
    "```R\n",
    "if(condition) {\n",
    "   expr1\n",
    "} else if(condition2) {\n",
    "   expr2\n",
    "}  else {\n",
    "   expr3\n",
    "}\n",
    "```\n",
    "\n",
    "Nested if conditions are also supported:\n",
    "```R\n",
    "if () {\n",
    "  if () {\n",
    "    expr1\n",
    "  } else {\n",
    "    expr2\n",
    "  }\n",
    "} else if() {\n",
    "  expr3\n",
    "} else {\n",
    "  expr4\n",
    "}\n",
    "```"
   ]
  },
  {
   "cell_type": "code",
   "execution_count": 59,
   "id": "fd2a1980-fe1a-442d-954a-b7c30a29485a",
   "metadata": {},
   "outputs": [
    {
     "data": {
      "text/html": [
       "'big'"
      ],
      "text/latex": [
       "'big'"
      ],
      "text/markdown": [
       "'big'"
      ],
      "text/plain": [
       "[1] \"big\""
      ]
     },
     "metadata": {},
     "output_type": "display_data"
    }
   ],
   "source": [
    "x <- 11\n",
    "ifelse(x < 10, \"small\", \"big\")"
   ]
  },
  {
   "cell_type": "code",
   "execution_count": 37,
   "id": "23f77959-7f37-4825-9f9c-128f92089e5c",
   "metadata": {},
   "outputs": [
    {
     "name": "stdout",
     "output_type": "stream",
     "text": [
      "[1] \"x is negative\"\n"
     ]
    }
   ],
   "source": [
    "x <- -3\n",
    "\n",
    "if(x < 0) {\n",
    "    print(\"x is negative\")\n",
    "}"
   ]
  },
  {
   "cell_type": "code",
   "execution_count": 39,
   "id": "1611d50d-2d49-4edc-8fa5-fc3355fb7cf1",
   "metadata": {},
   "outputs": [
    {
     "name": "stdout",
     "output_type": "stream",
     "text": [
      "[1] \"x is positive or zero\"\n"
     ]
    }
   ],
   "source": [
    "x <- 4\n",
    "\n",
    "if(x < 0) {\n",
    "  print(\"x is negative\")\n",
    "} else {\n",
    "  print(\"x is positive or zero\")\n",
    "}"
   ]
  },
  {
   "cell_type": "code",
   "execution_count": 45,
   "id": "54968fc5-4946-4e6c-a47d-de6828c01f8e",
   "metadata": {},
   "outputs": [
    {
     "name": "stdout",
     "output_type": "stream",
     "text": [
      "[1] \"x is zero\"\n"
     ]
    }
   ],
   "source": [
    "x <- 0\n",
    "\n",
    "if(x < 0) {\n",
    "   print(\"x is negative\")\n",
    " } else if(x == 0) {\n",
    "    print(\"x is zero\")\n",
    "}  else {\n",
    "    print(\"x is positive\")\n",
    "}"
   ]
  },
  {
   "cell_type": "code",
   "execution_count": 46,
   "id": "306fa17e-686c-47cf-a77b-d534b7857c2d",
   "metadata": {},
   "outputs": [
    {
     "name": "stdout",
     "output_type": "stream",
     "text": [
      "[1] \"divisible by 2\"\n"
     ]
    }
   ],
   "source": [
    "x <- 6\n",
    "\n",
    "if(x %% 2 == 0) {\n",
    "  print(\"divisible by 2\")\n",
    "} else if(x %% 3 == 0) {\n",
    "  print(\"divisible by 3\")\n",
    "} else {\n",
    "  print(\"not divisible by 2 nor by 3\")\n",
    "}"
   ]
  },
  {
   "cell_type": "markdown",
   "id": "70306acc-fddb-439e-aa4d-5579df39d8b9",
   "metadata": {},
   "source": [
    "☝️ Once a condition evaluates to TRUE, R will not look at the rest of the statements. So although the second condition, for the else if part, would evaluate to TRUE, nothing gets printed out."
   ]
  },
  {
   "cell_type": "code",
   "execution_count": 49,
   "id": "ee546588-714e-4cab-be1a-c2acbefd7cf8",
   "metadata": {},
   "outputs": [
    {
     "name": "stdout",
     "output_type": "stream",
     "text": [
      "[1] \"medium\"\n"
     ]
    }
   ],
   "source": [
    "number = 60\n",
    "\n",
    "if (number < 10) {\n",
    "  if (number < 5) {\n",
    "    result <- \"extra small\"\n",
    "  } else {\n",
    "    result <- \"small\"\n",
    "  }\n",
    "} else if (number < 100) {\n",
    "  result <- \"medium\"\n",
    "} else {\n",
    "  result <- \"large\"\n",
    "}\n",
    "print(result)"
   ]
  },
  {
   "cell_type": "markdown",
   "id": "bf6157a7-78de-4dda-b6cf-b4b3e1916e3a",
   "metadata": {},
   "source": [
    "<a name=\"toc_12654_2\"></a>\n",
    "## 2.   Loops"
   ]
  },
  {
   "cell_type": "markdown",
   "id": "4d571a4c-3017-4de3-ad10-fbc07d36a396",
   "metadata": {},
   "source": [
    "<a name=\"toc_12654_2.1\"></a>\n",
    "**2.1 While loop**\n",
    "\n",
    "The while loop will continue to execute this code over and over again as long as the condition is true.\n",
    "\n",
    "```R\n",
    "while(condition){\n",
    "    expr\n",
    "    }\n",
    "```\n",
    "Useful statements:\n",
    "- `break` -  when R finds it, it abandons the currently active while loop. Usually nested in an `if(){}` statement.\n",
    "- `next` -  when R finds it, it skips the current execution, but then continues. Usually nested in an `if(){}` statement.\n",
    "\n",
    "Make sure not to create **infinite loops** where the condition is never FALSE."
   ]
  },
  {
   "cell_type": "code",
   "execution_count": 1,
   "id": "dc43b80b-8f12-4022-8d97-8f175a9ca25a",
   "metadata": {},
   "outputs": [
    {
     "name": "stdout",
     "output_type": "stream",
     "text": [
      "[1] \"ctr is set to 1\"\n",
      "[1] \"ctr is set to 2\"\n",
      "[1] \"ctr is set to 3\"\n",
      "[1] \"ctr is set to 4\"\n"
     ]
    },
    {
     "data": {
      "text/html": [
       "5"
      ],
      "text/latex": [
       "5"
      ],
      "text/markdown": [
       "5"
      ],
      "text/plain": [
       "[1] 5"
      ]
     },
     "metadata": {},
     "output_type": "display_data"
    }
   ],
   "source": [
    "ctr <- 1\n",
    "\n",
    "while(ctr <= 4){\n",
    "    print(paste(\"ctr is set to\", ctr))\n",
    "    ctr <- ctr + 1 # increment \n",
    "}\n",
    "\n",
    "ctr"
   ]
  },
  {
   "cell_type": "markdown",
   "id": "786dc978-f8d5-4d24-b7b6-f6ec82693a49",
   "metadata": {},
   "source": [
    "☝️ without the **increment**, ctr is not updated and we would create an infinite loop"
   ]
  },
  {
   "cell_type": "code",
   "execution_count": 2,
   "id": "d19a123b-b0e1-4964-b759-95eb2ae4dbd7",
   "metadata": {},
   "outputs": [
    {
     "name": "stdout",
     "output_type": "stream",
     "text": [
      "[1] \"ctr is set to 1\"\n",
      "[1] \"ctr is set to 2\"\n",
      "[1] \"ctr is set to 3\"\n",
      "[1] \"ctr is set to 4\"\n"
     ]
    }
   ],
   "source": [
    "ctr <- 1\n",
    "\n",
    "while(ctr <= 7){\n",
    "    if(ctr %% 5 == 0) {\n",
    "        break\n",
    "    }\n",
    "    print(paste(\"ctr is set to\", ctr))\n",
    "    ctr <- ctr + 1 # increment \n",
    "}"
   ]
  },
  {
   "cell_type": "markdown",
   "id": "c7f02db2-483a-4b33-8d68-1de9a6a6f505",
   "metadata": {},
   "source": [
    "☝️ as soon as R encountered the break statement (at ctr = 5), it stopped."
   ]
  },
  {
   "cell_type": "code",
   "execution_count": 2,
   "id": "deef247f",
   "metadata": {},
   "outputs": [
    {
     "name": "stdout",
     "output_type": "stream",
     "text": [
      "[1] 1\n",
      "[1] 2\n",
      "[1] 4\n",
      "[1] 5\n"
     ]
    }
   ],
   "source": [
    "num <- 1\n",
    "\n",
    "while (num <= 5) {\n",
    "  if (num == 3) {\n",
    "    num <- num + 1\n",
    "    next\n",
    "  }\n",
    "  print(num)\n",
    "  num <- num + 1\n",
    "}"
   ]
  },
  {
   "cell_type": "markdown",
   "id": "81fa6f21",
   "metadata": {},
   "source": [
    "☝️ even when the if statement is true, do not forget to increment **before** the `next` statement, otherwise the loop will stop!"
   ]
  },
  {
   "cell_type": "code",
   "execution_count": 5,
   "id": "a0de6be3-0d14-40b4-8fca-2f772e513c41",
   "metadata": {},
   "outputs": [
    {
     "name": "stdout",
     "output_type": "stream",
     "text": [
      "[1] \"Your speed is 64\"\n",
      "[1] \"Slow down big time!\"\n",
      "[1] \"Your speed is 53\"\n",
      "[1] \"Slow down big time!\"\n",
      "[1] \"Your speed is 42\"\n",
      "[1] \"Slow down!\"\n",
      "[1] \"Your speed is 36\"\n",
      "[1] \"Slow down!\"\n"
     ]
    }
   ],
   "source": [
    "speed <- 64\n",
    "\n",
    "while (speed > 30) {\n",
    "  print(paste(\"Your speed is\",speed))\n",
    "  if (speed > 48) {\n",
    "    print(\"Slow down big time!\")\n",
    "    speed <- speed - 11\n",
    "  } else {\n",
    "    print(\"Slow down!\")\n",
    "    speed <- speed - 6\n",
    "  }\n",
    "}"
   ]
  },
  {
   "cell_type": "code",
   "execution_count": 3,
   "id": "8f84496a-e486-431d-9bb1-789acc13346d",
   "metadata": {},
   "outputs": [
    {
     "name": "stdout",
     "output_type": "stream",
     "text": [
      "[1] \"One\"\n",
      "[1] \"Three\"\n"
     ]
    }
   ],
   "source": [
    "numbers <- c('One','Two',\"Three\",\"Four\",\"Five\")\n",
    "\n",
    "for(i in numbers) {\n",
    "  if(i == \"Two\")\n",
    "    next\n",
    "  if( i == \"Four\")\n",
    "    break\n",
    "  print(i)\n",
    "}"
   ]
  },
  {
   "cell_type": "markdown",
   "id": "84baf2bd-cd08-4477-8031-6aae74c2059e",
   "metadata": {},
   "source": [
    "<a name=\"toc_12654_2.2\"></a>\n",
    "**2.2 For loop**\n",
    "\n",
    "Iterates over a sequence of values (e.g. vectors, lists, matrices, data frames).\n",
    "```R\n",
    "for(i in seq){\n",
    "    print(i)\n",
    "    }\n",
    "```\n",
    "\n",
    "The `break` and `next` statements also work here.\n",
    "\n",
    "A common and more versatile way we can loop over different data structures using the loop index:\n",
    "```R\n",
    "for(var in 1:length(data)){\n",
    "    expr\n",
    "    print(data[i])\n",
    "    }\n",
    "```\n",
    "\n",
    "For multiple, nested for-loops, always make sure to give distinct names to the iteratopn index! E.g. `i` and `j`"
   ]
  },
  {
   "cell_type": "code",
   "execution_count": 13,
   "id": "d554bdcc-c21f-4487-b379-7807e9554e53",
   "metadata": {},
   "outputs": [
    {
     "data": {
      "text/html": [
       "<style>\n",
       ".list-inline {list-style: none; margin:0; padding: 0}\n",
       ".list-inline>li {display: inline-block}\n",
       ".list-inline>li:not(:last-child)::after {content: \"\\00b7\"; padding: 0 .5ex}\n",
       "</style>\n",
       "<ol class=list-inline><li>'a'</li><li>'b'</li><li>'c'</li><li>'d'</li><li>'e'</li><li>'f'</li></ol>\n"
      ],
      "text/latex": [
       "\\begin{enumerate*}\n",
       "\\item 'a'\n",
       "\\item 'b'\n",
       "\\item 'c'\n",
       "\\item 'd'\n",
       "\\item 'e'\n",
       "\\item 'f'\n",
       "\\end{enumerate*}\n"
      ],
      "text/markdown": [
       "1. 'a'\n",
       "2. 'b'\n",
       "3. 'c'\n",
       "4. 'd'\n",
       "5. 'e'\n",
       "6. 'f'\n",
       "\n",
       "\n"
      ],
      "text/plain": [
       "[1] \"a\" \"b\" \"c\" \"d\" \"e\" \"f\""
      ]
     },
     "metadata": {},
     "output_type": "display_data"
    },
    {
     "name": "stdout",
     "output_type": "stream",
     "text": [
      "[1] \"a\"\n",
      "[1] \"b\"\n",
      "[1] \"c\"\n",
      "[1] \"d\"\n",
      "[1] \"e\"\n",
      "[1] \"f\"\n"
     ]
    }
   ],
   "source": [
    "letters <- letters[1:6]\n",
    "letters\n",
    "\n",
    "for(i in letters){\n",
    "    print(i)\n",
    "    }"
   ]
  },
  {
   "cell_type": "code",
   "execution_count": 14,
   "id": "2f3755da-aabc-40ba-a2b2-a70607dfd1cf",
   "metadata": {},
   "outputs": [
    {
     "data": {
      "text/html": [
       "<ol>\n",
       "\t<li><style>\n",
       ".list-inline {list-style: none; margin:0; padding: 0}\n",
       ".list-inline>li {display: inline-block}\n",
       ".list-inline>li:not(:last-child)::after {content: \"\\00b7\"; padding: 0 .5ex}\n",
       "</style>\n",
       "<ol class=list-inline><li>'a'</li><li>'b'</li><li>'c'</li><li>'d'</li><li>'e'</li><li>'f'</li></ol>\n",
       "</li>\n",
       "</ol>\n"
      ],
      "text/latex": [
       "\\begin{enumerate}\n",
       "\\item \\begin{enumerate*}\n",
       "\\item 'a'\n",
       "\\item 'b'\n",
       "\\item 'c'\n",
       "\\item 'd'\n",
       "\\item 'e'\n",
       "\\item 'f'\n",
       "\\end{enumerate*}\n",
       "\n",
       "\\end{enumerate}\n"
      ],
      "text/markdown": [
       "1. 1. 'a'\n",
       "2. 'b'\n",
       "3. 'c'\n",
       "4. 'd'\n",
       "5. 'e'\n",
       "6. 'f'\n",
       "\n",
       "\n",
       "\n",
       "\n",
       "\n"
      ],
      "text/plain": [
       "[[1]]\n",
       "[1] \"a\" \"b\" \"c\" \"d\" \"e\" \"f\"\n"
      ]
     },
     "metadata": {},
     "output_type": "display_data"
    },
    {
     "name": "stdout",
     "output_type": "stream",
     "text": [
      "[1] \"a\" \"b\" \"c\" \"d\" \"e\" \"f\"\n"
     ]
    }
   ],
   "source": [
    "letters2 <- list(letters[1:6])\n",
    "letters2\n",
    "\n",
    "for(i in letters2){\n",
    "    print(i)\n",
    "    }"
   ]
  },
  {
   "cell_type": "markdown",
   "id": "740adfaa-ccf7-46cc-9b72-6e9478bff764",
   "metadata": {},
   "source": [
    "☝️ Same result"
   ]
  },
  {
   "cell_type": "code",
   "execution_count": 23,
   "id": "7616dc56-41e5-4fc6-bb44-4c4e7098af82",
   "metadata": {},
   "outputs": [
    {
     "name": "stdout",
     "output_type": "stream",
     "text": [
      "[1] \"a\"\n",
      "[1] \"b\"\n",
      "[1] \"c\"\n",
      "[1] \"d\"\n",
      "[1] \"e\"\n",
      "[1] \"f\"\n"
     ]
    }
   ],
   "source": [
    "for(i in 1:length(letters)){\n",
    "    print(letters[i])  # for lists, use [[i]]\n",
    "    }"
   ]
  },
  {
   "cell_type": "code",
   "execution_count": 17,
   "id": "311d4abf-2c46-45bb-8a79-ad898d1a52d3",
   "metadata": {},
   "outputs": [
    {
     "name": "stdout",
     "output_type": "stream",
     "text": [
      "[1] \"a\"\n",
      "[1] \"b\"\n",
      "[1] \"c\"\n"
     ]
    }
   ],
   "source": [
    "for(i in letters){\n",
    "    if(i == \"d\"){\n",
    "        break\n",
    "    }\n",
    "    print(i)\n",
    "}"
   ]
  },
  {
   "cell_type": "code",
   "execution_count": 36,
   "id": "6f709d14-bdb1-4e41-aa3a-3146d0c8b7db",
   "metadata": {},
   "outputs": [
    {
     "data": {
      "text/html": [
       "<table class=\"dataframe\">\n",
       "<caption>A matrix: 3 × 3 of type chr</caption>\n",
       "<tbody>\n",
       "\t<tr><td>O</td><td>O</td><td>X</td></tr>\n",
       "\t<tr><td>X</td><td>O</td><td>O</td></tr>\n",
       "\t<tr><td>X</td><td>X</td><td>X</td></tr>\n",
       "</tbody>\n",
       "</table>\n"
      ],
      "text/latex": [
       "A matrix: 3 × 3 of type chr\n",
       "\\begin{tabular}{lll}\n",
       "\t O & O & X\\\\\n",
       "\t X & O & O\\\\\n",
       "\t X & X & X\\\\\n",
       "\\end{tabular}\n"
      ],
      "text/markdown": [
       "\n",
       "A matrix: 3 × 3 of type chr\n",
       "\n",
       "| O | O | X |\n",
       "| X | O | O |\n",
       "| X | X | X |\n",
       "\n"
      ],
      "text/plain": [
       "     [,1] [,2] [,3]\n",
       "[1,] O    O    X   \n",
       "[2,] X    O    O   \n",
       "[3,] X    X    X   "
      ]
     },
     "metadata": {},
     "output_type": "display_data"
    },
    {
     "name": "stdout",
     "output_type": "stream",
     "text": [
      "[1] \"On row 1 and column 1 the board contains O\"\n",
      "[1] \"On row 1 and column 2 the board contains O\"\n",
      "[1] \"On row 1 and column 3 the board contains X\"\n",
      "[1] \"On row 2 and column 1 the board contains X\"\n",
      "[1] \"On row 2 and column 2 the board contains O\"\n",
      "[1] \"On row 2 and column 3 the board contains O\"\n",
      "[1] \"On row 3 and column 1 the board contains X\"\n",
      "[1] \"On row 3 and column 2 the board contains X\"\n",
      "[1] \"On row 3 and column 3 the board contains X\"\n"
     ]
    }
   ],
   "source": [
    "ttt <- matrix(c(\"O\",\"X\",\"X\",\"O\", \"O\", \"X\",\"X\", \"O\", \"X\"), ncol = 3)\n",
    "ttt\n",
    "\n",
    "for (i in 1:nrow(ttt)) {\n",
    "  for (j in 1:ncol(ttt)) {\n",
    "    print(paste0(\"On row \", i,\" and column \",j,\" the board contains \", ttt[i,j]))\n",
    "  }\n",
    "}"
   ]
  },
  {
   "cell_type": "code",
   "execution_count": 38,
   "id": "dee239ee-11a8-4254-ad4e-71f03a0fa639",
   "metadata": {},
   "outputs": [
    {
     "name": "stdout",
     "output_type": "stream",
     "text": [
      "[1] \"You're popular!\"\n",
      "[1] \"Be more visible!\"\n",
      "[1] \"You're popular!\"\n",
      "[1] \"Be more visible!\"\n",
      "[1] \"Be more visible!\"\n",
      "[1] \"This is too embarrassing!\"\n",
      "[1] \"You're popular!\"\n",
      "[1] \"This is ridiculous, I'm outta here!\"\n"
     ]
    }
   ],
   "source": [
    "linkedin <- c(16, 9, 13, 5, 2, 17, 14)\n",
    "\n",
    "for (li in linkedin) {\n",
    "  if (li > 10) {\n",
    "    print(\"You're popular!\")\n",
    "  } else {\n",
    "    print(\"Be more visible!\")\n",
    "  }\n",
    "  if(li > 16){\n",
    "    print(\"This is ridiculous, I'm outta here!\")\n",
    "    break\n",
    "  }\n",
    " if(li <5){\n",
    "    print(\"This is too embarrassing!\" )\n",
    "    next\n",
    "  }\n",
    "}"
   ]
  },
  {
   "cell_type": "markdown",
   "id": "198d5981-1307-4c6a-97fa-923834026cd2",
   "metadata": {},
   "source": [
    "☝️ if more than one if conditions are satisfied, all of them will be executed."
   ]
  },
  {
   "cell_type": "code",
   "execution_count": 45,
   "id": "81aa9fde-f8dc-4045-868a-148b06409da7",
   "metadata": {},
   "outputs": [
    {
     "name": "stdout",
     "output_type": "stream",
     "text": [
      "[1] 1\n",
      "[1] 1\n",
      "[1] 2\n",
      "[1] 2\n",
      "[1] 2\n",
      "[1] 3\n",
      "[1] 3\n",
      "[1] 3\n"
     ]
    }
   ],
   "source": [
    "rquote <- \"riraarffurrr\"\n",
    "chars <- strsplit(rquote, split = \"\")[[1]]\n",
    "\n",
    "# Initialize rcount\n",
    "rcount <- 0\n",
    "\n",
    "# Finish the for loop\n",
    "for (char in chars) {\n",
    "  if(char == \"r\"){\n",
    "     rcount <- rcount + 1\n",
    "  }\n",
    "  if(char == \"u\"){\n",
    "      break\n",
    "  }\n",
    "  print(rcount)\n",
    "}"
   ]
  },
  {
   "cell_type": "markdown",
   "id": "afa73ef4-cc23-4da0-a0c1-2a496937f25f",
   "metadata": {},
   "source": [
    "<a name=\"toc_12654_3\"></a>\n",
    "## 3.   Functions"
   ]
  },
  {
   "cell_type": "markdown",
   "id": "573a09e3-ca01-4639-8384-6b5d2588237b",
   "metadata": {},
   "source": [
    "<a name=\"toc_12654_3.1\"></a>\n",
    "**3.1 Get information about existing functions**\n",
    "\n",
    "- `?<funcname>()` - see function documentation\n",
    "- `args()` - see a function's argument list\n",
    "- `<funcname>` - see function's source code\n",
    "\n",
    "Functions may have required and optional arguments. When looking at the documentation, we can easily distinguish the two. For example: `mean(x, trim = 0, na.rm = FALSE, ...)`\n",
    "- Required arguments have no default value, e.g. `x`\n",
    "- Optional arguments have a default value, e.g. `trim = 0`, `na.rm = FALSE`\n",
    "- `...` - a special argument called an **ellipsis**.  It means that the function is designed to take any number of arguments\n",
    "\n",
    "Note, some function does not have any arguments."
   ]
  },
  {
   "cell_type": "code",
   "execution_count": 63,
   "id": "c47c0d4c-cedf-402c-8e9e-336611dad1e2",
   "metadata": {},
   "outputs": [
    {
     "data": {
      "text/html": [
       "<pre class=language-r><code>function (x, na.rm = FALSE) \n",
       "NULL</code></pre>"
      ],
      "text/latex": [
       "\\begin{minted}{r}\n",
       "function (x, na.rm = FALSE) \n",
       "NULL\n",
       "\\end{minted}"
      ],
      "text/markdown": [
       "```r\n",
       "function (x, na.rm = FALSE) \n",
       "NULL\n",
       "```"
      ],
      "text/plain": [
       "function (x, na.rm = FALSE) \n",
       "NULL"
      ]
     },
     "metadata": {},
     "output_type": "display_data"
    }
   ],
   "source": [
    "# ?sd()\n",
    "args(sd)"
   ]
  },
  {
   "cell_type": "code",
   "execution_count": 61,
   "id": "8e6a3889-75ab-418c-a924-2043ce94e031",
   "metadata": {},
   "outputs": [
    {
     "data": {
      "text/html": [
       "<pre class=language-r><code>function (x, na.rm = FALSE) \n",
       "sqrt(var(if (is.vector(x) || is.factor(x)) x else as.double(x), \n",
       "<span style=white-space:pre-wrap>    na.rm = na.rm))</span></code></pre>"
      ],
      "text/latex": [
       "\\begin{minted}{r}\n",
       "function (x, na.rm = FALSE) \n",
       "sqrt(var(if (is.vector(x) \\textbar{}\\textbar{} is.factor(x)) x else as.double(x), \n",
       "    na.rm = na.rm))\n",
       "\\end{minted}"
      ],
      "text/markdown": [
       "```r\n",
       "function (x, na.rm = FALSE) \n",
       "sqrt(var(if (is.vector(x) || is.factor(x)) x else as.double(x), \n",
       "    na.rm = na.rm))\n",
       "```"
      ],
      "text/plain": [
       "function (x, na.rm = FALSE) \n",
       "sqrt(var(if (is.vector(x) || is.factor(x)) x else as.double(x), \n",
       "    na.rm = na.rm))\n",
       "<bytecode: 0x00000000151297b0>\n",
       "<environment: namespace:stats>"
      ]
     },
     "metadata": {},
     "output_type": "display_data"
    }
   ],
   "source": [
    "sd"
   ]
  },
  {
   "cell_type": "markdown",
   "id": "e2a45753-e210-4413-a19f-1c6c0002e61f",
   "metadata": {},
   "source": [
    "<a name=\"toc_12654_3.2\"></a>\n",
    "**3.2 Writing functions**\n",
    "\n",
    "\n",
    "Writing custom functions are very helpful for many reasons:\n",
    "- Avoid code repetition: type less code, saving effort and making your analyses more readable.\n",
    "- You make less \"copy and paste\"-related errors.\n",
    "- You can reuse your code from project to project.\n",
    "\n",
    "Syntax:\n",
    "\n",
    "```R\n",
    "my_fun <- function(arg1, arg2){\n",
    "    body\n",
    "}\n",
    "```\n",
    "\n",
    "Statements:\n",
    "- `return()` - Specifies which expression should be returned by the function. Without specifying a return object, the last expression evaluated in an R function becomes the return value. "
   ]
  },
  {
   "cell_type": "markdown",
   "id": "a5e38181-fcab-44c2-b168-fe04c5b3083f",
   "metadata": {},
   "source": [
    "<a name=\"toc_12654_3.2.1\"></a>\n",
    "<u>3.2.1 Controlling what is returned</u>"
   ]
  },
  {
   "cell_type": "code",
   "execution_count": 105,
   "id": "531b4605-e1f9-444c-8eb3-31311e8d1133",
   "metadata": {},
   "outputs": [
    {
     "data": {
      "text/html": [
       "10"
      ],
      "text/latex": [
       "10"
      ],
      "text/markdown": [
       "10"
      ],
      "text/plain": [
       "[1] 10"
      ]
     },
     "metadata": {},
     "output_type": "display_data"
    }
   ],
   "source": [
    "triple <- function(x){\n",
    "    3 * x\n",
    "    2 * x\n",
    "    5 * x\n",
    "}\n",
    "\n",
    "triple(2)"
   ]
  },
  {
   "cell_type": "markdown",
   "id": "db3d6de4-3012-4281-9730-727373aa8654",
   "metadata": {},
   "source": [
    "☝️ If no `return` statement was specified, functions return the expression that was evaluated last"
   ]
  },
  {
   "cell_type": "code",
   "execution_count": 92,
   "id": "96f01174-9ac6-42a2-a0f2-38abddad17e0",
   "metadata": {},
   "outputs": [
    {
     "data": {
      "text/html": [
       "4"
      ],
      "text/latex": [
       "4"
      ],
      "text/markdown": [
       "4"
      ],
      "text/plain": [
       "[1] 4"
      ]
     },
     "metadata": {},
     "output_type": "display_data"
    }
   ],
   "source": [
    "triple <- function(x){\n",
    "    3 * x\n",
    "    y <- 2 * x\n",
    "    return(y)    \n",
    "}\n",
    "\n",
    "triple(2)"
   ]
  },
  {
   "cell_type": "markdown",
   "id": "c0a36a74-289c-4674-ab66-86a54940dc9b",
   "metadata": {},
   "source": [
    "☝️ I specified, only the `return` object will be returned. If we want to use the returned value as a named object, do `y <- triple(2)`"
   ]
  },
  {
   "cell_type": "code",
   "execution_count": 96,
   "id": "59bc0c2b-449d-4d29-a81c-2cb7900598aa",
   "metadata": {},
   "outputs": [
    {
     "data": {
      "text/html": [
       "4"
      ],
      "text/latex": [
       "4"
      ],
      "text/markdown": [
       "4"
      ],
      "text/plain": [
       "[1] 4"
      ]
     },
     "metadata": {},
     "output_type": "display_data"
    },
    {
     "data": {
      "text/html": [
       "7"
      ],
      "text/latex": [
       "7"
      ],
      "text/markdown": [
       "7"
      ],
      "text/plain": [
       "[1] 7"
      ]
     },
     "metadata": {},
     "output_type": "display_data"
    }
   ],
   "source": [
    "two_dice <- function() {\n",
    "  possibilities <- 1:6\n",
    "  dice1 <- sample(possibilities, size = 1)\n",
    "  dice2 <- sample(possibilities, size = 1)\n",
    "  dice1 + dice2\n",
    "}\n",
    "\n",
    "two_dice ()\n",
    "\n",
    "res <- two_dice()\n",
    "res"
   ]
  },
  {
   "cell_type": "markdown",
   "id": "aa1ebed8-996d-424b-a750-6cdba8497f9a",
   "metadata": {},
   "source": [
    "☝️ Whatever the way of calling the `two_dice()` function, R won't have access to `dice1` and `dice2` outside the function."
   ]
  },
  {
   "cell_type": "code",
   "execution_count": 115,
   "id": "5d7ff69e-93dc-4bb1-bc9d-f17479bdc0c4",
   "metadata": {},
   "outputs": [
    {
     "data": {
      "text/html": [
       "<style>\n",
       ".list-inline {list-style: none; margin:0; padding: 0}\n",
       ".list-inline>li {display: inline-block}\n",
       ".list-inline>li:not(:last-child)::after {content: \"\\00b7\"; padding: 0 .5ex}\n",
       "</style>\n",
       "<ol class=list-inline><li>4</li><li>5</li><li>9</li></ol>\n"
      ],
      "text/latex": [
       "\\begin{enumerate*}\n",
       "\\item 4\n",
       "\\item 5\n",
       "\\item 9\n",
       "\\end{enumerate*}\n"
      ],
      "text/markdown": [
       "1. 4\n",
       "2. 5\n",
       "3. 9\n",
       "\n",
       "\n"
      ],
      "text/plain": [
       "[1] 4 5 9"
      ]
     },
     "metadata": {},
     "output_type": "display_data"
    }
   ],
   "source": [
    "two_dice <- function() {\n",
    "  possibilities <- 1:6\n",
    "  dice1 <- sample(possibilities, size = 1)\n",
    "  dice2 <- sample(possibilities, size = 1)\n",
    "  sum <- dice1 + dice2\n",
    "  return(c(dice1, dice2, sum))\n",
    "}\n",
    "\n",
    "two_dice()"
   ]
  },
  {
   "cell_type": "markdown",
   "id": "e0d1cbf9-c44b-43b9-97c6-c3306859cd1f",
   "metadata": {},
   "source": [
    "☝️ If we want to return multiple output, we need to include them inside one return function"
   ]
  },
  {
   "cell_type": "code",
   "execution_count": 101,
   "id": "2ac811dd-38a3-44c1-a27b-16295e968f5d",
   "metadata": {},
   "outputs": [
    {
     "name": "stdout",
     "output_type": "stream",
     "text": [
      "[1] \"Try to be more visible!\"\n",
      "[1] \"It's OK though.\"\n"
     ]
    },
    {
     "data": {
      "text/html": [
       "0"
      ],
      "text/latex": [
       "0"
      ],
      "text/markdown": [
       "0"
      ],
      "text/plain": [
       "[1] 0"
      ]
     },
     "metadata": {},
     "output_type": "display_data"
    }
   ],
   "source": [
    "interpret <- function(num_views) {\n",
    "  if (num_views > 15) {\n",
    "print(\"You're popular!\")\n",
    "return(num_views)\n",
    "  } else {\n",
    "print(\"Try to be more visible!\")\n",
    "print(\"It's OK though.\")\n",
    "return(0)\n",
    "  }\n",
    "}\n",
    "\n",
    "interpret(2)"
   ]
  },
  {
   "cell_type": "markdown",
   "id": "755edeb5-5956-4342-8a45-a207cef8fe74",
   "metadata": {},
   "source": [
    "☝️ Apart from returning an output, functions can print any lines to console."
   ]
  },
  {
   "cell_type": "markdown",
   "id": "817b6268-a60c-4897-9a13-773240992a82",
   "metadata": {},
   "source": [
    "<a name=\"toc_12654_3.2.2\"></a>\n",
    "<u>3.2.2 Guard functions against misuse</u>"
   ]
  },
  {
   "cell_type": "code",
   "execution_count": 102,
   "id": "3e49017b-529e-435b-af83-5d6a2b26edb4",
   "metadata": {},
   "outputs": [
    {
     "ename": "ERROR",
     "evalue": "Error in math_magic(4): argument \"y\" is missing, with no default\n",
     "output_type": "error",
     "traceback": [
      "Error in math_magic(4): argument \"y\" is missing, with no default\nTraceback:\n",
      "1. math_magic(4)"
     ]
    }
   ],
   "source": [
    "math_magic <- function(x, y){\n",
    "    return(x * y + x / y )  # here using return() is optional\n",
    "}\n",
    "\n",
    "math_magic(4)"
   ]
  },
  {
   "cell_type": "markdown",
   "id": "3d9d011f-83e6-491a-8321-0a85b9230e97",
   "metadata": {},
   "source": [
    "☝️  We get an error message as there are 2 required arguments. We can circumvent this by making `y` optional:"
   ]
  },
  {
   "cell_type": "code",
   "execution_count": 88,
   "id": "c0fee6b4-7148-4a23-8cf5-e9ed691d8cf7",
   "metadata": {},
   "outputs": [
    {
     "data": {
      "text/html": [
       "8"
      ],
      "text/latex": [
       "8"
      ],
      "text/markdown": [
       "8"
      ],
      "text/plain": [
       "[1] 8"
      ]
     },
     "metadata": {},
     "output_type": "display_data"
    }
   ],
   "source": [
    "math_magic <- function(x, y = 1){\n",
    "    return(x * y + x / y )  # here using return() is optional\n",
    "}\n",
    "\n",
    "math_magic(4)"
   ]
  },
  {
   "cell_type": "code",
   "execution_count": 84,
   "id": "de316264-caaf-44b9-b4fb-d76d3d52323d",
   "metadata": {},
   "outputs": [
    {
     "data": {
      "text/html": [
       "Inf"
      ],
      "text/latex": [
       "Inf"
      ],
      "text/markdown": [
       "Inf"
      ],
      "text/plain": [
       "[1] Inf"
      ]
     },
     "metadata": {},
     "output_type": "display_data"
    }
   ],
   "source": [
    "math_magic(4, 0)"
   ]
  },
  {
   "cell_type": "markdown",
   "id": "bed9676e-1b84-467e-9d6d-03465d1ebba6",
   "metadata": {},
   "source": [
    "☝️ The `Inf` result indicates that the function was misused. We need to guard against things like this:"
   ]
  },
  {
   "cell_type": "code",
   "execution_count": 86,
   "id": "e3a7a4c9-2a0b-4c14-9d21-0a97e22e9e21",
   "metadata": {},
   "outputs": [
    {
     "data": {
      "text/html": [
       "0"
      ],
      "text/latex": [
       "0"
      ],
      "text/markdown": [
       "0"
      ],
      "text/plain": [
       "[1] 0"
      ]
     },
     "metadata": {},
     "output_type": "display_data"
    }
   ],
   "source": [
    "math_magic <- function(x, y = 1){\n",
    "    if(y == 0){\n",
    "        return(0)\n",
    "    }\n",
    "    return(x * y + x / y )  # here using return() is optional\n",
    "}\n",
    "\n",
    "math_magic(4, 0)"
   ]
  },
  {
   "cell_type": "markdown",
   "id": "7cbe8e23-3e03-4754-95ac-9de9089931c6",
   "metadata": {},
   "source": [
    "<a name=\"toc_12654_4\"></a>\n",
    "## 4.   The apply family\n",
    "\n",
    "There are many apply functions in R. The most common ones:\n",
    "- `lapply()`\n",
    "- `sapply()`\n",
    "- `vapply()`\n",
    "\n",
    "But there are other too, like `apply()`, `mapply()`, `tapply()`, `rapply()`"
   ]
  },
  {
   "cell_type": "markdown",
   "id": "d4e33c2f-5275-497c-b0c0-8921614f653e",
   "metadata": {},
   "source": [
    "<a name=\"toc_12654_4.1\"></a>\n",
    "**4.1 lapply**\n",
    "\n",
    "Iterated over the inputted object and applies a function on each element. It is basically a simplified for loop. \n",
    "\n",
    "**`lapply()` always return a list!** The `unlist()` function can convert it to a vector.\n",
    "\n",
    "lapply allows you to add additional arguments to the function: just include them right after the function you want to apply to your list or vector. E.g.\n",
    "`lapply(x, mean, na.rm = TRUE)`"
   ]
  },
  {
   "cell_type": "code",
   "execution_count": 116,
   "id": "47feb9fa-d71b-4d00-b809-250b40589824",
   "metadata": {},
   "outputs": [
    {
     "name": "stdout",
     "output_type": "stream",
     "text": [
      "[1] \"numeric\"\n",
      "[1] \"character\"\n",
      "[1] \"logical\"\n"
     ]
    }
   ],
   "source": [
    "nyc <- list(pop = 8405837,\n",
    "            boroughs = c(\"Manhattan\", \"Bronx\", \"Brooklyn\", \"Queens\", \"Staten Island\"),\n",
    "            capital = FALSE)\n",
    "\n",
    "for(info in nyc){\n",
    "    print(class(info))\n",
    "}"
   ]
  },
  {
   "cell_type": "code",
   "execution_count": 123,
   "id": "87a060e7-e090-4ae7-8e82-25b445981b1e",
   "metadata": {},
   "outputs": [
    {
     "data": {
      "text/html": [
       "<dl>\n",
       "\t<dt>$pop</dt>\n",
       "\t\t<dd>'numeric'</dd>\n",
       "\t<dt>$boroughs</dt>\n",
       "\t\t<dd>'character'</dd>\n",
       "\t<dt>$capital</dt>\n",
       "\t\t<dd>'logical'</dd>\n",
       "</dl>\n"
      ],
      "text/latex": [
       "\\begin{description}\n",
       "\\item[\\$pop] 'numeric'\n",
       "\\item[\\$boroughs] 'character'\n",
       "\\item[\\$capital] 'logical'\n",
       "\\end{description}\n"
      ],
      "text/markdown": [
       "$pop\n",
       ":   'numeric'\n",
       "$boroughs\n",
       ":   'character'\n",
       "$capital\n",
       ":   'logical'\n",
       "\n",
       "\n"
      ],
      "text/plain": [
       "$pop\n",
       "[1] \"numeric\"\n",
       "\n",
       "$boroughs\n",
       "[1] \"character\"\n",
       "\n",
       "$capital\n",
       "[1] \"logical\"\n"
      ]
     },
     "metadata": {},
     "output_type": "display_data"
    }
   ],
   "source": [
    "# Now with lapply():\n",
    "lapply(nyc, class)"
   ]
  },
  {
   "cell_type": "markdown",
   "id": "e88aeab4-ab42-478c-94c2-c35530f91e9d",
   "metadata": {},
   "source": [
    "It also works with vectors (and other objects too):"
   ]
  },
  {
   "cell_type": "code",
   "execution_count": 121,
   "id": "65d5b346-2d9d-4504-ac96-92c463c85cd4",
   "metadata": {},
   "outputs": [
    {
     "data": {
      "text/html": [
       "<style>\n",
       ".list-inline {list-style: none; margin:0; padding: 0}\n",
       ".list-inline>li {display: inline-block}\n",
       ".list-inline>li:not(:last-child)::after {content: \"\\00b7\"; padding: 0 .5ex}\n",
       "</style>\n",
       "<ol class=list-inline><li>9</li><li>5</li><li>8</li><li>6</li><li>13</li></ol>\n"
      ],
      "text/latex": [
       "\\begin{enumerate*}\n",
       "\\item 9\n",
       "\\item 5\n",
       "\\item 8\n",
       "\\item 6\n",
       "\\item 13\n",
       "\\end{enumerate*}\n"
      ],
      "text/markdown": [
       "1. 9\n",
       "2. 5\n",
       "3. 8\n",
       "4. 6\n",
       "5. 13\n",
       "\n",
       "\n"
      ],
      "text/plain": [
       "[1]  9  5  8  6 13"
      ]
     },
     "metadata": {},
     "output_type": "display_data"
    }
   ],
   "source": [
    "boroughs <- c(\"Manhattan\", \"Bronx\", \"Brooklyn\", \"Queens\", \"Staten Island\")\n",
    "\n",
    "num_char <- c()\n",
    "\n",
    "for(i in 1:length(boroughs)){\n",
    "    num_char[i] <- nchar(boroughs[i])\n",
    "}\n",
    "\n",
    "num_char"
   ]
  },
  {
   "cell_type": "code",
   "execution_count": 126,
   "id": "e1d9709b-0644-4958-9f89-44afe1fbe16d",
   "metadata": {},
   "outputs": [
    {
     "data": {
      "text/html": [
       "<ol>\n",
       "\t<li>9</li>\n",
       "\t<li>5</li>\n",
       "\t<li>8</li>\n",
       "\t<li>6</li>\n",
       "\t<li>13</li>\n",
       "</ol>\n"
      ],
      "text/latex": [
       "\\begin{enumerate}\n",
       "\\item 9\n",
       "\\item 5\n",
       "\\item 8\n",
       "\\item 6\n",
       "\\item 13\n",
       "\\end{enumerate}\n"
      ],
      "text/markdown": [
       "1. 9\n",
       "2. 5\n",
       "3. 8\n",
       "4. 6\n",
       "5. 13\n",
       "\n",
       "\n"
      ],
      "text/plain": [
       "[[1]]\n",
       "[1] 9\n",
       "\n",
       "[[2]]\n",
       "[1] 5\n",
       "\n",
       "[[3]]\n",
       "[1] 8\n",
       "\n",
       "[[4]]\n",
       "[1] 6\n",
       "\n",
       "[[5]]\n",
       "[1] 13\n"
      ]
     },
     "metadata": {},
     "output_type": "display_data"
    },
    {
     "data": {
      "text/html": [
       "<style>\n",
       ".list-inline {list-style: none; margin:0; padding: 0}\n",
       ".list-inline>li {display: inline-block}\n",
       ".list-inline>li:not(:last-child)::after {content: \"\\00b7\"; padding: 0 .5ex}\n",
       "</style>\n",
       "<ol class=list-inline><li>9</li><li>5</li><li>8</li><li>6</li><li>13</li></ol>\n"
      ],
      "text/latex": [
       "\\begin{enumerate*}\n",
       "\\item 9\n",
       "\\item 5\n",
       "\\item 8\n",
       "\\item 6\n",
       "\\item 13\n",
       "\\end{enumerate*}\n"
      ],
      "text/markdown": [
       "1. 9\n",
       "2. 5\n",
       "3. 8\n",
       "4. 6\n",
       "5. 13\n",
       "\n",
       "\n"
      ],
      "text/plain": [
       "[1]  9  5  8  6 13"
      ]
     },
     "metadata": {},
     "output_type": "display_data"
    }
   ],
   "source": [
    "# Now with lapply():\n",
    "lapply(boroughs, nchar)\n",
    "\n",
    "unlist(lapply(boroughs, nchar)) # to get a vector instead of a list"
   ]
  },
  {
   "cell_type": "markdown",
   "id": "fdcb72df-7761-42e3-8d46-b75b10e6e10b",
   "metadata": {},
   "source": [
    "Adding additional arguments to the function:"
   ]
  },
  {
   "cell_type": "code",
   "execution_count": 135,
   "id": "fb7e61d4-8d08-4b68-b4b8-42d368c8e5b2",
   "metadata": {},
   "outputs": [
    {
     "data": {
      "text/html": [
       "<dl>\n",
       "\t<dt>$a</dt>\n",
       "\t\t<dd>4</dd>\n",
       "\t<dt>$b</dt>\n",
       "\t\t<dd>4.8</dd>\n",
       "</dl>\n"
      ],
      "text/latex": [
       "\\begin{description}\n",
       "\\item[\\$a] 4\n",
       "\\item[\\$b] 4.8\n",
       "\\end{description}\n"
      ],
      "text/markdown": [
       "$a\n",
       ":   4\n",
       "$b\n",
       ":   4.8\n",
       "\n",
       "\n"
      ],
      "text/plain": [
       "$a\n",
       "[1] 4\n",
       "\n",
       "$b\n",
       "[1] 4.8\n"
      ]
     },
     "metadata": {},
     "output_type": "display_data"
    }
   ],
   "source": [
    "num <- list(a = c(2, 5, 7, 6, 0, 4),\n",
    "            b = c(2, 5, 7, 6, NA, 4)\n",
    "            )\n",
    "\n",
    "lapply(num, mean, na.rm = TRUE)"
   ]
  },
  {
   "cell_type": "markdown",
   "id": "9ec1f9cf-1657-44b0-b292-576b4da49995",
   "metadata": {},
   "source": [
    "Functions can also be defined inside lapply. These are so-called **anonymous functions**"
   ]
  },
  {
   "cell_type": "code",
   "execution_count": 146,
   "id": "bd2f01fc-0358-43c4-8d76-ae93a9870b18",
   "metadata": {},
   "outputs": [
    {
     "data": {
      "text/html": [
       "<ol>\n",
       "\t<li><style>\n",
       ".list-inline {list-style: none; margin:0; padding: 0}\n",
       ".list-inline>li {display: inline-block}\n",
       ".list-inline>li:not(:last-child)::after {content: \"\\00b7\"; padding: 0 .5ex}\n",
       "</style>\n",
       "<ol class=list-inline><li>'Manhattan'</li><li>'Bronx'</li><li>'Brooklyn'</li><li>'Queens'</li><li>'Staten Island'</li></ol>\n",
       "</li>\n",
       "</ol>\n"
      ],
      "text/latex": [
       "\\begin{enumerate}\n",
       "\\item \\begin{enumerate*}\n",
       "\\item 'Manhattan'\n",
       "\\item 'Bronx'\n",
       "\\item 'Brooklyn'\n",
       "\\item 'Queens'\n",
       "\\item 'Staten Island'\n",
       "\\end{enumerate*}\n",
       "\n",
       "\\end{enumerate}\n"
      ],
      "text/markdown": [
       "1. 1. 'Manhattan'\n",
       "2. 'Bronx'\n",
       "3. 'Brooklyn'\n",
       "4. 'Queens'\n",
       "5. 'Staten Island'\n",
       "\n",
       "\n",
       "\n",
       "\n",
       "\n"
      ],
      "text/plain": [
       "[[1]]\n",
       "[1] \"Manhattan\"     \"Bronx\"         \"Brooklyn\"      \"Queens\"       \n",
       "[5] \"Staten Island\"\n"
      ]
     },
     "metadata": {},
     "output_type": "display_data"
    },
    {
     "data": {
      "text/html": [
       "<ol>\n",
       "\t<li>'Brooklyn'</li>\n",
       "</ol>\n"
      ],
      "text/latex": [
       "\\begin{enumerate}\n",
       "\\item 'Brooklyn'\n",
       "\\end{enumerate}\n"
      ],
      "text/markdown": [
       "1. 'Brooklyn'\n",
       "\n",
       "\n"
      ],
      "text/plain": [
       "[[1]]\n",
       "[1] \"Brooklyn\"\n"
      ]
     },
     "metadata": {},
     "output_type": "display_data"
    }
   ],
   "source": [
    "bor <- list(boroughs)\n",
    "bor\n",
    "\n",
    "lapply(bor, function(x){x[3]} )"
   ]
  },
  {
   "cell_type": "markdown",
   "id": "af4632bb-3634-46b1-b58e-748a8d59de0c",
   "metadata": {},
   "source": [
    "<a name=\"toc_12654_4.2\"></a>\n",
    "**4.2 sapply**\n",
    "\n",
    "\"Simplified apply\". It's **result is a named vector**, which contains the same information as the vector we obtained earlier using unlist and lapply together. If we do not want the vector tobe named, use `USE.NAMES = FALSE`. There are situations when simplification is not possible. In these cases, `sapply()` will return a list just like `lapply()`"
   ]
  },
  {
   "cell_type": "code",
   "execution_count": 150,
   "id": "c6d2b2c7-6e95-487e-ab2d-1dbb62855121",
   "metadata": {},
   "outputs": [
    {
     "data": {
      "text/html": [
       "<ol>\n",
       "\t<li>9</li>\n",
       "\t<li>5</li>\n",
       "\t<li>8</li>\n",
       "\t<li>6</li>\n",
       "\t<li>13</li>\n",
       "</ol>\n"
      ],
      "text/latex": [
       "\\begin{enumerate}\n",
       "\\item 9\n",
       "\\item 5\n",
       "\\item 8\n",
       "\\item 6\n",
       "\\item 13\n",
       "\\end{enumerate}\n"
      ],
      "text/markdown": [
       "1. 9\n",
       "2. 5\n",
       "3. 8\n",
       "4. 6\n",
       "5. 13\n",
       "\n",
       "\n"
      ],
      "text/plain": [
       "[[1]]\n",
       "[1] 9\n",
       "\n",
       "[[2]]\n",
       "[1] 5\n",
       "\n",
       "[[3]]\n",
       "[1] 8\n",
       "\n",
       "[[4]]\n",
       "[1] 6\n",
       "\n",
       "[[5]]\n",
       "[1] 13\n"
      ]
     },
     "metadata": {},
     "output_type": "display_data"
    },
    {
     "data": {
      "text/html": [
       "<style>\n",
       ".dl-inline {width: auto; margin:0; padding: 0}\n",
       ".dl-inline>dt, .dl-inline>dd {float: none; width: auto; display: inline-block}\n",
       ".dl-inline>dt::after {content: \":\\0020\"; padding-right: .5ex}\n",
       ".dl-inline>dt:not(:first-of-type) {padding-left: .5ex}\n",
       "</style><dl class=dl-inline><dt>Manhattan</dt><dd>9</dd><dt>Bronx</dt><dd>5</dd><dt>Brooklyn</dt><dd>8</dd><dt>Queens</dt><dd>6</dd><dt>Staten Island</dt><dd>13</dd></dl>\n"
      ],
      "text/latex": [
       "\\begin{description*}\n",
       "\\item[Manhattan] 9\n",
       "\\item[Bronx] 5\n",
       "\\item[Brooklyn] 8\n",
       "\\item[Queens] 6\n",
       "\\item[Staten Island] 13\n",
       "\\end{description*}\n"
      ],
      "text/markdown": [
       "Manhattan\n",
       ":   9Bronx\n",
       ":   5Brooklyn\n",
       ":   8Queens\n",
       ":   6Staten Island\n",
       ":   13\n",
       "\n"
      ],
      "text/plain": [
       "    Manhattan         Bronx      Brooklyn        Queens Staten Island \n",
       "            9             5             8             6            13 "
      ]
     },
     "metadata": {},
     "output_type": "display_data"
    }
   ],
   "source": [
    "lapply(boroughs, nchar)\n",
    "sapply(boroughs, nchar)"
   ]
  },
  {
   "cell_type": "code",
   "execution_count": 152,
   "id": "29aea298-0860-4ffd-bb47-950f59d9a7f3",
   "metadata": {},
   "outputs": [
    {
     "data": {
      "text/html": [
       "<style>\n",
       ".list-inline {list-style: none; margin:0; padding: 0}\n",
       ".list-inline>li {display: inline-block}\n",
       ".list-inline>li:not(:last-child)::after {content: \"\\00b7\"; padding: 0 .5ex}\n",
       "</style>\n",
       "<ol class=list-inline><li>9</li><li>5</li><li>8</li><li>6</li><li>13</li></ol>\n"
      ],
      "text/latex": [
       "\\begin{enumerate*}\n",
       "\\item 9\n",
       "\\item 5\n",
       "\\item 8\n",
       "\\item 6\n",
       "\\item 13\n",
       "\\end{enumerate*}\n"
      ],
      "text/markdown": [
       "1. 9\n",
       "2. 5\n",
       "3. 8\n",
       "4. 6\n",
       "5. 13\n",
       "\n",
       "\n"
      ],
      "text/plain": [
       "[1]  9  5  8  6 13"
      ]
     },
     "metadata": {},
     "output_type": "display_data"
    }
   ],
   "source": [
    "sapply(boroughs, nchar, USE.NAMES = FALSE)"
   ]
  },
  {
   "cell_type": "markdown",
   "id": "838367ae-085b-43f0-9822-1a895653c5c1",
   "metadata": {},
   "source": [
    "<a name=\"toc_12654_4.3\"></a>\n",
    "**4.3 vapply**\n",
    "\n",
    "Same as the other two but we can **explicitely specify the output format**. \n",
    "\n",
    "This function has a new argument, `FUN.VALUE` where we give a general template for the return value of FUN, the function that you want to apply over the input X. For example, if we want to apply a function that returns a single number (i.e. a numeric vector of length 1) for each element, we need to specify `numeric(1)`. For n-length strings, we can use `character(n)`."
   ]
  },
  {
   "cell_type": "code",
   "execution_count": 156,
   "id": "64c49526-e93e-40e2-918a-c0962c25865a",
   "metadata": {},
   "outputs": [
    {
     "data": {
      "text/html": [
       "<style>\n",
       ".dl-inline {width: auto; margin:0; padding: 0}\n",
       ".dl-inline>dt, .dl-inline>dd {float: none; width: auto; display: inline-block}\n",
       ".dl-inline>dt::after {content: \":\\0020\"; padding-right: .5ex}\n",
       ".dl-inline>dt:not(:first-of-type) {padding-left: .5ex}\n",
       "</style><dl class=dl-inline><dt>Manhattan</dt><dd>9</dd><dt>Bronx</dt><dd>5</dd><dt>Brooklyn</dt><dd>8</dd><dt>Queens</dt><dd>6</dd><dt>Staten Island</dt><dd>13</dd></dl>\n"
      ],
      "text/latex": [
       "\\begin{description*}\n",
       "\\item[Manhattan] 9\n",
       "\\item[Bronx] 5\n",
       "\\item[Brooklyn] 8\n",
       "\\item[Queens] 6\n",
       "\\item[Staten Island] 13\n",
       "\\end{description*}\n"
      ],
      "text/markdown": [
       "Manhattan\n",
       ":   9Bronx\n",
       ":   5Brooklyn\n",
       ":   8Queens\n",
       ":   6Staten Island\n",
       ":   13\n",
       "\n"
      ],
      "text/plain": [
       "    Manhattan         Bronx      Brooklyn        Queens Staten Island \n",
       "            9             5             8             6            13 "
      ]
     },
     "metadata": {},
     "output_type": "display_data"
    }
   ],
   "source": [
    "vapply(boroughs, nchar, numeric(1))"
   ]
  },
  {
   "cell_type": "code",
   "execution_count": 157,
   "id": "0ea2a623-b87e-4762-aea5-087939fe4d8d",
   "metadata": {},
   "outputs": [
    {
     "data": {
      "text/html": [
       "<table class=\"dataframe\">\n",
       "<caption>A matrix: 3 × 3 of type dbl</caption>\n",
       "<tbody>\n",
       "\t<tr><th scope=row>min</th><td>-1.0</td><td> 5</td><td>-3.0</td></tr>\n",
       "\t<tr><th scope=row>mean</th><td> 4.8</td><td> 9</td><td> 2.2</td></tr>\n",
       "\t<tr><th scope=row>max</th><td> 9.0</td><td>13</td><td> 8.0</td></tr>\n",
       "</tbody>\n",
       "</table>\n"
      ],
      "text/latex": [
       "A matrix: 3 × 3 of type dbl\n",
       "\\begin{tabular}{r|lll}\n",
       "\tmin & -1.0 &  5 & -3.0\\\\\n",
       "\tmean &  4.8 &  9 &  2.2\\\\\n",
       "\tmax &  9.0 & 13 &  8.0\\\\\n",
       "\\end{tabular}\n"
      ],
      "text/markdown": [
       "\n",
       "A matrix: 3 × 3 of type dbl\n",
       "\n",
       "| min | -1.0 |  5 | -3.0 |\n",
       "| mean |  4.8 |  9 |  2.2 |\n",
       "| max |  9.0 | 13 |  8.0 |\n",
       "\n"
      ],
      "text/plain": [
       "     [,1] [,2] [,3]\n",
       "min  -1.0  5   -3.0\n",
       "mean  4.8  9    2.2\n",
       "max   9.0 13    8.0"
      ]
     },
     "metadata": {},
     "output_type": "display_data"
    }
   ],
   "source": [
    "basics <- function(x) {\n",
    "  c(min = min(x), mean = mean(x), max = max(x))\n",
    "}\n",
    "\n",
    "temp <- list(c(3, 7, 9, 6, -1),\n",
    "             c(6, 9, 12, 13, 5),\n",
    "             c(4, 8, 3, -1, -3))\n",
    "\n",
    "vapply(temp, basics, numeric(3))"
   ]
  },
  {
   "cell_type": "markdown",
   "id": "6019dfb8-fc02-43ef-9e69-cff9088bd606",
   "metadata": {
    "tags": []
   },
   "source": [
    "<a name=\"toc_12654_5\"></a>\n",
    "## 5.  A selection of useful R functions\n",
    "\n",
    "Often used base R function\n",
    "\n",
    "<u>Check R environment</u>\n",
    "- `ls()`, `search()`\n",
    "\n",
    "<u>Mathematical functions</u>\n",
    "- `sum()`, `round()`, `abs()`, `log()`,`mean()`, `sd()` etc.\n",
    "\n",
    "<u>Functions for data structures</u>\n",
    "-  `str()`, `list()`, `is.list()`, `unlist()`, `sort()`, `seq()`, `rep()`, `append()`, `rev()`\n",
    "\n",
    "<u>Regular expressions</u>\n",
    "- `grep()`, `grepl()`, `sub()`, `gsub()`, \n",
    "\n",
    "<u>Times and Dates</u>\n",
    "- `Sys.Date()`,`Sys.time()`, `as.Date()`, `as.POSIXct()`  `unclass()`"
   ]
  },
  {
   "cell_type": "code",
   "execution_count": 9,
   "id": "b2a9f67d-81a9-46a0-b95b-a745538bc1f2",
   "metadata": {},
   "outputs": [
    {
     "data": {
      "text/html": [],
      "text/latex": [],
      "text/markdown": [],
      "text/plain": [
       "character(0)"
      ]
     },
     "metadata": {},
     "output_type": "display_data"
    },
    {
     "data": {
      "text/html": [
       "<style>\n",
       ".list-inline {list-style: none; margin:0; padding: 0}\n",
       ".list-inline>li {display: inline-block}\n",
       ".list-inline>li:not(:last-child)::after {content: \"\\00b7\"; padding: 0 .5ex}\n",
       "</style>\n",
       "<ol class=list-inline><li>'.GlobalEnv'</li><li>'jupyter:irkernel'</li><li>'package:stats'</li><li>'package:graphics'</li><li>'package:grDevices'</li><li>'package:utils'</li><li>'package:datasets'</li><li>'package:methods'</li><li>'Autoloads'</li><li>'package:base'</li></ol>\n"
      ],
      "text/latex": [
       "\\begin{enumerate*}\n",
       "\\item '.GlobalEnv'\n",
       "\\item 'jupyter:irkernel'\n",
       "\\item 'package:stats'\n",
       "\\item 'package:graphics'\n",
       "\\item 'package:grDevices'\n",
       "\\item 'package:utils'\n",
       "\\item 'package:datasets'\n",
       "\\item 'package:methods'\n",
       "\\item 'Autoloads'\n",
       "\\item 'package:base'\n",
       "\\end{enumerate*}\n"
      ],
      "text/markdown": [
       "1. '.GlobalEnv'\n",
       "2. 'jupyter:irkernel'\n",
       "3. 'package:stats'\n",
       "4. 'package:graphics'\n",
       "5. 'package:grDevices'\n",
       "6. 'package:utils'\n",
       "7. 'package:datasets'\n",
       "8. 'package:methods'\n",
       "9. 'Autoloads'\n",
       "10. 'package:base'\n",
       "\n",
       "\n"
      ],
      "text/plain": [
       " [1] \".GlobalEnv\"        \"jupyter:irkernel\"  \"package:stats\"    \n",
       " [4] \"package:graphics\"  \"package:grDevices\" \"package:utils\"    \n",
       " [7] \"package:datasets\"  \"package:methods\"   \"Autoloads\"        \n",
       "[10] \"package:base\"     "
      ]
     },
     "metadata": {},
     "output_type": "display_data"
    }
   ],
   "source": [
    "ls() # objects in workspace\n",
    "search() # loaded packages attached to search list"
   ]
  },
  {
   "cell_type": "code",
   "execution_count": 163,
   "id": "99181371-f178-4498-98eb-c4088f85cdcd",
   "metadata": {},
   "outputs": [
    {
     "data": {
      "text/html": [
       "<style>\n",
       ".list-inline {list-style: none; margin:0; padding: 0}\n",
       ".list-inline>li {display: inline-block}\n",
       ".list-inline>li:not(:last-child)::after {content: \"\\00b7\"; padding: 0 .5ex}\n",
       "</style>\n",
       "<ol class=list-inline><li>1</li><li>3</li><li>5</li><li>7</li><li>9</li><li>1</li><li>3</li><li>5</li><li>7</li><li>9</li></ol>\n"
      ],
      "text/latex": [
       "\\begin{enumerate*}\n",
       "\\item 1\n",
       "\\item 3\n",
       "\\item 5\n",
       "\\item 7\n",
       "\\item 9\n",
       "\\item 1\n",
       "\\item 3\n",
       "\\item 5\n",
       "\\item 7\n",
       "\\item 9\n",
       "\\end{enumerate*}\n"
      ],
      "text/markdown": [
       "1. 1\n",
       "2. 3\n",
       "3. 5\n",
       "4. 7\n",
       "5. 9\n",
       "6. 1\n",
       "7. 3\n",
       "8. 5\n",
       "9. 7\n",
       "10. 9\n",
       "\n",
       "\n"
      ],
      "text/plain": [
       " [1] 1 3 5 7 9 1 3 5 7 9"
      ]
     },
     "metadata": {},
     "output_type": "display_data"
    },
    {
     "data": {
      "text/html": [
       "<style>\n",
       ".list-inline {list-style: none; margin:0; padding: 0}\n",
       ".list-inline>li {display: inline-block}\n",
       ".list-inline>li:not(:last-child)::after {content: \"\\00b7\"; padding: 0 .5ex}\n",
       "</style>\n",
       "<ol class=list-inline><li>1</li><li>1</li><li>3</li><li>3</li><li>5</li><li>5</li><li>7</li><li>7</li><li>9</li><li>9</li></ol>\n"
      ],
      "text/latex": [
       "\\begin{enumerate*}\n",
       "\\item 1\n",
       "\\item 1\n",
       "\\item 3\n",
       "\\item 3\n",
       "\\item 5\n",
       "\\item 5\n",
       "\\item 7\n",
       "\\item 7\n",
       "\\item 9\n",
       "\\item 9\n",
       "\\end{enumerate*}\n"
      ],
      "text/markdown": [
       "1. 1\n",
       "2. 1\n",
       "3. 3\n",
       "4. 3\n",
       "5. 5\n",
       "6. 5\n",
       "7. 7\n",
       "8. 7\n",
       "9. 9\n",
       "10. 9\n",
       "\n",
       "\n"
      ],
      "text/plain": [
       " [1] 1 1 3 3 5 5 7 7 9 9"
      ]
     },
     "metadata": {},
     "output_type": "display_data"
    },
    {
     "data": {
      "text/html": [
       "<style>\n",
       ".list-inline {list-style: none; margin:0; padding: 0}\n",
       ".list-inline>li {display: inline-block}\n",
       ".list-inline>li:not(:last-child)::after {content: \"\\00b7\"; padding: 0 .5ex}\n",
       "</style>\n",
       "<ol class=list-inline><li>9</li><li>8</li><li>6</li><li>4</li><li>4</li><li>2</li><li>1</li><li>0</li></ol>\n"
      ],
      "text/latex": [
       "\\begin{enumerate*}\n",
       "\\item 9\n",
       "\\item 8\n",
       "\\item 6\n",
       "\\item 4\n",
       "\\item 4\n",
       "\\item 2\n",
       "\\item 1\n",
       "\\item 0\n",
       "\\end{enumerate*}\n"
      ],
      "text/markdown": [
       "1. 9\n",
       "2. 8\n",
       "3. 6\n",
       "4. 4\n",
       "5. 4\n",
       "6. 2\n",
       "7. 1\n",
       "8. 0\n",
       "\n",
       "\n"
      ],
      "text/plain": [
       "[1] 9 8 6 4 4 2 1 0"
      ]
     },
     "metadata": {},
     "output_type": "display_data"
    }
   ],
   "source": [
    "rep(seq(1, 10, by = 2), times = 2)\n",
    "rep(seq(1, 10, by = 2), each = 2)\n",
    "sort(c(2, 8, 6, 4, 1, 4, 0, 9), decreasing = TRUE)"
   ]
  },
  {
   "cell_type": "code",
   "execution_count": 175,
   "id": "2ffca42d-7ff9-47c1-9d67-cc5a3b3c9ae4",
   "metadata": {},
   "outputs": [
    {
     "data": {
      "text/html": [
       "<style>\n",
       ".list-inline {list-style: none; margin:0; padding: 0}\n",
       ".list-inline>li {display: inline-block}\n",
       ".list-inline>li:not(:last-child)::after {content: \"\\00b7\"; padding: 0 .5ex}\n",
       "</style>\n",
       "<ol class=list-inline><li>2</li><li>5</li><li>5</li><li>7</li><li>8</li><li>9</li><li>13</li><li>13</li><li>14</li><li>14</li><li>16</li><li>16</li><li>17</li><li>17</li></ol>\n"
      ],
      "text/latex": [
       "\\begin{enumerate*}\n",
       "\\item 2\n",
       "\\item 5\n",
       "\\item 5\n",
       "\\item 7\n",
       "\\item 8\n",
       "\\item 9\n",
       "\\item 13\n",
       "\\item 13\n",
       "\\item 14\n",
       "\\item 14\n",
       "\\item 16\n",
       "\\item 16\n",
       "\\item 17\n",
       "\\item 17\n",
       "\\end{enumerate*}\n"
      ],
      "text/markdown": [
       "1. 2\n",
       "2. 5\n",
       "3. 5\n",
       "4. 7\n",
       "5. 8\n",
       "6. 9\n",
       "7. 13\n",
       "8. 13\n",
       "9. 14\n",
       "10. 14\n",
       "11. 16\n",
       "12. 16\n",
       "13. 17\n",
       "14. 17\n",
       "\n",
       "\n"
      ],
      "text/plain": [
       " [1]  2  5  5  7  8  9 13 13 14 14 16 16 17 17"
      ]
     },
     "metadata": {},
     "output_type": "display_data"
    }
   ],
   "source": [
    "linkedin <- list(16, 9, 13, 5, 2, 17, 14)\n",
    "facebook <- list(17, 7, 5, 16, 8, 13, 14)\n",
    "\n",
    "li_vec <- unlist(linkedin)\n",
    "fb_vec <- unlist(facebook)\n",
    "\n",
    "social_vec <- append(li_vec, fb_vec)\n",
    "\n",
    "sort(social_vec)"
   ]
  },
  {
   "cell_type": "code",
   "execution_count": 174,
   "id": "dc0164d1-da2c-4fbc-86b2-f170f1289b5d",
   "metadata": {},
   "outputs": [
    {
     "name": "stdout",
     "output_type": "stream",
     "text": [
      "List of 3\n",
      " $ pop     : num 8405837\n",
      " $ boroughs: chr [1:5] \"Manhattan\" \"Bronx\" \"Brooklyn\" \"Queens\" ...\n",
      " $ capital : logi FALSE\n",
      "List of 3\n",
      " $ capital : logi FALSE\n",
      " $ boroughs: chr [1:5] \"Manhattan\" \"Bronx\" \"Brooklyn\" \"Queens\" ...\n",
      " $ pop     : num 8405837\n"
     ]
    }
   ],
   "source": [
    "str(nyc)\n",
    "str(rev(nyc)) # reverses the data structure"
   ]
  },
  {
   "cell_type": "code",
   "execution_count": 189,
   "id": "ad4de77f-9b2e-4834-88f2-d048ac78acb6",
   "metadata": {},
   "outputs": [
    {
     "data": {
      "text/html": [
       "<style>\n",
       ".list-inline {list-style: none; margin:0; padding: 0}\n",
       ".list-inline>li {display: inline-block}\n",
       ".list-inline>li:not(:last-child)::after {content: \"\\00b7\"; padding: 0 .5ex}\n",
       "</style>\n",
       "<ol class=list-inline><li>TRUE</li><li>FALSE</li><li>TRUE</li><li>TRUE</li><li>FALSE</li></ol>\n"
      ],
      "text/latex": [
       "\\begin{enumerate*}\n",
       "\\item TRUE\n",
       "\\item FALSE\n",
       "\\item TRUE\n",
       "\\item TRUE\n",
       "\\item FALSE\n",
       "\\end{enumerate*}\n"
      ],
      "text/markdown": [
       "1. TRUE\n",
       "2. FALSE\n",
       "3. TRUE\n",
       "4. TRUE\n",
       "5. FALSE\n",
       "\n",
       "\n"
      ],
      "text/plain": [
       "[1]  TRUE FALSE  TRUE  TRUE FALSE"
      ]
     },
     "metadata": {},
     "output_type": "display_data"
    },
    {
     "data": {
      "text/html": [
       "<style>\n",
       ".list-inline {list-style: none; margin:0; padding: 0}\n",
       ".list-inline>li {display: inline-block}\n",
       ".list-inline>li:not(:last-child)::after {content: \"\\00b7\"; padding: 0 .5ex}\n",
       "</style>\n",
       "<ol class=list-inline><li>FALSE</li><li>FALSE</li><li>FALSE</li><li>TRUE</li><li>FALSE</li></ol>\n"
      ],
      "text/latex": [
       "\\begin{enumerate*}\n",
       "\\item FALSE\n",
       "\\item FALSE\n",
       "\\item FALSE\n",
       "\\item TRUE\n",
       "\\item FALSE\n",
       "\\end{enumerate*}\n"
      ],
      "text/markdown": [
       "1. FALSE\n",
       "2. FALSE\n",
       "3. FALSE\n",
       "4. TRUE\n",
       "5. FALSE\n",
       "\n",
       "\n"
      ],
      "text/plain": [
       "[1] FALSE FALSE FALSE  TRUE FALSE"
      ]
     },
     "metadata": {},
     "output_type": "display_data"
    },
    {
     "data": {
      "text/html": [
       "4"
      ],
      "text/latex": [
       "4"
      ],
      "text/markdown": [
       "4"
      ],
      "text/plain": [
       "[1] 4"
      ]
     },
     "metadata": {},
     "output_type": "display_data"
    },
    {
     "data": {
      "text/html": [
       "<style>\n",
       ".list-inline {list-style: none; margin:0; padding: 0}\n",
       ".list-inline>li {display: inline-block}\n",
       ".list-inline>li:not(:last-child)::after {content: \"\\00b7\"; padding: 0 .5ex}\n",
       "</style>\n",
       "<ol class=list-inline><li>'c_t'</li><li>'moose'</li><li>'imp_la'</li><li>'_nt'</li><li>'kiwi'</li></ol>\n"
      ],
      "text/latex": [
       "\\begin{enumerate*}\n",
       "\\item 'c\\_t'\n",
       "\\item 'moose'\n",
       "\\item 'imp\\_la'\n",
       "\\item '\\_nt'\n",
       "\\item 'kiwi'\n",
       "\\end{enumerate*}\n"
      ],
      "text/markdown": [
       "1. 'c_t'\n",
       "2. 'moose'\n",
       "3. 'imp_la'\n",
       "4. '_nt'\n",
       "5. 'kiwi'\n",
       "\n",
       "\n"
      ],
      "text/plain": [
       "[1] \"c_t\"    \"moose\"  \"imp_la\" \"_nt\"    \"kiwi\"  "
      ]
     },
     "metadata": {},
     "output_type": "display_data"
    },
    {
     "data": {
      "text/html": [
       "<style>\n",
       ".list-inline {list-style: none; margin:0; padding: 0}\n",
       ".list-inline>li {display: inline-block}\n",
       ".list-inline>li:not(:last-child)::after {content: \"\\00b7\"; padding: 0 .5ex}\n",
       "</style>\n",
       "<ol class=list-inline><li>'c_t'</li><li>'moose'</li><li>'imp_l_'</li><li>'_nt'</li><li>'kiwi'</li></ol>\n"
      ],
      "text/latex": [
       "\\begin{enumerate*}\n",
       "\\item 'c\\_t'\n",
       "\\item 'moose'\n",
       "\\item 'imp\\_l\\_'\n",
       "\\item '\\_nt'\n",
       "\\item 'kiwi'\n",
       "\\end{enumerate*}\n"
      ],
      "text/markdown": [
       "1. 'c_t'\n",
       "2. 'moose'\n",
       "3. 'imp_l_'\n",
       "4. '_nt'\n",
       "5. 'kiwi'\n",
       "\n",
       "\n"
      ],
      "text/plain": [
       "[1] \"c_t\"    \"moose\"  \"imp_l_\" \"_nt\"    \"kiwi\"  "
      ]
     },
     "metadata": {},
     "output_type": "display_data"
    }
   ],
   "source": [
    "animals <- c(\"cat\", \"moose\", \"impala\", \"ant\", \"kiwi\")\n",
    "\n",
    "# grepl() gives us logical values\n",
    "grepl(x = animals, pattern = \"a\")\n",
    "grepl(x = animals, pattern = \"^a\")\n",
    "\n",
    "# grep() gives us the matched index\n",
    "grep(x = animals, pattern = \"^a\")\n",
    "\n",
    "# sub() can replace the first patterns match in a string\n",
    "sub(x = animals, pattern = \"a\", replacement = \"_\")\n",
    "\n",
    "# gsub() is like sub() but replaces all matches in a string\n",
    "gsub(x = animals, pattern = \"a\", replacement = \"_\")"
   ]
  },
  {
   "cell_type": "code",
   "execution_count": 193,
   "id": "d8a43f2f-ba92-45f8-9fd4-adae671872c5",
   "metadata": {},
   "outputs": [
    {
     "data": {
      "text/html": [
       "<style>\n",
       ".list-inline {list-style: none; margin:0; padding: 0}\n",
       ".list-inline>li {display: inline-block}\n",
       ".list-inline>li:not(:last-child)::after {content: \"\\00b7\"; padding: 0 .5ex}\n",
       "</style>\n",
       "<ol class=list-inline><li>TRUE</li><li>TRUE</li><li>FALSE</li><li>TRUE</li><li>TRUE</li><li>FALSE</li></ol>\n"
      ],
      "text/latex": [
       "\\begin{enumerate*}\n",
       "\\item TRUE\n",
       "\\item TRUE\n",
       "\\item FALSE\n",
       "\\item TRUE\n",
       "\\item TRUE\n",
       "\\item FALSE\n",
       "\\end{enumerate*}\n"
      ],
      "text/markdown": [
       "1. TRUE\n",
       "2. TRUE\n",
       "3. FALSE\n",
       "4. TRUE\n",
       "5. TRUE\n",
       "6. FALSE\n",
       "\n",
       "\n"
      ],
      "text/plain": [
       "[1]  TRUE  TRUE FALSE  TRUE  TRUE FALSE"
      ]
     },
     "metadata": {},
     "output_type": "display_data"
    },
    {
     "data": {
      "text/html": [
       "<style>\n",
       ".list-inline {list-style: none; margin:0; padding: 0}\n",
       ".list-inline>li {display: inline-block}\n",
       ".list-inline>li:not(:last-child)::after {content: \"\\00b7\"; padding: 0 .5ex}\n",
       "</style>\n",
       "<ol class=list-inline><li>'john.doe@ivyleague.edu'</li><li>'education@world.gov'</li><li>'invalid.edu'</li><li>'quant@bigdatacollege.edu'</li></ol>\n"
      ],
      "text/latex": [
       "\\begin{enumerate*}\n",
       "\\item 'john.doe@ivyleague.edu'\n",
       "\\item 'education@world.gov'\n",
       "\\item 'invalid.edu'\n",
       "\\item 'quant@bigdatacollege.edu'\n",
       "\\end{enumerate*}\n"
      ],
      "text/markdown": [
       "1. 'john.doe@ivyleague.edu'\n",
       "2. 'education@world.gov'\n",
       "3. 'invalid.edu'\n",
       "4. 'quant@bigdatacollege.edu'\n",
       "\n",
       "\n"
      ],
      "text/plain": [
       "[1] \"john.doe@ivyleague.edu\"   \"education@world.gov\"     \n",
       "[3] \"invalid.edu\"              \"quant@bigdatacollege.edu\""
      ]
     },
     "metadata": {},
     "output_type": "display_data"
    }
   ],
   "source": [
    "emails <- c(\"john.doe@ivyleague.edu\", \"education@world.gov\", \"dalai.lama@peace.org\",\n",
    "            \"invalid.edu\", \"quant@bigdatacollege.edu\", \"cookie.monster@sesame.tv\")\n",
    "\n",
    "grepl(x = emails, pattern = \"edu\")\n",
    "\n",
    "# Subset emails \n",
    "hits <- grep(x = emails, pattern = \"edu\")\n",
    "emails[hits]"
   ]
  },
  {
   "cell_type": "code",
   "execution_count": 225,
   "id": "1f4fc03e-0aa2-420d-ad2c-62389444ce00",
   "metadata": {},
   "outputs": [
    {
     "data": {
      "text/html": [
       "<time datetime=\"2023-04-03\">2023-04-03</time>"
      ],
      "text/latex": [
       "2023-04-03"
      ],
      "text/markdown": [
       "2023-04-03"
      ],
      "text/plain": [
       "[1] \"2023-04-03\""
      ]
     },
     "metadata": {},
     "output_type": "display_data"
    },
    {
     "data": {
      "text/plain": [
       "[1] \"2023-04-03 16:54:44 CEST\""
      ]
     },
     "metadata": {},
     "output_type": "display_data"
    }
   ],
   "source": [
    "Sys.Date()\n",
    "Sys.time()"
   ]
  },
  {
   "cell_type": "code",
   "execution_count": 226,
   "id": "b7c6716c-2514-41c4-b6f8-b892ace7d84a",
   "metadata": {},
   "outputs": [
    {
     "data": {
      "text/html": [
       "19450"
      ],
      "text/latex": [
       "19450"
      ],
      "text/markdown": [
       "19450"
      ],
      "text/plain": [
       "[1] 19450"
      ]
     },
     "metadata": {},
     "output_type": "display_data"
    }
   ],
   "source": [
    "unclass(Sys.Date()) # R stores dates as numbers calculated from 1970.01.01"
   ]
  },
  {
   "cell_type": "code",
   "execution_count": 230,
   "id": "a51f1ae2-3ebd-4a53-9574-851c6046e9bf",
   "metadata": {},
   "outputs": [
    {
     "data": {
      "text/html": [
       "<time datetime=\"2023-04-04\">2023-04-04</time>"
      ],
      "text/latex": [
       "2023-04-04"
      ],
      "text/markdown": [
       "2023-04-04"
      ],
      "text/plain": [
       "[1] \"2023-04-04\""
      ]
     },
     "metadata": {},
     "output_type": "display_data"
    },
    {
     "data": {
      "text/plain": [
       "Time difference of 92 days"
      ]
     },
     "metadata": {},
     "output_type": "display_data"
    }
   ],
   "source": [
    "tomorrow <- Sys.Date() + 1\n",
    "tomorrow\n",
    "\n",
    "my_date <- as.Date(\"2023-01-01\")\n",
    "Sys.Date() - my_date"
   ]
  },
  {
   "cell_type": "code",
   "execution_count": 235,
   "id": "d453ca39-09bd-40be-8303-abee1c351bbd",
   "metadata": {},
   "outputs": [
    {
     "data": {
      "text/plain": [
       "Time differences in days\n",
       "[1] 2 5 6 5"
      ]
     },
     "metadata": {},
     "output_type": "display_data"
    },
    {
     "data": {
      "text/plain": [
       "Time difference of 4.5 days"
      ]
     },
     "metadata": {},
     "output_type": "display_data"
    }
   ],
   "source": [
    "dates <- as.Date(c(\"2023-03-16\", \"2023-03-18\", \"2023-03-23\", \"2023-03-29\", \"2023-04-03\"))\n",
    "diff(dates)\n",
    "mean(diff(dates))"
   ]
  },
  {
   "cell_type": "code",
   "execution_count": 212,
   "id": "36fa0e42-f7ec-4c65-8e56-5bf1020cedeb",
   "metadata": {},
   "outputs": [
    {
     "data": {
      "text/html": [
       "<style>\n",
       ".list-inline {list-style: none; margin:0; padding: 0}\n",
       ".list-inline>li {display: inline-block}\n",
       ".list-inline>li:not(:last-child)::after {content: \"\\00b7\"; padding: 0 .5ex}\n",
       "</style>\n",
       "<ol class=list-inline><li><time datetime=\"1965-01-05\">1965-01-05</time></li><li><time datetime=\"1975-08-16\">1975-08-16</time></li></ol>\n"
      ],
      "text/latex": [
       "\\begin{enumerate*}\n",
       "\\item 1965-01-05\n",
       "\\item 1975-08-16\n",
       "\\end{enumerate*}\n"
      ],
      "text/markdown": [
       "1. 1965-01-05\n",
       "2. 1975-08-16\n",
       "\n",
       "\n"
      ],
      "text/plain": [
       "[1] \"1965-01-05\" \"1975-08-16\""
      ]
     },
     "metadata": {},
     "output_type": "display_data"
    },
    {
     "data": {
      "text/plain": [
       "[1] \"1971-05-14 11:25:15 CET\""
      ]
     },
     "metadata": {},
     "output_type": "display_data"
    }
   ],
   "source": [
    "strDates <- c(\"01/05/1965\", \"08/16/1975\")\n",
    "as.Date(strDates, \"%m/%d/%Y\")\n",
    "\n",
    "as.POSIXct(\"1971-05-14 11:25:15\")"
   ]
  }
 ],
 "metadata": {
  "kernelspec": {
   "display_name": "R",
   "language": "R",
   "name": "ir"
  },
  "language_info": {
   "codemirror_mode": "r",
   "file_extension": ".r",
   "mimetype": "text/x-r-source",
   "name": "R",
   "pygments_lexer": "r",
   "version": "4.1.3"
  }
 },
 "nbformat": 4,
 "nbformat_minor": 5
}
