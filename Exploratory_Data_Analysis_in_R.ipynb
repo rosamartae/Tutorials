{
 "cells": [
  {
   "cell_type": "markdown",
   "id": "c9ffb8c8-5a05-4b67-bee1-5b197d8d1d2a",
   "metadata": {},
   "source": [
    "# Exploratory Data Analysis in R\n",
    "## -- DataCamp - Data Analyst Career Track - Course 7 --\n",
    "\n",
    " **Note**\n",
    "\n",
    "To use this code, select the R environment in Anaconda\n",
    " \n",
    " **Used packages**\n",
    " - tidyverse\n",
    " - rio \n",
    " - patchwork - multi-plot layouts\n",
    " - openintro - datasets\n",
    " \n",
    "**Table of content**\n",
    "- [&nbsp;&nbsp;1. Exploring Categorical Data](#toc_74821_1)\n",
    "    - [&nbsp;&nbsp;1.1 Count data](#toc_74821_1.1)\n",
    "    - [&nbsp;&nbsp;1.2 Proportions](#toc_74821_1.2)\n",
    "- [&nbsp;&nbsp;2. Exploring Numerical Data](#toc_74821_2)\n",
    "    - [&nbsp;&nbsp;2.1 Distribution of one variables](#toc_74821_2.1)\n",
    "    - [&nbsp;&nbsp;2.2 Distribution of two or more variables](#toc_74821_2.2)\n",
    "- [&nbsp;&nbsp;3. Numerical Summaries](#toc_74821_3)\n",
    "    - [&nbsp;&nbsp;3.1 Center measures](#toc_74821_3.1)\n",
    "    - [&nbsp;&nbsp;3.2 Measures of variability](#toc_74821_3.2)\n",
    "    - [&nbsp;&nbsp;3.3 Outliers](#toc_74821_3.3)"
   ]
  },
  {
   "cell_type": "markdown",
   "id": "29a43148-2d23-438d-ad1b-b3b0c6354758",
   "metadata": {},
   "source": [
    "**Set environment and plot size**"
   ]
  },
  {
   "cell_type": "code",
   "execution_count": 2,
   "id": "9a86474c-b822-4f1b-9d56-8dc6ae48f78d",
   "metadata": {},
   "outputs": [],
   "source": [
    "suppressMessages(library(tidyverse))\n",
    "suppressMessages(library(rio))\n",
    "suppressMessages(library(patchwork))\n",
    "options(repr.plot.width=7, repr.plot.height=7) # controls display format\n",
    "theme_set(theme_grey(base_size =10))"
   ]
  },
  {
   "cell_type": "markdown",
   "id": "4df21b78-b9df-4379-974f-4a088da7d397",
   "metadata": {},
   "source": [
    "Note: if the above code return an error message:\n",
    "- Check that the correct R environment is selected in Anaconda\n",
    "- Restart computer"
   ]
  },
  {
   "cell_type": "markdown",
   "id": "e7f1bb63-a0b5-4c8e-a09e-6181f18f5104",
   "metadata": {},
   "source": [
    "**Import data**"
   ]
  },
  {
   "cell_type": "code",
   "execution_count": 3,
   "id": "e59a1bc7-d23c-4198-96a8-0b7816d5baaa",
   "metadata": {},
   "outputs": [],
   "source": [
    "cars <- import(\"data/cars04.csv\")\n",
    "comics <- import(\"data/comics.csv\")\n",
    "life <- import(\"data/life_exp_raw.csv\")"
   ]
  },
  {
   "cell_type": "markdown",
   "id": "5ef6708a-646f-4590-96b2-8ad54d617a40",
   "metadata": {},
   "source": [
    "<a name=\"toc_74821_1\"></a>\n",
    "## 1.   Exploring Categorical Data\n",
    "Some common EDA options for categorical data:\n",
    "- Contingency tables\n",
    "- Proportion tables (conditional)\n",
    "- Bar charts (stacked, dodged, filled, faceted)\n",
    "- pie charts"
   ]
  },
  {
   "cell_type": "code",
   "execution_count": 4,
   "id": "5827da19-3507-4993-a72b-3d3e1fe91df3",
   "metadata": {},
   "outputs": [
    {
     "name": "stdout",
     "output_type": "stream",
     "text": [
      "Rows: 23,272\n",
      "Columns: 11\n",
      "$ name         \u001b[3m\u001b[90m<fct>\u001b[39m\u001b[23m \"Spider-Man (Peter Parker)\", \"Captain America (Steven Rog~\n",
      "$ id           \u001b[3m\u001b[90m<fct>\u001b[39m\u001b[23m Secret, Public, Public, Public, No Dual, Public, Public, ~\n",
      "$ align        \u001b[3m\u001b[90m<fct>\u001b[39m\u001b[23m Good, Good, Neutral, Good, Good, Good, Good, Good, Neutra~\n",
      "$ eye          \u001b[3m\u001b[90m<fct>\u001b[39m\u001b[23m Hazel Eyes, Blue Eyes, Blue Eyes, Blue Eyes, Blue Eyes, B~\n",
      "$ hair         \u001b[3m\u001b[90m<fct>\u001b[39m\u001b[23m Brown Hair, White Hair, Black Hair, Black Hair, Blond Hai~\n",
      "$ gender       \u001b[3m\u001b[90m<fct>\u001b[39m\u001b[23m Male, Male, Male, Male, Male, Male, Male, Male, Male, Mal~\n",
      "$ gsm          \u001b[3m\u001b[90m<fct>\u001b[39m\u001b[23m NA, NA, NA, NA, NA, NA, NA, NA, NA, NA, NA, NA, NA, NA, N~\n",
      "$ alive        \u001b[3m\u001b[90m<fct>\u001b[39m\u001b[23m Living Characters, Living Characters, Living Characters, ~\n",
      "$ appearances  \u001b[3m\u001b[90m<int>\u001b[39m\u001b[23m 4043, 3360, 3061, 2961, 2258, 2255, 2072, 2017, 1955, 193~\n",
      "$ first_appear \u001b[3m\u001b[90m<fct>\u001b[39m\u001b[23m \"Aug-62\", \"Mar-41\", \"Oct-74\", \"Mar-63\", \"Nov-50\", \"Nov-61~\n",
      "$ publisher    \u001b[3m\u001b[90m<fct>\u001b[39m\u001b[23m marvel, marvel, marvel, marvel, marvel, marvel, marvel, m~\n"
     ]
    }
   ],
   "source": [
    "comics <- comics %>%\n",
    " mutate_if(is.character, as.factor)\n",
    "\n",
    "glimpse(comics)"
   ]
  },
  {
   "cell_type": "markdown",
   "id": "b312bff4-0e2e-4e6b-8dc8-a5365838b38e",
   "metadata": {},
   "source": [
    "<a name=\"toc_74821_1.1\"></a>\n",
    "**1.1 Count data**"
   ]
  },
  {
   "cell_type": "code",
   "execution_count": 4,
   "id": "ec98be94-8337-4787-b8cd-d1ebc67164f6",
   "metadata": {},
   "outputs": [
    {
     "data": {
      "text/html": [
       "<style>\n",
       ".list-inline {list-style: none; margin:0; padding: 0}\n",
       ".list-inline>li {display: inline-block}\n",
       ".list-inline>li:not(:last-child)::after {content: \"\\00b7\"; padding: 0 .5ex}\n",
       "</style>\n",
       "<ol class=list-inline><li>'Bad'</li><li>'Good'</li><li>'Neutral'</li><li>'Reformed Criminals'</li></ol>\n"
      ],
      "text/latex": [
       "\\begin{enumerate*}\n",
       "\\item 'Bad'\n",
       "\\item 'Good'\n",
       "\\item 'Neutral'\n",
       "\\item 'Reformed Criminals'\n",
       "\\end{enumerate*}\n"
      ],
      "text/markdown": [
       "1. 'Bad'\n",
       "2. 'Good'\n",
       "3. 'Neutral'\n",
       "4. 'Reformed Criminals'\n",
       "\n",
       "\n"
      ],
      "text/plain": [
       "[1] \"Bad\"                \"Good\"               \"Neutral\"           \n",
       "[4] \"Reformed Criminals\""
      ]
     },
     "metadata": {},
     "output_type": "display_data"
    }
   ],
   "source": [
    "levels(comics$align)"
   ]
  },
  {
   "cell_type": "markdown",
   "id": "ded7651a-e16c-4322-bab9-9977ad864e13",
   "metadata": {},
   "source": [
    "**Marginal distribution** is a distribution of a variable that ignores a more extensive set of related variables in a dataset. We can see the marginal distribution of a variable using the `table()` function on only the given variable."
   ]
  },
  {
   "cell_type": "code",
   "execution_count": 5,
   "id": "7ef22162-178d-463e-898e-1d807b5ffd72",
   "metadata": {},
   "outputs": [],
   "source": [
    "comics_filtered <- comics %>%\n",
    "  filter(align != \"Reformed Criminals\") %>% # drop level with fewest total entries\n",
    "  droplevels() #  drop unused factor levels "
   ]
  },
  {
   "cell_type": "code",
   "execution_count": 6,
   "id": "7cee5d94-c63e-46b0-b31a-9a8eed8bffb6",
   "metadata": {},
   "outputs": [
    {
     "data": {
      "text/plain": [
       "\n",
       "No Dual  Public  Secret Unknown \n",
       "   1511    6067    7927       9 "
      ]
     },
     "metadata": {},
     "output_type": "display_data"
    }
   ],
   "source": [
    "table(comics_filtered$id)"
   ]
  },
  {
   "cell_type": "code",
   "execution_count": 8,
   "id": "c8edf904-d82c-44bc-af5c-d164b0d5080a",
   "metadata": {},
   "outputs": [
    {
     "ename": "ERROR",
     "evalue": "Error in png(tf, width, height, \"in\", pointsize, bg, res, antialias = antialias): unable to start png() device\n",
     "output_type": "error",
     "traceback": [
      "Error in png(tf, width, height, \"in\", pointsize, bg, res, antialias = antialias): unable to start png() device\nTraceback:\n"
     ]
    },
    {
     "data": {
      "text/plain": [
       "plot without title"
      ]
     },
     "metadata": {
      "image/png": {
       "height": 420,
       "width": 420
      }
     },
     "output_type": "display_data"
    }
   ],
   "source": [
    "ggplot(comics_filtered, aes(x = id)) +\n",
    "  geom_bar()"
   ]
  },
  {
   "cell_type": "code",
   "execution_count": 8,
   "id": "97481365-6e45-48f1-b0ac-452508cdcdce",
   "metadata": {},
   "outputs": [
    {
     "data": {
      "image/png": "[encoded data removed]",
      "text/plain": [
       "plot without title"
      ]
     },
     "metadata": {
      "image/png": {
       "height": 420,
       "width": 420
      }
     },
     "output_type": "display_data"
    }
   ],
   "source": [
    "ggplot(comics_filtered, aes(x = \"\", fill = id)) +\n",
    "  geom_bar() +\n",
    "  coord_polar(\"y\", start=0)"
   ]
  },
  {
   "cell_type": "markdown",
   "id": "2a62ce54-8c42-4688-ab4f-5197604fa1e5",
   "metadata": {},
   "source": [
    "☝️ Same information as above but can be less readable."
   ]
  },
  {
   "cell_type": "markdown",
   "id": "111c2447-17ab-4a52-96b7-0e1d49be73ea",
   "metadata": {},
   "source": [
    "**Conditional distribution**: is a distribution of values for one variable that exists when you specify the values of other variables. The table below shows the relative frequency of each category of variable."
   ]
  },
  {
   "cell_type": "code",
   "execution_count": 9,
   "id": "6ae368b6-eaf5-4b9f-adf2-2b3dcbba1f13",
   "metadata": {},
   "outputs": [
    {
     "data": {
      "text/plain": [
       "         \n",
       "           Bad Good Neutral Reformed Criminals\n",
       "  No Dual  474  647     390                  0\n",
       "  Public  2172 2930     965                  1\n",
       "  Secret  4493 2475     959                  1\n",
       "  Unknown    7    0       2                  0"
      ]
     },
     "metadata": {},
     "output_type": "display_data"
    }
   ],
   "source": [
    "# Create a 2-way contingency table\n",
    "table(comics$id, comics$align)"
   ]
  },
  {
   "cell_type": "markdown",
   "id": "c621dcaf-06db-4373-a5ec-febef5c99040",
   "metadata": {},
   "source": [
    "☝️ The most common category is Bad characters with Secret identities."
   ]
  },
  {
   "cell_type": "markdown",
   "id": "2e6f979b-ec53-4267-9314-08106b7287f1",
   "metadata": {},
   "source": [
    "Let's visualize these conditional distributions:"
   ]
  },
  {
   "cell_type": "code",
   "execution_count": 10,
   "id": "47a9e244-bc5e-426b-a911-f029da172741",
   "metadata": {},
   "outputs": [
    {
     "data": {
      "image/png": "[encoded data removed]",
      "text/plain": [
       "plot without title"
      ]
     },
     "metadata": {
      "image/png": {
       "height": 420,
       "width": 420
      }
     },
     "output_type": "display_data"
    }
   ],
   "source": [
    "comics %>%\n",
    "  ggplot(aes(x = id, fill = align)) +\n",
    "  geom_bar()"
   ]
  },
  {
   "cell_type": "code",
   "execution_count": 11,
   "id": "7dfb7231-7bfd-4599-9a7a-7f3e00f68d07",
   "metadata": {},
   "outputs": [
    {
     "data": {
      "image/png": "[encoded data removed]",
      "text/plain": [
       "plot without title"
      ]
     },
     "metadata": {
      "image/png": {
       "height": 420,
       "width": 420
      }
     },
     "output_type": "display_data"
    }
   ],
   "source": [
    "# Create side-by-side bar chart of gender by alignment\n",
    "ggplot(comics_filtered, aes(x = align, fill = gender)) + \n",
    "  geom_bar(position = \"dodge\")"
   ]
  },
  {
   "cell_type": "code",
   "execution_count": 12,
   "id": "c4cdd5e5-167a-48fb-b399-1888ef18b89f",
   "metadata": {},
   "outputs": [
    {
     "data": {
      "image/png": "[encoded data removed]",
      "text/plain": [
       "plot without title"
      ]
     },
     "metadata": {
      "image/png": {
       "height": 420,
       "width": 420
      }
     },
     "output_type": "display_data"
    }
   ],
   "source": [
    "# Create side-by-side bar chart of alignment by gender\n",
    "ggplot(comics_filtered, aes(x = gender, fill = align)) + \n",
    "  geom_bar(position = \"dodge\") +\n",
    "   theme(axis.text.x = element_text(angle = 90))"
   ]
  },
  {
   "cell_type": "code",
   "execution_count": 13,
   "id": "a7a90ae5-f87f-4bd8-b986-5df8bf02f767",
   "metadata": {},
   "outputs": [
    {
     "data": {
      "image/png": "[encoded data removed]",
      "text/plain": [
       "plot without title"
      ]
     },
     "metadata": {
      "image/png": {
       "height": 420,
       "width": 420
      }
     },
     "output_type": "display_data"
    }
   ],
   "source": [
    "# Faceting\n",
    "ggplot(comics_filtered, aes(x = id)) +\n",
    "  geom_bar() +\n",
    "  facet_wrap(~align)"
   ]
  },
  {
   "cell_type": "markdown",
   "id": "3292c26b-cc00-4fed-a6af-eb7bac76ba86",
   "metadata": {},
   "source": [
    "☝️ This is basically a broken down stacked, (dodged) barchart where each facet represent one bar."
   ]
  },
  {
   "cell_type": "markdown",
   "id": "bea224e7-dcf7-4fd1-b0f7-d2516d3d7ed3",
   "metadata": {},
   "source": [
    "<a name=\"toc_74821_1.2\"></a>\n",
    "**1.2 Proportions**"
   ]
  },
  {
   "cell_type": "markdown",
   "id": "6996eef1-0130-41df-8dee-764fb90f6e84",
   "metadata": {},
   "source": [
    "**Marginal proportions**: When all values in a contingency table adds up to 100%"
   ]
  },
  {
   "cell_type": "code",
   "execution_count": 14,
   "id": "febdc0a7-01b3-489b-9aa1-6ea25025e4de",
   "metadata": {},
   "outputs": [
    {
     "data": {
      "text/plain": [
       "         \n",
       "                   Bad         Good      Neutral\n",
       "  No Dual 0.0305530489 0.0417042671 0.0251385845\n",
       "  Public  0.1400025783 0.1888616733 0.0622018822\n",
       "  Secret  0.2896093851 0.1595333247 0.0618151347\n",
       "  Unknown 0.0004512054 0.0000000000 0.0001289158"
      ]
     },
     "metadata": {},
     "output_type": "display_data"
    },
    {
     "data": {
      "text/html": [
       "1"
      ],
      "text/latex": [
       "1"
      ],
      "text/markdown": [
       "1"
      ],
      "text/plain": [
       "[1] 1"
      ]
     },
     "metadata": {},
     "output_type": "display_data"
    }
   ],
   "source": [
    "tab_cnt <- table(comics_filtered$id, comics_filtered$align)\n",
    "prop.table(tab_cnt) # convert to a proportion table\n",
    "sum(prop.table(tab_cnt))"
   ]
  },
  {
   "cell_type": "markdown",
   "id": "1361a3e9-b02f-40e8-a966-00d907b6efc6",
   "metadata": {},
   "source": [
    "☝️  29% of chatacters are \"Secret Bad\". The sum of all propoprtions is 1."
   ]
  },
  {
   "cell_type": "markdown",
   "id": "8a58432d-659e-449c-ac8a-b2561ef67a05",
   "metadata": {},
   "source": [
    "**Conditional proportions** shows a systematic associations between variables. For example the proportion of public identity characters that are good. To build a table of these conditional proportions, add a 1 as the second argument, specifying that you'd like to condition on the rows. "
   ]
  },
  {
   "cell_type": "code",
   "execution_count": 15,
   "id": "dcc5960a-a3d5-4492-9fe0-586d81f926a4",
   "metadata": {},
   "outputs": [
    {
     "data": {
      "text/plain": [
       "         \n",
       "                Bad      Good   Neutral\n",
       "  No Dual 0.3136995 0.4281932 0.2581072\n",
       "  Public  0.3580023 0.4829405 0.1590572\n",
       "  Secret  0.5667970 0.3122240 0.1209789\n",
       "  Unknown 0.7777778 0.0000000 0.2222222"
      ]
     },
     "metadata": {},
     "output_type": "display_data"
    }
   ],
   "source": [
    "prop.table(tab_cnt, 1) # row proportions"
   ]
  },
  {
   "cell_type": "markdown",
   "id": "83b88600-137b-474d-98de-faf8ac98185e",
   "metadata": {},
   "source": [
    "☝️ 31% of Secret characters are Bad."
   ]
  },
  {
   "cell_type": "code",
   "execution_count": 16,
   "id": "8b1938f3-04e4-4295-8dc8-b59223e92922",
   "metadata": {},
   "outputs": [
    {
     "data": {
      "text/plain": [
       "         \n",
       "                   Bad         Good      Neutral\n",
       "  No Dual 0.0663308144 0.1069068077 0.1683937824\n",
       "  Public  0.3039462636 0.4841374752 0.4166666667\n",
       "  Secret  0.6287433529 0.4089557171 0.4140759931\n",
       "  Unknown 0.0009795690 0.0000000000 0.0008635579"
      ]
     },
     "metadata": {},
     "output_type": "display_data"
    }
   ],
   "source": [
    "prop.table(tab_cnt, 2) # column proportions"
   ]
  },
  {
   "cell_type": "markdown",
   "id": "54464b51-d38c-4217-b886-f8eda7011e21",
   "metadata": {},
   "source": [
    "☝️ 63% of Bad characters are Secret."
   ]
  },
  {
   "cell_type": "markdown",
   "id": "3ab642e8-06a9-4f99-b96a-0ec103f3a12a",
   "metadata": {},
   "source": [
    "Let's visualize conditional proportions:"
   ]
  },
  {
   "cell_type": "code",
   "execution_count": 17,
   "id": "be1884b7-6a29-4cdf-a5c8-cefcf0b6cc8f",
   "metadata": {},
   "outputs": [
    {
     "data": {
      "image/png": "[encoded data removed]",
      "text/plain": [
       "plot without title"
      ]
     },
     "metadata": {
      "image/png": {
       "height": 420,
       "width": 420
      }
     },
     "output_type": "display_data"
    }
   ],
   "source": [
    "ggplot(comics_filtered, aes(x = id, fill = align)) + \n",
    "  geom_bar(position = \"fill\") +\n",
    "  labs(y = \"proportion\")"
   ]
  },
  {
   "cell_type": "markdown",
   "id": "f2497b38-5837-4bfc-ae18-4e7b48d814e9",
   "metadata": {},
   "source": [
    "☝️ Each bar sums up to 1 (100%)"
   ]
  },
  {
   "cell_type": "markdown",
   "id": "373f7967-355e-4869-ae33-8d1e8d9cc389",
   "metadata": {
    "tags": []
   },
   "source": [
    "<a name=\"toc_74821_2\"></a>\n",
    "## 2.   Exploring Numerical Data"
   ]
  },
  {
   "cell_type": "markdown",
   "id": "4299b84f-a6c2-473a-b6a7-6936ffaaa1cb",
   "metadata": {},
   "source": [
    "<a name=\"toc_74821_2.1\"></a>\n",
    "**2.1 Distribution of one variable**"
   ]
  },
  {
   "cell_type": "code",
   "execution_count": 18,
   "id": "cd9a10e7-4bd2-434b-b3fb-2e0c5b9f4c89",
   "metadata": {},
   "outputs": [],
   "source": [
    "hs <- ggplot(cars, aes(weight)) +\n",
    " geom_histogram(bins = 30)  # always choose a meaningful bin size\n",
    "\n",
    "ds <- ggplot(cars, aes(weight)) +\n",
    " geom_density(bw = 200) # always choose a meaningful bin size\n",
    "\n",
    "bx <- ggplot(cars, aes(weight)) +\n",
    " geom_boxplot()"
   ]
  },
  {
   "cell_type": "code",
   "execution_count": 19,
   "id": "bff42ea9-4a97-465e-ada1-741fdc1083fe",
   "metadata": {},
   "outputs": [
    {
     "name": "stderr",
     "output_type": "stream",
     "text": [
      "Warning message:\n",
      "\"\u001b[1m\u001b[22mRemoved 2 rows containing non-finite values (`stat_bin()`).\"\n",
      "Warning message:\n",
      "\"\u001b[1m\u001b[22mRemoved 2 rows containing non-finite values (`stat_density()`).\"\n",
      "Warning message:\n",
      "\"\u001b[1m\u001b[22mRemoved 2 rows containing non-finite values (`stat_boxplot()`).\"\n"
     ]
    },
    {
     "data": {
      "image/png": "[encoded data removed]",
      "text/plain": [
       "plot without title"
      ]
     },
     "metadata": {
      "image/png": {
       "height": 420,
       "width": 420
      }
     },
     "output_type": "display_data"
    }
   ],
   "source": [
    "# Multi-panel plot using patchwork syntax\n",
    "hs / ds / bx"
   ]
  },
  {
   "cell_type": "markdown",
   "id": "c2642340-0d5a-47ae-a87b-649494c57274",
   "metadata": {},
   "source": [
    "☝️ These are a marginal distribution plots, because they contains information among only one variable.\n",
    "\n",
    "Note: always look at the data with more than one way! E.g. if there were more than 2 modes (i.e. 2 peaks), we wouldn't see that in the boxplot."
   ]
  },
  {
   "cell_type": "markdown",
   "id": "a912d7ff-695e-496b-959e-09ebd71efe60",
   "metadata": {},
   "source": [
    "<a name=\"toc_74821_2.2\"></a>\n",
    "**2.2 Distribution of two or more variables**"
   ]
  },
  {
   "cell_type": "markdown",
   "id": "3a29dac1-b130-4af3-b83e-48d4adb0ab5d",
   "metadata": {},
   "source": [
    "Faceting is a great way to compare distributions"
   ]
  },
  {
   "cell_type": "code",
   "execution_count": 20,
   "id": "521de825-7029-4333-bc7c-e6daef2d37ba",
   "metadata": {},
   "outputs": [
    {
     "name": "stderr",
     "output_type": "stream",
     "text": [
      "\u001b[1m\u001b[22m`stat_bin()` using `bins = 30`. Pick better value with `binwidth`.\n",
      "Warning message:\n",
      "\"\u001b[1m\u001b[22mRemoved 2 rows containing non-finite values (`stat_bin()`).\"\n"
     ]
    },
    {
     "data": {
      "image/png": "[encoded data removed]",
      "text/plain": [
       "plot without title"
      ]
     },
     "metadata": {
      "image/png": {
       "height": 420,
       "width": 420
      }
     },
     "output_type": "display_data"
    }
   ],
   "source": [
    "ggplot(cars, aes(weight)) +\n",
    " geom_histogram() +\n",
    " facet_wrap(~pickup)"
   ]
  },
  {
   "cell_type": "markdown",
   "id": "5b7f2358-ee68-4ec3-9f25-5e05d4ec9243",
   "metadata": {},
   "source": [
    "☝️ it's clear that are many more non-pickups than pickups."
   ]
  },
  {
   "cell_type": "code",
   "execution_count": 21,
   "id": "e6c28e36-ba35-46ce-b6f8-e6f733c91cc5",
   "metadata": {},
   "outputs": [
    {
     "name": "stderr",
     "output_type": "stream",
     "text": [
      "Warning message:\n",
      "\"\u001b[1m\u001b[22mRemoved 11 rows containing non-finite values (`stat_boxplot()`).\"\n"
     ]
    },
    {
     "data": {
      "image/png": "[encoded data removed]",
      "text/plain": [
       "plot without title"
      ]
     },
     "metadata": {
      "image/png": {
       "height": 420,
       "width": 420
      }
     },
     "output_type": "display_data"
    }
   ],
   "source": [
    "# Filter cars with 4, 6, 8 cylinders\n",
    "common_cyl <- cars %>% filter(ncyl %in% c(4, 6, 8 ))\n",
    "\n",
    "# Create box plots of city mpg by ncyl\n",
    "ggplot(common_cyl, aes(x = as.factor(ncyl), y = city_mpg)) +\n",
    "  geom_boxplot()"
   ]
  },
  {
   "cell_type": "code",
   "execution_count": 22,
   "id": "db6e93d2-2a35-44bd-95a2-026f27ea3815",
   "metadata": {},
   "outputs": [
    {
     "name": "stderr",
     "output_type": "stream",
     "text": [
      "Warning message:\n",
      "\"\u001b[1m\u001b[22mRemoved 11 rows containing non-finite values (`stat_density()`).\"\n"
     ]
    },
    {
     "data": {
      "image/png": "[encoded data removed]",
      "text/plain": [
       "plot without title"
      ]
     },
     "metadata": {
      "image/png": {
       "height": 420,
       "width": 420
      }
     },
     "output_type": "display_data"
    }
   ],
   "source": [
    "# Create overlaid density plots for same data\n",
    "ggplot(common_cyl, aes(x = city_mpg, fill = as.factor(ncyl))) +\n",
    "  geom_density(alpha = .3)"
   ]
  },
  {
   "cell_type": "markdown",
   "id": "ca6fba3e-da25-497d-ad60-50ee85219317",
   "metadata": {},
   "source": [
    "☝️ Some interpretations:\n",
    "- The highest mileage cars have 4 cylinders.\n",
    "- The typical 4 cylinder car gets better mileage than the typical 6 cylinder car, which gets better mileage than the typical 8 cylinder car.\n",
    "- Most of the 4 cylinder cars get better mileage than even the most efficient 8 cylinder cars."
   ]
  },
  {
   "cell_type": "code",
   "execution_count": 23,
   "id": "03d084c9-1a3b-419a-9d4b-2a68c37cb53e",
   "metadata": {},
   "outputs": [
    {
     "data": {
      "image/png": "[encoded data removed]",
      "text/plain": [
       "plot without title"
      ]
     },
     "metadata": {
      "image/png": {
       "height": 420,
       "width": 420
      }
     },
     "output_type": "display_data"
    }
   ],
   "source": [
    "ggplot(cars, aes(x = msrp)) +\n",
    "       geom_density() +\n",
    "       facet_grid(pickup ~ rear_wheel, labeller = label_both)"
   ]
  },
  {
   "cell_type": "markdown",
   "id": "82c4c252-5dac-48e4-9251-1cf1532c0756",
   "metadata": {},
   "source": [
    "<u>Distribution of more than 2 variables**</u>\n",
    "\n",
    "We can use the following to add more levels to our visualization:\n",
    "- shape\n",
    "- size\n",
    "- pattern\n",
    "- movement\n",
    "- x- | y-coordinate"
   ]
  },
  {
   "cell_type": "markdown",
   "id": "f8050af3-daee-41a9-ba14-093bde4e41ee",
   "metadata": {},
   "source": [
    "<a name=\"toc_74821_3\"></a>\n",
    "## 3.   Numerical Summaries"
   ]
  },
  {
   "cell_type": "markdown",
   "id": "4cead6a3-f63f-4135-b165-4b556c62a86c",
   "metadata": {},
   "source": [
    "<a name=\"toc_74821_3.1\"></a>\n",
    "**3.1 Center measures**"
   ]
  },
  {
   "cell_type": "markdown",
   "id": "461c8d66-9f20-42d0-bb60-ce8377e532c2",
   "metadata": {},
   "source": [
    "The choice of measure for center can have a dramatic impact on what we consider to be a typical observation, so it is important that we consider the shape of the distribution before deciding on the measure! \n",
    "Most commonly used center measures:\n",
    "- Mean \n",
    "- Median - better than mean if the distribution is skewed\n",
    "- Mode"
   ]
  },
  {
   "cell_type": "code",
   "execution_count": 24,
   "id": "2394eb69-e6bc-4420-bb10-bd534b87a6e2",
   "metadata": {},
   "outputs": [],
   "source": [
    "# Prepare dataset\n",
    "life2 <-\n",
    "  life[,c(1, 2, 4, 5, 8)]\n",
    "  names(life2) <- c(\"State\", \"County\", \"Year\", \"exp_F\", \"exp_M\")"
   ]
  },
  {
   "cell_type": "code",
   "execution_count": 25,
   "id": "cd9aea76-0cea-42d8-8487-12c425d26d5a",
   "metadata": {},
   "outputs": [
    {
     "data": {
      "text/plain": [
       "   Min. 1st Qu.  Median    Mean 3rd Qu.    Max. \n",
       "  72.33   77.69   78.86   78.78   79.93   85.02 "
      ]
     },
     "metadata": {},
     "output_type": "display_data"
    }
   ],
   "source": [
    "summary(life2$exp_F)"
   ]
  },
  {
   "cell_type": "code",
   "execution_count": 26,
   "id": "b7f931c7-b4cb-47cf-863d-59bd71a7bb43",
   "metadata": {},
   "outputs": [
    {
     "data": {
      "text/html": [
       "<table class=\"dataframe\">\n",
       "<caption>A tibble: 3 × 3</caption>\n",
       "<thead>\n",
       "\t<tr><th scope=col>County</th><th scope=col>mean(exp_F)</th><th scope=col>median(exp_F)</th></tr>\n",
       "\t<tr><th scope=col>&lt;chr&gt;</th><th scope=col>&lt;dbl&gt;</th><th scope=col>&lt;dbl&gt;</th></tr>\n",
       "</thead>\n",
       "<tbody>\n",
       "\t<tr><td>Abbeville County</td><td>77.89192</td><td>77.640</td></tr>\n",
       "\t<tr><td>Acadia Parish   </td><td>75.76346</td><td>75.815</td></tr>\n",
       "\t<tr><td>Accomack County </td><td>76.72577</td><td>76.945</td></tr>\n",
       "</tbody>\n",
       "</table>\n"
      ],
      "text/latex": [
       "A tibble: 3 × 3\n",
       "\\begin{tabular}{lll}\n",
       " County & mean(exp\\_F) & median(exp\\_F)\\\\\n",
       " <chr> & <dbl> & <dbl>\\\\\n",
       "\\hline\n",
       "\t Abbeville County & 77.89192 & 77.640\\\\\n",
       "\t Acadia Parish    & 75.76346 & 75.815\\\\\n",
       "\t Accomack County  & 76.72577 & 76.945\\\\\n",
       "\\end{tabular}\n"
      ],
      "text/markdown": [
       "\n",
       "A tibble: 3 × 3\n",
       "\n",
       "| County &lt;chr&gt; | mean(exp_F) &lt;dbl&gt; | median(exp_F) &lt;dbl&gt; |\n",
       "|---|---|---|\n",
       "| Abbeville County | 77.89192 | 77.640 |\n",
       "| Acadia Parish    | 75.76346 | 75.815 |\n",
       "| Accomack County  | 76.72577 | 76.945 |\n",
       "\n"
      ],
      "text/plain": [
       "  County           mean(exp_F) median(exp_F)\n",
       "1 Abbeville County 77.89192    77.640       \n",
       "2 Acadia Parish    75.76346    75.815       \n",
       "3 Accomack County  76.72577    76.945       "
      ]
     },
     "metadata": {},
     "output_type": "display_data"
    }
   ],
   "source": [
    "life2 %>%\n",
    "  group_by(County) %>%\n",
    "  summarize(mean(exp_F),\n",
    "            median(exp_F)\n",
    "            ) %>%\n",
    "  head(3)"
   ]
  },
  {
   "cell_type": "markdown",
   "id": "4ff41514-3d15-4007-a5ba-e0e87b00ce5e",
   "metadata": {},
   "source": [
    "<a name=\"toc_74821_3.2\"></a>\n",
    "**3.2 Measures of variability**"
   ]
  },
  {
   "cell_type": "markdown",
   "id": "93721941-71dc-4b31-ba4f-1c87e0613ee8",
   "metadata": {},
   "source": [
    "Some common measures of variability:\n",
    "- range $\\leftarrow$ can be misleading when there are outliers\n",
    "- variance $\\leftarrow$ `sum((x - mean(x))^2) / (n - 1)`, not really meaningful\n",
    "- standard deviation (SD)  $\\leftarrow$ `sqrt(var)` - has the same unit as x\n",
    "- interquartile range (IQR)  $\\leftarrow$ good for highly skewed distributions or for data with outliers (report it with median)\n",
    "- CV% $\\leftarrow$ independent from the scale of values"
   ]
  },
  {
   "attachments": {
    "6be2fa69-6ec2-4a5d-9f68-4f6192cb5f08.PNG": {
     "image/png": "[encoded data removed]"
    }
   },
   "cell_type": "markdown",
   "id": "e783262b-e249-461d-9610-f98ba2303da2",
   "metadata": {},
   "source": [
    "<div>\n",
    " <img src=\"attachment:6be2fa69-6ec2-4a5d-9f68-4f6192cb5f08.PNG\" width=\"700\">\n",
    "</div>\n",
    "\n",
    "**A:** unimodal left-skewed; **B:** unimodal symmetric; **C:** unimodal right-skewed, **D:** bimodal symmetric."
   ]
  },
  {
   "cell_type": "code",
   "execution_count": 27,
   "id": "7b387c89-81b9-4a5c-981f-489d26f4157f",
   "metadata": {},
   "outputs": [
    {
     "data": {
      "image/png": "[encoded data removed]",
      "text/plain": [
       "plot without title"
      ]
     },
     "metadata": {
      "image/png": {
       "height": 420,
       "width": 420
      }
     },
     "output_type": "display_data"
    }
   ],
   "source": [
    "ggplot(life2, aes(exp_F)) +\n",
    "  geom_density() +\n",
    "  theme_bw()"
   ]
  },
  {
   "cell_type": "code",
   "execution_count": 28,
   "id": "38e53ca0-f459-4899-9c47-005126bef482",
   "metadata": {},
   "outputs": [
    {
     "data": {
      "text/html": [
       "12.69"
      ],
      "text/latex": [
       "12.69"
      ],
      "text/markdown": [
       "12.69"
      ],
      "text/plain": [
       "[1] 12.69"
      ]
     },
     "metadata": {},
     "output_type": "display_data"
    },
    {
     "data": {
      "text/html": [
       "2.82219579719165"
      ],
      "text/latex": [
       "2.82219579719165"
      ],
      "text/markdown": [
       "2.82219579719165"
      ],
      "text/plain": [
       "[1] 2.822196"
      ]
     },
     "metadata": {},
     "output_type": "display_data"
    },
    {
     "data": {
      "text/html": [
       "1.67993922425534"
      ],
      "text/latex": [
       "1.67993922425534"
      ],
      "text/markdown": [
       "1.67993922425534"
      ],
      "text/plain": [
       "[1] 1.679939"
      ]
     },
     "metadata": {},
     "output_type": "display_data"
    },
    {
     "data": {
      "text/html": [
       "2.24000000000001"
      ],
      "text/latex": [
       "2.24000000000001"
      ],
      "text/markdown": [
       "2.24000000000001"
      ],
      "text/plain": [
       "[1] 2.24"
      ]
     },
     "metadata": {},
     "output_type": "display_data"
    }
   ],
   "source": [
    "diff(range(life2$exp_F))\n",
    "var(life2$exp_F)\n",
    "sd(life2$exp_F)\n",
    "IQR(life2$exp_F)"
   ]
  },
  {
   "cell_type": "markdown",
   "id": "49663509-4b65-4280-944d-52a6e2eb831d",
   "metadata": {},
   "source": [
    "Highly skewed distributions can make it very difficult to learn anything from a visualization. **Transformations** (e.g. log()) can be helpful in revealing the more subtle structure. It may make the distribution more symmetric."
   ]
  },
  {
   "cell_type": "code",
   "execution_count": 29,
   "id": "bd89fef0-dfb4-4313-b377-3cc43d8779f0",
   "metadata": {},
   "outputs": [
    {
     "data": {
      "image/png": "[encoded data removed]",
      "text/plain": [
       "plot without title"
      ]
     },
     "metadata": {
      "image/png": {
       "height": 420,
       "width": 420
      }
     },
     "output_type": "display_data"
    }
   ],
   "source": [
    "ggplot(cars, aes(x = msrp)) +\n",
    "       geom_density() +\n",
    "       facet_grid(pickup ~ rear_wheel, labeller = label_both)"
   ]
  },
  {
   "cell_type": "code",
   "execution_count": 30,
   "id": "d7ba89a3-b20c-4168-9251-1ac139966650",
   "metadata": {},
   "outputs": [],
   "source": [
    "cars_filt <- cars %>%\n",
    "  filter(pickup == FALSE, rear_wheel == FALSE) %>%\n",
    "  mutate(logmsrp = log(msrp))"
   ]
  },
  {
   "cell_type": "code",
   "execution_count": 31,
   "id": "d436028a-e794-423e-bc02-e465f4e5d96f",
   "metadata": {},
   "outputs": [
    {
     "data": {
      "image/png": "[encoded data removed]",
      "text/plain": [
       "plot without title"
      ]
     },
     "metadata": {
      "image/png": {
       "height": 420,
       "width": 420
      }
     },
     "output_type": "display_data"
    }
   ],
   "source": [
    "p1 <- ggplot(cars_filt, aes(x = msrp)) +\n",
    "       geom_density()\n",
    "\n",
    "p2 <- ggplot(cars_filt, aes(x = logmsrp)) +\n",
    "       geom_density()\n",
    "\n",
    "p1 / p2"
   ]
  },
  {
   "cell_type": "markdown",
   "id": "30ae0fe0-a66a-4d07-94ff-4f0501465ccb",
   "metadata": {},
   "source": [
    "<a name=\"toc_74821_3.3\"></a>\n",
    "**3.3 Outliers**\n",
    "\n",
    "We can detect outliers in many ways:\n",
    "- Boxplot"
   ]
  },
  {
   "cell_type": "code",
   "execution_count": 45,
   "id": "87b264b3-c079-4736-b203-94d8818c0464",
   "metadata": {},
   "outputs": [
    {
     "data": {
      "image/png": "[encoded data removed]",
      "text/plain": [
       "plot without title"
      ]
     },
     "metadata": {
      "image/png": {
       "height": 420,
       "width": 420
      }
     },
     "output_type": "display_data"
    }
   ],
   "source": [
    "ggplot(cars_filt, aes(x = 1, y = msrp)) +  # if we have only 1 variable, set x = 1\n",
    "       geom_boxplot()"
   ]
  },
  {
   "cell_type": "markdown",
   "id": "40f5c0b2-fb97-49f7-87ef-73f2f854fd08",
   "metadata": {},
   "source": [
    "☝️ We have many outlier"
   ]
  },
  {
   "cell_type": "code",
   "execution_count": 44,
   "id": "d47bdeda-1200-4abb-8556-0605687ba85a",
   "metadata": {},
   "outputs": [
    {
     "data": {
      "image/png": "[encoded data removed]",
      "text/plain": [
       "plot without title"
      ]
     },
     "metadata": {
      "image/png": {
       "height": 420,
       "width": 420
      }
     },
     "output_type": "display_data"
    }
   ],
   "source": [
    "cars_filtnout <- cars_filt %>%\n",
    "  mutate(is.outlier = msrp > 52000)  %>%\n",
    "  filter(!is.outlier) \n",
    "\n",
    "cars_filtnout %>%\n",
    "  ggplot(aes(x = 1, y = msrp)) +\n",
    "       geom_boxplot()"
   ]
  },
  {
   "cell_type": "code",
   "execution_count": 34,
   "id": "89f76938-37d8-46a2-b92c-854a23b34ce3",
   "metadata": {},
   "outputs": [
    {
     "data": {
      "image/png": "[encoded data removed]",
      "text/plain": [
       "plot without title"
      ]
     },
     "metadata": {
      "image/png": {
       "height": 420,
       "width": 420
      }
     },
     "output_type": "display_data"
    }
   ],
   "source": [
    "p3 <- ggplot(cars_filt, aes(x = msrp)) +\n",
    "       geom_density()\n",
    "\n",
    "p4 <- ggplot(cars_filtnout, aes(x = msrp)) +\n",
    "       geom_density()\n",
    "\n",
    "p3 / p4"
   ]
  },
  {
   "cell_type": "markdown",
   "id": "0377d5ba-6cb3-491e-a22c-3a4d5e25bdc1",
   "metadata": {},
   "source": [
    "☝️ The distribution looks better but we lost information that might be important."
   ]
  },
  {
   "cell_type": "markdown",
   "id": "747fe67c-59cc-4cea-811e-7693fadb740e",
   "metadata": {},
   "source": [
    "<a name=\"toc_74821_4\"></a>\n",
    "## 4.   Case study - email dataset\n",
    "\n",
    "Goal: Explore the association between spam and the length of an email."
   ]
  },
  {
   "cell_type": "code",
   "execution_count": 51,
   "id": "85a8fff5-fe0a-4a5a-9d29-fbe3adf54e67",
   "metadata": {},
   "outputs": [],
   "source": [
    "# Load package\n",
    "suppressMessages(library(openintro))"
   ]
  },
  {
   "cell_type": "code",
   "execution_count": 106,
   "id": "dc05d7ce-a9d4-420a-ae6a-2aac847be6db",
   "metadata": {},
   "outputs": [
    {
     "name": "stdout",
     "output_type": "stream",
     "text": [
      "tibble [3,921 x 21] (S3: tbl_df/tbl/data.frame)\n",
      " $ spam        : Factor w/ 2 levels \"0\",\"1\": 1 1 1 1 1 1 1 1 1 1 ...\n",
      " $ to_multiple : Factor w/ 2 levels \"0\",\"1\": 1 1 1 1 1 1 2 2 1 1 ...\n",
      " $ from        : Factor w/ 2 levels \"0\",\"1\": 2 2 2 2 2 2 2 2 2 2 ...\n",
      " $ cc          : int [1:3921] 0 0 0 0 0 0 0 1 0 0 ...\n",
      " $ sent_email  : Factor w/ 2 levels \"0\",\"1\": 1 1 1 1 1 1 2 2 1 1 ...\n",
      " $ time        : POSIXct[1:3921], format: \"2012-01-01 07:16:41\" \"2012-01-01 08:03:59\" ...\n",
      " $ image       : num [1:3921] 0 0 0 0 0 0 0 1 0 0 ...\n",
      " $ attach      : num [1:3921] 0 0 0 0 0 0 0 1 0 0 ...\n",
      " $ dollar      : num [1:3921] 0 0 4 0 0 0 0 0 0 0 ...\n",
      " $ winner      : Factor w/ 2 levels \"no\",\"yes\": 1 1 1 1 1 1 1 1 1 1 ...\n",
      " $ inherit     : num [1:3921] 0 0 1 0 0 0 0 0 0 0 ...\n",
      " $ viagra      : num [1:3921] 0 0 0 0 0 0 0 0 0 0 ...\n",
      " $ password    : num [1:3921] 0 0 0 0 2 2 0 0 0 0 ...\n",
      " $ num_char    : num [1:3921] 11.37 10.5 7.77 13.26 1.23 ...\n",
      " $ line_breaks : int [1:3921] 202 202 192 255 29 25 193 237 69 68 ...\n",
      " $ format      : Factor w/ 2 levels \"0\",\"1\": 2 2 2 2 1 1 2 2 1 2 ...\n",
      " $ re_subj     : Factor w/ 2 levels \"0\",\"1\": 1 1 1 1 1 1 1 1 1 1 ...\n",
      " $ exclaim_subj: num [1:3921] 0 0 0 0 0 0 0 0 0 0 ...\n",
      " $ urgent_subj : Factor w/ 2 levels \"0\",\"1\": 1 1 1 1 1 1 1 1 1 1 ...\n",
      " $ exclaim_mess: num [1:3921] 0 1 6 48 1 1 1 18 1 0 ...\n",
      " $ number      : Factor w/ 3 levels \"none\",\"small\",..: 3 2 2 2 1 1 3 2 2 2 ...\n"
     ]
    }
   ],
   "source": [
    "str(email)\n",
    "#?email"
   ]
  },
  {
   "cell_type": "markdown",
   "id": "7c6fe808-8e71-416d-b7ec-ba417914052b",
   "metadata": {},
   "source": [
    "**1. Exercise:**  Find the appropriate statistics to use for the `num_char` variable containing email character length"
   ]
  },
  {
   "cell_type": "code",
   "execution_count": 71,
   "id": "fab24e96-93a9-4781-8e3d-07f917c01e2c",
   "metadata": {},
   "outputs": [
    {
     "data": {
      "text/html": [
       "<table class=\"dataframe\">\n",
       "<caption>A tibble: 2 × 3</caption>\n",
       "<thead>\n",
       "\t<tr><th scope=col>spam</th><th scope=col>median(num_char)</th><th scope=col>IQR(num_char)</th></tr>\n",
       "\t<tr><th scope=col>&lt;fct&gt;</th><th scope=col>&lt;dbl&gt;</th><th scope=col>&lt;dbl&gt;</th></tr>\n",
       "</thead>\n",
       "<tbody>\n",
       "\t<tr><td>0</td><td>6.831</td><td>13.58225</td></tr>\n",
       "\t<tr><td>1</td><td>1.046</td><td> 2.81800</td></tr>\n",
       "</tbody>\n",
       "</table>\n"
      ],
      "text/latex": [
       "A tibble: 2 × 3\n",
       "\\begin{tabular}{lll}\n",
       " spam & median(num\\_char) & IQR(num\\_char)\\\\\n",
       " <fct> & <dbl> & <dbl>\\\\\n",
       "\\hline\n",
       "\t 0 & 6.831 & 13.58225\\\\\n",
       "\t 1 & 1.046 &  2.81800\\\\\n",
       "\\end{tabular}\n"
      ],
      "text/markdown": [
       "\n",
       "A tibble: 2 × 3\n",
       "\n",
       "| spam &lt;fct&gt; | median(num_char) &lt;dbl&gt; | IQR(num_char) &lt;dbl&gt; |\n",
       "|---|---|---|\n",
       "| 0 | 6.831 | 13.58225 |\n",
       "| 1 | 1.046 |  2.81800 |\n",
       "\n"
      ],
      "text/plain": [
       "  spam median(num_char) IQR(num_char)\n",
       "1 0    6.831            13.58225     \n",
       "2 1    1.046             2.81800     "
      ]
     },
     "metadata": {},
     "output_type": "display_data"
    },
    {
     "data": {
      "image/png": "[encoded data removed]",
      "text/plain": [
       "Plot with title \"Histogram of log(email$num_char)\""
      ]
     },
     "metadata": {
      "image/png": {
       "height": 420,
       "width": 420
      }
     },
     "output_type": "display_data"
    },
    {
     "data": {
      "image/png": "[encoded data removed]",
      "text/plain": [
       "plot without title"
      ]
     },
     "metadata": {
      "image/png": {
       "height": 420,
       "width": 420
      }
     },
     "output_type": "display_data"
    }
   ],
   "source": [
    "# Compute summary statistics\n",
    "\n",
    "hist(log(email$num_char)) # skewed, hence median and IQR will be the appropriate summary stat\n",
    "\n",
    "email %>%\n",
    "  group_by(spam) %>%\n",
    "  summarize(median(num_char),\n",
    "            IQR(num_char))\n",
    "\n",
    "# Create plot\n",
    "email %>%\n",
    "  mutate(log_num_char = log(num_char)) %>%  # log trasfrom skewed data\n",
    "  ggplot(aes(x = spam, y = log_num_char)) +\n",
    "  geom_boxplot() +\n",
    "  theme_classic()"
   ]
  },
  {
   "cell_type": "markdown",
   "id": "965c11a3-957c-4511-a6af-e0cbdcfb89c3",
   "metadata": {},
   "source": [
    "**2. Exercise:**  Find the appropriate statistics to use for the `exclaim_mess` variable containing the number of exclamation marks used."
   ]
  },
  {
   "cell_type": "code",
   "execution_count": 77,
   "id": "e70805bc-7320-4b8d-8acd-e952a4887064",
   "metadata": {},
   "outputs": [
    {
     "data": {
      "text/html": [
       "<table class=\"dataframe\">\n",
       "<caption>A tibble: 2 × 3</caption>\n",
       "<thead>\n",
       "\t<tr><th scope=col>spam</th><th scope=col>median(exclaim_mess)</th><th scope=col>IQR(exclaim_mess)</th></tr>\n",
       "\t<tr><th scope=col>&lt;fct&gt;</th><th scope=col>&lt;dbl&gt;</th><th scope=col>&lt;dbl&gt;</th></tr>\n",
       "</thead>\n",
       "<tbody>\n",
       "\t<tr><td>0</td><td>1</td><td>5</td></tr>\n",
       "\t<tr><td>1</td><td>0</td><td>1</td></tr>\n",
       "</tbody>\n",
       "</table>\n"
      ],
      "text/latex": [
       "A tibble: 2 × 3\n",
       "\\begin{tabular}{lll}\n",
       " spam & median(exclaim\\_mess) & IQR(exclaim\\_mess)\\\\\n",
       " <fct> & <dbl> & <dbl>\\\\\n",
       "\\hline\n",
       "\t 0 & 1 & 5\\\\\n",
       "\t 1 & 0 & 1\\\\\n",
       "\\end{tabular}\n"
      ],
      "text/markdown": [
       "\n",
       "A tibble: 2 × 3\n",
       "\n",
       "| spam &lt;fct&gt; | median(exclaim_mess) &lt;dbl&gt; | IQR(exclaim_mess) &lt;dbl&gt; |\n",
       "|---|---|---|\n",
       "| 0 | 1 | 5 |\n",
       "| 1 | 0 | 1 |\n",
       "\n"
      ],
      "text/plain": [
       "  spam median(exclaim_mess) IQR(exclaim_mess)\n",
       "1 0    1                    5                \n",
       "2 1    0                    1                "
      ]
     },
     "metadata": {},
     "output_type": "display_data"
    },
    {
     "data": {
      "image/png": "[encoded data removed]",
      "text/plain": [
       "Plot with title \"Histogram of log(email$exclaim_mess)\""
      ]
     },
     "metadata": {
      "image/png": {
       "height": 420,
       "width": 420
      }
     },
     "output_type": "display_data"
    }
   ],
   "source": [
    "\n",
    "hist(log(email$exclaim_mess)) # skewed, hence median and IQR will be the appropriate summary stat\n",
    "\n",
    "email %>%\n",
    "  group_by(spam) %>%\n",
    "  summarize(median(exclaim_mess), # here too median and IQR are better measures than mean and SD\n",
    "            IQR(exclaim_mess))\n",
    "\n",
    "pe1 <- email %>%\n",
    "  mutate(log_exclaim_mess = log(exclaim_mess+0.01)) %>% # add a small number to avoid log(0)\n",
    "  ggplot(aes(x = spam, y = log_exclaim_mess)) +\n",
    "  geom_boxplot()\n",
    "\n",
    "pe2 <- email %>%\n",
    "  mutate(log_exclaim_mess = log(exclaim_mess+0.01)) %>% # add a small number to avoid log(0)\n",
    "  ggplot(aes(log_exclaim_mess)) +\n",
    "  geom_histogram() +\n",
    "  facet_wrap(~spam)\n",
    "\n",
    "pe3 <- email %>%\n",
    "  mutate(log_exclaim_mess = log(exclaim_mess+0.01)) %>% # add a small number to avoid log(0)\n",
    "  ggplot(aes(x = log_exclaim_mess, fill = spam)) +\n",
    "  geom_density(alpha = 0.3)"
   ]
  },
  {
   "cell_type": "markdown",
   "id": "35cd3e74-53a2-489d-a128-020d8aa774a2",
   "metadata": {},
   "source": [
    "☝️ **Tip**: If you decide to use a log transformation, remember that log(0) is -Inf in R, which isn't a very useful value and we would loose a lot of information! You can get around this by adding a small number (like 0.01) to the quantity inside the log() function. This way, your value is never zero. This small shift to the right won't affect your results."
   ]
  },
  {
   "cell_type": "code",
   "execution_count": 75,
   "id": "1a57c54c-381a-4167-9cb7-f6d61ffbbacc",
   "metadata": {},
   "outputs": [
    {
     "name": "stderr",
     "output_type": "stream",
     "text": [
      "\u001b[1m\u001b[22m`stat_bin()` using `bins = 30`. Pick better value with `binwidth`.\n"
     ]
    },
    {
     "data": {
      "image/png": "[encoded data removed]",
      "text/plain": [
       "plot without title"
      ]
     },
     "metadata": {
      "image/png": {
       "height": 420,
       "width": 420
      }
     },
     "output_type": "display_data"
    }
   ],
   "source": [
    "pe1 / pe2 / pe3"
   ]
  },
  {
   "cell_type": "markdown",
   "id": "d1a2715b-5d74-4a66-a21e-afe95ca453a8",
   "metadata": {},
   "source": [
    "☝️ Conclusions:\n",
    "- faceted histograms are the most appropriate here. \n",
    "- The most common value of `exclaim_mess` in both classes of email is zero, whic is represented as -4.6 in the plots (as log(0 + 0.01) = -4.6).\n",
    "- Even after a transformation, the distribution of `exclaim_mess` in both classes of email is right-skewed.\n",
    "- The typical number of exclamations in the not-spam (`spam` = 0) group appears to be slightly higher than in the spam group."
   ]
  },
  {
   "cell_type": "markdown",
   "id": "ead76a20-e4b3-474d-ae0e-7fe1028cecf2",
   "metadata": {},
   "source": [
    "<u>Zero inflation strategies</u>\n",
    "\n",
    "Zero inflation  is when we have datasets with many zeros and relatively few non-zeros.\n",
    "\n",
    "For example, when we looked at the distribution of spam and the number of exclamation marks used, we found that both distributions are heavily right skewed: there are only a few instances of many exclamation marks being using and many many more of 0 (here -4.6 on log scale) being used.\n",
    "\n",
    "There are several common ways to think about those zeros.\n",
    "-  Collapse into two-level separately: We can think of the variable as actually only taking two values, zero or not-zero, and treating it like a categorical variable. \n",
    "- Analyze the two components separately: We say that there are two mechanisms going on: one generating the zeros and the other generating the non-zeros, so we will analyze these two groups separately. "
   ]
  },
  {
   "cell_type": "code",
   "execution_count": 104,
   "id": "5fbec916-8d75-4459-a340-8215881dee41",
   "metadata": {},
   "outputs": [
    {
     "data": {
      "image/png": "[encoded data removed]",
      "text/plain": [
       "plot without title"
      ]
     },
     "metadata": {
      "image/png": {
       "height": 420,
       "width": 420
      }
     },
     "output_type": "display_data"
    }
   ],
   "source": [
    "# First approach\n",
    "email %>%\n",
    "  mutate(has_exclaim = exclaim_mess > 0) %>%\n",
    "  ggplot(aes(x = has_exclaim, fill = spam)) +\n",
    "  geom_bar(position = \"dodge\")"
   ]
  },
  {
   "cell_type": "markdown",
   "id": "5f6e95bd-6e69-4aee-957a-fdf5d486534c",
   "metadata": {},
   "source": [
    "☝️ We have lost a lot of information but now it become very clear that, contrary to our expectation, non-spam (`spam = 0`) is more likely to contain exclamation marks, while in spam, the opposite is true."
   ]
  },
  {
   "cell_type": "markdown",
   "id": "54dcf486-f7a4-4cb5-9925-a61a64f80d43",
   "metadata": {},
   "source": [
    "**3. Exercise:** Now let's test the relationship of variables in the dataset. The `?email` help file is ambiguous: do attached images (`image`) count as attached files (`attach`) in this dataset? How can we figure this out?"
   ]
  },
  {
   "cell_type": "code",
   "execution_count": 109,
   "id": "e8d2d526-dd5c-4981-8f99-5e7a653e9c24",
   "metadata": {},
   "outputs": [
    {
     "data": {
      "text/html": [
       "283"
      ],
      "text/latex": [
       "283"
      ],
      "text/markdown": [
       "283"
      ],
      "text/plain": [
       "[1] 283"
      ]
     },
     "metadata": {},
     "output_type": "display_data"
    },
    {
     "data": {
      "text/html": [
       "110"
      ],
      "text/latex": [
       "110"
      ],
      "text/markdown": [
       "110"
      ],
      "text/plain": [
       "[1] 110"
      ]
     },
     "metadata": {},
     "output_type": "display_data"
    },
    {
     "data": {
      "text/html": [
       "0"
      ],
      "text/latex": [
       "0"
      ],
      "text/markdown": [
       "0"
      ],
      "text/plain": [
       "[1] 0"
      ]
     },
     "metadata": {},
     "output_type": "display_data"
    }
   ],
   "source": [
    "# Test if images count as attachments\n",
    "sum(email$attach > 0)\n",
    "sum(email$image > 0)\n",
    "sum(email$image > email$attach)"
   ]
  },
  {
   "cell_type": "markdown",
   "id": "0bcd4e28-0e51-4484-b485-4e2903c703c9",
   "metadata": {},
   "source": [
    "☝️ Since image is never greater than attach, we can infer that images are counted as attachments."
   ]
  },
  {
   "cell_type": "markdown",
   "id": "67911b55-6c67-4234-8337-ad1978185ac8",
   "metadata": {},
   "source": [
    "**4. Exercise:** Within non-spam emails, is the typical length of emails shorter for those that were sent to multiple people?"
   ]
  },
  {
   "cell_type": "code",
   "execution_count": 111,
   "id": "9e2d727a-92e8-4b16-8bc8-55796d607cf0",
   "metadata": {},
   "outputs": [
    {
     "data": {
      "text/html": [
       "<table class=\"dataframe\">\n",
       "<caption>A tibble: 2 × 2</caption>\n",
       "<thead>\n",
       "\t<tr><th scope=col>to_multiple</th><th scope=col>median(num_char)</th></tr>\n",
       "\t<tr><th scope=col>&lt;fct&gt;</th><th scope=col>&lt;dbl&gt;</th></tr>\n",
       "</thead>\n",
       "<tbody>\n",
       "\t<tr><td>0</td><td>7.1960</td></tr>\n",
       "\t<tr><td>1</td><td>5.3645</td></tr>\n",
       "</tbody>\n",
       "</table>\n"
      ],
      "text/latex": [
       "A tibble: 2 × 2\n",
       "\\begin{tabular}{ll}\n",
       " to\\_multiple & median(num\\_char)\\\\\n",
       " <fct> & <dbl>\\\\\n",
       "\\hline\n",
       "\t 0 & 7.1960\\\\\n",
       "\t 1 & 5.3645\\\\\n",
       "\\end{tabular}\n"
      ],
      "text/markdown": [
       "\n",
       "A tibble: 2 × 2\n",
       "\n",
       "| to_multiple &lt;fct&gt; | median(num_char) &lt;dbl&gt; |\n",
       "|---|---|\n",
       "| 0 | 7.1960 |\n",
       "| 1 | 5.3645 |\n",
       "\n"
      ],
      "text/plain": [
       "  to_multiple median(num_char)\n",
       "1 0           7.1960          \n",
       "2 1           5.3645          "
      ]
     },
     "metadata": {},
     "output_type": "display_data"
    }
   ],
   "source": [
    "email %>%\n",
    "   filter(spam == 0) %>%\n",
    "   group_by(to_multiple) %>%\n",
    "   summarize(median(num_char))"
   ]
  },
  {
   "cell_type": "markdown",
   "id": "edb2109f-219b-4034-a2c3-57395152d0b0",
   "metadata": {},
   "source": [
    "☝️ Yes, the typical length of non-spam sent to multiple people is a bit lower than those sent to only one person"
   ]
  },
  {
   "cell_type": "markdown",
   "id": "ab508ba1-9547-4cae-8cb6-32d5a3b2fa7b",
   "metadata": {},
   "source": [
    "**5. Exercise:** For emails containing the word \"dollar\", does the typical spam email contain a greater number of occurrences of the word than the typical non-spam email?"
   ]
  },
  {
   "cell_type": "code",
   "execution_count": 112,
   "id": "d3b46b16-2024-4011-9f6b-ffcb47637bde",
   "metadata": {},
   "outputs": [
    {
     "data": {
      "text/html": [
       "<table class=\"dataframe\">\n",
       "<caption>A tibble: 2 × 2</caption>\n",
       "<thead>\n",
       "\t<tr><th scope=col>spam</th><th scope=col>median(dollar)</th></tr>\n",
       "\t<tr><th scope=col>&lt;fct&gt;</th><th scope=col>&lt;dbl&gt;</th></tr>\n",
       "</thead>\n",
       "<tbody>\n",
       "\t<tr><td>0</td><td>4</td></tr>\n",
       "\t<tr><td>1</td><td>2</td></tr>\n",
       "</tbody>\n",
       "</table>\n"
      ],
      "text/latex": [
       "A tibble: 2 × 2\n",
       "\\begin{tabular}{ll}\n",
       " spam & median(dollar)\\\\\n",
       " <fct> & <dbl>\\\\\n",
       "\\hline\n",
       "\t 0 & 4\\\\\n",
       "\t 1 & 2\\\\\n",
       "\\end{tabular}\n"
      ],
      "text/markdown": [
       "\n",
       "A tibble: 2 × 2\n",
       "\n",
       "| spam &lt;fct&gt; | median(dollar) &lt;dbl&gt; |\n",
       "|---|---|\n",
       "| 0 | 4 |\n",
       "| 1 | 2 |\n",
       "\n"
      ],
      "text/plain": [
       "  spam median(dollar)\n",
       "1 0    4             \n",
       "2 1    2             "
      ]
     },
     "metadata": {},
     "output_type": "display_data"
    }
   ],
   "source": [
    "email %>%\n",
    "  filter(dollar > 0) %>%\n",
    "  group_by(spam) %>%\n",
    "  summarize(median(dollar))"
   ]
  },
  {
   "cell_type": "markdown",
   "id": "45abbb4a-fc23-4e70-a8c5-cd9b2483fd20",
   "metadata": {},
   "source": [
    "**6. Exercise:** If you encounter an email with greater than 10 occurrences of the word \"dollar\", is it more likely to be spam or not-spam? Create a bar chart that answers this question."
   ]
  },
  {
   "cell_type": "code",
   "execution_count": 113,
   "id": "034f7d2b-cccd-4a9f-926d-5597a341bcb3",
   "metadata": {},
   "outputs": [
    {
     "data": {
      "image/png": "[encoded data removed]",
      "text/plain": [
       "plot without title"
      ]
     },
     "metadata": {
      "image/png": {
       "height": 420,
       "width": 420
      }
     },
     "output_type": "display_data"
    }
   ],
   "source": [
    "email %>%\n",
    "  filter(dollar > 10) %>%\n",
    "  ggplot(aes(x = spam)) +\n",
    "  geom_bar()"
   ]
  },
  {
   "cell_type": "markdown",
   "id": "43354798-3fb6-4ffc-88d1-81d283cfbfa5",
   "metadata": {},
   "source": [
    "**7. Exercise:** Explore the association between `number` and `spam`, select and construct an informative plot. "
   ]
  },
  {
   "cell_type": "code",
   "execution_count": 114,
   "id": "e021cfef-0b08-4f92-a6d9-36419848912e",
   "metadata": {},
   "outputs": [
    {
     "data": {
      "image/png": "[encoded data removed]",
      "text/plain": [
       "plot without title"
      ]
     },
     "metadata": {
      "image/png": {
       "height": 420,
       "width": 420
      }
     },
     "output_type": "display_data"
    }
   ],
   "source": [
    "# Reorder levels\n",
    "email$number_reordered <- factor(email$number, levels = c(\"none\", \"small\", \"big\"))\n",
    "\n",
    "# Construct plot of number_reordered\n",
    "ggplot(email, aes(number_reordered)) +\n",
    "  geom_bar() +\n",
    "  facet_wrap(~spam)"
   ]
  },
  {
   "cell_type": "markdown",
   "id": "8d12d2ac-ec78-43ff-8f6c-54fd7bff466e",
   "metadata": {},
   "source": [
    "☝️ Conclusions:\n",
    "- Given that an email contains a small number, it is more likely to be not-spam.\n",
    "- Given that an email contains a big number, it is more likely to be not-spam.\n",
    "- Within both spam and not-spam, the most common number is a small one."
   ]
  },
  {
   "cell_type": "code",
   "execution_count": 35,
   "id": "87089cb9-51d4-495d-8179-d02e4a5e91e0",
   "metadata": {},
   "outputs": [
    {
     "ename": "ERROR",
     "evalue": "Error in head(email): object 'email' not found\n",
     "output_type": "error",
     "traceback": [
      "Error in head(email): object 'email' not found\nTraceback:\n",
      "1. head(email)"
     ]
    }
   ],
   "source": [
    "head(email)"
   ]
  }
 ],
 "metadata": {
  "kernelspec": {
   "display_name": "R",
   "language": "R",
   "name": "ir"
  },
  "language_info": {
   "codemirror_mode": "r",
   "file_extension": ".r",
   "mimetype": "text/x-r-source",
   "name": "R",
   "pygments_lexer": "r",
   "version": "4.1.3"
  }
 },
 "nbformat": 4,
 "nbformat_minor": 5
}
