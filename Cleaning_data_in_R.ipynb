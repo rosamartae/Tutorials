{
 "cells": [
  {
   "cell_type": "markdown",
   "id": "9582537b-64f0-4598-84db-5b4123d1a321",
   "metadata": {},
   "source": [
    "# Cleaning data in R\n",
    "## -- DataCamp - Data Scientist - Course 12 --\n",
    "### + DataCamp - Dealing with Missing Data in R \n",
    "\n",
    " **Note**\n",
    "\n",
    "This Notebook was made using two DataCamp courses.\n",
    "To use this code, select the R environment in Anaconda.\n",
    " \n",
    " **Used packages**\n",
    " - tidyverse\n",
    " - lubridate\n",
    " - assertive\n",
    " - visdat\n",
    " - stringdist\n",
    " - fuzzyjoin\n",
    " - reclin2\n",
    " - naniar\n",
    " - simputation\n",
    " \n",
    "**Table of content**\n",
    "- [&nbsp;&nbsp;1. Common Data Problems](#toc_00232_1)\n",
    "    - [&nbsp;&nbsp;1.1 Data type constraints](#toc_00232_1.1)\n",
    "    - [&nbsp;&nbsp;1.2 Range constraints](#toc_00232_1.2)\n",
    "    - [&nbsp;&nbsp;1.3 Uniqueness constraints](#toc_00232_1.2)\n",
    "- [&nbsp;&nbsp;2. Categorical and text data](#toc_00232_2)\n",
    "    - [&nbsp;&nbsp;2.1 Membership constraints](#toc_00232_2.1)\n",
    "    - [&nbsp;&nbsp;2.2 Inconsistency within categories](#toc_00232_2.2)\n",
    "    - [&nbsp;&nbsp;2.3 Inconsistent units or date formats](#toc_00232_2.3)\n",
    "- [&nbsp;&nbsp;3. Cross field validation](#toc_00232_3)\n",
    "- [&nbsp;&nbsp;4 Completeness and missing data](#toc_00232_4)\n",
    "- [&nbsp;&nbsp;5. Record Linkage](#toc_00232_5)\n",
    "    - [&nbsp;&nbsp;5.1 Comparing strings using edit distance](#toc_00232_5.1)\n",
    "    - [&nbsp;&nbsp;5.2 Record linkage: Generating and comparing pairs](#toc_00232_5.2)"
   ]
  },
  {
   "cell_type": "markdown",
   "id": "1841dae4-5dbc-4115-9db3-3e405c768e3d",
   "metadata": {},
   "source": [
    "**Set environment and plot size**"
   ]
  },
  {
   "cell_type": "code",
   "execution_count": 91,
   "id": "66654ad8-700a-4020-abc0-cc1095e8bd70",
   "metadata": {},
   "outputs": [],
   "source": [
    "suppressMessages(library(tidyverse))\n",
    "suppressMessages(library(lubridate))\n",
    "suppressMessages(library(assertive))\n",
    "suppressMessages(library(visdat))\n",
    "suppressMessages(library(stringdist))\n",
    "suppressMessages(library(fuzzyjoin))\n",
    "suppressMessages(library(reclin2))\n",
    "suppressMessages(library(naniar))\n",
    "suppressMessages(library(simputation))\n",
    "suppressMessages(library(broom))"
   ]
  },
  {
   "cell_type": "markdown",
   "id": "21532a20-0c25-4860-832a-fcafcd38f2d6",
   "metadata": {},
   "source": [
    "Note: if the above code return an error message:\n",
    "- Check that the correct R environment is selected in Anaconda\n",
    "- Restart computer"
   ]
  },
  {
   "cell_type": "markdown",
   "id": "617c80e5-3137-4433-9013-4a368db8343b",
   "metadata": {},
   "source": [
    "**Import data**"
   ]
  },
  {
   "cell_type": "code",
   "execution_count": 4,
   "id": "6469ffdc-f10a-4432-a93b-95d2c7b06880",
   "metadata": {},
   "outputs": [],
   "source": [
    "bike <- readRDS(\"data/cleaning/bike_share_rides_ch1_1.RDS\")\n",
    "accounts <- readRDS(\"data/cleaning/ch3_1_accounts.RDS\")\n",
    "fodors <- readRDS(\"data/cleaning/fodors.RDS\")\n",
    "survey <- readRDS(\"data/cleaning/sfo_survey_ch2_1.RDS\")\n",
    "zagat <- readRDS(\"data/cleaning/zagat.RDS\")"
   ]
  },
  {
   "cell_type": "markdown",
   "id": "929f5c5a-e477-45e3-8db0-0bab8b4f793d",
   "metadata": {
    "tags": []
   },
   "source": [
    "<a name=\"toc_00232_1\"></a>\n",
    "## 1.   Common Data Problems"
   ]
  },
  {
   "cell_type": "markdown",
   "id": "86f75c77-738b-49b0-8597-2c9d80ed1fdb",
   "metadata": {},
   "source": [
    "Dirty data can appear before we even access the data, due to mistakes such as typos and misspellings. If we don't address these mistakes early on, they'll follow us through our entire workflow, which means we could end up drawing incorrect conclusions."
   ]
  },
  {
   "cell_type": "markdown",
   "id": "45795a40-9558-4b2f-9c50-5bcb920931fe",
   "metadata": {},
   "source": [
    "<a name=\"toc_00232_1.1\"></a>\n",
    "**1.1   Data type constraints**\n",
    "\n",
    "You've probably encountered different types of data before, such as text, numbers, categories, and dates. Each of these data types is treated differently, so if each variable isn't the correct data type, we risk compromising our analysis.\n",
    "\n",
    "For example in the below table, revenue is character, but it should be numeric.\n",
    "\n",
    "<div style=\"text-align:center;\">\n",
    "  <img src=\"images/clean_01.png\" width = \"700\" align=\"center\">\n",
    "</div>\n",
    "\n",
    "We can use the `class()` function on the revenue column to see that it's a `character` type. Alternatively, we can use the `is.numeric()` function on the revenue column and see that it's not numeric. Another way to do this check is to use the `assert_is_numeric()` function from the `assertive` package. This provides extra protection because it will throw an error and stop our script from running, so we'll immediately know that something's amiss. If we call `assert_is_numeric()` on something that is numeric, nothing is returned.\n",
    "\n",
    "<div style=\"text-align:center;\">\n",
    "  <img src=\"images/clean_02.png\" width = \"700\" align=\"center\">\n",
    "</div>\n",
    "\n",
    "If we want to know what the average revenue is, we get an `NA` and a warning, since taking the mean of text doesn't make much sense. We'll need to convert this column to a numeric type in order to get the average.\n",
    "\n",
    "Printing revenue shows a comma in each number. We'll need to remove them before converting the strings to numbers. This can be done using `str_remove(sales$revenue, \",\")` from the `stringr` package. Then we can use `as.numeric()` to convert the values to numeric.\n",
    "\n",
    "<div style=\"text-align:center;\">\n",
    "  <img src=\"images/clean_03.png\" width = \"500\" align=\"center\">\n",
    "</div>\n",
    "\n",
    "But, be careful when converting a **factor to a numeric**. Factors are a data type that represent a limited set of possible categories. If we call `as.numeric` on a factor, we get numbers corresponding to the factor levels, which isn't what we're looking for. This is due to the way that factors are encoded in R. Instead, we need to use `as.character` first, and then `as.numeric`.\n",
    "\n",
    "<div style=\"text-align:center;\">\n",
    "  <img src=\"images/clean_04.png\" width = \"600\" align=\"center\">\n",
    "</div>"
   ]
  },
  {
   "cell_type": "code",
   "execution_count": 5,
   "id": "aebfcdaa-0d6c-4d10-b5ba-3c9204490552",
   "metadata": {},
   "outputs": [
    {
     "name": "stdout",
     "output_type": "stream",
     "text": [
      "Rows: 35,229\n",
      "Columns: 10\n",
      "$ ride_id         \u001b[3m\u001b[90m<int>\u001b[39m\u001b[23m 52797, 54540, 87695, 45619, 70832, 96135, 29928, 83331~\n",
      "$ date            \u001b[3m\u001b[90m<chr>\u001b[39m\u001b[23m \"2017-04-15\", \"2017-04-19\", \"2017-04-14\", \"2017-04-03\"~\n",
      "$ duration        \u001b[3m\u001b[90m<chr>\u001b[39m\u001b[23m \"1316.15 minutes\", \"8.13 minutes\", \"24.85 minutes\", \"6~\n",
      "$ station_A_id    \u001b[3m\u001b[90m<dbl>\u001b[39m\u001b[23m 67, 21, 16, 58, 16, 6, 5, 16, 5, 81, 30, 16, 16, 67, 2~\n",
      "$ station_A_name  \u001b[3m\u001b[90m<chr>\u001b[39m\u001b[23m \"San Francisco Caltrain Station 2  (Townsend St at 4th~\n",
      "$ station_B_id    \u001b[3m\u001b[90m<dbl>\u001b[39m\u001b[23m 89, 64, 355, 368, 81, 66, 350, 91, 62, 81, 109, 10, 80~\n",
      "$ station_B_name  \u001b[3m\u001b[90m<chr>\u001b[39m\u001b[23m \"Division St at Potrero Ave\", \"5th St at Brannan St\", ~\n",
      "$ bike_id         \u001b[3m\u001b[90m<dbl>\u001b[39m\u001b[23m 1974, 860, 2263, 1417, 507, 75, 388, 239, 1449, 3289, ~\n",
      "$ user_gender     \u001b[3m\u001b[90m<chr>\u001b[39m\u001b[23m \"Male\", \"Male\", \"Male\", \"Male\", \"Male\", \"Male\", \"Male\"~\n",
      "$ user_birth_year \u001b[3m\u001b[90m<dbl>\u001b[39m\u001b[23m 1972, 1986, 1993, 1981, 1981, 1988, 1993, 1996, 1993, ~\n"
     ]
    }
   ],
   "source": [
    "glimpse(bike)"
   ]
  },
  {
   "cell_type": "code",
   "execution_count": 6,
   "id": "9f97f599-68fd-4098-9d93-bc79108af879",
   "metadata": {},
   "outputs": [
    {
     "data": {
      "text/plain": [
       "   Min. 1st Qu.  Median    Mean 3rd Qu.    Max. \n",
       "   1900    1979    1986    1984    1991    2001 "
      ]
     },
     "metadata": {},
     "output_type": "display_data"
    }
   ],
   "source": [
    "summary(bike$user_birth_year)"
   ]
  },
  {
   "cell_type": "markdown",
   "id": "b095782a-5fb0-4763-b968-89bdf2c9b4a8",
   "metadata": {},
   "source": [
    "☝️ This is not very useful. The `user_birth_year` variable represent groupings of data, so it should be converted to factor instead."
   ]
  },
  {
   "cell_type": "code",
   "execution_count": 7,
   "id": "4ff14b5a-2705-4384-b07c-193e3fafd847",
   "metadata": {},
   "outputs": [
    {
     "data": {
      "text/html": [
       "<style>\n",
       ".dl-inline {width: auto; margin:0; padding: 0}\n",
       ".dl-inline>dt, .dl-inline>dd {float: none; width: auto; display: inline-block}\n",
       ".dl-inline>dt::after {content: \":\\0020\"; padding-right: .5ex}\n",
       ".dl-inline>dt:not(:first-of-type) {padding-left: .5ex}\n",
       "</style><dl class=dl-inline><dt>1900</dt><dd>1</dd><dt>1902</dt><dd>7</dd><dt>1923</dt><dd>2</dd><dt>1931</dt><dd>23</dd><dt>1938</dt><dd>2</dd><dt>1939</dt><dd>1</dd><dt>1941</dt><dd>3</dd><dt>1942</dt><dd>10</dd><dt>1943</dt><dd>4</dd><dt>1945</dt><dd>16</dd><dt>1946</dt><dd>5</dd><dt>1947</dt><dd>24</dd><dt>1948</dt><dd>9</dd><dt>1949</dt><dd>30</dd><dt>1950</dt><dd>37</dd><dt>1951</dt><dd>25</dd><dt>1952</dt><dd>70</dd><dt>1953</dt><dd>49</dd><dt>1954</dt><dd>65</dd><dt>1955</dt><dd>66</dd><dt>1956</dt><dd>112</dd><dt>1957</dt><dd>62</dd><dt>1958</dt><dd>156</dd><dt>1959</dt><dd>99</dd><dt>1960</dt><dd>196</dd><dt>1961</dt><dd>161</dd><dt>1962</dt><dd>256</dd><dt>1963</dt><dd>237</dd><dt>1964</dt><dd>245</dd><dt>1965</dt><dd>349</dd><dt>1966</dt><dd>225</dd><dt>1967</dt><dd>363</dd><dt>1968</dt><dd>365</dd><dt>1969</dt><dd>331</dd><dt>1970</dt><dd>370</dd><dt>1971</dt><dd>548</dd><dt>1972</dt><dd>529</dd><dt>1973</dt><dd>527</dd><dt>1974</dt><dd>563</dd><dt>1975</dt><dd>601</dd><dt>1976</dt><dd>481</dd><dt>1977</dt><dd>541</dd><dt>1978</dt><dd>775</dd><dt>1979</dt><dd>876</dd><dt>1980</dt><dd>825</dd><dt>1981</dt><dd>1016</dd><dt>1982</dt><dd>1056</dd><dt>1983</dt><dd>1262</dd><dt>1984</dt><dd>1157</dd><dt>1985</dt><dd>1318</dd><dt>1986</dt><dd>1606</dd><dt>1987</dt><dd>1672</dd><dt>1988</dt><dd>2135</dd><dt>1989</dt><dd>1872</dd><dt>1990</dt><dd>2062</dd><dt>1991</dt><dd>1582</dd><dt>1992</dt><dd>1703</dd><dt>1993</dt><dd>1498</dd><dt>1994</dt><dd>1476</dd><dt>1995</dt><dd>1185</dd><dt>1996</dt><dd>813</dd><dt>1997</dt><dd>358</dd><dt>1998</dt><dd>365</dd><dt>1999</dt><dd>348</dd><dt>2000</dt><dd>473</dd><dt>2001</dt><dd>30</dd></dl>\n"
      ],
      "text/latex": [
       "\\begin{description*}\n",
       "\\item[1900] 1\n",
       "\\item[1902] 7\n",
       "\\item[1923] 2\n",
       "\\item[1931] 23\n",
       "\\item[1938] 2\n",
       "\\item[1939] 1\n",
       "\\item[1941] 3\n",
       "\\item[1942] 10\n",
       "\\item[1943] 4\n",
       "\\item[1945] 16\n",
       "\\item[1946] 5\n",
       "\\item[1947] 24\n",
       "\\item[1948] 9\n",
       "\\item[1949] 30\n",
       "\\item[1950] 37\n",
       "\\item[1951] 25\n",
       "\\item[1952] 70\n",
       "\\item[1953] 49\n",
       "\\item[1954] 65\n",
       "\\item[1955] 66\n",
       "\\item[1956] 112\n",
       "\\item[1957] 62\n",
       "\\item[1958] 156\n",
       "\\item[1959] 99\n",
       "\\item[1960] 196\n",
       "\\item[1961] 161\n",
       "\\item[1962] 256\n",
       "\\item[1963] 237\n",
       "\\item[1964] 245\n",
       "\\item[1965] 349\n",
       "\\item[1966] 225\n",
       "\\item[1967] 363\n",
       "\\item[1968] 365\n",
       "\\item[1969] 331\n",
       "\\item[1970] 370\n",
       "\\item[1971] 548\n",
       "\\item[1972] 529\n",
       "\\item[1973] 527\n",
       "\\item[1974] 563\n",
       "\\item[1975] 601\n",
       "\\item[1976] 481\n",
       "\\item[1977] 541\n",
       "\\item[1978] 775\n",
       "\\item[1979] 876\n",
       "\\item[1980] 825\n",
       "\\item[1981] 1016\n",
       "\\item[1982] 1056\n",
       "\\item[1983] 1262\n",
       "\\item[1984] 1157\n",
       "\\item[1985] 1318\n",
       "\\item[1986] 1606\n",
       "\\item[1987] 1672\n",
       "\\item[1988] 2135\n",
       "\\item[1989] 1872\n",
       "\\item[1990] 2062\n",
       "\\item[1991] 1582\n",
       "\\item[1992] 1703\n",
       "\\item[1993] 1498\n",
       "\\item[1994] 1476\n",
       "\\item[1995] 1185\n",
       "\\item[1996] 813\n",
       "\\item[1997] 358\n",
       "\\item[1998] 365\n",
       "\\item[1999] 348\n",
       "\\item[2000] 473\n",
       "\\item[2001] 30\n",
       "\\end{description*}\n"
      ],
      "text/markdown": [
       "1900\n",
       ":   11902\n",
       ":   71923\n",
       ":   21931\n",
       ":   231938\n",
       ":   21939\n",
       ":   11941\n",
       ":   31942\n",
       ":   101943\n",
       ":   41945\n",
       ":   161946\n",
       ":   51947\n",
       ":   241948\n",
       ":   91949\n",
       ":   301950\n",
       ":   371951\n",
       ":   251952\n",
       ":   701953\n",
       ":   491954\n",
       ":   651955\n",
       ":   661956\n",
       ":   1121957\n",
       ":   621958\n",
       ":   1561959\n",
       ":   991960\n",
       ":   1961961\n",
       ":   1611962\n",
       ":   2561963\n",
       ":   2371964\n",
       ":   2451965\n",
       ":   3491966\n",
       ":   2251967\n",
       ":   3631968\n",
       ":   3651969\n",
       ":   3311970\n",
       ":   3701971\n",
       ":   5481972\n",
       ":   5291973\n",
       ":   5271974\n",
       ":   5631975\n",
       ":   6011976\n",
       ":   4811977\n",
       ":   5411978\n",
       ":   7751979\n",
       ":   8761980\n",
       ":   8251981\n",
       ":   10161982\n",
       ":   10561983\n",
       ":   12621984\n",
       ":   11571985\n",
       ":   13181986\n",
       ":   16061987\n",
       ":   16721988\n",
       ":   21351989\n",
       ":   18721990\n",
       ":   20621991\n",
       ":   15821992\n",
       ":   17031993\n",
       ":   14981994\n",
       ":   14761995\n",
       ":   11851996\n",
       ":   8131997\n",
       ":   3581998\n",
       ":   3651999\n",
       ":   3482000\n",
       ":   4732001\n",
       ":   30\n",
       "\n"
      ],
      "text/plain": [
       "1900 1902 1923 1931 1938 1939 1941 1942 1943 1945 1946 1947 1948 1949 1950 1951 \n",
       "   1    7    2   23    2    1    3   10    4   16    5   24    9   30   37   25 \n",
       "1952 1953 1954 1955 1956 1957 1958 1959 1960 1961 1962 1963 1964 1965 1966 1967 \n",
       "  70   49   65   66  112   62  156   99  196  161  256  237  245  349  225  363 \n",
       "1968 1969 1970 1971 1972 1973 1974 1975 1976 1977 1978 1979 1980 1981 1982 1983 \n",
       " 365  331  370  548  529  527  563  601  481  541  775  876  825 1016 1056 1262 \n",
       "1984 1985 1986 1987 1988 1989 1990 1991 1992 1993 1994 1995 1996 1997 1998 1999 \n",
       "1157 1318 1606 1672 2135 1872 2062 1582 1703 1498 1476 1185  813  358  365  348 \n",
       "2000 2001 \n",
       " 473   30 "
      ]
     },
     "metadata": {},
     "output_type": "display_data"
    }
   ],
   "source": [
    "bike2 <- bike %>%\n",
    "  mutate(user_birth_year_fct = as.factor(user_birth_year))\n",
    "\n",
    "summary(bike2$user_birth_year_fct)"
   ]
  },
  {
   "cell_type": "markdown",
   "id": "b0f3f44b-d708-4b0f-83c3-51952d8890ea",
   "metadata": {},
   "source": [
    "The `duration` column is not very useful either. We need to trim the strings."
   ]
  },
  {
   "cell_type": "code",
   "execution_count": 8,
   "id": "3fa40bc6-ad58-4c94-9965-f4d1a8593721",
   "metadata": {},
   "outputs": [
    {
     "name": "stdout",
     "output_type": "stream",
     "text": [
      "Rows: 35,229\n",
      "Columns: 12\n",
      "$ ride_id          \u001b[3m\u001b[90m<int>\u001b[39m\u001b[23m 52797, 54540, 87695, 45619, 70832, 96135, 29928, 8333~\n",
      "$ date             \u001b[3m\u001b[90m<chr>\u001b[39m\u001b[23m \"2017-04-15\", \"2017-04-19\", \"2017-04-14\", \"2017-04-03~\n",
      "$ duration         \u001b[3m\u001b[90m<chr>\u001b[39m\u001b[23m \"1316.15 minutes\", \"8.13 minutes\", \"24.85 minutes\", \"~\n",
      "$ station_A_id     \u001b[3m\u001b[90m<dbl>\u001b[39m\u001b[23m 67, 21, 16, 58, 16, 6, 5, 16, 5, 81, 30, 16, 16, 67, ~\n",
      "$ station_A_name   \u001b[3m\u001b[90m<chr>\u001b[39m\u001b[23m \"San Francisco Caltrain Station 2  (Townsend St at 4t~\n",
      "$ station_B_id     \u001b[3m\u001b[90m<dbl>\u001b[39m\u001b[23m 89, 64, 355, 368, 81, 66, 350, 91, 62, 81, 109, 10, 8~\n",
      "$ station_B_name   \u001b[3m\u001b[90m<chr>\u001b[39m\u001b[23m \"Division St at Potrero Ave\", \"5th St at Brannan St\",~\n",
      "$ bike_id          \u001b[3m\u001b[90m<dbl>\u001b[39m\u001b[23m 1974, 860, 2263, 1417, 507, 75, 388, 239, 1449, 3289,~\n",
      "$ user_gender      \u001b[3m\u001b[90m<chr>\u001b[39m\u001b[23m \"Male\", \"Male\", \"Male\", \"Male\", \"Male\", \"Male\", \"Male~\n",
      "$ user_birth_year  \u001b[3m\u001b[90m<dbl>\u001b[39m\u001b[23m 1972, 1986, 1993, 1981, 1981, 1988, 1993, 1996, 1993,~\n",
      "$ duration_trimmed \u001b[3m\u001b[90m<chr>\u001b[39m\u001b[23m \"1316.15 \", \"8.13 \", \"24.85 \", \"6.35 \", \"9.8 \", \"17.4~\n",
      "$ duration_mins    \u001b[3m\u001b[90m<dbl>\u001b[39m\u001b[23m 1316.15, 8.13, 24.85, 6.35, 9.80, 17.47, 16.52, 14.72~\n"
     ]
    },
    {
     "data": {
      "text/html": [
       "13.062140849868"
      ],
      "text/latex": [
       "13.062140849868"
      ],
      "text/markdown": [
       "13.062140849868"
      ],
      "text/plain": [
       "[1] 13.06214"
      ]
     },
     "metadata": {},
     "output_type": "display_data"
    }
   ],
   "source": [
    "bike3 <- bike %>%\n",
    "  mutate(duration_trimmed = str_remove(duration, \"minutes\"),\n",
    "         duration_mins = as.numeric(duration_trimmed))\n",
    "\n",
    "glimpse(bike3)\n",
    "mean(bike3$duration_mins)"
   ]
  },
  {
   "cell_type": "markdown",
   "id": "c179b921-e124-4a91-8bbd-be8dea34aad2",
   "metadata": {},
   "source": [
    "<a name=\"toc_00232_1.2\"></a>\n",
    "**1.2   Range constraints**\n",
    "\n",
    "Many variables have some range that you can reasonably expect all of the data points to fall within. For example, the college entrance test in the US is scored between 400 and 1600, so there shouldn't be any scores below 400 or above 1600. Other examples are the weight of a package, which can't be negative, or in movie ratings using a five-star system, all ratings should fall between 0 and 5. Since we know what these reasonable ranges are, we know that there's something off if we see a weight of -5 pounds in our dataset. \n",
    "\n",
    "We can also use the `assert_all_are_in_closed_range()` function from the `assertive` package, which takes in a `lower` value and an `upper` value. It will give an error if anything falls outside of the specified range. Dates can also be out of range. A common scenario is when data contains dates in the future. We can use the `assert_all_are_in_past` function to check for future dates, and it looks like we have one.\n",
    "\n",
    "Once we identify that there are values out of range, how do we deal with them?\n",
    "- We could remove those data points completely, but this should only be done when only a small proportion of the values are out of range, otherwise, we would significantly increase the amount of bias in our dataset. We can do this with `filter()`.\n",
    "- We could also treat each out of range value as `missing`, or replace it with `NA`. This allows us to use different **imputation** techniques for missing data. We can do this with `mutate(var2 = replace(var1, var1 > 5, 5))`.\n",
    "- We can also replace out of range values with the range limit. For example, if we know our ratings should fall between 0 and 5 and there's a value of 6, we can replace the 6 with 5 so that it's in range. \n",
    "- Finally, we can replace the values with some other number based on our knowledge of the dataset. For example, we could replace them with the average rating of all movies."
   ]
  },
  {
   "cell_type": "code",
   "execution_count": 9,
   "id": "ef83463a-e920-4c51-b0e5-86cc6009f96b",
   "metadata": {},
   "outputs": [
    {
     "name": "stdout",
     "output_type": "stream",
     "text": [
      "Rows: 35,229\n",
      "Columns: 10\n",
      "$ ride_id         \u001b[3m\u001b[90m<int>\u001b[39m\u001b[23m 52797, 54540, 87695, 45619, 70832, 96135, 29928, 83331~\n",
      "$ date            \u001b[3m\u001b[90m<chr>\u001b[39m\u001b[23m \"2017-04-15\", \"2017-04-19\", \"2017-04-14\", \"2017-04-03\"~\n",
      "$ duration        \u001b[3m\u001b[90m<chr>\u001b[39m\u001b[23m \"1316.15 minutes\", \"8.13 minutes\", \"24.85 minutes\", \"6~\n",
      "$ station_A_id    \u001b[3m\u001b[90m<dbl>\u001b[39m\u001b[23m 67, 21, 16, 58, 16, 6, 5, 16, 5, 81, 30, 16, 16, 67, 2~\n",
      "$ station_A_name  \u001b[3m\u001b[90m<chr>\u001b[39m\u001b[23m \"San Francisco Caltrain Station 2  (Townsend St at 4th~\n",
      "$ station_B_id    \u001b[3m\u001b[90m<dbl>\u001b[39m\u001b[23m 89, 64, 355, 368, 81, 66, 350, 91, 62, 81, 109, 10, 80~\n",
      "$ station_B_name  \u001b[3m\u001b[90m<chr>\u001b[39m\u001b[23m \"Division St at Potrero Ave\", \"5th St at Brannan St\", ~\n",
      "$ bike_id         \u001b[3m\u001b[90m<dbl>\u001b[39m\u001b[23m 1974, 860, 2263, 1417, 507, 75, 388, 239, 1449, 3289, ~\n",
      "$ user_gender     \u001b[3m\u001b[90m<chr>\u001b[39m\u001b[23m \"Male\", \"Male\", \"Male\", \"Male\", \"Male\", \"Male\", \"Male\"~\n",
      "$ user_birth_year \u001b[3m\u001b[90m<dbl>\u001b[39m\u001b[23m 1972, 1986, 1993, 1981, 1981, 1988, 1993, 1996, 1993, ~\n"
     ]
    }
   ],
   "source": [
    "glimpse(bike)"
   ]
  },
  {
   "cell_type": "code",
   "execution_count": 10,
   "id": "ed9f87cc-bbc5-433e-af80-65e94e1226a2",
   "metadata": {},
   "outputs": [],
   "source": [
    "# Bikes are not allowed to be kept out for more than 24 hours (1440 minutes) at a time\n",
    "# duration_min_const: replace vals of duration_min > 1440 with 1440\n",
    "bike4 <- bike3 %>%\n",
    "  mutate(duration_min_const = replace(duration_mins, duration_mins > 1440, 1440))\n",
    "\n",
    "# Make sure all values of duration_min_const are between 0 and 1440\n",
    "assert_all_are_in_closed_range(bike4$duration_min_const, lower = 0, upper = 1440)"
   ]
  },
  {
   "cell_type": "code",
   "execution_count": 11,
   "id": "5407ee39-bb60-4a5c-9687-b62ee894dfa8",
   "metadata": {},
   "outputs": [
    {
     "data": {
      "text/html": [
       "<table class=\"dataframe\">\n",
       "<caption>A tibble: 0 × 10</caption>\n",
       "<thead>\n",
       "\t<tr><th scope=col>ride_id</th><th scope=col>date</th><th scope=col>duration</th><th scope=col>station_A_id</th><th scope=col>station_A_name</th><th scope=col>station_B_id</th><th scope=col>station_B_name</th><th scope=col>bike_id</th><th scope=col>user_gender</th><th scope=col>user_birth_year</th></tr>\n",
       "\t<tr><th scope=col>&lt;int&gt;</th><th scope=col>&lt;chr&gt;</th><th scope=col>&lt;chr&gt;</th><th scope=col>&lt;dbl&gt;</th><th scope=col>&lt;chr&gt;</th><th scope=col>&lt;dbl&gt;</th><th scope=col>&lt;chr&gt;</th><th scope=col>&lt;dbl&gt;</th><th scope=col>&lt;chr&gt;</th><th scope=col>&lt;dbl&gt;</th></tr>\n",
       "</thead>\n",
       "<tbody>\n",
       "</tbody>\n",
       "</table>\n"
      ],
      "text/latex": [
       "A tibble: 0 × 10\n",
       "\\begin{tabular}{llllllllll}\n",
       " ride\\_id & date & duration & station\\_A\\_id & station\\_A\\_name & station\\_B\\_id & station\\_B\\_name & bike\\_id & user\\_gender & user\\_birth\\_year\\\\\n",
       " <int> & <chr> & <chr> & <dbl> & <chr> & <dbl> & <chr> & <dbl> & <chr> & <dbl>\\\\\n",
       "\\hline\n",
       "\\end{tabular}\n"
      ],
      "text/markdown": [
       "\n",
       "A tibble: 0 × 10\n",
       "\n",
       "| ride_id &lt;int&gt; | date &lt;chr&gt; | duration &lt;chr&gt; | station_A_id &lt;dbl&gt; | station_A_name &lt;chr&gt; | station_B_id &lt;dbl&gt; | station_B_name &lt;chr&gt; | bike_id &lt;dbl&gt; | user_gender &lt;chr&gt; | user_birth_year &lt;dbl&gt; |\n",
       "|---|---|---|---|---|---|---|---|---|---|\n",
       "\n"
      ],
      "text/plain": [
       "     ride_id date duration station_A_id station_A_name station_B_id\n",
       "     station_B_name bike_id user_gender user_birth_year"
      ]
     },
     "metadata": {},
     "output_type": "display_data"
    },
    {
     "name": "stderr",
     "output_type": "stream",
     "text": [
      "Warning message:\n",
      "\"Coercing bike5$date to class 'POSIXct'.\"\n"
     ]
    }
   ],
   "source": [
    "bike5 <- bike %>%\n",
    "  mutate(date = as.Date(date))\n",
    "\n",
    "bike %>%\n",
    "  filter(date > today())\n",
    "\n",
    "# Make sure all dates are in the past\n",
    "assert_all_are_in_past(bike5$date)"
   ]
  },
  {
   "cell_type": "markdown",
   "id": "b15634e7-1555-40fa-8cbc-105afc6fc2f5",
   "metadata": {},
   "source": [
    "<a name=\"toc_00232_1.3\"></a>\n",
    "**1.3   Uniqueness  constraints**\n",
    "\n",
    "Sometimes we might have data containing duplicated data points caused by an error earlier in the pipeline. Duplicated data can have lots of unwanted side effects, but uniqueness constraints help us find and fix these duplicated data points. \n",
    "\n",
    "A duplicate is a data point that has the same values as another data in all columns, or in most columns. Duplicates can arise from data entry errors or other human errors, from bugs or design errors in data pipelines ,but they most commonly arise from errors in joining data together from multiple sources.\n",
    "\n",
    "A **full duplicate** occurs when there are multiple rows that have the same value in every column. We can find full duplicates using R's built-in `duplicated()` function. If we pass in our data frame, we get a logical vector, which is `TRUE` for each row that is a duplicate. If we take the `sum` of this vector, we get the total number of duplicates in the dataset.  Since full duplicates are exact copies of each other, we can deal with these by simply removing them from the dataset, leaving only one copy behind. \n",
    "\n",
    "<div style=\"text-align:center;\">\n",
    "  <img src=\"images/clean_05.png\" width = \"500\" align=\"center\">\n",
    "</div>\n",
    "\n",
    "**Partial duplicates** are rows of data that have much of the same information and refer to the same data point, but there may be some columns that differ between them. Below, rows 3 and 4 are partial duplicates of each other and rows 5 and 6 are partial duplicates of each other. They have the same name and address, but different credit scores. This can happen due to data entry errors or technical errors. In this example, some data from a year ago may have gotten mixed with the data from this year.\n",
    "\n",
    "<div style=\"text-align:center;\">\n",
    "  <img src=\"images/clean_06.png\" width = \"500\" align=\"center\">\n",
    "</div>\n",
    "\n",
    "To include partial duplicates in our search, we can use dplyr's `count()` function to count the number of occurrences of each pair of first name and last name, then filter for the pairs that occur more than once. This will give us data points that share the same name, but may differ in address or credit score. We can save this as a data frame called dup_ids and then filter to take a look at all the rows that have a duplicate. This gives us a list of the full duplicates and the partial duplicates in the dataset.\n",
    "\n",
    "<div style=\"text-align:center;\">\n",
    "  <img src=\"images/clean_07.png\" width = \"500\" align=\"center\">\n",
    "</div>\n",
    "\n",
    "Handling partial duplicates:\n",
    "- One way to handle partial duplicates is to drop all duplicates and keep only one of them. In R, we can also use the `distinct()` function to drop partial duplicates, but this time, we pass in the column names that duplicates should be matched on. Here, it's first name and last name. We also set the `.keep_all` argument to `TRUE`, which will keep all columns of the data frame instead of only first_name and last_name.\n",
    "\n",
    "<div style=\"text-align:center;\">\n",
    "  <img src=\"images/clean_08.png\" width = \"350\" align=\"center\">\n",
    "</div>\n",
    "\n",
    "- Another way to handle partial duplicates is to summarize them using a summary statistic, like the mean or max. Since the credit scores differ in our example, we can take the mean credit score for each individual keeping only one copy of each duplicate, and use the mean as the value for credit score. To summarize partial duplicates, we group by first_name and last_name, and then mutate, adding a column containing the mean credit score for each name. Since we've grouped before mutating, the mean_score column contains the mean score for each person. \n",
    "\n",
    "<div style=\"text-align:center;\">\n",
    "  <img src=\"images/clean_10.png\" width = \"500\" align=\"center\">\n",
    "</div>\n",
    "\n",
    "We can pipe all of this into distinct, using first and last name and setting dot-keep_all to TRUE to remove the extra duplicates. We can also remove the old credit_score column to clean things up.\n",
    "\n",
    "<div style=\"text-align:center;\">\n",
    "  <img src=\"images/clean_09.png\" width = \"400\" align=\"center\">\n",
    "</div>"
   ]
  },
  {
   "cell_type": "code",
   "execution_count": 12,
   "id": "c84c84f1-95fb-429b-a000-5dd7835dc10f",
   "metadata": {},
   "outputs": [
    {
     "data": {
      "text/html": [
       "2"
      ],
      "text/latex": [
       "2"
      ],
      "text/markdown": [
       "2"
      ],
      "text/plain": [
       "[1] 2"
      ]
     },
     "metadata": {},
     "output_type": "display_data"
    },
    {
     "data": {
      "text/html": [
       "0"
      ],
      "text/latex": [
       "0"
      ],
      "text/markdown": [
       "0"
      ],
      "text/plain": [
       "[1] 0"
      ]
     },
     "metadata": {},
     "output_type": "display_data"
    }
   ],
   "source": [
    "bikedup <- rbind(bike, bike[1:2,]) # create duplicates\n",
    "\n",
    "# Count the number of full duplicates\n",
    "sum(duplicated(bikedup))\n",
    "\n",
    "# Remove duplicates\n",
    "biked_unique <- distinct(bikedup)\n",
    "\n",
    "# Count the full duplicates in bike_share_rides_unique\n",
    "sum(duplicated(biked_unique))"
   ]
  },
  {
   "cell_type": "code",
   "execution_count": 13,
   "id": "460a6ce5-dae8-4bb5-a4f4-7e4940c79aef",
   "metadata": {},
   "outputs": [
    {
     "data": {
      "text/html": [
       "<table class=\"dataframe\">\n",
       "<caption>A tibble: 2 × 2</caption>\n",
       "<thead>\n",
       "\t<tr><th scope=col>ride_id</th><th scope=col>n</th></tr>\n",
       "\t<tr><th scope=col>&lt;int&gt;</th><th scope=col>&lt;int&gt;</th></tr>\n",
       "</thead>\n",
       "<tbody>\n",
       "\t<tr><td>52797</td><td>2</td></tr>\n",
       "\t<tr><td>54540</td><td>2</td></tr>\n",
       "</tbody>\n",
       "</table>\n"
      ],
      "text/latex": [
       "A tibble: 2 × 2\n",
       "\\begin{tabular}{ll}\n",
       " ride\\_id & n\\\\\n",
       " <int> & <int>\\\\\n",
       "\\hline\n",
       "\t 52797 & 2\\\\\n",
       "\t 54540 & 2\\\\\n",
       "\\end{tabular}\n"
      ],
      "text/markdown": [
       "\n",
       "A tibble: 2 × 2\n",
       "\n",
       "| ride_id &lt;int&gt; | n &lt;int&gt; |\n",
       "|---|---|\n",
       "| 52797 | 2 |\n",
       "| 54540 | 2 |\n",
       "\n"
      ],
      "text/plain": [
       "  ride_id n\n",
       "1 52797   2\n",
       "2 54540   2"
      ]
     },
     "metadata": {},
     "output_type": "display_data"
    }
   ],
   "source": [
    "# Find duplicated ride_ids\n",
    "bikedup %>% \n",
    "  count(ride_id) %>% \n",
    "  filter(n > 1)"
   ]
  },
  {
   "cell_type": "code",
   "execution_count": 14,
   "id": "87ed7b72-2b91-42b4-a2e2-9a29bd3a9c29",
   "metadata": {},
   "outputs": [],
   "source": [
    "# Method 1 - remove full and partial duplicates\n",
    "bike_share_rides_unique <- bikedup %>%\n",
    "  distinct(ride_id, .keep_all = TRUE) "
   ]
  },
  {
   "cell_type": "code",
   "execution_count": 15,
   "id": "dbd2f252-9ba3-42a1-ad87-66feb444df2b",
   "metadata": {},
   "outputs": [
    {
     "data": {
      "text/html": [
       "<table class=\"dataframe\">\n",
       "<caption>A tibble: 0 × 2</caption>\n",
       "<thead>\n",
       "\t<tr><th scope=col>ride_id</th><th scope=col>n</th></tr>\n",
       "\t<tr><th scope=col>&lt;int&gt;</th><th scope=col>&lt;int&gt;</th></tr>\n",
       "</thead>\n",
       "<tbody>\n",
       "</tbody>\n",
       "</table>\n"
      ],
      "text/latex": [
       "A tibble: 0 × 2\n",
       "\\begin{tabular}{ll}\n",
       " ride\\_id & n\\\\\n",
       " <int> & <int>\\\\\n",
       "\\hline\n",
       "\\end{tabular}\n"
      ],
      "text/markdown": [
       "\n",
       "A tibble: 0 × 2\n",
       "\n",
       "| ride_id &lt;int&gt; | n &lt;int&gt; |\n",
       "|---|---|\n",
       "\n"
      ],
      "text/plain": [
       "     ride_id n"
      ]
     },
     "metadata": {},
     "output_type": "display_data"
    }
   ],
   "source": [
    "# Find duplicated ride_ids in bike_share_rides_unique\n",
    "bike_share_rides_unique %>%\n",
    "  count(ride_id) %>%\n",
    "  filter(n > 1)  # no more duplicates"
   ]
  },
  {
   "cell_type": "code",
   "execution_count": 16,
   "id": "ada81d30-d843-44b7-8478-f70c01ca450e",
   "metadata": {},
   "outputs": [
    {
     "data": {
      "text/html": [
       "<table class=\"dataframe\">\n",
       "<caption>A tibble: 2 × 10</caption>\n",
       "<thead>\n",
       "\t<tr><th scope=col>ride_id</th><th scope=col>date</th><th scope=col>duration</th><th scope=col>station_A_id</th><th scope=col>station_A_name</th><th scope=col>station_B_id</th><th scope=col>station_B_name</th><th scope=col>bike_id</th><th scope=col>user_gender</th><th scope=col>user_birth_year</th></tr>\n",
       "\t<tr><th scope=col>&lt;int&gt;</th><th scope=col>&lt;chr&gt;</th><th scope=col>&lt;chr&gt;</th><th scope=col>&lt;dbl&gt;</th><th scope=col>&lt;chr&gt;</th><th scope=col>&lt;dbl&gt;</th><th scope=col>&lt;chr&gt;</th><th scope=col>&lt;dbl&gt;</th><th scope=col>&lt;chr&gt;</th><th scope=col>&lt;dbl&gt;</th></tr>\n",
       "</thead>\n",
       "<tbody>\n",
       "\t<tr><td>52797</td><td>2017-04-15</td><td>1316.15 minutes</td><td>67</td><td>San Francisco Caltrain Station 2  (Townsend St at 4th St)</td><td>89</td><td>Division St at Potrero Ave</td><td>1974</td><td>Male</td><td>1972</td></tr>\n",
       "\t<tr><td>54540</td><td>2017-04-19</td><td>8.13 minutes   </td><td>21</td><td>Montgomery St BART Station (Market St at 2nd St)         </td><td>64</td><td>5th St at Brannan St      </td><td> 860</td><td>Male</td><td>1986</td></tr>\n",
       "</tbody>\n",
       "</table>\n"
      ],
      "text/latex": [
       "A tibble: 2 × 10\n",
       "\\begin{tabular}{llllllllll}\n",
       " ride\\_id & date & duration & station\\_A\\_id & station\\_A\\_name & station\\_B\\_id & station\\_B\\_name & bike\\_id & user\\_gender & user\\_birth\\_year\\\\\n",
       " <int> & <chr> & <chr> & <dbl> & <chr> & <dbl> & <chr> & <dbl> & <chr> & <dbl>\\\\\n",
       "\\hline\n",
       "\t 52797 & 2017-04-15 & 1316.15 minutes & 67 & San Francisco Caltrain Station 2  (Townsend St at 4th St) & 89 & Division St at Potrero Ave & 1974 & Male & 1972\\\\\n",
       "\t 54540 & 2017-04-19 & 8.13 minutes    & 21 & Montgomery St BART Station (Market St at 2nd St)          & 64 & 5th St at Brannan St       &  860 & Male & 1986\\\\\n",
       "\\end{tabular}\n"
      ],
      "text/markdown": [
       "\n",
       "A tibble: 2 × 10\n",
       "\n",
       "| ride_id &lt;int&gt; | date &lt;chr&gt; | duration &lt;chr&gt; | station_A_id &lt;dbl&gt; | station_A_name &lt;chr&gt; | station_B_id &lt;dbl&gt; | station_B_name &lt;chr&gt; | bike_id &lt;dbl&gt; | user_gender &lt;chr&gt; | user_birth_year &lt;dbl&gt; |\n",
       "|---|---|---|---|---|---|---|---|---|---|\n",
       "| 52797 | 2017-04-15 | 1316.15 minutes | 67 | San Francisco Caltrain Station 2  (Townsend St at 4th St) | 89 | Division St at Potrero Ave | 1974 | Male | 1972 |\n",
       "| 54540 | 2017-04-19 | 8.13 minutes    | 21 | Montgomery St BART Station (Market St at 2nd St)          | 64 | 5th St at Brannan St       |  860 | Male | 1986 |\n",
       "\n"
      ],
      "text/plain": [
       "  ride_id date       duration        station_A_id\n",
       "1 52797   2017-04-15 1316.15 minutes 67          \n",
       "2 54540   2017-04-19 8.13 minutes    21          \n",
       "  station_A_name                                            station_B_id\n",
       "1 San Francisco Caltrain Station 2  (Townsend St at 4th St) 89          \n",
       "2 Montgomery St BART Station (Market St at 2nd St)          64          \n",
       "  station_B_name             bike_id user_gender user_birth_year\n",
       "1 Division St at Potrero Ave 1974    Male        1972           \n",
       "2 5th St at Brannan St        860    Male        1986           "
      ]
     },
     "metadata": {},
     "output_type": "display_data"
    }
   ],
   "source": [
    "head(bikedup, 2)"
   ]
  },
  {
   "cell_type": "code",
   "execution_count": 17,
   "id": "49a2605d-4772-49d0-9c97-39f6d71832db",
   "metadata": {},
   "outputs": [],
   "source": [
    "# Method 2\n",
    "bike_share_rides_unique2 <- bikedup %>%\n",
    "  mutate(duration_trimmed = str_remove(duration, \"minutes\"),\n",
    "         duration_mins = as.numeric(duration_trimmed)) %>%\n",
    "  group_by(ride_id, date) %>%\n",
    "  mutate(duration_min_avg = mean(duration_mins)) %>%\n",
    "  distinct(ride_id, date, .keep_all = TRUE) %>%\n",
    "  select(-duration_mins)"
   ]
  },
  {
   "cell_type": "markdown",
   "id": "be6b6048-57c2-42f1-bfb0-5a86c6713d87",
   "metadata": {},
   "source": [
    "<a name=\"toc_00232_2\"></a>\n",
    "## 2.   Categorical and text data"
   ]
  },
  {
   "cell_type": "markdown",
   "id": "c5055230-6a55-47f3-8959-598bf6a6c39e",
   "metadata": {},
   "source": [
    "<a name=\"toc_00232_2.1\"></a>\n",
    "**2.1   Membership  constraints**"
   ]
  },
  {
   "cell_type": "markdown",
   "id": "1311189f-ec7f-434d-946c-868e35c84e47",
   "metadata": {},
   "source": [
    "Maybe we have a factor column that contain an unexpected or unwanted factor level (probably due to data entry error). We can use  filtering joins to find and remove values of these categorical variables that don't belong.\n",
    "\n",
    "<div style=\"text-align:center;\">\n",
    "  <img src=\"images/clean_11.png\" width = \"300\" align=\"center\">\n",
    "</div>\n",
    "\n",
    "Here we have a data frame called `study_data`, which contains data from a study about babies' blood types. `study_data` has the name, birthday, and blood type of each child. We also have a data frame called `blood_types` that contains all the possible blood types that a human can have. Note, that Jennifer has blood type Z+, which is not a real blood type. Luckily, we can use the `blood_types` data frame as our ground truth to fix this.\n",
    "\n",
    "<div style=\"text-align:center;\">\n",
    "  <img src=\"images/clean_12.png\" width = \"500\" align=\"center\">\n",
    "</div>\n",
    "\n",
    "To find invalid blood types in our study data, we want to find all the blood types in study_data that are NOT in the blood_types data frame. This means we'll need an anti-join.\n",
    "\n",
    "<div style=\"text-align:center;\">\n",
    "  <img src=\"images/clean_13.png\" width = \"200\" align=\"center\">\n",
    "</div>\n",
    "\n",
    "We can use  filtering joins to find and remove values of these categorical variables that don't belong. We can use the `anti_join()` function to get the rows of `study_data` with a blood type not in the `blood_types` data frame. \n",
    " \n",
    "<div style=\"text-align:center;\">\n",
    "  <img src=\"images/clean_14.png\" width = \"300\" align=\"center\">\n",
    "</div>\n",
    "\n",
    "To remove the invalid blood types from our `study_data`, we want to find all the rows with a blood type in the official `blood_types` data frame. This means we'll need to use a `semi-join()`.\n",
    "\n",
    "<div style=\"text-align:center;\">\n",
    "  <img src=\"images/clean_15.png\" width = \"300\" align=\"center\">\n",
    "</div>"
   ]
  },
  {
   "cell_type": "markdown",
   "id": "de0775cb-51c4-4ac2-8cb8-134f26117d5d",
   "metadata": {},
   "source": [
    "<a name=\"toc_00232_2.2\"></a>\n",
    "**2.2 Inconsistency within categories**\n",
    "\n",
    "Two frequent problem with categorical data is \n",
    "- case inconsistency\n",
    "- using too many categories (especially if the subgroups are not meaningful and the number of observations per categories is too small)\n",
    "- formatting inconsistency - e.g. phone numbers can be written in a variety of ways with or without spaces, parentheses, hyphens, and other punctuation,\n",
    "- information inconsistency - when different data points offer different amounts of information. E.g. one phone number could include a country code, while others may not,\n",
    "- Invalid data - e.g. a phone number with only 4 digits or a zip code that doesn't exist\n",
    "\n",
    "<div style=\"text-align:center;\">\n",
    "  <img src=\"images/clean_16.png\" width = \"500\" align=\"center\">\n",
    "</div>\n",
    "\n",
    "<div style=\"text-align:center;\">\n",
    "  <img src=\"images/clean_17.png\" width = \"400\" align=\"center\">\n",
    "</div>"
   ]
  },
  {
   "cell_type": "code",
   "execution_count": 39,
   "id": "7534524f-25ce-4c55-8347-fed2e860d754",
   "metadata": {},
   "outputs": [
    {
     "data": {
      "text/html": [
       "<table class=\"dataframe\">\n",
       "<caption>A data.frame: 7 × 2</caption>\n",
       "<thead>\n",
       "\t<tr><th scope=col>Species</th><th scope=col>n</th></tr>\n",
       "\t<tr><th scope=col>&lt;chr&gt;</th><th scope=col>&lt;int&gt;</th></tr>\n",
       "</thead>\n",
       "<tbody>\n",
       "\t<tr><td>  setosa   </td><td> 1</td></tr>\n",
       "\t<tr><td>laevigata  </td><td> 1</td></tr>\n",
       "\t<tr><td>setosa     </td><td>50</td></tr>\n",
       "\t<tr><td>SETOSA     </td><td> 1</td></tr>\n",
       "\t<tr><td>speculatrix</td><td> 1</td></tr>\n",
       "\t<tr><td>versicolor </td><td>50</td></tr>\n",
       "\t<tr><td>virginica  </td><td>50</td></tr>\n",
       "</tbody>\n",
       "</table>\n"
      ],
      "text/latex": [
       "A data.frame: 7 × 2\n",
       "\\begin{tabular}{ll}\n",
       " Species & n\\\\\n",
       " <chr> & <int>\\\\\n",
       "\\hline\n",
       "\t   setosa    &  1\\\\\n",
       "\t laevigata   &  1\\\\\n",
       "\t setosa      & 50\\\\\n",
       "\t SETOSA      &  1\\\\\n",
       "\t speculatrix &  1\\\\\n",
       "\t versicolor  & 50\\\\\n",
       "\t virginica   & 50\\\\\n",
       "\\end{tabular}\n"
      ],
      "text/markdown": [
       "\n",
       "A data.frame: 7 × 2\n",
       "\n",
       "| Species &lt;chr&gt; | n &lt;int&gt; |\n",
       "|---|---|\n",
       "|   setosa    |  1 |\n",
       "| laevigata   |  1 |\n",
       "| setosa      | 50 |\n",
       "| SETOSA      |  1 |\n",
       "| speculatrix |  1 |\n",
       "| versicolor  | 50 |\n",
       "| virginica   | 50 |\n",
       "\n"
      ],
      "text/plain": [
       "  Species     n \n",
       "1   setosa     1\n",
       "2 laevigata    1\n",
       "3 setosa      50\n",
       "4 SETOSA       1\n",
       "5 speculatrix  1\n",
       "6 versicolor  50\n",
       "7 virginica   50"
      ]
     },
     "metadata": {},
     "output_type": "display_data"
    }
   ],
   "source": [
    "# Create bad example \n",
    "iris_bad <-\n",
    "  iris %>% \n",
    "  add_row(Species = \"SETOSA\") %>%\n",
    "  add_row(Species = \"  setosa\")  %>%\n",
    "  add_row(Species = \"speculatrix\")  %>%\n",
    "  add_row(Species = \"laevigata\")\n",
    "\n",
    "iris_bad %>%\n",
    "  count(Species)"
   ]
  },
  {
   "cell_type": "code",
   "execution_count": 42,
   "id": "42b1cd35-2801-434c-b33f-86f4cdb855fa",
   "metadata": {},
   "outputs": [
    {
     "data": {
      "text/html": [
       "<table class=\"dataframe\">\n",
       "<caption>A data.frame: 4 × 2</caption>\n",
       "<thead>\n",
       "\t<tr><th scope=col>Species</th><th scope=col>n</th></tr>\n",
       "\t<tr><th scope=col>&lt;fct&gt;</th><th scope=col>&lt;int&gt;</th></tr>\n",
       "</thead>\n",
       "<tbody>\n",
       "\t<tr><td>other     </td><td> 2</td></tr>\n",
       "\t<tr><td>setosa    </td><td>52</td></tr>\n",
       "\t<tr><td>versicolor</td><td>50</td></tr>\n",
       "\t<tr><td>virginica </td><td>50</td></tr>\n",
       "</tbody>\n",
       "</table>\n"
      ],
      "text/latex": [
       "A data.frame: 4 × 2\n",
       "\\begin{tabular}{ll}\n",
       " Species & n\\\\\n",
       " <fct> & <int>\\\\\n",
       "\\hline\n",
       "\t other      &  2\\\\\n",
       "\t setosa     & 52\\\\\n",
       "\t versicolor & 50\\\\\n",
       "\t virginica  & 50\\\\\n",
       "\\end{tabular}\n"
      ],
      "text/markdown": [
       "\n",
       "A data.frame: 4 × 2\n",
       "\n",
       "| Species &lt;fct&gt; | n &lt;int&gt; |\n",
       "|---|---|\n",
       "| other      |  2 |\n",
       "| setosa     | 52 |\n",
       "| versicolor | 50 |\n",
       "| virginica  | 50 |\n",
       "\n"
      ],
      "text/plain": [
       "  Species    n \n",
       "1 other       2\n",
       "2 setosa     52\n",
       "3 versicolor 50\n",
       "4 virginica  50"
      ]
     },
     "metadata": {},
     "output_type": "display_data"
    }
   ],
   "source": [
    "# Correct the case problem\n",
    "iris_bad %>%\n",
    "  mutate(Species = str_to_lower(Species))  %>% # Correct the case problem\n",
    "  mutate(Species = str_trim(Species))  %>%     # Correct the whitespace problem\n",
    "  mutate(Species = fct_collapse(Species, other = c(\"speculatrix\", \"laevigata\")))  %>% # Correct the low frequency subgroup problem \n",
    "  count(Species)"
   ]
  },
  {
   "cell_type": "markdown",
   "id": "82d3c9e0-2d35-4c35-be94-2ce53a3f0d87",
   "metadata": {},
   "source": [
    "Now let's handle formatting or information inconsistencies"
   ]
  },
  {
   "cell_type": "code",
   "execution_count": 48,
   "id": "2c7de695-6cb0-4eeb-9d26-97e37fe099fe",
   "metadata": {},
   "outputs": [
    {
     "data": {
      "text/html": [
       "<table class=\"dataframe\">\n",
       "<caption>A data.frame: 3 × 7</caption>\n",
       "<thead>\n",
       "\t<tr><th></th><th scope=col>id</th><th scope=col>name</th><th scope=col>addr</th><th scope=col>city</th><th scope=col>phone</th><th scope=col>type</th><th scope=col>class</th></tr>\n",
       "\t<tr><th></th><th scope=col>&lt;int&gt;</th><th scope=col>&lt;chr&gt;</th><th scope=col>&lt;chr&gt;</th><th scope=col>&lt;fct&gt;</th><th scope=col>&lt;chr&gt;</th><th scope=col>&lt;chr&gt;</th><th scope=col>&lt;int&gt;</th></tr>\n",
       "</thead>\n",
       "<tbody>\n",
       "\t<tr><th scope=row>1</th><td>0</td><td>arnie morton's of chicago</td><td>435 s. la cienega blv .</td><td>los angeles</td><td>310-246-1501</td><td>american   </td><td>0</td></tr>\n",
       "\t<tr><th scope=row>2</th><td>1</td><td>art's delicatessen       </td><td>12224 ventura blvd.    </td><td>los angeles</td><td>818-762-1221</td><td>american   </td><td>1</td></tr>\n",
       "\t<tr><th scope=row>3</th><td>2</td><td>hotel bel-air            </td><td>701 stone canyon rd.   </td><td>los angeles</td><td>310-472-1211</td><td>californian</td><td>2</td></tr>\n",
       "</tbody>\n",
       "</table>\n"
      ],
      "text/latex": [
       "A data.frame: 3 × 7\n",
       "\\begin{tabular}{r|lllllll}\n",
       "  & id & name & addr & city & phone & type & class\\\\\n",
       "  & <int> & <chr> & <chr> & <fct> & <chr> & <chr> & <int>\\\\\n",
       "\\hline\n",
       "\t1 & 0 & arnie morton's of chicago & 435 s. la cienega blv . & los angeles & 310-246-1501 & american    & 0\\\\\n",
       "\t2 & 1 & art's delicatessen        & 12224 ventura blvd.     & los angeles & 818-762-1221 & american    & 1\\\\\n",
       "\t3 & 2 & hotel bel-air             & 701 stone canyon rd.    & los angeles & 310-472-1211 & californian & 2\\\\\n",
       "\\end{tabular}\n"
      ],
      "text/markdown": [
       "\n",
       "A data.frame: 3 × 7\n",
       "\n",
       "| <!--/--> | id &lt;int&gt; | name &lt;chr&gt; | addr &lt;chr&gt; | city &lt;fct&gt; | phone &lt;chr&gt; | type &lt;chr&gt; | class &lt;int&gt; |\n",
       "|---|---|---|---|---|---|---|---|\n",
       "| 1 | 0 | arnie morton's of chicago | 435 s. la cienega blv . | los angeles | 310-246-1501 | american    | 0 |\n",
       "| 2 | 1 | art's delicatessen        | 12224 ventura blvd.     | los angeles | 818-762-1221 | american    | 1 |\n",
       "| 3 | 2 | hotel bel-air             | 701 stone canyon rd.    | los angeles | 310-472-1211 | californian | 2 |\n",
       "\n"
      ],
      "text/plain": [
       "  id name                      addr                    city        phone       \n",
       "1 0  arnie morton's of chicago 435 s. la cienega blv . los angeles 310-246-1501\n",
       "2 1  art's delicatessen        12224 ventura blvd.     los angeles 818-762-1221\n",
       "3 2  hotel bel-air             701 stone canyon rd.    los angeles 310-472-1211\n",
       "  type        class\n",
       "1 american    0    \n",
       "2 american    1    \n",
       "3 californian 2    "
      ]
     },
     "metadata": {},
     "output_type": "display_data"
    }
   ],
   "source": [
    "head(fodors, 3)"
   ]
  },
  {
   "cell_type": "code",
   "execution_count": 62,
   "id": "10efa031-656b-4484-a093-9129ebf4305b",
   "metadata": {},
   "outputs": [
    {
     "data": {
      "text/html": [
       "<table class=\"dataframe\">\n",
       "<caption>A data.frame: 2 × 8</caption>\n",
       "<thead>\n",
       "\t<tr><th></th><th scope=col>id</th><th scope=col>name</th><th scope=col>addr</th><th scope=col>city</th><th scope=col>phone</th><th scope=col>type</th><th scope=col>class</th><th scope=col>phone2</th></tr>\n",
       "\t<tr><th></th><th scope=col>&lt;int&gt;</th><th scope=col>&lt;chr&gt;</th><th scope=col>&lt;chr&gt;</th><th scope=col>&lt;fct&gt;</th><th scope=col>&lt;chr&gt;</th><th scope=col>&lt;chr&gt;</th><th scope=col>&lt;int&gt;</th><th scope=col>&lt;chr&gt;</th></tr>\n",
       "</thead>\n",
       "<tbody>\n",
       "\t<tr><th scope=row>1</th><td>25</td><td>aureole             </td><td>34 e. 61st st.</td><td>new york</td><td>' 212- 319-1660 '</td><td>american</td><td>25</td><td>'212-319-1660'</td></tr>\n",
       "\t<tr><th scope=row>2</th><td>45</td><td>manhattan ocean club</td><td>57 w. 58th st.</td><td>new york</td><td>' 212- 371-7777 '</td><td>seafood </td><td>45</td><td>'212-371-7777'</td></tr>\n",
       "</tbody>\n",
       "</table>\n"
      ],
      "text/latex": [
       "A data.frame: 2 × 8\n",
       "\\begin{tabular}{r|llllllll}\n",
       "  & id & name & addr & city & phone & type & class & phone2\\\\\n",
       "  & <int> & <chr> & <chr> & <fct> & <chr> & <chr> & <int> & <chr>\\\\\n",
       "\\hline\n",
       "\t1 & 25 & aureole              & 34 e. 61st st. & new york & ' 212- 319-1660 ' & american & 25 & '212-319-1660'\\\\\n",
       "\t2 & 45 & manhattan ocean club & 57 w. 58th st. & new york & ' 212- 371-7777 ' & seafood  & 45 & '212-371-7777'\\\\\n",
       "\\end{tabular}\n"
      ],
      "text/markdown": [
       "\n",
       "A data.frame: 2 × 8\n",
       "\n",
       "| <!--/--> | id &lt;int&gt; | name &lt;chr&gt; | addr &lt;chr&gt; | city &lt;fct&gt; | phone &lt;chr&gt; | type &lt;chr&gt; | class &lt;int&gt; | phone2 &lt;chr&gt; |\n",
       "|---|---|---|---|---|---|---|---|---|\n",
       "| 1 | 25 | aureole              | 34 e. 61st st. | new york | ' 212- 319-1660 ' | american | 25 | '212-319-1660' |\n",
       "| 2 | 45 | manhattan ocean club | 57 w. 58th st. | new york | ' 212- 371-7777 ' | seafood  | 45 | '212-371-7777' |\n",
       "\n"
      ],
      "text/plain": [
       "  id name                 addr           city     phone             type    \n",
       "1 25 aureole              34 e. 61st st. new york ' 212- 319-1660 ' american\n",
       "2 45 manhattan ocean club 57 w. 58th st. new york ' 212- 371-7777 ' seafood \n",
       "  class phone2        \n",
       "1 25    '212-319-1660'\n",
       "2 45    '212-371-7777'"
      ]
     },
     "metadata": {},
     "output_type": "display_data"
    }
   ],
   "source": [
    "# Find cases with whitespace and correct them\n",
    "fodors %>%\n",
    "  filter(str_detect(phone, \" \")) %>%\n",
    "  mutate(phone2 = str_replace_all(phone, \" \", \"\")) %>%\n",
    "  head(2)"
   ]
  },
  {
   "cell_type": "code",
   "execution_count": 69,
   "id": "4c6f9a63-6f78-43a4-ad19-cd85ddb98514",
   "metadata": {},
   "outputs": [
    {
     "data": {
      "text/html": [
       "<table class=\"dataframe\">\n",
       "<caption>A data.frame: 2 × 8</caption>\n",
       "<thead>\n",
       "\t<tr><th></th><th scope=col>id</th><th scope=col>name</th><th scope=col>addr</th><th scope=col>city</th><th scope=col>phone</th><th scope=col>type</th><th scope=col>class</th><th scope=col>phone3</th></tr>\n",
       "\t<tr><th></th><th scope=col>&lt;int&gt;</th><th scope=col>&lt;chr&gt;</th><th scope=col>&lt;chr&gt;</th><th scope=col>&lt;fct&gt;</th><th scope=col>&lt;chr&gt;</th><th scope=col>&lt;chr&gt;</th><th scope=col>&lt;int&gt;</th><th scope=col>&lt;chr&gt;</th></tr>\n",
       "</thead>\n",
       "<tbody>\n",
       "\t<tr><th scope=row>1</th><td>0</td><td>arnie morton's of chicago</td><td>435 s. la cienega blv .</td><td>los angeles</td><td>310-246-1501</td><td>american</td><td>0</td><td>3102461501</td></tr>\n",
       "\t<tr><th scope=row>2</th><td>1</td><td>art's delicatessen       </td><td>12224 ventura blvd.    </td><td>los angeles</td><td>818-762-1221</td><td>american</td><td>1</td><td>8187621221</td></tr>\n",
       "</tbody>\n",
       "</table>\n"
      ],
      "text/latex": [
       "A data.frame: 2 × 8\n",
       "\\begin{tabular}{r|llllllll}\n",
       "  & id & name & addr & city & phone & type & class & phone3\\\\\n",
       "  & <int> & <chr> & <chr> & <fct> & <chr> & <chr> & <int> & <chr>\\\\\n",
       "\\hline\n",
       "\t1 & 0 & arnie morton's of chicago & 435 s. la cienega blv . & los angeles & 310-246-1501 & american & 0 & 3102461501\\\\\n",
       "\t2 & 1 & art's delicatessen        & 12224 ventura blvd.     & los angeles & 818-762-1221 & american & 1 & 8187621221\\\\\n",
       "\\end{tabular}\n"
      ],
      "text/markdown": [
       "\n",
       "A data.frame: 2 × 8\n",
       "\n",
       "| <!--/--> | id &lt;int&gt; | name &lt;chr&gt; | addr &lt;chr&gt; | city &lt;fct&gt; | phone &lt;chr&gt; | type &lt;chr&gt; | class &lt;int&gt; | phone3 &lt;chr&gt; |\n",
       "|---|---|---|---|---|---|---|---|---|\n",
       "| 1 | 0 | arnie morton's of chicago | 435 s. la cienega blv . | los angeles | 310-246-1501 | american | 0 | 3102461501 |\n",
       "| 2 | 1 | art's delicatessen        | 12224 ventura blvd.     | los angeles | 818-762-1221 | american | 1 | 8187621221 |\n",
       "\n"
      ],
      "text/plain": [
       "  id name                      addr                    city        phone       \n",
       "1 0  arnie morton's of chicago 435 s. la cienega blv . los angeles 310-246-1501\n",
       "2 1  art's delicatessen        12224 ventura blvd.     los angeles 818-762-1221\n",
       "  type     class phone3    \n",
       "1 american 0     3102461501\n",
       "2 american 1     8187621221"
      ]
     },
     "metadata": {},
     "output_type": "display_data"
    }
   ],
   "source": [
    "# Remove all \"-\" and \" \" charactes\n",
    "phone_clean <- fodors$phone %>%\n",
    "  str_remove_all(\"-\")  %>%\n",
    "  str_remove_all(\" \")\n",
    "\n",
    "fodors_corr <- fodors %>%\n",
    "  mutate(phone3 = phone_clean) %>%\n",
    "  head(2)\n",
    "\n",
    "fodors_corr"
   ]
  },
  {
   "cell_type": "markdown",
   "id": "2e807eb3-84c2-4258-aa4b-d36da3ce3726",
   "metadata": {},
   "source": [
    "Now let's handle invalid data"
   ]
  },
  {
   "cell_type": "code",
   "execution_count": 76,
   "id": "469164d6-52dd-401d-961c-6432dd81adad",
   "metadata": {},
   "outputs": [
    {
     "data": {
      "text/html": [
       "<table class=\"dataframe\">\n",
       "<caption>A data.frame: 1 × 8</caption>\n",
       "<thead>\n",
       "\t<tr><th scope=col>id</th><th scope=col>name</th><th scope=col>addr</th><th scope=col>city</th><th scope=col>phone</th><th scope=col>type</th><th scope=col>class</th><th scope=col>phone3</th></tr>\n",
       "\t<tr><th scope=col>&lt;int&gt;</th><th scope=col>&lt;chr&gt;</th><th scope=col>&lt;chr&gt;</th><th scope=col>&lt;fct&gt;</th><th scope=col>&lt;chr&gt;</th><th scope=col>&lt;chr&gt;</th><th scope=col>&lt;int&gt;</th><th scope=col>&lt;chr&gt;</th></tr>\n",
       "</thead>\n",
       "<tbody>\n",
       "\t<tr><td>NA</td><td>NA</td><td>NA</td><td>NA</td><td>NA</td><td>NA</td><td>NA</td><td>25846231524</td></tr>\n",
       "</tbody>\n",
       "</table>\n"
      ],
      "text/latex": [
       "A data.frame: 1 × 8\n",
       "\\begin{tabular}{llllllll}\n",
       " id & name & addr & city & phone & type & class & phone3\\\\\n",
       " <int> & <chr> & <chr> & <fct> & <chr> & <chr> & <int> & <chr>\\\\\n",
       "\\hline\n",
       "\t NA & NA & NA & NA & NA & NA & NA & 25846231524\\\\\n",
       "\\end{tabular}\n"
      ],
      "text/markdown": [
       "\n",
       "A data.frame: 1 × 8\n",
       "\n",
       "| id &lt;int&gt; | name &lt;chr&gt; | addr &lt;chr&gt; | city &lt;fct&gt; | phone &lt;chr&gt; | type &lt;chr&gt; | class &lt;int&gt; | phone3 &lt;chr&gt; |\n",
       "|---|---|---|---|---|---|---|---|\n",
       "| NA | NA | NA | NA | NA | NA | NA | 25846231524 |\n",
       "\n"
      ],
      "text/plain": [
       "  id name addr city phone type class phone3     \n",
       "1 NA NA   NA   NA   NA    NA   NA    25846231524"
      ]
     },
     "metadata": {},
     "output_type": "display_data"
    }
   ],
   "source": [
    "fodors_corr2 <- fodors_corr %>%\n",
    "  add_row(phone3 = \"25846231524\") %>%\n",
    "  filter(str_length(phone3) != 10)  # check phone numbers that are too long to be valid\n",
    "\n",
    "fodors_corr2"
   ]
  },
  {
   "cell_type": "code",
   "execution_count": 79,
   "id": "a4b71ac1-257d-4bd2-8645-648e06ca08e2",
   "metadata": {},
   "outputs": [],
   "source": [
    "# Simply exclude the invalid rows\n",
    "fodors_corr3 <- fodors_corr2 %>%\n",
    "  filter(str_length(phone3) == 10)"
   ]
  },
  {
   "cell_type": "markdown",
   "id": "b6f22a51-800d-4893-a36b-6539b7816f3a",
   "metadata": {},
   "source": [
    "<a name=\"toc_00232_2.3\"></a>\n",
    "**2.3 Inconsistent units or date formats**\n",
    "\n",
    "It can lots of problem if values in a column that should be uniform, are in different units (e.g. `°C` vs `°F`; `kg` vs `lb`; `EUR` vs `USD`).  Problems like this often occour when we pool multiple data sources but it can also be caused by unstructured data entry.\n",
    "\n",
    "To correct these problems, we need to convert the values to the preferred unit using the appropriate formula, e.g.:\n",
    "<div style=\"text-align:center;\">\n",
    "  <img src=\"images/clean_18.png\" width = \"150\" align=\"center\">\n",
    "</div>\n",
    "\n",
    "<div style=\"text-align:center;\">\n",
    "  <img src=\"images/clean_19.png\" width = \"500\" align=\"center\">\n",
    "</div>\n",
    "\n",
    "Date formats should also be uniform (e.g. `YYYY-MM-DD` vs `DD-MM-YYYY`). To correct the dates, we can use special formatting strings with `parse_date_time()?strptime` to convert them to uniform **Date objects** so they're all written in the same way. For all available strings, type `?strptime` in R.\n",
    "\n",
    "<div style=\"text-align:center;\">\n",
    "  <img src=\"images/clean_20.png\" width = \"500\" align=\"center\">\n",
    "</div>"
   ]
  },
  {
   "cell_type": "code",
   "execution_count": 99,
   "id": "2af2ffde-1b1d-48ac-9600-0bc6cf8fb277",
   "metadata": {},
   "outputs": [
    {
     "data": {
      "text/html": [
       "<table class=\"dataframe\">\n",
       "<caption>A data.frame: 3 × 4</caption>\n",
       "<thead>\n",
       "\t<tr><th></th><th scope=col>id</th><th scope=col>date_opened</th><th scope=col>total</th><th scope=col>date</th></tr>\n",
       "\t<tr><th></th><th scope=col>&lt;fct&gt;</th><th scope=col>&lt;chr&gt;</th><th scope=col>&lt;dbl&gt;</th><th scope=col>&lt;dttm&gt;</th></tr>\n",
       "</thead>\n",
       "<tbody>\n",
       "\t<tr><th scope=row>1</th><td>A880C79F</td><td>2003-10-19      </td><td>  169305</td><td>2003-10-19</td></tr>\n",
       "\t<tr><th scope=row>2</th><td>BE8222DF</td><td>October 05, 2018</td><td>  107460</td><td>2018-10-05</td></tr>\n",
       "\t<tr><th scope=row>3</th><td>19F9E113</td><td>2008-07-29      </td><td>15297152</td><td>2008-07-29</td></tr>\n",
       "</tbody>\n",
       "</table>\n"
      ],
      "text/latex": [
       "A data.frame: 3 × 4\n",
       "\\begin{tabular}{r|llll}\n",
       "  & id & date\\_opened & total & date\\\\\n",
       "  & <fct> & <chr> & <dbl> & <dttm>\\\\\n",
       "\\hline\n",
       "\t1 & A880C79F & 2003-10-19       &   169305 & 2003-10-19\\\\\n",
       "\t2 & BE8222DF & October 05, 2018 &   107460 & 2018-10-05\\\\\n",
       "\t3 & 19F9E113 & 2008-07-29       & 15297152 & 2008-07-29\\\\\n",
       "\\end{tabular}\n"
      ],
      "text/markdown": [
       "\n",
       "A data.frame: 3 × 4\n",
       "\n",
       "| <!--/--> | id &lt;fct&gt; | date_opened &lt;chr&gt; | total &lt;dbl&gt; | date &lt;dttm&gt; |\n",
       "|---|---|---|---|---|\n",
       "| 1 | A880C79F | 2003-10-19       |   169305 | 2003-10-19 |\n",
       "| 2 | BE8222DF | October 05, 2018 |   107460 | 2018-10-05 |\n",
       "| 3 | 19F9E113 | 2008-07-29       | 15297152 | 2008-07-29 |\n",
       "\n"
      ],
      "text/plain": [
       "  id       date_opened      total    date      \n",
       "1 A880C79F 2003-10-19         169305 2003-10-19\n",
       "2 BE8222DF October 05, 2018   107460 2018-10-05\n",
       "3 19F9E113 2008-07-29       15297152 2008-07-29"
      ]
     },
     "metadata": {},
     "output_type": "display_data"
    }
   ],
   "source": [
    "accounts2 <- accounts %>%\n",
    "  mutate(date = parse_date_time(date_opened,\n",
    "                               orders = c(\"%Y-%m-%d\", \"%B %d%, %Y\"))) \n",
    "\n",
    "  head(accounts2, 3)"
   ]
  },
  {
   "cell_type": "markdown",
   "id": "3450480f-f5b0-47dd-950e-4705c13cd463",
   "metadata": {},
   "source": [
    "However, we should be careful, as sometimes, dates can be ambiguous! E.g. `02/04/2019` can de in February or in April. We do not know. We should either treat them as missing, or, we can figure out the correct answer knowing the source of the data. We can also guess the answer based on other data in the dataset."
   ]
  },
  {
   "cell_type": "markdown",
   "id": "6682313a-186d-41b6-b7d6-6bfa9130c7d6",
   "metadata": {},
   "source": [
    "<a name=\"toc_00232_3\"></a>\n",
    "## 3.  Cross field validation\n",
    "\n",
    "Cross field validation is essentially a sanity check on your data to check that one value makes sense based on other values in your dataset. Some examples:\n",
    "- 52% `\"yes\"` and 58% `\"no\"` adds up to 110%, which usually doesn't make sense, so we know that one or more of these values are wrong.\n",
    "- When we have a `Total` column and all the columns that is summed to get the total value, we can check if they relly sum up to the value given id the dataset. In this case, we can calculate a `theoretical_total` column, then compare this to the column given in the dataset.\n",
    "- We can check the given age of someone by recalculating it from their date of birth.\n",
    "\n",
    "<div style=\"text-align:center;\">\n",
    "  <img src=\"images/clean_21.png\" width = \"600\" align=\"center\">\n",
    "</div>\n",
    "\n",
    "If we find inconsistent data, we can:\n",
    "- Remove the data\n",
    "- Set to missing and impute with some value\n",
    "- Apply rules from domain knowledge"
   ]
  },
  {
   "cell_type": "markdown",
   "id": "fa316f7a-607f-48ef-a1fe-c7a5a72bcaf0",
   "metadata": {},
   "source": [
    "<a name=\"toc_00232_4\"></a>\n",
    "## 4.   Completeness and missing data"
   ]
  },
  {
   "cell_type": "markdown",
   "id": "004f8e9e-cada-4d7d-8928-279de62e31d3",
   "metadata": {},
   "source": [
    "<a name=\"toc_00232_4.1\"></a>\n",
    "**4.1 The behaviour of missing values in R**\n",
    "\n",
    "Missing data is one of the most common and most important data cleaning problems. Data is considered \"missing\" when there is no value stored for a variable in an observation. Missing data is most commonly represented as `NA` or `NaN` (not a number), but can take on arbitrary values like `0`, `99`, or a `.`. Note that `NULL` is an empty value, not missing."
   ]
  },
  {
   "cell_type": "code",
   "execution_count": 324,
   "id": "544ea62c-c447-4155-a414-fafaab3db2ef",
   "metadata": {},
   "outputs": [
    {
     "data": {
      "text/html": [
       "<style>\n",
       ".list-inline {list-style: none; margin:0; padding: 0}\n",
       ".list-inline>li {display: inline-block}\n",
       ".list-inline>li:not(:last-child)::after {content: \"\\00b7\"; padding: 0 .5ex}\n",
       "</style>\n",
       "<ol class=list-inline><li>TRUE</li><li>FALSE</li><li>FALSE</li><li>FALSE</li><li>FALSE</li></ol>\n"
      ],
      "text/latex": [
       "\\begin{enumerate*}\n",
       "\\item TRUE\n",
       "\\item FALSE\n",
       "\\item FALSE\n",
       "\\item FALSE\n",
       "\\item FALSE\n",
       "\\end{enumerate*}\n"
      ],
      "text/markdown": [
       "1. TRUE\n",
       "2. FALSE\n",
       "3. FALSE\n",
       "4. FALSE\n",
       "5. FALSE\n",
       "\n",
       "\n"
      ],
      "text/plain": [
       "[1]  TRUE FALSE FALSE FALSE FALSE"
      ]
     },
     "metadata": {},
     "output_type": "display_data"
    }
   ],
   "source": [
    "x <- c(NA, NaN, Inf, \".\", \"missing\")\n",
    "\n",
    "is.na(x)"
   ]
  },
  {
   "cell_type": "code",
   "execution_count": 309,
   "id": "04b24fd9-b350-4f90-a514-8e97b9c7b5e7",
   "metadata": {},
   "outputs": [
    {
     "data": {
      "text/html": [
       "<style>\n",
       ".list-inline {list-style: none; margin:0; padding: 0}\n",
       ".list-inline>li {display: inline-block}\n",
       ".list-inline>li:not(:last-child)::after {content: \"\\00b7\"; padding: 0 .5ex}\n",
       "</style>\n",
       "<ol class=list-inline><li>FALSE</li><li>TRUE</li><li>FALSE</li><li>TRUE</li><li>TRUE</li><li>FALSE</li></ol>\n"
      ],
      "text/latex": [
       "\\begin{enumerate*}\n",
       "\\item FALSE\n",
       "\\item TRUE\n",
       "\\item FALSE\n",
       "\\item TRUE\n",
       "\\item TRUE\n",
       "\\item FALSE\n",
       "\\end{enumerate*}\n"
      ],
      "text/markdown": [
       "1. FALSE\n",
       "2. TRUE\n",
       "3. FALSE\n",
       "4. TRUE\n",
       "5. TRUE\n",
       "6. FALSE\n",
       "\n",
       "\n"
      ],
      "text/plain": [
       "[1] FALSE  TRUE FALSE  TRUE  TRUE FALSE"
      ]
     },
     "metadata": {},
     "output_type": "display_data"
    }
   ],
   "source": [
    "x <- c(1, NA, 3, NA, NA, 5)\n",
    "\n",
    "is.na(x) "
   ]
  },
  {
   "cell_type": "code",
   "execution_count": 308,
   "id": "112c249b-a191-429a-8b93-c8b632d4df7e",
   "metadata": {},
   "outputs": [
    {
     "data": {
      "text/html": [
       "TRUE"
      ],
      "text/latex": [
       "TRUE"
      ],
      "text/markdown": [
       "TRUE"
      ],
      "text/plain": [
       "[1] TRUE"
      ]
     },
     "metadata": {},
     "output_type": "display_data"
    }
   ],
   "source": [
    "any(is.na(x))"
   ]
  },
  {
   "cell_type": "code",
   "execution_count": 316,
   "id": "b1a1f8cd-0bc0-4696-92c1-8d9cc1bfefae",
   "metadata": {},
   "outputs": [
    {
     "data": {
      "text/html": [
       "3"
      ],
      "text/latex": [
       "3"
      ],
      "text/markdown": [
       "3"
      ],
      "text/plain": [
       "[1] 3"
      ]
     },
     "metadata": {},
     "output_type": "display_data"
    },
    {
     "data": {
      "text/html": [
       "3"
      ],
      "text/latex": [
       "3"
      ],
      "text/markdown": [
       "3"
      ],
      "text/plain": [
       "[1] 3"
      ]
     },
     "metadata": {},
     "output_type": "display_data"
    }
   ],
   "source": [
    "sum(is.na(x))\n",
    "naniar::n_miss(x) # alternative"
   ]
  },
  {
   "cell_type": "code",
   "execution_count": 320,
   "id": "219594a1-14ec-46c1-894a-0825a92ce205",
   "metadata": {},
   "outputs": [
    {
     "data": {
      "text/html": [
       "0.5"
      ],
      "text/latex": [
       "0.5"
      ],
      "text/markdown": [
       "0.5"
      ],
      "text/plain": [
       "[1] 0.5"
      ]
     },
     "metadata": {},
     "output_type": "display_data"
    },
    {
     "data": {
      "text/html": [
       "0.5"
      ],
      "text/latex": [
       "0.5"
      ],
      "text/markdown": [
       "0.5"
      ],
      "text/plain": [
       "[1] 0.5"
      ]
     },
     "metadata": {},
     "output_type": "display_data"
    }
   ],
   "source": [
    "sum(is.na(x))/length(x)\n",
    "naniar::prop_miss(x) # alternative"
   ]
  },
  {
   "cell_type": "markdown",
   "id": "3f2936b8-e51d-4ebd-83dc-88a360179d3f",
   "metadata": {},
   "source": [
    "Beware of conditional statements with missings! "
   ]
  },
  {
   "cell_type": "code",
   "execution_count": 327,
   "id": "cb3d5106-5c90-49c1-bcfd-451ed2b98af6",
   "metadata": {},
   "outputs": [
    {
     "data": {
      "text/html": [
       "TRUE"
      ],
      "text/latex": [
       "TRUE"
      ],
      "text/markdown": [
       "TRUE"
      ],
      "text/plain": [
       "[1] TRUE"
      ]
     },
     "metadata": {},
     "output_type": "display_data"
    },
    {
     "data": {
      "text/html": [
       "&lt;NA&gt;"
      ],
      "text/latex": [
       "<NA>"
      ],
      "text/markdown": [
       "&lt;NA&gt;"
      ],
      "text/plain": [
       "[1] NA"
      ]
     },
     "metadata": {},
     "output_type": "display_data"
    },
    {
     "data": {
      "text/html": [
       "&lt;NA&gt;"
      ],
      "text/latex": [
       "<NA>"
      ],
      "text/markdown": [
       "&lt;NA&gt;"
      ],
      "text/plain": [
       "[1] NA"
      ]
     },
     "metadata": {},
     "output_type": "display_data"
    },
    {
     "data": {
      "text/html": [
       "NaN"
      ],
      "text/latex": [
       "NaN"
      ],
      "text/markdown": [
       "NaN"
      ],
      "text/plain": [
       "[1] NaN"
      ]
     },
     "metadata": {},
     "output_type": "display_data"
    },
    {
     "data": {
      "text/html": [
       "&lt;NA&gt;"
      ],
      "text/latex": [
       "<NA>"
      ],
      "text/markdown": [
       "&lt;NA&gt;"
      ],
      "text/plain": [
       "[1] NA"
      ]
     },
     "metadata": {},
     "output_type": "display_data"
    }
   ],
   "source": [
    "NA | TRUE\n",
    "NA | FALSE\n",
    "NA + NaN\n",
    "NaN + NA\n",
    "1 + NA"
   ]
  },
  {
   "cell_type": "markdown",
   "id": "ae6350b2-0621-45a7-8297-83d94c1d9217",
   "metadata": {},
   "source": [
    "<a name=\"toc_00232_4.2\"></a>\n",
    "**4.2 Summarize missing values**\n",
    "\n",
    "We need to summarize missing data to identify variables, cases, or patterns of missingness, as these can bias our data analysis. To check is a variable contains `NA` values, we can use`filter()` with `is.na()`. For complete cases, use `!is.na()`.\n",
    "\n",
    "The `naniar` package provides a family of functions all starting with `miss_`, which each provide different summaries of missingness, and return a dataframe.  Some examples:\n",
    "\n",
    "- `miss_var_summary`: summarizse the number of missings in each variable\n",
    "- `miss_case_summary`: returns a summary dataframe, where each case represents a dataset row number.\n",
    "- `miss_var_table`: returns a dataframe with the number of missings in a variable, and the number and percentage of variables affected.\n",
    "- `miss_case_table`: returns a dataframe with the number of missings in each row (case)\n",
    "- `miss_var_span`: returns a dataframe with columns `span_counter` which identifies the span - the first, the second, and so on, and also includes the number and proportion of missing and complete values\n",
    "- `miss_var_run`: It returns the length of the run of \"complete\" and \"missing\" data. This is useful to try and find unusual patterns of missingness. "
   ]
  },
  {
   "cell_type": "code",
   "execution_count": 385,
   "id": "4286743e-1a96-4147-8dfb-80cbb5abee7f",
   "metadata": {},
   "outputs": [
    {
     "data": {
      "text/html": [
       "<table class=\"dataframe\">\n",
       "<caption>A data.frame: 3 × 6</caption>\n",
       "<thead>\n",
       "\t<tr><th></th><th scope=col>Ozone</th><th scope=col>Solar.R</th><th scope=col>Wind</th><th scope=col>Temp</th><th scope=col>Month</th><th scope=col>Day</th></tr>\n",
       "\t<tr><th></th><th scope=col>&lt;int&gt;</th><th scope=col>&lt;int&gt;</th><th scope=col>&lt;dbl&gt;</th><th scope=col>&lt;int&gt;</th><th scope=col>&lt;int&gt;</th><th scope=col>&lt;int&gt;</th></tr>\n",
       "</thead>\n",
       "<tbody>\n",
       "\t<tr><th scope=row>1</th><td>NA</td><td> NA</td><td>14.3</td><td>56</td><td>5</td><td> 5</td></tr>\n",
       "\t<tr><th scope=row>2</th><td>NA</td><td>194</td><td> 8.6</td><td>69</td><td>5</td><td>10</td></tr>\n",
       "\t<tr><th scope=row>3</th><td>NA</td><td> 66</td><td>16.6</td><td>57</td><td>5</td><td>25</td></tr>\n",
       "</tbody>\n",
       "</table>\n"
      ],
      "text/latex": [
       "A data.frame: 3 × 6\n",
       "\\begin{tabular}{r|llllll}\n",
       "  & Ozone & Solar.R & Wind & Temp & Month & Day\\\\\n",
       "  & <int> & <int> & <dbl> & <int> & <int> & <int>\\\\\n",
       "\\hline\n",
       "\t1 & NA &  NA & 14.3 & 56 & 5 &  5\\\\\n",
       "\t2 & NA & 194 &  8.6 & 69 & 5 & 10\\\\\n",
       "\t3 & NA &  66 & 16.6 & 57 & 5 & 25\\\\\n",
       "\\end{tabular}\n"
      ],
      "text/markdown": [
       "\n",
       "A data.frame: 3 × 6\n",
       "\n",
       "| <!--/--> | Ozone &lt;int&gt; | Solar.R &lt;int&gt; | Wind &lt;dbl&gt; | Temp &lt;int&gt; | Month &lt;int&gt; | Day &lt;int&gt; |\n",
       "|---|---|---|---|---|---|---|\n",
       "| 1 | NA |  NA | 14.3 | 56 | 5 |  5 |\n",
       "| 2 | NA | 194 |  8.6 | 69 | 5 | 10 |\n",
       "| 3 | NA |  66 | 16.6 | 57 | 5 | 25 |\n",
       "\n"
      ],
      "text/plain": [
       "  Ozone Solar.R Wind Temp Month Day\n",
       "1 NA     NA     14.3 56   5      5 \n",
       "2 NA    194      8.6 69   5     10 \n",
       "3 NA     66     16.6 57   5     25 "
      ]
     },
     "metadata": {},
     "output_type": "display_data"
    }
   ],
   "source": [
    "airquality %>%\n",
    "  filter(is.na(Ozone)) %>%\n",
    "  head(3)"
   ]
  },
  {
   "cell_type": "code",
   "execution_count": 386,
   "id": "c805635c-995b-43c7-a1df-0c220d1646e3",
   "metadata": {},
   "outputs": [
    {
     "data": {
      "text/html": [
       "<table class=\"dataframe\">\n",
       "<caption>A data.frame: 2 × 6</caption>\n",
       "<thead>\n",
       "\t<tr><th scope=col>Ozone</th><th scope=col>Solar.R</th><th scope=col>Wind</th><th scope=col>Temp</th><th scope=col>Month</th><th scope=col>Day</th></tr>\n",
       "\t<tr><th scope=col>&lt;int&gt;</th><th scope=col>&lt;int&gt;</th><th scope=col>&lt;dbl&gt;</th><th scope=col>&lt;int&gt;</th><th scope=col>&lt;int&gt;</th><th scope=col>&lt;int&gt;</th></tr>\n",
       "</thead>\n",
       "<tbody>\n",
       "\t<tr><td>NA</td><td>NA</td><td>14.3</td><td>56</td><td>5</td><td> 5</td></tr>\n",
       "\t<tr><td>NA</td><td>NA</td><td> 8.0</td><td>57</td><td>5</td><td>27</td></tr>\n",
       "</tbody>\n",
       "</table>\n"
      ],
      "text/latex": [
       "A data.frame: 2 × 6\n",
       "\\begin{tabular}{llllll}\n",
       " Ozone & Solar.R & Wind & Temp & Month & Day\\\\\n",
       " <int> & <int> & <dbl> & <int> & <int> & <int>\\\\\n",
       "\\hline\n",
       "\t NA & NA & 14.3 & 56 & 5 &  5\\\\\n",
       "\t NA & NA &  8.0 & 57 & 5 & 27\\\\\n",
       "\\end{tabular}\n"
      ],
      "text/markdown": [
       "\n",
       "A data.frame: 2 × 6\n",
       "\n",
       "| Ozone &lt;int&gt; | Solar.R &lt;int&gt; | Wind &lt;dbl&gt; | Temp &lt;int&gt; | Month &lt;int&gt; | Day &lt;int&gt; |\n",
       "|---|---|---|---|---|---|\n",
       "| NA | NA | 14.3 | 56 | 5 |  5 |\n",
       "| NA | NA |  8.0 | 57 | 5 | 27 |\n",
       "\n"
      ],
      "text/plain": [
       "  Ozone Solar.R Wind Temp Month Day\n",
       "1 NA    NA      14.3 56   5      5 \n",
       "2 NA    NA       8.0 57   5     27 "
      ]
     },
     "metadata": {},
     "output_type": "display_data"
    }
   ],
   "source": [
    "airquality %>%\n",
    "  filter(if_all(c(Ozone, Solar.R), ~ is.na(.)))"
   ]
  },
  {
   "cell_type": "code",
   "execution_count": 331,
   "id": "4e10e940-f4ba-41d4-b8bd-f979046cb59c",
   "metadata": {},
   "outputs": [
    {
     "data": {
      "text/html": [
       "<table class=\"dataframe\">\n",
       "<caption>A tibble: 6 × 3</caption>\n",
       "<thead>\n",
       "\t<tr><th scope=col>variable</th><th scope=col>n_miss</th><th scope=col>pct_miss</th></tr>\n",
       "\t<tr><th scope=col>&lt;chr&gt;</th><th scope=col>&lt;int&gt;</th><th scope=col>&lt;dbl&gt;</th></tr>\n",
       "</thead>\n",
       "<tbody>\n",
       "\t<tr><td>Ozone  </td><td>37</td><td>24.183007</td></tr>\n",
       "\t<tr><td>Solar.R</td><td> 7</td><td> 4.575163</td></tr>\n",
       "\t<tr><td>Wind   </td><td> 0</td><td> 0.000000</td></tr>\n",
       "\t<tr><td>Temp   </td><td> 0</td><td> 0.000000</td></tr>\n",
       "\t<tr><td>Month  </td><td> 0</td><td> 0.000000</td></tr>\n",
       "\t<tr><td>Day    </td><td> 0</td><td> 0.000000</td></tr>\n",
       "</tbody>\n",
       "</table>\n"
      ],
      "text/latex": [
       "A tibble: 6 × 3\n",
       "\\begin{tabular}{lll}\n",
       " variable & n\\_miss & pct\\_miss\\\\\n",
       " <chr> & <int> & <dbl>\\\\\n",
       "\\hline\n",
       "\t Ozone   & 37 & 24.183007\\\\\n",
       "\t Solar.R &  7 &  4.575163\\\\\n",
       "\t Wind    &  0 &  0.000000\\\\\n",
       "\t Temp    &  0 &  0.000000\\\\\n",
       "\t Month   &  0 &  0.000000\\\\\n",
       "\t Day     &  0 &  0.000000\\\\\n",
       "\\end{tabular}\n"
      ],
      "text/markdown": [
       "\n",
       "A tibble: 6 × 3\n",
       "\n",
       "| variable &lt;chr&gt; | n_miss &lt;int&gt; | pct_miss &lt;dbl&gt; |\n",
       "|---|---|---|\n",
       "| Ozone   | 37 | 24.183007 |\n",
       "| Solar.R |  7 |  4.575163 |\n",
       "| Wind    |  0 |  0.000000 |\n",
       "| Temp    |  0 |  0.000000 |\n",
       "| Month   |  0 |  0.000000 |\n",
       "| Day     |  0 |  0.000000 |\n",
       "\n"
      ],
      "text/plain": [
       "  variable n_miss pct_miss \n",
       "1 Ozone    37     24.183007\n",
       "2 Solar.R   7      4.575163\n",
       "3 Wind      0      0.000000\n",
       "4 Temp      0      0.000000\n",
       "5 Month     0      0.000000\n",
       "6 Day       0      0.000000"
      ]
     },
     "metadata": {},
     "output_type": "display_data"
    }
   ],
   "source": [
    "naniar::miss_var_summary(airquality)"
   ]
  },
  {
   "cell_type": "markdown",
   "id": "318d9c34-b545-4dde-93a4-3ed140b1de46",
   "metadata": {},
   "source": [
    "☝️ For example, Ozone has 37 missing values, and is about 24.2% is missing."
   ]
  },
  {
   "cell_type": "markdown",
   "id": "82b5354d-2ab5-4528-9449-cbb21e9d5ec2",
   "metadata": {},
   "source": [
    "These summaries work with `dplyr`'s `group_by`, so you can fluidly explore missingness by each groups:"
   ]
  },
  {
   "cell_type": "code",
   "execution_count": 344,
   "id": "3109f7e8-b964-4662-9552-ae2ecade79c5",
   "metadata": {},
   "outputs": [
    {
     "data": {
      "text/html": [
       "<table class=\"dataframe\">\n",
       "<caption>A grouped_df: 3 × 4</caption>\n",
       "<thead>\n",
       "\t<tr><th scope=col>Month</th><th scope=col>variable</th><th scope=col>n_miss</th><th scope=col>pct_miss</th></tr>\n",
       "\t<tr><th scope=col>&lt;int&gt;</th><th scope=col>&lt;chr&gt;</th><th scope=col>&lt;int&gt;</th><th scope=col>&lt;dbl&gt;</th></tr>\n",
       "</thead>\n",
       "<tbody>\n",
       "\t<tr><td>5</td><td>Ozone  </td><td>5</td><td>16.12903</td></tr>\n",
       "\t<tr><td>5</td><td>Solar.R</td><td>4</td><td>12.90323</td></tr>\n",
       "\t<tr><td>5</td><td>Wind   </td><td>0</td><td> 0.00000</td></tr>\n",
       "</tbody>\n",
       "</table>\n"
      ],
      "text/latex": [
       "A grouped\\_df: 3 × 4\n",
       "\\begin{tabular}{llll}\n",
       " Month & variable & n\\_miss & pct\\_miss\\\\\n",
       " <int> & <chr> & <int> & <dbl>\\\\\n",
       "\\hline\n",
       "\t 5 & Ozone   & 5 & 16.12903\\\\\n",
       "\t 5 & Solar.R & 4 & 12.90323\\\\\n",
       "\t 5 & Wind    & 0 &  0.00000\\\\\n",
       "\\end{tabular}\n"
      ],
      "text/markdown": [
       "\n",
       "A grouped_df: 3 × 4\n",
       "\n",
       "| Month &lt;int&gt; | variable &lt;chr&gt; | n_miss &lt;int&gt; | pct_miss &lt;dbl&gt; |\n",
       "|---|---|---|---|\n",
       "| 5 | Ozone   | 5 | 16.12903 |\n",
       "| 5 | Solar.R | 4 | 12.90323 |\n",
       "| 5 | Wind    | 0 |  0.00000 |\n",
       "\n"
      ],
      "text/plain": [
       "  Month variable n_miss pct_miss\n",
       "1 5     Ozone    5      16.12903\n",
       "2 5     Solar.R  4      12.90323\n",
       "3 5     Wind     0       0.00000"
      ]
     },
     "metadata": {},
     "output_type": "display_data"
    }
   ],
   "source": [
    "airquality %>%\n",
    "  group_by(Month) %>%\n",
    "  naniar::miss_var_summary() %>%\n",
    "  head(3)"
   ]
  },
  {
   "cell_type": "code",
   "execution_count": 333,
   "id": "33a5320f-c7aa-4470-884b-fcac5fb53460",
   "metadata": {},
   "outputs": [
    {
     "data": {
      "text/html": [
       "<table class=\"dataframe\">\n",
       "<caption>A tibble: 6 × 3</caption>\n",
       "<thead>\n",
       "\t<tr><th scope=col>case</th><th scope=col>n_miss</th><th scope=col>pct_miss</th></tr>\n",
       "\t<tr><th scope=col>&lt;int&gt;</th><th scope=col>&lt;int&gt;</th><th scope=col>&lt;dbl&gt;</th></tr>\n",
       "</thead>\n",
       "<tbody>\n",
       "\t<tr><td> 5</td><td>2</td><td>33.33333</td></tr>\n",
       "\t<tr><td>27</td><td>2</td><td>33.33333</td></tr>\n",
       "\t<tr><td> 6</td><td>1</td><td>16.66667</td></tr>\n",
       "\t<tr><td>10</td><td>1</td><td>16.66667</td></tr>\n",
       "\t<tr><td>11</td><td>1</td><td>16.66667</td></tr>\n",
       "\t<tr><td>25</td><td>1</td><td>16.66667</td></tr>\n",
       "</tbody>\n",
       "</table>\n"
      ],
      "text/latex": [
       "A tibble: 6 × 3\n",
       "\\begin{tabular}{lll}\n",
       " case & n\\_miss & pct\\_miss\\\\\n",
       " <int> & <int> & <dbl>\\\\\n",
       "\\hline\n",
       "\t  5 & 2 & 33.33333\\\\\n",
       "\t 27 & 2 & 33.33333\\\\\n",
       "\t  6 & 1 & 16.66667\\\\\n",
       "\t 10 & 1 & 16.66667\\\\\n",
       "\t 11 & 1 & 16.66667\\\\\n",
       "\t 25 & 1 & 16.66667\\\\\n",
       "\\end{tabular}\n"
      ],
      "text/markdown": [
       "\n",
       "A tibble: 6 × 3\n",
       "\n",
       "| case &lt;int&gt; | n_miss &lt;int&gt; | pct_miss &lt;dbl&gt; |\n",
       "|---|---|---|\n",
       "|  5 | 2 | 33.33333 |\n",
       "| 27 | 2 | 33.33333 |\n",
       "|  6 | 1 | 16.66667 |\n",
       "| 10 | 1 | 16.66667 |\n",
       "| 11 | 1 | 16.66667 |\n",
       "| 25 | 1 | 16.66667 |\n",
       "\n"
      ],
      "text/plain": [
       "  case n_miss pct_miss\n",
       "1  5   2      33.33333\n",
       "2 27   2      33.33333\n",
       "3  6   1      16.66667\n",
       "4 10   1      16.66667\n",
       "5 11   1      16.66667\n",
       "6 25   1      16.66667"
      ]
     },
     "metadata": {},
     "output_type": "display_data"
    }
   ],
   "source": [
    "naniar::miss_case_summary(airquality) %>%\n",
    "  head()"
   ]
  },
  {
   "cell_type": "markdown",
   "id": "840fc298-8810-4ce9-814f-5c2300f0ab58",
   "metadata": {},
   "source": [
    "☝️ Here, each case represents a dataset row number. We can see that case 5 (the fifth row in the original dataset) has 2 missing values, which means 33% of that case is missing."
   ]
  },
  {
   "cell_type": "code",
   "execution_count": 334,
   "id": "02d132b7-5ddc-4713-8b8a-1cdd7148d993",
   "metadata": {},
   "outputs": [
    {
     "data": {
      "text/html": [
       "<table class=\"dataframe\">\n",
       "<caption>A tibble: 3 × 3</caption>\n",
       "<thead>\n",
       "\t<tr><th scope=col>n_miss_in_var</th><th scope=col>n_vars</th><th scope=col>pct_vars</th></tr>\n",
       "\t<tr><th scope=col>&lt;int&gt;</th><th scope=col>&lt;int&gt;</th><th scope=col>&lt;dbl&gt;</th></tr>\n",
       "</thead>\n",
       "<tbody>\n",
       "\t<tr><td> 0</td><td>4</td><td>66.66667</td></tr>\n",
       "\t<tr><td> 7</td><td>1</td><td>16.66667</td></tr>\n",
       "\t<tr><td>37</td><td>1</td><td>16.66667</td></tr>\n",
       "</tbody>\n",
       "</table>\n"
      ],
      "text/latex": [
       "A tibble: 3 × 3\n",
       "\\begin{tabular}{lll}\n",
       " n\\_miss\\_in\\_var & n\\_vars & pct\\_vars\\\\\n",
       " <int> & <int> & <dbl>\\\\\n",
       "\\hline\n",
       "\t  0 & 4 & 66.66667\\\\\n",
       "\t  7 & 1 & 16.66667\\\\\n",
       "\t 37 & 1 & 16.66667\\\\\n",
       "\\end{tabular}\n"
      ],
      "text/markdown": [
       "\n",
       "A tibble: 3 × 3\n",
       "\n",
       "| n_miss_in_var &lt;int&gt; | n_vars &lt;int&gt; | pct_vars &lt;dbl&gt; |\n",
       "|---|---|---|\n",
       "|  0 | 4 | 66.66667 |\n",
       "|  7 | 1 | 16.66667 |\n",
       "| 37 | 1 | 16.66667 |\n",
       "\n"
      ],
      "text/plain": [
       "  n_miss_in_var n_vars pct_vars\n",
       "1  0            4      66.66667\n",
       "2  7            1      16.66667\n",
       "3 37            1      16.66667"
      ]
     },
     "metadata": {},
     "output_type": "display_data"
    }
   ],
   "source": [
    "naniar::miss_var_table(airquality) "
   ]
  },
  {
   "cell_type": "markdown",
   "id": "f6862a3b-ebcf-42ec-883f-2b69cee4d054",
   "metadata": {},
   "source": [
    "☝️ There are four variables with no missings detected, which corresponds to 66.7% of variables, and there was 1 variable with 7 missings, and 1 variable with 37 missings. "
   ]
  },
  {
   "cell_type": "code",
   "execution_count": 337,
   "id": "b4317b4c-60fa-47b6-9ac9-9d4e39dfb4cd",
   "metadata": {},
   "outputs": [
    {
     "data": {
      "text/html": [
       "<table class=\"dataframe\">\n",
       "<caption>A tibble: 7 × 6</caption>\n",
       "<thead>\n",
       "\t<tr><th scope=col>span_counter</th><th scope=col>n_miss</th><th scope=col>n_complete</th><th scope=col>prop_miss</th><th scope=col>prop_complete</th><th scope=col>n_in_span</th></tr>\n",
       "\t<tr><th scope=col>&lt;int&gt;</th><th scope=col>&lt;int&gt;</th><th scope=col>&lt;int&gt;</th><th scope=col>&lt;dbl&gt;</th><th scope=col>&lt;dbl&gt;</th><th scope=col>&lt;int&gt;</th></tr>\n",
       "</thead>\n",
       "<tbody>\n",
       "\t<tr><td>1</td><td>   0</td><td>6000</td><td>0.0000000000</td><td>1.0000000</td><td>6000</td></tr>\n",
       "\t<tr><td>2</td><td> 122</td><td>5878</td><td>0.0203333333</td><td>0.9796667</td><td>6000</td></tr>\n",
       "\t<tr><td>3</td><td>1058</td><td>4942</td><td>0.1763333333</td><td>0.8236667</td><td>6000</td></tr>\n",
       "\t<tr><td>4</td><td> 190</td><td>5810</td><td>0.0316666667</td><td>0.9683333</td><td>6000</td></tr>\n",
       "\t<tr><td>5</td><td>   1</td><td>5999</td><td>0.0001666667</td><td>0.9998333</td><td>6000</td></tr>\n",
       "\t<tr><td>6</td><td> 745</td><td>5255</td><td>0.1241666667</td><td>0.8758333</td><td>6000</td></tr>\n",
       "\t<tr><td>7</td><td> 432</td><td>1268</td><td>0.2541176471</td><td>0.7458824</td><td>1700</td></tr>\n",
       "</tbody>\n",
       "</table>\n"
      ],
      "text/latex": [
       "A tibble: 7 × 6\n",
       "\\begin{tabular}{llllll}\n",
       " span\\_counter & n\\_miss & n\\_complete & prop\\_miss & prop\\_complete & n\\_in\\_span\\\\\n",
       " <int> & <int> & <int> & <dbl> & <dbl> & <int>\\\\\n",
       "\\hline\n",
       "\t 1 &    0 & 6000 & 0.0000000000 & 1.0000000 & 6000\\\\\n",
       "\t 2 &  122 & 5878 & 0.0203333333 & 0.9796667 & 6000\\\\\n",
       "\t 3 & 1058 & 4942 & 0.1763333333 & 0.8236667 & 6000\\\\\n",
       "\t 4 &  190 & 5810 & 0.0316666667 & 0.9683333 & 6000\\\\\n",
       "\t 5 &    1 & 5999 & 0.0001666667 & 0.9998333 & 6000\\\\\n",
       "\t 6 &  745 & 5255 & 0.1241666667 & 0.8758333 & 6000\\\\\n",
       "\t 7 &  432 & 1268 & 0.2541176471 & 0.7458824 & 1700\\\\\n",
       "\\end{tabular}\n"
      ],
      "text/markdown": [
       "\n",
       "A tibble: 7 × 6\n",
       "\n",
       "| span_counter &lt;int&gt; | n_miss &lt;int&gt; | n_complete &lt;int&gt; | prop_miss &lt;dbl&gt; | prop_complete &lt;dbl&gt; | n_in_span &lt;int&gt; |\n",
       "|---|---|---|---|---|---|\n",
       "| 1 |    0 | 6000 | 0.0000000000 | 1.0000000 | 6000 |\n",
       "| 2 |  122 | 5878 | 0.0203333333 | 0.9796667 | 6000 |\n",
       "| 3 | 1058 | 4942 | 0.1763333333 | 0.8236667 | 6000 |\n",
       "| 4 |  190 | 5810 | 0.0316666667 | 0.9683333 | 6000 |\n",
       "| 5 |    1 | 5999 | 0.0001666667 | 0.9998333 | 6000 |\n",
       "| 6 |  745 | 5255 | 0.1241666667 | 0.8758333 | 6000 |\n",
       "| 7 |  432 | 1268 | 0.2541176471 | 0.7458824 | 1700 |\n",
       "\n"
      ],
      "text/plain": [
       "  span_counter n_miss n_complete prop_miss    prop_complete n_in_span\n",
       "1 1               0   6000       0.0000000000 1.0000000     6000     \n",
       "2 2             122   5878       0.0203333333 0.9796667     6000     \n",
       "3 3            1058   4942       0.1763333333 0.8236667     6000     \n",
       "4 4             190   5810       0.0316666667 0.9683333     6000     \n",
       "5 5               1   5999       0.0001666667 0.9998333     6000     \n",
       "6 6             745   5255       0.1241666667 0.8758333     6000     \n",
       "7 7             432   1268       0.2541176471 0.7458824     1700     "
      ]
     },
     "metadata": {},
     "output_type": "display_data"
    }
   ],
   "source": [
    "naniar::miss_var_span(pedestrian, var = hourly_counts, span_every = 6000)"
   ]
  },
  {
   "cell_type": "markdown",
   "id": "f866b3be-5745-419a-a1ac-ff428cd77e55",
   "metadata": {},
   "source": [
    "☝️ For example, in span 6, there are 745 missings, and 5255 complete values. Note also that `n_miss` + `n_complete` equals the `span`, here 6000. Out of these 6000 span values, 0.124% are missings, and 0.876% are complete, given by `prop_miss` and `prop_complete`."
   ]
  },
  {
   "cell_type": "code",
   "execution_count": 339,
   "id": "98a4aebd-24a2-4c99-96d3-c5046cc20a4a",
   "metadata": {},
   "outputs": [
    {
     "data": {
      "text/html": [
       "<table class=\"dataframe\">\n",
       "<caption>A tibble: 6 × 2</caption>\n",
       "<thead>\n",
       "\t<tr><th scope=col>run_length</th><th scope=col>is_na</th></tr>\n",
       "\t<tr><th scope=col>&lt;int&gt;</th><th scope=col>&lt;chr&gt;</th></tr>\n",
       "</thead>\n",
       "<tbody>\n",
       "\t<tr><td>6628</td><td>complete</td></tr>\n",
       "\t<tr><td>   1</td><td>missing </td></tr>\n",
       "\t<tr><td>5250</td><td>complete</td></tr>\n",
       "\t<tr><td> 624</td><td>missing </td></tr>\n",
       "\t<tr><td>3652</td><td>complete</td></tr>\n",
       "\t<tr><td>   1</td><td>missing </td></tr>\n",
       "</tbody>\n",
       "</table>\n"
      ],
      "text/latex": [
       "A tibble: 6 × 2\n",
       "\\begin{tabular}{ll}\n",
       " run\\_length & is\\_na\\\\\n",
       " <int> & <chr>\\\\\n",
       "\\hline\n",
       "\t 6628 & complete\\\\\n",
       "\t    1 & missing \\\\\n",
       "\t 5250 & complete\\\\\n",
       "\t  624 & missing \\\\\n",
       "\t 3652 & complete\\\\\n",
       "\t    1 & missing \\\\\n",
       "\\end{tabular}\n"
      ],
      "text/markdown": [
       "\n",
       "A tibble: 6 × 2\n",
       "\n",
       "| run_length &lt;int&gt; | is_na &lt;chr&gt; |\n",
       "|---|---|\n",
       "| 6628 | complete |\n",
       "|    1 | missing  |\n",
       "| 5250 | complete |\n",
       "|  624 | missing  |\n",
       "| 3652 | complete |\n",
       "|    1 | missing  |\n",
       "\n"
      ],
      "text/plain": [
       "  run_length is_na   \n",
       "1 6628       complete\n",
       "2    1       missing \n",
       "3 5250       complete\n",
       "4  624       missing \n",
       "5 3652       complete\n",
       "6    1       missing "
      ]
     },
     "metadata": {},
     "output_type": "display_data"
    }
   ],
   "source": [
    "naniar::miss_var_run(pedestrian, hourly_counts) %>%\n",
    "  head()"
   ]
  },
  {
   "cell_type": "markdown",
   "id": "4b63b83b-0989-420d-8a92-d9a067230aa5",
   "metadata": {},
   "source": [
    "<a name=\"toc_00232_4.3\"></a>\n",
    "**4.3 Visualize missing data**"
   ]
  },
  {
   "cell_type": "markdown",
   "id": "bbf45310-3bc4-415a-871b-3e8615c4d1aa",
   "metadata": {},
   "source": [
    "We can use the `vis_miss()` function to get a plot that shows missing values in black, and present values in gray. We can look down a column of the plot to see how many missing values there are in each column, and can look from left to right to get a sense if there are a lot of rows with multiple missing values. Here, the Ozone column has the most missing values. Solar radiation also has some missing values, but not as many. None of the other columns have missing data. It looks like the missingness is pretty random, but let's take a deeper look."
   ]
  },
  {
   "cell_type": "code",
   "execution_count": 111,
   "id": "e996bdf8-3ba7-4ac3-a4da-6042c502bc31",
   "metadata": {},
   "outputs": [
    {
     "data": {
      "image/png": "[encoded data removed]",
      "text/plain": [
       "plot without title"
      ]
     },
     "metadata": {
      "image/png": {
       "height": 420,
       "width": 420
      }
     },
     "output_type": "display_data"
    }
   ],
   "source": [
    "visdat::vis_miss(airquality)"
   ]
  },
  {
   "cell_type": "markdown",
   "id": "c91ab793-641d-4c54-af8e-5ad79430b85a",
   "metadata": {},
   "source": [
    "Let's see if there are any differences between the rows with missing and non-missing ozone values:"
   ]
  },
  {
   "cell_type": "code",
   "execution_count": 115,
   "id": "a0c1091d-f6d9-4f38-b7a1-6fe302aefbfa",
   "metadata": {},
   "outputs": [
    {
     "data": {
      "text/html": [
       "<table class=\"dataframe\">\n",
       "<caption>A tibble: 2 × 7</caption>\n",
       "<thead>\n",
       "\t<tr><th scope=col>miss_ozone</th><th scope=col>Ozone</th><th scope=col>Solar.R</th><th scope=col>Wind</th><th scope=col>Temp</th><th scope=col>Month</th><th scope=col>Day</th></tr>\n",
       "\t<tr><th scope=col>&lt;lgl&gt;</th><th scope=col>&lt;dbl&gt;</th><th scope=col>&lt;int&gt;</th><th scope=col>&lt;dbl&gt;</th><th scope=col>&lt;dbl&gt;</th><th scope=col>&lt;dbl&gt;</th><th scope=col>&lt;dbl&gt;</th></tr>\n",
       "</thead>\n",
       "<tbody>\n",
       "\t<tr><td>FALSE</td><td>31.5</td><td>207</td><td>9.7</td><td>79</td><td>7</td><td>16</td></tr>\n",
       "\t<tr><td> TRUE</td><td>  NA</td><td>194</td><td>9.7</td><td>79</td><td>6</td><td>15</td></tr>\n",
       "</tbody>\n",
       "</table>\n"
      ],
      "text/latex": [
       "A tibble: 2 × 7\n",
       "\\begin{tabular}{lllllll}\n",
       " miss\\_ozone & Ozone & Solar.R & Wind & Temp & Month & Day\\\\\n",
       " <lgl> & <dbl> & <int> & <dbl> & <dbl> & <dbl> & <dbl>\\\\\n",
       "\\hline\n",
       "\t FALSE & 31.5 & 207 & 9.7 & 79 & 7 & 16\\\\\n",
       "\t  TRUE &   NA & 194 & 9.7 & 79 & 6 & 15\\\\\n",
       "\\end{tabular}\n"
      ],
      "text/markdown": [
       "\n",
       "A tibble: 2 × 7\n",
       "\n",
       "| miss_ozone &lt;lgl&gt; | Ozone &lt;dbl&gt; | Solar.R &lt;int&gt; | Wind &lt;dbl&gt; | Temp &lt;dbl&gt; | Month &lt;dbl&gt; | Day &lt;dbl&gt; |\n",
       "|---|---|---|---|---|---|---|\n",
       "| FALSE | 31.5 | 207 | 9.7 | 79 | 7 | 16 |\n",
       "|  TRUE |   NA | 194 | 9.7 | 79 | 6 | 15 |\n",
       "\n"
      ],
      "text/plain": [
       "  miss_ozone Ozone Solar.R Wind Temp Month Day\n",
       "1 FALSE      31.5  207     9.7  79   7     16 \n",
       "2  TRUE        NA  194     9.7  79   6     15 "
      ]
     },
     "metadata": {},
     "output_type": "display_data"
    }
   ],
   "source": [
    "airquality %>%\n",
    "  mutate(miss_ozone = is.na(Ozone)) %>%\n",
    "  group_by(miss_ozone) %>%\n",
    "  summarize(across(everything(), median, na.rm = TRUE))"
   ]
  },
  {
   "cell_type": "markdown",
   "id": "afedd81c-bbfb-4b24-b58c-e2403287b8e8",
   "metadata": {},
   "source": [
    "☝️ here there is no detectable difference, the NAs are probably random."
   ]
  },
  {
   "cell_type": "code",
   "execution_count": 116,
   "id": "75da68ca-b3b3-42d3-ac4d-b80340fe99ad",
   "metadata": {},
   "outputs": [
    {
     "data": {
      "image/png": "[encoded data removed]",
      "text/plain": [
       "plot without title"
      ]
     },
     "metadata": {
      "image/png": {
       "height": 420,
       "width": 420
      }
     },
     "output_type": "display_data"
    }
   ],
   "source": [
    "airquality %>%\n",
    "  arrange(Temp) %>%\n",
    "  visdat::vis_miss()"
   ]
  },
  {
   "cell_type": "markdown",
   "id": "ec725430-faf0-4447-958a-b4260e4d536f",
   "metadata": {},
   "source": [
    "☝️ No cluster in NAs when arrenging by Temp, the pattern looks random. "
   ]
  },
  {
   "cell_type": "code",
   "execution_count": 345,
   "id": "6c17462d-4d41-40a4-bc79-8c7eb7ba4002",
   "metadata": {},
   "outputs": [
    {
     "data": {
      "image/png": "[encoded data removed]",
      "text/plain": [
       "plot without title"
      ]
     },
     "metadata": {
      "image/png": {
       "height": 420,
       "width": 420
      }
     },
     "output_type": "display_data"
    }
   ],
   "source": [
    "airquality %>%\n",
    "  visdat::vis_miss(cluster = TRUE)"
   ]
  },
  {
   "cell_type": "markdown",
   "id": "61dab87f-3c77-4db6-84e0-e0e67ebf6d7a",
   "metadata": {},
   "source": [
    "☝️ `cluster = TRUE`  orders the rows by missingness to identify common co-occurrences to find patterns."
   ]
  },
  {
   "cell_type": "markdown",
   "id": "57c0b979-917c-4d4b-a8e9-6440613b2bac",
   "metadata": {},
   "source": [
    "The `naniar` package also provides plots for missing data visualization, corresponding to the summary functions in the previous chapter:\n",
    "- `gg_miss_var()` - visualize missing data per variables \n",
    "- `gg_miss_case()` - visualize missing data per rows \n",
    "- `gg_miss_upset()` - visualize which variables and cases go missing together\n",
    "- `gg_miss_fct` - heatmap visualization to explore how missingness in each variable changes across a factor showing the factors on the x axis, each other variable on the y axis, and the amount of missingness colored from dark purple to yellow.\n",
    "- `gg_miss_span` - This calculates the number of missings in a given span (e.g. the number of missings for every 3000 rows). It displays the amount of missing values in each span in a filled barplot. "
   ]
  },
  {
   "cell_type": "code",
   "execution_count": 359,
   "id": "13a40a13-8638-43f0-a45a-ba9ca25964c6",
   "metadata": {},
   "outputs": [
    {
     "data": {
      "image/png": "[encoded data removed]",
      "text/plain": [
       "plot without title"
      ]
     },
     "metadata": {
      "image/png": {
       "height": 420,
       "width": 420
      }
     },
     "output_type": "display_data"
    }
   ],
   "source": [
    "naniar::gg_miss_var(airquality, facet = Month)"
   ]
  },
  {
   "cell_type": "code",
   "execution_count": 351,
   "id": "d67b3430-0b03-4d6e-a68d-6099dfb7fa7c",
   "metadata": {},
   "outputs": [
    {
     "data": {
      "image/png": "[encoded data removed]",
      "text/plain": [
       "plot without title"
      ]
     },
     "metadata": {
      "image/png": {
       "height": 420,
       "width": 420
      }
     },
     "output_type": "display_data"
    }
   ],
   "source": [
    "naniar::gg_miss_case(airquality)"
   ]
  },
  {
   "cell_type": "code",
   "execution_count": 353,
   "id": "0e697e8f-6856-4a23-9372-c743a6a8cae2",
   "metadata": {},
   "outputs": [
    {
     "data": {
      "image/png": "[encoded data removed]",
      "text/plain": [
       "plot without title"
      ]
     },
     "metadata": {
      "image/png": {
       "height": 420,
       "width": 420
      }
     },
     "output_type": "display_data"
    }
   ],
   "source": [
    "naniar::gg_miss_upset(airquality)"
   ]
  },
  {
   "cell_type": "markdown",
   "id": "04916b64-1db8-44a9-82a4-80d729152c0e",
   "metadata": {},
   "source": [
    "☝️ There are only missing values in `Ozone` and `Solar.R`, with 35 in only `Ozone`, 5 in `Solar.R`, and in both `Ozone` and `Solar.R`, there are 2 missing cases."
   ]
  },
  {
   "cell_type": "code",
   "execution_count": 356,
   "id": "a7410465-584e-4336-b42b-5670f0bd97bd",
   "metadata": {},
   "outputs": [
    {
     "data": {
      "image/png": "[encoded data removed]",
      "text/plain": [
       "plot without title"
      ]
     },
     "metadata": {
      "image/png": {
       "height": 420,
       "width": 420
      }
     },
     "output_type": "display_data"
    }
   ],
   "source": [
    "naniar::gg_miss_fct(airquality, fct = Month)"
   ]
  },
  {
   "cell_type": "code",
   "execution_count": 357,
   "id": "6a289142-0176-447c-a9e3-99c28a5dc455",
   "metadata": {},
   "outputs": [
    {
     "data": {
      "image/png": "[encoded data removed]",
      "text/plain": [
       "plot without title"
      ]
     },
     "metadata": {
      "image/png": {
       "height": 420,
       "width": 420
      }
     },
     "output_type": "display_data"
    }
   ],
   "source": [
    "naniar::gg_miss_span(pedestrian, hourly_counts, span_every = 3000)"
   ]
  },
  {
   "cell_type": "markdown",
   "id": "3a7638eb-5dc5-4c9d-a245-3bae4bfd564d",
   "metadata": {},
   "source": [
    "<a name=\"toc_00232_4.4\"></a>\n",
    "**4.4 Finding and replacing missing values**\n",
    "\n",
    "When handling missing values, we should not assume that they will always be represented with `NA` in the dataset. They may be coded as a `\"N/A\"`, `\"missing\"`, `\".\"`, `-99` or other strings, characters or numbers.\n",
    "\n",
    "The `miss_scan_count()`  function from the `naniar` package takes a dataframe and a `search` parameter - a list of values to search for. This returns a dataframe with two columns: `Variable` - the variables, and `n`, the number of times that search appears in each variable. \n",
    "\n",
    "To replace missing values, use `replace()` with the `mutate()` function, or use `replace_with_na()` from the `naniar` package."
   ]
  },
  {
   "cell_type": "code",
   "execution_count": 362,
   "id": "f93dde58-6718-4e00-85a5-4efc6285951e",
   "metadata": {},
   "outputs": [],
   "source": [
    "chaos <- tibble(\n",
    "    score = c(3, -99, 4, -99, 7, 10, 12, 16, 9),\n",
    "    grade = c(\"N/A\", \"E\", \"missing\", \"na\", \"n/a\", NA, \".\", NA, \"N/a\"),\n",
    "    place = c(-99, 97, 95, 92, -98, \"missing\", 88, \".\", 86)\n",
    "    )"
   ]
  },
  {
   "cell_type": "code",
   "execution_count": 367,
   "id": "b20ab790-64e3-4b8e-8dea-31325bab946d",
   "metadata": {},
   "outputs": [
    {
     "data": {
      "text/html": [
       "<table class=\"dataframe\">\n",
       "<caption>A tibble: 3 × 2</caption>\n",
       "<thead>\n",
       "\t<tr><th scope=col>Variable</th><th scope=col>n</th></tr>\n",
       "\t<tr><th scope=col>&lt;chr&gt;</th><th scope=col>&lt;int&gt;</th></tr>\n",
       "</thead>\n",
       "<tbody>\n",
       "\t<tr><td>score</td><td>0</td></tr>\n",
       "\t<tr><td>grade</td><td>1</td></tr>\n",
       "\t<tr><td>place</td><td>0</td></tr>\n",
       "</tbody>\n",
       "</table>\n"
      ],
      "text/latex": [
       "A tibble: 3 × 2\n",
       "\\begin{tabular}{ll}\n",
       " Variable & n\\\\\n",
       " <chr> & <int>\\\\\n",
       "\\hline\n",
       "\t score & 0\\\\\n",
       "\t grade & 1\\\\\n",
       "\t place & 0\\\\\n",
       "\\end{tabular}\n"
      ],
      "text/markdown": [
       "\n",
       "A tibble: 3 × 2\n",
       "\n",
       "| Variable &lt;chr&gt; | n &lt;int&gt; |\n",
       "|---|---|\n",
       "| score | 0 |\n",
       "| grade | 1 |\n",
       "| place | 0 |\n",
       "\n"
      ],
      "text/plain": [
       "  Variable n\n",
       "1 score    0\n",
       "2 grade    1\n",
       "3 place    0"
      ]
     },
     "metadata": {},
     "output_type": "display_data"
    }
   ],
   "source": [
    "naniar::miss_scan_count(chaos, \"N/A\")"
   ]
  },
  {
   "cell_type": "markdown",
   "id": "c979d32b-596e-4cdb-8ff7-c788bd4a644d",
   "metadata": {},
   "source": [
    "☝️ Here, we see that searching for `\"N/A\"` returns `1` hit for the variable, `grade`."
   ]
  },
  {
   "cell_type": "code",
   "execution_count": 371,
   "id": "8f1bcb01-5fe9-4081-85e4-8fe4c656e9d9",
   "metadata": {},
   "outputs": [
    {
     "data": {
      "text/html": [
       "<table class=\"dataframe\">\n",
       "<caption>A tibble: 9 × 3</caption>\n",
       "<thead>\n",
       "\t<tr><th scope=col>score</th><th scope=col>grade</th><th scope=col>place</th></tr>\n",
       "\t<tr><th scope=col>&lt;dbl&gt;</th><th scope=col>&lt;chr&gt;</th><th scope=col>&lt;chr&gt;</th></tr>\n",
       "</thead>\n",
       "<tbody>\n",
       "\t<tr><td>  3</td><td>NA     </td><td>-99    </td></tr>\n",
       "\t<tr><td>-99</td><td>E      </td><td>97     </td></tr>\n",
       "\t<tr><td>  4</td><td>missing</td><td>95     </td></tr>\n",
       "\t<tr><td>-99</td><td>na     </td><td>92     </td></tr>\n",
       "\t<tr><td>  7</td><td>n/a    </td><td>-98    </td></tr>\n",
       "\t<tr><td> 10</td><td>NA     </td><td>missing</td></tr>\n",
       "\t<tr><td> 12</td><td>.      </td><td>88     </td></tr>\n",
       "\t<tr><td> 16</td><td>NA     </td><td>.      </td></tr>\n",
       "\t<tr><td>  9</td><td>N/a    </td><td>86     </td></tr>\n",
       "</tbody>\n",
       "</table>\n"
      ],
      "text/latex": [
       "A tibble: 9 × 3\n",
       "\\begin{tabular}{lll}\n",
       " score & grade & place\\\\\n",
       " <dbl> & <chr> & <chr>\\\\\n",
       "\\hline\n",
       "\t   3 & NA      & -99    \\\\\n",
       "\t -99 & E       & 97     \\\\\n",
       "\t   4 & missing & 95     \\\\\n",
       "\t -99 & na      & 92     \\\\\n",
       "\t   7 & n/a     & -98    \\\\\n",
       "\t  10 & NA      & missing\\\\\n",
       "\t  12 & .       & 88     \\\\\n",
       "\t  16 & NA      & .      \\\\\n",
       "\t   9 & N/a     & 86     \\\\\n",
       "\\end{tabular}\n"
      ],
      "text/markdown": [
       "\n",
       "A tibble: 9 × 3\n",
       "\n",
       "| score &lt;dbl&gt; | grade &lt;chr&gt; | place &lt;chr&gt; |\n",
       "|---|---|---|\n",
       "|   3 | NA      | -99     |\n",
       "| -99 | E       | 97      |\n",
       "|   4 | missing | 95      |\n",
       "| -99 | na      | 92      |\n",
       "|   7 | n/a     | -98     |\n",
       "|  10 | NA      | missing |\n",
       "|  12 | .       | 88      |\n",
       "|  16 | NA      | .       |\n",
       "|   9 | N/a     | 86      |\n",
       "\n"
      ],
      "text/plain": [
       "  score grade   place  \n",
       "1   3   NA      -99    \n",
       "2 -99   E       97     \n",
       "3   4   missing 95     \n",
       "4 -99   na      92     \n",
       "5   7   n/a     -98    \n",
       "6  10   NA      missing\n",
       "7  12   .       88     \n",
       "8  16   NA      .      \n",
       "9   9   N/a     86     "
      ]
     },
     "metadata": {},
     "output_type": "display_data"
    }
   ],
   "source": [
    "chaos %>%\n",
    "  mutate(grade = replace(grade, grade == \"N/A\", NA))"
   ]
  },
  {
   "cell_type": "code",
   "execution_count": 378,
   "id": "0be669b6-c95c-4fd7-969d-a815534d3632",
   "metadata": {},
   "outputs": [
    {
     "data": {
      "text/html": [
       "<table class=\"dataframe\">\n",
       "<caption>A tibble: 9 × 3</caption>\n",
       "<thead>\n",
       "\t<tr><th scope=col>score</th><th scope=col>grade</th><th scope=col>place</th></tr>\n",
       "\t<tr><th scope=col>&lt;dbl&gt;</th><th scope=col>&lt;chr&gt;</th><th scope=col>&lt;chr&gt;</th></tr>\n",
       "</thead>\n",
       "<tbody>\n",
       "\t<tr><td>  3</td><td>NA</td><td>-99    </td></tr>\n",
       "\t<tr><td>-99</td><td>E </td><td>97     </td></tr>\n",
       "\t<tr><td>  4</td><td>NA</td><td>95     </td></tr>\n",
       "\t<tr><td>-99</td><td>NA</td><td>92     </td></tr>\n",
       "\t<tr><td>  7</td><td>NA</td><td>-98    </td></tr>\n",
       "\t<tr><td> 10</td><td>NA</td><td>missing</td></tr>\n",
       "\t<tr><td> 12</td><td>NA</td><td>88     </td></tr>\n",
       "\t<tr><td> 16</td><td>NA</td><td>.      </td></tr>\n",
       "\t<tr><td>  9</td><td>NA</td><td>86     </td></tr>\n",
       "</tbody>\n",
       "</table>\n"
      ],
      "text/latex": [
       "A tibble: 9 × 3\n",
       "\\begin{tabular}{lll}\n",
       " score & grade & place\\\\\n",
       " <dbl> & <chr> & <chr>\\\\\n",
       "\\hline\n",
       "\t   3 & NA & -99    \\\\\n",
       "\t -99 & E  & 97     \\\\\n",
       "\t   4 & NA & 95     \\\\\n",
       "\t -99 & NA & 92     \\\\\n",
       "\t   7 & NA & -98    \\\\\n",
       "\t  10 & NA & missing\\\\\n",
       "\t  12 & NA & 88     \\\\\n",
       "\t  16 & NA & .      \\\\\n",
       "\t   9 & NA & 86     \\\\\n",
       "\\end{tabular}\n"
      ],
      "text/markdown": [
       "\n",
       "A tibble: 9 × 3\n",
       "\n",
       "| score &lt;dbl&gt; | grade &lt;chr&gt; | place &lt;chr&gt; |\n",
       "|---|---|---|\n",
       "|   3 | NA | -99     |\n",
       "| -99 | E  | 97      |\n",
       "|   4 | NA | 95      |\n",
       "| -99 | NA | 92      |\n",
       "|   7 | NA | -98     |\n",
       "|  10 | NA | missing |\n",
       "|  12 | NA | 88      |\n",
       "|  16 | NA | .       |\n",
       "|   9 | NA | 86      |\n",
       "\n"
      ],
      "text/plain": [
       "  score grade place  \n",
       "1   3   NA    -99    \n",
       "2 -99   E     97     \n",
       "3   4   NA    95     \n",
       "4 -99   NA    92     \n",
       "5   7   NA    -98    \n",
       "6  10   NA    missing\n",
       "7  12   NA    88     \n",
       "8  16   NA    .      \n",
       "9   9   NA    86     "
      ]
     },
     "metadata": {},
     "output_type": "display_data"
    }
   ],
   "source": [
    "chaos %>%\n",
    "  replace_with_na(replace = list(grade = c(\"N/A\", \"n/a\", \"N/a\", \"na\", \"missing\", \".\")))"
   ]
  },
  {
   "cell_type": "markdown",
   "id": "c28cf5a7-e21c-48c2-8787-da30cba9d722",
   "metadata": {},
   "source": [
    "We can handle NAs in multiple columns at once with the following functions:\n",
    "- `across()` with the `mutate()` statement\n",
    "- `replace_with_na_all(condition = ~.x == \"N/A\")` - to replace NAs is all variables (`naniar` package)\n",
    "- `replace_with_na_at()` - a subset of selected variables\n",
    "- `replace_with_na_if()`  - a subset of variables that fulfill some condition (numeric, character)"
   ]
  },
  {
   "cell_type": "code",
   "execution_count": 380,
   "id": "51739281-997f-4606-958f-21a1aeae5b7c",
   "metadata": {},
   "outputs": [
    {
     "data": {
      "text/html": [
       "<table class=\"dataframe\">\n",
       "<caption>A tibble: 9 × 3</caption>\n",
       "<thead>\n",
       "\t<tr><th scope=col>score</th><th scope=col>grade</th><th scope=col>place</th></tr>\n",
       "\t<tr><th scope=col>&lt;dbl&gt;</th><th scope=col>&lt;chr&gt;</th><th scope=col>&lt;chr&gt;</th></tr>\n",
       "</thead>\n",
       "<tbody>\n",
       "\t<tr><td>  3</td><td>N/A    </td><td>-99    </td></tr>\n",
       "\t<tr><td>-99</td><td>E      </td><td>97     </td></tr>\n",
       "\t<tr><td>  4</td><td>missing</td><td>95     </td></tr>\n",
       "\t<tr><td>-99</td><td>na     </td><td>92     </td></tr>\n",
       "\t<tr><td>  7</td><td>n/a    </td><td>-98    </td></tr>\n",
       "\t<tr><td> 10</td><td>0      </td><td>missing</td></tr>\n",
       "\t<tr><td> 12</td><td>.      </td><td>88     </td></tr>\n",
       "\t<tr><td> 16</td><td>0      </td><td>.      </td></tr>\n",
       "\t<tr><td>  9</td><td>N/a    </td><td>86     </td></tr>\n",
       "</tbody>\n",
       "</table>\n"
      ],
      "text/latex": [
       "A tibble: 9 × 3\n",
       "\\begin{tabular}{lll}\n",
       " score & grade & place\\\\\n",
       " <dbl> & <chr> & <chr>\\\\\n",
       "\\hline\n",
       "\t   3 & N/A     & -99    \\\\\n",
       "\t -99 & E       & 97     \\\\\n",
       "\t   4 & missing & 95     \\\\\n",
       "\t -99 & na      & 92     \\\\\n",
       "\t   7 & n/a     & -98    \\\\\n",
       "\t  10 & 0       & missing\\\\\n",
       "\t  12 & .       & 88     \\\\\n",
       "\t  16 & 0       & .      \\\\\n",
       "\t   9 & N/a     & 86     \\\\\n",
       "\\end{tabular}\n"
      ],
      "text/markdown": [
       "\n",
       "A tibble: 9 × 3\n",
       "\n",
       "| score &lt;dbl&gt; | grade &lt;chr&gt; | place &lt;chr&gt; |\n",
       "|---|---|---|\n",
       "|   3 | N/A     | -99     |\n",
       "| -99 | E       | 97      |\n",
       "|   4 | missing | 95      |\n",
       "| -99 | na      | 92      |\n",
       "|   7 | n/a     | -98     |\n",
       "|  10 | 0       | missing |\n",
       "|  12 | .       | 88      |\n",
       "|  16 | 0       | .       |\n",
       "|   9 | N/a     | 86      |\n",
       "\n"
      ],
      "text/plain": [
       "  score grade   place  \n",
       "1   3   N/A     -99    \n",
       "2 -99   E       97     \n",
       "3   4   missing 95     \n",
       "4 -99   na      92     \n",
       "5   7   n/a     -98    \n",
       "6  10   0       missing\n",
       "7  12   .       88     \n",
       "8  16   0       .      \n",
       "9   9   N/a     86     "
      ]
     },
     "metadata": {},
     "output_type": "display_data"
    }
   ],
   "source": [
    "chaos %>%\n",
    "  mutate(across(everything(), ~ ifelse(is.na(.), 0, .))) "
   ]
  },
  {
   "cell_type": "code",
   "execution_count": 401,
   "id": "4f79dd9b-909a-4dea-b3de-def213d39d17",
   "metadata": {},
   "outputs": [
    {
     "data": {
      "text/html": [
       "<table class=\"dataframe\">\n",
       "<caption>A tibble: 9 × 3</caption>\n",
       "<thead>\n",
       "\t<tr><th scope=col>score</th><th scope=col>grade</th><th scope=col>place</th></tr>\n",
       "\t<tr><th scope=col>&lt;dbl&gt;</th><th scope=col>&lt;chr&gt;</th><th scope=col>&lt;chr&gt;</th></tr>\n",
       "</thead>\n",
       "<tbody>\n",
       "\t<tr><td> 3</td><td>NA</td><td>NA </td></tr>\n",
       "\t<tr><td>NA</td><td>E </td><td>97 </td></tr>\n",
       "\t<tr><td> 4</td><td>NA</td><td>95 </td></tr>\n",
       "\t<tr><td>NA</td><td>NA</td><td>92 </td></tr>\n",
       "\t<tr><td> 7</td><td>NA</td><td>-98</td></tr>\n",
       "\t<tr><td>10</td><td>NA</td><td>NA </td></tr>\n",
       "\t<tr><td>12</td><td>NA</td><td>88 </td></tr>\n",
       "\t<tr><td>16</td><td>NA</td><td>NA </td></tr>\n",
       "\t<tr><td> 9</td><td>NA</td><td>86 </td></tr>\n",
       "</tbody>\n",
       "</table>\n"
      ],
      "text/latex": [
       "A tibble: 9 × 3\n",
       "\\begin{tabular}{lll}\n",
       " score & grade & place\\\\\n",
       " <dbl> & <chr> & <chr>\\\\\n",
       "\\hline\n",
       "\t  3 & NA & NA \\\\\n",
       "\t NA & E  & 97 \\\\\n",
       "\t  4 & NA & 95 \\\\\n",
       "\t NA & NA & 92 \\\\\n",
       "\t  7 & NA & -98\\\\\n",
       "\t 10 & NA & NA \\\\\n",
       "\t 12 & NA & 88 \\\\\n",
       "\t 16 & NA & NA \\\\\n",
       "\t  9 & NA & 86 \\\\\n",
       "\\end{tabular}\n"
      ],
      "text/markdown": [
       "\n",
       "A tibble: 9 × 3\n",
       "\n",
       "| score &lt;dbl&gt; | grade &lt;chr&gt; | place &lt;chr&gt; |\n",
       "|---|---|---|\n",
       "|  3 | NA | NA  |\n",
       "| NA | E  | 97  |\n",
       "|  4 | NA | 95  |\n",
       "| NA | NA | 92  |\n",
       "|  7 | NA | -98 |\n",
       "| 10 | NA | NA  |\n",
       "| 12 | NA | 88  |\n",
       "| 16 | NA | NA  |\n",
       "|  9 | NA | 86  |\n",
       "\n"
      ],
      "text/plain": [
       "  score grade place\n",
       "1  3    NA    NA   \n",
       "2 NA    E     97   \n",
       "3  4    NA    95   \n",
       "4 NA    NA    92   \n",
       "5  7    NA    -98  \n",
       "6 10    NA    NA   \n",
       "7 12    NA    88   \n",
       "8 16    NA    NA   \n",
       "9  9    NA    86   "
      ]
     },
     "metadata": {},
     "output_type": "display_data"
    }
   ],
   "source": [
    "chaos %>%\n",
    "  naniar::replace_with_na_all(condition = ~ str_to_upper(.x) %in% c(\"N/A\", \"MISSING\", \"NA\", -99, \".\"))"
   ]
  },
  {
   "cell_type": "markdown",
   "id": "c60fd591-96d9-4841-b87e-2f57ebd5155b",
   "metadata": {},
   "source": [
    "In the dataset below, there are only two recorded measurements for Sam - he has morning and afternoon. Sam is missing a score evening! It's not recorded as missing, but it is not there! \n",
    "\n",
    "<div style=\"text-align:center;\">\n",
    "  <img src=\"images/clean_40.png\" width = \"200\" align=\"center\">\n",
    "</div>\n",
    "\n",
    "This becomes clearer if we spread out the data, so that we have one column for afternoon, evening, and morning. Notice how there is now a missing value for the evening for Sam! The missing value here wasn't shown before, because it was actually...missing!\n",
    "\n",
    "<div style=\"text-align:center;\">\n",
    "  <img src=\"images/clean_41.png\" width = \"300\" align=\"center\">\n",
    "</div>\n",
    "\n",
    "To make these implicit missings explicit, we can use the `complete()` function from `tidyr`. Here, you take the data then use the `complete()` function, passing it the variables that you want it to find unique combinations of. "
   ]
  },
  {
   "cell_type": "code",
   "execution_count": 405,
   "id": "ba7ff83b-317b-45ae-b72e-ad9ad535c55b",
   "metadata": {},
   "outputs": [
    {
     "data": {
      "text/html": [
       "<table class=\"dataframe\">\n",
       "<caption>A data.frame: 8 × 3</caption>\n",
       "<thead>\n",
       "\t<tr><th scope=col>name</th><th scope=col>time</th><th scope=col>value</th></tr>\n",
       "\t<tr><th scope=col>&lt;fct&gt;</th><th scope=col>&lt;fct&gt;</th><th scope=col>&lt;int&gt;</th></tr>\n",
       "</thead>\n",
       "<tbody>\n",
       "\t<tr><td>A</td><td>morning  </td><td>1</td></tr>\n",
       "\t<tr><td>B</td><td>morning  </td><td>2</td></tr>\n",
       "\t<tr><td>C</td><td>morning  </td><td>3</td></tr>\n",
       "\t<tr><td>A</td><td>afternoon</td><td>4</td></tr>\n",
       "\t<tr><td>B</td><td>afternoon</td><td>5</td></tr>\n",
       "\t<tr><td>C</td><td>afternoon</td><td>6</td></tr>\n",
       "\t<tr><td>A</td><td>evening  </td><td>7</td></tr>\n",
       "\t<tr><td>C</td><td>evening  </td><td>9</td></tr>\n",
       "</tbody>\n",
       "</table>\n"
      ],
      "text/latex": [
       "A data.frame: 8 × 3\n",
       "\\begin{tabular}{lll}\n",
       " name & time & value\\\\\n",
       " <fct> & <fct> & <int>\\\\\n",
       "\\hline\n",
       "\t A & morning   & 1\\\\\n",
       "\t B & morning   & 2\\\\\n",
       "\t C & morning   & 3\\\\\n",
       "\t A & afternoon & 4\\\\\n",
       "\t B & afternoon & 5\\\\\n",
       "\t C & afternoon & 6\\\\\n",
       "\t A & evening   & 7\\\\\n",
       "\t C & evening   & 9\\\\\n",
       "\\end{tabular}\n"
      ],
      "text/markdown": [
       "\n",
       "A data.frame: 8 × 3\n",
       "\n",
       "| name &lt;fct&gt; | time &lt;fct&gt; | value &lt;int&gt; |\n",
       "|---|---|---|\n",
       "| A | morning   | 1 |\n",
       "| B | morning   | 2 |\n",
       "| C | morning   | 3 |\n",
       "| A | afternoon | 4 |\n",
       "| B | afternoon | 5 |\n",
       "| C | afternoon | 6 |\n",
       "| A | evening   | 7 |\n",
       "| C | evening   | 9 |\n",
       "\n"
      ],
      "text/plain": [
       "  name time      value\n",
       "1 A    morning   1    \n",
       "2 B    morning   2    \n",
       "3 C    morning   3    \n",
       "4 A    afternoon 4    \n",
       "5 B    afternoon 5    \n",
       "6 C    afternoon 6    \n",
       "7 A    evening   7    \n",
       "8 C    evening   9    "
      ]
     },
     "metadata": {},
     "output_type": "display_data"
    }
   ],
   "source": [
    "dt <- expand.grid(name = c(\"A\", \"B\", \"C\"), time = c(\"morning\", \"afternoon\", \"evening\")) %>%\n",
    "      mutate(value = 1:9) %>%\n",
    "      filter(!(name == \"B\" & time == \"evening\"))\n",
    "\n",
    "dt "
   ]
  },
  {
   "cell_type": "markdown",
   "id": "faa2f233-f0e8-4363-9fff-d0371b5cdd24",
   "metadata": {},
   "source": [
    "☝️ The `name == \"B\"` and `time == \"evening\"` case is missing, but we want a row with `NA` instead for that case."
   ]
  },
  {
   "cell_type": "code",
   "execution_count": 404,
   "id": "a55cb640-d156-4c19-ab75-2efba4ce5aaa",
   "metadata": {},
   "outputs": [
    {
     "data": {
      "text/html": [
       "<table class=\"dataframe\">\n",
       "<caption>A tibble: 9 × 3</caption>\n",
       "<thead>\n",
       "\t<tr><th scope=col>name</th><th scope=col>time</th><th scope=col>value</th></tr>\n",
       "\t<tr><th scope=col>&lt;fct&gt;</th><th scope=col>&lt;fct&gt;</th><th scope=col>&lt;int&gt;</th></tr>\n",
       "</thead>\n",
       "<tbody>\n",
       "\t<tr><td>A</td><td>morning  </td><td> 1</td></tr>\n",
       "\t<tr><td>A</td><td>afternoon</td><td> 4</td></tr>\n",
       "\t<tr><td>A</td><td>evening  </td><td> 7</td></tr>\n",
       "\t<tr><td>B</td><td>morning  </td><td> 2</td></tr>\n",
       "\t<tr><td>B</td><td>afternoon</td><td> 5</td></tr>\n",
       "\t<tr><td>B</td><td>evening  </td><td>NA</td></tr>\n",
       "\t<tr><td>C</td><td>morning  </td><td> 3</td></tr>\n",
       "\t<tr><td>C</td><td>afternoon</td><td> 6</td></tr>\n",
       "\t<tr><td>C</td><td>evening  </td><td> 9</td></tr>\n",
       "</tbody>\n",
       "</table>\n"
      ],
      "text/latex": [
       "A tibble: 9 × 3\n",
       "\\begin{tabular}{lll}\n",
       " name & time & value\\\\\n",
       " <fct> & <fct> & <int>\\\\\n",
       "\\hline\n",
       "\t A & morning   &  1\\\\\n",
       "\t A & afternoon &  4\\\\\n",
       "\t A & evening   &  7\\\\\n",
       "\t B & morning   &  2\\\\\n",
       "\t B & afternoon &  5\\\\\n",
       "\t B & evening   & NA\\\\\n",
       "\t C & morning   &  3\\\\\n",
       "\t C & afternoon &  6\\\\\n",
       "\t C & evening   &  9\\\\\n",
       "\\end{tabular}\n"
      ],
      "text/markdown": [
       "\n",
       "A tibble: 9 × 3\n",
       "\n",
       "| name &lt;fct&gt; | time &lt;fct&gt; | value &lt;int&gt; |\n",
       "|---|---|---|\n",
       "| A | morning   |  1 |\n",
       "| A | afternoon |  4 |\n",
       "| A | evening   |  7 |\n",
       "| B | morning   |  2 |\n",
       "| B | afternoon |  5 |\n",
       "| B | evening   | NA |\n",
       "| C | morning   |  3 |\n",
       "| C | afternoon |  6 |\n",
       "| C | evening   |  9 |\n",
       "\n"
      ],
      "text/plain": [
       "  name time      value\n",
       "1 A    morning    1   \n",
       "2 A    afternoon  4   \n",
       "3 A    evening    7   \n",
       "4 B    morning    2   \n",
       "5 B    afternoon  5   \n",
       "6 B    evening   NA   \n",
       "7 C    morning    3   \n",
       "8 C    afternoon  6   \n",
       "9 C    evening    9   "
      ]
     },
     "metadata": {},
     "output_type": "display_data"
    }
   ],
   "source": [
    "dt %>%\n",
    "  complete(name, time)"
   ]
  },
  {
   "cell_type": "markdown",
   "id": "93f5720c-c250-41b6-bcde-20e40a23ead6",
   "metadata": {},
   "source": [
    "☝️ Now the dataset is complete!"
   ]
  },
  {
   "cell_type": "markdown",
   "id": "adf2662c-c17f-48cb-98c5-b75846a2a31f",
   "metadata": {},
   "source": [
    "Sometimes missing data is entered to help make a dataset more readable. For example, imagine if we had the structure below for our tetris data. We know something about the data structure here, and what we want to do is **fill these values down**. This method is called **last-observation carried forward (LOCF)**. Handling missing values in this way is useful in cases where there is some structure to the data that makes it easy to know what the missing value is. So make sure you are careful with this technique, it only solves a few missing data problems.\n",
    "\n",
    "<div style=\"text-align:center;\">\n",
    "  <img src=\"images/clean_42.png\" width = \"500\" align=\"center\">\n",
    "</div>\n",
    "\n",
    "To do this, we can use the `fill()` function from `tidyr`."
   ]
  },
  {
   "cell_type": "code",
   "execution_count": 408,
   "id": "b561a516-1fd2-484a-a29a-ba7a2b072674",
   "metadata": {},
   "outputs": [
    {
     "data": {
      "text/html": [
       "<table class=\"dataframe\">\n",
       "<caption>A tibble: 9 × 2</caption>\n",
       "<thead>\n",
       "\t<tr><th scope=col>name</th><th scope=col>value</th></tr>\n",
       "\t<tr><th scope=col>&lt;chr&gt;</th><th scope=col>&lt;int&gt;</th></tr>\n",
       "</thead>\n",
       "<tbody>\n",
       "\t<tr><td>A </td><td>1</td></tr>\n",
       "\t<tr><td>NA</td><td>2</td></tr>\n",
       "\t<tr><td>NA</td><td>3</td></tr>\n",
       "\t<tr><td>B </td><td>4</td></tr>\n",
       "\t<tr><td>NA</td><td>5</td></tr>\n",
       "\t<tr><td>NA</td><td>6</td></tr>\n",
       "\t<tr><td>C </td><td>7</td></tr>\n",
       "\t<tr><td>NA</td><td>8</td></tr>\n",
       "\t<tr><td>NA</td><td>9</td></tr>\n",
       "</tbody>\n",
       "</table>\n"
      ],
      "text/latex": [
       "A tibble: 9 × 2\n",
       "\\begin{tabular}{ll}\n",
       " name & value\\\\\n",
       " <chr> & <int>\\\\\n",
       "\\hline\n",
       "\t A  & 1\\\\\n",
       "\t NA & 2\\\\\n",
       "\t NA & 3\\\\\n",
       "\t B  & 4\\\\\n",
       "\t NA & 5\\\\\n",
       "\t NA & 6\\\\\n",
       "\t C  & 7\\\\\n",
       "\t NA & 8\\\\\n",
       "\t NA & 9\\\\\n",
       "\\end{tabular}\n"
      ],
      "text/markdown": [
       "\n",
       "A tibble: 9 × 2\n",
       "\n",
       "| name &lt;chr&gt; | value &lt;int&gt; |\n",
       "|---|---|\n",
       "| A  | 1 |\n",
       "| NA | 2 |\n",
       "| NA | 3 |\n",
       "| B  | 4 |\n",
       "| NA | 5 |\n",
       "| NA | 6 |\n",
       "| C  | 7 |\n",
       "| NA | 8 |\n",
       "| NA | 9 |\n",
       "\n"
      ],
      "text/plain": [
       "  name value\n",
       "1 A    1    \n",
       "2 NA   2    \n",
       "3 NA   3    \n",
       "4 B    4    \n",
       "5 NA   5    \n",
       "6 NA   6    \n",
       "7 C    7    \n",
       "8 NA   8    \n",
       "9 NA   9    "
      ]
     },
     "metadata": {},
     "output_type": "display_data"
    }
   ],
   "source": [
    "dt2 <-tibble(name = c(\"A\", NA, NA, \"B\", NA, NA, \"C\", NA, NA),\n",
    "            value = 1:9)\n",
    "\n",
    "dt2"
   ]
  },
  {
   "cell_type": "code",
   "execution_count": 410,
   "id": "88ee15cb-9ef1-4c98-8f86-8eb441255556",
   "metadata": {},
   "outputs": [
    {
     "data": {
      "text/html": [
       "<table class=\"dataframe\">\n",
       "<caption>A tibble: 9 × 2</caption>\n",
       "<thead>\n",
       "\t<tr><th scope=col>name</th><th scope=col>value</th></tr>\n",
       "\t<tr><th scope=col>&lt;chr&gt;</th><th scope=col>&lt;int&gt;</th></tr>\n",
       "</thead>\n",
       "<tbody>\n",
       "\t<tr><td>A</td><td>1</td></tr>\n",
       "\t<tr><td>A</td><td>2</td></tr>\n",
       "\t<tr><td>A</td><td>3</td></tr>\n",
       "\t<tr><td>B</td><td>4</td></tr>\n",
       "\t<tr><td>B</td><td>5</td></tr>\n",
       "\t<tr><td>B</td><td>6</td></tr>\n",
       "\t<tr><td>C</td><td>7</td></tr>\n",
       "\t<tr><td>C</td><td>8</td></tr>\n",
       "\t<tr><td>C</td><td>9</td></tr>\n",
       "</tbody>\n",
       "</table>\n"
      ],
      "text/latex": [
       "A tibble: 9 × 2\n",
       "\\begin{tabular}{ll}\n",
       " name & value\\\\\n",
       " <chr> & <int>\\\\\n",
       "\\hline\n",
       "\t A & 1\\\\\n",
       "\t A & 2\\\\\n",
       "\t A & 3\\\\\n",
       "\t B & 4\\\\\n",
       "\t B & 5\\\\\n",
       "\t B & 6\\\\\n",
       "\t C & 7\\\\\n",
       "\t C & 8\\\\\n",
       "\t C & 9\\\\\n",
       "\\end{tabular}\n"
      ],
      "text/markdown": [
       "\n",
       "A tibble: 9 × 2\n",
       "\n",
       "| name &lt;chr&gt; | value &lt;int&gt; |\n",
       "|---|---|\n",
       "| A | 1 |\n",
       "| A | 2 |\n",
       "| A | 3 |\n",
       "| B | 4 |\n",
       "| B | 5 |\n",
       "| B | 6 |\n",
       "| C | 7 |\n",
       "| C | 8 |\n",
       "| C | 9 |\n",
       "\n"
      ],
      "text/plain": [
       "  name value\n",
       "1 A    1    \n",
       "2 A    2    \n",
       "3 A    3    \n",
       "4 B    4    \n",
       "5 B    5    \n",
       "6 B    6    \n",
       "7 C    7    \n",
       "8 C    8    \n",
       "9 C    9    "
      ]
     },
     "metadata": {},
     "output_type": "display_data"
    }
   ],
   "source": [
    "dt2 %>%\n",
    "  fill(name)"
   ]
  },
  {
   "cell_type": "markdown",
   "id": "e94fc7a0-0aea-4d9c-858d-61d18fd3a15f",
   "metadata": {},
   "source": [
    "<a name=\"toc_00232_4.5\"></a>\n",
    "**4.5 Categories of missing values**\n",
    "\n",
    "<u>Missing data can be categorized as follows:</u>\n",
    "\n",
    "- **MCAR** (Missing Completely Random) - no relationship with other values. Probably caused by entry errors when imputting data. The `vis_miss` plot shows no clusters, the pattern is random even after setting `cluster = TRUE`. E.g.:\n",
    "    - Questionnaires were randomly lost in the mail\n",
    "    - Test scores from a workplace may be missing for some workers on vacation\n",
    "    \n",
    "<div style=\"text-align:center;\">\n",
    "  <img src=\"images/clean_44.png\" width = \"300\" align=\"center\">\n",
    "</div>\n",
    "\n",
    "- **MAR** (Missing At Random) - relationship with other *observed* data. E.g.:\n",
    "    - Test scores are missing for students from a certain school district, but not the others.\n",
    "    - Younger people were less likely to get their blood pressure checked at the doctor, so their medical records were missing blood pressure data\n",
    "    - Missing ozone data for high temperatures (not as in the example below)\n",
    "    \n",
    "<div style=\"text-align:center;\">\n",
    "  <img src=\"images/clean_45.png\" width = \"500\" align=\"center\">\n",
    "</div>\n",
    "\n",
    "- **MNAR** (Missing Not At Random) - relationship with other *unobserved* data. E.g.:\n",
    "    - A scale has a limit of 30 lbs, so shipments above 30 lbs don't have a recorded weight\n",
    "    - Blood samples tested during the night shift were more likely to be contaminated, creating missing test results, but time of testing wasn't recorded\n",
    "    - Missing temperature values for high temperatures.\n",
    "\n",
    "<div style=\"text-align:center;\">\n",
    "  <img src=\"images/clean_46.png\" width = \"350\" align=\"center\">\n",
    "</div>\n",
    "\n",
    "<u>How to handle missing data?</u>\n",
    "\n",
    "- Drop missing data\n",
    "- **Impute** (fill in) with statistical measures (mean, median, mode...) or domain knowledge\n",
    "- Impute using an algorithmic approach\n",
    "- Impute with machine learning models\n",
    "\n",
    "The appropriate method depends on the category of missingness.\n",
    "- Appropriate methods for MCAR missing data:\n",
    "    - Imputation is advisable\n",
    "    - Deleting observations may reduce sample size, limiting inference, but will not bias. It should only be done if missing data <= 5% of all data.\n",
    "    $$$$\n",
    "- Appropriate methods for MAR missing data:\n",
    "    - Imputation is advisable\n",
    "    - Deleting observations is not ideal, and may lead to bias. Generally, deleting observations is safer for MCAR data than deleting observations for MAR data.\n",
    "    $$$$\n",
    "- Appropriate methods for MNAR missing data:\n",
    "    - Data will be biased from deletion and imputation\n",
    "    - Inference can be limited, procedd with caution"
   ]
  },
  {
   "cell_type": "markdown",
   "id": "7332f8b7-574d-45c7-afc0-da4404e9cb16",
   "metadata": {},
   "source": [
    "<a name=\"toc_00232_4.6\"></a>\n",
    "**4.6 Shadow matrix and Nabular data**"
   ]
  },
  {
   "cell_type": "markdown",
   "id": "e0714d5e-d06b-4c7f-892e-a74cc3e683ad",
   "metadata": {},
   "source": [
    "Let's imagine that we have some census data that contains two columns: income, and education. We note that there are some missing values in education. If we look at the distribution of income, we see that it looks like most of the values are around 70 to 80 thousand dollars a year. But if we fill the distributions according to whether or not education is missing, we see that there is a distinct gap between the two. To help us build plots like this, and explore how values are related to missingness, we are going to need some special data structures, like the shadow matrix and nabular data, and demonstrates how they can be used in analysis.\n",
    "\n",
    "<div style=\"text-align:center;\">\n",
    "  <img src=\"images/clean_47.png\" width = \"500\" align=\"center\">\n",
    "</div>\n",
    "\n",
    "The **Shadow matrix** A shadow matrix is a simple way to keep track of which observations were originally missing. It has the following features: \n",
    "\n",
    "<div style=\"text-align:center;\">\n",
    "  <img src=\"images/clean_48.png\" width = \"600\" align=\"center\">\n",
    "</div>\n",
    "\n",
    "- Coordinated names: Variables in the shadow matrix gain the same name as in the data, with the suffix `\"_NA\"`. This makes the variables missingness straightforward to refer to. \n",
    "- Clear values. The values are either `!NA` = \"not missing\", or `NA` = \"missing\". This is clearer than ones and zeros for missing/not missing.\n",
    "\n",
    "The **Nobular data** is practically the shadow matrix, that is attached, column-wise, to the data. This can be done with `bind_shadow(data)` from the `naniar` package. You can also use `nabular` instead of `bind_shadow`, if you like. \n",
    "\n",
    "<div style=\"text-align:center;\">\n",
    "  <img src=\"images/clean_49.png\" width = \"400\" align=\"center\">\n",
    "</div>"
   ]
  },
  {
   "cell_type": "code",
   "execution_count": 426,
   "id": "451ee599-7507-4996-8e37-e6f825358f26",
   "metadata": {},
   "outputs": [
    {
     "data": {
      "text/html": [
       "<table class=\"dataframe\">\n",
       "<caption>A tibble: 6 × 12</caption>\n",
       "<thead>\n",
       "\t<tr><th scope=col>Ozone</th><th scope=col>Solar.R</th><th scope=col>Wind</th><th scope=col>Temp</th><th scope=col>Month</th><th scope=col>Day</th><th scope=col>Ozone_NA</th><th scope=col>Solar.R_NA</th><th scope=col>Wind_NA</th><th scope=col>Temp_NA</th><th scope=col>Month_NA</th><th scope=col>Day_NA</th></tr>\n",
       "\t<tr><th scope=col>&lt;int&gt;</th><th scope=col>&lt;int&gt;</th><th scope=col>&lt;dbl&gt;</th><th scope=col>&lt;int&gt;</th><th scope=col>&lt;int&gt;</th><th scope=col>&lt;int&gt;</th><th scope=col>&lt;fct&gt;</th><th scope=col>&lt;fct&gt;</th><th scope=col>&lt;fct&gt;</th><th scope=col>&lt;fct&gt;</th><th scope=col>&lt;fct&gt;</th><th scope=col>&lt;fct&gt;</th></tr>\n",
       "</thead>\n",
       "<tbody>\n",
       "\t<tr><td>41</td><td>190</td><td> 7.4</td><td>67</td><td>5</td><td>1</td><td>!NA</td><td>!NA</td><td>!NA</td><td>!NA</td><td>!NA</td><td>!NA</td></tr>\n",
       "\t<tr><td>36</td><td>118</td><td> 8.0</td><td>72</td><td>5</td><td>2</td><td>!NA</td><td>!NA</td><td>!NA</td><td>!NA</td><td>!NA</td><td>!NA</td></tr>\n",
       "\t<tr><td>12</td><td>149</td><td>12.6</td><td>74</td><td>5</td><td>3</td><td>!NA</td><td>!NA</td><td>!NA</td><td>!NA</td><td>!NA</td><td>!NA</td></tr>\n",
       "\t<tr><td>18</td><td>313</td><td>11.5</td><td>62</td><td>5</td><td>4</td><td>!NA</td><td>!NA</td><td>!NA</td><td>!NA</td><td>!NA</td><td>!NA</td></tr>\n",
       "\t<tr><td>NA</td><td> NA</td><td>14.3</td><td>56</td><td>5</td><td>5</td><td>NA </td><td>NA </td><td>!NA</td><td>!NA</td><td>!NA</td><td>!NA</td></tr>\n",
       "\t<tr><td>28</td><td> NA</td><td>14.9</td><td>66</td><td>5</td><td>6</td><td>!NA</td><td>NA </td><td>!NA</td><td>!NA</td><td>!NA</td><td>!NA</td></tr>\n",
       "</tbody>\n",
       "</table>\n"
      ],
      "text/latex": [
       "A tibble: 6 × 12\n",
       "\\begin{tabular}{llllllllllll}\n",
       " Ozone & Solar.R & Wind & Temp & Month & Day & Ozone\\_NA & Solar.R\\_NA & Wind\\_NA & Temp\\_NA & Month\\_NA & Day\\_NA\\\\\n",
       " <int> & <int> & <dbl> & <int> & <int> & <int> & <fct> & <fct> & <fct> & <fct> & <fct> & <fct>\\\\\n",
       "\\hline\n",
       "\t 41 & 190 &  7.4 & 67 & 5 & 1 & !NA & !NA & !NA & !NA & !NA & !NA\\\\\n",
       "\t 36 & 118 &  8.0 & 72 & 5 & 2 & !NA & !NA & !NA & !NA & !NA & !NA\\\\\n",
       "\t 12 & 149 & 12.6 & 74 & 5 & 3 & !NA & !NA & !NA & !NA & !NA & !NA\\\\\n",
       "\t 18 & 313 & 11.5 & 62 & 5 & 4 & !NA & !NA & !NA & !NA & !NA & !NA\\\\\n",
       "\t NA &  NA & 14.3 & 56 & 5 & 5 & NA  & NA  & !NA & !NA & !NA & !NA\\\\\n",
       "\t 28 &  NA & 14.9 & 66 & 5 & 6 & !NA & NA  & !NA & !NA & !NA & !NA\\\\\n",
       "\\end{tabular}\n"
      ],
      "text/markdown": [
       "\n",
       "A tibble: 6 × 12\n",
       "\n",
       "| Ozone &lt;int&gt; | Solar.R &lt;int&gt; | Wind &lt;dbl&gt; | Temp &lt;int&gt; | Month &lt;int&gt; | Day &lt;int&gt; | Ozone_NA &lt;fct&gt; | Solar.R_NA &lt;fct&gt; | Wind_NA &lt;fct&gt; | Temp_NA &lt;fct&gt; | Month_NA &lt;fct&gt; | Day_NA &lt;fct&gt; |\n",
       "|---|---|---|---|---|---|---|---|---|---|---|---|\n",
       "| 41 | 190 |  7.4 | 67 | 5 | 1 | !NA | !NA | !NA | !NA | !NA | !NA |\n",
       "| 36 | 118 |  8.0 | 72 | 5 | 2 | !NA | !NA | !NA | !NA | !NA | !NA |\n",
       "| 12 | 149 | 12.6 | 74 | 5 | 3 | !NA | !NA | !NA | !NA | !NA | !NA |\n",
       "| 18 | 313 | 11.5 | 62 | 5 | 4 | !NA | !NA | !NA | !NA | !NA | !NA |\n",
       "| NA |  NA | 14.3 | 56 | 5 | 5 | NA  | NA  | !NA | !NA | !NA | !NA |\n",
       "| 28 |  NA | 14.9 | 66 | 5 | 6 | !NA | NA  | !NA | !NA | !NA | !NA |\n",
       "\n"
      ],
      "text/plain": [
       "  Ozone Solar.R Wind Temp Month Day Ozone_NA Solar.R_NA Wind_NA Temp_NA\n",
       "1 41    190      7.4 67   5     1   !NA      !NA        !NA     !NA    \n",
       "2 36    118      8.0 72   5     2   !NA      !NA        !NA     !NA    \n",
       "3 12    149     12.6 74   5     3   !NA      !NA        !NA     !NA    \n",
       "4 18    313     11.5 62   5     4   !NA      !NA        !NA     !NA    \n",
       "5 NA     NA     14.3 56   5     5   NA       NA         !NA     !NA    \n",
       "6 28     NA     14.9 66   5     6   !NA      NA         !NA     !NA    \n",
       "  Month_NA Day_NA\n",
       "1 !NA      !NA   \n",
       "2 !NA      !NA   \n",
       "3 !NA      !NA   \n",
       "4 !NA      !NA   \n",
       "5 !NA      !NA   \n",
       "6 !NA      !NA   "
      ]
     },
     "metadata": {},
     "output_type": "display_data"
    }
   ],
   "source": [
    "naniar::bind_shadow(airquality) %>%\n",
    "  head()"
   ]
  },
  {
   "cell_type": "code",
   "execution_count": 427,
   "id": "0f7ed53a-7457-439a-9065-2554a32284b3",
   "metadata": {},
   "outputs": [
    {
     "data": {
      "text/html": [
       "<table class=\"dataframe\">\n",
       "<caption>A tibble: 2 × 2</caption>\n",
       "<thead>\n",
       "\t<tr><th scope=col>Ozone_NA</th><th scope=col>mean</th></tr>\n",
       "\t<tr><th scope=col>&lt;fct&gt;</th><th scope=col>&lt;dbl&gt;</th></tr>\n",
       "</thead>\n",
       "<tbody>\n",
       "\t<tr><td>!NA</td><td> 9.862069</td></tr>\n",
       "\t<tr><td>NA </td><td>10.256757</td></tr>\n",
       "</tbody>\n",
       "</table>\n"
      ],
      "text/latex": [
       "A tibble: 2 × 2\n",
       "\\begin{tabular}{ll}\n",
       " Ozone\\_NA & mean\\\\\n",
       " <fct> & <dbl>\\\\\n",
       "\\hline\n",
       "\t !NA &  9.862069\\\\\n",
       "\t NA  & 10.256757\\\\\n",
       "\\end{tabular}\n"
      ],
      "text/markdown": [
       "\n",
       "A tibble: 2 × 2\n",
       "\n",
       "| Ozone_NA &lt;fct&gt; | mean &lt;dbl&gt; |\n",
       "|---|---|\n",
       "| !NA |  9.862069 |\n",
       "| NA  | 10.256757 |\n",
       "\n"
      ],
      "text/plain": [
       "  Ozone_NA mean     \n",
       "1 !NA       9.862069\n",
       "2 NA       10.256757"
      ]
     },
     "metadata": {},
     "output_type": "display_data"
    }
   ],
   "source": [
    "airquality %>%\n",
    "  bind_shadow() %>%\n",
    "  group_by(Ozone_NA) %>%\n",
    "  summarize(mean = mean(Wind))"
   ]
  },
  {
   "cell_type": "markdown",
   "id": "4b5bddfb-23fc-442e-b19c-d81981eb3756",
   "metadata": {},
   "source": [
    "We can use nabular data to explore how you can use nabular data to explore how variables vary as other variables go missing."
   ]
  },
  {
   "cell_type": "code",
   "execution_count": 443,
   "id": "019c2c97-f084-4cf0-82a3-1295833b054f",
   "metadata": {},
   "outputs": [
    {
     "data": {
      "image/png": "[encoded data removed]",
      "text/plain": [
       "plot without title"
      ]
     },
     "metadata": {
      "image/png": {
       "height": 420,
       "width": 420
      }
     },
     "output_type": "display_data"
    }
   ],
   "source": [
    "library(patchwork)\n",
    "\n",
    "a <- ggplot(bind_shadow(airquality), aes(x = Temp, fill = Ozone_NA)) +\n",
    "       geom_density( alpha = 0.5)\n",
    "\n",
    "b <- ggplot(bind_shadow(airquality), aes(y = Temp, x = Ozone_NA)) +\n",
    "       geom_boxplot()\n",
    "\n",
    "c <- ggplot(bind_shadow(airquality), aes(x = Temp, y = Wind)) +\n",
    "       geom_point() +\n",
    "        facet_wrap(.~Ozone_NA)\n",
    "\n",
    "a / b / c"
   ]
  },
  {
   "cell_type": "markdown",
   "id": "5b747c19-906b-466a-b315-39d44e8a9b22",
   "metadata": {},
   "source": [
    "The problem with visualizing a scatter plot when the data has missing values is that it removes any observations - entire rows - that have missing values. ggplot is actually very nice gives a warning that missing values are being dropped. The same cannot be said of other all functions in R! To explore the missings in a scatter plot, we can use `geom_miss_point()`. It visualizes the missing values by placing them in the margins. \n",
    "\n",
    "`geom_miss_point` performs a transformation on the data and actually imputes the values that are missing with the value 10% below the minimum value (as shown below in the column `ozone_shift` column) and then keeps track of where it is, to show it in the visualization - as shown here with `Ozone_NA`.\n",
    "\n",
    "<div style=\"text-align:center;\">\n",
    "  <img src=\"images/clean_50.png\" width = \"250\" align=\"center\">\n",
    "</div>"
   ]
  },
  {
   "cell_type": "code",
   "execution_count": 447,
   "id": "f7c43b4b-a603-4f64-af2e-2214a7289e57",
   "metadata": {},
   "outputs": [
    {
     "data": {
      "image/png": "[encoded data removed]",
      "text/plain": [
       "plot without title"
      ]
     },
     "metadata": {
      "image/png": {
       "height": 420,
       "width": 420
      }
     },
     "output_type": "display_data"
    }
   ],
   "source": [
    "airquality %>%\n",
    "    ggplot(aes(x = Ozone, y = Solar.R)) +\n",
    "       naniar::geom_miss_point()"
   ]
  },
  {
   "cell_type": "markdown",
   "id": "952f3948-f23d-4753-9156-8409543d7d52",
   "metadata": {},
   "source": [
    " ☝️ This shows us that the values of `Solar.R` are reasonably uniform. The values of `Ozone` when `Solar.R` is missing are shown in red on the bottom, this shows us that the missing values tend to occur at lower values of Ozone. In the bottom left we show cases where there are missings in both `Ozone` and `Solar.R`."
   ]
  },
  {
   "cell_type": "markdown",
   "id": "1fbb8c90-ad8a-4cfb-92bd-e10d270ca0d4",
   "metadata": {},
   "source": [
    "We can even use nabular data and explore the missingness by another variable being missing. For example, we can explore how the missingness changes when Solar Radiation is missing:"
   ]
  },
  {
   "cell_type": "code",
   "execution_count": 448,
   "id": "a7999183-194f-419c-bbfc-cc7e6a232835",
   "metadata": {},
   "outputs": [
    {
     "data": {
      "image/png": "[encoded data removed]",
      "text/plain": [
       "plot without title"
      ]
     },
     "metadata": {
      "image/png": {
       "height": 420,
       "width": 420
      }
     },
     "output_type": "display_data"
    }
   ],
   "source": [
    "airquality %>%\n",
    "  bind_shadow() %>%\n",
    "  ggplot(aes(x = Wind, y = Ozone)) +\n",
    "  geom_miss_point() +\n",
    "  facet_wrap(~ Solar.R_NA)"
   ]
  },
  {
   "cell_type": "markdown",
   "id": "8d5e070e-7b10-46b3-a93d-002de191a373",
   "metadata": {},
   "source": [
    "<a name=\"toc_00232_4.7\"></a>\n",
    "**4.7 Imputation methods**\n",
    "\n",
    "Imputing missing values needs to be done with care - you want to avoid imputing unlikely values like pregnant males, or winter temperatures on a warm summers day. \n",
    "\n",
    "It is important to check the variable's distribution (mean, median, spread, scale) before chosing the imputation method! For example, \n",
    "**mean imputation**, which takes the mean of complete values and uses this to impute it into the missing values, can be useful in some cases where there are only a small amount of missing values and they come from a normal distribution (like imputing the avg. weight for certain subjects with missing data), but can be a bad idea for example in cases like below. Another problem with mean imputation is that we will always impute the same mean value in place of each NA, so there will be not natural spread in the imputed data so it will artificially increases the mean and reduces variance.\n",
    "\n",
    "<div style=\"text-align:center;\">\n",
    "  <img src=\"images/clean_51.png\" width = \"600\" align=\"center\">\n",
    "</div>\n",
    "\n",
    "Model-based imputation methods provide better options than simple imputations. The `simputation` package can be used for this purpose.\n",
    "\n",
    "\n",
    "The `naniar` package contain some imputation methods:\n",
    "- `impute_below()` - imputes values below the range of the data. Used mostly to aid visualization\n",
    "    - `impute_below_if(data, is.numeric)` - only imputes variables that satisfy a condition, like is.numeric\n",
    "    - `impute_below_at(data, vars(var1, var2))` - imputes variables specified inside vars\n",
    "    - `impute_below_all(data)` - impute all variables\n",
    "- `impute_mean()` - imputes the mean value. It also has `_if`, `_at` and `_all` variants.\n",
    "- `impute_lm()` - impute values using a linear model. It is from the `simputation` package."
   ]
  },
  {
   "cell_type": "markdown",
   "id": "aa5acb07-a299-4d5f-8a7b-c012562099d3",
   "metadata": {},
   "source": [
    "<u>Using `impute_below()` and its variants</u>"
   ]
  },
  {
   "cell_type": "code",
   "execution_count": 7,
   "id": "6e93fa0e-1b26-44b1-b137-5cfd4275b393",
   "metadata": {},
   "outputs": [
    {
     "data": {
      "text/html": [
       "<style>\n",
       ".list-inline {list-style: none; margin:0; padding: 0}\n",
       ".list-inline>li {display: inline-block}\n",
       ".list-inline>li:not(:last-child)::after {content: \"\\00b7\"; padding: 0 .5ex}\n",
       "</style>\n",
       "<ol class=list-inline><li>5</li><li>6</li><li>7</li><li>4.4</li><li>9</li><li>10</li></ol>\n"
      ],
      "text/latex": [
       "\\begin{enumerate*}\n",
       "\\item 5\n",
       "\\item 6\n",
       "\\item 7\n",
       "\\item 4.4\n",
       "\\item 9\n",
       "\\item 10\n",
       "\\end{enumerate*}\n"
      ],
      "text/markdown": [
       "1. 5\n",
       "2. 6\n",
       "3. 7\n",
       "4. 4.4\n",
       "5. 9\n",
       "6. 10\n",
       "\n",
       "\n"
      ],
      "text/plain": [
       "[1]  5.0  6.0  7.0  4.4  9.0 10.0"
      ]
     },
     "metadata": {},
     "output_type": "display_data"
    }
   ],
   "source": [
    "naniar::impute_below(c(5, 6, 7, NA, 9, 10)) %>% round(1)"
   ]
  },
  {
   "cell_type": "markdown",
   "id": "a89ed2b8-b397-4d5b-8bb7-20bea6b0c502",
   "metadata": {},
   "source": [
    "☝️ for this vector it imputes the value `4.4` into the missing value, since this is lower than the lowest value of the data at hand, namely `5.0`. "
   ]
  },
  {
   "cell_type": "code",
   "execution_count": 18,
   "id": "5d3933a8-aa15-4ab0-8c70-5beb412db5ac",
   "metadata": {},
   "outputs": [
    {
     "data": {
      "text/html": [
       "<table class=\"dataframe\">\n",
       "<caption>A data.frame: 1 × 6</caption>\n",
       "<thead>\n",
       "\t<tr><th></th><th scope=col>Ozone</th><th scope=col>Solar.R</th><th scope=col>Wind</th><th scope=col>Temp</th><th scope=col>Month</th><th scope=col>Day</th></tr>\n",
       "\t<tr><th></th><th scope=col>&lt;int&gt;</th><th scope=col>&lt;int&gt;</th><th scope=col>&lt;dbl&gt;</th><th scope=col>&lt;int&gt;</th><th scope=col>&lt;int&gt;</th><th scope=col>&lt;int&gt;</th></tr>\n",
       "</thead>\n",
       "<tbody>\n",
       "\t<tr><th scope=row>5</th><td>NA</td><td>NA</td><td>14.3</td><td>56</td><td>5</td><td>5</td></tr>\n",
       "</tbody>\n",
       "</table>\n"
      ],
      "text/latex": [
       "A data.frame: 1 × 6\n",
       "\\begin{tabular}{r|llllll}\n",
       "  & Ozone & Solar.R & Wind & Temp & Month & Day\\\\\n",
       "  & <int> & <int> & <dbl> & <int> & <int> & <int>\\\\\n",
       "\\hline\n",
       "\t5 & NA & NA & 14.3 & 56 & 5 & 5\\\\\n",
       "\\end{tabular}\n"
      ],
      "text/markdown": [
       "\n",
       "A data.frame: 1 × 6\n",
       "\n",
       "| <!--/--> | Ozone &lt;int&gt; | Solar.R &lt;int&gt; | Wind &lt;dbl&gt; | Temp &lt;int&gt; | Month &lt;int&gt; | Day &lt;int&gt; |\n",
       "|---|---|---|---|---|---|---|\n",
       "| 5 | NA | NA | 14.3 | 56 | 5 | 5 |\n",
       "\n"
      ],
      "text/plain": [
       "  Ozone Solar.R Wind Temp Month Day\n",
       "5 NA    NA      14.3 56   5     5  "
      ]
     },
     "metadata": {},
     "output_type": "display_data"
    }
   ],
   "source": [
    "airquality[5,] # or alternatively: airquality %>% slice(5)"
   ]
  },
  {
   "cell_type": "code",
   "execution_count": 22,
   "id": "f77d1bc9-ff3b-4027-8a41-ab3ce4b02879",
   "metadata": {},
   "outputs": [
    {
     "data": {
      "text/html": [
       "<table class=\"dataframe\">\n",
       "<caption>A data.frame: 1 × 6</caption>\n",
       "<thead>\n",
       "\t<tr><th scope=col>Ozone</th><th scope=col>Solar.R</th><th scope=col>Wind</th><th scope=col>Temp</th><th scope=col>Month</th><th scope=col>Day</th></tr>\n",
       "\t<tr><th scope=col>&lt;dbl&gt;</th><th scope=col>&lt;dbl&gt;</th><th scope=col>&lt;dbl&gt;</th><th scope=col>&lt;int&gt;</th><th scope=col>&lt;int&gt;</th><th scope=col>&lt;int&gt;</th></tr>\n",
       "</thead>\n",
       "<tbody>\n",
       "\t<tr><td>-19.72321</td><td>-33.57778</td><td>14.3</td><td>56</td><td>5</td><td>5</td></tr>\n",
       "</tbody>\n",
       "</table>\n"
      ],
      "text/latex": [
       "A data.frame: 1 × 6\n",
       "\\begin{tabular}{llllll}\n",
       " Ozone & Solar.R & Wind & Temp & Month & Day\\\\\n",
       " <dbl> & <dbl> & <dbl> & <int> & <int> & <int>\\\\\n",
       "\\hline\n",
       "\t -19.72321 & -33.57778 & 14.3 & 56 & 5 & 5\\\\\n",
       "\\end{tabular}\n"
      ],
      "text/markdown": [
       "\n",
       "A data.frame: 1 × 6\n",
       "\n",
       "| Ozone &lt;dbl&gt; | Solar.R &lt;dbl&gt; | Wind &lt;dbl&gt; | Temp &lt;int&gt; | Month &lt;int&gt; | Day &lt;int&gt; |\n",
       "|---|---|---|---|---|---|\n",
       "| -19.72321 | -33.57778 | 14.3 | 56 | 5 | 5 |\n",
       "\n"
      ],
      "text/plain": [
       "  Ozone     Solar.R   Wind Temp Month Day\n",
       "1 -19.72321 -33.57778 14.3 56   5     5  "
      ]
     },
     "metadata": {},
     "output_type": "display_data"
    }
   ],
   "source": [
    "impute_below_if(airquality, is.numeric) %>% \n",
    "  slice(5)"
   ]
  },
  {
   "cell_type": "code",
   "execution_count": 26,
   "id": "f5ace4e6-4056-4868-94bc-40673f8ca869",
   "metadata": {},
   "outputs": [
    {
     "data": {
      "text/html": [
       "<table class=\"dataframe\">\n",
       "<caption>A data.frame: 1 × 6</caption>\n",
       "<thead>\n",
       "\t<tr><th scope=col>Ozone</th><th scope=col>Solar.R</th><th scope=col>Wind</th><th scope=col>Temp</th><th scope=col>Month</th><th scope=col>Day</th></tr>\n",
       "\t<tr><th scope=col>&lt;dbl&gt;</th><th scope=col>&lt;int&gt;</th><th scope=col>&lt;dbl&gt;</th><th scope=col>&lt;int&gt;</th><th scope=col>&lt;int&gt;</th><th scope=col>&lt;int&gt;</th></tr>\n",
       "</thead>\n",
       "<tbody>\n",
       "\t<tr><td>-19.72321</td><td>NA</td><td>14.3</td><td>56</td><td>5</td><td>5</td></tr>\n",
       "</tbody>\n",
       "</table>\n"
      ],
      "text/latex": [
       "A data.frame: 1 × 6\n",
       "\\begin{tabular}{llllll}\n",
       " Ozone & Solar.R & Wind & Temp & Month & Day\\\\\n",
       " <dbl> & <int> & <dbl> & <int> & <int> & <int>\\\\\n",
       "\\hline\n",
       "\t -19.72321 & NA & 14.3 & 56 & 5 & 5\\\\\n",
       "\\end{tabular}\n"
      ],
      "text/markdown": [
       "\n",
       "A data.frame: 1 × 6\n",
       "\n",
       "| Ozone &lt;dbl&gt; | Solar.R &lt;int&gt; | Wind &lt;dbl&gt; | Temp &lt;int&gt; | Month &lt;int&gt; | Day &lt;int&gt; |\n",
       "|---|---|---|---|---|---|\n",
       "| -19.72321 | NA | 14.3 | 56 | 5 | 5 |\n",
       "\n"
      ],
      "text/plain": [
       "  Ozone     Solar.R Wind Temp Month Day\n",
       "1 -19.72321 NA      14.3 56   5     5  "
      ]
     },
     "metadata": {},
     "output_type": "display_data"
    }
   ],
   "source": [
    "impute_below_at(airquality, vars(Ozone))  %>% \n",
    "  slice(5)"
   ]
  },
  {
   "cell_type": "markdown",
   "id": "37529f64-d21b-41f6-84c2-e2c6765084d1",
   "metadata": {},
   "source": [
    "We can use the below imputed values to create plots, similar to `geom_miss_point()` but not just for scatterplots:"
   ]
  },
  {
   "cell_type": "code",
   "execution_count": 31,
   "id": "e908e1a2-2886-45f3-bd11-0bba38131cfc",
   "metadata": {},
   "outputs": [
    {
     "name": "stderr",
     "output_type": "stream",
     "text": [
      "\u001b[1m\u001b[22m`stat_bin()` using `bins = 30`. Pick better value with `binwidth`.\n"
     ]
    },
    {
     "data": {
      "image/png": "[encoded data removed]",
      "text/plain": [
       "plot without title"
      ]
     },
     "metadata": {
      "image/png": {
       "height": 420,
       "width": 420
      }
     },
     "output_type": "display_data"
    }
   ],
   "source": [
    "airquality %>% \n",
    "  bind_shadow() %>% \n",
    "  impute_below_all() %>% \n",
    "  ggplot(aes(x = Ozone, fill = Ozone_NA)) +\n",
    "    geom_histogram()"
   ]
  },
  {
   "cell_type": "markdown",
   "id": "91de9266-80ac-442c-a2f4-25ef4c3a4620",
   "metadata": {},
   "source": [
    "☝️ Here we see that there are a few missing values - two bars around 20, so just under 40 missing values."
   ]
  },
  {
   "cell_type": "markdown",
   "id": "0e007a9f-8d13-4ad1-85b9-c393cee8e1e7",
   "metadata": {},
   "source": [
    "To visualize missings for two variables, we need to add a label that identifies whether there is a missing value in a column. The function `add_label_shadow()` does this for us. It creates a column called `any_missing` that has the value `Not Missing` or `Missing`."
   ]
  },
  {
   "cell_type": "code",
   "execution_count": 36,
   "id": "8d3c4c85-3f43-4c6d-b2c0-524a83596d44",
   "metadata": {},
   "outputs": [
    {
     "data": {
      "image/png": "[encoded data removed]",
      "text/plain": [
       "plot without title"
      ]
     },
     "metadata": {
      "image/png": {
       "height": 420,
       "width": 420
      }
     },
     "output_type": "display_data"
    }
   ],
   "source": [
    "airquality %>% \n",
    "  bind_shadow() %>% \n",
    "  add_label_shadow() %>% \n",
    "  impute_below_all() %>% \n",
    "  ggplot(aes(x = Ozone, y = Solar.R, color = any_missing)) +\n",
    "    geom_point()"
   ]
  },
  {
   "cell_type": "markdown",
   "id": "34be87a2-a0d9-4af8-8c52-8ab84cda523d",
   "metadata": {},
   "source": [
    "☝️  We have now recreated the same figure as `geom_miss_point()` above!"
   ]
  },
  {
   "cell_type": "markdown",
   "id": "6b8f58af-c14f-474e-8567-05e2d9dbb6c9",
   "metadata": {},
   "source": [
    "<u>Using `impute_mean()`</u>"
   ]
  },
  {
   "cell_type": "code",
   "execution_count": 41,
   "id": "6e4aad33-e335-4189-92b6-9b20a3623c89",
   "metadata": {},
   "outputs": [
    {
     "data": {
      "text/html": [
       "<style>\n",
       ".list-inline {list-style: none; margin:0; padding: 0}\n",
       ".list-inline>li {display: inline-block}\n",
       ".list-inline>li:not(:last-child)::after {content: \"\\00b7\"; padding: 0 .5ex}\n",
       "</style>\n",
       "<ol class=list-inline><li>62.1</li><li>61.2</li><li>60.2</li><li>60.8</li><li>61.6</li></ol>\n"
      ],
      "text/latex": [
       "\\begin{enumerate*}\n",
       "\\item 62.1\n",
       "\\item 61.2\n",
       "\\item 60.2\n",
       "\\item 60.8\n",
       "\\item 61.6\n",
       "\\end{enumerate*}\n"
      ],
      "text/markdown": [
       "1. 62.1\n",
       "2. 61.2\n",
       "3. 60.2\n",
       "4. 60.8\n",
       "5. 61.6\n",
       "\n",
       "\n"
      ],
      "text/plain": [
       "[1] 62.1 61.2 60.2 60.8 61.6"
      ]
     },
     "metadata": {},
     "output_type": "display_data"
    }
   ],
   "source": [
    "naniar::impute_mean(c(62.1, NA, 60.2, 60.8, 61.6)) %>% round(1)"
   ]
  },
  {
   "cell_type": "markdown",
   "id": "44c06f09-96e4-44be-890f-6ddbb0dd9159",
   "metadata": {},
   "source": [
    "☝️ In this case, the values are probably came from a normal distribution, so the mean imputation works fine."
   ]
  },
  {
   "cell_type": "code",
   "execution_count": 39,
   "id": "c084f9cf-ac09-4e76-b3cb-81df5dd7dd51",
   "metadata": {},
   "outputs": [
    {
     "data": {
      "text/html": [
       "<style>\n",
       ".list-inline {list-style: none; margin:0; padding: 0}\n",
       ".list-inline>li {display: inline-block}\n",
       ".list-inline>li:not(:last-child)::after {content: \"\\00b7\"; padding: 0 .5ex}\n",
       "</style>\n",
       "<ol class=list-inline><li>7.5</li><li>5</li><li>6</li><li>7</li><li>8</li><li>9</li><li>10</li></ol>\n"
      ],
      "text/latex": [
       "\\begin{enumerate*}\n",
       "\\item 7.5\n",
       "\\item 5\n",
       "\\item 6\n",
       "\\item 7\n",
       "\\item 8\n",
       "\\item 9\n",
       "\\item 10\n",
       "\\end{enumerate*}\n"
      ],
      "text/markdown": [
       "1. 7.5\n",
       "2. 5\n",
       "3. 6\n",
       "4. 7\n",
       "5. 8\n",
       "6. 9\n",
       "7. 10\n",
       "\n",
       "\n"
      ],
      "text/plain": [
       "[1]  7.5  5.0  6.0  7.0  8.0  9.0 10.0"
      ]
     },
     "metadata": {},
     "output_type": "display_data"
    }
   ],
   "source": [
    "naniar::impute_mean(c(NA, 5, 6, 7, 8, 9, 10)) %>% round(1)"
   ]
  },
  {
   "cell_type": "markdown",
   "id": "975528e4-b6d8-43b5-b1c5-913ae0853fc2",
   "metadata": {},
   "source": [
    "☝️ In this case, our vector contains a series of data and not normally distributed values. The missing value is probably `4`, which is less then the average of `7.5`. The mean imputation is not a good idea here."
   ]
  },
  {
   "cell_type": "markdown",
   "id": "649f9080-bf4b-4219-86c5-2bf4fcc5f3d1",
   "metadata": {},
   "source": [
    "The spread of imputations can be explored using a scatter plot:"
   ]
  },
  {
   "cell_type": "code",
   "execution_count": 44,
   "id": "fee5307d-098e-4a30-a542-2358f3857999",
   "metadata": {},
   "outputs": [
    {
     "data": {
      "image/png": "[encoded data removed]",
      "text/plain": [
       "plot without title"
      ]
     },
     "metadata": {
      "image/png": {
       "height": 420,
       "width": 420
      }
     },
     "output_type": "display_data"
    }
   ],
   "source": [
    "airquality %>% \n",
    "  bind_shadow() %>% \n",
    "  add_label_shadow() %>% \n",
    "  impute_mean_if(is.numeric) %>% \n",
    "  ggplot(aes(x = Ozone, y = Solar.R, color = any_missing)) +\n",
    "    geom_point()"
   ]
  },
  {
   "cell_type": "markdown",
   "id": "9ca27409-a1c8-4da4-ab26-9c05cd119589",
   "metadata": {},
   "source": [
    "☝️ This visualization shows that after mean imputation, there is no variation in the spread of the points, as the mean isn't changing! Although we do notice that the imputed values are within the same range of the data. This is probably not ideal but not terrible either."
   ]
  },
  {
   "cell_type": "markdown",
   "id": "51ccf232-5f01-4361-b044-0fa2d15ba48e",
   "metadata": {},
   "source": [
    "<u>Using `impute_lm()`</u>"
   ]
  },
  {
   "cell_type": "code",
   "execution_count": 52,
   "id": "a9662181-0773-46f7-847c-861d0fd8b2f0",
   "metadata": {},
   "outputs": [
    {
     "data": {
      "text/html": [
       "<table class=\"dataframe\">\n",
       "<caption>A data.frame: 1 × 6</caption>\n",
       "<thead>\n",
       "\t<tr><th scope=col>Ozone</th><th scope=col>Solar.R</th><th scope=col>Wind</th><th scope=col>Temp</th><th scope=col>Month</th><th scope=col>Day</th></tr>\n",
       "\t<tr><th scope=col>&lt;int&gt;</th><th scope=col>&lt;int&gt;</th><th scope=col>&lt;dbl&gt;</th><th scope=col>&lt;int&gt;</th><th scope=col>&lt;int&gt;</th><th scope=col>&lt;int&gt;</th></tr>\n",
       "</thead>\n",
       "<tbody>\n",
       "\t<tr><td>NA</td><td>NA</td><td>14.3</td><td>56</td><td>5</td><td>5</td></tr>\n",
       "</tbody>\n",
       "</table>\n"
      ],
      "text/latex": [
       "A data.frame: 1 × 6\n",
       "\\begin{tabular}{llllll}\n",
       " Ozone & Solar.R & Wind & Temp & Month & Day\\\\\n",
       " <int> & <int> & <dbl> & <int> & <int> & <int>\\\\\n",
       "\\hline\n",
       "\t NA & NA & 14.3 & 56 & 5 & 5\\\\\n",
       "\\end{tabular}\n"
      ],
      "text/markdown": [
       "\n",
       "A data.frame: 1 × 6\n",
       "\n",
       "| Ozone &lt;int&gt; | Solar.R &lt;int&gt; | Wind &lt;dbl&gt; | Temp &lt;int&gt; | Month &lt;int&gt; | Day &lt;int&gt; |\n",
       "|---|---|---|---|---|---|\n",
       "| NA | NA | 14.3 | 56 | 5 | 5 |\n",
       "\n"
      ],
      "text/plain": [
       "  Ozone Solar.R Wind Temp Month Day\n",
       "1 NA    NA      14.3 56   5     5  "
      ]
     },
     "metadata": {},
     "output_type": "display_data"
    }
   ],
   "source": [
    " airquality %>%  slice(5)"
   ]
  },
  {
   "cell_type": "code",
   "execution_count": 70,
   "id": "3bd1090a-f583-41d8-8b00-0b1099726117",
   "metadata": {},
   "outputs": [
    {
     "data": {
      "text/html": [
       "<table class=\"dataframe\">\n",
       "<caption>A data.frame: 2 × 8</caption>\n",
       "<thead>\n",
       "\t<tr><th scope=col>Ozone</th><th scope=col>Solar.R</th><th scope=col>Wind</th><th scope=col>Temp</th><th scope=col>Month</th><th scope=col>Day</th><th scope=col>Ozone_NA</th><th scope=col>Solar_NA</th></tr>\n",
       "\t<tr><th scope=col>&lt;dbl&gt;</th><th scope=col>&lt;dbl&gt;</th><th scope=col>&lt;dbl&gt;</th><th scope=col>&lt;int&gt;</th><th scope=col>&lt;int&gt;</th><th scope=col>&lt;int&gt;</th><th scope=col>&lt;chr&gt;</th><th scope=col>&lt;chr&gt;</th></tr>\n",
       "</thead>\n",
       "<tbody>\n",
       "\t<tr><td>18.000000</td><td>313.0000</td><td>11.5</td><td>62</td><td>5</td><td>4</td><td>!NA</td><td>!NA</td></tr>\n",
       "\t<tr><td>-9.039337</td><td>137.6006</td><td>14.3</td><td>56</td><td>5</td><td>5</td><td>NA </td><td>NA </td></tr>\n",
       "</tbody>\n",
       "</table>\n"
      ],
      "text/latex": [
       "A data.frame: 2 × 8\n",
       "\\begin{tabular}{llllllll}\n",
       " Ozone & Solar.R & Wind & Temp & Month & Day & Ozone\\_NA & Solar\\_NA\\\\\n",
       " <dbl> & <dbl> & <dbl> & <int> & <int> & <int> & <chr> & <chr>\\\\\n",
       "\\hline\n",
       "\t 18.000000 & 313.0000 & 11.5 & 62 & 5 & 4 & !NA & !NA\\\\\n",
       "\t -9.039337 & 137.6006 & 14.3 & 56 & 5 & 5 & NA  & NA \\\\\n",
       "\\end{tabular}\n"
      ],
      "text/markdown": [
       "\n",
       "A data.frame: 2 × 8\n",
       "\n",
       "| Ozone &lt;dbl&gt; | Solar.R &lt;dbl&gt; | Wind &lt;dbl&gt; | Temp &lt;int&gt; | Month &lt;int&gt; | Day &lt;int&gt; | Ozone_NA &lt;chr&gt; | Solar_NA &lt;chr&gt; |\n",
       "|---|---|---|---|---|---|---|---|\n",
       "| 18.000000 | 313.0000 | 11.5 | 62 | 5 | 4 | !NA | !NA |\n",
       "| -9.039337 | 137.6006 | 14.3 | 56 | 5 | 5 | NA  | NA  |\n",
       "\n"
      ],
      "text/plain": [
       "  Ozone     Solar.R  Wind Temp Month Day Ozone_NA Solar_NA\n",
       "1 18.000000 313.0000 11.5 62   5     4   !NA      !NA     \n",
       "2 -9.039337 137.6006 14.3 56   5     5   NA       NA      "
      ]
     },
     "metadata": {},
     "output_type": "display_data"
    }
   ],
   "source": [
    "airna <- airquality %>% \n",
    "  mutate(Ozone_NA = ifelse(is.na(Ozone), \"NA\", \"!NA\"),\n",
    "        Solar_NA = ifelse(is.na(Solar.R), \"NA\", \"!NA\"))\n",
    "\n",
    "airna %>% \n",
    "  simputation::impute_lm(Ozone ~ Wind + Temp + Month) %>% \n",
    "  simputation::impute_lm(Solar.R ~ Wind + Temp + Month) %>% \n",
    "  slice(c(4,5))"
   ]
  },
  {
   "cell_type": "markdown",
   "id": "224b0512-5aba-4e40-87ef-c87967954400",
   "metadata": {},
   "source": [
    "Now let's compare results from two different linear models:"
   ]
  },
  {
   "cell_type": "code",
   "execution_count": 76,
   "id": "fa17f831-1bc2-4836-862c-e464f008052c",
   "metadata": {},
   "outputs": [
    {
     "data": {
      "text/html": [
       "<table class=\"dataframe\">\n",
       "<caption>A grouped_df: 2 × 9</caption>\n",
       "<thead>\n",
       "\t<tr><th scope=col>imp_model</th><th scope=col>Ozone</th><th scope=col>Solar.R</th><th scope=col>Wind</th><th scope=col>Temp</th><th scope=col>Month</th><th scope=col>Day</th><th scope=col>Ozone_NA</th><th scope=col>Solar_NA</th></tr>\n",
       "\t<tr><th scope=col>&lt;chr&gt;</th><th scope=col>&lt;dbl&gt;</th><th scope=col>&lt;dbl&gt;</th><th scope=col>&lt;dbl&gt;</th><th scope=col>&lt;int&gt;</th><th scope=col>&lt;int&gt;</th><th scope=col>&lt;int&gt;</th><th scope=col>&lt;chr&gt;</th><th scope=col>&lt;chr&gt;</th></tr>\n",
       "</thead>\n",
       "<tbody>\n",
       "\t<tr><td>large</td><td>-12.461546</td><td>152.0729</td><td>14.3</td><td>56</td><td>5</td><td>5</td><td>NA</td><td>NA</td></tr>\n",
       "\t<tr><td>small</td><td> -9.039337</td><td>137.6006</td><td>14.3</td><td>56</td><td>5</td><td>5</td><td>NA</td><td>NA</td></tr>\n",
       "</tbody>\n",
       "</table>\n"
      ],
      "text/latex": [
       "A grouped\\_df: 2 × 9\n",
       "\\begin{tabular}{lllllllll}\n",
       " imp\\_model & Ozone & Solar.R & Wind & Temp & Month & Day & Ozone\\_NA & Solar\\_NA\\\\\n",
       " <chr> & <dbl> & <dbl> & <dbl> & <int> & <int> & <int> & <chr> & <chr>\\\\\n",
       "\\hline\n",
       "\t large & -12.461546 & 152.0729 & 14.3 & 56 & 5 & 5 & NA & NA\\\\\n",
       "\t small &  -9.039337 & 137.6006 & 14.3 & 56 & 5 & 5 & NA & NA\\\\\n",
       "\\end{tabular}\n"
      ],
      "text/markdown": [
       "\n",
       "A grouped_df: 2 × 9\n",
       "\n",
       "| imp_model &lt;chr&gt; | Ozone &lt;dbl&gt; | Solar.R &lt;dbl&gt; | Wind &lt;dbl&gt; | Temp &lt;int&gt; | Month &lt;int&gt; | Day &lt;int&gt; | Ozone_NA &lt;chr&gt; | Solar_NA &lt;chr&gt; |\n",
       "|---|---|---|---|---|---|---|---|---|\n",
       "| large | -12.461546 | 152.0729 | 14.3 | 56 | 5 | 5 | NA | NA |\n",
       "| small |  -9.039337 | 137.6006 | 14.3 | 56 | 5 | 5 | NA | NA |\n",
       "\n"
      ],
      "text/plain": [
       "  imp_model Ozone      Solar.R  Wind Temp Month Day Ozone_NA Solar_NA\n",
       "1 large     -12.461546 152.0729 14.3 56   5     5   NA       NA      \n",
       "2 small      -9.039337 137.6006 14.3 56   5     5   NA       NA      "
      ]
     },
     "metadata": {},
     "output_type": "display_data"
    }
   ],
   "source": [
    "mod1 <- airna %>% \n",
    "  simputation::impute_lm(Ozone ~ Wind + Temp + Month) %>% \n",
    "  simputation::impute_lm(Solar.R ~ Wind + Temp + Month) \n",
    "\n",
    "mod2 <- airna %>% \n",
    "  simputation::impute_lm(Ozone ~ Wind + Temp + Month + Day) %>% \n",
    "  simputation::impute_lm(Solar.R ~ Wind + Temp + Month + Day)\n",
    "\n",
    "bound_models <- bind_rows(small = mod1, large = mod2, .id = \"imp_model\")\n",
    "\n",
    "bound_models %>%  \n",
    "  group_by(imp_model) %>%  \n",
    "  slice(5)"
   ]
  },
  {
   "cell_type": "markdown",
   "id": "823a6e66-c193-47ce-a814-7fc763ad87e3",
   "metadata": {},
   "source": [
    "☝️ Check how much of a difference it made to add `Day` as an explanatory variable. Here it is not too bad, but good model specification is key for imputation!"
   ]
  },
  {
   "cell_type": "code",
   "execution_count": 78,
   "id": "461ff077-7bf2-4b63-94c4-08e57cc85638",
   "metadata": {},
   "outputs": [
    {
     "name": "stderr",
     "output_type": "stream",
     "text": [
      "\u001b[1m\u001b[22mNew names:\n",
      "\u001b[36m*\u001b[39m `Ozone_NA` -> `Ozone_NA...8`\n",
      "\u001b[36m*\u001b[39m `Ozone_NA` -> `Ozone_NA...11`\n"
     ]
    },
    {
     "data": {
      "image/png": "[encoded data removed]",
      "text/plain": [
       "plot without title"
      ]
     },
     "metadata": {
      "image/png": {
       "height": 420,
       "width": 420
      }
     },
     "output_type": "display_data"
    }
   ],
   "source": [
    "bound_models %>% \n",
    "  bind_shadow() %>% \n",
    "  add_label_shadow() %>% \n",
    "  ggplot(aes(Ozone, Solar.R, color = any_missing)) +\n",
    "  geom_point() +\n",
    "  facet_wrap(.~ imp_model)"
   ]
  },
  {
   "cell_type": "markdown",
   "id": "03b5e74e-d706-4aa8-a201-f8e8b583d4b7",
   "metadata": {},
   "source": [
    "☝️ Visual inspection of imputation differences. No significant difference can be detected here. The imputation was much more successful than with the mean imputation before!"
   ]
  },
  {
   "cell_type": "markdown",
   "id": "5970292a-f9d5-4512-8136-8b39d6ff52a1",
   "metadata": {},
   "source": [
    "Next, to explore the imputations across these different models and variables, we can use `gather` on the selected variables and plot the data as a boxplot faceting the different values for each variable:"
   ]
  },
  {
   "cell_type": "code",
   "execution_count": 82,
   "id": "cd51452a-d6d2-47fc-8f81-17be07c8d7e6",
   "metadata": {},
   "outputs": [
    {
     "name": "stderr",
     "output_type": "stream",
     "text": [
      "\u001b[1m\u001b[22mNew names:\n",
      "\u001b[36m*\u001b[39m `Ozone_NA` -> `Ozone_NA...8`\n",
      "\u001b[36m*\u001b[39m `Ozone_NA` -> `Ozone_NA...11`\n"
     ]
    },
    {
     "data": {
      "text/html": [
       "<table class=\"dataframe\">\n",
       "<caption>A tibble: 6 × 4</caption>\n",
       "<thead>\n",
       "\t<tr><th scope=col>any_missing</th><th scope=col>imp_model</th><th scope=col>variable</th><th scope=col>value</th></tr>\n",
       "\t<tr><th scope=col>&lt;chr&gt;</th><th scope=col>&lt;chr&gt;</th><th scope=col>&lt;chr&gt;</th><th scope=col>&lt;dbl&gt;</th></tr>\n",
       "</thead>\n",
       "<tbody>\n",
       "\t<tr><td>Not Missing</td><td>small</td><td>Ozone</td><td>41.000000</td></tr>\n",
       "\t<tr><td>Not Missing</td><td>small</td><td>Ozone</td><td>36.000000</td></tr>\n",
       "\t<tr><td>Not Missing</td><td>small</td><td>Ozone</td><td>12.000000</td></tr>\n",
       "\t<tr><td>Not Missing</td><td>small</td><td>Ozone</td><td>18.000000</td></tr>\n",
       "\t<tr><td>Missing    </td><td>small</td><td>Ozone</td><td>-9.039337</td></tr>\n",
       "\t<tr><td>Missing    </td><td>small</td><td>Ozone</td><td>28.000000</td></tr>\n",
       "</tbody>\n",
       "</table>\n"
      ],
      "text/latex": [
       "A tibble: 6 × 4\n",
       "\\begin{tabular}{llll}\n",
       " any\\_missing & imp\\_model & variable & value\\\\\n",
       " <chr> & <chr> & <chr> & <dbl>\\\\\n",
       "\\hline\n",
       "\t Not Missing & small & Ozone & 41.000000\\\\\n",
       "\t Not Missing & small & Ozone & 36.000000\\\\\n",
       "\t Not Missing & small & Ozone & 12.000000\\\\\n",
       "\t Not Missing & small & Ozone & 18.000000\\\\\n",
       "\t Missing     & small & Ozone & -9.039337\\\\\n",
       "\t Missing     & small & Ozone & 28.000000\\\\\n",
       "\\end{tabular}\n"
      ],
      "text/markdown": [
       "\n",
       "A tibble: 6 × 4\n",
       "\n",
       "| any_missing &lt;chr&gt; | imp_model &lt;chr&gt; | variable &lt;chr&gt; | value &lt;dbl&gt; |\n",
       "|---|---|---|---|\n",
       "| Not Missing | small | Ozone | 41.000000 |\n",
       "| Not Missing | small | Ozone | 36.000000 |\n",
       "| Not Missing | small | Ozone | 12.000000 |\n",
       "| Not Missing | small | Ozone | 18.000000 |\n",
       "| Missing     | small | Ozone | -9.039337 |\n",
       "| Missing     | small | Ozone | 28.000000 |\n",
       "\n"
      ],
      "text/plain": [
       "  any_missing imp_model variable value    \n",
       "1 Not Missing small     Ozone    41.000000\n",
       "2 Not Missing small     Ozone    36.000000\n",
       "3 Not Missing small     Ozone    12.000000\n",
       "4 Not Missing small     Ozone    18.000000\n",
       "5 Missing     small     Ozone    -9.039337\n",
       "6 Missing     small     Ozone    28.000000"
      ]
     },
     "metadata": {},
     "output_type": "display_data"
    }
   ],
   "source": [
    "bound_models_gather <- bound_models %>% \n",
    "  bind_shadow() %>% \n",
    "  add_label_shadow() %>% \n",
    "  select(Ozone, Solar.R, any_missing, imp_model) %>% \n",
    "  gather(key = \"variable\", value = \"value\", -any_missing, -imp_model)\n",
    "\n",
    "head(bound_models_gather)"
   ]
  },
  {
   "cell_type": "code",
   "execution_count": 85,
   "id": "91c8c555-62ef-4ed4-bf22-32acd612d369",
   "metadata": {},
   "outputs": [
    {
     "data": {
      "image/png": "[encoded data removed]",
      "text/plain": [
       "plot without title"
      ]
     },
     "metadata": {
      "image/png": {
       "height": 420,
       "width": 420
      }
     },
     "output_type": "display_data"
    }
   ],
   "source": [
    "bound_models_gather %>%\n",
    "  ggplot(aes(x = imp_model, y = value)) +\n",
    "  geom_boxplot() +\n",
    "  facet_wrap(.~ variable)"
   ]
  },
  {
   "cell_type": "code",
   "execution_count": 86,
   "id": "cd62d78a-46c9-4f02-8c3d-b89007147989",
   "metadata": {},
   "outputs": [
    {
     "data": {
      "image/png": "[encoded data removed]",
      "text/plain": [
       "plot without title"
      ]
     },
     "metadata": {
      "image/png": {
       "height": 420,
       "width": 420
      }
     },
     "output_type": "display_data"
    }
   ],
   "source": [
    "bound_models_gather %>% \n",
    "filter(any_missing == \"Missing\") %>% \n",
    "ggplot(aes(x = imp_model, y = value)) +\n",
    "  geom_boxplot() +\n",
    "  facet_wrap(.~ variable)"
   ]
  },
  {
   "cell_type": "markdown",
   "id": "adcd98a2-52d8-4142-92bd-f1a38b06ac47",
   "metadata": {},
   "source": [
    " ☝️ Again, there isn't much difference between the models (not for the whole variable and not for the missing data either), so `Day` is probably not an important explanatory variable."
   ]
  },
  {
   "cell_type": "markdown",
   "id": "c7429939-192d-488b-a5f9-ddcd9f4771b9",
   "metadata": {},
   "source": [
    "<u>Evaluating imputations and models</u>\n",
    "\n",
    "Our goal will be to assess model inference across differently imputed datasets. Let's compare the model with complete cases (i.e. NAs are simply dropped) and the model with linear imputation. \n",
    "\n",
    "To evaluate the different imputation methods, we need to put them into a single dataframe. Here, we will use our two models to build  linear models with `Temp` as the dependent variable, and we will compare the goodness of these models to see how imputation affected the information in the data."
   ]
  },
  {
   "cell_type": "markdown",
   "id": "0c070497-e91d-4c16-ab69-aea05496e0ac",
   "metadata": {},
   "source": [
    "First, let's prepare a nested object containing both the complete cases and imputed datasets:"
   ]
  },
  {
   "cell_type": "code",
   "execution_count": 98,
   "id": "2203836b-977a-4753-b83a-5a1534b2f522",
   "metadata": {},
   "outputs": [],
   "source": [
    "# Complete cases\n",
    "aq_cc <- airquality %>%\n",
    "  na.omit()  %>% \n",
    "  mutate(Ozone_NA = ifelse(is.na(Ozone), \"NA\", \"!NA\"),\n",
    "        Solar_NA = ifelse(is.na(Solar.R), \"NA\", \"!NA\"))\n",
    "\n",
    "# Imputation using the imputed data earlier\n",
    "mod2 <- airna %>% \n",
    "  simputation::impute_lm(Ozone ~ Wind + Temp + Month + Day) %>% \n",
    "  simputation::impute_lm(Solar.R ~ Wind + Temp + Month + Day)\n",
    "\n",
    "# Bind models together\n",
    "\n",
    "bound_models2 <- bind_rows(cc = aq_cc,\n",
    "                          imp_lm = mod2,\n",
    "                          .id = \"imp_model\")"
   ]
  },
  {
   "cell_type": "markdown",
   "id": "bd66fd5e-496d-4c67-8fee-d4a47478c947",
   "metadata": {},
   "source": [
    "Now that we've got our data in the right format, we fit a linear model to each of the datasets. We use the **\"many models\"** approach, which is covered in more detail in the R for data science book by Hadley Wickham and Garrett Grolemund:"
   ]
  },
  {
   "cell_type": "code",
   "execution_count": 114,
   "id": "395e2111-b488-47f3-836a-50117650daff",
   "metadata": {},
   "outputs": [
    {
     "name": "stdout",
     "output_type": "stream",
     "text": [
      "\u001b[90m# A tibble: 2 x 6\u001b[39m\n",
      "\u001b[90m# Groups:   imp_model [2]\u001b[39m\n",
      "  imp_model data               mod    res         pred        tidy            \n",
      "  \u001b[3m\u001b[90m<chr>\u001b[39m\u001b[23m     \u001b[3m\u001b[90m<list>\u001b[39m\u001b[23m             \u001b[3m\u001b[90m<list>\u001b[39m\u001b[23m \u001b[3m\u001b[90m<list>\u001b[39m\u001b[23m      \u001b[3m\u001b[90m<list>\u001b[39m\u001b[23m      \u001b[3m\u001b[90m<list>\u001b[39m\u001b[23m          \n",
      "\u001b[90m1\u001b[39m cc        \u001b[90m<tibble [111 x 8]>\u001b[39m \u001b[90m<lm>\u001b[39m   \u001b[90m<dbl [111]>\u001b[39m \u001b[90m<dbl [111]>\u001b[39m \u001b[90m<tibble [3 x 5]>\u001b[39m\n",
      "\u001b[90m2\u001b[39m imp_lm    \u001b[90m<tibble [153 x 8]>\u001b[39m \u001b[90m<lm>\u001b[39m   \u001b[90m<dbl [153]>\u001b[39m \u001b[90m<dbl [153]>\u001b[39m \u001b[90m<tibble [3 x 5]>\u001b[39m\n"
     ]
    }
   ],
   "source": [
    "model_summary <- bound_models2 %>%\n",
    "  group_by(imp_model) %>%\n",
    "  nest() %>% #  collapse the data down so each row is one of our datasets\n",
    "  mutate(mod = map(data, ~ lm(Temp ~ Ozone + Solar.R, data = .)), # create linear models on each row of the data\n",
    "         res = map(mod, residuals), # map tells the function we are applying to look at the data\n",
    "         pred = map(mod, predict), # create separate columns for predictions\n",
    "         tidy = map(mod, broom::tidy)) # create separate columns for coefficients\n",
    "\n",
    "print(model_summary)"
   ]
  },
  {
   "cell_type": "markdown",
   "id": "41173e2d-9bb8-411a-a353-f5dbdca3cf95",
   "metadata": {},
   "source": [
    "Now, we explore the model coefficients (tidy column) and unnesting:"
   ]
  },
  {
   "cell_type": "code",
   "execution_count": 115,
   "id": "778b8228-70a7-42ae-b461-fcad81343c99",
   "metadata": {},
   "outputs": [
    {
     "name": "stderr",
     "output_type": "stream",
     "text": [
      "Warning message:\n",
      "\"`cols` is now required when using unnest().\n",
      "Please use `cols = c(tidy)`\"\n"
     ]
    },
    {
     "data": {
      "text/html": [
       "<table class=\"dataframe\">\n",
       "<caption>A grouped_df: 6 × 6</caption>\n",
       "<thead>\n",
       "\t<tr><th scope=col>imp_model</th><th scope=col>term</th><th scope=col>estimate</th><th scope=col>std.error</th><th scope=col>statistic</th><th scope=col>p.value</th></tr>\n",
       "\t<tr><th scope=col>&lt;chr&gt;</th><th scope=col>&lt;chr&gt;</th><th scope=col>&lt;dbl&gt;</th><th scope=col>&lt;dbl&gt;</th><th scope=col>&lt;dbl&gt;</th><th scope=col>&lt;dbl&gt;</th></tr>\n",
       "</thead>\n",
       "<tbody>\n",
       "\t<tr><td>cc    </td><td>(Intercept)</td><td>68.497102713</td><td>1.528466875</td><td>44.8142540</td><td>1.314937e-71</td></tr>\n",
       "\t<tr><td>cc    </td><td>Ozone      </td><td> 0.194293763</td><td>0.020977024</td><td> 9.2622177</td><td>2.215559e-15</td></tr>\n",
       "\t<tr><td>cc    </td><td>Solar.R    </td><td> 0.006039431</td><td>0.007657852</td><td> 0.7886587</td><td>4.320393e-01</td></tr>\n",
       "\t<tr><td>imp_lm</td><td>(Intercept)</td><td>67.246708873</td><td>1.304911494</td><td>51.5335402</td><td>2.683030e-97</td></tr>\n",
       "\t<tr><td>imp_lm</td><td>Ozone      </td><td> 0.215068296</td><td>0.017977583</td><td>11.9631377</td><td>1.395425e-23</td></tr>\n",
       "\t<tr><td>imp_lm</td><td>Solar.R    </td><td> 0.007867008</td><td>0.006296806</td><td> 1.2493648</td><td>2.134777e-01</td></tr>\n",
       "</tbody>\n",
       "</table>\n"
      ],
      "text/latex": [
       "A grouped\\_df: 6 × 6\n",
       "\\begin{tabular}{llllll}\n",
       " imp\\_model & term & estimate & std.error & statistic & p.value\\\\\n",
       " <chr> & <chr> & <dbl> & <dbl> & <dbl> & <dbl>\\\\\n",
       "\\hline\n",
       "\t cc     & (Intercept) & 68.497102713 & 1.528466875 & 44.8142540 & 1.314937e-71\\\\\n",
       "\t cc     & Ozone       &  0.194293763 & 0.020977024 &  9.2622177 & 2.215559e-15\\\\\n",
       "\t cc     & Solar.R     &  0.006039431 & 0.007657852 &  0.7886587 & 4.320393e-01\\\\\n",
       "\t imp\\_lm & (Intercept) & 67.246708873 & 1.304911494 & 51.5335402 & 2.683030e-97\\\\\n",
       "\t imp\\_lm & Ozone       &  0.215068296 & 0.017977583 & 11.9631377 & 1.395425e-23\\\\\n",
       "\t imp\\_lm & Solar.R     &  0.007867008 & 0.006296806 &  1.2493648 & 2.134777e-01\\\\\n",
       "\\end{tabular}\n"
      ],
      "text/markdown": [
       "\n",
       "A grouped_df: 6 × 6\n",
       "\n",
       "| imp_model &lt;chr&gt; | term &lt;chr&gt; | estimate &lt;dbl&gt; | std.error &lt;dbl&gt; | statistic &lt;dbl&gt; | p.value &lt;dbl&gt; |\n",
       "|---|---|---|---|---|---|\n",
       "| cc     | (Intercept) | 68.497102713 | 1.528466875 | 44.8142540 | 1.314937e-71 |\n",
       "| cc     | Ozone       |  0.194293763 | 0.020977024 |  9.2622177 | 2.215559e-15 |\n",
       "| cc     | Solar.R     |  0.006039431 | 0.007657852 |  0.7886587 | 4.320393e-01 |\n",
       "| imp_lm | (Intercept) | 67.246708873 | 1.304911494 | 51.5335402 | 2.683030e-97 |\n",
       "| imp_lm | Ozone       |  0.215068296 | 0.017977583 | 11.9631377 | 1.395425e-23 |\n",
       "| imp_lm | Solar.R     |  0.007867008 | 0.006296806 |  1.2493648 | 2.134777e-01 |\n",
       "\n"
      ],
      "text/plain": [
       "  imp_model term        estimate     std.error   statistic  p.value     \n",
       "1 cc        (Intercept) 68.497102713 1.528466875 44.8142540 1.314937e-71\n",
       "2 cc        Ozone        0.194293763 0.020977024  9.2622177 2.215559e-15\n",
       "3 cc        Solar.R      0.006039431 0.007657852  0.7886587 4.320393e-01\n",
       "4 imp_lm    (Intercept) 67.246708873 1.304911494 51.5335402 2.683030e-97\n",
       "5 imp_lm    Ozone        0.215068296 0.017977583 11.9631377 1.395425e-23\n",
       "6 imp_lm    Solar.R      0.007867008 0.006296806  1.2493648 2.134777e-01"
      ]
     },
     "metadata": {},
     "output_type": "display_data"
    }
   ],
   "source": [
    "model_summary %>%\n",
    "  select(imp_model, tidy) %>%\n",
    "  unnest()"
   ]
  },
  {
   "cell_type": "markdown",
   "id": "fcaf06de-2692-4096-9b68-4407c362175f",
   "metadata": {},
   "source": [
    "☝️ Here we see that the estimates of the impact of `Ozone` on temperature are slightly higher for the imputed dataset - note that the significance of the effect does not change."
   ]
  },
  {
   "cell_type": "markdown",
   "id": "59964fc2-60b1-4198-8dd4-4300d4e16006",
   "metadata": {},
   "source": [
    "Let's explore the residuals as well, by selecting the `res` column, and then unnesting the data:"
   ]
  },
  {
   "cell_type": "code",
   "execution_count": 117,
   "id": "230555ce-62db-4250-8f0b-b4d5589959db",
   "metadata": {},
   "outputs": [
    {
     "name": "stderr",
     "output_type": "stream",
     "text": [
      "Warning message:\n",
      "\"`cols` is now required when using unnest().\n",
      "Please use `cols = c(res)`\"\n",
      "\u001b[1m\u001b[22m`stat_bin()` using `bins = 30`. Pick better value with `binwidth`.\n"
     ]
    },
    {
     "data": {
      "image/png": "[encoded data removed]",
      "text/plain": [
       "plot without title"
      ]
     },
     "metadata": {
      "image/png": {
       "height": 420,
       "width": 420
      }
     },
     "output_type": "display_data"
    }
   ],
   "source": [
    "model_summary %>%\n",
    "  select(imp_model, res) %>%\n",
    "  unnest()  %>%\n",
    "  ggplot(aes(x = res, fill = imp_model)) +\n",
    "  geom_histogram(position = \"dodge\")"
   ]
  },
  {
   "cell_type": "markdown",
   "id": "814890a1-b57c-48bb-9f8e-265dc29dc564",
   "metadata": {},
   "source": [
    "☝️ Surprisingly, there isn't much difference between the two models."
   ]
  },
  {
   "cell_type": "markdown",
   "id": "2cea914d-1146-4f08-968f-a5df4b4b4789",
   "metadata": {},
   "source": [
    "Finally, we can explore the predictions in the data, using a similar pattern:"
   ]
  },
  {
   "cell_type": "code",
   "execution_count": 119,
   "id": "f20227d9-09ea-45ca-8bce-490b9718a00f",
   "metadata": {},
   "outputs": [
    {
     "name": "stderr",
     "output_type": "stream",
     "text": [
      "Warning message:\n",
      "\"`cols` is now required when using unnest().\n",
      "Please use `cols = c(pred)`\"\n",
      "\u001b[1m\u001b[22m`stat_bin()` using `bins = 30`. Pick better value with `binwidth`.\n"
     ]
    },
    {
     "data": {
      "image/png": "[encoded data removed]",
      "text/plain": [
       "plot without title"
      ]
     },
     "metadata": {
      "image/png": {
       "height": 420,
       "width": 420
      }
     },
     "output_type": "display_data"
    }
   ],
   "source": [
    "model_summary %>%\n",
    "  select(imp_model, pred) %>%\n",
    "  unnest()  %>%\n",
    "  ggplot(aes(x = pred, fill = imp_model)) +\n",
    "  geom_histogram(position = \"dodge\")"
   ]
  },
  {
   "cell_type": "markdown",
   "id": "8bfcf26e-3d17-4bb3-8515-f61d0fe51b46",
   "metadata": {},
   "source": [
    "☝️ Similar to what we saw with the residuals, the predictions are quite similar to complete case, but with some more extreme values."
   ]
  },
  {
   "cell_type": "markdown",
   "id": "6c5ea301-41a9-48b6-9a2e-820f1167b734",
   "metadata": {},
   "source": [
    "<a name=\"toc_00232_5\"></a>\n",
    "## 5.   Record Linkage\n",
    "\n",
    "Record linkage is a powerful technique used to merge multiple datasets together, used when values have typos or different spellings."
   ]
  },
  {
   "cell_type": "markdown",
   "id": "0b4f7979-c513-4af2-8920-356ce40782a4",
   "metadata": {},
   "source": [
    "<a name=\"toc_00232_5.1\"></a>\n",
    "**5.1 Comparing strings using edit distance**\n",
    "\n",
    "**Edit distance** is a way of measuring how different two strings are from each other, based on the four basic kinds of typos, which are:\n",
    "- inserting a character\n",
    "- deleting a character\n",
    "- substituting one character for another\n",
    "- transposing, or swapping the position of characters\n",
    "\n",
    "<div style=\"text-align:center;\">\n",
    "  <img src=\"images/clean_22.png\" width = \"200\" align=\"center\">\n",
    "</div>\n",
    "\n",
    "**Minimum edit distance** is the fewest number of typos you'd need to convert one string to another. For example, to turn \"dog\" into \"dogs\", we insert an \"s\".\n",
    "\n",
    "<div style=\"text-align:center;\">\n",
    "  <img src=\"images/clean_23.png\" width = \"200\" align=\"center\">\n",
    "</div>\n",
    "\n",
    "For a more complex example, to turn \"baboon\" to \"typhoon\", the total edit distance is 4, as it takes 4 steps to make the conversion:\n",
    "\n",
    "<div style=\"text-align:center;\">\n",
    "  <img src=\"images/clean_24.png\" width = \"150\" align=\"center\">\n",
    "</div>\n",
    "\n",
    "There are multiple types of edit distance that each calculate distance between strings a little differently. \n",
    "- **The Damerau-Levenshtein** distance is what is show above. \n",
    "- **The Levenshtein distance** does not count transposition as a single action - instead, it counts as 2: a deletion and an insertion. \n",
    "- **The Longest Common Subsequence**, or **LCS**, distance considers only insertion and deletion as actions. \n",
    "- **Jaccard distance** - The output is on a scale of `0` to `1`, where numbers closer to `0` indicate that the strings are more similar.\n",
    "- **Jaro-Winkler** - more complex method\n",
    "\n",
    "Each method has a relative advantage in different circumstances."
   ]
  },
  {
   "cell_type": "markdown",
   "id": "5d1f653a-b59b-4f91-842f-1c5e215608ec",
   "metadata": {},
   "source": [
    "To calculate edit distances in R, we can use `stringdist()` from the `stringdist` package, passing it the two strings to compare and the method you want to use. In this case, we're using `\"dl\"`, which stands for Damerau-Levenshtein."
   ]
  },
  {
   "cell_type": "code",
   "execution_count": 135,
   "id": "6325f574-aa6a-4b0f-bd65-dfe70354b569",
   "metadata": {},
   "outputs": [
    {
     "data": {
      "text/html": [
       "4"
      ],
      "text/latex": [
       "4"
      ],
      "text/markdown": [
       "4"
      ],
      "text/plain": [
       "[1] 4"
      ]
     },
     "metadata": {},
     "output_type": "display_data"
    },
    {
     "data": {
      "text/html": [
       "2"
      ],
      "text/latex": [
       "2"
      ],
      "text/markdown": [
       "2"
      ],
      "text/plain": [
       "[1] 2"
      ]
     },
     "metadata": {},
     "output_type": "display_data"
    }
   ],
   "source": [
    "stringdist::stringdist(\"baboon\", \"typhoon\", method = \"dl\")\n",
    "stringdist::stringdist(\"las angelos\", \"los angeles\", method = \"dl\")"
   ]
  },
  {
   "cell_type": "code",
   "execution_count": 138,
   "id": "0913ec99-b707-4870-a5ec-8abed4f89b2f",
   "metadata": {},
   "outputs": [
    {
     "data": {
      "text/html": [
       "7"
      ],
      "text/latex": [
       "7"
      ],
      "text/markdown": [
       "7"
      ],
      "text/plain": [
       "[1] 7"
      ]
     },
     "metadata": {},
     "output_type": "display_data"
    },
    {
     "data": {
      "text/html": [
       "0"
      ],
      "text/latex": [
       "0"
      ],
      "text/markdown": [
       "0"
      ],
      "text/plain": [
       "[1] 0"
      ]
     },
     "metadata": {},
     "output_type": "display_data"
    }
   ],
   "source": [
    "stringdist::stringdist(\"baboon\", \"typhoon\", method = \"lcs\")\n",
    "stringdist::stringdist(\"los angelos\", \"los angeles\", method = \"jaccard\")"
   ]
  },
  {
   "cell_type": "markdown",
   "id": "8b22e5f9-cee2-4124-994e-8fe1aea27bbd",
   "metadata": {},
   "source": [
    "When is this useful? When we want to collapse multiple categories into one, instead of using manually defined categories (which is problematic if there are too many variations to type out), we can use string distance to map them to the correct category.\n",
    "\n",
    "<div style=\"text-align:center;\">\n",
    "  <img src=\"images/clean_25.png\" width = \"500\" align=\"center\">\n",
    "</div>\n",
    "\n",
    "An example: The survey below had free text entry, so the city column is riddled with typos. To map them to the correct spelling, we can compare the distance between each survey response and the set of possible answers, and choose the one that's closest.\n",
    "\n",
    "<div style=\"text-align:center;\">\n",
    "  <img src=\"images/clean_26.png\" width = \"500\" align=\"center\">\n",
    "</div>\n",
    "\n",
    "The `fuzzyjoin` package allows us to do joins based on string distance. We can use `stringdist_left_join()` to join the survey data to cities. Just like the `stringdist()` function, we can pass in the method we want to use for string distance.\n",
    "\n",
    "<div style=\"text-align:center;\">\n",
    "  <img src=\"images/clean_27.png\" width = \"450\" align=\"center\">\n",
    "</div>\n",
    "\n",
    "We can also use the `max_dist` argument to adjust how close we want the strings to be in order to consider them a match. Notice how we get an `NA`, since the typo in row 8 wasn't close enough to any of the cities to be assigned to one.\n",
    "\n",
    "<div style=\"text-align:center;\">\n",
    "  <img src=\"images/clean_28.png\" width = \"450\" align=\"center\">\n",
    "</div>"
   ]
  },
  {
   "cell_type": "code",
   "execution_count": 152,
   "id": "c7864258-9fd9-42f3-9add-a371b733c6bb",
   "metadata": {},
   "outputs": [
    {
     "data": {
      "text/html": [
       "<table class=\"dataframe\">\n",
       "<caption>A data.frame: 6 × 2</caption>\n",
       "<thead>\n",
       "\t<tr><th scope=col>city.x</th><th scope=col>city.y</th></tr>\n",
       "\t<tr><th scope=col>&lt;chr&gt;</th><th scope=col>&lt;fct&gt;</th></tr>\n",
       "</thead>\n",
       "<tbody>\n",
       "\t<tr><td>atlanta      </td><td>atlanta      </td></tr>\n",
       "\t<tr><td>las angelas  </td><td>los angeles  </td></tr>\n",
       "\t<tr><td>las vegas    </td><td>las vegas    </td></tr>\n",
       "\t<tr><td>los angeles  </td><td>los angeles  </td></tr>\n",
       "\t<tr><td>new york     </td><td>new york     </td></tr>\n",
       "\t<tr><td>san francisco</td><td>san francisco</td></tr>\n",
       "</tbody>\n",
       "</table>\n"
      ],
      "text/latex": [
       "A data.frame: 6 × 2\n",
       "\\begin{tabular}{ll}\n",
       " city.x & city.y\\\\\n",
       " <chr> & <fct>\\\\\n",
       "\\hline\n",
       "\t atlanta       & atlanta      \\\\\n",
       "\t las angelas   & los angeles  \\\\\n",
       "\t las vegas     & las vegas    \\\\\n",
       "\t los angeles   & los angeles  \\\\\n",
       "\t new york      & new york     \\\\\n",
       "\t san francisco & san francisco\\\\\n",
       "\\end{tabular}\n"
      ],
      "text/markdown": [
       "\n",
       "A data.frame: 6 × 2\n",
       "\n",
       "| city.x &lt;chr&gt; | city.y &lt;fct&gt; |\n",
       "|---|---|\n",
       "| atlanta       | atlanta       |\n",
       "| las angelas   | los angeles   |\n",
       "| las vegas     | las vegas     |\n",
       "| los angeles   | los angeles   |\n",
       "| new york      | new york      |\n",
       "| san francisco | san francisco |\n",
       "\n"
      ],
      "text/plain": [
       "  city.x        city.y       \n",
       "1 atlanta       atlanta      \n",
       "2 las angelas   los angeles  \n",
       "3 las vegas     las vegas    \n",
       "4 los angeles   los angeles  \n",
       "5 new york      new york     \n",
       "6 san francisco san francisco"
      ]
     },
     "metadata": {},
     "output_type": "display_data"
    }
   ],
   "source": [
    "zagat_bad <- zagat %>%\n",
    "  add_row(city = \"las angelas\") %>%\n",
    "  count(city)\n",
    "\n",
    "zagat_bad %>%\n",
    "  stringdist_left_join(zagat, by = \"city\", method = \"dl\")  %>%\n",
    "  select(city.x, city.y) %>%\n",
    "  distinct()"
   ]
  },
  {
   "cell_type": "markdown",
   "id": "5b9a9c1f-402b-46bd-873b-a292f16afbdc",
   "metadata": {},
   "source": [
    "<a name=\"toc_00232_5.2\"></a>\n",
    "**5.2 Record linkage: Generating and comparing pairs**\n",
    "\n",
    "Below, we have two tables showing basketball game schedules from different television networks. If we want to get a full list of the basketball games being televised, we need to combine these two tables. However, some of the games in the second table are duplicates of games already listed in the first table. Since there's no consistent identifier between the two tables, a regular join won't work. This is where **record linkage** comes in.\n",
    "\n",
    "<div style=\"text-align:center;\">\n",
    "  <img src=\"images/clean_29.png\" width = \"450\" align=\"center\">\n",
    "</div>\n",
    "\n",
    "Record linkage involves linking data together that comes from multiple sources that don't share a common identifier, but contain data on the same entity. The usual process is as follows:\n",
    "- We start by cleaning the different datasets.\n",
    "- Then, we find pairs of records, or rows, that we want to compare.\n",
    "- We compare those records to each other using the earlier string comparison skills,\n",
    "- and score them based on how similar they are\n",
    "- Finally, we link the most similar pairs together. \n",
    "\n",
    "<div style=\"text-align:center;\">\n",
    "  <img src=\"images/clean_30.png\" width = \"600\" align=\"center\">\n",
    "</div>\n",
    "\n",
    "<u>Look at the dataset</u>\n",
    "\n",
    "Here, we have two data frames, A and B, and we want to use record linkage to identify if any of the records in Table A are referring to the same person as any records in Table B.\n",
    "\n",
    "<div style=\"text-align:center;\">\n",
    "  <img src=\"images/clean_31.png\" width = \"500\" align=\"center\">\n",
    "</div>\n",
    "\n",
    "<u>Find pairs</u>\n",
    "\n",
    "In order to figure out whether any of the rows are matches, we'll need to compare every single row in table A with every single row in table B. To generate pairs of rows in R, we can use the `reclin2` package. The `pair_blocking()` function takes in our two data frames and returns an object that contains every possible pair of records. \n",
    "\n",
    "<div style=\"text-align:center;\">\n",
    "  <img src=\"images/clean_32.png\" width = \"200\" align=\"center\">\n",
    "</div>\n",
    "\n",
    "But imagine if we had a thousand rows in each table. That means we'd have a million possible pairs of records, so this approach isn't scalable. To solve this problem, what if we only choose pairs that have a matching state? This drastically reduces the number of possible pairs - now we only have 8 instead of 25. This technique is called **blocking**: we only consider pairs when they agree on the blocking variable. In this case, the blocking variable is `state`.\n",
    "\n",
    "<div style=\"text-align:center;\">\n",
    "  <img src=\"images/clean_33.png\" width = \"500\" align=\"center\">\n",
    "</div>\n",
    "\n",
    "To use blocking, we can use the same `pair_blocking()` function, but this time use the `blocking_var` (or in `reclin2`, the `on`) argument, which takes in a column name as a string. Just as we expected, we get 8 pairs instead of 25.\n",
    "\n",
    "<div style=\"text-align:center;\">\n",
    "  <img src=\"images/clean_34.png\" width = \"500\" align=\"center\">\n",
    "</div>\n",
    "\n",
    "<u>Compare pairs</u>\n",
    "\n",
    "Now that we have our pairs, we'll need to compare them to see which pairs are the most similar. We can do this by piping the output of `pair_blocking` to the `compare_pairs` function. We use the `by` argument to indicate that the name column of each data frame should be compared, and the `default_comparator` argument to indicate how strings should be compared. Here, we're using the **longest common subsequence** method. Notice that there's a set of parentheses after `lcs` since we're calling a function. The output shows a table with each pair and the corresponding score between the name of each pair.\n",
    "\n",
    "<div style=\"text-align:center;\">\n",
    "  <img src=\"images/clean_35.png\" width = \"500\" align=\"center\">\n",
    "</div>\n",
    "\n",
    "We can also compare multiple columns of the data frames by passing a vector of columns to the by argument. E.g. by using `compare_pairs(by = c(\"name\", \"zip\")`), we get a score for the name column and the zip column. We can also use different methods to compare strings, such as **Jaccard** or **Jaro-Winkler**.\n",
    "\n",
    "<u>Scoring pairs</u>\n",
    "\n",
    "Next, we need to score the pairs. There are different methods to do this:\n",
    "- One way that we could combine the separate scores is by **adding them together** using `score_simsum()`, which will create a new column called simsum that holds the total score for each row.\n",
    "\n",
    "<div style=\"text-align:center;\">\n",
    "  <img src=\"images/clean_36.png\" width = \"500\" align=\"center\">\n",
    "</div>\n",
    "\n",
    "Here, the highest score is between row 2 in `df_A` and row 3 in `df_B`, which both referred to someone named `Keaton Snyder`. However, summing doesn't account for the fact that having a very similar name is a stronger indicator that the records refer to the same person, while having the same `sex` doesn't tell us as much.\n",
    "\n",
    "- Instead of summing, we can use a **probabilistic way** of scoring that accounts for these differences between variables. We can use the `score_problink()` function, which gives us a **weight** for each row. The higher the weight, the more similar the pair is. The highest weight is again between Keaton Z Snyder and Keaton Snyder.\n",
    "\n",
    "<div style=\"text-align:center;\">\n",
    "  <img src=\"images/clean_37.png\" width = \"500\" align=\"center\">\n",
    "</div>\n",
    "\n",
    "<u>Link pairs together</u>\n",
    "\n",
    "Now that we've scored each pair, how do we pick which ones are matches? For this, we can select the pairs that we consider matches using `select_n_to_m()`. \n",
    "\n",
    "<div style=\"text-align:center;\">\n",
    "  <img src=\"images/clean_38.png\" width = \"500\" align=\"center\">\n",
    "</div>\n",
    "\n",
    "This will select the matches with the highest scores, ensuring that any record in one data frame is only linked to one record in the other data frame at most. Here, the only pair considered a match is row 2 of df_A and row 3 of df_B.\n",
    "\n",
    "<div style=\"text-align:center;\">\n",
    "  <img src=\"images/clean_39.png\" width = \"500\" align=\"center\">\n",
    "</div>"
   ]
  },
  {
   "cell_type": "markdown",
   "id": "3695716d-8f4c-4441-a67b-0ddfdef35deb",
   "metadata": {},
   "source": [
    "*Note: the package `reclin` is superseeded by `reclin2`. Syntax changes were made."
   ]
  }
 ],
 "metadata": {
  "kernelspec": {
   "display_name": "R",
   "language": "R",
   "name": "ir"
  },
  "language_info": {
   "codemirror_mode": "r",
   "file_extension": ".r",
   "mimetype": "text/x-r-source",
   "name": "R",
   "pygments_lexer": "r",
   "version": "4.1.3"
  }
 },
 "nbformat": 4,
 "nbformat_minor": 5
}
