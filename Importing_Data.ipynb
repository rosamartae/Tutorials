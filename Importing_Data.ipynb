{
 "cells": [
  {
   "cell_type": "markdown",
   "id": "0b0b3f94-a7c8-4675-b063-3257aa5c17a6",
   "metadata": {},
   "source": [
    "# Importing Data in R\n",
    "## -- DataCamp - Data Scientist with R Career Track - Course 11 --\n",
    "\n",
    " **Note**\n",
    " \n",
    "This Notebook covers the \"Introduction to Importing Data in R\" and \"Intermediate Importing Data\" in R courses\n",
    "  \n",
    "To use this code, select the R environment in Anaconda\n",
    "\n",
    " \n",
    " **Used packages**\n",
    "- readr\n",
    "- data.table\n",
    "- readxl\n",
    "- rio\n",
    "- janitor\n",
    "- RMySQL\n",
    "- jsonlite\n",
    "- haven\n",
    "- foreign\n",
    " \n",
    "**Table of content**\n",
    "- [&nbsp;&nbsp;1. Importing with different packages](#toc_447142_1)\n",
    "    - [&nbsp;&nbsp;1.1. The utils package](#toc_447142_1.1)\n",
    "    - [&nbsp;&nbsp;1.2. The readr package](#toc_447142_1.2)\n",
    "    - [&nbsp;&nbsp;1.3. The data.table package](#toc_447142_1.3)\n",
    "    - [&nbsp;&nbsp;1.4. The readxl package](#toc_447142_1.4)\n",
    "    - [&nbsp;&nbsp;1.5. The rio package](#toc_447142_1.5)\n",
    "    - [&nbsp;&nbsp;1.6. The readRDS function](#toc_447142_1.6)\n",
    "    - [&nbsp;&nbsp;1.7. Load RData](#toc_447142_1.7)\n",
    "- [&nbsp;&nbsp;2. The janitor package](#toc_447142_2)   \n",
    "- [&nbsp;&nbsp;3. Reproducible Excel work with XLConnect](#toc_447142_3)        \n",
    "- [&nbsp;&nbsp;4. Importing data from databases](#toc_447142_4)   \n",
    "    - [&nbsp;&nbsp;4.1 Connecting to a database](#toc_447142_4.1)  \n",
    "    - [&nbsp;&nbsp;4.2 Import table from a database](#toc_447142_4.2)  \n",
    "    - [&nbsp;&nbsp;4.3 Using SQL Queries from inside R](#toc_447142_4.3)  \n",
    "    - [&nbsp;&nbsp;4.4 Disconnect from a database](#toc_447142_4.4)  \n",
    "- [&nbsp;&nbsp;5. Importing data from the web](#toc_447142_5)   \n",
    "    - [&nbsp;&nbsp;5.1 Read and download files from the web](#toc_447142_5.1)  \n",
    "    - [&nbsp;&nbsp;5.2 APIs & JSON](#toc_447142_5.2)  \n",
    "- [&nbsp;&nbsp;6. Importing data from statistical softwares](#toc_447142_6)     \n",
    "    "
   ]
  },
  {
   "cell_type": "markdown",
   "id": "ee2b5220-e221-4828-80a7-dfb9d1a1a17b",
   "metadata": {},
   "source": [
    "**Set environment and plot size**"
   ]
  },
  {
   "cell_type": "code",
   "execution_count": 174,
   "id": "499a017a-db52-461b-927d-e9723c162cc3",
   "metadata": {},
   "outputs": [],
   "source": [
    "options(repr.plot.width=6, repr.plot.height=6)\n",
    "suppressMessages(library(readr))\n",
    "suppressMessages(library(data.table))\n",
    "suppressMessages(library(readxl))\n",
    "suppressMessages(library(rio))\n",
    "suppressMessages(library(janitor))\n",
    "suppressMessages(library(DBI)) # installed with the RMySQL package, library(RMySQL) is not needed\n",
    "suppressMessages(library(jsonlite)) \n",
    "suppressMessages(library(haven)) \n",
    "suppressMessages(library(foreign)) "
   ]
  },
  {
   "cell_type": "markdown",
   "id": "15deae83-09df-4ba0-b44b-3dcc9a88cac1",
   "metadata": {},
   "source": [
    "Note: if the above code return an error message:\n",
    "- Check that the correct R environment is selected in Anaconda\n",
    "- Restart computer"
   ]
  },
  {
   "cell_type": "markdown",
   "id": "3c2b58c5-8135-4ce0-adc5-4ec9ce2ab310",
   "metadata": {},
   "source": [
    "<a name=\"toc_447142_1\"></a>\n",
    "## 1.   Importing with different packages\n",
    "\n",
    "<u>utils package</u>\n",
    "\n",
    "The built-in `utils` R package takes care of import processes. Its main function is:\n",
    "- `read.table()` - it has many arguments and can import many file types and can handle different separators with the `sep = ` argument (e.g. `\"/\"`, `\"\\t\"` (tab) etc.)\n",
    "\n",
    "There are more specific **wrapper functions** that actually call `read.table()`  behind the scenes, but with different default arguments to match the specific formats:\n",
    "- `read.csv()` - `sep = \",\"`\n",
    "- `read.delim()` - `sep = \"\\t\"`\n",
    "- `read.csv2()` - `sep = \";\"`, `dec = \",\"` - used in regions where decimals are indicated with \",\" instead of \".\"\n",
    "- `read.delim2()` - `dec = \",\"` - used in regions where decimals are indicated with \",\" instead of \".\"\n",
    "\n",
    "<u>readr package</u>\n",
    "\n",
    "Work the same way as the utils functions but return a **tibble** instead of a data frame.\n",
    "- `read_csv()`\n",
    "- `read_tsv()` - for Tab Separated Values\n",
    "- `read_delim()` - similar to read.table() but has the `delim=` argument instead of `sep=`\n",
    "\n",
    "<u>data.table package</u>\n",
    "\n",
    "Very fast and convenient, so great for large files. Return a data.table.\n",
    "- `fread()` - automatically handles column names and separators\n",
    "\n",
    "<u>readxl package</u>\n",
    "\n",
    "For xls and xlsx files and return a tibble.\n",
    "- `excel_sheets()` - lists different sheets\n",
    "- `read_excel()` - actually import data into R\n",
    "\n",
    "An alternative to readxl is the `read.xls()` function from the `gdata package`. Some prefer this package despite its many disadvantages. `read.xls()` can only handle the .xls format, and you need to install a driver to support the newer xlsx format as well. Furthermore, it uses Perl code to convert the data in the excel sheet to a .csv file that is then read by `read.csv()`. It is slow and extremely inefficient for large files. Its only advantage over readxl is that readxl is still under development while gdata is more established.\n",
    "\n",
    "<u>rio package</u>\n",
    "\n",
    "The idea behind `rio` is to simplify the process of importing data into R and exporting data from R. it uses the file extension of a file name to determine what kind of file it is. By taking away the need to manually match a file type to a particular import or export function, rio allows almost all common data formats to be read with the same function. It basically **central wrapper** that offer wrapper function for the ones mentioned earlier (and many more).\n",
    "\n",
    "- `import()`\n",
    "- `export()`"
   ]
  },
  {
   "cell_type": "markdown",
   "id": "42236dbe-faa8-4054-8b5d-bd5eb0d07292",
   "metadata": {},
   "source": [
    "<a name=\"toc_447142_1.1\"></a>\n",
    "**1.1 The utils package**"
   ]
  },
  {
   "cell_type": "code",
   "execution_count": 37,
   "id": "b2bc6995-d323-4973-a5cc-7c14086896cf",
   "metadata": {},
   "outputs": [
    {
     "data": {
      "text/html": [
       "<table class=\"dataframe\">\n",
       "<caption>A data.frame: 2 × 3</caption>\n",
       "<thead>\n",
       "\t<tr><th></th><th scope=col>type</th><th scope=col>calories</th><th scope=col>sodium</th></tr>\n",
       "\t<tr><th></th><th scope=col>&lt;fct&gt;</th><th scope=col>&lt;dbl&gt;</th><th scope=col>&lt;int&gt;</th></tr>\n",
       "</thead>\n",
       "<tbody>\n",
       "\t<tr><th scope=row>1</th><td>Beef</td><td>186</td><td>495</td></tr>\n",
       "\t<tr><th scope=row>2</th><td>Beef</td><td>181</td><td>477</td></tr>\n",
       "</tbody>\n",
       "</table>\n"
      ],
      "text/latex": [
       "A data.frame: 2 × 3\n",
       "\\begin{tabular}{r|lll}\n",
       "  & type & calories & sodium\\\\\n",
       "  & <fct> & <dbl> & <int>\\\\\n",
       "\\hline\n",
       "\t1 & Beef & 186 & 495\\\\\n",
       "\t2 & Beef & 181 & 477\\\\\n",
       "\\end{tabular}\n"
      ],
      "text/markdown": [
       "\n",
       "A data.frame: 2 × 3\n",
       "\n",
       "| <!--/--> | type &lt;fct&gt; | calories &lt;dbl&gt; | sodium &lt;int&gt; |\n",
       "|---|---|---|---|\n",
       "| 1 | Beef | 186 | 495 |\n",
       "| 2 | Beef | 181 | 477 |\n",
       "\n"
      ],
      "text/plain": [
       "  type calories sodium\n",
       "1 Beef 186      495   \n",
       "2 Beef 181      477   "
      ]
     },
     "metadata": {},
     "output_type": "display_data"
    }
   ],
   "source": [
    "# Read \"/\" delimited TXT\n",
    "hot2 <- read.table(\"data/import_data/hotdogs_slash.txt\", \n",
    "                   header = FALSE,\n",
    "                   sep = \"/\",\n",
    "                   stringsAsFactors = TRUE,\n",
    "                   col.names = c(\"type\", \"calories\", \"sodium\"),\n",
    "                   colClasses = c(\"factor\", \"numeric\", \"integer\"))\n",
    "head(hot2, 2)"
   ]
  },
  {
   "cell_type": "code",
   "execution_count": 27,
   "id": "3912a50f-6d03-46fe-8c74-158921431382",
   "metadata": {},
   "outputs": [
    {
     "data": {
      "text/html": [
       "<table class=\"dataframe\">\n",
       "<caption>A data.frame: 2 × 4</caption>\n",
       "<thead>\n",
       "\t<tr><th></th><th scope=col>Name</th><th scope=col>Address</th><th scope=col>Latitude</th><th scope=col>Longitude</th></tr>\n",
       "\t<tr><th></th><th scope=col>&lt;chr&gt;</th><th scope=col>&lt;chr&gt;</th><th scope=col>&lt;dbl&gt;</th><th scope=col>&lt;dbl&gt;</th></tr>\n",
       "</thead>\n",
       "<tbody>\n",
       "\t<tr><th scope=row>1</th><td>Acacia Ridge Leisure Centre</td><td>1391 Beaudesert Road, Acacia Ridge</td><td>-27.58616</td><td>153.0264</td></tr>\n",
       "\t<tr><th scope=row>2</th><td>Bellbowrie Pool            </td><td>Sugarwood Street, Bellbowrie      </td><td>-27.56547</td><td>152.8911</td></tr>\n",
       "</tbody>\n",
       "</table>\n"
      ],
      "text/latex": [
       "A data.frame: 2 × 4\n",
       "\\begin{tabular}{r|llll}\n",
       "  & Name & Address & Latitude & Longitude\\\\\n",
       "  & <chr> & <chr> & <dbl> & <dbl>\\\\\n",
       "\\hline\n",
       "\t1 & Acacia Ridge Leisure Centre & 1391 Beaudesert Road, Acacia Ridge & -27.58616 & 153.0264\\\\\n",
       "\t2 & Bellbowrie Pool             & Sugarwood Street, Bellbowrie       & -27.56547 & 152.8911\\\\\n",
       "\\end{tabular}\n"
      ],
      "text/markdown": [
       "\n",
       "A data.frame: 2 × 4\n",
       "\n",
       "| <!--/--> | Name &lt;chr&gt; | Address &lt;chr&gt; | Latitude &lt;dbl&gt; | Longitude &lt;dbl&gt; |\n",
       "|---|---|---|---|---|\n",
       "| 1 | Acacia Ridge Leisure Centre | 1391 Beaudesert Road, Acacia Ridge | -27.58616 | 153.0264 |\n",
       "| 2 | Bellbowrie Pool             | Sugarwood Street, Bellbowrie       | -27.56547 | 152.8911 |\n",
       "\n"
      ],
      "text/plain": [
       "  Name                        Address                            Latitude \n",
       "1 Acacia Ridge Leisure Centre 1391 Beaudesert Road, Acacia Ridge -27.58616\n",
       "2 Bellbowrie Pool             Sugarwood Street, Bellbowrie       -27.56547\n",
       "  Longitude\n",
       "1 153.0264 \n",
       "2 152.8911 "
      ]
     },
     "metadata": {},
     "output_type": "display_data"
    }
   ],
   "source": [
    "# Read CSV\n",
    "sw <- read.csv(\"data/import_data/swimming_pools.csv\")\n",
    "head(sw, 2)"
   ]
  },
  {
   "cell_type": "code",
   "execution_count": 17,
   "id": "b8068cc6-e3df-42c1-a0d0-98997e53da03",
   "metadata": {},
   "outputs": [
    {
     "data": {
      "text/html": [
       "<table class=\"dataframe\">\n",
       "<caption>A data.frame: 2 × 4</caption>\n",
       "<thead>\n",
       "\t<tr><th></th><th scope=col>Name</th><th scope=col>Address</th><th scope=col>Latitude</th><th scope=col>Longitude</th></tr>\n",
       "\t<tr><th></th><th scope=col>&lt;fct&gt;</th><th scope=col>&lt;fct&gt;</th><th scope=col>&lt;dbl&gt;</th><th scope=col>&lt;dbl&gt;</th></tr>\n",
       "</thead>\n",
       "<tbody>\n",
       "\t<tr><th scope=row>1</th><td>Acacia Ridge Leisure Centre</td><td>1391 Beaudesert Road, Acacia Ridge</td><td>-27.58616</td><td>153.0264</td></tr>\n",
       "\t<tr><th scope=row>2</th><td>Bellbowrie Pool            </td><td>Sugarwood Street, Bellbowrie      </td><td>-27.56547</td><td>152.8911</td></tr>\n",
       "</tbody>\n",
       "</table>\n"
      ],
      "text/latex": [
       "A data.frame: 2 × 4\n",
       "\\begin{tabular}{r|llll}\n",
       "  & Name & Address & Latitude & Longitude\\\\\n",
       "  & <fct> & <fct> & <dbl> & <dbl>\\\\\n",
       "\\hline\n",
       "\t1 & Acacia Ridge Leisure Centre & 1391 Beaudesert Road, Acacia Ridge & -27.58616 & 153.0264\\\\\n",
       "\t2 & Bellbowrie Pool             & Sugarwood Street, Bellbowrie       & -27.56547 & 152.8911\\\\\n",
       "\\end{tabular}\n"
      ],
      "text/markdown": [
       "\n",
       "A data.frame: 2 × 4\n",
       "\n",
       "| <!--/--> | Name &lt;fct&gt; | Address &lt;fct&gt; | Latitude &lt;dbl&gt; | Longitude &lt;dbl&gt; |\n",
       "|---|---|---|---|---|\n",
       "| 1 | Acacia Ridge Leisure Centre | 1391 Beaudesert Road, Acacia Ridge | -27.58616 | 153.0264 |\n",
       "| 2 | Bellbowrie Pool             | Sugarwood Street, Bellbowrie       | -27.56547 | 152.8911 |\n",
       "\n"
      ],
      "text/plain": [
       "  Name                        Address                            Latitude \n",
       "1 Acacia Ridge Leisure Centre 1391 Beaudesert Road, Acacia Ridge -27.58616\n",
       "2 Bellbowrie Pool             Sugarwood Street, Bellbowrie       -27.56547\n",
       "  Longitude\n",
       "1 153.0264 \n",
       "2 152.8911 "
      ]
     },
     "metadata": {},
     "output_type": "display_data"
    }
   ],
   "source": [
    "sw2 <- read.csv(\"data/import_data/swimming_pools.csv\", stringsAsFactors = TRUE)\n",
    "head(sw2, 2)"
   ]
  },
  {
   "cell_type": "code",
   "execution_count": 29,
   "id": "876a3459-0aec-4d78-97fe-8deb8e49633a",
   "metadata": {},
   "outputs": [
    {
     "data": {
      "text/html": [
       "<table class=\"dataframe\">\n",
       "<caption>A data.frame: 2 × 3</caption>\n",
       "<thead>\n",
       "\t<tr><th></th><th scope=col>V1</th><th scope=col>V2</th><th scope=col>V3</th></tr>\n",
       "\t<tr><th></th><th scope=col>&lt;fct&gt;</th><th scope=col>&lt;int&gt;</th><th scope=col>&lt;int&gt;</th></tr>\n",
       "</thead>\n",
       "<tbody>\n",
       "\t<tr><th scope=row>1</th><td>Beef</td><td>186</td><td>495</td></tr>\n",
       "\t<tr><th scope=row>2</th><td>Beef</td><td>181</td><td>477</td></tr>\n",
       "</tbody>\n",
       "</table>\n"
      ],
      "text/latex": [
       "A data.frame: 2 × 3\n",
       "\\begin{tabular}{r|lll}\n",
       "  & V1 & V2 & V3\\\\\n",
       "  & <fct> & <int> & <int>\\\\\n",
       "\\hline\n",
       "\t1 & Beef & 186 & 495\\\\\n",
       "\t2 & Beef & 181 & 477\\\\\n",
       "\\end{tabular}\n"
      ],
      "text/markdown": [
       "\n",
       "A data.frame: 2 × 3\n",
       "\n",
       "| <!--/--> | V1 &lt;fct&gt; | V2 &lt;int&gt; | V3 &lt;int&gt; |\n",
       "|---|---|---|---|\n",
       "| 1 | Beef | 186 | 495 |\n",
       "| 2 | Beef | 181 | 477 |\n",
       "\n"
      ],
      "text/plain": [
       "  V1   V2  V3 \n",
       "1 Beef 186 495\n",
       "2 Beef 181 477"
      ]
     },
     "metadata": {},
     "output_type": "display_data"
    }
   ],
   "source": [
    "# Read tab-delimited TXT\n",
    "hot <- read.delim(\"data/import_data/hotdogs.txt\", stringsAsFactors = TRUE, header = FALSE)\n",
    "head(hot, 2)"
   ]
  },
  {
   "cell_type": "markdown",
   "id": "517a4af5-881d-4d5f-8202-ceafadc29619",
   "metadata": {},
   "source": [
    "<a name=\"toc_447142_1.2\"></a>\n",
    "**1.2 The readr package**"
   ]
  },
  {
   "cell_type": "code",
   "execution_count": 40,
   "id": "65c74f91-8281-440b-a5ca-a92ec7881d24",
   "metadata": {},
   "outputs": [
    {
     "name": "stderr",
     "output_type": "stream",
     "text": [
      "\u001b[1mRows: \u001b[22m\u001b[34m20\u001b[39m \u001b[1mColumns: \u001b[22m\u001b[34m4\u001b[39m\n",
      "\u001b[36m--\u001b[39m \u001b[1mColumn specification\u001b[22m \u001b[36m--------------------------------------------------------\u001b[39m\n",
      "\u001b[1mDelimiter:\u001b[22m \",\"\n",
      "\u001b[31mchr\u001b[39m (2): Name, Address\n",
      "\u001b[32mdbl\u001b[39m (2): Latitude, Longitude\n",
      "\n",
      "\u001b[36mi\u001b[39m Use `spec()` to retrieve the full column specification for this data.\n",
      "\u001b[36mi\u001b[39m Specify the column types or set `show_col_types = FALSE` to quiet this message.\n"
     ]
    },
    {
     "data": {
      "text/html": [
       "<table class=\"dataframe\">\n",
       "<caption>A tibble: 2 × 4</caption>\n",
       "<thead>\n",
       "\t<tr><th scope=col>Name</th><th scope=col>Address</th><th scope=col>Latitude</th><th scope=col>Longitude</th></tr>\n",
       "\t<tr><th scope=col>&lt;chr&gt;</th><th scope=col>&lt;chr&gt;</th><th scope=col>&lt;dbl&gt;</th><th scope=col>&lt;dbl&gt;</th></tr>\n",
       "</thead>\n",
       "<tbody>\n",
       "\t<tr><td>Acacia Ridge Leisure Centre</td><td>1391 Beaudesert Road, Acacia Ridge</td><td>-27.58616</td><td>153.0264</td></tr>\n",
       "\t<tr><td>Bellbowrie Pool            </td><td>Sugarwood Street, Bellbowrie      </td><td>-27.56547</td><td>152.8911</td></tr>\n",
       "</tbody>\n",
       "</table>\n"
      ],
      "text/latex": [
       "A tibble: 2 × 4\n",
       "\\begin{tabular}{llll}\n",
       " Name & Address & Latitude & Longitude\\\\\n",
       " <chr> & <chr> & <dbl> & <dbl>\\\\\n",
       "\\hline\n",
       "\t Acacia Ridge Leisure Centre & 1391 Beaudesert Road, Acacia Ridge & -27.58616 & 153.0264\\\\\n",
       "\t Bellbowrie Pool             & Sugarwood Street, Bellbowrie       & -27.56547 & 152.8911\\\\\n",
       "\\end{tabular}\n"
      ],
      "text/markdown": [
       "\n",
       "A tibble: 2 × 4\n",
       "\n",
       "| Name &lt;chr&gt; | Address &lt;chr&gt; | Latitude &lt;dbl&gt; | Longitude &lt;dbl&gt; |\n",
       "|---|---|---|---|\n",
       "| Acacia Ridge Leisure Centre | 1391 Beaudesert Road, Acacia Ridge | -27.58616 | 153.0264 |\n",
       "| Bellbowrie Pool             | Sugarwood Street, Bellbowrie       | -27.56547 | 152.8911 |\n",
       "\n"
      ],
      "text/plain": [
       "  Name                        Address                            Latitude \n",
       "1 Acacia Ridge Leisure Centre 1391 Beaudesert Road, Acacia Ridge -27.58616\n",
       "2 Bellbowrie Pool             Sugarwood Street, Bellbowrie       -27.56547\n",
       "  Longitude\n",
       "1 153.0264 \n",
       "2 152.8911 "
      ]
     },
     "metadata": {},
     "output_type": "display_data"
    }
   ],
   "source": [
    "poolr <- readr::read_csv(\"data/import_data/swimming_pools.csv\")\n",
    "head(poolr, 2)"
   ]
  },
  {
   "cell_type": "code",
   "execution_count": 42,
   "id": "a60ada70-302d-4574-9099-2a8bb5dff51f",
   "metadata": {},
   "outputs": [
    {
     "name": "stderr",
     "output_type": "stream",
     "text": [
      "\u001b[1mRows: \u001b[22m\u001b[34m54\u001b[39m \u001b[1mColumns: \u001b[22m\u001b[34m3\u001b[39m\n",
      "\u001b[36m--\u001b[39m \u001b[1mColumn specification\u001b[22m \u001b[36m--------------------------------------------------------\u001b[39m\n",
      "\u001b[1mDelimiter:\u001b[22m \"\\t\"\n",
      "\u001b[31mchr\u001b[39m (1): type\n",
      "\u001b[32mdbl\u001b[39m (2): calories, sodium\n",
      "\n",
      "\u001b[36mi\u001b[39m Use `spec()` to retrieve the full column specification for this data.\n",
      "\u001b[36mi\u001b[39m Specify the column types or set `show_col_types = FALSE` to quiet this message.\n"
     ]
    },
    {
     "data": {
      "text/html": [
       "<table class=\"dataframe\">\n",
       "<caption>A tibble: 2 × 3</caption>\n",
       "<thead>\n",
       "\t<tr><th scope=col>type</th><th scope=col>calories</th><th scope=col>sodium</th></tr>\n",
       "\t<tr><th scope=col>&lt;chr&gt;</th><th scope=col>&lt;dbl&gt;</th><th scope=col>&lt;dbl&gt;</th></tr>\n",
       "</thead>\n",
       "<tbody>\n",
       "\t<tr><td>Beef</td><td>186</td><td>495</td></tr>\n",
       "\t<tr><td>Beef</td><td>181</td><td>477</td></tr>\n",
       "</tbody>\n",
       "</table>\n"
      ],
      "text/latex": [
       "A tibble: 2 × 3\n",
       "\\begin{tabular}{lll}\n",
       " type & calories & sodium\\\\\n",
       " <chr> & <dbl> & <dbl>\\\\\n",
       "\\hline\n",
       "\t Beef & 186 & 495\\\\\n",
       "\t Beef & 181 & 477\\\\\n",
       "\\end{tabular}\n"
      ],
      "text/markdown": [
       "\n",
       "A tibble: 2 × 3\n",
       "\n",
       "| type &lt;chr&gt; | calories &lt;dbl&gt; | sodium &lt;dbl&gt; |\n",
       "|---|---|---|\n",
       "| Beef | 186 | 495 |\n",
       "| Beef | 181 | 477 |\n",
       "\n"
      ],
      "text/plain": [
       "  type calories sodium\n",
       "1 Beef 186      495   \n",
       "2 Beef 181      477   "
      ]
     },
     "metadata": {},
     "output_type": "display_data"
    }
   ],
   "source": [
    "hotr <- readr::read_tsv(\"data/import_data/hotdogs.txt\",\n",
    "                        col_names = c(\"type\", \"calories\", \"sodium\"))\n",
    "head(hotr, 2)"
   ]
  },
  {
   "cell_type": "code",
   "execution_count": 49,
   "id": "9ff3fd9f-5ba3-4daa-8890-a66362d92426",
   "metadata": {},
   "outputs": [
    {
     "data": {
      "text/html": [
       "<table class=\"dataframe\">\n",
       "<caption>A tibble: 2 × 3</caption>\n",
       "<thead>\n",
       "\t<tr><th scope=col>type</th><th scope=col>calories</th><th scope=col>sodium</th></tr>\n",
       "\t<tr><th scope=col>&lt;chr&gt;</th><th scope=col>&lt;dbl&gt;</th><th scope=col>&lt;int&gt;</th></tr>\n",
       "</thead>\n",
       "<tbody>\n",
       "\t<tr><td>Beef</td><td>186</td><td>495</td></tr>\n",
       "\t<tr><td>Beef</td><td>181</td><td>477</td></tr>\n",
       "</tbody>\n",
       "</table>\n"
      ],
      "text/latex": [
       "A tibble: 2 × 3\n",
       "\\begin{tabular}{lll}\n",
       " type & calories & sodium\\\\\n",
       " <chr> & <dbl> & <int>\\\\\n",
       "\\hline\n",
       "\t Beef & 186 & 495\\\\\n",
       "\t Beef & 181 & 477\\\\\n",
       "\\end{tabular}\n"
      ],
      "text/markdown": [
       "\n",
       "A tibble: 2 × 3\n",
       "\n",
       "| type &lt;chr&gt; | calories &lt;dbl&gt; | sodium &lt;int&gt; |\n",
       "|---|---|---|\n",
       "| Beef | 186 | 495 |\n",
       "| Beef | 181 | 477 |\n",
       "\n"
      ],
      "text/plain": [
       "  type calories sodium\n",
       "1 Beef 186      495   \n",
       "2 Beef 181      477   "
      ]
     },
     "metadata": {},
     "output_type": "display_data"
    }
   ],
   "source": [
    "hotr2 <- readr::read_delim(\"data/import_data/hotdogs_slash.txt\",\n",
    "                        delim = \"/\",\n",
    "                        col_names = c(\"type\", \"calories\", \"sodium\"),\n",
    "                        col_types = c(\"cdi\"))  # short for character, double and integer\n",
    "head(hotr2, 2)"
   ]
  },
  {
   "cell_type": "code",
   "execution_count": 55,
   "id": "024a7c60-fe72-42ea-8c84-2ffaea054b1b",
   "metadata": {},
   "outputs": [
    {
     "data": {
      "text/html": [
       "<table class=\"dataframe\">\n",
       "<caption>A spec_tbl_df: 4 × 3</caption>\n",
       "<thead>\n",
       "\t<tr><th scope=col>type</th><th scope=col>calories</th><th scope=col>sodium</th></tr>\n",
       "\t<tr><th scope=col>&lt;chr&gt;</th><th scope=col>&lt;dbl&gt;</th><th scope=col>&lt;int&gt;</th></tr>\n",
       "</thead>\n",
       "<tbody>\n",
       "\t<tr><td>Beef</td><td>181</td><td>477</td></tr>\n",
       "\t<tr><td>Beef</td><td>176</td><td>425</td></tr>\n",
       "\t<tr><td>Beef</td><td>149</td><td>322</td></tr>\n",
       "\t<tr><td>Beef</td><td>184</td><td>482</td></tr>\n",
       "</tbody>\n",
       "</table>\n"
      ],
      "text/latex": [
       "A spec\\_tbl\\_df: 4 × 3\n",
       "\\begin{tabular}{lll}\n",
       " type & calories & sodium\\\\\n",
       " <chr> & <dbl> & <int>\\\\\n",
       "\\hline\n",
       "\t Beef & 181 & 477\\\\\n",
       "\t Beef & 176 & 425\\\\\n",
       "\t Beef & 149 & 322\\\\\n",
       "\t Beef & 184 & 482\\\\\n",
       "\\end{tabular}\n"
      ],
      "text/markdown": [
       "\n",
       "A spec_tbl_df: 4 × 3\n",
       "\n",
       "| type &lt;chr&gt; | calories &lt;dbl&gt; | sodium &lt;int&gt; |\n",
       "|---|---|---|\n",
       "| Beef | 181 | 477 |\n",
       "| Beef | 176 | 425 |\n",
       "| Beef | 149 | 322 |\n",
       "| Beef | 184 | 482 |\n",
       "\n"
      ],
      "text/plain": [
       "  type calories sodium\n",
       "1 Beef 181      477   \n",
       "2 Beef 176      425   \n",
       "3 Beef 149      322   \n",
       "4 Beef 184      482   "
      ]
     },
     "metadata": {},
     "output_type": "display_data"
    }
   ],
   "source": [
    "readr::read_delim(\"data/import_data/hotdogs_slash.txt\",\n",
    "                        delim = \"/\",\n",
    "                        col_names = c(\"type\", \"calories\", \"sodium\"),\n",
    "                        col_types = c(\"cdi\"),  # short for character, double and integer\n",
    "                        skip = 1,  # skips 1 row\n",
    "                        n_max = 4) # reads only 4 rown in total"
   ]
  },
  {
   "cell_type": "markdown",
   "id": "15a8f043-715c-41f5-8e46-7ff80b01e66a",
   "metadata": {},
   "source": [
    "<a name=\"toc_447142_1.3\"></a>\n",
    "**1.3 The data.table package**"
   ]
  },
  {
   "cell_type": "code",
   "execution_count": 65,
   "id": "8c334512-0082-4308-9069-988cd589f198",
   "metadata": {},
   "outputs": [
    {
     "data": {
      "text/html": [
       "<table class=\"dataframe\">\n",
       "<caption>A data.table: 2 × 2</caption>\n",
       "<thead>\n",
       "\t<tr><th scope=col>Name</th><th scope=col>Address</th></tr>\n",
       "\t<tr><th scope=col>&lt;chr&gt;</th><th scope=col>&lt;chr&gt;</th></tr>\n",
       "</thead>\n",
       "<tbody>\n",
       "\t<tr><td>Acacia Ridge Leisure Centre</td><td>1391 Beaudesert Road, Acacia Ridge</td></tr>\n",
       "\t<tr><td>Bellbowrie Pool            </td><td>Sugarwood Street, Bellbowrie      </td></tr>\n",
       "</tbody>\n",
       "</table>\n"
      ],
      "text/latex": [
       "A data.table: 2 × 2\n",
       "\\begin{tabular}{ll}\n",
       " Name & Address\\\\\n",
       " <chr> & <chr>\\\\\n",
       "\\hline\n",
       "\t Acacia Ridge Leisure Centre & 1391 Beaudesert Road, Acacia Ridge\\\\\n",
       "\t Bellbowrie Pool             & Sugarwood Street, Bellbowrie      \\\\\n",
       "\\end{tabular}\n"
      ],
      "text/markdown": [
       "\n",
       "A data.table: 2 × 2\n",
       "\n",
       "| Name &lt;chr&gt; | Address &lt;chr&gt; |\n",
       "|---|---|\n",
       "| Acacia Ridge Leisure Centre | 1391 Beaudesert Road, Acacia Ridge |\n",
       "| Bellbowrie Pool             | Sugarwood Street, Bellbowrie       |\n",
       "\n"
      ],
      "text/plain": [
       "  Name                        Address                           \n",
       "1 Acacia Ridge Leisure Centre 1391 Beaudesert Road, Acacia Ridge\n",
       "2 Bellbowrie Pool             Sugarwood Street, Bellbowrie      "
      ]
     },
     "metadata": {},
     "output_type": "display_data"
    }
   ],
   "source": [
    "poolf <- data.table::fread(\"data/import_data/swimming_pools.csv\",\n",
    "                          select = c(1, 2)) # only read the 1. and 2. columns\n",
    "head(poolf, 2)"
   ]
  },
  {
   "cell_type": "markdown",
   "id": "070d88e9-ea73-4329-a269-b1cc4b307f79",
   "metadata": {},
   "source": [
    "<a name=\"toc_447142_1.4\"></a>\n",
    "**1.4 The readxl package**"
   ]
  },
  {
   "cell_type": "code",
   "execution_count": 73,
   "id": "35eade57-25da-42dd-a830-c12401b22ffe",
   "metadata": {},
   "outputs": [
    {
     "data": {
      "text/html": [
       "<style>\n",
       ".list-inline {list-style: none; margin:0; padding: 0}\n",
       ".list-inline>li {display: inline-block}\n",
       ".list-inline>li:not(:last-child)::after {content: \"\\00b7\"; padding: 0 .5ex}\n",
       "</style>\n",
       "<ol class=list-inline><li>'1960-1966'</li><li>'1967-1974'</li><li>'1975-2011'</li></ol>\n"
      ],
      "text/latex": [
       "\\begin{enumerate*}\n",
       "\\item '1960-1966'\n",
       "\\item '1967-1974'\n",
       "\\item '1975-2011'\n",
       "\\end{enumerate*}\n"
      ],
      "text/markdown": [
       "1. '1960-1966'\n",
       "2. '1967-1974'\n",
       "3. '1975-2011'\n",
       "\n",
       "\n"
      ],
      "text/plain": [
       "[1] \"1960-1966\" \"1967-1974\" \"1975-2011\""
      ]
     },
     "metadata": {},
     "output_type": "display_data"
    }
   ],
   "source": [
    "readxl::excel_sheets(\"data/import_data/urbanpop.xlsx\") # gives the names of the excel sheets"
   ]
  },
  {
   "cell_type": "code",
   "execution_count": 70,
   "id": "8ac16cb3-9e51-4946-98e4-2b60ab63d9dc",
   "metadata": {},
   "outputs": [
    {
     "data": {
      "text/html": [
       "<table class=\"dataframe\">\n",
       "<caption>A tibble: 2 × 8</caption>\n",
       "<thead>\n",
       "\t<tr><th scope=col>country</th><th scope=col>1960</th><th scope=col>1961</th><th scope=col>1962</th><th scope=col>1963</th><th scope=col>1964</th><th scope=col>1965</th><th scope=col>1966</th></tr>\n",
       "\t<tr><th scope=col>&lt;chr&gt;</th><th scope=col>&lt;dbl&gt;</th><th scope=col>&lt;dbl&gt;</th><th scope=col>&lt;dbl&gt;</th><th scope=col>&lt;dbl&gt;</th><th scope=col>&lt;dbl&gt;</th><th scope=col>&lt;dbl&gt;</th><th scope=col>&lt;dbl&gt;</th></tr>\n",
       "</thead>\n",
       "<tbody>\n",
       "\t<tr><td>Afghanistan</td><td>769308</td><td>814923.0</td><td>858521.7</td><td>903913.9</td><td>951225.9</td><td>1000582.3</td><td>1058743.5</td></tr>\n",
       "\t<tr><td>Albania    </td><td>494443</td><td>511802.8</td><td>529438.9</td><td>547376.7</td><td>565571.8</td><td> 583982.9</td><td> 602512.2</td></tr>\n",
       "</tbody>\n",
       "</table>\n"
      ],
      "text/latex": [
       "A tibble: 2 × 8\n",
       "\\begin{tabular}{llllllll}\n",
       " country & 1960 & 1961 & 1962 & 1963 & 1964 & 1965 & 1966\\\\\n",
       " <chr> & <dbl> & <dbl> & <dbl> & <dbl> & <dbl> & <dbl> & <dbl>\\\\\n",
       "\\hline\n",
       "\t Afghanistan & 769308 & 814923.0 & 858521.7 & 903913.9 & 951225.9 & 1000582.3 & 1058743.5\\\\\n",
       "\t Albania     & 494443 & 511802.8 & 529438.9 & 547376.7 & 565571.8 &  583982.9 &  602512.2\\\\\n",
       "\\end{tabular}\n"
      ],
      "text/markdown": [
       "\n",
       "A tibble: 2 × 8\n",
       "\n",
       "| country &lt;chr&gt; | 1960 &lt;dbl&gt; | 1961 &lt;dbl&gt; | 1962 &lt;dbl&gt; | 1963 &lt;dbl&gt; | 1964 &lt;dbl&gt; | 1965 &lt;dbl&gt; | 1966 &lt;dbl&gt; |\n",
       "|---|---|---|---|---|---|---|---|\n",
       "| Afghanistan | 769308 | 814923.0 | 858521.7 | 903913.9 | 951225.9 | 1000582.3 | 1058743.5 |\n",
       "| Albania     | 494443 | 511802.8 | 529438.9 | 547376.7 | 565571.8 |  583982.9 |  602512.2 |\n",
       "\n"
      ],
      "text/plain": [
       "  country     1960   1961     1962     1963     1964     1965      1966     \n",
       "1 Afghanistan 769308 814923.0 858521.7 903913.9 951225.9 1000582.3 1058743.5\n",
       "2 Albania     494443 511802.8 529438.9 547376.7 565571.8  583982.9  602512.2"
      ]
     },
     "metadata": {},
     "output_type": "display_data"
    }
   ],
   "source": [
    "urban1 <- readxl::read_excel(\"data/import_data/urbanpop.xlsx\")\n",
    "head(urban1, 2)"
   ]
  },
  {
   "cell_type": "markdown",
   "id": "a358c9fb-1a72-4bfd-a419-35d141021900",
   "metadata": {},
   "source": [
    "☝️ By default it reads the first sheet."
   ]
  },
  {
   "cell_type": "code",
   "execution_count": 84,
   "id": "7e94eda8-40c6-4d95-b69f-6128aef79236",
   "metadata": {},
   "outputs": [
    {
     "data": {
      "text/html": [
       "<table class=\"dataframe\">\n",
       "<caption>A tibble: 2 × 9</caption>\n",
       "<thead>\n",
       "\t<tr><th scope=col>country</th><th scope=col>1967</th><th scope=col>1968</th><th scope=col>1969</th><th scope=col>1970</th><th scope=col>1971</th><th scope=col>1972</th><th scope=col>1973</th><th scope=col>1974</th></tr>\n",
       "\t<tr><th scope=col>&lt;chr&gt;</th><th scope=col>&lt;dbl&gt;</th><th scope=col>&lt;dbl&gt;</th><th scope=col>&lt;dbl&gt;</th><th scope=col>&lt;dbl&gt;</th><th scope=col>&lt;dbl&gt;</th><th scope=col>&lt;dbl&gt;</th><th scope=col>&lt;dbl&gt;</th><th scope=col>&lt;dbl&gt;</th></tr>\n",
       "</thead>\n",
       "<tbody>\n",
       "\t<tr><td>Afghanistan</td><td>1119067.2</td><td>1182159.1</td><td>1248900.8</td><td>1319848.8</td><td>1409001.1</td><td>1502401.8</td><td>1598835</td><td>1696444.8</td></tr>\n",
       "\t<tr><td>Albania    </td><td> 621179.8</td><td> 639964.5</td><td> 658853.1</td><td> 677839.1</td><td> 698932.2</td><td> 720206.6</td><td> 741681</td><td> 763385.5</td></tr>\n",
       "</tbody>\n",
       "</table>\n"
      ],
      "text/latex": [
       "A tibble: 2 × 9\n",
       "\\begin{tabular}{lllllllll}\n",
       " country & 1967 & 1968 & 1969 & 1970 & 1971 & 1972 & 1973 & 1974\\\\\n",
       " <chr> & <dbl> & <dbl> & <dbl> & <dbl> & <dbl> & <dbl> & <dbl> & <dbl>\\\\\n",
       "\\hline\n",
       "\t Afghanistan & 1119067.2 & 1182159.1 & 1248900.8 & 1319848.8 & 1409001.1 & 1502401.8 & 1598835 & 1696444.8\\\\\n",
       "\t Albania     &  621179.8 &  639964.5 &  658853.1 &  677839.1 &  698932.2 &  720206.6 &  741681 &  763385.5\\\\\n",
       "\\end{tabular}\n"
      ],
      "text/markdown": [
       "\n",
       "A tibble: 2 × 9\n",
       "\n",
       "| country &lt;chr&gt; | 1967 &lt;dbl&gt; | 1968 &lt;dbl&gt; | 1969 &lt;dbl&gt; | 1970 &lt;dbl&gt; | 1971 &lt;dbl&gt; | 1972 &lt;dbl&gt; | 1973 &lt;dbl&gt; | 1974 &lt;dbl&gt; |\n",
       "|---|---|---|---|---|---|---|---|---|\n",
       "| Afghanistan | 1119067.2 | 1182159.1 | 1248900.8 | 1319848.8 | 1409001.1 | 1502401.8 | 1598835 | 1696444.8 |\n",
       "| Albania     |  621179.8 |  639964.5 |  658853.1 |  677839.1 |  698932.2 |  720206.6 |  741681 |  763385.5 |\n",
       "\n"
      ],
      "text/plain": [
       "  country     1967      1968      1969      1970      1971      1972     \n",
       "1 Afghanistan 1119067.2 1182159.1 1248900.8 1319848.8 1409001.1 1502401.8\n",
       "2 Albania      621179.8  639964.5  658853.1  677839.1  698932.2  720206.6\n",
       "  1973    1974     \n",
       "1 1598835 1696444.8\n",
       "2  741681  763385.5"
      ]
     },
     "metadata": {},
     "output_type": "display_data"
    }
   ],
   "source": [
    "urban1 <- readxl::read_excel(\"data/import_data/urbanpop.xlsx\",\n",
    "                            sheet = 2,\n",
    "                            col_names = TRUE, # use column names. this is the default\n",
    "                            col_types = NULL, # guess data types. this is the default\n",
    "                            skip = 0) # skip row. this is the default\n",
    "head(urban1, 2)"
   ]
  },
  {
   "cell_type": "markdown",
   "id": "f683f9fd-08c2-4b49-b8a6-a3843d088373",
   "metadata": {},
   "source": [
    "Create a list containing all sheets:"
   ]
  },
  {
   "cell_type": "code",
   "execution_count": 79,
   "id": "b77ae7ab-8e03-4f88-924b-30abdb58d60a",
   "metadata": {},
   "outputs": [
    {
     "name": "stdout",
     "output_type": "stream",
     "text": [
      "List of 3\n",
      " $ : tibble [209 x 8] (S3: tbl_df/tbl/data.frame)\n",
      "  ..$ country: chr [1:209] \"Afghanistan\" \"Albania\" \"Algeria\" \"American Samoa\" ...\n",
      "  ..$ 1960   : num [1:209] 769308 494443 3293999 NA NA ...\n",
      "  ..$ 1961   : num [1:209] 814923 511803 3515148 13660 8724 ...\n",
      "  ..$ 1962   : num [1:209] 858522 529439 3739963 14166 9700 ...\n",
      "  ..$ 1963   : num [1:209] 903914 547377 3973289 14759 10748 ...\n",
      "  ..$ 1964   : num [1:209] 951226 565572 4220987 15396 11866 ...\n",
      "  ..$ 1965   : num [1:209] 1000582 583983 4488176 16045 13053 ...\n",
      "  ..$ 1966   : num [1:209] 1058743 602512 4649105 16693 14217 ...\n",
      " $ : tibble [209 x 9] (S3: tbl_df/tbl/data.frame)\n",
      "  ..$ country: chr [1:209] \"Afghanistan\" \"Albania\" \"Algeria\" \"American Samoa\" ...\n",
      "  ..$ 1967   : num [1:209] 1119067 621180 4826104 17349 15440 ...\n",
      "  ..$ 1968   : num [1:209] 1182159 639964 5017299 17996 16727 ...\n",
      "  ..$ 1969   : num [1:209] 1248901 658853 5219332 18619 18088 ...\n",
      "  ..$ 1970   : num [1:209] 1319849 677839 5429743 19206 19529 ...\n",
      "  ..$ 1971   : num [1:209] 1409001 698932 5619042 19752 20929 ...\n",
      "  ..$ 1972   : num [1:209] 1502402 720207 5815734 20263 22406 ...\n",
      "  ..$ 1973   : num [1:209] 1598835 741681 6020647 20742 23937 ...\n",
      "  ..$ 1974   : num [1:209] 1696445 763385 6235114 21194 25482 ...\n",
      " $ : tibble [209 x 38] (S3: tbl_df/tbl/data.frame)\n",
      "  ..$ country: chr [1:209] \"Afghanistan\" \"Albania\" \"Algeria\" \"American Samoa\" ...\n",
      "  ..$ 1975   : num [1:209] 1793266 785350 6460138 21632 27019 ...\n",
      "  ..$ 1976   : num [1:209] 1905033 807990 6774099 22047 28366 ...\n",
      "  ..$ 1977   : num [1:209] 2021308 830959 7102902 22452 29677 ...\n",
      "  ..$ 1978   : num [1:209] 2142248 854262 7447728 22899 31037 ...\n",
      "  ..$ 1979   : num [1:209] 2268015 877898 7810073 23457 32572 ...\n",
      "  ..$ 1980   : num [1:209] 2398775 901884 8190772 24177 34366 ...\n",
      "  ..$ 1981   : num [1:209] 2493265 927224 8637724 25173 36356 ...\n",
      "  ..$ 1982   : num [1:209] 2590846 952447 9105820 26342 38618 ...\n",
      "  ..$ 1983   : num [1:209] 2691612 978476 9591900 27655 40983 ...\n",
      "  ..$ 1984   : num [1:209] 2795656 1006613 10091289 29062 43207 ...\n",
      "  ..$ 1985   : num [1:209] 2903078 1037541 10600112 30524 45119 ...\n",
      "  ..$ 1986   : num [1:209] 3006983 1072365 11101757 32014 46254 ...\n",
      "  ..$ 1987   : num [1:209] 3113957 1109954 11609104 33548 47019 ...\n",
      "  ..$ 1988   : num [1:209] 3224082 1146633 12122941 35095 47669 ...\n",
      "  ..$ 1989   : num [1:209] 3337444 1177286 12645263 36618 48577 ...\n",
      "  ..$ 1990   : num [1:209] 3454129 1198293 13177079 38088 49982 ...\n",
      "  ..$ 1991   : num [1:209] 3617842 1215445 13708813 39600 51972 ...\n",
      "  ..$ 1992   : num [1:209] 3788685 1222544 14248297 41049 54469 ...\n",
      "  ..$ 1993   : num [1:209] 3966956 1222812 14789176 42443 57079 ...\n",
      "  ..$ 1994   : num [1:209] 4152960 1221364 15322651 43798 59243 ...\n",
      "  ..$ 1995   : num [1:209] 4347018 1222234 15842442 45129 60598 ...\n",
      "  ..$ 1996   : num [1:209] 4531285 1228760 16395553 46343 60927 ...\n",
      "  ..$ 1997   : num [1:209] 4722603 1238090 16935451 47527 60462 ...\n",
      "  ..$ 1998   : num [1:209] 4921227 1250366 17469200 48705 59685 ...\n",
      "  ..$ 1999   : num [1:209] 5127421 1265195 18007937 49906 59281 ...\n",
      "  ..$ 2000   : num [1:209] 5341456 1282223 18560597 51151 59719 ...\n",
      "  ..$ 2001   : num [1:209] 5564492 1315690 19198872 52341 61062 ...\n",
      "  ..$ 2002   : num [1:209] 5795940 1352278 19854835 53583 63212 ...\n",
      "  ..$ 2003   : num [1:209] 6036100 1391143 20529356 54864 65802 ...\n",
      "  ..$ 2004   : num [1:209] 6285281 1430918 21222198 56166 68301 ...\n",
      "  ..$ 2005   : num [1:209] 6543804 1470488 21932978 57474 70329 ...\n",
      "  ..$ 2006   : num [1:209] 6812538 1512255 22625052 58679 71726 ...\n",
      "  ..$ 2007   : num [1:209] 7091245 1553491 23335543 59894 72684 ...\n",
      "  ..$ 2008   : num [1:209] 7380272 1594351 24061749 61118 73335 ...\n",
      "  ..$ 2009   : num [1:209] 7679982 1635262 24799591 62357 73897 ...\n",
      "  ..$ 2010   : num [1:209] 7990746 1676545 25545622 63616 74525 ...\n",
      "  ..$ 2011   : num [1:209] 8316976 1716842 26216968 64817 75207 ...\n"
     ]
    }
   ],
   "source": [
    "pop_list <- lapply(excel_sheets(\"data/import_data/urbanpop.xlsx\"), \n",
    "                   read_excel, \n",
    "                   path = \"data/import_data/urbanpop.xlsx\")\n",
    "str(pop_list)"
   ]
  },
  {
   "cell_type": "markdown",
   "id": "780a75fc-faef-4c67-964d-80d82e7a40d0",
   "metadata": {},
   "source": [
    "<a name=\"toc_447142_1.5\"></a>\n",
    "**1.5 The rio package**"
   ]
  },
  {
   "cell_type": "code",
   "execution_count": 91,
   "id": "2eab6b92-9227-442d-b30b-484f0dacb077",
   "metadata": {},
   "outputs": [
    {
     "data": {
      "text/html": [
       "<table class=\"dataframe\">\n",
       "<caption>A data.frame: 2 × 4</caption>\n",
       "<thead>\n",
       "\t<tr><th></th><th scope=col>Name</th><th scope=col>Address</th><th scope=col>Latitude</th><th scope=col>Longitude</th></tr>\n",
       "\t<tr><th></th><th scope=col>&lt;chr&gt;</th><th scope=col>&lt;chr&gt;</th><th scope=col>&lt;dbl&gt;</th><th scope=col>&lt;dbl&gt;</th></tr>\n",
       "</thead>\n",
       "<tbody>\n",
       "\t<tr><th scope=row>1</th><td>Acacia Ridge Leisure Centre</td><td>1391 Beaudesert Road, Acacia Ridge</td><td>-27.58616</td><td>153.0264</td></tr>\n",
       "\t<tr><th scope=row>2</th><td>Bellbowrie Pool            </td><td>Sugarwood Street, Bellbowrie      </td><td>-27.56547</td><td>152.8911</td></tr>\n",
       "</tbody>\n",
       "</table>\n"
      ],
      "text/latex": [
       "A data.frame: 2 × 4\n",
       "\\begin{tabular}{r|llll}\n",
       "  & Name & Address & Latitude & Longitude\\\\\n",
       "  & <chr> & <chr> & <dbl> & <dbl>\\\\\n",
       "\\hline\n",
       "\t1 & Acacia Ridge Leisure Centre & 1391 Beaudesert Road, Acacia Ridge & -27.58616 & 153.0264\\\\\n",
       "\t2 & Bellbowrie Pool             & Sugarwood Street, Bellbowrie       & -27.56547 & 152.8911\\\\\n",
       "\\end{tabular}\n"
      ],
      "text/markdown": [
       "\n",
       "A data.frame: 2 × 4\n",
       "\n",
       "| <!--/--> | Name &lt;chr&gt; | Address &lt;chr&gt; | Latitude &lt;dbl&gt; | Longitude &lt;dbl&gt; |\n",
       "|---|---|---|---|---|\n",
       "| 1 | Acacia Ridge Leisure Centre | 1391 Beaudesert Road, Acacia Ridge | -27.58616 | 153.0264 |\n",
       "| 2 | Bellbowrie Pool             | Sugarwood Street, Bellbowrie       | -27.56547 | 152.8911 |\n",
       "\n"
      ],
      "text/plain": [
       "  Name                        Address                            Latitude \n",
       "1 Acacia Ridge Leisure Centre 1391 Beaudesert Road, Acacia Ridge -27.58616\n",
       "2 Bellbowrie Pool             Sugarwood Street, Bellbowrie       -27.56547\n",
       "  Longitude\n",
       "1 153.0264 \n",
       "2 152.8911 "
      ]
     },
     "metadata": {},
     "output_type": "display_data"
    }
   ],
   "source": [
    "poolrio <- rio::import(\"data/import_data/swimming_pools.csv\")\n",
    "head(poolrio, 2)"
   ]
  },
  {
   "cell_type": "code",
   "execution_count": 92,
   "id": "16f1e0a9-92ad-4f04-bc07-f07b963d91ae",
   "metadata": {},
   "outputs": [
    {
     "data": {
      "text/html": [
       "<table class=\"dataframe\">\n",
       "<caption>A data.frame: 2 × 8</caption>\n",
       "<thead>\n",
       "\t<tr><th></th><th scope=col>country</th><th scope=col>1960</th><th scope=col>1961</th><th scope=col>1962</th><th scope=col>1963</th><th scope=col>1964</th><th scope=col>1965</th><th scope=col>1966</th></tr>\n",
       "\t<tr><th></th><th scope=col>&lt;chr&gt;</th><th scope=col>&lt;dbl&gt;</th><th scope=col>&lt;dbl&gt;</th><th scope=col>&lt;dbl&gt;</th><th scope=col>&lt;dbl&gt;</th><th scope=col>&lt;dbl&gt;</th><th scope=col>&lt;dbl&gt;</th><th scope=col>&lt;dbl&gt;</th></tr>\n",
       "</thead>\n",
       "<tbody>\n",
       "\t<tr><th scope=row>1</th><td>Afghanistan</td><td>769308</td><td>814923.0</td><td>858521.7</td><td>903913.9</td><td>951225.9</td><td>1000582.3</td><td>1058743.5</td></tr>\n",
       "\t<tr><th scope=row>2</th><td>Albania    </td><td>494443</td><td>511802.8</td><td>529438.9</td><td>547376.7</td><td>565571.8</td><td> 583982.9</td><td> 602512.2</td></tr>\n",
       "</tbody>\n",
       "</table>\n"
      ],
      "text/latex": [
       "A data.frame: 2 × 8\n",
       "\\begin{tabular}{r|llllllll}\n",
       "  & country & 1960 & 1961 & 1962 & 1963 & 1964 & 1965 & 1966\\\\\n",
       "  & <chr> & <dbl> & <dbl> & <dbl> & <dbl> & <dbl> & <dbl> & <dbl>\\\\\n",
       "\\hline\n",
       "\t1 & Afghanistan & 769308 & 814923.0 & 858521.7 & 903913.9 & 951225.9 & 1000582.3 & 1058743.5\\\\\n",
       "\t2 & Albania     & 494443 & 511802.8 & 529438.9 & 547376.7 & 565571.8 &  583982.9 &  602512.2\\\\\n",
       "\\end{tabular}\n"
      ],
      "text/markdown": [
       "\n",
       "A data.frame: 2 × 8\n",
       "\n",
       "| <!--/--> | country &lt;chr&gt; | 1960 &lt;dbl&gt; | 1961 &lt;dbl&gt; | 1962 &lt;dbl&gt; | 1963 &lt;dbl&gt; | 1964 &lt;dbl&gt; | 1965 &lt;dbl&gt; | 1966 &lt;dbl&gt; |\n",
       "|---|---|---|---|---|---|---|---|---|\n",
       "| 1 | Afghanistan | 769308 | 814923.0 | 858521.7 | 903913.9 | 951225.9 | 1000582.3 | 1058743.5 |\n",
       "| 2 | Albania     | 494443 | 511802.8 | 529438.9 | 547376.7 | 565571.8 |  583982.9 |  602512.2 |\n",
       "\n"
      ],
      "text/plain": [
       "  country     1960   1961     1962     1963     1964     1965      1966     \n",
       "1 Afghanistan 769308 814923.0 858521.7 903913.9 951225.9 1000582.3 1058743.5\n",
       "2 Albania     494443 511802.8 529438.9 547376.7 565571.8  583982.9  602512.2"
      ]
     },
     "metadata": {},
     "output_type": "display_data"
    }
   ],
   "source": [
    "urbrio <- rio::import(\"data/import_data/urbanpop.xlsx\")\n",
    "head(urbrio, 2)"
   ]
  },
  {
   "cell_type": "code",
   "execution_count": 94,
   "id": "9565f9f0-73c8-49cc-b55a-c8cdd9b182ef",
   "metadata": {},
   "outputs": [
    {
     "data": {
      "text/html": [
       "<table class=\"dataframe\">\n",
       "<caption>A data.frame: 2 × 3</caption>\n",
       "<thead>\n",
       "\t<tr><th></th><th scope=col>V1</th><th scope=col>V2</th><th scope=col>V3</th></tr>\n",
       "\t<tr><th></th><th scope=col>&lt;chr&gt;</th><th scope=col>&lt;int&gt;</th><th scope=col>&lt;int&gt;</th></tr>\n",
       "</thead>\n",
       "<tbody>\n",
       "\t<tr><th scope=row>1</th><td>Beef</td><td>186</td><td>495</td></tr>\n",
       "\t<tr><th scope=row>2</th><td>Beef</td><td>181</td><td>477</td></tr>\n",
       "</tbody>\n",
       "</table>\n"
      ],
      "text/latex": [
       "A data.frame: 2 × 3\n",
       "\\begin{tabular}{r|lll}\n",
       "  & V1 & V2 & V3\\\\\n",
       "  & <chr> & <int> & <int>\\\\\n",
       "\\hline\n",
       "\t1 & Beef & 186 & 495\\\\\n",
       "\t2 & Beef & 181 & 477\\\\\n",
       "\\end{tabular}\n"
      ],
      "text/markdown": [
       "\n",
       "A data.frame: 2 × 3\n",
       "\n",
       "| <!--/--> | V1 &lt;chr&gt; | V2 &lt;int&gt; | V3 &lt;int&gt; |\n",
       "|---|---|---|---|\n",
       "| 1 | Beef | 186 | 495 |\n",
       "| 2 | Beef | 181 | 477 |\n",
       "\n"
      ],
      "text/plain": [
       "  V1   V2  V3 \n",
       "1 Beef 186 495\n",
       "2 Beef 181 477"
      ]
     },
     "metadata": {},
     "output_type": "display_data"
    }
   ],
   "source": [
    "hotrio <- rio::import(\"data/import_data/hotdogs_slash.txt\", sep = \"/\")\n",
    "head(hotrio, 2)"
   ]
  },
  {
   "cell_type": "markdown",
   "id": "fe5893dc-7f10-4cf8-a006-a025e52a3000",
   "metadata": {},
   "source": [
    "<a name=\"toc_447142_1.6\"></a>\n",
    "**1.6 The readRDS function**\n",
    "\n",
    "From R's base package."
   ]
  },
  {
   "cell_type": "code",
   "execution_count": 3,
   "id": "25d0e1da-9a79-4b68-9929-025ee56d2100",
   "metadata": {},
   "outputs": [
    {
     "data": {
      "text/html": [
       "<table class=\"dataframe\">\n",
       "<caption>A tibble: 1 × 3</caption>\n",
       "<thead>\n",
       "\t<tr><th></th><th scope=col>year</th><th scope=col>name</th><th scope=col>number</th></tr>\n",
       "\t<tr><th></th><th scope=col>&lt;dbl&gt;</th><th scope=col>&lt;chr&gt;</th><th scope=col>&lt;int&gt;</th></tr>\n",
       "</thead>\n",
       "<tbody>\n",
       "\t<tr><th scope=row>1</th><td>1880</td><td>Aaron</td><td>102</td></tr>\n",
       "</tbody>\n",
       "</table>\n"
      ],
      "text/latex": [
       "A tibble: 1 × 3\n",
       "\\begin{tabular}{r|lll}\n",
       "  & year & name & number\\\\\n",
       "  & <dbl> & <chr> & <int>\\\\\n",
       "\\hline\n",
       "\t1 & 1880 & Aaron & 102\\\\\n",
       "\\end{tabular}\n"
      ],
      "text/markdown": [
       "\n",
       "A tibble: 1 × 3\n",
       "\n",
       "| <!--/--> | year &lt;dbl&gt; | name &lt;chr&gt; | number &lt;int&gt; |\n",
       "|---|---|---|---|\n",
       "| 1 | 1880 | Aaron | 102 |\n",
       "\n"
      ],
      "text/plain": [
       "  year name  number\n",
       "1 1880 Aaron 102   "
      ]
     },
     "metadata": {},
     "output_type": "display_data"
    }
   ],
   "source": [
    "baby<- readRDS(\"data/import_data/babynames.RDS\") \n",
    "head(baby, 1)"
   ]
  },
  {
   "cell_type": "markdown",
   "id": "a558bae1-d2b6-404a-bc8f-55e1ed029ace",
   "metadata": {},
   "source": [
    "<a name=\"toc_447142_1.7\"></a>\n",
    "**1.7 Load RData**\n",
    "\n",
    ".RData datasets can be loaded with `load()`, but to use the dataset(s) it contains, we need to know their original name. This can be checked with `ls()`. Find the name(s) in the list, than do what you want with it."
   ]
  },
  {
   "cell_type": "code",
   "execution_count": 5,
   "id": "bfdfa521-29fd-4a43-a7b7-48586e1cf09c",
   "metadata": {},
   "outputs": [
    {
     "data": {
      "text/html": [
       "<style>\n",
       ".list-inline {list-style: none; margin:0; padding: 0}\n",
       ".list-inline>li {display: inline-block}\n",
       ".list-inline>li:not(:last-child)::after {content: \"\\00b7\"; padding: 0 .5ex}\n",
       "</style>\n",
       "<ol class=list-inline><li>'soy'</li><li>'soybean_test'</li><li>'soybean_train'</li></ol>\n"
      ],
      "text/latex": [
       "\\begin{enumerate*}\n",
       "\\item 'soy'\n",
       "\\item 'soybean\\_test'\n",
       "\\item 'soybean\\_train'\n",
       "\\end{enumerate*}\n"
      ],
      "text/markdown": [
       "1. 'soy'\n",
       "2. 'soybean_test'\n",
       "3. 'soybean_train'\n",
       "\n",
       "\n"
      ],
      "text/plain": [
       "[1] \"soy\"           \"soybean_test\"  \"soybean_train\""
      ]
     },
     "metadata": {},
     "output_type": "display_data"
    },
    {
     "data": {
      "text/html": [
       "<table class=\"dataframe\">\n",
       "<caption>A nfnGroupedData: 1 × 5</caption>\n",
       "<thead>\n",
       "\t<tr><th></th><th scope=col>Plot</th><th scope=col>Variety</th><th scope=col>Year</th><th scope=col>Time</th><th scope=col>weight</th></tr>\n",
       "\t<tr><th></th><th scope=col>&lt;ord&gt;</th><th scope=col>&lt;fct&gt;</th><th scope=col>&lt;fct&gt;</th><th scope=col>&lt;dbl&gt;</th><th scope=col>&lt;dbl&gt;</th></tr>\n",
       "</thead>\n",
       "<tbody>\n",
       "\t<tr><th scope=row>5</th><td>1988F1</td><td>F</td><td>1988</td><td>42</td><td>3.56</td></tr>\n",
       "</tbody>\n",
       "</table>\n"
      ],
      "text/latex": [
       "A nfnGroupedData: 1 × 5\n",
       "\\begin{tabular}{r|lllll}\n",
       "  & Plot & Variety & Year & Time & weight\\\\\n",
       "  & <ord> & <fct> & <fct> & <dbl> & <dbl>\\\\\n",
       "\\hline\n",
       "\t5 & 1988F1 & F & 1988 & 42 & 3.56\\\\\n",
       "\\end{tabular}\n"
      ],
      "text/markdown": [
       "\n",
       "A nfnGroupedData: 1 × 5\n",
       "\n",
       "| <!--/--> | Plot &lt;ord&gt; | Variety &lt;fct&gt; | Year &lt;fct&gt; | Time &lt;dbl&gt; | weight &lt;dbl&gt; |\n",
       "|---|---|---|---|---|---|\n",
       "| 5 | 1988F1 | F | 1988 | 42 | 3.56 |\n",
       "\n"
      ],
      "text/plain": [
       "  Plot   Variety Year Time weight\n",
       "5 1988F1 F       1988 42   3.56  "
      ]
     },
     "metadata": {},
     "output_type": "display_data"
    },
    {
     "data": {
      "text/html": [
       "<table class=\"dataframe\">\n",
       "<caption>A nfnGroupedData: 1 × 5</caption>\n",
       "<thead>\n",
       "\t<tr><th></th><th scope=col>Plot</th><th scope=col>Variety</th><th scope=col>Year</th><th scope=col>Time</th><th scope=col>weight</th></tr>\n",
       "\t<tr><th></th><th scope=col>&lt;ord&gt;</th><th scope=col>&lt;fct&gt;</th><th scope=col>&lt;fct&gt;</th><th scope=col>&lt;dbl&gt;</th><th scope=col>&lt;dbl&gt;</th></tr>\n",
       "</thead>\n",
       "<tbody>\n",
       "\t<tr><th scope=row>1</th><td>1988F1</td><td>F</td><td>1988</td><td>14</td><td>0.106</td></tr>\n",
       "</tbody>\n",
       "</table>\n"
      ],
      "text/latex": [
       "A nfnGroupedData: 1 × 5\n",
       "\\begin{tabular}{r|lllll}\n",
       "  & Plot & Variety & Year & Time & weight\\\\\n",
       "  & <ord> & <fct> & <fct> & <dbl> & <dbl>\\\\\n",
       "\\hline\n",
       "\t1 & 1988F1 & F & 1988 & 14 & 0.106\\\\\n",
       "\\end{tabular}\n"
      ],
      "text/markdown": [
       "\n",
       "A nfnGroupedData: 1 × 5\n",
       "\n",
       "| <!--/--> | Plot &lt;ord&gt; | Variety &lt;fct&gt; | Year &lt;fct&gt; | Time &lt;dbl&gt; | weight &lt;dbl&gt; |\n",
       "|---|---|---|---|---|---|\n",
       "| 1 | 1988F1 | F | 1988 | 14 | 0.106 |\n",
       "\n"
      ],
      "text/plain": [
       "  Plot   Variety Year Time weight\n",
       "1 1988F1 F       1988 14   0.106 "
      ]
     },
     "metadata": {},
     "output_type": "display_data"
    }
   ],
   "source": [
    "load(\"data/import_data/Soybean.RData\")\n",
    "ls()\n",
    "head(soybean_test, 1)\n",
    "head(soybean_train, 1)"
   ]
  },
  {
   "cell_type": "markdown",
   "id": "462bca8e-7c7b-4045-9a71-c2c094f8120e",
   "metadata": {
    "tags": []
   },
   "source": [
    "<a name=\"toc_447142_2\"></a>\n",
    "## 2.   The janitor package\n",
    "\n",
    "Janitor is a tidyverse oriented package for data cleaning. Some of its useful functions:\n",
    "\n",
    "- `clean_names()` - handles various issues related to the column names of a dataset such as \n",
    "     - converting all column names to a consistent **snake_case** format\n",
    "     - Handling special characters and spaces in the names\n",
    "     - Handling duplicate column names by appending numbers\n",
    "-  `get_dupes()` -  identify and hunt down any duplicate records and then determine if we keep those for further analysis\n",
    "- `remove_empty()` - Similar to the `na.omit` function, but easier to remember. By default, the function removes both empty rows and columns which can be specified to our preferences.\n",
    "- `excel_numeric_to_date()` - deals with encoded date values from Excel like 41103."
   ]
  },
  {
   "cell_type": "code",
   "execution_count": 120,
   "id": "c6846fa5-dfd9-423d-91b2-949f14ac7b84",
   "metadata": {},
   "outputs": [
    {
     "name": "stderr",
     "output_type": "stream",
     "text": [
      "\u001b[1m\u001b[22mNew names:\n",
      "\u001b[36m*\u001b[39m `` -> `...9`\n"
     ]
    },
    {
     "data": {
      "text/html": [
       "<table class=\"dataframe\">\n",
       "<caption>A tibble: 1 × 45</caption>\n",
       "<thead>\n",
       "\t<tr><th scope=col>analyte</th><th scope=col>barcode_id</th><th scope=col>biological_matrix</th><th scope=col>biological_matrix_abbreviation</th><th scope=col>concentration_ng_m_l</th><th scope=col>concentration_units</th><th scope=col>custom_id</th><th scope=col>day_nominal</th><th scope=col>x9</th><th scope=col>dose</th><th scope=col>⋯</th><th scope=col>subject_alias</th><th scope=col>subject_group</th><th scope=col>time_text</th><th scope=col>treatment_description</th><th scope=col>treatment_id</th><th scope=col>uloq</th><th scope=col>visit</th><th scope=col>sample_comments</th><th scope=col>sample_condition</th><th scope=col>assay_date_time</th></tr>\n",
       "\t<tr><th scope=col>&lt;chr&gt;</th><th scope=col>&lt;chr&gt;</th><th scope=col>&lt;chr&gt;</th><th scope=col>&lt;chr&gt;</th><th scope=col>&lt;chr&gt;</th><th scope=col>&lt;chr&gt;</th><th scope=col>&lt;lgl&gt;</th><th scope=col>&lt;lgl&gt;</th><th scope=col>&lt;lgl&gt;</th><th scope=col>&lt;dbl&gt;</th><th scope=col>⋯</th><th scope=col>&lt;chr&gt;</th><th scope=col>&lt;chr&gt;</th><th scope=col>&lt;chr&gt;</th><th scope=col>&lt;chr&gt;</th><th scope=col>&lt;chr&gt;</th><th scope=col>&lt;chr&gt;</th><th scope=col>&lt;lgl&gt;</th><th scope=col>&lt;lgl&gt;</th><th scope=col>&lt;chr&gt;</th><th scope=col>&lt;chr&gt;</th></tr>\n",
       "</thead>\n",
       "<tbody>\n",
       "\t<tr><td>RGH-857</td><td>2770000001</td><td>Plasma</td><td>P</td><td>BLQ&lt;(0.100)</td><td>ng/mL</td><td>NA</td><td>NA</td><td>NA</td><td>0.1</td><td>⋯</td><td>A1005</td><td>PartAA1</td><td>pre-dose</td><td>PartAA1</td><td>PartAA1</td><td>100.159ng/mL</td><td>NA</td><td>NA</td><td>OK</td><td>27-Sep-2021</td></tr>\n",
       "</tbody>\n",
       "</table>\n"
      ],
      "text/latex": [
       "A tibble: 1 × 45\n",
       "\\begin{tabular}{lllllllllllllllllllll}\n",
       " analyte & barcode\\_id & biological\\_matrix & biological\\_matrix\\_abbreviation & concentration\\_ng\\_m\\_l & concentration\\_units & custom\\_id & day\\_nominal & x9 & dose & ⋯ & subject\\_alias & subject\\_group & time\\_text & treatment\\_description & treatment\\_id & uloq & visit & sample\\_comments & sample\\_condition & assay\\_date\\_time\\\\\n",
       " <chr> & <chr> & <chr> & <chr> & <chr> & <chr> & <lgl> & <lgl> & <lgl> & <dbl> & ⋯ & <chr> & <chr> & <chr> & <chr> & <chr> & <chr> & <lgl> & <lgl> & <chr> & <chr>\\\\\n",
       "\\hline\n",
       "\t RGH-857 & 2770000001 & Plasma & P & BLQ<(0.100) & ng/mL & NA & NA & NA & 0.1 & ⋯ & A1005 & PartAA1 & pre-dose & PartAA1 & PartAA1 & 100.159ng/mL & NA & NA & OK & 27-Sep-2021\\\\\n",
       "\\end{tabular}\n"
      ],
      "text/markdown": [
       "\n",
       "A tibble: 1 × 45\n",
       "\n",
       "| analyte &lt;chr&gt; | barcode_id &lt;chr&gt; | biological_matrix &lt;chr&gt; | biological_matrix_abbreviation &lt;chr&gt; | concentration_ng_m_l &lt;chr&gt; | concentration_units &lt;chr&gt; | custom_id &lt;lgl&gt; | day_nominal &lt;lgl&gt; | x9 &lt;lgl&gt; | dose &lt;dbl&gt; | ⋯ ⋯ | subject_alias &lt;chr&gt; | subject_group &lt;chr&gt; | time_text &lt;chr&gt; | treatment_description &lt;chr&gt; | treatment_id &lt;chr&gt; | uloq &lt;chr&gt; | visit &lt;lgl&gt; | sample_comments &lt;lgl&gt; | sample_condition &lt;chr&gt; | assay_date_time &lt;chr&gt; |\n",
       "|---|---|---|---|---|---|---|---|---|---|---|---|---|---|---|---|---|---|---|---|---|\n",
       "| RGH-857 | 2770000001 | Plasma | P | BLQ&lt;(0.100) | ng/mL | NA | NA | NA | 0.1 | ⋯ | A1005 | PartAA1 | pre-dose | PartAA1 | PartAA1 | 100.159ng/mL | NA | NA | OK | 27-Sep-2021 |\n",
       "\n"
      ],
      "text/plain": [
       "  analyte barcode_id biological_matrix biological_matrix_abbreviation\n",
       "1 RGH-857 2770000001 Plasma            P                             \n",
       "  concentration_ng_m_l concentration_units custom_id day_nominal x9 dose\n",
       "1 BLQ<(0.100)          ng/mL               NA        NA          NA 0.1 \n",
       "  <U+22EF>        subject_alias subject_group time_text treatment_description\n",
       "1 <U+22EF> A1005         PartAA1       pre-dose  PartAA1              \n",
       "  treatment_id uloq         visit sample_comments sample_condition\n",
       "1 PartAA1      100.159ng/mL NA    NA              OK              \n",
       "  assay_date_time\n",
       "1 27-Sep-2021    "
      ]
     },
     "metadata": {},
     "output_type": "display_data"
    }
   ],
   "source": [
    "urban5 <- readxl::read_excel(\"data/import_data/watson.xls\", skip = 2)\n",
    "urban6 <- janitor::clean_names(urban5)\n",
    "head(urban6,1)"
   ]
  },
  {
   "cell_type": "markdown",
   "id": "33e2e356-7def-4e92-a028-63fa3d5f718d",
   "metadata": {
    "tags": []
   },
   "source": [
    "<a name=\"toc_447142_3\"></a>\n",
    "## 3.   Reproducible Excel work with XLConnect\n",
    "\n",
    "Let's say that you're working in a big company that uses Excel for all there analysis work. You are forced to work on and deliver these Excel files, but you want to work on the data through R, so that you can modify the files in a reproducible way. Fortunately, the `XLConnect package` that does just that!\n",
    "\n",
    "You can think of `XLConnect` as a bridge between Excel and R. That means you can do practically any action you could do within Excel but you do it from inside R. Editing Excel sheets, formatting data and adapting entire calculation sheets, you name it. `XLConnect` works with xls and xlsx files, and has easy-to-use functions. To get this all working so smoothly, XLConnect depends on Java. This is totally abstracted away for us end-users, but installing the package can have its difficulties.\n",
    "\n",
    "<u>Installation:</u>\n",
    "\n",
    "If you're starting from a reasonably clean computing environment, this traditional `install.packages()` command will work fine. From the messaging, you'll see that it also installs the `XLConnectJars` package containing Java files and class definitions that `XLConnect` depends on. If it wasn't installed already, the `rJava` package will also be installed, providing a low-level R to Java interface that `XLConnect` uses. If something goes wrong during installation, it's possible that you first have to install the **Java Development Kit**, or JDK, from Oracle's web site. If things still don't work out, I suggest you google the errors you're getting: there's quite some people using this package so help is never far away.\n",
    "\n",
    "<u>Functions:</u>\n",
    "\n",
    "- `loadWorkbook()` - creates a workbook object\n",
    "- `getSheets()` - similar to `excel_sheets()`\n",
    "- `readWorksheet()` - import data\n",
    "- `createSheet()` - creates a new excel sheet that we can populate\n",
    "- `writeWorksheet()` - add new data to the worksheet\n",
    "- `saveWorkbook()` - save the modifications\n",
    "- `renameSheet()` - rename sheets in a workbook\n",
    "- `removeSheet()` - remove sheets from a workbook\n",
    "\n",
    "<u>Usage:</u>\n",
    "It is not woking in this notebook so the code to be used is in the markdown below:\n",
    "\n",
    "```r\n",
    "# Simple data importing steps, nothing new\n",
    "book <- loadWorkbook(\"data/import_data/urbanpop.xlsx\")\n",
    "getSheets(book)\n",
    "readWorksheet(book, sheet = \"1967-1974\",\n",
    "             startRow = 3,\n",
    "             endRow = 10,\n",
    "             startCol = 2,\n",
    "             header = FALSE)\n",
    "\n",
    "# Adapting sheets!\n",
    "createSheet(book, name = \"2012-2023\")\n",
    "writeWorksheet(book, pop_1223, sheet = \"2012-2023\")\n",
    "saveWorkbook(book, file = \"data/import_data/urbanpop2.xlsx\") # always save the workbook to see the changes you have done\n",
    "\n",
    "# Some more manipulation\n",
    "renameSheet(book, \"2012-2023\", \"now\")\n",
    "removeSheet(book, sheet = \"now\")\n",
    "```\n"
   ]
  },
  {
   "cell_type": "markdown",
   "id": "ede1aa72-435b-46d4-8bfe-5202b3b4633b",
   "metadata": {},
   "source": [
    "<a name=\"toc_447142_4\"></a>\n",
    "## 4.   Importing data from databases\n",
    "\n",
    "Depending on the type of database you want to connect to, you'll have to use different packages:\n",
    "- `RMySQL` - for MySQL relational databases. It automatically installs the `DBI` package as well, which is an interface, while `RMySQL` is the implementation.\n",
    "- `RpostgreSQL` - for postgreSQL\n",
    "- `ROracle` - for Oracle"
   ]
  },
  {
   "cell_type": "markdown",
   "id": "1a1aa39b-8715-4a75-85c6-2bb2d2aa4424",
   "metadata": {},
   "source": [
    "<a name=\"toc_447142_4.1\"></a>\n",
    "**4.1 Connecting to a database**\n",
    "\n",
    "- `dbConnect` - creates a connection to the remote MySQL database. \n",
    "    - The first argument specifies the driver that you will use to connect to the MySQL database.The MySQL function from the RMySQL package simply constructs a driver for us that dbConnect can use. \n",
    "    - Next, you have to specify the database name, \n",
    "    - where the database is hosted, \n",
    "    - through which port you want to connect, \n",
    "    - and finally the credentials to authenticate yourself. \n",
    "    \n",
    "The result of the `dbConnect` call, is a **DBI connection object**. You'll need to pass this object to whatever function you're using to interact with the database."
   ]
  },
  {
   "cell_type": "code",
   "execution_count": 142,
   "id": "60e7b9be-0d91-439f-b6cb-66c7f89c8f42",
   "metadata": {},
   "outputs": [
    {
     "data": {
      "text/html": [
       "'MySQLConnection'"
      ],
      "text/latex": [
       "'MySQLConnection'"
      ],
      "text/markdown": [
       "'MySQLConnection'"
      ],
      "text/plain": [
       "[1] \"MySQLConnection\"\n",
       "attr(,\"package\")\n",
       "[1] \"RMySQL\""
      ]
     },
     "metadata": {},
     "output_type": "display_data"
    }
   ],
   "source": [
    "con <- dbConnect(RMySQL::MySQL(),\n",
    "                 dbname = \"company\", \n",
    "                 host = \"courses.csrrinzqubik.us-east-1.rds.amazonaws.com\",\n",
    "                 port = 3306,\n",
    "                 user = \"student\",\n",
    "                 password = \"datacamp\")\n",
    "\n",
    "class(con)"
   ]
  },
  {
   "cell_type": "markdown",
   "id": "6549eb7b-0c98-49bb-a542-32658be8f1d2",
   "metadata": {},
   "source": [
    "<a name=\"toc_447142_4.2\"></a>\n",
    "**4.2 Import table from a database**\n",
    "- `dbListTables()` - lists all the table in the database. \n",
    "- `dbReadTable()` - read the data from one of these tables\n",
    "\n",
    "DBI also specifies functions to create new tables, store new data in tables and to remove tables."
   ]
  },
  {
   "cell_type": "code",
   "execution_count": 129,
   "id": "ed58d31d-8c71-4d61-afa9-017f13fb5c3c",
   "metadata": {},
   "outputs": [
    {
     "data": {
      "text/html": [
       "<style>\n",
       ".list-inline {list-style: none; margin:0; padding: 0}\n",
       ".list-inline>li {display: inline-block}\n",
       ".list-inline>li:not(:last-child)::after {content: \"\\00b7\"; padding: 0 .5ex}\n",
       "</style>\n",
       "<ol class=list-inline><li>'employees'</li><li>'products'</li><li>'sales'</li></ol>\n"
      ],
      "text/latex": [
       "\\begin{enumerate*}\n",
       "\\item 'employees'\n",
       "\\item 'products'\n",
       "\\item 'sales'\n",
       "\\end{enumerate*}\n"
      ],
      "text/markdown": [
       "1. 'employees'\n",
       "2. 'products'\n",
       "3. 'sales'\n",
       "\n",
       "\n"
      ],
      "text/plain": [
       "[1] \"employees\" \"products\"  \"sales\"    "
      ]
     },
     "metadata": {},
     "output_type": "display_data"
    }
   ],
   "source": [
    "dbListTables(con)"
   ]
  },
  {
   "cell_type": "code",
   "execution_count": 130,
   "id": "556d1a4a-034a-489c-a939-4c912b129c91",
   "metadata": {},
   "outputs": [
    {
     "data": {
      "text/html": [
       "<table class=\"dataframe\">\n",
       "<caption>A data.frame: 5 × 3</caption>\n",
       "<thead>\n",
       "\t<tr><th scope=col>id</th><th scope=col>name</th><th scope=col>started_at</th></tr>\n",
       "\t<tr><th scope=col>&lt;dbl&gt;</th><th scope=col>&lt;chr&gt;</th><th scope=col>&lt;chr&gt;</th></tr>\n",
       "</thead>\n",
       "<tbody>\n",
       "\t<tr><td>1</td><td>Tom    </td><td>2009-05-17</td></tr>\n",
       "\t<tr><td>4</td><td>Frank  </td><td>2012-07-06</td></tr>\n",
       "\t<tr><td>6</td><td>Julie  </td><td>2013-01-01</td></tr>\n",
       "\t<tr><td>7</td><td>Heather</td><td>2014-11-23</td></tr>\n",
       "\t<tr><td>9</td><td>John   </td><td>2015-05-12</td></tr>\n",
       "</tbody>\n",
       "</table>\n"
      ],
      "text/latex": [
       "A data.frame: 5 × 3\n",
       "\\begin{tabular}{lll}\n",
       " id & name & started\\_at\\\\\n",
       " <dbl> & <chr> & <chr>\\\\\n",
       "\\hline\n",
       "\t 1 & Tom     & 2009-05-17\\\\\n",
       "\t 4 & Frank   & 2012-07-06\\\\\n",
       "\t 6 & Julie   & 2013-01-01\\\\\n",
       "\t 7 & Heather & 2014-11-23\\\\\n",
       "\t 9 & John    & 2015-05-12\\\\\n",
       "\\end{tabular}\n"
      ],
      "text/markdown": [
       "\n",
       "A data.frame: 5 × 3\n",
       "\n",
       "| id &lt;dbl&gt; | name &lt;chr&gt; | started_at &lt;chr&gt; |\n",
       "|---|---|---|\n",
       "| 1 | Tom     | 2009-05-17 |\n",
       "| 4 | Frank   | 2012-07-06 |\n",
       "| 6 | Julie   | 2013-01-01 |\n",
       "| 7 | Heather | 2014-11-23 |\n",
       "| 9 | John    | 2015-05-12 |\n",
       "\n"
      ],
      "text/plain": [
       "  id name    started_at\n",
       "1 1  Tom     2009-05-17\n",
       "2 4  Frank   2012-07-06\n",
       "3 6  Julie   2013-01-01\n",
       "4 7  Heather 2014-11-23\n",
       "5 9  John    2015-05-12"
      ]
     },
     "metadata": {},
     "output_type": "display_data"
    }
   ],
   "source": [
    "dbReadTable(con, \"employees\")"
   ]
  },
  {
   "cell_type": "markdown",
   "id": "ea311d5f-c0b5-4206-9a8f-4aa3f374d069",
   "metadata": {},
   "source": [
    "<a name=\"toc_447142_4.3\"></a>\n",
    "**4.3 Using SQL Queries from inside R**\n",
    "- `dbGetQuery()` - allowes SQL use inside R\n",
    "\n",
    "<u>Why use SQL?</u>\n",
    "\n",
    "To solve the task you want, you can read the entire table to R, and then subset...etc it using R functions. The other way is to use SQL code within the `dbGetQuery` function. The result of the two approaches might seem similar, but the conceptual difference is huge: With the second approach, you're sending a SQL query to the database which runs on the database side, and only the results are imported into R. If you're dealing with huge tables, this approach is way more efficient!"
   ]
  },
  {
   "cell_type": "code",
   "execution_count": 133,
   "id": "3ea0f2e1-903a-4c62-9641-64a3d25abee6",
   "metadata": {},
   "outputs": [
    {
     "data": {
      "text/html": [
       "<table class=\"dataframe\">\n",
       "<caption>A data.frame: 3 × 1</caption>\n",
       "<thead>\n",
       "\t<tr><th scope=col>name</th></tr>\n",
       "\t<tr><th scope=col>&lt;chr&gt;</th></tr>\n",
       "</thead>\n",
       "<tbody>\n",
       "\t<tr><td>Julie  </td></tr>\n",
       "\t<tr><td>Heather</td></tr>\n",
       "\t<tr><td>John   </td></tr>\n",
       "</tbody>\n",
       "</table>\n"
      ],
      "text/latex": [
       "A data.frame: 3 × 1\n",
       "\\begin{tabular}{l}\n",
       " name\\\\\n",
       " <chr>\\\\\n",
       "\\hline\n",
       "\t Julie  \\\\\n",
       "\t Heather\\\\\n",
       "\t John   \\\\\n",
       "\\end{tabular}\n"
      ],
      "text/markdown": [
       "\n",
       "A data.frame: 3 × 1\n",
       "\n",
       "| name &lt;chr&gt; |\n",
       "|---|\n",
       "| Julie   |\n",
       "| Heather |\n",
       "| John    |\n",
       "\n"
      ],
      "text/plain": [
       "  name   \n",
       "1 Julie  \n",
       "2 Heather\n",
       "3 John   "
      ]
     },
     "metadata": {},
     "output_type": "display_data"
    }
   ],
   "source": [
    "dbGetQuery(con, \n",
    "           \"SELECT name FROM employees\n",
    "            WHERE started_at > '2012-09-01'\")"
   ]
  },
  {
   "cell_type": "markdown",
   "id": "dac5da28-5e33-4c5b-97e5-b48579c8c1fe",
   "metadata": {},
   "source": [
    "If we need to load in tons of records, we may want to specify a maximum number of records to retrieve per fetch. We can do thi with the below functions:\n",
    "- `dbSendQuery()` - sends a query and returns a result, but it does not actually contain any records.\n",
    "- `dbFetch()` - contains the records we wanted to import\n",
    "- `dbClearResult()` - manually clears the result\n",
    "\n",
    " The combination of `dbSendQuery`, `dbFetch` and, `dbClearResult` gives the exact same result as `dbGetQuery` but now we can work chunk by chunk. If you're working on a super complicated algorithm that involves millions of database records, you might want to consider a treatment of data in chunks."
   ]
  },
  {
   "cell_type": "code",
   "execution_count": 143,
   "id": "4e34d9c4-4c80-4966-8cd8-c9f8f69370b3",
   "metadata": {},
   "outputs": [
    {
     "data": {
      "text/plain": [
       "<MySQLResult:1,4,0>"
      ]
     },
     "metadata": {},
     "output_type": "display_data"
    }
   ],
   "source": [
    "res <- dbSendQuery(con, \n",
    "           \"SELECT name FROM employees\n",
    "            WHERE started_at > '2012-09-01'\")\n",
    "res"
   ]
  },
  {
   "cell_type": "code",
   "execution_count": 144,
   "id": "37e3fb6e-b564-42a7-a141-b1494216a7bb",
   "metadata": {},
   "outputs": [
    {
     "data": {
      "text/html": [
       "<table class=\"dataframe\">\n",
       "<caption>A data.frame: 3 × 1</caption>\n",
       "<thead>\n",
       "\t<tr><th scope=col>name</th></tr>\n",
       "\t<tr><th scope=col>&lt;chr&gt;</th></tr>\n",
       "</thead>\n",
       "<tbody>\n",
       "\t<tr><td>Julie  </td></tr>\n",
       "\t<tr><td>Heather</td></tr>\n",
       "\t<tr><td>John   </td></tr>\n",
       "</tbody>\n",
       "</table>\n"
      ],
      "text/latex": [
       "A data.frame: 3 × 1\n",
       "\\begin{tabular}{l}\n",
       " name\\\\\n",
       " <chr>\\\\\n",
       "\\hline\n",
       "\t Julie  \\\\\n",
       "\t Heather\\\\\n",
       "\t John   \\\\\n",
       "\\end{tabular}\n"
      ],
      "text/markdown": [
       "\n",
       "A data.frame: 3 × 1\n",
       "\n",
       "| name &lt;chr&gt; |\n",
       "|---|\n",
       "| Julie   |\n",
       "| Heather |\n",
       "| John    |\n",
       "\n"
      ],
      "text/plain": [
       "  name   \n",
       "1 Julie  \n",
       "2 Heather\n",
       "3 John   "
      ]
     },
     "metadata": {},
     "output_type": "display_data"
    }
   ],
   "source": [
    "dbFetch(res)"
   ]
  },
  {
   "cell_type": "code",
   "execution_count": 147,
   "id": "a7505201-627c-4bba-b616-94abe4c3e654",
   "metadata": {},
   "outputs": [
    {
     "name": "stdout",
     "output_type": "stream",
     "text": [
      "   name\n",
      "1 Julie\n",
      "     name\n",
      "1 Heather\n",
      "  name\n",
      "1 John\n",
      "[1] name\n",
      "<0 rows> (or 0-length row.names)\n"
     ]
    }
   ],
   "source": [
    "# Now fetch data record by record\n",
    "res <- dbSendQuery(con, \n",
    "           \"SELECT name FROM employees\n",
    "            WHERE started_at > '2012-09-01'\")\n",
    "\n",
    "while(!dbHasCompleted(res)){\n",
    "    chunk <- dbFetch(res, n = 1)\n",
    "    print(chunk)\n",
    "}"
   ]
  },
  {
   "cell_type": "code",
   "execution_count": 139,
   "id": "c56583d5-2541-46bd-9646-bc998e980318",
   "metadata": {},
   "outputs": [
    {
     "data": {
      "text/html": [
       "TRUE"
      ],
      "text/latex": [
       "TRUE"
      ],
      "text/markdown": [
       "TRUE"
      ],
      "text/plain": [
       "[1] TRUE"
      ]
     },
     "metadata": {},
     "output_type": "display_data"
    }
   ],
   "source": [
    "dbClearResult(res)"
   ]
  },
  {
   "cell_type": "markdown",
   "id": "814766de-bb9f-4d6c-96ce-4f082884b937",
   "metadata": {},
   "source": [
    "<a name=\"toc_447142_4.4\"></a>\n",
    "**4.4 Disconnect from a database**\n",
    "\n",
    "It's always polite to explicitly disconnect your database after you're done. \n",
    "\n",
    "- `dbDisconnect()` - read the data from one of these tables\n",
    "con # no longer available"
   ]
  },
  {
   "cell_type": "markdown",
   "id": "b13ca9e5-0bac-46dc-a095-64158e57d26d",
   "metadata": {
    "tags": []
   },
   "source": [
    "<a name=\"toc_447142_4\"></a>\n",
    "## 5.   Importing data from the web\n",
    "\n",
    "To read files from the web, we can use most of the functions mentioned earlier with the URL link to the file. One exception is `readxl()`, that currently does not work with URLs. Instead, \n",
    "\n",
    "To actually download files from the web to our folder, we can use `download.file()` from the utis package to download excel files. On Windows, always use ` quiet = TRUE, mode = \"wb\"`, otherwise the downloaded file will be corrupted.\n",
    "\n",
    "Nowadays, there are many websites that only accept secure connections. You can only visit these websites, or download their files with the **https** prefix. Luckily, we can use the standard importing functions with https:// connections as well since R version 3.2.2."
   ]
  },
  {
   "cell_type": "markdown",
   "id": "4841522c-0928-4922-9b99-be962ea2caf2",
   "metadata": {},
   "source": [
    "<a name=\"toc_447142_5.1\"></a>\n",
    "**5.1.   Read and download files from the web**"
   ]
  },
  {
   "cell_type": "code",
   "execution_count": 150,
   "id": "487e9efc-8634-42d6-b86c-069a136c7197",
   "metadata": {},
   "outputs": [
    {
     "data": {
      "text/html": [
       "<table class=\"dataframe\">\n",
       "<caption>A data.frame: 1 × 4</caption>\n",
       "<thead>\n",
       "\t<tr><th></th><th scope=col>Name</th><th scope=col>Address</th><th scope=col>Latitude</th><th scope=col>Longitude</th></tr>\n",
       "\t<tr><th></th><th scope=col>&lt;chr&gt;</th><th scope=col>&lt;chr&gt;</th><th scope=col>&lt;dbl&gt;</th><th scope=col>&lt;dbl&gt;</th></tr>\n",
       "</thead>\n",
       "<tbody>\n",
       "\t<tr><th scope=row>1</th><td>Acacia Ridge Leisure Centre</td><td>1391 Beaudesert Road, Acacia Ridge</td><td>-27.58616</td><td>153.0264</td></tr>\n",
       "</tbody>\n",
       "</table>\n"
      ],
      "text/latex": [
       "A data.frame: 1 × 4\n",
       "\\begin{tabular}{r|llll}\n",
       "  & Name & Address & Latitude & Longitude\\\\\n",
       "  & <chr> & <chr> & <dbl> & <dbl>\\\\\n",
       "\\hline\n",
       "\t1 & Acacia Ridge Leisure Centre & 1391 Beaudesert Road, Acacia Ridge & -27.58616 & 153.0264\\\\\n",
       "\\end{tabular}\n"
      ],
      "text/markdown": [
       "\n",
       "A data.frame: 1 × 4\n",
       "\n",
       "| <!--/--> | Name &lt;chr&gt; | Address &lt;chr&gt; | Latitude &lt;dbl&gt; | Longitude &lt;dbl&gt; |\n",
       "|---|---|---|---|---|\n",
       "| 1 | Acacia Ridge Leisure Centre | 1391 Beaudesert Road, Acacia Ridge | -27.58616 | 153.0264 |\n",
       "\n"
      ],
      "text/plain": [
       "  Name                        Address                            Latitude \n",
       "1 Acacia Ridge Leisure Centre 1391 Beaudesert Road, Acacia Ridge -27.58616\n",
       "  Longitude\n",
       "1 153.0264 "
      ]
     },
     "metadata": {},
     "output_type": "display_data"
    }
   ],
   "source": [
    "head(read.csv(\"https://s3.amazonaws.com/assets.datacamp.com/production/course_1478/datasets/swimming_pools.csv\"), 1)"
   ]
  },
  {
   "cell_type": "code",
   "execution_count": 159,
   "id": "034474d1-5c96-4cd6-8e3d-e5e8aee39cca",
   "metadata": {},
   "outputs": [],
   "source": [
    "# Download excel files\n",
    "\n",
    "url_xls <- \"http://s3.amazonaws.com/assets.datacamp.com/production/course_1478/datasets/latitude.xls\"\n",
    "download.file(url_xls, destfile = \"data/import_data/local_latitude.xls\", quiet = TRUE, mode = \"wb\")"
   ]
  },
  {
   "cell_type": "markdown",
   "id": "5984c8cd-fe83-456a-a8f8-2f950413a939",
   "metadata": {},
   "source": [
    "<a name=\"toc_447142_5.2\"></a>\n",
    "**5.2.   APIs & JSON**\n",
    "\n",
    "A web **API (Application Programming Interface)** is an interface to get data and processed information from a server or to add data to a server, through **HTTP Methods**.\n",
    "\n",
    "A **JSON object** looks like this: `{\"name\":\"Chateau Migraine\", \"year\":1997, \"alcohol_pct\":12.4, \"color\":\"red\", \"awarded\":false}` It's unordered collection of name/value pairs, where the name is a string and the value can be a string, a number, boolean, null, another JSON object, or a JSON array.\n",
    "\n",
    "A **JSON array** looks like this: `[4, \"a\", false, 6, null, 5, 10]` It is an ordered sequence of zero or more values that can contain elements of different types. Calling `fromJSON` on this JSON structure results in a vector.\n",
    "\n",
    "Some examples:\n",
    "- Twitter: https://developer.twitter.com/en/docs. After authentication, you can simply request particular URLs from twitter with the **GET request**, allowing you to get the tweets for a particular person for example. Twitter does all the work for you on their servers, and spits out the information you need. You can also use the API to programatically place comments on somebody's tweets for example. The possible applications are endless. Say you're an avid tweeter and want to find out which tweets had the most impact. Maybe some of your more controversial tweets caused a lot of retweets and reactions? With the raw data from Twitter's API you can research this. \n",
    "- IMDB: https://omdbapi.com/"
   ]
  },
  {
   "cell_type": "code",
   "execution_count": 172,
   "id": "24d3bf31-d592-4040-8450-6bed6adfe2b8",
   "metadata": {},
   "outputs": [
    {
     "name": "stdout",
     "output_type": "stream",
     "text": [
      "List of 5\n",
      " $ name       : chr \"Chateau Migraine\"\n",
      " $ year       : int 1997\n",
      " $ alcohol_pct: num 12.4\n",
      " $ color      : chr \"red\"\n",
      " $ awarded    : logi FALSE\n"
     ]
    }
   ],
   "source": [
    "wine_json <- '{ \n",
    "                \"name\": \"Chateau Migraine\", \n",
    "                \"year\": 1997, \n",
    "                \"alcohol_pct\": 12.4, \n",
    "                \"color\": \"red\", \n",
    "                \"awarded\": false\n",
    "               }' \n",
    "\n",
    "wine <- jsonlite::fromJSON(wine_json) # Convert wine_json into a list: wine\n",
    "\n",
    "str(wine)"
   ]
  },
  {
   "cell_type": "code",
   "execution_count": 170,
   "id": "41f36273-916f-48ef-bc76-66fb44ff2172",
   "metadata": {},
   "outputs": [
    {
     "data": {
      "text/html": [
       "<style>\n",
       ".list-inline {list-style: none; margin:0; padding: 0}\n",
       ".list-inline>li {display: inline-block}\n",
       ".list-inline>li:not(:last-child)::after {content: \"\\00b7\"; padding: 0 .5ex}\n",
       "</style>\n",
       "<ol class=list-inline><li>'4'</li><li>'a'</li><li>'FALSE'</li><li>'6'</li><li>NA</li><li>'5'</li><li>'10'</li></ol>\n"
      ],
      "text/latex": [
       "\\begin{enumerate*}\n",
       "\\item '4'\n",
       "\\item 'a'\n",
       "\\item 'FALSE'\n",
       "\\item '6'\n",
       "\\item NA\n",
       "\\item '5'\n",
       "\\item '10'\n",
       "\\end{enumerate*}\n"
      ],
      "text/markdown": [
       "1. '4'\n",
       "2. 'a'\n",
       "3. 'FALSE'\n",
       "4. '6'\n",
       "5. NA\n",
       "6. '5'\n",
       "7. '10'\n",
       "\n",
       "\n"
      ],
      "text/plain": [
       "[1] \"4\"     \"a\"     \"FALSE\" \"6\"     NA      \"5\"     \"10\"   "
      ]
     },
     "metadata": {},
     "output_type": "display_data"
    }
   ],
   "source": [
    "jsonlite::fromJSON('[4, \"a\", false, 6, null, 5, 10]') # it converts everything to character"
   ]
  },
  {
   "cell_type": "code",
   "execution_count": 168,
   "id": "4b6e991e-506a-45e1-8996-02ec915be9b4",
   "metadata": {},
   "outputs": [
    {
     "data": {
      "text/html": [
       "'Star Wars: Episode IV - A New Hope'"
      ],
      "text/latex": [
       "'Star Wars: Episode IV - A New Hope'"
      ],
      "text/markdown": [
       "'Star Wars: Episode IV - A New Hope'"
      ],
      "text/plain": [
       "[1] \"Star Wars: Episode IV - A New Hope\""
      ]
     },
     "metadata": {},
     "output_type": "display_data"
    },
    {
     "data": {
      "text/html": [
       "'Star Wars: Episode III - Revenge of the Sith'"
      ],
      "text/latex": [
       "'Star Wars: Episode III - Revenge of the Sith'"
      ],
      "text/markdown": [
       "'Star Wars: Episode III - Revenge of the Sith'"
      ],
      "text/plain": [
       "[1] \"Star Wars: Episode III - Revenge of the Sith\""
      ]
     },
     "metadata": {},
     "output_type": "display_data"
    },
    {
     "data": {
      "text/html": [
       "FALSE"
      ],
      "text/latex": [
       "FALSE"
      ],
      "text/markdown": [
       "FALSE"
      ],
      "text/plain": [
       "[1] FALSE"
      ]
     },
     "metadata": {},
     "output_type": "display_data"
    }
   ],
   "source": [
    "# Import data from IMDB JSONs\n",
    "url_sw4 <- \"http://www.omdbapi.com/?apikey=72bc447a&i=tt0076759&r=json\"\n",
    "url_sw3 <- \"http://www.omdbapi.com/?apikey=72bc447a&i=tt0121766&r=json\"\n",
    "\n",
    "sw4 <- fromJSON(url_sw4)\n",
    "sw3 <- fromJSON(url_sw3)\n",
    "\n",
    "sw4$Title\n",
    "sw3$Title\n",
    "\n",
    "# Is the release year of sw4 later than sw3?\n",
    "sw4$Year > sw3$Year"
   ]
  },
  {
   "cell_type": "markdown",
   "id": "307109db-4e9f-4c15-96fc-800ddb907800",
   "metadata": {},
   "source": [
    "<a name=\"toc_447142_6\"></a>\n",
    "## 6.   Importing data from statistical softwares\n",
    "\n",
    "Most common statistical softwares and specific data types:\n",
    "<div style=\"text-align:center;\">\n",
    "  <img src=\"images/statprog.png\" width = \"500\" align=\"center\">\n",
    "</div>\n",
    "\n",
    "- `haven` package, can deal with SAS, STATA and SPSS data files. It is still in development.\n",
    "    - `read_sas()`\n",
    "    - `read_xpt()`\n",
    "    - `read_stata()`\n",
    "    - `read_dta()`\n",
    "    - `read_spss()`\n",
    "- `foreign` package, supports more data formats (e.g. Systat and Weka) and has been around for a longer time. Cannot read .sas7bdat.\n",
    "    - `read.dta()`\n",
    "    - `read.spss()`"
   ]
  },
  {
   "cell_type": "code",
   "execution_count": 182,
   "id": "fe7f7027-82c9-450f-83a2-b6ea17e432a1",
   "metadata": {},
   "outputs": [
    {
     "data": {
      "text/html": [
       "<table class=\"dataframe\">\n",
       "<caption>A tibble: 1 × 46</caption>\n",
       "<thead>\n",
       "\t<tr><th scope=col>Analyte</th><th scope=col>Barcode__ID</th><th scope=col>Biological__Matrix</th><th scope=col>Biological_Matrix_Abbreviation</th><th scope=col>Concentration___ng_mL_</th><th scope=col>Concentration__Units</th><th scope=col>Custom__ID</th><th scope=col>Day__Nominal</th><th scope=col>F9</th><th scope=col>Dose</th><th scope=col>⋯</th><th scope=col>Subject__Group</th><th scope=col>Time__Text</th><th scope=col>Treatment__Description</th><th scope=col>Treatment__ID</th><th scope=col>ULOQ</th><th scope=col>Visit</th><th scope=col>Sample__Comments</th><th scope=col>Sample__Condition</th><th scope=col>Assay__Date_Time</th><th scope=col>Treatment__TRT</th></tr>\n",
       "\t<tr><th scope=col>&lt;chr&gt;</th><th scope=col>&lt;chr&gt;</th><th scope=col>&lt;chr&gt;</th><th scope=col>&lt;chr&gt;</th><th scope=col>&lt;chr&gt;</th><th scope=col>&lt;chr&gt;</th><th scope=col>&lt;chr&gt;</th><th scope=col>&lt;dbl&gt;</th><th scope=col>&lt;chr&gt;</th><th scope=col>&lt;dbl&gt;</th><th scope=col>⋯</th><th scope=col>&lt;chr&gt;</th><th scope=col>&lt;chr&gt;</th><th scope=col>&lt;chr&gt;</th><th scope=col>&lt;chr&gt;</th><th scope=col>&lt;chr&gt;</th><th scope=col>&lt;chr&gt;</th><th scope=col>&lt;chr&gt;</th><th scope=col>&lt;chr&gt;</th><th scope=col>&lt;chr&gt;</th><th scope=col>&lt;chr&gt;</th></tr>\n",
       "</thead>\n",
       "<tbody>\n",
       "\t<tr><td>C</td><td>2610000001</td><td>Plasma</td><td>P</td><td>7.558</td><td>ng/mL</td><td></td><td>13</td><td></td><td>12</td><td>⋯</td><td>P1Arm1</td><td></td><td>CAR PR 12 mg fasted</td><td>PR12fast</td><td>49.977ng/mL</td><td></td><td></td><td>OK</td><td>12-May-2020</td><td>PR12fast</td></tr>\n",
       "</tbody>\n",
       "</table>\n"
      ],
      "text/latex": [
       "A tibble: 1 × 46\n",
       "\\begin{tabular}{lllllllllllllllllllll}\n",
       " Analyte & Barcode\\_\\_ID & Biological\\_\\_Matrix & Biological\\_Matrix\\_Abbreviation & Concentration\\_\\_\\_ng\\_mL\\_ & Concentration\\_\\_Units & Custom\\_\\_ID & Day\\_\\_Nominal & F9 & Dose & ⋯ & Subject\\_\\_Group & Time\\_\\_Text & Treatment\\_\\_Description & Treatment\\_\\_ID & ULOQ & Visit & Sample\\_\\_Comments & Sample\\_\\_Condition & Assay\\_\\_Date\\_Time & Treatment\\_\\_TRT\\\\\n",
       " <chr> & <chr> & <chr> & <chr> & <chr> & <chr> & <chr> & <dbl> & <chr> & <dbl> & ⋯ & <chr> & <chr> & <chr> & <chr> & <chr> & <chr> & <chr> & <chr> & <chr> & <chr>\\\\\n",
       "\\hline\n",
       "\t C & 2610000001 & Plasma & P & 7.558 & ng/mL &  & 13 &  & 12 & ⋯ & P1Arm1 &  & CAR PR 12 mg fasted & PR12fast & 49.977ng/mL &  &  & OK & 12-May-2020 & PR12fast\\\\\n",
       "\\end{tabular}\n"
      ],
      "text/markdown": [
       "\n",
       "A tibble: 1 × 46\n",
       "\n",
       "| Analyte &lt;chr&gt; | Barcode__ID &lt;chr&gt; | Biological__Matrix &lt;chr&gt; | Biological_Matrix_Abbreviation &lt;chr&gt; | Concentration___ng_mL_ &lt;chr&gt; | Concentration__Units &lt;chr&gt; | Custom__ID &lt;chr&gt; | Day__Nominal &lt;dbl&gt; | F9 &lt;chr&gt; | Dose &lt;dbl&gt; | ⋯ ⋯ | Subject__Group &lt;chr&gt; | Time__Text &lt;chr&gt; | Treatment__Description &lt;chr&gt; | Treatment__ID &lt;chr&gt; | ULOQ &lt;chr&gt; | Visit &lt;chr&gt; | Sample__Comments &lt;chr&gt; | Sample__Condition &lt;chr&gt; | Assay__Date_Time &lt;chr&gt; | Treatment__TRT &lt;chr&gt; |\n",
       "|---|---|---|---|---|---|---|---|---|---|---|---|---|---|---|---|---|---|---|---|---|\n",
       "| C | 2610000001 | Plasma | P | 7.558 | ng/mL | <!----> | 13 | <!----> | 12 | ⋯ | P1Arm1 | <!----> | CAR PR 12 mg fasted | PR12fast | 49.977ng/mL | <!----> | <!----> | OK | 12-May-2020 | PR12fast |\n",
       "\n"
      ],
      "text/plain": [
       "  Analyte Barcode__ID Biological__Matrix Biological_Matrix_Abbreviation\n",
       "1 C       2610000001  Plasma             P                             \n",
       "  Concentration___ng_mL_ Concentration__Units Custom__ID Day__Nominal F9 Dose\n",
       "1 7.558                  ng/mL                           13              12  \n",
       "  <U+22EF>        Subject__Group Time__Text Treatment__Description Treatment__ID\n",
       "1 <U+22EF> P1Arm1                    CAR PR 12 mg fasted    PR12fast     \n",
       "  ULOQ        Visit Sample__Comments Sample__Condition Assay__Date_Time\n",
       "1 49.977ng/mL                        OK                12-May-2020     \n",
       "  Treatment__TRT\n",
       "1 PR12fast      "
      ]
     },
     "metadata": {},
     "output_type": "display_data"
    },
    {
     "name": "stdout",
     "output_type": "stream",
     "text": [
      " chr [1:3279] \"2610000001\" \"2610000016\" \"2610000031\" \"2610000046\" ...\n",
      " - attr(*, \"label\")= chr \"Barcode ID\"\n",
      " - attr(*, \"format.sas\")= chr \"$CHAR\"\n"
     ]
    }
   ],
   "source": [
    "sasb <- haven::read_sas(\"data/import_data/watxls.sas7bdat\")\n",
    "head(sasb, 1)\n",
    "str(sasb$Barcode__ID) # it shows the SAS label and format as well"
   ]
  },
  {
   "cell_type": "code",
   "execution_count": 183,
   "id": "a3e9cbed-878f-4ccf-b874-f6332ad97d06",
   "metadata": {},
   "outputs": [
    {
     "data": {
      "text/html": [
       "<table class=\"dataframe\">\n",
       "<caption>A tibble: 1 × 16</caption>\n",
       "<thead>\n",
       "\t<tr><th scope=col>STUDYID</th><th scope=col>DOMAIN</th><th scope=col>USUBJID</th><th scope=col>EXSEQ</th><th scope=col>EXTRT</th><th scope=col>EXDOSE</th><th scope=col>EXDOSU</th><th scope=col>EXDOSFRM</th><th scope=col>EXROUTE</th><th scope=col>EXFAST</th><th scope=col>VISITNUM</th><th scope=col>EPOCH</th><th scope=col>EXSTDTC</th><th scope=col>EXENDTC</th><th scope=col>EXSTDY</th><th scope=col>EXENDY</th></tr>\n",
       "\t<tr><th scope=col>&lt;chr&gt;</th><th scope=col>&lt;chr&gt;</th><th scope=col>&lt;chr&gt;</th><th scope=col>&lt;dbl&gt;</th><th scope=col>&lt;chr&gt;</th><th scope=col>&lt;dbl&gt;</th><th scope=col>&lt;chr&gt;</th><th scope=col>&lt;chr&gt;</th><th scope=col>&lt;chr&gt;</th><th scope=col>&lt;chr&gt;</th><th scope=col>&lt;dbl&gt;</th><th scope=col>&lt;chr&gt;</th><th scope=col>&lt;chr&gt;</th><th scope=col>&lt;chr&gt;</th><th scope=col>&lt;dbl&gt;</th><th scope=col>&lt;dbl&gt;</th></tr>\n",
       "</thead>\n",
       "<tbody>\n",
       "\t<tr><td>RGH-271-002</td><td>EX</td><td>RGH-271-002-0011001</td><td>1</td><td>Placebo</td><td>0</td><td>mg</td><td>CAPSULE</td><td>ORAL</td><td>Y</td><td>1</td><td>TREATMENT</td><td>2019-03-18T09:45:00</td><td>2019-03-18T09:45:00</td><td>1</td><td>1</td></tr>\n",
       "</tbody>\n",
       "</table>\n"
      ],
      "text/latex": [
       "A tibble: 1 × 16\n",
       "\\begin{tabular}{llllllllllllllll}\n",
       " STUDYID & DOMAIN & USUBJID & EXSEQ & EXTRT & EXDOSE & EXDOSU & EXDOSFRM & EXROUTE & EXFAST & VISITNUM & EPOCH & EXSTDTC & EXENDTC & EXSTDY & EXENDY\\\\\n",
       " <chr> & <chr> & <chr> & <dbl> & <chr> & <dbl> & <chr> & <chr> & <chr> & <chr> & <dbl> & <chr> & <chr> & <chr> & <dbl> & <dbl>\\\\\n",
       "\\hline\n",
       "\t RGH-271-002 & EX & RGH-271-002-0011001 & 1 & Placebo & 0 & mg & CAPSULE & ORAL & Y & 1 & TREATMENT & 2019-03-18T09:45:00 & 2019-03-18T09:45:00 & 1 & 1\\\\\n",
       "\\end{tabular}\n"
      ],
      "text/markdown": [
       "\n",
       "A tibble: 1 × 16\n",
       "\n",
       "| STUDYID &lt;chr&gt; | DOMAIN &lt;chr&gt; | USUBJID &lt;chr&gt; | EXSEQ &lt;dbl&gt; | EXTRT &lt;chr&gt; | EXDOSE &lt;dbl&gt; | EXDOSU &lt;chr&gt; | EXDOSFRM &lt;chr&gt; | EXROUTE &lt;chr&gt; | EXFAST &lt;chr&gt; | VISITNUM &lt;dbl&gt; | EPOCH &lt;chr&gt; | EXSTDTC &lt;chr&gt; | EXENDTC &lt;chr&gt; | EXSTDY &lt;dbl&gt; | EXENDY &lt;dbl&gt; |\n",
       "|---|---|---|---|---|---|---|---|---|---|---|---|---|---|---|---|\n",
       "| RGH-271-002 | EX | RGH-271-002-0011001 | 1 | Placebo | 0 | mg | CAPSULE | ORAL | Y | 1 | TREATMENT | 2019-03-18T09:45:00 | 2019-03-18T09:45:00 | 1 | 1 |\n",
       "\n"
      ],
      "text/plain": [
       "  STUDYID     DOMAIN USUBJID             EXSEQ EXTRT   EXDOSE EXDOSU EXDOSFRM\n",
       "1 RGH-271-002 EX     RGH-271-002-0011001 1     Placebo 0      mg     CAPSULE \n",
       "  EXROUTE EXFAST VISITNUM EPOCH     EXSTDTC             EXENDTC            \n",
       "1 ORAL    Y      1        TREATMENT 2019-03-18T09:45:00 2019-03-18T09:45:00\n",
       "  EXSTDY EXENDY\n",
       "1 1      1     "
      ]
     },
     "metadata": {},
     "output_type": "display_data"
    }
   ],
   "source": [
    "xpt <- haven::read_sas(\"data/import_data/ex.xpt\")\n",
    "head(xpt, 1)"
   ]
  },
  {
   "cell_type": "code",
   "execution_count": 191,
   "id": "d81d6166-10e3-49c0-bba5-7b184c7b1de8",
   "metadata": {},
   "outputs": [
    {
     "name": "stderr",
     "output_type": "stream",
     "text": [
      "re-encoding from CP1252\n",
      "\n"
     ]
    },
    {
     "data": {
      "image/png": "[encoded data removed]",
      "text/plain": [
       "plot without title"
      ]
     },
     "metadata": {
      "image/png": {
       "height": 360,
       "width": 360
      }
     },
     "output_type": "display_data"
    }
   ],
   "source": [
    "demo <- foreign::read.spss(\"data/import_data/international.sav\", to.data.frame = TRUE)\n",
    "boxplot(demo$gdp)"
   ]
  }
 ],
 "metadata": {
  "kernelspec": {
   "display_name": "R",
   "language": "R",
   "name": "ir"
  },
  "language_info": {
   "codemirror_mode": "r",
   "file_extension": ".r",
   "mimetype": "text/x-r-source",
   "name": "R",
   "pygments_lexer": "r",
   "version": "4.1.3"
  },
  "toc-showcode": false
 },
 "nbformat": 4,
 "nbformat_minor": 5
}
