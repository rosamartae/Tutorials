{
 "cells": [
  {
   "cell_type": "markdown",
   "id": "40e13f52-ef35-4633-84ea-9c7cadc19528",
   "metadata": {
    "tags": []
   },
   "source": [
    "# Working with Dates and Times in R\n",
    "## -- DataCamp - R programmer Career Track - Course 5 --\n",
    "\n",
    " To use this code, select the R environment in Anaconda\n",
    " \n",
    " **Used packages**\n",
    " - lubridate\n",
    " - anytime\n",
    " - hms\n",
    " - fasttime\n",
    " - ggridges\n",
    " \n",
    "**Table of content**\n",
    "\n",
    "- [&nbsp;&nbsp;1. Dates and Times in R](#toc_004271_1)\n",
    "- [&nbsp;&nbsp;2. Using lubridate](#toc_004271_2)\n",
    "- [&nbsp;&nbsp;3. Arithmetic with Dates and Times](#toc_004271_3)\n",
    "- [&nbsp;&nbsp;4. Time zones](#toc_004271_4)"
   ]
  },
  {
   "cell_type": "markdown",
   "id": "0113aa85-b524-4ef4-af9b-360c73148441",
   "metadata": {},
   "source": [
    "**Set environment and plot size**"
   ]
  },
  {
   "cell_type": "code",
   "execution_count": 196,
   "id": "061277b1-7748-4829-8713-6e5078f723a0",
   "metadata": {},
   "outputs": [],
   "source": [
    "options(repr.plot.width=6, repr.plot.height=6)\n",
    "suppressMessages(library(tidyverse))\n",
    "suppressMessages(library(readr))\n",
    "suppressMessages(library(anytime))\n",
    "suppressMessages(library(lubridate))\n",
    "suppressMessages(library(hms))\n",
    "suppressMessages(library(fasttime))\n",
    "suppressMessages(library(ggridges))"
   ]
  },
  {
   "cell_type": "markdown",
   "id": "a79834fa-f779-49f1-95ff-9fe9687b9eb5",
   "metadata": {},
   "source": [
    "Note: if the above code return an error message:\n",
    "- Check that the correct R environment is selected in Anaconda\n",
    "- Restart computer"
   ]
  },
  {
   "cell_type": "markdown",
   "id": "ec4f8ab8-0557-4119-a0f3-368108a88616",
   "metadata": {},
   "source": [
    "**Import data**"
   ]
  },
  {
   "cell_type": "code",
   "execution_count": 37,
   "id": "88b63495-f035-403b-90ee-aa5266fb4f07",
   "metadata": {},
   "outputs": [
    {
     "data": {
      "text/html": [
       "<table class=\"dataframe\">\n",
       "<caption>A tibble: 1 × 7</caption>\n",
       "<thead>\n",
       "\t<tr><th scope=col>major</th><th scope=col>minor</th><th scope=col>patch</th><th scope=col>date</th><th scope=col>datetime</th><th scope=col>time</th><th scope=col>type</th></tr>\n",
       "\t<tr><th scope=col>&lt;dbl&gt;</th><th scope=col>&lt;dbl&gt;</th><th scope=col>&lt;dbl&gt;</th><th scope=col>&lt;date&gt;</th><th scope=col>&lt;dttm&gt;</th><th scope=col>&lt;time&gt;</th><th scope=col>&lt;chr&gt;</th></tr>\n",
       "</thead>\n",
       "<tbody>\n",
       "\t<tr><td>0</td><td>60</td><td>NA</td><td>1997-12-04</td><td>1997-12-04 08:47:58</td><td>08:47:58</td><td>patch</td></tr>\n",
       "</tbody>\n",
       "</table>\n"
      ],
      "text/latex": [
       "A tibble: 1 × 7\n",
       "\\begin{tabular}{lllllll}\n",
       " major & minor & patch & date & datetime & time & type\\\\\n",
       " <dbl> & <dbl> & <dbl> & <date> & <dttm> & <time> & <chr>\\\\\n",
       "\\hline\n",
       "\t 0 & 60 & NA & 1997-12-04 & 1997-12-04 08:47:58 & 08:47:58 & patch\\\\\n",
       "\\end{tabular}\n"
      ],
      "text/markdown": [
       "\n",
       "A tibble: 1 × 7\n",
       "\n",
       "| major &lt;dbl&gt; | minor &lt;dbl&gt; | patch &lt;dbl&gt; | date &lt;date&gt; | datetime &lt;dttm&gt; | time &lt;time&gt; | type &lt;chr&gt; |\n",
       "|---|---|---|---|---|---|---|\n",
       "| 0 | 60 | NA | 1997-12-04 | 1997-12-04 08:47:58 | 08:47:58 | patch |\n",
       "\n"
      ],
      "text/plain": [
       "  major minor patch date       datetime            time     type \n",
       "1 0     60    NA    1997-12-04 1997-12-04 08:47:58 08:47:58 patch"
      ]
     },
     "metadata": {},
     "output_type": "display_data"
    }
   ],
   "source": [
    "suppressMessages(release <- read_csv('data/dates/rversions.csv'))\n",
    "head(release, 1)"
   ]
  },
  {
   "cell_type": "code",
   "execution_count": 123,
   "id": "7a3132d7-7131-42e1-b2e1-ad147388144c",
   "metadata": {},
   "outputs": [
    {
     "data": {
      "text/html": [
       "<table class=\"dataframe\">\n",
       "<caption>A tibble: 1 × 3</caption>\n",
       "<thead>\n",
       "\t<tr><th scope=col>datetime</th><th scope=col>r_version</th><th scope=col>country</th></tr>\n",
       "\t<tr><th scope=col>&lt;dttm&gt;</th><th scope=col>&lt;chr&gt;</th><th scope=col>&lt;chr&gt;</th></tr>\n",
       "</thead>\n",
       "<tbody>\n",
       "\t<tr><td>2015-04-16 22:40:19</td><td>3.1.3</td><td>CO</td></tr>\n",
       "</tbody>\n",
       "</table>\n"
      ],
      "text/latex": [
       "A tibble: 1 × 3\n",
       "\\begin{tabular}{lll}\n",
       " datetime & r\\_version & country\\\\\n",
       " <dttm> & <chr> & <chr>\\\\\n",
       "\\hline\n",
       "\t 2015-04-16 22:40:19 & 3.1.3 & CO\\\\\n",
       "\\end{tabular}\n"
      ],
      "text/markdown": [
       "\n",
       "A tibble: 1 × 3\n",
       "\n",
       "| datetime &lt;dttm&gt; | r_version &lt;chr&gt; | country &lt;chr&gt; |\n",
       "|---|---|---|\n",
       "| 2015-04-16 22:40:19 | 3.1.3 | CO |\n",
       "\n"
      ],
      "text/plain": [
       "  datetime            r_version country\n",
       "1 2015-04-16 22:40:19 3.1.3     CO     "
      ]
     },
     "metadata": {},
     "output_type": "display_data"
    }
   ],
   "source": [
    "suppressMessages(logs <- read_csv(\"data/dates/cran-logs_2015-04-17.csv\"))\n",
    "head(logs, 1)"
   ]
  },
  {
   "cell_type": "code",
   "execution_count": 43,
   "id": "daf4bbe4-fea4-424e-bd11-4edbc3b60cd7",
   "metadata": {},
   "outputs": [
    {
     "data": {
      "text/html": [
       "<table class=\"dataframe\">\n",
       "<caption>A tibble: 1 × 7</caption>\n",
       "<thead>\n",
       "\t<tr><th scope=col>date</th><th scope=col>max_temp</th><th scope=col>min_temp</th><th scope=col>mean_temp</th><th scope=col>mean_rh</th><th scope=col>events</th><th scope=col>cloud_cover</th></tr>\n",
       "\t<tr><th scope=col>&lt;chr&gt;</th><th scope=col>&lt;dbl&gt;</th><th scope=col>&lt;dbl&gt;</th><th scope=col>&lt;dbl&gt;</th><th scope=col>&lt;dbl&gt;</th><th scope=col>&lt;chr&gt;</th><th scope=col>&lt;dbl&gt;</th></tr>\n",
       "</thead>\n",
       "<tbody>\n",
       "\t<tr><td>2007-9-1</td><td>60</td><td>51</td><td>56</td><td>75</td><td>NA</td><td>4</td></tr>\n",
       "</tbody>\n",
       "</table>\n"
      ],
      "text/latex": [
       "A tibble: 1 × 7\n",
       "\\begin{tabular}{lllllll}\n",
       " date & max\\_temp & min\\_temp & mean\\_temp & mean\\_rh & events & cloud\\_cover\\\\\n",
       " <chr> & <dbl> & <dbl> & <dbl> & <dbl> & <chr> & <dbl>\\\\\n",
       "\\hline\n",
       "\t 2007-9-1 & 60 & 51 & 56 & 75 & NA & 4\\\\\n",
       "\\end{tabular}\n"
      ],
      "text/markdown": [
       "\n",
       "A tibble: 1 × 7\n",
       "\n",
       "| date &lt;chr&gt; | max_temp &lt;dbl&gt; | min_temp &lt;dbl&gt; | mean_temp &lt;dbl&gt; | mean_rh &lt;dbl&gt; | events &lt;chr&gt; | cloud_cover &lt;dbl&gt; |\n",
       "|---|---|---|---|---|---|---|\n",
       "| 2007-9-1 | 60 | 51 | 56 | 75 | NA | 4 |\n",
       "\n"
      ],
      "text/plain": [
       "  date     max_temp min_temp mean_temp mean_rh events cloud_cover\n",
       "1 2007-9-1 60       51       56        75      NA     4          "
      ]
     },
     "metadata": {},
     "output_type": "display_data"
    }
   ],
   "source": [
    "suppressMessages(weather <- read_csv(\"data/dates/akl_weather_daily.csv\"))\n",
    "head(weather, 1)"
   ]
  },
  {
   "cell_type": "code",
   "execution_count": null,
   "id": "263df1e1-fef0-4576-9445-f7f8a4f3610c",
   "metadata": {},
   "outputs": [
    {
     "data": {
      "text/html": [
       "<table class=\"dataframe\">\n",
       "<caption>A tibble: 1 × 10</caption>\n",
       "<thead>\n",
       "\t<tr><th scope=col>year</th><th scope=col>month</th><th scope=col>mday</th><th scope=col>time</th><th scope=col>temperature</th><th scope=col>weather</th><th scope=col>conditions</th><th scope=col>events</th><th scope=col>humidity</th><th scope=col>date_utc</th></tr>\n",
       "\t<tr><th scope=col>&lt;dbl&gt;</th><th scope=col>&lt;dbl&gt;</th><th scope=col>&lt;dbl&gt;</th><th scope=col>&lt;time&gt;</th><th scope=col>&lt;dbl&gt;</th><th scope=col>&lt;chr&gt;</th><th scope=col>&lt;chr&gt;</th><th scope=col>&lt;chr&gt;</th><th scope=col>&lt;dbl&gt;</th><th scope=col>&lt;dttm&gt;</th></tr>\n",
       "</thead>\n",
       "<tbody>\n",
       "\t<tr><td>2016</td><td>1</td><td>1</td><td>00:00:00</td><td>68</td><td>Clear</td><td>Clear</td><td>NA</td><td>68</td><td>2015-12-31 11:00:00</td></tr>\n",
       "</tbody>\n",
       "</table>\n"
      ],
      "text/latex": [
       "A tibble: 1 × 10\n",
       "\\begin{tabular}{llllllllll}\n",
       " year & month & mday & time & temperature & weather & conditions & events & humidity & date\\_utc\\\\\n",
       " <dbl> & <dbl> & <dbl> & <time> & <dbl> & <chr> & <chr> & <chr> & <dbl> & <dttm>\\\\\n",
       "\\hline\n",
       "\t 2016 & 1 & 1 & 00:00:00 & 68 & Clear & Clear & NA & 68 & 2015-12-31 11:00:00\\\\\n",
       "\\end{tabular}\n"
      ],
      "text/markdown": [
       "\n",
       "A tibble: 1 × 10\n",
       "\n",
       "| year &lt;dbl&gt; | month &lt;dbl&gt; | mday &lt;dbl&gt; | time &lt;time&gt; | temperature &lt;dbl&gt; | weather &lt;chr&gt; | conditions &lt;chr&gt; | events &lt;chr&gt; | humidity &lt;dbl&gt; | date_utc &lt;dttm&gt; |\n",
       "|---|---|---|---|---|---|---|---|---|---|\n",
       "| 2016 | 1 | 1 | 00:00:00 | 68 | Clear | Clear | NA | 68 | 2015-12-31 11:00:00 |\n",
       "\n"
      ],
      "text/plain": [
       "  year month mday time     temperature weather conditions events humidity\n",
       "1 2016 1     1    00:00:00 68          Clear   Clear      NA     68      \n",
       "  date_utc           \n",
       "1 2015-12-31 11:00:00"
      ]
     },
     "metadata": {},
     "output_type": "display_data"
    }
   ],
   "source": [
    "suppressMessages(weather16 <- read_csv(\"data/dates/akl_weather_hourly_2016.csv\"))\n",
    "head(weather16, 1)"
   ]
  },
  {
   "cell_type": "markdown",
   "id": "845c339c-1961-4ddd-974a-aec57250ede7",
   "metadata": {},
   "source": [
    "<a name=\"toc_004271_1\"></a>\n",
    "## 1.   Introduction to Dates and Times in R\n",
    "\n",
    "In different countries, they use different date and time formats. E.g. in the US they use the format: 2/27/2013\n",
    "\n",
    "The global ISO 8601 standard numeric formats are:\n",
    "- **YYYY-MM-DD** for dates. The `-` separator is optional, but if we want to use a separator, it must be `-`.\n",
    "- **HH:MM:SS** for time"
   ]
  },
  {
   "cell_type": "markdown",
   "id": "aca9d49d-e1ab-4dc8-ba6c-69b997ac69d9",
   "metadata": {},
   "source": [
    "<a name=\"toc_004271_1.1\"></a>\n",
    "**1.1 Get current date and time information**"
   ]
  },
  {
   "cell_type": "code",
   "execution_count": 108,
   "id": "763f508c-22ac-4421-bb3d-e5320c9124c8",
   "metadata": {},
   "outputs": [
    {
     "data": {
      "text/html": [
       "<time datetime=\"2023-08-21\">2023-08-21</time>"
      ],
      "text/latex": [
       "2023-08-21"
      ],
      "text/markdown": [
       "2023-08-21"
      ],
      "text/plain": [
       "[1] \"2023-08-21\""
      ]
     },
     "metadata": {},
     "output_type": "display_data"
    }
   ],
   "source": [
    "Sys.Date()"
   ]
  },
  {
   "cell_type": "code",
   "execution_count": 109,
   "id": "a72ecc59-62ba-4ad7-bb34-42093f9e8491",
   "metadata": {},
   "outputs": [
    {
     "name": "stdout",
     "output_type": "stream",
     "text": [
      " Date[1:1], format: \"2023-08-21\"\n"
     ]
    }
   ],
   "source": [
    "str(Sys.Date()) # date object"
   ]
  },
  {
   "cell_type": "code",
   "execution_count": 107,
   "id": "9fec1c5d-01a3-4b27-babc-0c4a9b5beb86",
   "metadata": {},
   "outputs": [
    {
     "data": {
      "text/html": [
       "<time datetime=\"2023-08-21\">2023-08-21</time>"
      ],
      "text/latex": [
       "2023-08-21"
      ],
      "text/markdown": [
       "2023-08-21"
      ],
      "text/plain": [
       "[1] \"2023-08-21\""
      ]
     },
     "metadata": {},
     "output_type": "display_data"
    },
    {
     "data": {
      "text/plain": [
       "[1] \"2023-08-21 14:38:38 CEST\""
      ]
     },
     "metadata": {},
     "output_type": "display_data"
    }
   ],
   "source": [
    "lubridate::today()\n",
    "lubridate::now()"
   ]
  },
  {
   "cell_type": "markdown",
   "id": "0eef5754-f172-420c-8928-5bf5c3b22cf1",
   "metadata": {},
   "source": [
    "<a name=\"toc_004271_1.2\"></a>\n",
    "**1.2 Recognizing dates in R**"
   ]
  },
  {
   "cell_type": "markdown",
   "id": "c348eeed-7fa5-43af-9e9b-362cdaab4e6e",
   "metadata": {},
   "source": [
    "R will not recognise a date format if we do not specifically tell it that it is a date. We can do that with the following functions:\n",
    "-  `as.Date()` function from the base package.\n",
    "- `anytime()` function in the **anytime** package automatically parse strings as ISO style dates regardless of the format."
   ]
  },
  {
   "cell_type": "code",
   "execution_count": 6,
   "id": "53f216de-f09d-42d3-95c0-fad0a52df61c",
   "metadata": {},
   "outputs": [
    {
     "name": "stdout",
     "output_type": "stream",
     "text": [
      "[1] 1984\n",
      " chr \"2013-02-27\"\n"
     ]
    }
   ],
   "source": [
    "print(2013-02-27) # not a date object\n",
    "str(\"2013-02-27\")  # not a date object"
   ]
  },
  {
   "cell_type": "code",
   "execution_count": 51,
   "id": "a304cecb-8430-41e1-8f3d-6bf7c2596c22",
   "metadata": {},
   "outputs": [
    {
     "name": "stdout",
     "output_type": "stream",
     "text": [
      "[1] \"2013-02-27\"\n",
      " Date[1:1], format: \"2013-02-27\"\n"
     ]
    }
   ],
   "source": [
    "print(as.Date(\"2013-02-27\"))\n",
    "str(as.Date(\"2013-02-27\")) # date object"
   ]
  },
  {
   "cell_type": "code",
   "execution_count": 24,
   "id": "3a76516a-9724-461d-884d-574bae2c9ee4",
   "metadata": {},
   "outputs": [
    {
     "data": {
      "text/plain": [
       "[1] \"2009-09-10 CEST\" \"2009-09-10 CEST\" \"2009-09-10 CEST\" \"2009-09-10 CEST\""
      ]
     },
     "metadata": {},
     "output_type": "display_data"
    }
   ],
   "source": [
    "sep_10_2009 <- c(\"September 10 2009\", \"2009-09-10\", \"10 Sep 2009\", \"09-10-2009\")\n",
    "anytime(sep_10_2009)"
   ]
  },
  {
   "cell_type": "code",
   "execution_count": 22,
   "id": "f4822ad4-579e-4b0c-b9a1-053ae3343cea",
   "metadata": {},
   "outputs": [
    {
     "data": {
      "text/plain": [
       "[1] \"1997-12-04 01:00:00 CET\"  \"1997-12-21 01:00:00 CET\" \n",
       "[3] \"1998-01-10 01:00:00 CET\"  \"1998-03-14 01:00:00 CET\" \n",
       "[5] \"1998-05-02 02:00:00 CEST\" \"1998-06-14 02:00:00 CEST\""
      ]
     },
     "metadata": {},
     "output_type": "display_data"
    }
   ],
   "source": [
    "head(anytime(releases$date))"
   ]
  },
  {
   "cell_type": "code",
   "execution_count": 23,
   "id": "1526b715-9fbe-4315-b659-c5f0ff837794",
   "metadata": {},
   "outputs": [
    {
     "data": {
      "text/plain": [
       "[1] \"1997-12-04 08:47:58 UTC\" \"1997-12-21 13:09:22 UTC\"\n",
       "[3] \"1998-01-10 00:31:55 UTC\" \"1998-03-14 19:25:55 UTC\"\n",
       "[5] \"1998-05-02 07:58:17 UTC\" \"1998-06-14 12:56:20 UTC\""
      ]
     },
     "metadata": {},
     "output_type": "display_data"
    }
   ],
   "source": [
    "head(anytime(releases$datetime))"
   ]
  },
  {
   "cell_type": "markdown",
   "id": "d204cb82-821c-4922-8e57-c6e805d041a7",
   "metadata": {},
   "source": [
    "<a name=\"toc_004271_1.3\"></a>\n",
    "**1.3 Using dates as numbers**\n",
    "\n",
    "Once R knows it is a date, we can use it in calculations. This is because behind the scenes Date objects are stored as the number of days since **Jan 1st 1970**. That means you can ask if one date is greater than another, which will be true if it occurs after the other. You can add days to a date. And you can find the difference between dates."
   ]
  },
  {
   "cell_type": "code",
   "execution_count": 28,
   "id": "f411240e-2f80-4f0e-a1ef-53e8ca65914b",
   "metadata": {},
   "outputs": [
    {
     "data": {
      "text/html": [
       "TRUE"
      ],
      "text/latex": [
       "TRUE"
      ],
      "text/markdown": [
       "TRUE"
      ],
      "text/plain": [
       "[1] TRUE"
      ]
     },
     "metadata": {},
     "output_type": "display_data"
    }
   ],
   "source": [
    "as.Date(\"2013-02-27\") > as.Date(\"2013-01-27\")"
   ]
  },
  {
   "cell_type": "code",
   "execution_count": 8,
   "id": "1228b339-fee7-41c1-8912-7f2adb03607e",
   "metadata": {},
   "outputs": [
    {
     "data": {
      "text/plain": [
       "Time difference of 31 days"
      ]
     },
     "metadata": {},
     "output_type": "display_data"
    }
   ],
   "source": [
    "as.Date(\"2013-02-27\") - as.Date(\"2013-01-27\")"
   ]
  },
  {
   "cell_type": "code",
   "execution_count": 74,
   "id": "9d084110-a94d-497d-8952-87fa69f937ab",
   "metadata": {},
   "outputs": [
    {
     "name": "stdout",
     "output_type": "stream",
     "text": [
      "[1] \"2017-06-30\"\n"
     ]
    },
    {
     "data": {
      "text/plain": [
       "Time difference of 2211 days"
      ]
     },
     "metadata": {},
     "output_type": "display_data"
    }
   ],
   "source": [
    "print(max(release$date))\n",
    "Sys.Date() - max(release$date)"
   ]
  },
  {
   "cell_type": "code",
   "execution_count": 27,
   "id": "f5683320-feb5-4a80-a38f-93ada4bb335f",
   "metadata": {},
   "outputs": [
    {
     "data": {
      "text/html": [
       "<time datetime=\"2013-03-09\">2013-03-09</time>"
      ],
      "text/latex": [
       "2013-03-09"
      ],
      "text/markdown": [
       "2013-03-09"
      ],
      "text/plain": [
       "[1] \"2013-03-09\""
      ]
     },
     "metadata": {},
     "output_type": "display_data"
    }
   ],
   "source": [
    "as.Date(\"2013-02-27\") + 10"
   ]
  },
  {
   "cell_type": "markdown",
   "id": "d71d81f5-0b75-4ebe-a7bb-71b91465d464",
   "metadata": {},
   "source": [
    "It also means plotting we can plot dates appropriately:"
   ]
  },
  {
   "cell_type": "code",
   "execution_count": 49,
   "id": "6b4a5b92-8a2b-4f16-bfca-0c8664097562",
   "metadata": {},
   "outputs": [
    {
     "data": {
      "image/png": "[encoded data removed]",
      "text/plain": [
       "plot without title"
      ]
     },
     "metadata": {
      "image/png": {
       "height": 360,
       "width": 360
      }
     },
     "output_type": "display_data"
    }
   ],
   "source": [
    "ggplot(, aes(\n",
    "    x = c(as.Date(\"2013-02-27\"),as.Date(\"2013-04-27\"), as.Date(\"2013-09-10\"), as.Date(\"2016-01-01\")),\n",
    "    y = 1:4)) +\n",
    "  geom_point(size = 4) +\n",
    "  labs(x = \"Date\")"
   ]
  },
  {
   "cell_type": "markdown",
   "id": "7779018f-111d-4129-9a7e-e388e115698f",
   "metadata": {},
   "source": [
    "In `ggplot()` we can control the presentation of dates with the `scale_x_date()` function:"
   ]
  },
  {
   "cell_type": "code",
   "execution_count": 64,
   "id": "d7f14021-076d-4830-8154-d63ae25f8a16",
   "metadata": {},
   "outputs": [
    {
     "data": {
      "image/png": "[encoded data removed]",
      "text/plain": [
       "plot without title"
      ]
     },
     "metadata": {
      "image/png": {
       "height": 360,
       "width": 360
      }
     },
     "output_type": "display_data"
    }
   ],
   "source": [
    "ggplot(release, aes(x = date, y = type)) +\n",
    "  geom_line(aes(group = 1, color = factor(major)))  +\n",
    "  scale_x_date(date_breaks = \"3 years\", date_labels = \"%Y\") # breaks every 3 years and labels with \"%Y\""
   ]
  },
  {
   "cell_type": "markdown",
   "id": "a5176611-93c7-48c3-bcae-6e0707d0f2d6",
   "metadata": {},
   "source": [
    "<a name=\"toc_004271_1.4\"></a>\n",
    "**1.4 Working with datetimes**\n",
    "\n",
    "There are two built in types of objects for datetimes in R:\n",
    "- **POSIXlt** - stores a date in a list with components for each unit\n",
    "- **POSIXct** - stores the date as the number of seconds since the beginning of 1970 - more widely used.\n",
    "\n",
    "We can turn strings into a POSIXct objects with:\n",
    "- `as.POSIXct()` - it will read ISO 8601 datetimes. Use the `tz =` argument to specify the timezone (e.g. \"UTC\")"
   ]
  },
  {
   "cell_type": "code",
   "execution_count": 78,
   "id": "2029660f-9cdd-4c0b-88a0-7773b45e4aff",
   "metadata": {},
   "outputs": [
    {
     "data": {
      "text/plain": [
       "[1] \"2010-10-01 12:12:00 PDT\""
      ]
     },
     "metadata": {},
     "output_type": "display_data"
    },
    {
     "data": {
      "text/plain": [
       "[1] \"2010-10-01 12:12:00 CEST\""
      ]
     },
     "metadata": {},
     "output_type": "display_data"
    }
   ],
   "source": [
    "as.POSIXct(\"2010-10-01 12:12:00\", tz = \"America/Los_Angeles\")\n",
    "as.POSIXct(\"2010-10-01 12:12:00\", tz = \"CET\")"
   ]
  },
  {
   "cell_type": "code",
   "execution_count": 84,
   "id": "ba6803f1-a14b-49ae-81bc-ff122c9f09ae",
   "metadata": {},
   "outputs": [
    {
     "name": "stderr",
     "output_type": "stream",
     "text": [
      "\u001b[1m\u001b[22m`stat_bin()` using `bins = 30`. Pick better value with `binwidth`.\n"
     ]
    },
    {
     "data": {
      "image/png": "[encoded data removed]",
      "text/plain": [
       "plot without title"
      ]
     },
     "metadata": {
      "image/png": {
       "height": 360,
       "width": 360
      }
     },
     "output_type": "display_data"
    }
   ],
   "source": [
    "# Store the release time as a POSIXct object\n",
    "release_time <- as.POSIXct(\"2015-04-16 07:13:33\", tz = \"UTC\")\n",
    "\n",
    "# Examine histograms of downloads by version\n",
    "ggplot(logs, aes(x = datetime)) +\n",
    "  geom_histogram() +\n",
    "  geom_vline(aes(xintercept = as.numeric(release_time)))+\n",
    "  facet_wrap(~ r_version, ncol = 1)"
   ]
  },
  {
   "cell_type": "markdown",
   "id": "ba814a0a-5a2f-4954-b43f-e28d52d070e4",
   "metadata": {},
   "source": [
    "<a name=\"toc_004271_1.5\"></a>\n",
    "**1.5 Working with times without dates**\n",
    "\n",
    "The `hms` package provides a *hms class of object* for holding times without dates.\n",
    "\n",
    "- `hms()` - creates a hms object\n",
    "- `as.hms()` - converts a time to a hms class of object"
   ]
  },
  {
   "cell_type": "code",
   "execution_count": 192,
   "id": "ec3b00eb-d159-411b-a50c-7ca5d824899b",
   "metadata": {},
   "outputs": [
    {
     "data": {
      "text/plain": [
       "12:34:56"
      ]
     },
     "metadata": {},
     "output_type": "display_data"
    },
    {
     "data": {
      "text/plain": [
       "01:00:00"
      ]
     },
     "metadata": {},
     "output_type": "display_data"
    }
   ],
   "source": [
    "hms(56, 34, 12)\n",
    "hms(hours = 1)"
   ]
  },
  {
   "cell_type": "code",
   "execution_count": 187,
   "id": "9f66911f-b703-47da-b016-939712dd222f",
   "metadata": {},
   "outputs": [
    {
     "data": {
      "text/plain": [
       "[1] \"2023-08-21 16:24:28 CEST\""
      ]
     },
     "metadata": {},
     "output_type": "display_data"
    },
    {
     "data": {
      "text/plain": [
       "16:24:28.474549"
      ]
     },
     "metadata": {},
     "output_type": "display_data"
    }
   ],
   "source": [
    "Sys.time()\n",
    "as.hms(Sys.time())"
   ]
  },
  {
   "cell_type": "code",
   "execution_count": 188,
   "id": "bf5f354c-020a-4b0f-8de2-cd5683103e5c",
   "metadata": {},
   "outputs": [
    {
     "data": {
      "text/plain": [
       "Time difference of 10 secs"
      ]
     },
     "metadata": {},
     "output_type": "display_data"
    }
   ],
   "source": [
    "as.hms(\"12:05:41\") - as.hms(\"12:05:31\")"
   ]
  },
  {
   "cell_type": "markdown",
   "id": "7ac7d9b3-6267-4587-96d6-71472ade49c0",
   "metadata": {},
   "source": [
    "<a name=\"toc_004271_2\"></a>\n",
    "## 2.   Using lubridate\n",
    "\n",
    "The **lubridate package** (which is part of the tidyverse) is designed to make working with dates and times as easy as possible in R. One nice aspect is that we only need to learn one function for any kind of datetime object as it can work with many different date formats, like\n",
    "- Date objects\n",
    "- POSIXct objects\n",
    "- time series objects like **zoo** or **xts** \n",
    "\n",
    "Note that if you don't specify a timezone, lubridate will assume UTC."
   ]
  },
  {
   "cell_type": "markdown",
   "id": "18ba8867-e068-46ae-a90b-b37e0e504697",
   "metadata": {},
   "source": [
    "<a name=\"toc_004271_2.1\"></a>\n",
    "**2.1 Convert (parse) dates to date objects with lubridate**\n",
    "\n",
    "- `ymd()`, `ydm()`, `mdy()`, `myd()`, `dmy()`, `dym()` functions - they can recognise a wide range of date inputs and convert them to standard date objects.\n",
    "- `parse_date_time(x = , order =)` - a handy feature if the dates we need to parse are in more than one format, just use e.g. `order = c(\"ydm\",\"dmy\")`. \n",
    "- `make_date(year =, month =, day =)` - allow you to make dates from individual columns of a dataset.\n",
    "- `make_datetime()` - similar as the above but adds `hour =, min =, sec =` arguments to build a datetime from it's components.\n",
    "\n",
    "Additional possible formating characters used with `order =`:\n",
    "\n",
    "<div style=\"text-align:center;\">\n",
    "  <img src=\"images/dates_001.png\" width = \"500\" align=\"center\">\n",
    "</div>"
   ]
  },
  {
   "cell_type": "code",
   "execution_count": 96,
   "id": "57a17715-beed-4d0b-bdc0-5d2a1f1808e2",
   "metadata": {},
   "outputs": [
    {
     "data": {
      "text/html": [
       "<time datetime=\"2013-02-27\">2013-02-27</time>"
      ],
      "text/latex": [
       "2013-02-27"
      ],
      "text/markdown": [
       "2013-02-27"
      ],
      "text/plain": [
       "[1] \"2013-02-27\""
      ]
     },
     "metadata": {},
     "output_type": "display_data"
    }
   ],
   "source": [
    "ymd(\"2013.02.27\")"
   ]
  },
  {
   "cell_type": "code",
   "execution_count": 89,
   "id": "3cde7063-96b0-4705-8e58-cda99420ef80",
   "metadata": {},
   "outputs": [
    {
     "data": {
      "text/html": [
       "<time datetime=\"2013-02-27\">2013-02-27</time>"
      ],
      "text/latex": [
       "2013-02-27"
      ],
      "text/markdown": [
       "2013-02-27"
      ],
      "text/plain": [
       "[1] \"2013-02-27\""
      ]
     },
     "metadata": {},
     "output_type": "display_data"
    }
   ],
   "source": [
    "dmy(\"27/02/13\")"
   ]
  },
  {
   "cell_type": "code",
   "execution_count": 91,
   "id": "128f40ee-5add-4298-a7ce-09de620269f6",
   "metadata": {},
   "outputs": [
    {
     "data": {
      "text/html": [
       "<time datetime=\"2013-02-27\">2013-02-27</time>"
      ],
      "text/latex": [
       "2013-02-27"
      ],
      "text/markdown": [
       "2013-02-27"
      ],
      "text/plain": [
       "[1] \"2013-02-27\""
      ]
     },
     "metadata": {},
     "output_type": "display_data"
    }
   ],
   "source": [
    "mdy(\"Feb 27 13\")"
   ]
  },
  {
   "cell_type": "code",
   "execution_count": 100,
   "id": "67a941b3-4f9e-4551-8f6b-e8ef65ffeaba",
   "metadata": {},
   "outputs": [
    {
     "data": {
      "text/plain": [
       "[1] \"2010-09-12 14:00:00 UTC\""
      ]
     },
     "metadata": {},
     "output_type": "display_data"
    }
   ],
   "source": [
    "mdy_hm(\"Sep, 12th 2010 14:00\")"
   ]
  },
  {
   "cell_type": "code",
   "execution_count": 97,
   "id": "37d56d48-63c3-41c7-8041-7ef3d274e18e",
   "metadata": {},
   "outputs": [
    {
     "data": {
      "text/plain": [
       "[1] \"2013-02-27 UTC\" \"2013-02-27 UTC\""
      ]
     },
     "metadata": {},
     "output_type": "display_data"
    }
   ],
   "source": [
    "parse_date_time(x = c(\"2013.02.27\", \"Feb 27 13\"),\n",
    "                order =c(\"ymd\", \"mdy\"))"
   ]
  },
  {
   "cell_type": "code",
   "execution_count": 102,
   "id": "8b3cefe1-f7b8-452b-906a-e2b6860d5696",
   "metadata": {},
   "outputs": [
    {
     "data": {
      "text/plain": [
       "[1] \"2010-06-01 16:00:00 UTC\""
      ]
     },
     "metadata": {},
     "output_type": "display_data"
    }
   ],
   "source": [
    "x <- \"Monday June 1st 2010 at 4pm\"\n",
    "parse_date_time(x, orders = \"ABdyIp\")"
   ]
  },
  {
   "cell_type": "code",
   "execution_count": 107,
   "id": "3d42a2b9-5ffb-40b0-ad3f-34209381f414",
   "metadata": {},
   "outputs": [
    {
     "data": {
      "text/plain": [
       "[1] \"1282-12-11 UTC\" \"1372-05-01 UTC\" \"1253-01-01 UTC\" \"2023-05-05 UTC\""
      ]
     },
     "metadata": {},
     "output_type": "display_data"
    }
   ],
   "source": [
    "short_dates <- c(\"11 December 1282\", \"May 1372\", \"1253\", \"May 5\")\n",
    "parse_date_time(short_dates, orders = c(\"dmY\", \"mY\", \"Y\", \"md\"))"
   ]
  },
  {
   "cell_type": "markdown",
   "id": "e20f66cf-6a16-4833-84e0-d665914d68e9",
   "metadata": {},
   "source": [
    "☝️ Notice how R will substitute default values when date information is missing."
   ]
  },
  {
   "cell_type": "code",
   "execution_count": 194,
   "id": "70508ab0-c7ca-459c-9920-fc901a479051",
   "metadata": {},
   "outputs": [
    {
     "data": {
      "text/plain": [
       "[1] \"1999-12-22 00:00:10 UTC\""
      ]
     },
     "metadata": {},
     "output_type": "display_data"
    }
   ],
   "source": [
    "make_datetime(year = 1999, month = 12, day = 22, sec = 10)"
   ]
  },
  {
   "cell_type": "code",
   "execution_count": 136,
   "id": "90a5e589-561d-4257-b4a5-cc8a439db7c1",
   "metadata": {},
   "outputs": [
    {
     "data": {
      "image/png": "[encoded data removed]",
      "text/plain": [
       "plot without title"
      ]
     },
     "metadata": {
      "image/png": {
       "height": 360,
       "width": 360
      }
     },
     "output_type": "display_data"
    }
   ],
   "source": [
    "# Use make_date() to combine year, month and mday \n",
    "akl_hourly  <- weather16  %>% \n",
    "  mutate(date = make_date(year = year, month = month, day = mday))\n",
    "\n",
    "# Parse datetime_string \n",
    "akl_hourly <- akl_hourly  %>% \n",
    "  mutate(\n",
    "    datetime_string = paste(date, time, sep = \"T\"),\n",
    "    datetime = ymd_hms(datetime_string)\n",
    "  )\n",
    "\n",
    "# Plot to check work\n",
    "ggplot(akl_hourly, aes(x = datetime, y = temperature)) +\n",
    "  geom_line()\n"
   ]
  },
  {
   "cell_type": "markdown",
   "id": "6091f070-a952-4ab0-aa7f-e68ccf5268cb",
   "metadata": {},
   "source": [
    "The `fasttime` package provides faster alternatives to `parse_date_time`. \n",
    "- `fastPOSIXct()` - reads in dates formatted in the standard order: year, month, day, hour, minute, second. Because it's pickier about the input format than `parse_date_time`, it can be extremely fast.\n",
    "- `fast_strptime(x, format = )` - it takes format argument instead of order arguments.\n",
    "\n",
    "To compare the speed of functions:\n",
    "\n",
    "```r\n",
    "library(microbenchmark)\n",
    "\n",
    "microbenchmark(\n",
    "  ymd_hms = ymd_hms(dates),\n",
    "  fasttime = fastPOSIXct(dates),\n",
    "  times = 20)\n",
    "\n",
    "```"
   ]
  },
  {
   "cell_type": "code",
   "execution_count": 229,
   "id": "f4a46bd6-0aa6-4791-9dc2-9b5de71c1914",
   "metadata": {},
   "outputs": [
    {
     "data": {
      "text/plain": [
       "[1] \"2003-02-27 01:00:00 CET\""
      ]
     },
     "metadata": {},
     "output_type": "display_data"
    },
    {
     "data": {
      "text/plain": [
       "[1] \"2013-12-05 01:00:00 CET\""
      ]
     },
     "metadata": {},
     "output_type": "display_data"
    }
   ],
   "source": [
    "fastPOSIXct(\"2003.02.27\")\n",
    "fastPOSIXct(\"2013/12/05\")"
   ]
  },
  {
   "cell_type": "code",
   "execution_count": 228,
   "id": "db01f0b7-337d-4c23-ad8d-d5f89b9a6985",
   "metadata": {},
   "outputs": [
    {
     "data": {
      "text/plain": [
       "[1] \"2003-02-27 UTC\""
      ]
     },
     "metadata": {},
     "output_type": "display_data"
    },
    {
     "data": {
      "text/plain": [
       "[1] \"2009-02-27 UTC\""
      ]
     },
     "metadata": {},
     "output_type": "display_data"
    },
    {
     "data": {
      "text/plain": [
       "[1] \"2015-12-31 11:00:00 UTC\""
      ]
     },
     "metadata": {},
     "output_type": "display_data"
    }
   ],
   "source": [
    "fast_strptime(\"2003.02.27\", format = \"%Y.%m.%d\")\n",
    "fast_strptime(\"09-27-02\", format = \"%y-%d-%m\")\n",
    "fast_strptime(\"2015-12-31T11:00:00Z\", format = \"%Y-%m-%dT%H:%M:%SZ\")"
   ]
  },
  {
   "cell_type": "markdown",
   "id": "d4416995-495e-4886-a986-5a5dd82abe9c",
   "metadata": {},
   "source": [
    "<a name=\"toc_004271_2.2\"></a>\n",
    "**2.2 Extract information from datetimes**\n",
    "\n",
    "- The `year()`, `month()`, `day()` etc. functions will extract the given values from datetimes."
   ]
  },
  {
   "cell_type": "code",
   "execution_count": 41,
   "id": "0183cbd5-d17a-4c8d-ac0b-2117a195cd88",
   "metadata": {},
   "outputs": [
    {
     "data": {
      "text/html": [
       "1997"
      ],
      "text/latex": [
       "1997"
      ],
      "text/markdown": [
       "1997"
      ],
      "text/plain": [
       "[1] 1997"
      ]
     },
     "metadata": {},
     "output_type": "display_data"
    },
    {
     "data": {
      "text/html": [
       "12"
      ],
      "text/latex": [
       "12"
      ],
      "text/markdown": [
       "12"
      ],
      "text/plain": [
       "[1] 12"
      ]
     },
     "metadata": {},
     "output_type": "display_data"
    },
    {
     "name": "stdout",
     "output_type": "stream",
     "text": [
      "[1] Dec\n",
      "12 Levels: Jan < Feb < Mar < Apr < May < Jun < Jul < Aug < Sep < ... < Dec\n"
     ]
    },
    {
     "data": {
      "text/html": [
       "4"
      ],
      "text/latex": [
       "4"
      ],
      "text/markdown": [
       "4"
      ],
      "text/plain": [
       "[1] 4"
      ]
     },
     "metadata": {},
     "output_type": "display_data"
    },
    {
     "data": {
      "text/html": [
       "8"
      ],
      "text/latex": [
       "8"
      ],
      "text/markdown": [
       "8"
      ],
      "text/plain": [
       "[1] 8"
      ]
     },
     "metadata": {},
     "output_type": "display_data"
    },
    {
     "data": {
      "text/html": [
       "47"
      ],
      "text/latex": [
       "47"
      ],
      "text/markdown": [
       "47"
      ],
      "text/plain": [
       "[1] 47"
      ]
     },
     "metadata": {},
     "output_type": "display_data"
    },
    {
     "data": {
      "text/html": [
       "58"
      ],
      "text/latex": [
       "58"
      ],
      "text/markdown": [
       "58"
      ],
      "text/plain": [
       "[1] 58"
      ]
     },
     "metadata": {},
     "output_type": "display_data"
    },
    {
     "data": {
      "text/html": [
       "'UTC'"
      ],
      "text/latex": [
       "'UTC'"
      ],
      "text/markdown": [
       "'UTC'"
      ],
      "text/plain": [
       "[1] \"UTC\""
      ]
     },
     "metadata": {},
     "output_type": "display_data"
    }
   ],
   "source": [
    "a <- \"1997-12-04 08:47:58 UTC\"\n",
    "year(a)\n",
    "month(a)\n",
    "print(month(a, label = TRUE))\n",
    "day(a)\n",
    "hour(a)\n",
    "minute(a)\n",
    "second(a)\n",
    "tz(a) # Timezone"
   ]
  },
  {
   "cell_type": "code",
   "execution_count": 85,
   "id": "68cc1b36-73df-4455-b1b1-53fb1d8c1732",
   "metadata": {},
   "outputs": [
    {
     "data": {
      "text/html": [
       "5"
      ],
      "text/latex": [
       "5"
      ],
      "text/markdown": [
       "5"
      ],
      "text/plain": [
       "[1] 5"
      ]
     },
     "metadata": {},
     "output_type": "display_data"
    },
    {
     "name": "stdout",
     "output_type": "stream",
     "text": [
      "[1] Thu\n",
      "Levels: Sun < Mon < Tue < Wed < Thu < Fri < Sat\n"
     ]
    },
    {
     "data": {
      "text/html": [
       "TRUE"
      ],
      "text/latex": [
       "TRUE"
      ],
      "text/markdown": [
       "TRUE"
      ],
      "text/plain": [
       "[1] TRUE"
      ]
     },
     "metadata": {},
     "output_type": "display_data"
    }
   ],
   "source": [
    "wday(a) # weekday\n",
    "print(wday(a, label = TRUE))\n",
    "wday(a) %in% 2:6 # is it weekday? (not weekends)"
   ]
  },
  {
   "cell_type": "code",
   "execution_count": 87,
   "id": "f3fa569d-ccf0-4afd-b6c5-1d80f03ffc3e",
   "metadata": {},
   "outputs": [
    {
     "data": {
      "text/html": [
       "338"
      ],
      "text/latex": [
       "338"
      ],
      "text/markdown": [
       "338"
      ],
      "text/plain": [
       "[1] 338"
      ]
     },
     "metadata": {},
     "output_type": "display_data"
    },
    {
     "data": {
      "text/html": [
       "4"
      ],
      "text/latex": [
       "4"
      ],
      "text/markdown": [
       "4"
      ],
      "text/plain": [
       "[1] 4"
      ]
     },
     "metadata": {},
     "output_type": "display_data"
    },
    {
     "data": {
      "text/html": [
       "TRUE"
      ],
      "text/latex": [
       "TRUE"
      ],
      "text/markdown": [
       "TRUE"
      ],
      "text/plain": [
       "[1] TRUE"
      ]
     },
     "metadata": {},
     "output_type": "display_data"
    },
    {
     "data": {
      "text/html": [
       "FALSE"
      ],
      "text/latex": [
       "FALSE"
      ],
      "text/markdown": [
       "FALSE"
      ],
      "text/plain": [
       "[1] FALSE"
      ]
     },
     "metadata": {},
     "output_type": "display_data"
    }
   ],
   "source": [
    "yday(a) # day of the year\n",
    "quarter(a) # quarter of year\n",
    "am(a) # in morning T|F\n",
    "leap_year(a) # T|F"
   ]
  },
  {
   "cell_type": "markdown",
   "id": "44d67f22-9217-4f94-92af-76ea8edc5c49",
   "metadata": {},
   "source": [
    "We can also manipulate dates this way"
   ]
  },
  {
   "cell_type": "code",
   "execution_count": 19,
   "id": "93698de9-b173-4c17-9782-c07f5da2d4c9",
   "metadata": {},
   "outputs": [
    {
     "data": {
      "text/html": [
       "<time datetime=\"2023-02-27\">2023-02-27</time>"
      ],
      "text/latex": [
       "2023-02-27"
      ],
      "text/markdown": [
       "2023-02-27"
      ],
      "text/plain": [
       "[1] \"2023-02-27\""
      ]
     },
     "metadata": {},
     "output_type": "display_data"
    }
   ],
   "source": [
    "year(a) <- 2023\n",
    "a"
   ]
  },
  {
   "cell_type": "markdown",
   "id": "9fde9d82-a7b0-45f5-a629-0cbfaa4ae915",
   "metadata": {},
   "source": [
    "Now some more complicated exapmles:"
   ]
  },
  {
   "cell_type": "code",
   "execution_count": 38,
   "id": "eb508153-f1a2-4617-9b2e-ed2c7d825a01",
   "metadata": {},
   "outputs": [
    {
     "data": {
      "text/html": [
       "<table class=\"dataframe\">\n",
       "<caption>A tibble: 6 × 8</caption>\n",
       "<thead>\n",
       "\t<tr><th scope=col>major</th><th scope=col>minor</th><th scope=col>patch</th><th scope=col>date</th><th scope=col>datetime</th><th scope=col>time</th><th scope=col>type</th><th scope=col>wday</th></tr>\n",
       "\t<tr><th scope=col>&lt;dbl&gt;</th><th scope=col>&lt;dbl&gt;</th><th scope=col>&lt;dbl&gt;</th><th scope=col>&lt;date&gt;</th><th scope=col>&lt;dttm&gt;</th><th scope=col>&lt;time&gt;</th><th scope=col>&lt;chr&gt;</th><th scope=col>&lt;ord&gt;</th></tr>\n",
       "</thead>\n",
       "<tbody>\n",
       "\t<tr><td>0</td><td>60</td><td>NA</td><td>1997-12-04</td><td>1997-12-04 08:47:58</td><td>08:47:58</td><td>patch</td><td>Thu</td></tr>\n",
       "\t<tr><td>0</td><td>61</td><td>NA</td><td>1997-12-21</td><td>1997-12-21 13:09:22</td><td>13:09:22</td><td>minor</td><td>Sun</td></tr>\n",
       "\t<tr><td>0</td><td>61</td><td> 1</td><td>1998-01-10</td><td>1998-01-10 00:31:55</td><td>00:31:55</td><td>patch</td><td>Sat</td></tr>\n",
       "\t<tr><td>0</td><td>61</td><td> 2</td><td>1998-03-14</td><td>1998-03-14 19:25:55</td><td>19:25:55</td><td>patch</td><td>Sat</td></tr>\n",
       "\t<tr><td>0</td><td>61</td><td> 3</td><td>1998-05-02</td><td>1998-05-02 07:58:17</td><td>07:58:17</td><td>patch</td><td>Sat</td></tr>\n",
       "\t<tr><td>0</td><td>62</td><td>NA</td><td>1998-06-14</td><td>1998-06-14 12:56:20</td><td>12:56:20</td><td>minor</td><td>Sun</td></tr>\n",
       "</tbody>\n",
       "</table>\n"
      ],
      "text/latex": [
       "A tibble: 6 × 8\n",
       "\\begin{tabular}{llllllll}\n",
       " major & minor & patch & date & datetime & time & type & wday\\\\\n",
       " <dbl> & <dbl> & <dbl> & <date> & <dttm> & <time> & <chr> & <ord>\\\\\n",
       "\\hline\n",
       "\t 0 & 60 & NA & 1997-12-04 & 1997-12-04 08:47:58 & 08:47:58 & patch & Thu\\\\\n",
       "\t 0 & 61 & NA & 1997-12-21 & 1997-12-21 13:09:22 & 13:09:22 & minor & Sun\\\\\n",
       "\t 0 & 61 &  1 & 1998-01-10 & 1998-01-10 00:31:55 & 00:31:55 & patch & Sat\\\\\n",
       "\t 0 & 61 &  2 & 1998-03-14 & 1998-03-14 19:25:55 & 19:25:55 & patch & Sat\\\\\n",
       "\t 0 & 61 &  3 & 1998-05-02 & 1998-05-02 07:58:17 & 07:58:17 & patch & Sat\\\\\n",
       "\t 0 & 62 & NA & 1998-06-14 & 1998-06-14 12:56:20 & 12:56:20 & minor & Sun\\\\\n",
       "\\end{tabular}\n"
      ],
      "text/markdown": [
       "\n",
       "A tibble: 6 × 8\n",
       "\n",
       "| major &lt;dbl&gt; | minor &lt;dbl&gt; | patch &lt;dbl&gt; | date &lt;date&gt; | datetime &lt;dttm&gt; | time &lt;time&gt; | type &lt;chr&gt; | wday &lt;ord&gt; |\n",
       "|---|---|---|---|---|---|---|---|\n",
       "| 0 | 60 | NA | 1997-12-04 | 1997-12-04 08:47:58 | 08:47:58 | patch | Thu |\n",
       "| 0 | 61 | NA | 1997-12-21 | 1997-12-21 13:09:22 | 13:09:22 | minor | Sun |\n",
       "| 0 | 61 |  1 | 1998-01-10 | 1998-01-10 00:31:55 | 00:31:55 | patch | Sat |\n",
       "| 0 | 61 |  2 | 1998-03-14 | 1998-03-14 19:25:55 | 19:25:55 | patch | Sat |\n",
       "| 0 | 61 |  3 | 1998-05-02 | 1998-05-02 07:58:17 | 07:58:17 | patch | Sat |\n",
       "| 0 | 62 | NA | 1998-06-14 | 1998-06-14 12:56:20 | 12:56:20 | minor | Sun |\n",
       "\n"
      ],
      "text/plain": [
       "  major minor patch date       datetime            time     type  wday\n",
       "1 0     60    NA    1997-12-04 1997-12-04 08:47:58 08:47:58 patch Thu \n",
       "2 0     61    NA    1997-12-21 1997-12-21 13:09:22 13:09:22 minor Sun \n",
       "3 0     61     1    1998-01-10 1998-01-10 00:31:55 00:31:55 patch Sat \n",
       "4 0     61     2    1998-03-14 1998-03-14 19:25:55 19:25:55 patch Sat \n",
       "5 0     61     3    1998-05-02 1998-05-02 07:58:17 07:58:17 patch Sat \n",
       "6 0     62    NA    1998-06-14 1998-06-14 12:56:20 12:56:20 minor Sun "
      ]
     },
     "metadata": {},
     "output_type": "display_data"
    }
   ],
   "source": [
    "release$wday <- wday(release$datetime, label = TRUE) \n",
    "head(release)"
   ]
  },
  {
   "cell_type": "code",
   "execution_count": 39,
   "id": "d5a045a6-79a5-41e0-bd53-f1d17dc497ec",
   "metadata": {},
   "outputs": [
    {
     "data": {
      "image/png": "[encoded data removed]",
      "text/plain": [
       "plot without title"
      ]
     },
     "metadata": {
      "image/png": {
       "height": 360,
       "width": 360
      }
     },
     "output_type": "display_data"
    }
   ],
   "source": [
    "ggplot(release, aes(wday)) +\n",
    "  geom_bar() +\n",
    "  facet_wrap(~ type, ncol = 1, scale = \"free_y\")"
   ]
  },
  {
   "cell_type": "code",
   "execution_count": 46,
   "id": "1683f6eb-1058-4d85-9202-286d2c58b921",
   "metadata": {},
   "outputs": [
    {
     "name": "stderr",
     "output_type": "stream",
     "text": [
      "Warning message:\n",
      "\"\u001b[1m\u001b[22mThe dot-dot notation (`..density..`) was deprecated in ggplot2 3.4.0.\n",
      "\u001b[36mi\u001b[39m Please use `after_stat(density)` instead.\"\n",
      "Warning message:\n",
      "\"\u001b[1m\u001b[22mRemoved 10 rows containing non-finite values (`stat_density()`).\"\n"
     ]
    },
    {
     "data": {
      "image/png": "[encoded data removed]",
      "text/plain": [
       "plot without title"
      ]
     },
     "metadata": {
      "image/png": {
       "height": 360,
       "width": 360
      }
     },
     "output_type": "display_data"
    }
   ],
   "source": [
    "akl_daily <- weather %>%\n",
    "  mutate(\n",
    "    year = year(date),\n",
    "    yday = yday(date),\n",
    "    month = month(date, label = TRUE))\n",
    "\n",
    "ggplot(akl_daily, aes(x = max_temp, y = month, height = ..density..)) +\n",
    "  geom_density_ridges(stat = \"density\")"
   ]
  },
  {
   "cell_type": "code",
   "execution_count": 88,
   "id": "da83db83-b9f3-4536-a3b4-ed57a06f1d32",
   "metadata": {},
   "outputs": [
    {
     "data": {
      "text/html": [
       "<table class=\"dataframe\">\n",
       "<caption>A tibble: 2 × 14</caption>\n",
       "<thead>\n",
       "\t<tr><th scope=col>year</th><th scope=col>month</th><th scope=col>mday</th><th scope=col>time</th><th scope=col>temperature</th><th scope=col>weather</th><th scope=col>conditions</th><th scope=col>events</th><th scope=col>humidity</th><th scope=col>date_utc</th><th scope=col>datetime</th><th scope=col>hour</th><th scope=col>rainy</th><th scope=col>date</th></tr>\n",
       "\t<tr><th scope=col>&lt;dbl&gt;</th><th scope=col>&lt;ord&gt;</th><th scope=col>&lt;dbl&gt;</th><th scope=col>&lt;time&gt;</th><th scope=col>&lt;dbl&gt;</th><th scope=col>&lt;chr&gt;</th><th scope=col>&lt;chr&gt;</th><th scope=col>&lt;chr&gt;</th><th scope=col>&lt;dbl&gt;</th><th scope=col>&lt;dttm&gt;</th><th scope=col>&lt;dttm&gt;</th><th scope=col>&lt;int&gt;</th><th scope=col>&lt;lgl&gt;</th><th scope=col>&lt;date&gt;</th></tr>\n",
       "</thead>\n",
       "<tbody>\n",
       "\t<tr><td>2016</td><td>Dec</td><td>1</td><td>00:00:00</td><td>68</td><td>Clear</td><td>Clear</td><td>NA</td><td>68</td><td>2015-12-31 11:00:00</td><td>2015-12-31 11:00:00</td><td>11</td><td>FALSE</td><td>2015-12-31</td></tr>\n",
       "\t<tr><td>2016</td><td>Dec</td><td>1</td><td>00:30:00</td><td>68</td><td>Clear</td><td>Clear</td><td>NA</td><td>68</td><td>2015-12-31 11:30:00</td><td>2015-12-31 11:30:00</td><td>11</td><td>FALSE</td><td>2015-12-31</td></tr>\n",
       "</tbody>\n",
       "</table>\n"
      ],
      "text/latex": [
       "A tibble: 2 × 14\n",
       "\\begin{tabular}{llllllllllllll}\n",
       " year & month & mday & time & temperature & weather & conditions & events & humidity & date\\_utc & datetime & hour & rainy & date\\\\\n",
       " <dbl> & <ord> & <dbl> & <time> & <dbl> & <chr> & <chr> & <chr> & <dbl> & <dttm> & <dttm> & <int> & <lgl> & <date>\\\\\n",
       "\\hline\n",
       "\t 2016 & Dec & 1 & 00:00:00 & 68 & Clear & Clear & NA & 68 & 2015-12-31 11:00:00 & 2015-12-31 11:00:00 & 11 & FALSE & 2015-12-31\\\\\n",
       "\t 2016 & Dec & 1 & 00:30:00 & 68 & Clear & Clear & NA & 68 & 2015-12-31 11:30:00 & 2015-12-31 11:30:00 & 11 & FALSE & 2015-12-31\\\\\n",
       "\\end{tabular}\n"
      ],
      "text/markdown": [
       "\n",
       "A tibble: 2 × 14\n",
       "\n",
       "| year &lt;dbl&gt; | month &lt;ord&gt; | mday &lt;dbl&gt; | time &lt;time&gt; | temperature &lt;dbl&gt; | weather &lt;chr&gt; | conditions &lt;chr&gt; | events &lt;chr&gt; | humidity &lt;dbl&gt; | date_utc &lt;dttm&gt; | datetime &lt;dttm&gt; | hour &lt;int&gt; | rainy &lt;lgl&gt; | date &lt;date&gt; |\n",
       "|---|---|---|---|---|---|---|---|---|---|---|---|---|---|\n",
       "| 2016 | Dec | 1 | 00:00:00 | 68 | Clear | Clear | NA | 68 | 2015-12-31 11:00:00 | 2015-12-31 11:00:00 | 11 | FALSE | 2015-12-31 |\n",
       "| 2016 | Dec | 1 | 00:30:00 | 68 | Clear | Clear | NA | 68 | 2015-12-31 11:30:00 | 2015-12-31 11:30:00 | 11 | FALSE | 2015-12-31 |\n",
       "\n"
      ],
      "text/plain": [
       "  year month mday time     temperature weather conditions events humidity\n",
       "1 2016 Dec   1    00:00:00 68          Clear   Clear      NA     68      \n",
       "2 2016 Dec   1    00:30:00 68          Clear   Clear      NA     68      \n",
       "  date_utc            datetime            hour rainy date      \n",
       "1 2015-12-31 11:00:00 2015-12-31 11:00:00 11   FALSE 2015-12-31\n",
       "2 2015-12-31 11:30:00 2015-12-31 11:30:00 11   FALSE 2015-12-31"
      ]
     },
     "metadata": {},
     "output_type": "display_data"
    }
   ],
   "source": [
    "# Create new columns hour, month and rainy\n",
    "akl_hourly <- weather16 %>%\n",
    "  mutate(\n",
    "    hour = hour(date_utc),\n",
    "    month = month(date_utc, label = TRUE),\n",
    "    rainy = weather == \"Precipitation\",\n",
    "    date = date(date_utc)  \n",
    "  )\n",
    "\n",
    "head(akl_hourly, 2)"
   ]
  },
  {
   "cell_type": "code",
   "execution_count": 79,
   "id": "a7e5c250-f1d4-4527-82c9-8ba1f0e18420",
   "metadata": {},
   "outputs": [
    {
     "data": {
      "text/html": [
       "<table class=\"dataframe\">\n",
       "<caption>A tibble: 12 × 2</caption>\n",
       "<thead>\n",
       "\t<tr><th scope=col>month</th><th scope=col>days_rainy</th></tr>\n",
       "\t<tr><th scope=col>&lt;ord&gt;</th><th scope=col>&lt;int&gt;</th></tr>\n",
       "</thead>\n",
       "<tbody>\n",
       "\t<tr><td>Jan</td><td> 93</td></tr>\n",
       "\t<tr><td>Feb</td><td> 84</td></tr>\n",
       "\t<tr><td>Mar</td><td> 69</td></tr>\n",
       "\t<tr><td>Apr</td><td> 63</td></tr>\n",
       "\t<tr><td>May</td><td>145</td></tr>\n",
       "\t<tr><td>Jun</td><td>156</td></tr>\n",
       "\t<tr><td>Jul</td><td>169</td></tr>\n",
       "\t<tr><td>Aug</td><td>123</td></tr>\n",
       "\t<tr><td>Sep</td><td>174</td></tr>\n",
       "\t<tr><td>Oct</td><td>133</td></tr>\n",
       "\t<tr><td>Nov</td><td>141</td></tr>\n",
       "\t<tr><td>Dec</td><td> 74</td></tr>\n",
       "</tbody>\n",
       "</table>\n"
      ],
      "text/latex": [
       "A tibble: 12 × 2\n",
       "\\begin{tabular}{ll}\n",
       " month & days\\_rainy\\\\\n",
       " <ord> & <int>\\\\\n",
       "\\hline\n",
       "\t Jan &  93\\\\\n",
       "\t Feb &  84\\\\\n",
       "\t Mar &  69\\\\\n",
       "\t Apr &  63\\\\\n",
       "\t May & 145\\\\\n",
       "\t Jun & 156\\\\\n",
       "\t Jul & 169\\\\\n",
       "\t Aug & 123\\\\\n",
       "\t Sep & 174\\\\\n",
       "\t Oct & 133\\\\\n",
       "\t Nov & 141\\\\\n",
       "\t Dec &  74\\\\\n",
       "\\end{tabular}\n"
      ],
      "text/markdown": [
       "\n",
       "A tibble: 12 × 2\n",
       "\n",
       "| month &lt;ord&gt; | days_rainy &lt;int&gt; |\n",
       "|---|---|\n",
       "| Jan |  93 |\n",
       "| Feb |  84 |\n",
       "| Mar |  69 |\n",
       "| Apr |  63 |\n",
       "| May | 145 |\n",
       "| Jun | 156 |\n",
       "| Jul | 169 |\n",
       "| Aug | 123 |\n",
       "| Sep | 174 |\n",
       "| Oct | 133 |\n",
       "| Nov | 141 |\n",
       "| Dec |  74 |\n",
       "\n"
      ],
      "text/plain": [
       "   month days_rainy\n",
       "1  Jan    93       \n",
       "2  Feb    84       \n",
       "3  Mar    69       \n",
       "4  Apr    63       \n",
       "5  May   145       \n",
       "6  Jun   156       \n",
       "7  Jul   169       \n",
       "8  Aug   123       \n",
       "9  Sep   174       \n",
       "10 Oct   133       \n",
       "11 Nov   141       \n",
       "12 Dec    74       "
      ]
     },
     "metadata": {},
     "output_type": "display_data"
    }
   ],
   "source": [
    "# Filter for hours between 8am and 10pm (inclusive)\n",
    "akl_day <- akl_hourly %>% \n",
    "  filter(hour >= 8, hour <= 22)\n",
    "\n",
    "# Summarise for each month, the number of days with rain\n",
    "akl_day %>% \n",
    "  group_by(month) %>%\n",
    "  summarise(\n",
    "    days_rainy = sum(rainy)\n",
    "  )"
   ]
  },
  {
   "cell_type": "markdown",
   "id": "68711c6b-a03a-4ac3-890f-1398c6ac2c13",
   "metadata": {},
   "source": [
    "<a name=\"toc_004271_2.3\"></a>\n",
    "**2.3 Rounding datetimes**\n",
    "\n",
    "Lubridate has the following rounding functions for date objects:\n",
    "\n",
    "- `round_date()` - rounds to nearest \n",
    "- `ceiling_date()` - rounds up\n",
    "- `floor_date()` - rounds down\n",
    "\n",
    "Each of them has a `unit = ` argument that specifies the unit we want to round, e.g. `minute`, `hour`, `day`, `year` etc. and we can also add multiples e.g. `2 years`, `5 minutes`"
   ]
  },
  {
   "cell_type": "code",
   "execution_count": 93,
   "id": "7f52b48d-c48e-4c9e-bb9e-1cf02ea89042",
   "metadata": {},
   "outputs": [
    {
     "data": {
      "text/plain": [
       "[1] \"2016-05-03 UTC\""
      ]
     },
     "metadata": {},
     "output_type": "display_data"
    },
    {
     "data": {
      "text/plain": [
       "[1] \"2016-05-03 07:15:00 UTC\""
      ]
     },
     "metadata": {},
     "output_type": "display_data"
    },
    {
     "data": {
      "text/plain": [
       "[1] \"2016-05-08 UTC\""
      ]
     },
     "metadata": {},
     "output_type": "display_data"
    },
    {
     "data": {
      "text/plain": [
       "Time difference of 7.224444 hours"
      ]
     },
     "metadata": {},
     "output_type": "display_data"
    }
   ],
   "source": [
    "r_3_4_1 <- ymd_hms(\"2016-05-03 07:13:28 UTC\") # wednesday\n",
    "\n",
    "# Round down to day\n",
    "floor_date(r_3_4_1, unit = \"day\")\n",
    "\n",
    "# Round to nearest 5 minutes\n",
    "round_date(r_3_4_1, unit = \"5 minutes\")\n",
    "\n",
    "# Round up to week\n",
    "ceiling_date(r_3_4_1, unit = \"week\")\n",
    "\n",
    "# Subtract r_3_4_1 rounded down to day\n",
    "r_3_4_1 - floor_date(r_3_4_1, unit = \"day\")"
   ]
  },
  {
   "cell_type": "markdown",
   "id": "42d51031-dfa1-4b22-9429-14d76d5387db",
   "metadata": {},
   "source": [
    "<a name=\"toc_004271_3\"></a>\n",
    "## 3.   Arithmetic with Dates and Times"
   ]
  },
  {
   "cell_type": "markdown",
   "id": "8c9c6ce4-be4b-4c4d-8eea-d2d412ef8955",
   "metadata": {},
   "source": [
    "<a name=\"toc_004271_3.1\"></a>\n",
    "**3.1 Subtracting dates**\n",
    "\n",
    "Subtraction for time elapsed:\n",
    "    - `datetime_1 - datetime_2` \n",
    "    - `difftime()` - same result but can specify the `unit = ` as well. E.g. \"hours\", \"minutes\", \"secs\", \"weeks\".  etc."
   ]
  },
  {
   "cell_type": "code",
   "execution_count": 101,
   "id": "da962e12-1665-4b48-a249-c7591f99cdab",
   "metadata": {},
   "outputs": [
    {
     "data": {
      "text/plain": [
       "Time difference of 158 days"
      ]
     },
     "metadata": {},
     "output_type": "display_data"
    }
   ],
   "source": [
    "start23 <- ymd(\"2023-01-01\")\n",
    "bday23 <- ymd(\"2023-06-08\")\n",
    "bday23 - start23"
   ]
  },
  {
   "cell_type": "code",
   "execution_count": 105,
   "id": "47f77908-7bb9-4556-8665-4010a3cb2a4f",
   "metadata": {},
   "outputs": [
    {
     "data": {
      "text/plain": [
       "Time difference of 22.57143 weeks"
      ]
     },
     "metadata": {},
     "output_type": "display_data"
    }
   ],
   "source": [
    "difftime(bday23, start23, units = \"weeks\")"
   ]
  },
  {
   "cell_type": "markdown",
   "id": "0112cbf8-ef2b-4ca9-aa95-2a0859330069",
   "metadata": {},
   "source": [
    "<a name=\"toc_004271_3.2\"></a>\n",
    "**3.2 Working with periods and durations**\n",
    "\n",
    "<u>Periods</u>\n",
    "\n",
    "If we want to calculate with a given period of time instead of dates, we can use the following functions. The result will be presented in human units.\n",
    "- `seconds()`, `days()`, `minutes()`, `hours()`, `years()` etc\n",
    "\n",
    "\n",
    "<u>Durations</u>\n",
    "\n",
    "Alternatively, if we want to calculate with the duration of the given time period **in seconds**, we can write an extra `d` at the beginning of the above functions. The result will be presented in seconds.\n",
    "- `dseconds()`, `ddays()`, `dminutes()`, `dhours()`, `dyears()` etc"
   ]
  },
  {
   "cell_type": "code",
   "execution_count": 134,
   "id": "ddc8be3c-67f6-49d7-a335-9894e8fc15d4",
   "metadata": {},
   "outputs": [
    {
     "data": {
      "text/html": [
       "5d 0H 0M 0S"
      ],
      "text/latex": [
       "5d 0H 0M 0S"
      ],
      "text/markdown": [
       "5d 0H 0M 0S"
      ],
      "text/plain": [
       "[1] \"5d 0H 0M 0S\""
      ]
     },
     "metadata": {},
     "output_type": "display_data"
    },
    {
     "data": {
      "text/html": [
       "5d 0H 0M 0S"
      ],
      "text/latex": [
       "5d 0H 0M 0S"
      ],
      "text/markdown": [
       "5d 0H 0M 0S"
      ],
      "text/plain": [
       "[1] \"5d 0H 0M 0S\""
      ]
     },
     "metadata": {},
     "output_type": "display_data"
    },
    {
     "data": {
      "text/html": [
       "29d 12H 44M 3S"
      ],
      "text/latex": [
       "29d 12H 44M 3S"
      ],
      "text/markdown": [
       "29d 12H 44M 3S"
      ],
      "text/plain": [
       "[1] \"29d 12H 44M 3S\""
      ]
     },
     "metadata": {},
     "output_type": "display_data"
    },
    {
     "data": {
      "text/html": [
       "<style>\n",
       ".list-inline {list-style: none; margin:0; padding: 0}\n",
       ".list-inline>li {display: inline-block}\n",
       ".list-inline>li:not(:last-child)::after {content: \"\\00b7\"; padding: 0 .5ex}\n",
       "</style>\n",
       "<ol class=list-inline><li>2d 0H 0M 0S</li><li>4d 0H 0M 0S</li><li>6d 0H 0M 0S</li></ol>\n"
      ],
      "text/latex": [
       "\\begin{enumerate*}\n",
       "\\item 2d 0H 0M 0S\n",
       "\\item 4d 0H 0M 0S\n",
       "\\item 6d 0H 0M 0S\n",
       "\\end{enumerate*}\n"
      ],
      "text/markdown": [
       "1. 2d 0H 0M 0S\n",
       "2. 4d 0H 0M 0S\n",
       "3. 6d 0H 0M 0S\n",
       "\n",
       "\n"
      ],
      "text/plain": [
       "[1] \"2d 0H 0M 0S\" \"4d 0H 0M 0S\" \"6d 0H 0M 0S\""
      ]
     },
     "metadata": {},
     "output_type": "display_data"
    }
   ],
   "source": [
    "days(5) # stores the period of 5 days (in days)\n",
    "5 * days() # same result\n",
    "days(29) + hours(12) + minutes(44) + seconds(3)\n",
    "1:3 * days(2) # sequence of day periods"
   ]
  },
  {
   "cell_type": "code",
   "execution_count": 129,
   "id": "7bfc943d-ac91-4ea0-b555-e9963fe8588f",
   "metadata": {},
   "outputs": [
    {
     "data": {
      "text/html": [
       "432000s (~5 days)"
      ],
      "text/latex": [
       "432000s (\\textasciitilde{}5 days)"
      ],
      "text/markdown": [
       "432000s (~5 days)"
      ],
      "text/plain": [
       "[1] \"432000s (~5 days)\""
      ]
     },
     "metadata": {},
     "output_type": "display_data"
    },
    {
     "data": {
      "text/html": [
       "2551443s (~4.22 weeks)"
      ],
      "text/latex": [
       "2551443s (\\textasciitilde{}4.22 weeks)"
      ],
      "text/markdown": [
       "2551443s (~4.22 weeks)"
      ],
      "text/plain": [
       "[1] \"2551443s (~4.22 weeks)\""
      ]
     },
     "metadata": {},
     "output_type": "display_data"
    }
   ],
   "source": [
    "ddays(5) # stores the duration of 5 days in seconds\n",
    "ddays(29) + dhours(12) + dminutes(44) + dseconds(3)"
   ]
  },
  {
   "cell_type": "code",
   "execution_count": 111,
   "id": "afe333b5-cdd4-4225-821e-55da788f0335",
   "metadata": {},
   "outputs": [
    {
     "data": {
      "text/plain": [
       "[1] \"2018-09-03 14:00:00 UTC\""
      ]
     },
     "metadata": {},
     "output_type": "display_data"
    },
    {
     "data": {
      "text/plain": [
       "[1] \"2018-08-31 18:00:00 UTC\""
      ]
     },
     "metadata": {},
     "output_type": "display_data"
    },
    {
     "data": {
      "text/html": [
       "<time datetime=\"2018-08-21\">2018-08-21</time>"
      ],
      "text/latex": [
       "2018-08-21"
      ],
      "text/markdown": [
       "2018-08-21"
      ],
      "text/plain": [
       "[1] \"2018-08-21\""
      ]
     },
     "metadata": {},
     "output_type": "display_data"
    },
    {
     "data": {
      "text/plain": [
       "[1] \"2018-08-20 18:00:00 UTC\""
      ]
     },
     "metadata": {},
     "output_type": "display_data"
    }
   ],
   "source": [
    "# Add a period of one week to mon_2pm\n",
    "mon_2pm <- dmy_hm(\"27 Aug 2018 14:00\")\n",
    "mon_2pm + weeks(1)\n",
    "\n",
    "# Add a duration of 81 hours to tue_9am\n",
    "tue_9am <- dmy_hm(\"28 Aug 2018 9:00\")\n",
    "tue_9am + hours(81)\n",
    "\n",
    "# Subtract a period of five years from today()\n",
    "today() - years(5)\n",
    "\n",
    "# Subtract a duration of five years from today()\n",
    "today() - dyears(5)"
   ]
  },
  {
   "cell_type": "code",
   "execution_count": 136,
   "id": "b2b4459c-dea6-4348-8b9c-0793b5cee7c0",
   "metadata": {},
   "outputs": [
    {
     "data": {
      "text/plain": [
       " [1] \"2023-09-04 08:00:00 UTC\" \"2023-09-18 08:00:00 UTC\"\n",
       " [3] \"2023-10-02 08:00:00 UTC\" \"2023-10-16 08:00:00 UTC\"\n",
       " [5] \"2023-10-30 08:00:00 UTC\" \"2023-11-13 08:00:00 UTC\"\n",
       " [7] \"2023-11-27 08:00:00 UTC\" \"2023-12-11 08:00:00 UTC\"\n",
       " [9] \"2023-12-25 08:00:00 UTC\" \"2024-01-08 08:00:00 UTC\""
      ]
     },
     "metadata": {},
     "output_type": "display_data"
    }
   ],
   "source": [
    "## Generating sequences of datetimes\n",
    "\n",
    "# Add a period of 8 hours to today\n",
    "today_8am <- today() + hours(8) \n",
    "\n",
    "# Sequence of two weeks from 1 to 10\n",
    "every_two_weeks <- 1:10 * weeks(2)\n",
    "\n",
    "# Create datetime for every two weeks for a year\n",
    "today_8am + every_two_weeks"
   ]
  },
  {
   "cell_type": "markdown",
   "id": "1b1fe77c-aff7-4d84-a89b-0229d3851bd7",
   "metadata": {},
   "source": [
    "What should `ymd(\"2018-01-31\") + months(1)` return? Should it be 30, 31 or 28 days in the future? In general lubridate returns the **same day of the month** in the next month, but since the 31st of February doesn't exist lubridate returns a missing value, `NA`.\n",
    "\n",
    "There are alternative addition and subtraction operators that rather than returning an `NA` for a non-existent date, they roll back to the last existing date.\n",
    "- `%m+%` \n",
    "- `%m-%` "
   ]
  },
  {
   "cell_type": "code",
   "execution_count": 138,
   "id": "1e70ec9d-2103-4f6c-9488-c048a3da77d3",
   "metadata": {},
   "outputs": [
    {
     "data": {
      "text/html": [
       "<style>\n",
       ".list-inline {list-style: none; margin:0; padding: 0}\n",
       ".list-inline>li {display: inline-block}\n",
       ".list-inline>li:not(:last-child)::after {content: \"\\00b7\"; padding: 0 .5ex}\n",
       "</style>\n",
       "<ol class=list-inline><li><time datetime=\"&lt;NA&gt;\">&lt;NA&gt;</time></li><li><time datetime=\"2023-03-31\">2023-03-31</time></li><li><time datetime=\"&lt;NA&gt;\">&lt;NA&gt;</time></li><li><time datetime=\"2023-05-31\">2023-05-31</time></li><li><time datetime=\"&lt;NA&gt;\">&lt;NA&gt;</time></li><li><time datetime=\"2023-07-31\">2023-07-31</time></li><li><time datetime=\"2023-08-31\">2023-08-31</time></li><li><time datetime=\"&lt;NA&gt;\">&lt;NA&gt;</time></li><li><time datetime=\"2023-10-31\">2023-10-31</time></li><li><time datetime=\"&lt;NA&gt;\">&lt;NA&gt;</time></li><li><time datetime=\"2023-12-31\">2023-12-31</time></li><li><time datetime=\"2024-01-31\">2024-01-31</time></li></ol>\n"
      ],
      "text/latex": [
       "\\begin{enumerate*}\n",
       "\\item <NA>\n",
       "\\item 2023-03-31\n",
       "\\item <NA>\n",
       "\\item 2023-05-31\n",
       "\\item <NA>\n",
       "\\item 2023-07-31\n",
       "\\item 2023-08-31\n",
       "\\item <NA>\n",
       "\\item 2023-10-31\n",
       "\\item <NA>\n",
       "\\item 2023-12-31\n",
       "\\item 2024-01-31\n",
       "\\end{enumerate*}\n"
      ],
      "text/markdown": [
       "1. &lt;NA&gt;\n",
       "2. 2023-03-31\n",
       "3. &lt;NA&gt;\n",
       "4. 2023-05-31\n",
       "5. &lt;NA&gt;\n",
       "6. 2023-07-31\n",
       "7. 2023-08-31\n",
       "8. &lt;NA&gt;\n",
       "9. 2023-10-31\n",
       "10. &lt;NA&gt;\n",
       "11. 2023-12-31\n",
       "12. 2024-01-31\n",
       "\n",
       "\n"
      ],
      "text/plain": [
       " [1] NA           \"2023-03-31\" NA           \"2023-05-31\" NA          \n",
       " [6] \"2023-07-31\" \"2023-08-31\" NA           \"2023-10-31\" NA          \n",
       "[11] \"2023-12-31\" \"2024-01-31\""
      ]
     },
     "metadata": {},
     "output_type": "display_data"
    },
    {
     "data": {
      "text/html": [
       "<style>\n",
       ".list-inline {list-style: none; margin:0; padding: 0}\n",
       ".list-inline>li {display: inline-block}\n",
       ".list-inline>li:not(:last-child)::after {content: \"\\00b7\"; padding: 0 .5ex}\n",
       "</style>\n",
       "<ol class=list-inline><li><time datetime=\"2023-02-28\">2023-02-28</time></li><li><time datetime=\"2023-03-31\">2023-03-31</time></li><li><time datetime=\"2023-04-30\">2023-04-30</time></li><li><time datetime=\"2023-05-31\">2023-05-31</time></li><li><time datetime=\"2023-06-30\">2023-06-30</time></li><li><time datetime=\"2023-07-31\">2023-07-31</time></li><li><time datetime=\"2023-08-31\">2023-08-31</time></li><li><time datetime=\"2023-09-30\">2023-09-30</time></li><li><time datetime=\"2023-10-31\">2023-10-31</time></li><li><time datetime=\"2023-11-30\">2023-11-30</time></li><li><time datetime=\"2023-12-31\">2023-12-31</time></li><li><time datetime=\"2024-01-31\">2024-01-31</time></li></ol>\n"
      ],
      "text/latex": [
       "\\begin{enumerate*}\n",
       "\\item 2023-02-28\n",
       "\\item 2023-03-31\n",
       "\\item 2023-04-30\n",
       "\\item 2023-05-31\n",
       "\\item 2023-06-30\n",
       "\\item 2023-07-31\n",
       "\\item 2023-08-31\n",
       "\\item 2023-09-30\n",
       "\\item 2023-10-31\n",
       "\\item 2023-11-30\n",
       "\\item 2023-12-31\n",
       "\\item 2024-01-31\n",
       "\\end{enumerate*}\n"
      ],
      "text/markdown": [
       "1. 2023-02-28\n",
       "2. 2023-03-31\n",
       "3. 2023-04-30\n",
       "4. 2023-05-31\n",
       "5. 2023-06-30\n",
       "6. 2023-07-31\n",
       "7. 2023-08-31\n",
       "8. 2023-09-30\n",
       "9. 2023-10-31\n",
       "10. 2023-11-30\n",
       "11. 2023-12-31\n",
       "12. 2024-01-31\n",
       "\n",
       "\n"
      ],
      "text/plain": [
       " [1] \"2023-02-28\" \"2023-03-31\" \"2023-04-30\" \"2023-05-31\" \"2023-06-30\"\n",
       " [6] \"2023-07-31\" \"2023-08-31\" \"2023-09-30\" \"2023-10-31\" \"2023-11-30\"\n",
       "[11] \"2023-12-31\" \"2024-01-31\""
      ]
     },
     "metadata": {},
     "output_type": "display_data"
    },
    {
     "data": {
      "text/html": [
       "<style>\n",
       ".list-inline {list-style: none; margin:0; padding: 0}\n",
       ".list-inline>li {display: inline-block}\n",
       ".list-inline>li:not(:last-child)::after {content: \"\\00b7\"; padding: 0 .5ex}\n",
       "</style>\n",
       "<ol class=list-inline><li><time datetime=\"2022-12-31\">2022-12-31</time></li><li><time datetime=\"2022-11-30\">2022-11-30</time></li><li><time datetime=\"2022-10-31\">2022-10-31</time></li><li><time datetime=\"2022-09-30\">2022-09-30</time></li><li><time datetime=\"2022-08-31\">2022-08-31</time></li><li><time datetime=\"2022-07-31\">2022-07-31</time></li><li><time datetime=\"2022-06-30\">2022-06-30</time></li><li><time datetime=\"2022-05-31\">2022-05-31</time></li><li><time datetime=\"2022-04-30\">2022-04-30</time></li><li><time datetime=\"2022-03-31\">2022-03-31</time></li><li><time datetime=\"2022-02-28\">2022-02-28</time></li><li><time datetime=\"2022-01-31\">2022-01-31</time></li></ol>\n"
      ],
      "text/latex": [
       "\\begin{enumerate*}\n",
       "\\item 2022-12-31\n",
       "\\item 2022-11-30\n",
       "\\item 2022-10-31\n",
       "\\item 2022-09-30\n",
       "\\item 2022-08-31\n",
       "\\item 2022-07-31\n",
       "\\item 2022-06-30\n",
       "\\item 2022-05-31\n",
       "\\item 2022-04-30\n",
       "\\item 2022-03-31\n",
       "\\item 2022-02-28\n",
       "\\item 2022-01-31\n",
       "\\end{enumerate*}\n"
      ],
      "text/markdown": [
       "1. 2022-12-31\n",
       "2. 2022-11-30\n",
       "3. 2022-10-31\n",
       "4. 2022-09-30\n",
       "5. 2022-08-31\n",
       "6. 2022-07-31\n",
       "7. 2022-06-30\n",
       "8. 2022-05-31\n",
       "9. 2022-04-30\n",
       "10. 2022-03-31\n",
       "11. 2022-02-28\n",
       "12. 2022-01-31\n",
       "\n",
       "\n"
      ],
      "text/plain": [
       " [1] \"2022-12-31\" \"2022-11-30\" \"2022-10-31\" \"2022-09-30\" \"2022-08-31\"\n",
       " [6] \"2022-07-31\" \"2022-06-30\" \"2022-05-31\" \"2022-04-30\" \"2022-03-31\"\n",
       "[11] \"2022-02-28\" \"2022-01-31\""
      ]
     },
     "metadata": {},
     "output_type": "display_data"
    }
   ],
   "source": [
    "jan_31 <- ymd(\"2023-01-31\")\n",
    "\n",
    "# A sequence of 1 to 12 periods of 1 month\n",
    "month_seq <- 1:12 * months(1)\n",
    "\n",
    "# Add 1 to 12 months to jan_31\n",
    "jan_31 + month_seq \n",
    "\n",
    "# Replace + with %m+%\n",
    "jan_31 %m+% month_seq\n",
    "\n",
    "# Replace + with %m-%\n",
    "jan_31 %m-% month_seq"
   ]
  },
  {
   "cell_type": "markdown",
   "id": "c1adab5c-ef8e-46a9-9440-ceeaaa45f047",
   "metadata": {},
   "source": [
    "<a name=\"toc_004271_3.2\"></a>\n",
    "**3.2 Working with intervals**\n",
    "\n",
    "Creating interval objects\n",
    "- `datetime_1 %--% datetime_2` \n",
    "- `interval(datetime_1,datetime_2)`\n",
    "    \n",
    "Extracting start and end of an interval:\n",
    "- `int_start()`\n",
    "- `int_end()`\n",
    "\n",
    "Working with intervals:\n",
    "- `date %within%` inteval - check if a given datetime is within an interval\n",
    "- `int_overlaps(interval_1, interval_2)` - checks if two intervals overlap\n",
    "\n",
    "Interval to timespan>\n",
    "- `as.duration()`\n",
    "- `as.period()`"
   ]
  },
  {
   "cell_type": "code",
   "execution_count": 154,
   "id": "6725320f-152e-4232-bc32-abcab8888bcf",
   "metadata": {},
   "outputs": [
    {
     "data": {
      "text/html": [
       "1961-01-05 UTC--1969-01-30 UTC"
      ],
      "text/latex": [
       "1961-01-05 UTC--1969-01-30 UTC"
      ],
      "text/markdown": [
       "1961-01-05 UTC--1969-01-30 UTC"
      ],
      "text/plain": [
       "[1] 1961-01-05 UTC--1969-01-30 UTC"
      ]
     },
     "metadata": {},
     "output_type": "display_data"
    },
    {
     "data": {
      "text/html": [
       "1961-01-05 UTC--1969-01-30 UTC"
      ],
      "text/latex": [
       "1961-01-05 UTC--1969-01-30 UTC"
      ],
      "text/markdown": [
       "1961-01-05 UTC--1969-01-30 UTC"
      ],
      "text/plain": [
       "[1] 1961-01-05 UTC--1969-01-30 UTC"
      ]
     },
     "metadata": {},
     "output_type": "display_data"
    }
   ],
   "source": [
    "dmy(\"5 January 1961\") %--% dmy(\"30 January 1969\") # interval object\n",
    "interval(dmy(\"5 January 1961\"), dmy(\"30 January 1969\")) # same result"
   ]
  },
  {
   "cell_type": "code",
   "execution_count": 145,
   "id": "00b8ac7d-c976-451b-a8e1-7d2b7ccf1865",
   "metadata": {},
   "outputs": [
    {
     "data": {
      "text/plain": [
       "[1] \"1961-01-05 UTC\""
      ]
     },
     "metadata": {},
     "output_type": "display_data"
    },
    {
     "data": {
      "text/plain": [
       "[1] \"1969-01-30 UTC\""
      ]
     },
     "metadata": {},
     "output_type": "display_data"
    }
   ],
   "source": [
    "int1 <- dmy(\"5 January 1961\") %--% dmy(\"30 January 1969\")\n",
    "\n",
    "int_start(int1)\n",
    "int_end(int1)"
   ]
  },
  {
   "cell_type": "code",
   "execution_count": 150,
   "id": "5d98605e-8b9a-464c-8085-9d8546d69fe6",
   "metadata": {},
   "outputs": [
    {
     "data": {
      "text/html": [
       "FALSE"
      ],
      "text/latex": [
       "FALSE"
      ],
      "text/markdown": [
       "FALSE"
      ],
      "text/plain": [
       "[1] FALSE"
      ]
     },
     "metadata": {},
     "output_type": "display_data"
    },
    {
     "data": {
      "text/html": [
       "TRUE"
      ],
      "text/latex": [
       "TRUE"
      ],
      "text/markdown": [
       "TRUE"
      ],
      "text/plain": [
       "[1] TRUE"
      ]
     },
     "metadata": {},
     "output_type": "display_data"
    }
   ],
   "source": [
    "incident1 <- ymd(\"1960 Dec 12\")\n",
    "incident2 <- ymd(\"1963 Dec 12\")\n",
    "\n",
    "incident1 %within% int1\n",
    "incident2 %within% int1"
   ]
  },
  {
   "cell_type": "code",
   "execution_count": 155,
   "id": "3adffff7-17cb-4868-bd8d-2ac5b48b7f30",
   "metadata": {},
   "outputs": [
    {
     "data": {
      "text/html": [
       "TRUE"
      ],
      "text/latex": [
       "TRUE"
      ],
      "text/markdown": [
       "TRUE"
      ],
      "text/plain": [
       "[1] TRUE"
      ]
     },
     "metadata": {},
     "output_type": "display_data"
    }
   ],
   "source": [
    "hendrix <- dmy(\"01 Oct 1966\") %--% dmy(\"16 Sep 1970\")\n",
    "beatles <- dmy(\"05 Jan 1961\") %--% dmy(\"30 Jan 1969\")\n",
    "\n",
    "int_overlaps(beatles, hendrix)"
   ]
  },
  {
   "cell_type": "code",
   "execution_count": 157,
   "id": "fb88006e-a1ab-4c84-a93b-b5829e1b9c0f",
   "metadata": {},
   "outputs": [
    {
     "data": {
      "text/html": [
       "8y 0m 25d 0H 0M 0S"
      ],
      "text/latex": [
       "8y 0m 25d 0H 0M 0S"
      ],
      "text/markdown": [
       "8y 0m 25d 0H 0M 0S"
      ],
      "text/plain": [
       "[1] \"8y 0m 25d 0H 0M 0S\""
      ]
     },
     "metadata": {},
     "output_type": "display_data"
    },
    {
     "data": {
      "text/html": [
       "254620800s (~8.07 years)"
      ],
      "text/latex": [
       "254620800s (\\textasciitilde{}8.07 years)"
      ],
      "text/markdown": [
       "254620800s (~8.07 years)"
      ],
      "text/plain": [
       "[1] \"254620800s (~8.07 years)\""
      ]
     },
     "metadata": {},
     "output_type": "display_data"
    }
   ],
   "source": [
    "as.period(beatles)\n",
    "as.duration(beatles)"
   ]
  },
  {
   "cell_type": "markdown",
   "id": "3176122e-9cf0-46ba-a79c-a16c6e3e51cc",
   "metadata": {},
   "source": [
    "<a name=\"toc_004271_4\"></a>\n",
    "## 4.   Time zones\n",
    "\n",
    "Time zones are a way to keep track of the differences between local times in different locations. In R, to specify the timezone for a datetime you use a character string containing a region and city name instead GMT+3. This is because offsets might change through the year due to daylight savings, and when, and if, daylight savings occurred might have changed through history. \n",
    "\n",
    "Functions for managing timezones:\n",
    "- `OlsonNames()` - lists all timezone names R knows.\n",
    "- `Sys.timezone()` - shows the local timezone\n",
    "- `force_tz()` - overwrites a datetime's timezone\n",
    "- `with_tz()` - view the same instant in a different timezone"
   ]
  },
  {
   "cell_type": "code",
   "execution_count": 162,
   "id": "6f456877-641f-4421-95c7-7fddaceee50b",
   "metadata": {},
   "outputs": [
    {
     "data": {
      "text/html": [
       "'Europe/Prague'"
      ],
      "text/latex": [
       "'Europe/Prague'"
      ],
      "text/markdown": [
       "'Europe/Prague'"
      ],
      "text/plain": [
       "[1] \"Europe/Prague\""
      ]
     },
     "metadata": {},
     "output_type": "display_data"
    }
   ],
   "source": [
    "Sys.timezone() # local time zone"
   ]
  },
  {
   "cell_type": "code",
   "execution_count": 170,
   "id": "0c86fdac-5a49-40cf-92ae-3e74f69ce704",
   "metadata": {},
   "outputs": [
    {
     "data": {
      "text/plain": [
       "[1] \"2018-08-27 14:00:00 UTC\""
      ]
     },
     "metadata": {},
     "output_type": "display_data"
    },
    {
     "data": {
      "text/plain": [
       "[1] \"2018-08-27 14:00:00 CEST\""
      ]
     },
     "metadata": {},
     "output_type": "display_data"
    },
    {
     "data": {
      "text/plain": [
       "[1] \"2018-08-27 16:00:00 CEST\""
      ]
     },
     "metadata": {},
     "output_type": "display_data"
    }
   ],
   "source": [
    "tz1 <- dmy_hm(\"27 Aug 2018 14:00\")\n",
    "tz1\n",
    "\n",
    "force_tz(tz1, tzone = \"Europe/Prague\")\n",
    "with_tz(tz1, tzone = \"Europe/Prague\")"
   ]
  },
  {
   "cell_type": "markdown",
   "id": "37681682-150e-4630-b188-47816a4da480",
   "metadata": {},
   "source": [
    "<a name=\"toc_004271_5\"></a>\n",
    "## 5.   Formatting datetimes\n",
    "\n",
    "When you want to output a date in a nice way for human consumption, perhaps as a timestamp on a report use: \n",
    "- `stamp()` - takes a string which should be an example of how the date should be formatted, and returns a function that can be used to format dates."
   ]
  },
  {
   "cell_type": "code",
   "execution_count": 234,
   "id": "5b600d17-a9a1-4427-9971-0d5a14c1b6cb",
   "metadata": {},
   "outputs": [
    {
     "name": "stderr",
     "output_type": "stream",
     "text": [
      "Multiple formats matched: \"%A, %b %d, %Y\"(1), \"Saturday, %Om %d, %Y\"(1), \"Saturday, Jan %Om, %Y\"(1), \"Saturday, %b %d, %Y\"(1), \"Saturday, Jan %m, %Y\"(1), \"%A, %Om %d, %Y\"(0), \"%A, Jan %Om, %Y\"(0), \"%A, Jan %m, %Y\"(0)\n",
      "\n",
      "Using: \"%A, %b %d, %Y\"\n",
      "\n"
     ]
    },
    {
     "data": {
      "text/html": [
       "<pre class=language-r><code>function (x, locale = \"English_United States.1252\") \n",
       "{\n",
       "<span style=white-space:pre-wrap>    {</span>\n",
       "<span style=white-space:pre-wrap>        old_lc_time &lt;- Sys.getlocale(\"LC_TIME\")</span>\n",
       "<span style=white-space:pre-wrap>        if (old_lc_time != locale) {</span>\n",
       "<span style=white-space:pre-wrap>            on.exit(Sys.setlocale(\"LC_TIME\", old_lc_time))</span>\n",
       "<span style=white-space:pre-wrap>            Sys.setlocale(\"LC_TIME\", locale)</span>\n",
       "<span style=white-space:pre-wrap>        }</span>\n",
       "<span style=white-space:pre-wrap>    }</span>\n",
       "<span style=white-space:pre-wrap>    format(x, format = \"%A, %b %d, %Y\")</span>\n",
       "}</code></pre>"
      ],
      "text/latex": [
       "\\begin{minted}{r}\n",
       "function (x, locale = \"English\\_United States.1252\") \n",
       "\\{\n",
       "    \\{\n",
       "        old\\_lc\\_time <- Sys.getlocale(\"LC\\_TIME\")\n",
       "        if (old\\_lc\\_time != locale) \\{\n",
       "            on.exit(Sys.setlocale(\"LC\\_TIME\", old\\_lc\\_time))\n",
       "            Sys.setlocale(\"LC\\_TIME\", locale)\n",
       "        \\}\n",
       "    \\}\n",
       "    format(x, format = \"\\%A, \\%b \\%d, \\%Y\")\n",
       "\\}\n",
       "\\end{minted}"
      ],
      "text/markdown": [
       "```r\n",
       "function (x, locale = \"English_United States.1252\") \n",
       "{\n",
       "    {\n",
       "        old_lc_time <- Sys.getlocale(\"LC_TIME\")\n",
       "        if (old_lc_time != locale) {\n",
       "            on.exit(Sys.setlocale(\"LC_TIME\", old_lc_time))\n",
       "            Sys.setlocale(\"LC_TIME\", locale)\n",
       "        }\n",
       "    }\n",
       "    format(x, format = \"%A, %b %d, %Y\")\n",
       "}\n",
       "```"
      ],
      "text/plain": [
       "function (x, locale = \"English_United States.1252\") \n",
       "{\n",
       "    {\n",
       "        old_lc_time <- Sys.getlocale(\"LC_TIME\")\n",
       "        if (old_lc_time != locale) {\n",
       "            on.exit(Sys.setlocale(\"LC_TIME\", old_lc_time))\n",
       "            Sys.setlocale(\"LC_TIME\", locale)\n",
       "        }\n",
       "    }\n",
       "    format(x, format = \"%A, %b %d, %Y\")\n",
       "}\n",
       "<environment: 0x0000000028bdc518>"
      ]
     },
     "metadata": {},
     "output_type": "display_data"
    }
   ],
   "source": [
    "# Create a stamp based on \"Saturday, Jan 1, 2000\"\n",
    "date_stamp <- stamp(\"Saturday, Jan 1, 2000\")\n",
    "\n",
    "# Print the generated date_stamp function\n",
    "date_stamp"
   ]
  },
  {
   "cell_type": "code",
   "execution_count": 242,
   "id": "0f85cfda-130d-4e59-8a6b-9c9db900529f",
   "metadata": {},
   "outputs": [
    {
     "data": {
      "text/html": [
       "'Tuesday, Aug 22, 2023'"
      ],
      "text/latex": [
       "'Tuesday, Aug 22, 2023'"
      ],
      "text/markdown": [
       "'Tuesday, Aug 22, 2023'"
      ],
      "text/plain": [
       "[1] \"Tuesday, Aug 22, 2023\""
      ]
     },
     "metadata": {},
     "output_type": "display_data"
    },
    {
     "data": {
      "text/html": [
       "<time datetime=\"2012-01-05\">2012-01-05</time>"
      ],
      "text/latex": [
       "2012-01-05"
      ],
      "text/markdown": [
       "2012-01-05"
      ],
      "text/plain": [
       "[1] \"2012-01-05\""
      ]
     },
     "metadata": {},
     "output_type": "display_data"
    },
    {
     "data": {
      "text/html": [
       "'Thursday, Jan 05, 2012'"
      ],
      "text/latex": [
       "'Thursday, Jan 05, 2012'"
      ],
      "text/markdown": [
       "'Thursday, Jan 05, 2012'"
      ],
      "text/plain": [
       "[1] \"Thursday, Jan 05, 2012\""
      ]
     },
     "metadata": {},
     "output_type": "display_data"
    }
   ],
   "source": [
    "# Call the date_stamp function on date objects\n",
    "date_stamp(today())\n",
    "\n",
    "xy <- as.Date(\"2012-01-05\")\n",
    "xy\n",
    "date_stamp(xy)"
   ]
  },
  {
   "cell_type": "code",
   "execution_count": 245,
   "id": "26a681ea-aa7a-485e-b123-62ba6b2242ab",
   "metadata": {},
   "outputs": [
    {
     "name": "stderr",
     "output_type": "stream",
     "text": [
      "Multiple formats matched: \"Created on %A, %b %d, %Y %I:%M %p\"(1), \"Created on Sunday, %b %d, %Y %I:%M %p\"(1), \"Created on %A, %Om %d, %Y %I:%M %p\"(0), \"Created on Sunday, %Om %d, %Y %I:%M %p\"(0)\n",
      "\n",
      "Using: \"Created on %A, %b %d, %Y %I:%M %p\"\n",
      "\n"
     ]
    },
    {
     "data": {
      "text/html": [
       "'Created on Monday, Apr 05, 2010 12:00 AM'"
      ],
      "text/latex": [
       "'Created on Monday, Apr 05, 2010 12:00 AM'"
      ],
      "text/markdown": [
       "'Created on Monday, Apr 05, 2010 12:00 AM'"
      ],
      "text/plain": [
       "[1] \"Created on Monday, Apr 05, 2010 12:00 AM\""
      ]
     },
     "metadata": {},
     "output_type": "display_data"
    }
   ],
   "source": [
    "my_stamp <- stamp(\"Created on Sunday, Jan 1, 1999 3:34 pm\")\n",
    "\n",
    "D <- ymd(\"2010-04-05\") \n",
    "my_stamp(D)"
   ]
  }
 ],
 "metadata": {
  "kernelspec": {
   "display_name": "R",
   "language": "R",
   "name": "ir"
  },
  "language_info": {
   "codemirror_mode": "r",
   "file_extension": ".r",
   "mimetype": "text/x-r-source",
   "name": "R",
   "pygments_lexer": "r",
   "version": "4.1.3"
  }
 },
 "nbformat": 4,
 "nbformat_minor": 5
}
