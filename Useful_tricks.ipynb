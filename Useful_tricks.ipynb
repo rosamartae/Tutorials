{
 "cells": [
  {
   "cell_type": "markdown",
   "id": "a63ede7a-0fcb-4794-8aad-ff3c69e31cc9",
   "metadata": {},
   "source": [
    "# Useful tricks\n",
    "## -- Personal collection of useful R code --\n",
    "\n",
    " **Used packages**\n",
    " - tidyverse\n",
    " \n",
    "**Table of content**\n",
    "- [&nbsp;&nbsp;1. Ratio calculation](#toc_788789_1)\n",
    "    - [&nbsp;&nbsp;1.1 Calculate a ratio for each subject](#toc_788789_1.1)\n",
    "    - [&nbsp;&nbsp;1.2 Calculate multiple ratios for each subject](#toc_788789_1.2)\n",
    "    - [&nbsp;&nbsp;1.3 Calculate ratios for multiple variables](#toc_788789_1.3)\n",
    "- [&nbsp;&nbsp;2. Common problems in PK analysis](#toc_788789_2)\n",
    "    - [&nbsp;&nbsp;2.1 Baseline correction](#toc_788789_2.1)\n",
    "    - [&nbsp;&nbsp;2.2 Total calculation](#toc_788789_2.2)\n",
    "    - [&nbsp;&nbsp;2.3 Keep trailing zeros after converting numbers to characters](#toc_788789_2.3)   \n",
    "    - [&nbsp;&nbsp;2.4 Calculate the number of distinct values per groups](#toc_788789_2.4) \n",
    "- [&nbsp;&nbsp;3. Process multiple columns at once](#toc_788789_3)\n",
    "    - [&nbsp;&nbsp;3.1 The across() function](#toc_788789_3.1)\n",
    "    - [&nbsp;&nbsp;3.2 Dynamic column selection with matches() and where()](#toc_788789_3.2)\n",
    "    - [&nbsp;&nbsp;3.3 Use everything(), all_of() and any_of with across](#toc_788789_3.3)\n",
    "    - [&nbsp;&nbsp;3.4 Creating and naming separate columns for the output](#toc_788789_3.4)\n",
    "    - [&nbsp;&nbsp;3.5 Use across() with summarise() or reframe()](#toc_788789_3.5)\n",
    "    - [&nbsp;&nbsp;3.6 Insert new row with add_row()](#toc_788789_3.6)\n",
    "- [&nbsp;&nbsp;4. Mutate with conditions](#toc_788789_4)\n",
    "    - [&nbsp;&nbsp;4.1 Mutate with ifelse()](#toc_788789_4.1)\n",
    "    - [&nbsp;&nbsp;4.2 Mutate with case_when()](#toc_788789_4.2)\n",
    "    - [&nbsp;&nbsp;4.3 The replace() function](#toc_788789_4.3)\n",
    "    - [&nbsp;&nbsp;4.4 The any() and all() functions](#toc_788789_4.4)\n",
    "    - [&nbsp;&nbsp;4.5 The exists() functions](#toc_788789_4.5)\n",
    "- [&nbsp;&nbsp;5. Advanced filtering and column handling](#toc_788789_5)\n",
    "    - [&nbsp;&nbsp;5.1 The if_any() and if_all() functions](#toc_788789_5.1)\n",
    "    - [&nbsp;&nbsp;5.2 The select_if() and select_at() functions](#toc_788789_5.2)\n",
    "    - [&nbsp;&nbsp;5.3 The rename_width() function](#toc_788789_5.3)\n",
    "- [&nbsp;&nbsp;6. Handling NA](#toc_788789_6)\n",
    "- [&nbsp;&nbsp;7. Creating functions from ggplot](#toc_788789_7)\n",
    "- [&nbsp;&nbsp;8. Growing datasets with loops](#toc_788789_8)\n",
    "- [&nbsp;&nbsp;9. Check if an object exists](#toc_788789_9)"
   ]
  },
  {
   "cell_type": "code",
   "execution_count": 47,
   "id": "86fa5323-43b1-4824-929e-939bdf9f14b4",
   "metadata": {},
   "outputs": [],
   "source": [
    "suppressMessages(library(tidyverse))\n",
    "options(repr.plot.width=6, repr.plot.height=6)\n",
    "theme_set(theme_grey(base_size =10))"
   ]
  },
  {
   "cell_type": "markdown",
   "id": "99fadc4e-831f-4c57-b3f4-0e454589ff88",
   "metadata": {},
   "source": [
    "<a name=\"toc_788789_1\"></a>\n",
    "## 1.   Ratio calculation"
   ]
  },
  {
   "cell_type": "markdown",
   "id": "933da2ce-9226-4be2-98ba-e5ae8a9acd16",
   "metadata": {},
   "source": [
    "<a name=\"toc_788789_1.1\"></a>\n",
    "<u>1.1 Calculate a ratio for each subject</u>"
   ]
  },
  {
   "cell_type": "code",
   "execution_count": 133,
   "id": "ec807762-e363-455e-9bd8-19eaafcf8f15",
   "metadata": {},
   "outputs": [
    {
     "data": {
      "text/html": [
       "<table class=\"dataframe\">\n",
       "<caption>A data.frame: 4 × 3</caption>\n",
       "<thead>\n",
       "\t<tr><th></th><th scope=col>period</th><th scope=col>subj</th><th scope=col>value1</th></tr>\n",
       "\t<tr><th></th><th scope=col>&lt;dbl&gt;</th><th scope=col>&lt;fct&gt;</th><th scope=col>&lt;dbl&gt;</th></tr>\n",
       "</thead>\n",
       "<tbody>\n",
       "\t<tr><th scope=row>1</th><td>1</td><td>1</td><td> 7.171731</td></tr>\n",
       "\t<tr><th scope=row>2</th><td>2</td><td>1</td><td> 8.146142</td></tr>\n",
       "\t<tr><th scope=row>3</th><td>1</td><td>2</td><td>10.992766</td></tr>\n",
       "\t<tr><th scope=row>4</th><td>2</td><td>2</td><td>11.288687</td></tr>\n",
       "</tbody>\n",
       "</table>\n"
      ],
      "text/latex": [
       "A data.frame: 4 × 3\n",
       "\\begin{tabular}{r|lll}\n",
       "  & period & subj & value1\\\\\n",
       "  & <dbl> & <fct> & <dbl>\\\\\n",
       "\\hline\n",
       "\t1 & 1 & 1 &  7.171731\\\\\n",
       "\t2 & 2 & 1 &  8.146142\\\\\n",
       "\t3 & 1 & 2 & 10.992766\\\\\n",
       "\t4 & 2 & 2 & 11.288687\\\\\n",
       "\\end{tabular}\n"
      ],
      "text/markdown": [
       "\n",
       "A data.frame: 4 × 3\n",
       "\n",
       "| <!--/--> | period &lt;dbl&gt; | subj &lt;fct&gt; | value1 &lt;dbl&gt; |\n",
       "|---|---|---|---|\n",
       "| 1 | 1 | 1 |  7.171731 |\n",
       "| 2 | 2 | 1 |  8.146142 |\n",
       "| 3 | 1 | 2 | 10.992766 |\n",
       "| 4 | 2 | 2 | 11.288687 |\n",
       "\n"
      ],
      "text/plain": [
       "  period subj value1   \n",
       "1 1      1     7.171731\n",
       "2 2      1     8.146142\n",
       "3 1      2    10.992766\n",
       "4 2      2    11.288687"
      ]
     },
     "metadata": {},
     "output_type": "display_data"
    }
   ],
   "source": [
    "set.seed(5212)\n",
    "data <- expand.grid(period = c(1, 2), subj = as.factor(c(1:10))) %>%\n",
    "  mutate(value1 = rnorm(20, 10, 2))\n",
    "\n",
    "head(data, 4)"
   ]
  },
  {
   "cell_type": "code",
   "execution_count": 136,
   "id": "4b0099e0-7560-4e9a-a318-cc3029a972a0",
   "metadata": {},
   "outputs": [
    {
     "data": {
      "text/html": [
       "<table class=\"dataframe\">\n",
       "<caption>A grouped_df: 2 × 4</caption>\n",
       "<thead>\n",
       "\t<tr><th scope=col>period</th><th scope=col>subj</th><th scope=col>value1</th><th scope=col>value1_ratio</th></tr>\n",
       "\t<tr><th scope=col>&lt;dbl&gt;</th><th scope=col>&lt;fct&gt;</th><th scope=col>&lt;dbl&gt;</th><th scope=col>&lt;dbl&gt;</th></tr>\n",
       "</thead>\n",
       "<tbody>\n",
       "\t<tr><td>1</td><td>1</td><td> 7.171731</td><td>0.8803837</td></tr>\n",
       "\t<tr><td>1</td><td>2</td><td>10.992766</td><td>0.9737860</td></tr>\n",
       "</tbody>\n",
       "</table>\n"
      ],
      "text/latex": [
       "A grouped\\_df: 2 × 4\n",
       "\\begin{tabular}{llll}\n",
       " period & subj & value1 & value1\\_ratio\\\\\n",
       " <dbl> & <fct> & <dbl> & <dbl>\\\\\n",
       "\\hline\n",
       "\t 1 & 1 &  7.171731 & 0.8803837\\\\\n",
       "\t 1 & 2 & 10.992766 & 0.9737860\\\\\n",
       "\\end{tabular}\n"
      ],
      "text/markdown": [
       "\n",
       "A grouped_df: 2 × 4\n",
       "\n",
       "| period &lt;dbl&gt; | subj &lt;fct&gt; | value1 &lt;dbl&gt; | value1_ratio &lt;dbl&gt; |\n",
       "|---|---|---|---|\n",
       "| 1 | 1 |  7.171731 | 0.8803837 |\n",
       "| 1 | 2 | 10.992766 | 0.9737860 |\n",
       "\n"
      ],
      "text/plain": [
       "  period subj value1    value1_ratio\n",
       "1 1      1     7.171731 0.8803837   \n",
       "2 1      2    10.992766 0.9737860   "
      ]
     },
     "metadata": {},
     "output_type": "display_data"
    }
   ],
   "source": [
    "data %>% \n",
    "  group_by(subj) %>% \n",
    "  mutate(value1_ratio = value1 / value1[period == 2]) %>% \n",
    "  filter(period == 1) %>% # delete as all ratios in this row will be 1\n",
    "  head(2)  "
   ]
  },
  {
   "cell_type": "markdown",
   "id": "d08fc813-6661-4b50-ad4f-1803f44d2d7c",
   "metadata": {},
   "source": [
    "<a name=\"toc_788789_1.2\"></a>\n",
    "<u>1.2 Calculate multiple ratios for each subject</u>"
   ]
  },
  {
   "cell_type": "code",
   "execution_count": 206,
   "id": "fa1a2b77-2fa2-4dc1-9dd4-a20946323b67",
   "metadata": {},
   "outputs": [
    {
     "data": {
      "text/html": [
       "<table class=\"dataframe\">\n",
       "<caption>A data.frame: 3 × 3</caption>\n",
       "<thead>\n",
       "\t<tr><th></th><th scope=col>level</th><th scope=col>subj</th><th scope=col>value1</th></tr>\n",
       "\t<tr><th></th><th scope=col>&lt;fct&gt;</th><th scope=col>&lt;fct&gt;</th><th scope=col>&lt;dbl&gt;</th></tr>\n",
       "</thead>\n",
       "<tbody>\n",
       "\t<tr><th scope=row>1</th><td>Low </td><td>1</td><td>13.096170</td></tr>\n",
       "\t<tr><th scope=row>2</th><td>Mid </td><td>1</td><td>15.611257</td></tr>\n",
       "\t<tr><th scope=row>3</th><td>High</td><td>1</td><td> 9.481224</td></tr>\n",
       "</tbody>\n",
       "</table>\n"
      ],
      "text/latex": [
       "A data.frame: 3 × 3\n",
       "\\begin{tabular}{r|lll}\n",
       "  & level & subj & value1\\\\\n",
       "  & <fct> & <fct> & <dbl>\\\\\n",
       "\\hline\n",
       "\t1 & Low  & 1 & 13.096170\\\\\n",
       "\t2 & Mid  & 1 & 15.611257\\\\\n",
       "\t3 & High & 1 &  9.481224\\\\\n",
       "\\end{tabular}\n"
      ],
      "text/markdown": [
       "\n",
       "A data.frame: 3 × 3\n",
       "\n",
       "| <!--/--> | level &lt;fct&gt; | subj &lt;fct&gt; | value1 &lt;dbl&gt; |\n",
       "|---|---|---|---|\n",
       "| 1 | Low  | 1 | 13.096170 |\n",
       "| 2 | Mid  | 1 | 15.611257 |\n",
       "| 3 | High | 1 |  9.481224 |\n",
       "\n"
      ],
      "text/plain": [
       "  level subj value1   \n",
       "1 Low   1    13.096170\n",
       "2 Mid   1    15.611257\n",
       "3 High  1     9.481224"
      ]
     },
     "metadata": {},
     "output_type": "display_data"
    }
   ],
   "source": [
    "set.seed(64650)\n",
    "data2 <- expand.grid(level = c(\"Low\", \"Mid\", \"High\"), subj = as.factor(c(1:10))) %>%\n",
    "  mutate(value1 = rnorm(30, 10, 2))\n",
    "\n",
    "head(data, 3)"
   ]
  },
  {
   "cell_type": "code",
   "execution_count": 51,
   "id": "23401acd-c60b-4430-8d02-40c90892914f",
   "metadata": {},
   "outputs": [
    {
     "data": {
      "text/html": [
       "<table class=\"dataframe\">\n",
       "<caption>A grouped_df: 2 × 4</caption>\n",
       "<thead>\n",
       "\t<tr><th scope=col>subj</th><th scope=col>Mid_Low</th><th scope=col>High_Mid</th><th scope=col>High_Low</th></tr>\n",
       "\t<tr><th scope=col>&lt;fct&gt;</th><th scope=col>&lt;dbl&gt;</th><th scope=col>&lt;dbl&gt;</th><th scope=col>&lt;dbl&gt;</th></tr>\n",
       "</thead>\n",
       "<tbody>\n",
       "\t<tr><td>1</td><td>1.1920475</td><td>0.6073325</td><td>0.7239692</td></tr>\n",
       "\t<tr><td>2</td><td>0.5704924</td><td>1.1393453</td><td>0.6499878</td></tr>\n",
       "</tbody>\n",
       "</table>\n"
      ],
      "text/latex": [
       "A grouped\\_df: 2 × 4\n",
       "\\begin{tabular}{llll}\n",
       " subj & Mid\\_Low & High\\_Mid & High\\_Low\\\\\n",
       " <fct> & <dbl> & <dbl> & <dbl>\\\\\n",
       "\\hline\n",
       "\t 1 & 1.1920475 & 0.6073325 & 0.7239692\\\\\n",
       "\t 2 & 0.5704924 & 1.1393453 & 0.6499878\\\\\n",
       "\\end{tabular}\n"
      ],
      "text/markdown": [
       "\n",
       "A grouped_df: 2 × 4\n",
       "\n",
       "| subj &lt;fct&gt; | Mid_Low &lt;dbl&gt; | High_Mid &lt;dbl&gt; | High_Low &lt;dbl&gt; |\n",
       "|---|---|---|---|\n",
       "| 1 | 1.1920475 | 0.6073325 | 0.7239692 |\n",
       "| 2 | 0.5704924 | 1.1393453 | 0.6499878 |\n",
       "\n"
      ],
      "text/plain": [
       "  subj Mid_Low   High_Mid  High_Low \n",
       "1 1    1.1920475 0.6073325 0.7239692\n",
       "2 2    0.5704924 1.1393453 0.6499878"
      ]
     },
     "metadata": {},
     "output_type": "display_data"
    }
   ],
   "source": [
    "data2 %>% \n",
    "  group_by(subj) %>% \n",
    "  mutate(Mid_Low = value1[level == \"Mid\"] / value1[level == \"Low\"],\n",
    "         High_Mid = value1[level == \"High\"] / value1[level == \"Mid\"],\n",
    "         High_Low = value1[level == \"High\"] / value1[level == \"Low\"]) %>% \n",
    "  select(subj, Mid_Low, High_Mid, High_Low)  %>% \n",
    "  distinct() %>%\n",
    "  head(2)  "
   ]
  },
  {
   "cell_type": "markdown",
   "id": "03880935-8783-46eb-a17b-5314b6568869",
   "metadata": {},
   "source": [
    "<a name=\"toc_788789_1.3\"></a>\n",
    "<u>1.3 Calculate ratios for multiple variables</u>"
   ]
  },
  {
   "cell_type": "code",
   "execution_count": 22,
   "id": "fd01b1ca-a647-45f4-a355-d2cd9887313d",
   "metadata": {},
   "outputs": [
    {
     "data": {
      "text/plain": [
       "                                                                            \n",
       "1 function (..., list = character(), package = NULL, lib.loc = NULL,        \n",
       "2     verbose = getOption(\"verbose\"), envir = .GlobalEnv, overwrite = TRUE) \n",
       "3 {                                                                         \n",
       "4     fileExt <- function(x) {                                              "
      ]
     },
     "metadata": {},
     "output_type": "display_data"
    }
   ],
   "source": [
    "set.seed(5212)\n",
    "data3 <- expand.grid(period = c(1, 2), subj = as.factor(c(1:10))) %>%\n",
    "  mutate(value1 = rnorm(20, 10, 2),\n",
    "        value2 = rnorm(20, 20, 3),\n",
    "        value3 = rnorm(20, 100, 20)\n",
    "        )\n",
    "\n",
    "head(data, 4)"
   ]
  },
  {
   "cell_type": "code",
   "execution_count": 23,
   "id": "2abb75f2-23e1-4a3d-981f-021a2574067c",
   "metadata": {},
   "outputs": [
    {
     "data": {
      "text/html": [
       "<table class=\"dataframe\">\n",
       "<caption>A grouped_df: 2 × 6</caption>\n",
       "<thead>\n",
       "\t<tr><th scope=col>period</th><th scope=col>subj</th><th scope=col>value1_ratio</th><th scope=col>value2_ratio</th><th scope=col>value3_ratio</th><th scope=col>as.factor(subj)</th></tr>\n",
       "\t<tr><th scope=col>&lt;dbl&gt;</th><th scope=col>&lt;fct&gt;</th><th scope=col>&lt;dbl&gt;</th><th scope=col>&lt;dbl&gt;</th><th scope=col>&lt;dbl&gt;</th><th scope=col>&lt;fct&gt;</th></tr>\n",
       "</thead>\n",
       "<tbody>\n",
       "\t<tr><td>1</td><td>1</td><td>0.8803837</td><td>1.1204631</td><td>1.100721</td><td>1</td></tr>\n",
       "\t<tr><td>1</td><td>2</td><td>0.9737860</td><td>0.6868451</td><td>1.798671</td><td>2</td></tr>\n",
       "</tbody>\n",
       "</table>\n"
      ],
      "text/latex": [
       "A grouped\\_df: 2 × 6\n",
       "\\begin{tabular}{llllll}\n",
       " period & subj & value1\\_ratio & value2\\_ratio & value3\\_ratio & as.factor(subj)\\\\\n",
       " <dbl> & <fct> & <dbl> & <dbl> & <dbl> & <fct>\\\\\n",
       "\\hline\n",
       "\t 1 & 1 & 0.8803837 & 1.1204631 & 1.100721 & 1\\\\\n",
       "\t 1 & 2 & 0.9737860 & 0.6868451 & 1.798671 & 2\\\\\n",
       "\\end{tabular}\n"
      ],
      "text/markdown": [
       "\n",
       "A grouped_df: 2 × 6\n",
       "\n",
       "| period &lt;dbl&gt; | subj &lt;fct&gt; | value1_ratio &lt;dbl&gt; | value2_ratio &lt;dbl&gt; | value3_ratio &lt;dbl&gt; | as.factor(subj) &lt;fct&gt; |\n",
       "|---|---|---|---|---|---|\n",
       "| 1 | 1 | 0.8803837 | 1.1204631 | 1.100721 | 1 |\n",
       "| 1 | 2 | 0.9737860 | 0.6868451 | 1.798671 | 2 |\n",
       "\n"
      ],
      "text/plain": [
       "  period subj value1_ratio value2_ratio value3_ratio as.factor(subj)\n",
       "1 1      1    0.8803837    1.1204631    1.100721     1              \n",
       "2 1      2    0.9737860    0.6868451    1.798671     2              "
      ]
     },
     "metadata": {},
     "output_type": "display_data"
    }
   ],
   "source": [
    "ratio_cols <- names(data3[,3:5])\n",
    "\n",
    "data3 %>% \n",
    "  group_by(as.factor(subj)) %>% \n",
    "  mutate_at(ratio_cols, .funs = list(~ ./.[period == 2])) %>% \n",
    "  rename_at(ratio_cols, .funs = (~ paste0(.,\"_ratio\"))) %>% # add \"_ratio\" at the end of the column name\n",
    "  filter(period == 1) %>% \n",
    "  head(2)  "
   ]
  },
  {
   "cell_type": "markdown",
   "id": "7201cbca-87ca-471d-9ff0-95305f14eed9",
   "metadata": {},
   "source": [
    "<a name=\"toc_788789_2\"></a>\n",
    "## 2.   Common problems in PK analysis"
   ]
  },
  {
   "cell_type": "markdown",
   "id": "64895626-9462-4b11-9fd7-17ea086b5011",
   "metadata": {},
   "source": [
    "<a name=\"toc_788789_2.1\"></a>\n",
    "<u>2.1 Baseline correction</u>"
   ]
  },
  {
   "cell_type": "code",
   "execution_count": 226,
   "id": "bb3c7b4c-259e-48d2-b095-d9e19d083a19",
   "metadata": {},
   "outputs": [
    {
     "data": {
      "text/html": [
       "<table class=\"dataframe\">\n",
       "<caption>A data.frame: 2 × 3</caption>\n",
       "<thead>\n",
       "\t<tr><th></th><th scope=col>subj</th><th scope=col>day</th><th scope=col>value</th></tr>\n",
       "\t<tr><th></th><th scope=col>&lt;int&gt;</th><th scope=col>&lt;fct&gt;</th><th scope=col>&lt;dbl&gt;</th></tr>\n",
       "</thead>\n",
       "<tbody>\n",
       "\t<tr><th scope=row>1</th><td>1</td><td>1</td><td>19.92692</td></tr>\n",
       "\t<tr><th scope=row>2</th><td>2</td><td>1</td><td>20.58157</td></tr>\n",
       "</tbody>\n",
       "</table>\n"
      ],
      "text/latex": [
       "A data.frame: 2 × 3\n",
       "\\begin{tabular}{r|lll}\n",
       "  & subj & day & value\\\\\n",
       "  & <int> & <fct> & <dbl>\\\\\n",
       "\\hline\n",
       "\t1 & 1 & 1 & 19.92692\\\\\n",
       "\t2 & 2 & 1 & 20.58157\\\\\n",
       "\\end{tabular}\n"
      ],
      "text/markdown": [
       "\n",
       "A data.frame: 2 × 3\n",
       "\n",
       "| <!--/--> | subj &lt;int&gt; | day &lt;fct&gt; | value &lt;dbl&gt; |\n",
       "|---|---|---|---|\n",
       "| 1 | 1 | 1 | 19.92692 |\n",
       "| 2 | 2 | 1 | 20.58157 |\n",
       "\n"
      ],
      "text/plain": [
       "  subj day value   \n",
       "1 1    1   19.92692\n",
       "2 2    1   20.58157"
      ]
     },
     "metadata": {},
     "output_type": "display_data"
    }
   ],
   "source": [
    "set.seed(12314)\n",
    "database <- expand.grid(subj = c(1:6), day = c(\"1\", \"7\")) %>%\n",
    "         mutate(value = c(rnorm(6, 10, 20), rnorm(6, 100, 20)))\n",
    "\n",
    "head(database, 2)"
   ]
  },
  {
   "cell_type": "code",
   "execution_count": null,
   "id": "47b6c898-4c0d-441f-b7c0-3abb4bf94bb1",
   "metadata": {},
   "outputs": [
    {
     "data": {
      "text/html": [
       "<table class=\"dataframe\">\n",
       "<caption>A grouped_df: 6 × 4</caption>\n",
       "<thead>\n",
       "\t<tr><th scope=col>subj</th><th scope=col>day</th><th scope=col>value</th><th scope=col>value_corr</th></tr>\n",
       "\t<tr><th scope=col>&lt;int&gt;</th><th scope=col>&lt;fct&gt;</th><th scope=col>&lt;dbl&gt;</th><th scope=col>&lt;dbl&gt;</th></tr>\n",
       "</thead>\n",
       "<tbody>\n",
       "\t<tr><td>1</td><td>7</td><td> 85.76466</td><td> 65.83773</td></tr>\n",
       "\t<tr><td>2</td><td>7</td><td> 95.21969</td><td> 74.63812</td></tr>\n",
       "\t<tr><td>3</td><td>7</td><td> 98.91924</td><td> 83.00435</td></tr>\n",
       "\t<tr><td>4</td><td>7</td><td>116.35108</td><td>104.43870</td></tr>\n",
       "\t<tr><td>5</td><td>7</td><td>115.52133</td><td> 82.24018</td></tr>\n",
       "\t<tr><td>6</td><td>7</td><td>128.26492</td><td> 94.38294</td></tr>\n",
       "</tbody>\n",
       "</table>\n"
      ],
      "text/latex": [
       "A grouped\\_df: 6 × 4\n",
       "\\begin{tabular}{llll}\n",
       " subj & day & value & value\\_corr\\\\\n",
       " <int> & <fct> & <dbl> & <dbl>\\\\\n",
       "\\hline\n",
       "\t 1 & 7 &  85.76466 &  65.83773\\\\\n",
       "\t 2 & 7 &  95.21969 &  74.63812\\\\\n",
       "\t 3 & 7 &  98.91924 &  83.00435\\\\\n",
       "\t 4 & 7 & 116.35108 & 104.43870\\\\\n",
       "\t 5 & 7 & 115.52133 &  82.24018\\\\\n",
       "\t 6 & 7 & 128.26492 &  94.38294\\\\\n",
       "\\end{tabular}\n"
      ],
      "text/markdown": [
       "\n",
       "A grouped_df: 6 × 4\n",
       "\n",
       "| subj &lt;int&gt; | day &lt;fct&gt; | value &lt;dbl&gt; | value_corr &lt;dbl&gt; |\n",
       "|---|---|---|---|\n",
       "| 1 | 7 |  85.76466 |  65.83773 |\n",
       "| 2 | 7 |  95.21969 |  74.63812 |\n",
       "| 3 | 7 |  98.91924 |  83.00435 |\n",
       "| 4 | 7 | 116.35108 | 104.43870 |\n",
       "| 5 | 7 | 115.52133 |  82.24018 |\n",
       "| 6 | 7 | 128.26492 |  94.38294 |\n",
       "\n"
      ],
      "text/plain": [
       "  subj day value     value_corr\n",
       "1 1    7    85.76466  65.83773 \n",
       "2 2    7    95.21969  74.63812 \n",
       "3 3    7    98.91924  83.00435 \n",
       "4 4    7   116.35108 104.43870 \n",
       "5 5    7   115.52133  82.24018 \n",
       "6 6    7   128.26492  94.38294 "
      ]
     },
     "metadata": {},
     "output_type": "display_data"
    }
   ],
   "source": [
    "database %>% \n",
    "   group_by(subj) %>% \n",
    "   mutate(value_corr = value - value[day == \"1\"]) %>%\n",
    "   filter(day != \"1\") "
   ]
  },
  {
   "cell_type": "markdown",
   "id": "ada2c450-adb2-431f-adf0-e9a707258e7e",
   "metadata": {},
   "source": [
    "<a name=\"toc_788789_2.2\"></a>\n",
    "<u>2.2 Total calculation with `rowSums()`</u>"
   ]
  },
  {
   "cell_type": "code",
   "execution_count": 238,
   "id": "ebdd4a99-eab3-4c63-9b27-db757c1252f9",
   "metadata": {},
   "outputs": [
    {
     "data": {
      "text/html": [
       "<table class=\"dataframe\">\n",
       "<caption>A data.frame: 2 × 6</caption>\n",
       "<thead>\n",
       "\t<tr><th></th><th scope=col>Sepal.Length</th><th scope=col>Sepal.Width</th><th scope=col>Petal.Length</th><th scope=col>Petal.Width</th><th scope=col>Species</th><th scope=col>Total</th></tr>\n",
       "\t<tr><th></th><th scope=col>&lt;dbl&gt;</th><th scope=col>&lt;dbl&gt;</th><th scope=col>&lt;dbl&gt;</th><th scope=col>&lt;dbl&gt;</th><th scope=col>&lt;fct&gt;</th><th scope=col>&lt;dbl&gt;</th></tr>\n",
       "</thead>\n",
       "<tbody>\n",
       "\t<tr><th scope=row>1</th><td>5.1</td><td>3.5</td><td>1.4</td><td>0.2</td><td>setosa</td><td>10.2</td></tr>\n",
       "\t<tr><th scope=row>2</th><td>4.9</td><td>3.0</td><td>1.4</td><td>0.2</td><td>setosa</td><td> 9.5</td></tr>\n",
       "</tbody>\n",
       "</table>\n"
      ],
      "text/latex": [
       "A data.frame: 2 × 6\n",
       "\\begin{tabular}{r|llllll}\n",
       "  & Sepal.Length & Sepal.Width & Petal.Length & Petal.Width & Species & Total\\\\\n",
       "  & <dbl> & <dbl> & <dbl> & <dbl> & <fct> & <dbl>\\\\\n",
       "\\hline\n",
       "\t1 & 5.1 & 3.5 & 1.4 & 0.2 & setosa & 10.2\\\\\n",
       "\t2 & 4.9 & 3.0 & 1.4 & 0.2 & setosa &  9.5\\\\\n",
       "\\end{tabular}\n"
      ],
      "text/markdown": [
       "\n",
       "A data.frame: 2 × 6\n",
       "\n",
       "| <!--/--> | Sepal.Length &lt;dbl&gt; | Sepal.Width &lt;dbl&gt; | Petal.Length &lt;dbl&gt; | Petal.Width &lt;dbl&gt; | Species &lt;fct&gt; | Total &lt;dbl&gt; |\n",
       "|---|---|---|---|---|---|---|\n",
       "| 1 | 5.1 | 3.5 | 1.4 | 0.2 | setosa | 10.2 |\n",
       "| 2 | 4.9 | 3.0 | 1.4 | 0.2 | setosa |  9.5 |\n",
       "\n"
      ],
      "text/plain": [
       "  Sepal.Length Sepal.Width Petal.Length Petal.Width Species Total\n",
       "1 5.1          3.5         1.4          0.2         setosa  10.2 \n",
       "2 4.9          3.0         1.4          0.2         setosa   9.5 "
      ]
     },
     "metadata": {},
     "output_type": "display_data"
    }
   ],
   "source": [
    "iris %>% \n",
    "  mutate(Total = rowSums(select(., 1:4))) %>% \n",
    "  head(2)"
   ]
  },
  {
   "cell_type": "markdown",
   "id": "5e9c14f1-99db-4a40-9155-c1da6edd342c",
   "metadata": {},
   "source": [
    "<a name=\"toc_788789_2.3\"></a>\n",
    "<u>2.3 Keep trailing zeros after converting numbers to characters</u>"
   ]
  },
  {
   "cell_type": "code",
   "execution_count": 246,
   "id": "86b972b1-736d-48aa-b0f2-9f5c6b552d7d",
   "metadata": {},
   "outputs": [
    {
     "data": {
      "text/html": [
       "<table class=\"dataframe\">\n",
       "<caption>A data.frame: 2 × 5</caption>\n",
       "<thead>\n",
       "\t<tr><th></th><th scope=col>Sepal.Length</th><th scope=col>Sepal.Width</th><th scope=col>Petal.Length</th><th scope=col>Petal.Width</th><th scope=col>Species</th></tr>\n",
       "\t<tr><th></th><th scope=col>&lt;dbl&gt;</th><th scope=col>&lt;chr&gt;</th><th scope=col>&lt;dbl&gt;</th><th scope=col>&lt;dbl&gt;</th><th scope=col>&lt;fct&gt;</th></tr>\n",
       "</thead>\n",
       "<tbody>\n",
       "\t<tr><th scope=row>1</th><td>5.1</td><td>3.5</td><td>1.4</td><td>0.2</td><td>setosa</td></tr>\n",
       "\t<tr><th scope=row>2</th><td>4.9</td><td>3  </td><td>1.4</td><td>0.2</td><td>setosa</td></tr>\n",
       "</tbody>\n",
       "</table>\n"
      ],
      "text/latex": [
       "A data.frame: 2 × 5\n",
       "\\begin{tabular}{r|lllll}\n",
       "  & Sepal.Length & Sepal.Width & Petal.Length & Petal.Width & Species\\\\\n",
       "  & <dbl> & <chr> & <dbl> & <dbl> & <fct>\\\\\n",
       "\\hline\n",
       "\t1 & 5.1 & 3.5 & 1.4 & 0.2 & setosa\\\\\n",
       "\t2 & 4.9 & 3   & 1.4 & 0.2 & setosa\\\\\n",
       "\\end{tabular}\n"
      ],
      "text/markdown": [
       "\n",
       "A data.frame: 2 × 5\n",
       "\n",
       "| <!--/--> | Sepal.Length &lt;dbl&gt; | Sepal.Width &lt;chr&gt; | Petal.Length &lt;dbl&gt; | Petal.Width &lt;dbl&gt; | Species &lt;fct&gt; |\n",
       "|---|---|---|---|---|---|\n",
       "| 1 | 5.1 | 3.5 | 1.4 | 0.2 | setosa |\n",
       "| 2 | 4.9 | 3   | 1.4 | 0.2 | setosa |\n",
       "\n"
      ],
      "text/plain": [
       "  Sepal.Length Sepal.Width Petal.Length Petal.Width Species\n",
       "1 5.1          3.5         1.4          0.2         setosa \n",
       "2 4.9          3           1.4          0.2         setosa "
      ]
     },
     "metadata": {},
     "output_type": "display_data"
    }
   ],
   "source": [
    "iris %>% \n",
    "  mutate(Sepal.Width = as.character(round(Sepal.Width, 1)))  %>% \n",
    "  head(2)"
   ]
  },
  {
   "cell_type": "markdown",
   "id": "74cb05de-6a08-49b6-a0cc-9f4d500d92de",
   "metadata": {},
   "source": [
    "☝️ Trailing zeros were not kept"
   ]
  },
  {
   "cell_type": "code",
   "execution_count": 245,
   "id": "06a32b3e-044f-49d3-8e3e-96a031ee8732",
   "metadata": {},
   "outputs": [
    {
     "data": {
      "text/html": [
       "<table class=\"dataframe\">\n",
       "<caption>A data.frame: 2 × 5</caption>\n",
       "<thead>\n",
       "\t<tr><th></th><th scope=col>Sepal.Length</th><th scope=col>Sepal.Width</th><th scope=col>Petal.Length</th><th scope=col>Petal.Width</th><th scope=col>Species</th></tr>\n",
       "\t<tr><th></th><th scope=col>&lt;dbl&gt;</th><th scope=col>&lt;chr&gt;</th><th scope=col>&lt;dbl&gt;</th><th scope=col>&lt;dbl&gt;</th><th scope=col>&lt;fct&gt;</th></tr>\n",
       "</thead>\n",
       "<tbody>\n",
       "\t<tr><th scope=row>1</th><td>5.1</td><td>3.5</td><td>1.4</td><td>0.2</td><td>setosa</td></tr>\n",
       "\t<tr><th scope=row>2</th><td>4.9</td><td>3.0</td><td>1.4</td><td>0.2</td><td>setosa</td></tr>\n",
       "</tbody>\n",
       "</table>\n"
      ],
      "text/latex": [
       "A data.frame: 2 × 5\n",
       "\\begin{tabular}{r|lllll}\n",
       "  & Sepal.Length & Sepal.Width & Petal.Length & Petal.Width & Species\\\\\n",
       "  & <dbl> & <chr> & <dbl> & <dbl> & <fct>\\\\\n",
       "\\hline\n",
       "\t1 & 5.1 & 3.5 & 1.4 & 0.2 & setosa\\\\\n",
       "\t2 & 4.9 & 3.0 & 1.4 & 0.2 & setosa\\\\\n",
       "\\end{tabular}\n"
      ],
      "text/markdown": [
       "\n",
       "A data.frame: 2 × 5\n",
       "\n",
       "| <!--/--> | Sepal.Length &lt;dbl&gt; | Sepal.Width &lt;chr&gt; | Petal.Length &lt;dbl&gt; | Petal.Width &lt;dbl&gt; | Species &lt;fct&gt; |\n",
       "|---|---|---|---|---|---|\n",
       "| 1 | 5.1 | 3.5 | 1.4 | 0.2 | setosa |\n",
       "| 2 | 4.9 | 3.0 | 1.4 | 0.2 | setosa |\n",
       "\n"
      ],
      "text/plain": [
       "  Sepal.Length Sepal.Width Petal.Length Petal.Width Species\n",
       "1 5.1          3.5         1.4          0.2         setosa \n",
       "2 4.9          3.0         1.4          0.2         setosa "
      ]
     },
     "metadata": {},
     "output_type": "display_data"
    }
   ],
   "source": [
    "iris %>% \n",
    "  mutate(Sepal.Width = as.character(format(round(Sepal.Width, 1), nsmall = 1)))  %>% \n",
    "  head(2)"
   ]
  },
  {
   "cell_type": "markdown",
   "id": "7e5c98b4-ddff-40ca-9f1b-acc3d038bc21",
   "metadata": {},
   "source": [
    "☝️ Trailing zeros were kept"
   ]
  },
  {
   "cell_type": "markdown",
   "id": "7370f4ca-dab9-43b7-97a7-e8283db9b9eb",
   "metadata": {},
   "source": [
    "<a name=\"toc_788789_2.4\"></a>\n",
    "<u>2.4 Calculate the number of distinct values per groups</u>"
   ]
  },
  {
   "cell_type": "code",
   "execution_count": 24,
   "id": "88a25c80-78ba-42c5-a29f-6308196f15c9",
   "metadata": {},
   "outputs": [
    {
     "data": {
      "text/html": [
       "<table class=\"dataframe\">\n",
       "<caption>A tibble: 2 × 2</caption>\n",
       "<thead>\n",
       "\t<tr><th scope=col>as.factor(period)</th><th scope=col>Subj_n</th></tr>\n",
       "\t<tr><th scope=col>&lt;fct&gt;</th><th scope=col>&lt;int&gt;</th></tr>\n",
       "</thead>\n",
       "<tbody>\n",
       "\t<tr><td>1</td><td>10</td></tr>\n",
       "\t<tr><td>2</td><td>10</td></tr>\n",
       "</tbody>\n",
       "</table>\n"
      ],
      "text/latex": [
       "A tibble: 2 × 2\n",
       "\\begin{tabular}{ll}\n",
       " as.factor(period) & Subj\\_n\\\\\n",
       " <fct> & <int>\\\\\n",
       "\\hline\n",
       "\t 1 & 10\\\\\n",
       "\t 2 & 10\\\\\n",
       "\\end{tabular}\n"
      ],
      "text/markdown": [
       "\n",
       "A tibble: 2 × 2\n",
       "\n",
       "| as.factor(period) &lt;fct&gt; | Subj_n &lt;int&gt; |\n",
       "|---|---|\n",
       "| 1 | 10 |\n",
       "| 2 | 10 |\n",
       "\n"
      ],
      "text/plain": [
       "  as.factor(period) Subj_n\n",
       "1 1                 10    \n",
       "2 2                 10    "
      ]
     },
     "metadata": {},
     "output_type": "display_data"
    }
   ],
   "source": [
    "data3 %>% \n",
    "  group_by(as.factor(period)) %>%\n",
    "  summarize(Subj_n = n_distinct(subj))"
   ]
  },
  {
   "cell_type": "code",
   "execution_count": 38,
   "id": "fb657a07-7115-414a-a3c9-341037a16707",
   "metadata": {},
   "outputs": [
    {
     "data": {
      "image/png": "[encoded data removed]",
      "text/plain": [
       "plot without title"
      ]
     },
     "metadata": {
      "image/png": {
       "height": 360,
       "width": 360
      }
     },
     "output_type": "display_data"
    }
   ],
   "source": [
    "data3 %>% \n",
    "     select(period, subj) %>% \n",
    "     distinct() %>% \n",
    "     count(subj = factor(subj)) %>% \n",
    "     mutate(pct = prop.table(n)) %>% \n",
    "        ggplot(aes(x = as.factor(subj), y = pct, label = paste0(round(pct*100, 1), \"%\"))) +\n",
    "         geom_col() +\n",
    "         geom_text(position = position_dodge(width = .9), vjust = -0.5, size = 3) +\n",
    "         scale_y_continuous(expand = expansion(mult = c(0, 0.1))) # adds extra space above to show the numbers"
   ]
  },
  {
   "cell_type": "markdown",
   "id": "be5910ed-a38e-41c9-ad23-6be67385aaf0",
   "metadata": {},
   "source": [
    "☝️ This does not make much sense but the code can be used e.g. for covariate category exploration."
   ]
  },
  {
   "cell_type": "markdown",
   "id": "86a34993-ec0b-4448-92b3-0a13f949eefa",
   "metadata": {},
   "source": [
    "<a name=\"toc_788789_3\"></a>\n",
    "## 3.   Process multiple columns with at once"
   ]
  },
  {
   "cell_type": "markdown",
   "id": "f39af579-8fb3-4f21-acbe-cef6cbf4b618",
   "metadata": {},
   "source": [
    "The `across()` function is the most recent alternative to the earlier `mutate_at`, `mutate_all` and `mutate_if` dplyr functions:`\n",
    "- `mutate_at` affects variables selected with a character vector or `vars()`\n",
    "- `mutate_all` affects every variable\n",
    "- `mutate_if` affects variables selected with a predicate function"
   ]
  },
  {
   "cell_type": "markdown",
   "id": "ce6a6c20-8ef1-466f-9366-77603c63108e",
   "metadata": {},
   "source": [
    "<a name=\"toc_788789_3.1\"></a>\n",
    "<u>3.1 The `across()` function</u>"
   ]
  },
  {
   "cell_type": "code",
   "execution_count": 49,
   "id": "a7e85784-0e93-4a14-ae6b-380d0742233f",
   "metadata": {},
   "outputs": [
    {
     "data": {
      "text/html": [
       "<table class=\"dataframe\">\n",
       "<caption>A data.frame: 2 × 6</caption>\n",
       "<thead>\n",
       "\t<tr><th></th><th scope=col>Gender</th><th scope=col>Group</th><th scope=col>subj</th><th scope=col>value1</th><th scope=col>value2</th><th scope=col>value3</th></tr>\n",
       "\t<tr><th></th><th scope=col>&lt;fct&gt;</th><th scope=col>&lt;fct&gt;</th><th scope=col>&lt;fct&gt;</th><th scope=col>&lt;dbl&gt;</th><th scope=col>&lt;dbl&gt;</th><th scope=col>&lt;dbl&gt;</th></tr>\n",
       "</thead>\n",
       "<tbody>\n",
       "\t<tr><th scope=row>1</th><td>M</td><td>A</td><td>1</td><td>71.71731</td><td>12.311578</td><td>54.29632</td></tr>\n",
       "\t<tr><th scope=row>2</th><td>F</td><td>A</td><td>2</td><td>81.46142</td><td> 9.641766</td><td>39.78287</td></tr>\n",
       "</tbody>\n",
       "</table>\n"
      ],
      "text/latex": [
       "A data.frame: 2 × 6\n",
       "\\begin{tabular}{r|llllll}\n",
       "  & Gender & Group & subj & value1 & value2 & value3\\\\\n",
       "  & <fct> & <fct> & <fct> & <dbl> & <dbl> & <dbl>\\\\\n",
       "\\hline\n",
       "\t1 & M & A & 1 & 71.71731 & 12.311578 & 54.29632\\\\\n",
       "\t2 & F & A & 2 & 81.46142 &  9.641766 & 39.78287\\\\\n",
       "\\end{tabular}\n"
      ],
      "text/markdown": [
       "\n",
       "A data.frame: 2 × 6\n",
       "\n",
       "| <!--/--> | Gender &lt;fct&gt; | Group &lt;fct&gt; | subj &lt;fct&gt; | value1 &lt;dbl&gt; | value2 &lt;dbl&gt; | value3 &lt;dbl&gt; |\n",
       "|---|---|---|---|---|---|---|\n",
       "| 1 | M | A | 1 | 71.71731 | 12.311578 | 54.29632 |\n",
       "| 2 | F | A | 2 | 81.46142 |  9.641766 | 39.78287 |\n",
       "\n"
      ],
      "text/plain": [
       "  Gender Group subj value1   value2    value3  \n",
       "1 M      A     1    71.71731 12.311578 54.29632\n",
       "2 F      A     2    81.46142  9.641766 39.78287"
      ]
     },
     "metadata": {},
     "output_type": "display_data"
    }
   ],
   "source": [
    "set.seed(5212)\n",
    "data4 <- expand.grid(Gender = rep(c(\"M\", \"F\"), 3), Group = c(\"A\", \"B\", \"C\")) %>%\n",
    "  mutate(subj = as.factor(c(1:18)), \n",
    "         value1 = rnorm(18, 100, 20),\n",
    "         value2 = rnorm(18, 10, 2),\n",
    "         value3 = rnorm(18, 50, 5))\n",
    "\n",
    "head(data4, 2)"
   ]
  },
  {
   "cell_type": "code",
   "execution_count": 80,
   "id": "91e4b8a6-9f6d-463a-a00d-dafdf4e735f5",
   "metadata": {},
   "outputs": [
    {
     "data": {
      "text/html": [
       "<table class=\"dataframe\">\n",
       "<caption>A data.frame: 2 × 6</caption>\n",
       "<thead>\n",
       "\t<tr><th></th><th scope=col>Gender</th><th scope=col>Group</th><th scope=col>subj</th><th scope=col>value1</th><th scope=col>value2</th><th scope=col>value3</th></tr>\n",
       "\t<tr><th></th><th scope=col>&lt;fct&gt;</th><th scope=col>&lt;fct&gt;</th><th scope=col>&lt;fct&gt;</th><th scope=col>&lt;chr&gt;</th><th scope=col>&lt;chr&gt;</th><th scope=col>&lt;chr&gt;</th></tr>\n",
       "</thead>\n",
       "<tbody>\n",
       "\t<tr><th scope=row>1</th><td>M</td><td>A</td><td>1</td><td> 72</td><td>12</td><td>54</td></tr>\n",
       "\t<tr><th scope=row>2</th><td>F</td><td>A</td><td>2</td><td> 81</td><td>10</td><td>40</td></tr>\n",
       "</tbody>\n",
       "</table>\n"
      ],
      "text/latex": [
       "A data.frame: 2 × 6\n",
       "\\begin{tabular}{r|llllll}\n",
       "  & Gender & Group & subj & value1 & value2 & value3\\\\\n",
       "  & <fct> & <fct> & <fct> & <chr> & <chr> & <chr>\\\\\n",
       "\\hline\n",
       "\t1 & M & A & 1 &  72 & 12 & 54\\\\\n",
       "\t2 & F & A & 2 &  81 & 10 & 40\\\\\n",
       "\\end{tabular}\n"
      ],
      "text/markdown": [
       "\n",
       "A data.frame: 2 × 6\n",
       "\n",
       "| <!--/--> | Gender &lt;fct&gt; | Group &lt;fct&gt; | subj &lt;fct&gt; | value1 &lt;chr&gt; | value2 &lt;chr&gt; | value3 &lt;chr&gt; |\n",
       "|---|---|---|---|---|---|---|\n",
       "| 1 | M | A | 1 |  72 | 12 | 54 |\n",
       "| 2 | F | A | 2 |  81 | 10 | 40 |\n",
       "\n"
      ],
      "text/plain": [
       "  Gender Group subj value1 value2 value3\n",
       "1 M      A     1     72    12     54    \n",
       "2 F      A     2     81    10     40    "
      ]
     },
     "metadata": {},
     "output_type": "display_data"
    }
   ],
   "source": [
    "data4 %>%\n",
    " mutate(across(c(value1, value2, value3),\n",
    "         ~ as.character(format(round(.x, 0))))) %>%\n",
    "head(2)     "
   ]
  },
  {
   "cell_type": "markdown",
   "id": "bbe9215a-ed07-4fca-8e77-1ddb7631df77",
   "metadata": {},
   "source": [
    "Alternatively, we can use column idexes instead of column names:"
   ]
  },
  {
   "cell_type": "code",
   "execution_count": 115,
   "id": "c89b1564-2067-498a-8a25-0c03b889e72e",
   "metadata": {},
   "outputs": [
    {
     "data": {
      "text/html": [
       "<table class=\"dataframe\">\n",
       "<caption>A data.frame: 2 × 6</caption>\n",
       "<thead>\n",
       "\t<tr><th></th><th scope=col>Gender</th><th scope=col>Group</th><th scope=col>subj</th><th scope=col>value1</th><th scope=col>value2</th><th scope=col>value3</th></tr>\n",
       "\t<tr><th></th><th scope=col>&lt;fct&gt;</th><th scope=col>&lt;fct&gt;</th><th scope=col>&lt;fct&gt;</th><th scope=col>&lt;chr&gt;</th><th scope=col>&lt;chr&gt;</th><th scope=col>&lt;chr&gt;</th></tr>\n",
       "</thead>\n",
       "<tbody>\n",
       "\t<tr><th scope=row>1</th><td>M</td><td>A</td><td>1</td><td> 72</td><td>12</td><td>54</td></tr>\n",
       "\t<tr><th scope=row>2</th><td>F</td><td>A</td><td>2</td><td> 81</td><td>10</td><td>40</td></tr>\n",
       "</tbody>\n",
       "</table>\n"
      ],
      "text/latex": [
       "A data.frame: 2 × 6\n",
       "\\begin{tabular}{r|llllll}\n",
       "  & Gender & Group & subj & value1 & value2 & value3\\\\\n",
       "  & <fct> & <fct> & <fct> & <chr> & <chr> & <chr>\\\\\n",
       "\\hline\n",
       "\t1 & M & A & 1 &  72 & 12 & 54\\\\\n",
       "\t2 & F & A & 2 &  81 & 10 & 40\\\\\n",
       "\\end{tabular}\n"
      ],
      "text/markdown": [
       "\n",
       "A data.frame: 2 × 6\n",
       "\n",
       "| <!--/--> | Gender &lt;fct&gt; | Group &lt;fct&gt; | subj &lt;fct&gt; | value1 &lt;chr&gt; | value2 &lt;chr&gt; | value3 &lt;chr&gt; |\n",
       "|---|---|---|---|---|---|---|\n",
       "| 1 | M | A | 1 |  72 | 12 | 54 |\n",
       "| 2 | F | A | 2 |  81 | 10 | 40 |\n",
       "\n"
      ],
      "text/plain": [
       "  Gender Group subj value1 value2 value3\n",
       "1 M      A     1     72    12     54    \n",
       "2 F      A     2     81    10     40    "
      ]
     },
     "metadata": {},
     "output_type": "display_data"
    }
   ],
   "source": [
    "data4 %>%\n",
    " mutate(across(c(4:6),\n",
    "         ~ as.character(format(round(.x, 0))))) %>%\n",
    "head(2)     "
   ]
  },
  {
   "cell_type": "markdown",
   "id": "038dac62-a97d-41db-96cf-e04ac0c808f2",
   "metadata": {},
   "source": [
    "Above the `~` tells R that we are using a formula, so it knows that `.` (or alternatively, `.x`) should be replaced with the given column name. This is a *purrr-style format*, but may not be required for more simple cases."
   ]
  },
  {
   "cell_type": "code",
   "execution_count": 104,
   "id": "3ce8c5e7-fe7c-4db7-9818-6094fe77ad92",
   "metadata": {},
   "outputs": [
    {
     "data": {
      "text/html": [
       "<table class=\"dataframe\">\n",
       "<caption>A grouped_df: 4 × 5</caption>\n",
       "<thead>\n",
       "\t<tr><th scope=col>Gender</th><th scope=col>Group</th><th scope=col>value1</th><th scope=col>value2</th><th scope=col>value3</th></tr>\n",
       "\t<tr><th scope=col>&lt;fct&gt;</th><th scope=col>&lt;fct&gt;</th><th scope=col>&lt;dbl&gt;</th><th scope=col>&lt;dbl&gt;</th><th scope=col>&lt;dbl&gt;</th></tr>\n",
       "</thead>\n",
       "<tbody>\n",
       "\t<tr><td>M</td><td>A</td><td> 88.83398</td><td>11.93799</td><td>54.29632</td></tr>\n",
       "\t<tr><td>F</td><td>A</td><td>113.05251</td><td>12.42301</td><td>39.78287</td></tr>\n",
       "\t<tr><td>M</td><td>A</td><td> 88.83398</td><td>11.93799</td><td>43.43926</td></tr>\n",
       "\t<tr><td>F</td><td>A</td><td>113.05251</td><td>12.42301</td><td>46.36044</td></tr>\n",
       "</tbody>\n",
       "</table>\n"
      ],
      "text/latex": [
       "A grouped\\_df: 4 × 5\n",
       "\\begin{tabular}{lllll}\n",
       " Gender & Group & value1 & value2 & value3\\\\\n",
       " <fct> & <fct> & <dbl> & <dbl> & <dbl>\\\\\n",
       "\\hline\n",
       "\t M & A &  88.83398 & 11.93799 & 54.29632\\\\\n",
       "\t F & A & 113.05251 & 12.42301 & 39.78287\\\\\n",
       "\t M & A &  88.83398 & 11.93799 & 43.43926\\\\\n",
       "\t F & A & 113.05251 & 12.42301 & 46.36044\\\\\n",
       "\\end{tabular}\n"
      ],
      "text/markdown": [
       "\n",
       "A grouped_df: 4 × 5\n",
       "\n",
       "| Gender &lt;fct&gt; | Group &lt;fct&gt; | value1 &lt;dbl&gt; | value2 &lt;dbl&gt; | value3 &lt;dbl&gt; |\n",
       "|---|---|---|---|---|\n",
       "| M | A |  88.83398 | 11.93799 | 54.29632 |\n",
       "| F | A | 113.05251 | 12.42301 | 39.78287 |\n",
       "| M | A |  88.83398 | 11.93799 | 43.43926 |\n",
       "| F | A | 113.05251 | 12.42301 | 46.36044 |\n",
       "\n"
      ],
      "text/plain": [
       "  Gender Group value1    value2   value3  \n",
       "1 M      A      88.83398 11.93799 54.29632\n",
       "2 F      A     113.05251 12.42301 39.78287\n",
       "3 M      A      88.83398 11.93799 43.43926\n",
       "4 F      A     113.05251 12.42301 46.36044"
      ]
     },
     "metadata": {},
     "output_type": "display_data"
    }
   ],
   "source": [
    "data4 %>%\n",
    "  group_by(Group, Gender)  %>%\n",
    "  mutate(across(c(value1, value2), ~ mean(., na.rm = TRUE)))  %>% # alternative: mutate_at(c(\"value1\", \"value2\"), mean)  %>%\n",
    "  select(-subj)  %>%\n",
    "  distinct() %>%\n",
    "  head(4)"
   ]
  },
  {
   "cell_type": "markdown",
   "id": "1a6f020b-2487-4461-9cbf-43ea7070a3f6",
   "metadata": {},
   "source": [
    "We can even use conditional statements and other complex syntax with `across()`:"
   ]
  },
  {
   "cell_type": "code",
   "execution_count": 86,
   "id": "75c0baad-c07b-4aa7-95d3-a4933f6b4f1c",
   "metadata": {},
   "outputs": [
    {
     "data": {
      "text/html": [
       "<table class=\"dataframe\">\n",
       "<caption>A data.frame: 2 × 6</caption>\n",
       "<thead>\n",
       "\t<tr><th></th><th scope=col>Gender</th><th scope=col>Group</th><th scope=col>subj</th><th scope=col>value1</th><th scope=col>value2</th><th scope=col>value3</th></tr>\n",
       "\t<tr><th></th><th scope=col>&lt;fct&gt;</th><th scope=col>&lt;fct&gt;</th><th scope=col>&lt;fct&gt;</th><th scope=col>&lt;chr&gt;</th><th scope=col>&lt;chr&gt;</th><th scope=col>&lt;chr&gt;</th></tr>\n",
       "</thead>\n",
       "<tbody>\n",
       "\t<tr><th scope=row>1</th><td>M</td><td>A</td><td>1</td><td>NC</td><td>NC</td><td>NC</td></tr>\n",
       "\t<tr><th scope=row>2</th><td>F</td><td>A</td><td>2</td><td>81</td><td>10</td><td>40</td></tr>\n",
       "</tbody>\n",
       "</table>\n"
      ],
      "text/latex": [
       "A data.frame: 2 × 6\n",
       "\\begin{tabular}{r|llllll}\n",
       "  & Gender & Group & subj & value1 & value2 & value3\\\\\n",
       "  & <fct> & <fct> & <fct> & <chr> & <chr> & <chr>\\\\\n",
       "\\hline\n",
       "\t1 & M & A & 1 & NC & NC & NC\\\\\n",
       "\t2 & F & A & 2 & 81 & 10 & 40\\\\\n",
       "\\end{tabular}\n"
      ],
      "text/markdown": [
       "\n",
       "A data.frame: 2 × 6\n",
       "\n",
       "| <!--/--> | Gender &lt;fct&gt; | Group &lt;fct&gt; | subj &lt;fct&gt; | value1 &lt;chr&gt; | value2 &lt;chr&gt; | value3 &lt;chr&gt; |\n",
       "|---|---|---|---|---|---|---|\n",
       "| 1 | M | A | 1 | NC | NC | NC |\n",
       "| 2 | F | A | 2 | 81 | 10 | 40 |\n",
       "\n"
      ],
      "text/plain": [
       "  Gender Group subj value1 value2 value3\n",
       "1 M      A     1    NC     NC     NC    \n",
       "2 F      A     2    81     10     40    "
      ]
     },
     "metadata": {},
     "output_type": "display_data"
    }
   ],
   "source": [
    "data4 %>%\n",
    " mutate(across(c(value1, value2, value3),\n",
    "          ~ ifelse(Gender == \"M\", \"NC\", round(.x, 0)))) %>%\n",
    "head(2)     "
   ]
  },
  {
   "cell_type": "markdown",
   "id": "d23b1536-3cb0-47ac-93c7-6a7e081c9563",
   "metadata": {},
   "source": [
    "<a name=\"toc_788789_3.2\"></a>\n",
    "<u>3.2 Dynamic column selection with `matches()` and `where()`</u>"
   ]
  },
  {
   "cell_type": "markdown",
   "id": "8e1ab14c-c9b0-46fd-a2fd-a142bf9b2830",
   "metadata": {},
   "source": [
    "Name based column selection can be done with `matches()`:"
   ]
  },
  {
   "cell_type": "code",
   "execution_count": 139,
   "id": "8d049f49-5ded-4fec-bcf9-9f3a2b144a24",
   "metadata": {},
   "outputs": [
    {
     "data": {
      "text/html": [
       "<table class=\"dataframe\">\n",
       "<caption>A data.frame: 2 × 5</caption>\n",
       "<thead>\n",
       "\t<tr><th></th><th scope=col>Sepal.Length</th><th scope=col>Sepal.Width</th><th scope=col>Petal.Length</th><th scope=col>Petal.Width</th><th scope=col>Species</th></tr>\n",
       "\t<tr><th></th><th scope=col>&lt;dbl&gt;</th><th scope=col>&lt;dbl&gt;</th><th scope=col>&lt;dbl&gt;</th><th scope=col>&lt;dbl&gt;</th><th scope=col>&lt;fct&gt;</th></tr>\n",
       "</thead>\n",
       "<tbody>\n",
       "\t<tr><th scope=row>1</th><td>1.629241</td><td>1.252763</td><td>1.4</td><td>0.2</td><td>setosa</td></tr>\n",
       "\t<tr><th scope=row>2</th><td>1.589235</td><td>1.098612</td><td>1.4</td><td>0.2</td><td>setosa</td></tr>\n",
       "</tbody>\n",
       "</table>\n"
      ],
      "text/latex": [
       "A data.frame: 2 × 5\n",
       "\\begin{tabular}{r|lllll}\n",
       "  & Sepal.Length & Sepal.Width & Petal.Length & Petal.Width & Species\\\\\n",
       "  & <dbl> & <dbl> & <dbl> & <dbl> & <fct>\\\\\n",
       "\\hline\n",
       "\t1 & 1.629241 & 1.252763 & 1.4 & 0.2 & setosa\\\\\n",
       "\t2 & 1.589235 & 1.098612 & 1.4 & 0.2 & setosa\\\\\n",
       "\\end{tabular}\n"
      ],
      "text/markdown": [
       "\n",
       "A data.frame: 2 × 5\n",
       "\n",
       "| <!--/--> | Sepal.Length &lt;dbl&gt; | Sepal.Width &lt;dbl&gt; | Petal.Length &lt;dbl&gt; | Petal.Width &lt;dbl&gt; | Species &lt;fct&gt; |\n",
       "|---|---|---|---|---|---|\n",
       "| 1 | 1.629241 | 1.252763 | 1.4 | 0.2 | setosa |\n",
       "| 2 | 1.589235 | 1.098612 | 1.4 | 0.2 | setosa |\n",
       "\n"
      ],
      "text/plain": [
       "  Sepal.Length Sepal.Width Petal.Length Petal.Width Species\n",
       "1 1.629241     1.252763    1.4          0.2         setosa \n",
       "2 1.589235     1.098612    1.4          0.2         setosa "
      ]
     },
     "metadata": {},
     "output_type": "display_data"
    }
   ],
   "source": [
    "iris %>% \n",
    "  mutate(across(matches(\"Sepal\"), log)) %>% \n",
    "  head(2)"
   ]
  },
  {
   "cell_type": "markdown",
   "id": "74b399e8-99e9-4ac8-a0af-db5cf0dfa066",
   "metadata": {},
   "source": [
    "Conditional column selection can be done with `across(where(), ...)`:"
   ]
  },
  {
   "cell_type": "code",
   "execution_count": 88,
   "id": "558df102-c7d2-4c68-bb3d-51beefe12d11",
   "metadata": {},
   "outputs": [
    {
     "data": {
      "text/html": [
       "<table class=\"dataframe\">\n",
       "<caption>A data.frame: 2 × 6</caption>\n",
       "<thead>\n",
       "\t<tr><th></th><th scope=col>Gender</th><th scope=col>Group</th><th scope=col>subj</th><th scope=col>value1</th><th scope=col>value2</th><th scope=col>value3</th></tr>\n",
       "\t<tr><th></th><th scope=col>&lt;fct&gt;</th><th scope=col>&lt;fct&gt;</th><th scope=col>&lt;fct&gt;</th><th scope=col>&lt;dbl&gt;</th><th scope=col>&lt;dbl&gt;</th><th scope=col>&lt;dbl&gt;</th></tr>\n",
       "</thead>\n",
       "<tbody>\n",
       "\t<tr><th scope=row>1</th><td>M</td><td>A</td><td>1</td><td>71.7</td><td>12.3</td><td>54.3</td></tr>\n",
       "\t<tr><th scope=row>2</th><td>F</td><td>A</td><td>2</td><td>81.5</td><td> 9.6</td><td>39.8</td></tr>\n",
       "</tbody>\n",
       "</table>\n"
      ],
      "text/latex": [
       "A data.frame: 2 × 6\n",
       "\\begin{tabular}{r|llllll}\n",
       "  & Gender & Group & subj & value1 & value2 & value3\\\\\n",
       "  & <fct> & <fct> & <fct> & <dbl> & <dbl> & <dbl>\\\\\n",
       "\\hline\n",
       "\t1 & M & A & 1 & 71.7 & 12.3 & 54.3\\\\\n",
       "\t2 & F & A & 2 & 81.5 &  9.6 & 39.8\\\\\n",
       "\\end{tabular}\n"
      ],
      "text/markdown": [
       "\n",
       "A data.frame: 2 × 6\n",
       "\n",
       "| <!--/--> | Gender &lt;fct&gt; | Group &lt;fct&gt; | subj &lt;fct&gt; | value1 &lt;dbl&gt; | value2 &lt;dbl&gt; | value3 &lt;dbl&gt; |\n",
       "|---|---|---|---|---|---|---|\n",
       "| 1 | M | A | 1 | 71.7 | 12.3 | 54.3 |\n",
       "| 2 | F | A | 2 | 81.5 |  9.6 | 39.8 |\n",
       "\n"
      ],
      "text/plain": [
       "  Gender Group subj value1 value2 value3\n",
       "1 M      A     1    71.7   12.3   54.3  \n",
       "2 F      A     2    81.5    9.6   39.8  "
      ]
     },
     "metadata": {},
     "output_type": "display_data"
    }
   ],
   "source": [
    "data4 %>% \n",
    "  mutate(across(where(is.numeric), ~ round(.x, 1))) %>% # alternative: mutate_if(is.numeric, ~ round(., 1)) \n",
    "  head(2)"
   ]
  },
  {
   "cell_type": "code",
   "execution_count": 87,
   "id": "b18d3981-3be7-4dc3-bba0-5d800b8fe3d2",
   "metadata": {},
   "outputs": [
    {
     "data": {
      "text/html": [
       "<table class=\"dataframe\">\n",
       "<caption>A data.frame: 2 × 6</caption>\n",
       "<thead>\n",
       "\t<tr><th></th><th scope=col>Gender</th><th scope=col>Group</th><th scope=col>subj</th><th scope=col>value1</th><th scope=col>value2</th><th scope=col>value3</th></tr>\n",
       "\t<tr><th></th><th scope=col>&lt;fct&gt;</th><th scope=col>&lt;fct&gt;</th><th scope=col>&lt;fct&gt;</th><th scope=col>&lt;chr&gt;</th><th scope=col>&lt;chr&gt;</th><th scope=col>&lt;chr&gt;</th></tr>\n",
       "</thead>\n",
       "<tbody>\n",
       "\t<tr><th scope=row>1</th><td>M</td><td>A</td><td>1</td><td>71.7173084039532</td><td>12.3115775834841</td><td>54.2963192404898</td></tr>\n",
       "\t<tr><th scope=row>2</th><td>F</td><td>A</td><td>2</td><td>81.461421719179 </td><td>9.64176602016179</td><td>39.7828727156924</td></tr>\n",
       "</tbody>\n",
       "</table>\n"
      ],
      "text/latex": [
       "A data.frame: 2 × 6\n",
       "\\begin{tabular}{r|llllll}\n",
       "  & Gender & Group & subj & value1 & value2 & value3\\\\\n",
       "  & <fct> & <fct> & <fct> & <chr> & <chr> & <chr>\\\\\n",
       "\\hline\n",
       "\t1 & M & A & 1 & 71.7173084039532 & 12.3115775834841 & 54.2963192404898\\\\\n",
       "\t2 & F & A & 2 & 81.461421719179  & 9.64176602016179 & 39.7828727156924\\\\\n",
       "\\end{tabular}\n"
      ],
      "text/markdown": [
       "\n",
       "A data.frame: 2 × 6\n",
       "\n",
       "| <!--/--> | Gender &lt;fct&gt; | Group &lt;fct&gt; | subj &lt;fct&gt; | value1 &lt;chr&gt; | value2 &lt;chr&gt; | value3 &lt;chr&gt; |\n",
       "|---|---|---|---|---|---|---|\n",
       "| 1 | M | A | 1 | 71.7173084039532 | 12.3115775834841 | 54.2963192404898 |\n",
       "| 2 | F | A | 2 | 81.461421719179  | 9.64176602016179 | 39.7828727156924 |\n",
       "\n"
      ],
      "text/plain": [
       "  Gender Group subj value1           value2           value3          \n",
       "1 M      A     1    71.7173084039532 12.3115775834841 54.2963192404898\n",
       "2 F      A     2    81.461421719179  9.64176602016179 39.7828727156924"
      ]
     },
     "metadata": {},
     "output_type": "display_data"
    }
   ],
   "source": [
    "data4 %>% \n",
    "  mutate(across(where(is.numeric), as.character)) %>% # alternative: mutate_if(is.numeric, as.character)\n",
    "  head(2)"
   ]
  },
  {
   "cell_type": "markdown",
   "id": "e0887be7-c5ca-4679-9f6e-a8480556852c",
   "metadata": {},
   "source": [
    "Give exception from the conditions with `c(where(x), -y)`:"
   ]
  },
  {
   "cell_type": "code",
   "execution_count": 101,
   "id": "6eecc668-f3f4-441a-9c6c-4be0f8bc2d61",
   "metadata": {},
   "outputs": [
    {
     "data": {
      "text/html": [
       "<table class=\"dataframe\">\n",
       "<caption>A data.frame: 2 × 6</caption>\n",
       "<thead>\n",
       "\t<tr><th></th><th scope=col>Gender</th><th scope=col>Group</th><th scope=col>subj</th><th scope=col>value1</th><th scope=col>value2</th><th scope=col>value3</th></tr>\n",
       "\t<tr><th></th><th scope=col>&lt;fct&gt;</th><th scope=col>&lt;fct&gt;</th><th scope=col>&lt;fct&gt;</th><th scope=col>&lt;dbl&gt;</th><th scope=col>&lt;dbl&gt;</th><th scope=col>&lt;dbl&gt;</th></tr>\n",
       "</thead>\n",
       "<tbody>\n",
       "\t<tr><th scope=row>1</th><td>M</td><td>A</td><td>1</td><td>71.7</td><td>12.3</td><td>54.29632</td></tr>\n",
       "\t<tr><th scope=row>2</th><td>F</td><td>A</td><td>2</td><td>81.5</td><td> 9.6</td><td>39.78287</td></tr>\n",
       "</tbody>\n",
       "</table>\n"
      ],
      "text/latex": [
       "A data.frame: 2 × 6\n",
       "\\begin{tabular}{r|llllll}\n",
       "  & Gender & Group & subj & value1 & value2 & value3\\\\\n",
       "  & <fct> & <fct> & <fct> & <dbl> & <dbl> & <dbl>\\\\\n",
       "\\hline\n",
       "\t1 & M & A & 1 & 71.7 & 12.3 & 54.29632\\\\\n",
       "\t2 & F & A & 2 & 81.5 &  9.6 & 39.78287\\\\\n",
       "\\end{tabular}\n"
      ],
      "text/markdown": [
       "\n",
       "A data.frame: 2 × 6\n",
       "\n",
       "| <!--/--> | Gender &lt;fct&gt; | Group &lt;fct&gt; | subj &lt;fct&gt; | value1 &lt;dbl&gt; | value2 &lt;dbl&gt; | value3 &lt;dbl&gt; |\n",
       "|---|---|---|---|---|---|---|\n",
       "| 1 | M | A | 1 | 71.7 | 12.3 | 54.29632 |\n",
       "| 2 | F | A | 2 | 81.5 |  9.6 | 39.78287 |\n",
       "\n"
      ],
      "text/plain": [
       "  Gender Group subj value1 value2 value3  \n",
       "1 M      A     1    71.7   12.3   54.29632\n",
       "2 F      A     2    81.5    9.6   39.78287"
      ]
     },
     "metadata": {},
     "output_type": "display_data"
    }
   ],
   "source": [
    "data4 %>%\n",
    " mutate(across(c(where(is.numeric), -value3), ~ round(.x, 1)))  %>% \n",
    "  head(2)"
   ]
  },
  {
   "cell_type": "markdown",
   "id": "c1a93e87-6e01-4b00-9284-49c5f735e056",
   "metadata": {},
   "source": [
    "Example with more complex `where()` statements:"
   ]
  },
  {
   "cell_type": "code",
   "execution_count": 119,
   "id": "701fa32e-c32f-4512-9641-6f9264443cd7",
   "metadata": {},
   "outputs": [
    {
     "data": {
      "text/html": [
       "<table class=\"dataframe\">\n",
       "<caption>A data.frame: 2 × 6</caption>\n",
       "<thead>\n",
       "\t<tr><th></th><th scope=col>Gender</th><th scope=col>Group</th><th scope=col>subj</th><th scope=col>value1</th><th scope=col>value2</th><th scope=col>value3</th></tr>\n",
       "\t<tr><th></th><th scope=col>&lt;fct&gt;</th><th scope=col>&lt;fct&gt;</th><th scope=col>&lt;fct&gt;</th><th scope=col>&lt;dbl&gt;</th><th scope=col>&lt;dbl&gt;</th><th scope=col>&lt;dbl&gt;</th></tr>\n",
       "</thead>\n",
       "<tbody>\n",
       "\t<tr><th scope=row>1</th><td>M</td><td>A</td><td>1</td><td>71.71731</td><td>12.311578</td><td>54</td></tr>\n",
       "\t<tr><th scope=row>2</th><td>F</td><td>A</td><td>2</td><td>81.46142</td><td> 9.641766</td><td>40</td></tr>\n",
       "</tbody>\n",
       "</table>\n"
      ],
      "text/latex": [
       "A data.frame: 2 × 6\n",
       "\\begin{tabular}{r|llllll}\n",
       "  & Gender & Group & subj & value1 & value2 & value3\\\\\n",
       "  & <fct> & <fct> & <fct> & <dbl> & <dbl> & <dbl>\\\\\n",
       "\\hline\n",
       "\t1 & M & A & 1 & 71.71731 & 12.311578 & 54\\\\\n",
       "\t2 & F & A & 2 & 81.46142 &  9.641766 & 40\\\\\n",
       "\\end{tabular}\n"
      ],
      "text/markdown": [
       "\n",
       "A data.frame: 2 × 6\n",
       "\n",
       "| <!--/--> | Gender &lt;fct&gt; | Group &lt;fct&gt; | subj &lt;fct&gt; | value1 &lt;dbl&gt; | value2 &lt;dbl&gt; | value3 &lt;dbl&gt; |\n",
       "|---|---|---|---|---|---|---|\n",
       "| 1 | M | A | 1 | 71.71731 | 12.311578 | 54 |\n",
       "| 2 | F | A | 2 | 81.46142 |  9.641766 | 40 |\n",
       "\n"
      ],
      "text/plain": [
       "  Gender Group subj value1   value2    value3\n",
       "1 M      A     1    71.71731 12.311578 54    \n",
       "2 F      A     2    81.46142  9.641766 40    "
      ]
     },
     "metadata": {},
     "output_type": "display_data"
    }
   ],
   "source": [
    "data4 %>%\n",
    "  mutate(across(where(is.double) & !c(value1, value2), round)) %>%\n",
    "  head(2)"
   ]
  },
  {
   "cell_type": "markdown",
   "id": "be8c881c-af24-4c4e-9dcd-40b8a87d9814",
   "metadata": {},
   "source": [
    "<a name=\"toc_788789_3.3\"></a>\n",
    "<u>3.3 Use `everything()`, `all_of()` and `any_of()` with `across`</u>"
   ]
  },
  {
   "cell_type": "markdown",
   "id": "e6b8369f-c18f-41bf-a5f1-ca825c1e5c6e",
   "metadata": {},
   "source": [
    "Select all columns with `everything()`:"
   ]
  },
  {
   "cell_type": "code",
   "execution_count": 50,
   "id": "a4c28911-bc03-4382-bbeb-5aeab2fa5ed1",
   "metadata": {},
   "outputs": [
    {
     "data": {
      "text/html": [
       "<table class=\"dataframe\">\n",
       "<caption>A data.frame: 1 × 3</caption>\n",
       "<thead>\n",
       "\t<tr><th></th><th scope=col>value1</th><th scope=col>value2</th><th scope=col>value3</th></tr>\n",
       "\t<tr><th></th><th scope=col>&lt;dbl&gt;</th><th scope=col>&lt;dbl&gt;</th><th scope=col>&lt;dbl&gt;</th></tr>\n",
       "</thead>\n",
       "<tbody>\n",
       "\t<tr><th scope=row>1</th><td>95.91271</td><td>10.96017</td><td>46.99584</td></tr>\n",
       "</tbody>\n",
       "</table>\n"
      ],
      "text/latex": [
       "A data.frame: 1 × 3\n",
       "\\begin{tabular}{r|lll}\n",
       "  & value1 & value2 & value3\\\\\n",
       "  & <dbl> & <dbl> & <dbl>\\\\\n",
       "\\hline\n",
       "\t1 & 95.91271 & 10.96017 & 46.99584\\\\\n",
       "\\end{tabular}\n"
      ],
      "text/markdown": [
       "\n",
       "A data.frame: 1 × 3\n",
       "\n",
       "| <!--/--> | value1 &lt;dbl&gt; | value2 &lt;dbl&gt; | value3 &lt;dbl&gt; |\n",
       "|---|---|---|---|\n",
       "| 1 | 95.91271 | 10.96017 | 46.99584 |\n",
       "\n"
      ],
      "text/plain": [
       "  value1   value2   value3  \n",
       "1 95.91271 10.96017 46.99584"
      ]
     },
     "metadata": {},
     "output_type": "display_data"
    }
   ],
   "source": [
    "data4 %>%\n",
    "  select_if(is.numeric) %>%\n",
    "  mutate(across(everything(), mean, na.rm = TRUE)) %>%\n",
    "  head(1)"
   ]
  },
  {
   "cell_type": "code",
   "execution_count": 51,
   "id": "3a724c7b-0da2-405c-a71f-89d1b816a7c6",
   "metadata": {},
   "outputs": [
    {
     "data": {
      "text/html": [
       "<table class=\"dataframe\">\n",
       "<caption>A data.frame: 2 × 6</caption>\n",
       "<thead>\n",
       "\t<tr><th></th><th scope=col>Gender</th><th scope=col>Group</th><th scope=col>subj</th><th scope=col>value1</th><th scope=col>value2</th><th scope=col>value3</th></tr>\n",
       "\t<tr><th></th><th scope=col>&lt;fct&gt;</th><th scope=col>&lt;fct&gt;</th><th scope=col>&lt;fct&gt;</th><th scope=col>&lt;dbl&gt;</th><th scope=col>&lt;dbl&gt;</th><th scope=col>&lt;dbl&gt;</th></tr>\n",
       "</thead>\n",
       "<tbody>\n",
       "\t<tr><th scope=row>1</th><td>M</td><td>A</td><td>1</td><td>      NA</td><td>12.31158</td><td>54.29632</td></tr>\n",
       "\t<tr><th scope=row>2</th><td>F</td><td>A</td><td>2</td><td>81.46142</td><td>      NA</td><td>39.78287</td></tr>\n",
       "</tbody>\n",
       "</table>\n"
      ],
      "text/latex": [
       "A data.frame: 2 × 6\n",
       "\\begin{tabular}{r|llllll}\n",
       "  & Gender & Group & subj & value1 & value2 & value3\\\\\n",
       "  & <fct> & <fct> & <fct> & <dbl> & <dbl> & <dbl>\\\\\n",
       "\\hline\n",
       "\t1 & M & A & 1 &       NA & 12.31158 & 54.29632\\\\\n",
       "\t2 & F & A & 2 & 81.46142 &       NA & 39.78287\\\\\n",
       "\\end{tabular}\n"
      ],
      "text/markdown": [
       "\n",
       "A data.frame: 2 × 6\n",
       "\n",
       "| <!--/--> | Gender &lt;fct&gt; | Group &lt;fct&gt; | subj &lt;fct&gt; | value1 &lt;dbl&gt; | value2 &lt;dbl&gt; | value3 &lt;dbl&gt; |\n",
       "|---|---|---|---|---|---|---|\n",
       "| 1 | M | A | 1 |       NA | 12.31158 | 54.29632 |\n",
       "| 2 | F | A | 2 | 81.46142 |       NA | 39.78287 |\n",
       "\n"
      ],
      "text/plain": [
       "  Gender Group subj value1   value2   value3  \n",
       "1 M      A     1          NA 12.31158 54.29632\n",
       "2 F      A     2    81.46142       NA 39.78287"
      ]
     },
     "metadata": {},
     "output_type": "display_data"
    }
   ],
   "source": [
    "data5 <- data4 %>%\n",
    "  mutate(value1 = ifelse(Group == \"A\" & Gender == \"M\", NA, value1),\n",
    "        value2 = ifelse(Group == \"A\" & Gender == \"F\", NA, value2))\n",
    "\n",
    "head(data5, 2)"
   ]
  },
  {
   "cell_type": "code",
   "execution_count": 212,
   "id": "0e60852c-22b7-494b-bf96-9af81155748c",
   "metadata": {},
   "outputs": [
    {
     "data": {
      "text/html": [
       "<table class=\"dataframe\">\n",
       "<caption>A data.frame: 2 × 6</caption>\n",
       "<thead>\n",
       "\t<tr><th></th><th scope=col>Gender</th><th scope=col>Group</th><th scope=col>subj</th><th scope=col>value1</th><th scope=col>value2</th><th scope=col>value3</th></tr>\n",
       "\t<tr><th></th><th scope=col>&lt;int&gt;</th><th scope=col>&lt;int&gt;</th><th scope=col>&lt;int&gt;</th><th scope=col>&lt;dbl&gt;</th><th scope=col>&lt;dbl&gt;</th><th scope=col>&lt;dbl&gt;</th></tr>\n",
       "</thead>\n",
       "<tbody>\n",
       "\t<tr><th scope=row>1</th><td>1</td><td>1</td><td>1</td><td> 0.00000</td><td>12.31158</td><td>54.29632</td></tr>\n",
       "\t<tr><th scope=row>2</th><td>2</td><td>1</td><td>2</td><td>81.46142</td><td> 0.00000</td><td>39.78287</td></tr>\n",
       "</tbody>\n",
       "</table>\n"
      ],
      "text/latex": [
       "A data.frame: 2 × 6\n",
       "\\begin{tabular}{r|llllll}\n",
       "  & Gender & Group & subj & value1 & value2 & value3\\\\\n",
       "  & <int> & <int> & <int> & <dbl> & <dbl> & <dbl>\\\\\n",
       "\\hline\n",
       "\t1 & 1 & 1 & 1 &  0.00000 & 12.31158 & 54.29632\\\\\n",
       "\t2 & 2 & 1 & 2 & 81.46142 &  0.00000 & 39.78287\\\\\n",
       "\\end{tabular}\n"
      ],
      "text/markdown": [
       "\n",
       "A data.frame: 2 × 6\n",
       "\n",
       "| <!--/--> | Gender &lt;int&gt; | Group &lt;int&gt; | subj &lt;int&gt; | value1 &lt;dbl&gt; | value2 &lt;dbl&gt; | value3 &lt;dbl&gt; |\n",
       "|---|---|---|---|---|---|---|\n",
       "| 1 | 1 | 1 | 1 |  0.00000 | 12.31158 | 54.29632 |\n",
       "| 2 | 2 | 1 | 2 | 81.46142 |  0.00000 | 39.78287 |\n",
       "\n"
      ],
      "text/plain": [
       "  Gender Group subj value1   value2   value3  \n",
       "1 1      1     1     0.00000 12.31158 54.29632\n",
       "2 2      1     2    81.46142  0.00000 39.78287"
      ]
     },
     "metadata": {},
     "output_type": "display_data"
    }
   ],
   "source": [
    "data5 %>%\n",
    "  mutate(across(everything(), ~ifelse(is.na(.), 0, .))) %>% # alternative: mutate_if(~any(is.na(.x)), ~ ifelse(is.na(.x),0,.x))\n",
    "  head(2)"
   ]
  },
  {
   "cell_type": "markdown",
   "id": "b00a5364-a23d-455c-9911-b19af3f26b13",
   "metadata": {},
   "source": [
    "Use `all_of()` to select all columns from a list (given an error if a column does not exist):"
   ]
  },
  {
   "cell_type": "code",
   "execution_count": 128,
   "id": "ede0fe62-451e-40f4-a2ad-c00f2c5126bf",
   "metadata": {},
   "outputs": [
    {
     "data": {
      "text/html": [
       "<table class=\"dataframe\">\n",
       "<caption>A data.frame: 2 × 6</caption>\n",
       "<thead>\n",
       "\t<tr><th></th><th scope=col>Gender</th><th scope=col>Group</th><th scope=col>subj</th><th scope=col>value1</th><th scope=col>value2</th><th scope=col>value3</th></tr>\n",
       "\t<tr><th></th><th scope=col>&lt;fct&gt;</th><th scope=col>&lt;fct&gt;</th><th scope=col>&lt;fct&gt;</th><th scope=col>&lt;dbl&gt;</th><th scope=col>&lt;chr&gt;</th><th scope=col>&lt;chr&gt;</th></tr>\n",
       "</thead>\n",
       "<tbody>\n",
       "\t<tr><th scope=row>1</th><td>M</td><td>A</td><td>1</td><td>71.71731</td><td>12.3115775834841</td><td>54.2963192404898</td></tr>\n",
       "\t<tr><th scope=row>2</th><td>F</td><td>A</td><td>2</td><td>81.46142</td><td>9.64176602016179</td><td>39.7828727156924</td></tr>\n",
       "</tbody>\n",
       "</table>\n"
      ],
      "text/latex": [
       "A data.frame: 2 × 6\n",
       "\\begin{tabular}{r|llllll}\n",
       "  & Gender & Group & subj & value1 & value2 & value3\\\\\n",
       "  & <fct> & <fct> & <fct> & <dbl> & <chr> & <chr>\\\\\n",
       "\\hline\n",
       "\t1 & M & A & 1 & 71.71731 & 12.3115775834841 & 54.2963192404898\\\\\n",
       "\t2 & F & A & 2 & 81.46142 & 9.64176602016179 & 39.7828727156924\\\\\n",
       "\\end{tabular}\n"
      ],
      "text/markdown": [
       "\n",
       "A data.frame: 2 × 6\n",
       "\n",
       "| <!--/--> | Gender &lt;fct&gt; | Group &lt;fct&gt; | subj &lt;fct&gt; | value1 &lt;dbl&gt; | value2 &lt;chr&gt; | value3 &lt;chr&gt; |\n",
       "|---|---|---|---|---|---|---|\n",
       "| 1 | M | A | 1 | 71.71731 | 12.3115775834841 | 54.2963192404898 |\n",
       "| 2 | F | A | 2 | 81.46142 | 9.64176602016179 | 39.7828727156924 |\n",
       "\n"
      ],
      "text/plain": [
       "  Gender Group subj value1   value2           value3          \n",
       "1 M      A     1    71.71731 12.3115775834841 54.2963192404898\n",
       "2 F      A     2    81.46142 9.64176602016179 39.7828727156924"
      ]
     },
     "metadata": {},
     "output_type": "display_data"
    }
   ],
   "source": [
    "cols <- c(\"value2\", \"value3\")\n",
    "\n",
    "data4 %>%\n",
    "  mutate(across(all_of(cols), as.character)) %>%\n",
    "  head(2)"
   ]
  },
  {
   "cell_type": "markdown",
   "id": "31615b65-c47f-4a8b-b80f-d0f681ff8fa3",
   "metadata": {},
   "source": [
    "Use `any_of()` to select all existing columns from a list (does not give an error if a column does not exist):"
   ]
  },
  {
   "cell_type": "code",
   "execution_count": 129,
   "id": "49000e89-7041-40fe-90dc-07c719409172",
   "metadata": {},
   "outputs": [
    {
     "data": {
      "text/html": [
       "<table class=\"dataframe\">\n",
       "<caption>A data.frame: 2 × 6</caption>\n",
       "<thead>\n",
       "\t<tr><th></th><th scope=col>Gender</th><th scope=col>Group</th><th scope=col>subj</th><th scope=col>value1</th><th scope=col>value2</th><th scope=col>value3</th></tr>\n",
       "\t<tr><th></th><th scope=col>&lt;fct&gt;</th><th scope=col>&lt;fct&gt;</th><th scope=col>&lt;fct&gt;</th><th scope=col>&lt;dbl&gt;</th><th scope=col>&lt;chr&gt;</th><th scope=col>&lt;chr&gt;</th></tr>\n",
       "</thead>\n",
       "<tbody>\n",
       "\t<tr><th scope=row>1</th><td>M</td><td>A</td><td>1</td><td>71.71731</td><td>12.3115775834841</td><td>54.2963192404898</td></tr>\n",
       "\t<tr><th scope=row>2</th><td>F</td><td>A</td><td>2</td><td>81.46142</td><td>9.64176602016179</td><td>39.7828727156924</td></tr>\n",
       "</tbody>\n",
       "</table>\n"
      ],
      "text/latex": [
       "A data.frame: 2 × 6\n",
       "\\begin{tabular}{r|llllll}\n",
       "  & Gender & Group & subj & value1 & value2 & value3\\\\\n",
       "  & <fct> & <fct> & <fct> & <dbl> & <chr> & <chr>\\\\\n",
       "\\hline\n",
       "\t1 & M & A & 1 & 71.71731 & 12.3115775834841 & 54.2963192404898\\\\\n",
       "\t2 & F & A & 2 & 81.46142 & 9.64176602016179 & 39.7828727156924\\\\\n",
       "\\end{tabular}\n"
      ],
      "text/markdown": [
       "\n",
       "A data.frame: 2 × 6\n",
       "\n",
       "| <!--/--> | Gender &lt;fct&gt; | Group &lt;fct&gt; | subj &lt;fct&gt; | value1 &lt;dbl&gt; | value2 &lt;chr&gt; | value3 &lt;chr&gt; |\n",
       "|---|---|---|---|---|---|---|\n",
       "| 1 | M | A | 1 | 71.71731 | 12.3115775834841 | 54.2963192404898 |\n",
       "| 2 | F | A | 2 | 81.46142 | 9.64176602016179 | 39.7828727156924 |\n",
       "\n"
      ],
      "text/plain": [
       "  Gender Group subj value1   value2           value3          \n",
       "1 M      A     1    71.71731 12.3115775834841 54.2963192404898\n",
       "2 F      A     2    81.46142 9.64176602016179 39.7828727156924"
      ]
     },
     "metadata": {},
     "output_type": "display_data"
    }
   ],
   "source": [
    "cols <- c(\"value2\", \"value3\", \"value4\") # Notice, there is no value4 column, so an_of() should be used!\n",
    "\n",
    "data4 %>%\n",
    "  mutate(across(any_of(cols), as.character)) %>%\n",
    "  head(2)"
   ]
  },
  {
   "cell_type": "markdown",
   "id": "a718842b-35f6-4aa9-860b-4cacac7c16ab",
   "metadata": {},
   "source": [
    "<a name=\"toc_788789_3.4\"></a>\n",
    "<u>3.4 Creating and naming separate columns for the output</u>\n",
    "\n",
    "Using `.names = \"*{.col}\"` to name the new columns and keep the old ones."
   ]
  },
  {
   "cell_type": "code",
   "execution_count": 142,
   "id": "8730b177-25fa-4ead-abbe-1d30644a267d",
   "metadata": {},
   "outputs": [
    {
     "data": {
      "text/html": [
       "<table class=\"dataframe\">\n",
       "<caption>A data.frame: 2 × 7</caption>\n",
       "<thead>\n",
       "\t<tr><th></th><th scope=col>Sepal.Length</th><th scope=col>Sepal.Width</th><th scope=col>Petal.Length</th><th scope=col>Petal.Width</th><th scope=col>Species</th><th scope=col>log_Sepal.Length</th><th scope=col>log_Sepal.Width</th></tr>\n",
       "\t<tr><th></th><th scope=col>&lt;dbl&gt;</th><th scope=col>&lt;dbl&gt;</th><th scope=col>&lt;dbl&gt;</th><th scope=col>&lt;dbl&gt;</th><th scope=col>&lt;fct&gt;</th><th scope=col>&lt;dbl&gt;</th><th scope=col>&lt;dbl&gt;</th></tr>\n",
       "</thead>\n",
       "<tbody>\n",
       "\t<tr><th scope=row>1</th><td>5.1</td><td>3.5</td><td>1.4</td><td>0.2</td><td>setosa</td><td>1.629241</td><td>1.252763</td></tr>\n",
       "\t<tr><th scope=row>2</th><td>4.9</td><td>3.0</td><td>1.4</td><td>0.2</td><td>setosa</td><td>1.589235</td><td>1.098612</td></tr>\n",
       "</tbody>\n",
       "</table>\n"
      ],
      "text/latex": [
       "A data.frame: 2 × 7\n",
       "\\begin{tabular}{r|lllllll}\n",
       "  & Sepal.Length & Sepal.Width & Petal.Length & Petal.Width & Species & log\\_Sepal.Length & log\\_Sepal.Width\\\\\n",
       "  & <dbl> & <dbl> & <dbl> & <dbl> & <fct> & <dbl> & <dbl>\\\\\n",
       "\\hline\n",
       "\t1 & 5.1 & 3.5 & 1.4 & 0.2 & setosa & 1.629241 & 1.252763\\\\\n",
       "\t2 & 4.9 & 3.0 & 1.4 & 0.2 & setosa & 1.589235 & 1.098612\\\\\n",
       "\\end{tabular}\n"
      ],
      "text/markdown": [
       "\n",
       "A data.frame: 2 × 7\n",
       "\n",
       "| <!--/--> | Sepal.Length &lt;dbl&gt; | Sepal.Width &lt;dbl&gt; | Petal.Length &lt;dbl&gt; | Petal.Width &lt;dbl&gt; | Species &lt;fct&gt; | log_Sepal.Length &lt;dbl&gt; | log_Sepal.Width &lt;dbl&gt; |\n",
       "|---|---|---|---|---|---|---|---|\n",
       "| 1 | 5.1 | 3.5 | 1.4 | 0.2 | setosa | 1.629241 | 1.252763 |\n",
       "| 2 | 4.9 | 3.0 | 1.4 | 0.2 | setosa | 1.589235 | 1.098612 |\n",
       "\n"
      ],
      "text/plain": [
       "  Sepal.Length Sepal.Width Petal.Length Petal.Width Species log_Sepal.Length\n",
       "1 5.1          3.5         1.4          0.2         setosa  1.629241        \n",
       "2 4.9          3.0         1.4          0.2         setosa  1.589235        \n",
       "  log_Sepal.Width\n",
       "1 1.252763       \n",
       "2 1.098612       "
      ]
     },
     "metadata": {},
     "output_type": "display_data"
    }
   ],
   "source": [
    "iris %>% \n",
    "  mutate(across(matches(\"Sepal\"), log, .names = \"log_{.col}\")) %>% \n",
    "  head(2)"
   ]
  },
  {
   "cell_type": "markdown",
   "id": "dcf0b3a1-b88e-4043-a034-90f78737af1d",
   "metadata": {},
   "source": [
    "<a name=\"toc_788789_3.5\"></a>\n",
    "<u>3.5 Use `across()` with `summarise()` or `reframe()`</u>"
   ]
  },
  {
   "cell_type": "code",
   "execution_count": 130,
   "id": "bb9183aa-08f6-43dc-ad1f-138f8f5284df",
   "metadata": {},
   "outputs": [
    {
     "data": {
      "text/html": [
       "<table class=\"dataframe\">\n",
       "<caption>A tibble: 3 × 5</caption>\n",
       "<thead>\n",
       "\t<tr><th scope=col>Species</th><th scope=col>Sepal.Length_mean</th><th scope=col>Sepal.Length_sd</th><th scope=col>Sepal.Width_mean</th><th scope=col>Sepal.Width_sd</th></tr>\n",
       "\t<tr><th scope=col>&lt;fct&gt;</th><th scope=col>&lt;dbl&gt;</th><th scope=col>&lt;dbl&gt;</th><th scope=col>&lt;dbl&gt;</th><th scope=col>&lt;dbl&gt;</th></tr>\n",
       "</thead>\n",
       "<tbody>\n",
       "\t<tr><td>setosa    </td><td>5.006</td><td>0.3524897</td><td>3.428</td><td>0.3790644</td></tr>\n",
       "\t<tr><td>versicolor</td><td>5.936</td><td>0.5161711</td><td>2.770</td><td>0.3137983</td></tr>\n",
       "\t<tr><td>virginica </td><td>6.588</td><td>0.6358796</td><td>2.974</td><td>0.3224966</td></tr>\n",
       "</tbody>\n",
       "</table>\n"
      ],
      "text/latex": [
       "A tibble: 3 × 5\n",
       "\\begin{tabular}{lllll}\n",
       " Species & Sepal.Length\\_mean & Sepal.Length\\_sd & Sepal.Width\\_mean & Sepal.Width\\_sd\\\\\n",
       " <fct> & <dbl> & <dbl> & <dbl> & <dbl>\\\\\n",
       "\\hline\n",
       "\t setosa     & 5.006 & 0.3524897 & 3.428 & 0.3790644\\\\\n",
       "\t versicolor & 5.936 & 0.5161711 & 2.770 & 0.3137983\\\\\n",
       "\t virginica  & 6.588 & 0.6358796 & 2.974 & 0.3224966\\\\\n",
       "\\end{tabular}\n"
      ],
      "text/markdown": [
       "\n",
       "A tibble: 3 × 5\n",
       "\n",
       "| Species &lt;fct&gt; | Sepal.Length_mean &lt;dbl&gt; | Sepal.Length_sd &lt;dbl&gt; | Sepal.Width_mean &lt;dbl&gt; | Sepal.Width_sd &lt;dbl&gt; |\n",
       "|---|---|---|---|---|\n",
       "| setosa     | 5.006 | 0.3524897 | 3.428 | 0.3790644 |\n",
       "| versicolor | 5.936 | 0.5161711 | 2.770 | 0.3137983 |\n",
       "| virginica  | 6.588 | 0.6358796 | 2.974 | 0.3224966 |\n",
       "\n"
      ],
      "text/plain": [
       "  Species    Sepal.Length_mean Sepal.Length_sd Sepal.Width_mean Sepal.Width_sd\n",
       "1 setosa     5.006             0.3524897       3.428            0.3790644     \n",
       "2 versicolor 5.936             0.5161711       2.770            0.3137983     \n",
       "3 virginica  6.588             0.6358796       2.974            0.3224966     "
      ]
     },
     "metadata": {},
     "output_type": "display_data"
    }
   ],
   "source": [
    "iris %>%\n",
    "  group_by(Species) %>%\n",
    "  summarise(across(starts_with(\"Sepal\"), list(mean = mean, sd = sd)))"
   ]
  },
  {
   "cell_type": "code",
   "execution_count": 131,
   "id": "3ecf57fe-804d-49ba-bb3e-adb314031d43",
   "metadata": {},
   "outputs": [
    {
     "data": {
      "text/html": [
       "<table class=\"dataframe\">\n",
       "<caption>A tibble: 3 × 3</caption>\n",
       "<thead>\n",
       "\t<tr><th scope=col>Species</th><th scope=col>mean_Sepal.Length</th><th scope=col>mean_Sepal.Width</th></tr>\n",
       "\t<tr><th scope=col>&lt;fct&gt;</th><th scope=col>&lt;dbl&gt;</th><th scope=col>&lt;dbl&gt;</th></tr>\n",
       "</thead>\n",
       "<tbody>\n",
       "\t<tr><td>setosa    </td><td>5.006</td><td>3.428</td></tr>\n",
       "\t<tr><td>versicolor</td><td>5.936</td><td>2.770</td></tr>\n",
       "\t<tr><td>virginica </td><td>6.588</td><td>2.974</td></tr>\n",
       "</tbody>\n",
       "</table>\n"
      ],
      "text/latex": [
       "A tibble: 3 × 3\n",
       "\\begin{tabular}{lll}\n",
       " Species & mean\\_Sepal.Length & mean\\_Sepal.Width\\\\\n",
       " <fct> & <dbl> & <dbl>\\\\\n",
       "\\hline\n",
       "\t setosa     & 5.006 & 3.428\\\\\n",
       "\t versicolor & 5.936 & 2.770\\\\\n",
       "\t virginica  & 6.588 & 2.974\\\\\n",
       "\\end{tabular}\n"
      ],
      "text/markdown": [
       "\n",
       "A tibble: 3 × 3\n",
       "\n",
       "| Species &lt;fct&gt; | mean_Sepal.Length &lt;dbl&gt; | mean_Sepal.Width &lt;dbl&gt; |\n",
       "|---|---|---|\n",
       "| setosa     | 5.006 | 3.428 |\n",
       "| versicolor | 5.936 | 2.770 |\n",
       "| virginica  | 6.588 | 2.974 |\n",
       "\n"
      ],
      "text/plain": [
       "  Species    mean_Sepal.Length mean_Sepal.Width\n",
       "1 setosa     5.006             3.428           \n",
       "2 versicolor 5.936             2.770           \n",
       "3 virginica  6.588             2.974           "
      ]
     },
     "metadata": {},
     "output_type": "display_data"
    }
   ],
   "source": [
    "iris %>%\n",
    "  group_by(Species) %>%\n",
    "  summarise(across(starts_with(\"Sepal\"), mean, .names = \"mean_{.col}\"))"
   ]
  },
  {
   "cell_type": "markdown",
   "id": "9093ef39-e0f9-46a5-8c29-2d493f47bffc",
   "metadata": {},
   "source": [
    "<a name=\"toc_788789_3.6\"></a>\n",
    "<u>3.6 Insert new row with `add_row()`</u>"
   ]
  },
  {
   "cell_type": "code",
   "execution_count": 30,
   "id": "897d268f-c7fd-4cbf-a886-7674df04c01f",
   "metadata": {},
   "outputs": [
    {
     "data": {
      "text/html": [
       "<table class=\"dataframe\">\n",
       "<caption>A data.frame: 4 × 5</caption>\n",
       "<thead>\n",
       "\t<tr><th scope=col>Sepal.Length</th><th scope=col>Sepal.Width</th><th scope=col>Petal.Length</th><th scope=col>Petal.Width</th><th scope=col>Species</th></tr>\n",
       "\t<tr><th scope=col>&lt;dbl&gt;</th><th scope=col>&lt;dbl&gt;</th><th scope=col>&lt;dbl&gt;</th><th scope=col>&lt;dbl&gt;</th><th scope=col>&lt;chr&gt;</th></tr>\n",
       "</thead>\n",
       "<tbody>\n",
       "\t<tr><td>5.1</td><td>3.5</td><td>1.4</td><td>0.2</td><td>setosa</td></tr>\n",
       "\t<tr><td>4.9</td><td>3.0</td><td>1.4</td><td>0.2</td><td>setosa</td></tr>\n",
       "\t<tr><td>4.7</td><td>3.2</td><td>1.3</td><td>0.2</td><td>setosa</td></tr>\n",
       "\t<tr><td> NA</td><td> NA</td><td> NA</td><td>0.3</td><td>SETOSA</td></tr>\n",
       "</tbody>\n",
       "</table>\n"
      ],
      "text/latex": [
       "A data.frame: 4 × 5\n",
       "\\begin{tabular}{lllll}\n",
       " Sepal.Length & Sepal.Width & Petal.Length & Petal.Width & Species\\\\\n",
       " <dbl> & <dbl> & <dbl> & <dbl> & <chr>\\\\\n",
       "\\hline\n",
       "\t 5.1 & 3.5 & 1.4 & 0.2 & setosa\\\\\n",
       "\t 4.9 & 3.0 & 1.4 & 0.2 & setosa\\\\\n",
       "\t 4.7 & 3.2 & 1.3 & 0.2 & setosa\\\\\n",
       "\t  NA &  NA &  NA & 0.3 & SETOSA\\\\\n",
       "\\end{tabular}\n"
      ],
      "text/markdown": [
       "\n",
       "A data.frame: 4 × 5\n",
       "\n",
       "| Sepal.Length &lt;dbl&gt; | Sepal.Width &lt;dbl&gt; | Petal.Length &lt;dbl&gt; | Petal.Width &lt;dbl&gt; | Species &lt;chr&gt; |\n",
       "|---|---|---|---|---|\n",
       "| 5.1 | 3.5 | 1.4 | 0.2 | setosa |\n",
       "| 4.9 | 3.0 | 1.4 | 0.2 | setosa |\n",
       "| 4.7 | 3.2 | 1.3 | 0.2 | setosa |\n",
       "|  NA |  NA |  NA | 0.3 | SETOSA |\n",
       "\n"
      ],
      "text/plain": [
       "  Sepal.Length Sepal.Width Petal.Length Petal.Width Species\n",
       "1 5.1          3.5         1.4          0.2         setosa \n",
       "2 4.9          3.0         1.4          0.2         setosa \n",
       "3 4.7          3.2         1.3          0.2         setosa \n",
       "4  NA           NA          NA          0.3         SETOSA "
      ]
     },
     "metadata": {},
     "output_type": "display_data"
    }
   ],
   "source": [
    "  iris %>% \n",
    "  head(3) %>% \n",
    "  add_row(Species = \"SETOSA\", Petal.Width = 0.3) "
   ]
  },
  {
   "cell_type": "markdown",
   "id": "2831418b-7e3e-4079-9574-111f77cbc9bd",
   "metadata": {},
   "source": [
    "To imput missing rows, we can use the `complete()` function from `tidyr`:"
   ]
  },
  {
   "cell_type": "code",
   "execution_count": 33,
   "id": "1a09fff2-20f9-4bf3-85f9-eaab346e39dd",
   "metadata": {},
   "outputs": [
    {
     "data": {
      "text/html": [
       "<table class=\"dataframe\">\n",
       "<caption>A data.frame: 8 × 3</caption>\n",
       "<thead>\n",
       "\t<tr><th scope=col>name</th><th scope=col>time</th><th scope=col>value</th></tr>\n",
       "\t<tr><th scope=col>&lt;fct&gt;</th><th scope=col>&lt;fct&gt;</th><th scope=col>&lt;int&gt;</th></tr>\n",
       "</thead>\n",
       "<tbody>\n",
       "\t<tr><td>A</td><td>morning  </td><td>1</td></tr>\n",
       "\t<tr><td>B</td><td>morning  </td><td>2</td></tr>\n",
       "\t<tr><td>C</td><td>morning  </td><td>3</td></tr>\n",
       "\t<tr><td>A</td><td>afternoon</td><td>4</td></tr>\n",
       "\t<tr><td>B</td><td>afternoon</td><td>5</td></tr>\n",
       "\t<tr><td>C</td><td>afternoon</td><td>6</td></tr>\n",
       "\t<tr><td>A</td><td>evening  </td><td>7</td></tr>\n",
       "\t<tr><td>C</td><td>evening  </td><td>9</td></tr>\n",
       "</tbody>\n",
       "</table>\n"
      ],
      "text/latex": [
       "A data.frame: 8 × 3\n",
       "\\begin{tabular}{lll}\n",
       " name & time & value\\\\\n",
       " <fct> & <fct> & <int>\\\\\n",
       "\\hline\n",
       "\t A & morning   & 1\\\\\n",
       "\t B & morning   & 2\\\\\n",
       "\t C & morning   & 3\\\\\n",
       "\t A & afternoon & 4\\\\\n",
       "\t B & afternoon & 5\\\\\n",
       "\t C & afternoon & 6\\\\\n",
       "\t A & evening   & 7\\\\\n",
       "\t C & evening   & 9\\\\\n",
       "\\end{tabular}\n"
      ],
      "text/markdown": [
       "\n",
       "A data.frame: 8 × 3\n",
       "\n",
       "| name &lt;fct&gt; | time &lt;fct&gt; | value &lt;int&gt; |\n",
       "|---|---|---|\n",
       "| A | morning   | 1 |\n",
       "| B | morning   | 2 |\n",
       "| C | morning   | 3 |\n",
       "| A | afternoon | 4 |\n",
       "| B | afternoon | 5 |\n",
       "| C | afternoon | 6 |\n",
       "| A | evening   | 7 |\n",
       "| C | evening   | 9 |\n",
       "\n"
      ],
      "text/plain": [
       "  name time      value\n",
       "1 A    morning   1    \n",
       "2 B    morning   2    \n",
       "3 C    morning   3    \n",
       "4 A    afternoon 4    \n",
       "5 B    afternoon 5    \n",
       "6 C    afternoon 6    \n",
       "7 A    evening   7    \n",
       "8 C    evening   9    "
      ]
     },
     "metadata": {},
     "output_type": "display_data"
    }
   ],
   "source": [
    "dt <- expand.grid(name = c(\"A\", \"B\", \"C\"), time = c(\"morning\", \"afternoon\", \"evening\")) %>%\n",
    "      mutate(value = 1:9) %>%\n",
    "      filter(!(name == \"B\" & time == \"evening\"))\n",
    "\n",
    "dt "
   ]
  },
  {
   "cell_type": "markdown",
   "id": "1b55d5be-43f9-49d4-bb4e-972b4eea98cc",
   "metadata": {},
   "source": [
    "☝️ The `name == \"B\"` and `time == \"evening\"` case is missing, but we want a row with `NA` instead for that case."
   ]
  },
  {
   "cell_type": "code",
   "execution_count": 34,
   "id": "be0446aa-197d-4d83-a408-cd06849bd936",
   "metadata": {},
   "outputs": [
    {
     "data": {
      "text/html": [
       "<table class=\"dataframe\">\n",
       "<caption>A tibble: 9 × 3</caption>\n",
       "<thead>\n",
       "\t<tr><th scope=col>name</th><th scope=col>time</th><th scope=col>value</th></tr>\n",
       "\t<tr><th scope=col>&lt;fct&gt;</th><th scope=col>&lt;fct&gt;</th><th scope=col>&lt;int&gt;</th></tr>\n",
       "</thead>\n",
       "<tbody>\n",
       "\t<tr><td>A</td><td>morning  </td><td> 1</td></tr>\n",
       "\t<tr><td>A</td><td>afternoon</td><td> 4</td></tr>\n",
       "\t<tr><td>A</td><td>evening  </td><td> 7</td></tr>\n",
       "\t<tr><td>B</td><td>morning  </td><td> 2</td></tr>\n",
       "\t<tr><td>B</td><td>afternoon</td><td> 5</td></tr>\n",
       "\t<tr><td>B</td><td>evening  </td><td>NA</td></tr>\n",
       "\t<tr><td>C</td><td>morning  </td><td> 3</td></tr>\n",
       "\t<tr><td>C</td><td>afternoon</td><td> 6</td></tr>\n",
       "\t<tr><td>C</td><td>evening  </td><td> 9</td></tr>\n",
       "</tbody>\n",
       "</table>\n"
      ],
      "text/latex": [
       "A tibble: 9 × 3\n",
       "\\begin{tabular}{lll}\n",
       " name & time & value\\\\\n",
       " <fct> & <fct> & <int>\\\\\n",
       "\\hline\n",
       "\t A & morning   &  1\\\\\n",
       "\t A & afternoon &  4\\\\\n",
       "\t A & evening   &  7\\\\\n",
       "\t B & morning   &  2\\\\\n",
       "\t B & afternoon &  5\\\\\n",
       "\t B & evening   & NA\\\\\n",
       "\t C & morning   &  3\\\\\n",
       "\t C & afternoon &  6\\\\\n",
       "\t C & evening   &  9\\\\\n",
       "\\end{tabular}\n"
      ],
      "text/markdown": [
       "\n",
       "A tibble: 9 × 3\n",
       "\n",
       "| name &lt;fct&gt; | time &lt;fct&gt; | value &lt;int&gt; |\n",
       "|---|---|---|\n",
       "| A | morning   |  1 |\n",
       "| A | afternoon |  4 |\n",
       "| A | evening   |  7 |\n",
       "| B | morning   |  2 |\n",
       "| B | afternoon |  5 |\n",
       "| B | evening   | NA |\n",
       "| C | morning   |  3 |\n",
       "| C | afternoon |  6 |\n",
       "| C | evening   |  9 |\n",
       "\n"
      ],
      "text/plain": [
       "  name time      value\n",
       "1 A    morning    1   \n",
       "2 A    afternoon  4   \n",
       "3 A    evening    7   \n",
       "4 B    morning    2   \n",
       "5 B    afternoon  5   \n",
       "6 B    evening   NA   \n",
       "7 C    morning    3   \n",
       "8 C    afternoon  6   \n",
       "9 C    evening    9   "
      ]
     },
     "metadata": {},
     "output_type": "display_data"
    }
   ],
   "source": [
    "dt %>%\n",
    "  complete(name, time)"
   ]
  },
  {
   "cell_type": "markdown",
   "id": "a25eb273-a3bd-463b-8e1e-c8a2d9ac2a00",
   "metadata": {},
   "source": [
    "☝️ Now the dataset is complete!"
   ]
  },
  {
   "cell_type": "markdown",
   "id": "94e4f314-12e9-4ea0-89d3-4d8696fd180c",
   "metadata": {
    "tags": []
   },
   "source": [
    "<a name=\"toc_788789_4\"></a>\n",
    "## 4.   Mutate with conditions"
   ]
  },
  {
   "cell_type": "markdown",
   "id": "e7ea62cb-6fc1-4e31-bcd9-eaeda0c872b5",
   "metadata": {},
   "source": [
    "<a name=\"toc_788789_4.1\"></a>\n",
    "<u>4.1 Mutate with `ifelse()` </u>"
   ]
  },
  {
   "cell_type": "code",
   "execution_count": 119,
   "id": "89a57355-8a00-48a7-80b0-367e1caaaa6a",
   "metadata": {},
   "outputs": [
    {
     "data": {
      "text/html": [
       "<table class=\"dataframe\">\n",
       "<caption>A data.frame: 2 × 7</caption>\n",
       "<thead>\n",
       "\t<tr><th></th><th scope=col>Gender</th><th scope=col>Group</th><th scope=col>subj</th><th scope=col>value1</th><th scope=col>value2</th><th scope=col>value3</th><th scope=col>newvar</th></tr>\n",
       "\t<tr><th></th><th scope=col>&lt;fct&gt;</th><th scope=col>&lt;fct&gt;</th><th scope=col>&lt;fct&gt;</th><th scope=col>&lt;dbl&gt;</th><th scope=col>&lt;dbl&gt;</th><th scope=col>&lt;dbl&gt;</th><th scope=col>&lt;chr&gt;</th></tr>\n",
       "</thead>\n",
       "<tbody>\n",
       "\t<tr><th scope=row>1</th><td>M</td><td>A</td><td>1</td><td>71.71731</td><td>12.311578</td><td>54.29632</td><td>NC</td></tr>\n",
       "\t<tr><th scope=row>2</th><td>F</td><td>A</td><td>2</td><td>81.46142</td><td> 9.641766</td><td>39.78287</td><td>81</td></tr>\n",
       "</tbody>\n",
       "</table>\n"
      ],
      "text/latex": [
       "A data.frame: 2 × 7\n",
       "\\begin{tabular}{r|lllllll}\n",
       "  & Gender & Group & subj & value1 & value2 & value3 & newvar\\\\\n",
       "  & <fct> & <fct> & <fct> & <dbl> & <dbl> & <dbl> & <chr>\\\\\n",
       "\\hline\n",
       "\t1 & M & A & 1 & 71.71731 & 12.311578 & 54.29632 & NC\\\\\n",
       "\t2 & F & A & 2 & 81.46142 &  9.641766 & 39.78287 & 81\\\\\n",
       "\\end{tabular}\n"
      ],
      "text/markdown": [
       "\n",
       "A data.frame: 2 × 7\n",
       "\n",
       "| <!--/--> | Gender &lt;fct&gt; | Group &lt;fct&gt; | subj &lt;fct&gt; | value1 &lt;dbl&gt; | value2 &lt;dbl&gt; | value3 &lt;dbl&gt; | newvar &lt;chr&gt; |\n",
       "|---|---|---|---|---|---|---|---|\n",
       "| 1 | M | A | 1 | 71.71731 | 12.311578 | 54.29632 | NC |\n",
       "| 2 | F | A | 2 | 81.46142 |  9.641766 | 39.78287 | 81 |\n",
       "\n"
      ],
      "text/plain": [
       "  Gender Group subj value1   value2    value3   newvar\n",
       "1 M      A     1    71.71731 12.311578 54.29632 NC    \n",
       "2 F      A     2    81.46142  9.641766 39.78287 81    "
      ]
     },
     "metadata": {},
     "output_type": "display_data"
    }
   ],
   "source": [
    "data4 %>%\n",
    " mutate(newvar = ifelse(Gender == \"M\", \"NC\", round(value1, 0))) %>%\n",
    " head(2)     "
   ]
  },
  {
   "cell_type": "markdown",
   "id": "40499460-df70-45d8-8761-d44c8d6d38ce",
   "metadata": {},
   "source": [
    "<a name=\"toc_788789_4.2\"></a>\n",
    "<u>4.2 Mutate with `case_when()` </u>"
   ]
  },
  {
   "cell_type": "code",
   "execution_count": 125,
   "id": "2a25dd12-bdea-42b4-afce-4752492bf126",
   "metadata": {},
   "outputs": [
    {
     "data": {
      "text/html": [
       "<table class=\"dataframe\">\n",
       "<caption>A data.frame: 1 × 7</caption>\n",
       "<thead>\n",
       "\t<tr><th></th><th scope=col>Gender</th><th scope=col>Group</th><th scope=col>subj</th><th scope=col>value1</th><th scope=col>value2</th><th scope=col>value3</th><th scope=col>newvar</th></tr>\n",
       "\t<tr><th></th><th scope=col>&lt;fct&gt;</th><th scope=col>&lt;fct&gt;</th><th scope=col>&lt;fct&gt;</th><th scope=col>&lt;dbl&gt;</th><th scope=col>&lt;dbl&gt;</th><th scope=col>&lt;dbl&gt;</th><th scope=col>&lt;chr&gt;</th></tr>\n",
       "</thead>\n",
       "<tbody>\n",
       "\t<tr><th scope=row>1</th><td>M</td><td>A</td><td>1</td><td>71.71731</td><td>12.31158</td><td>54.29632</td><td>G1</td></tr>\n",
       "</tbody>\n",
       "</table>\n"
      ],
      "text/latex": [
       "A data.frame: 1 × 7\n",
       "\\begin{tabular}{r|lllllll}\n",
       "  & Gender & Group & subj & value1 & value2 & value3 & newvar\\\\\n",
       "  & <fct> & <fct> & <fct> & <dbl> & <dbl> & <dbl> & <chr>\\\\\n",
       "\\hline\n",
       "\t1 & M & A & 1 & 71.71731 & 12.31158 & 54.29632 & G1\\\\\n",
       "\\end{tabular}\n"
      ],
      "text/markdown": [
       "\n",
       "A data.frame: 1 × 7\n",
       "\n",
       "| <!--/--> | Gender &lt;fct&gt; | Group &lt;fct&gt; | subj &lt;fct&gt; | value1 &lt;dbl&gt; | value2 &lt;dbl&gt; | value3 &lt;dbl&gt; | newvar &lt;chr&gt; |\n",
       "|---|---|---|---|---|---|---|---|\n",
       "| 1 | M | A | 1 | 71.71731 | 12.31158 | 54.29632 | G1 |\n",
       "\n"
      ],
      "text/plain": [
       "  Gender Group subj value1   value2   value3   newvar\n",
       "1 M      A     1    71.71731 12.31158 54.29632 G1    "
      ]
     },
     "metadata": {},
     "output_type": "display_data"
    }
   ],
   "source": [
    "data4 %>%\n",
    "  mutate(newvar = \n",
    "             case_when(\n",
    "                 Group == \"A\" ~ \"G1\",\n",
    "                 Group == \"B\" ~ \"G2\",\n",
    "                 TRUE ~ \"Other\"\n",
    "          )\n",
    "  ) %>%\n",
    "  head(1)  "
   ]
  },
  {
   "cell_type": "code",
   "execution_count": 224,
   "id": "3c51252b-21ee-43a0-bb33-6654bee0e2d1",
   "metadata": {},
   "outputs": [
    {
     "data": {
      "text/html": [
       "<table class=\"dataframe\">\n",
       "<caption>A data.frame: 2 × 7</caption>\n",
       "<thead>\n",
       "\t<tr><th></th><th scope=col>Gender</th><th scope=col>Group</th><th scope=col>subj</th><th scope=col>value1</th><th scope=col>value2</th><th scope=col>value3</th><th scope=col>Sex</th></tr>\n",
       "\t<tr><th></th><th scope=col>&lt;fct&gt;</th><th scope=col>&lt;fct&gt;</th><th scope=col>&lt;fct&gt;</th><th scope=col>&lt;dbl&gt;</th><th scope=col>&lt;dbl&gt;</th><th scope=col>&lt;dbl&gt;</th><th scope=col>&lt;chr&gt;</th></tr>\n",
       "</thead>\n",
       "<tbody>\n",
       "\t<tr><th scope=row>1</th><td>M</td><td>A</td><td>1</td><td>71.71731</td><td>12.311578</td><td>54.29632</td><td>male  </td></tr>\n",
       "\t<tr><th scope=row>2</th><td>F</td><td>A</td><td>2</td><td>81.46142</td><td> 9.641766</td><td>39.78287</td><td>female</td></tr>\n",
       "</tbody>\n",
       "</table>\n"
      ],
      "text/latex": [
       "A data.frame: 2 × 7\n",
       "\\begin{tabular}{r|lllllll}\n",
       "  & Gender & Group & subj & value1 & value2 & value3 & Sex\\\\\n",
       "  & <fct> & <fct> & <fct> & <dbl> & <dbl> & <dbl> & <chr>\\\\\n",
       "\\hline\n",
       "\t1 & M & A & 1 & 71.71731 & 12.311578 & 54.29632 & male  \\\\\n",
       "\t2 & F & A & 2 & 81.46142 &  9.641766 & 39.78287 & female\\\\\n",
       "\\end{tabular}\n"
      ],
      "text/markdown": [
       "\n",
       "A data.frame: 2 × 7\n",
       "\n",
       "| <!--/--> | Gender &lt;fct&gt; | Group &lt;fct&gt; | subj &lt;fct&gt; | value1 &lt;dbl&gt; | value2 &lt;dbl&gt; | value3 &lt;dbl&gt; | Sex &lt;chr&gt; |\n",
       "|---|---|---|---|---|---|---|---|\n",
       "| 1 | M | A | 1 | 71.71731 | 12.311578 | 54.29632 | male   |\n",
       "| 2 | F | A | 2 | 81.46142 |  9.641766 | 39.78287 | female |\n",
       "\n"
      ],
      "text/plain": [
       "  Gender Group subj value1   value2    value3   Sex   \n",
       "1 M      A     1    71.71731 12.311578 54.29632 male  \n",
       "2 F      A     2    81.46142  9.641766 39.78287 female"
      ]
     },
     "metadata": {},
     "output_type": "display_data"
    }
   ],
   "source": [
    "data4 %>%\n",
    "  mutate(Sex = case_when(\n",
    "                    str_detect(Gender, \"F\") ~ \"female\",\n",
    "                    str_detect(Gender, \"M\") ~ \"male\",\n",
    "                    TRUE ~ \"NA\")) %>%\n",
    "  head(2)  "
   ]
  },
  {
   "cell_type": "markdown",
   "id": "82aac4f4-ed84-4905-882a-32b9154ef1ac",
   "metadata": {},
   "source": [
    "<a name=\"toc_788789_4.3\"></a>\n",
    "<u>4.3 The `replace()` function</u>"
   ]
  },
  {
   "cell_type": "code",
   "execution_count": 11,
   "id": "f3ca01fa-9ff5-434d-ad28-5f102f034b66",
   "metadata": {},
   "outputs": [
    {
     "data": {
      "text/html": [
       "<table class=\"dataframe\">\n",
       "<caption>A data.frame: 3 × 6</caption>\n",
       "<thead>\n",
       "\t<tr><th></th><th scope=col>Sepal.Length</th><th scope=col>Sepal.Width</th><th scope=col>Petal.Length</th><th scope=col>Petal.Width</th><th scope=col>Species</th><th scope=col>Sepal.Length2</th></tr>\n",
       "\t<tr><th></th><th scope=col>&lt;dbl&gt;</th><th scope=col>&lt;dbl&gt;</th><th scope=col>&lt;dbl&gt;</th><th scope=col>&lt;dbl&gt;</th><th scope=col>&lt;fct&gt;</th><th scope=col>&lt;dbl&gt;</th></tr>\n",
       "</thead>\n",
       "<tbody>\n",
       "\t<tr><th scope=row>1</th><td>5.1</td><td>3.5</td><td>1.4</td><td>0.2</td><td>setosa</td><td>5.0</td></tr>\n",
       "\t<tr><th scope=row>2</th><td>4.9</td><td>3.0</td><td>1.4</td><td>0.2</td><td>setosa</td><td>4.9</td></tr>\n",
       "\t<tr><th scope=row>3</th><td>4.7</td><td>3.2</td><td>1.3</td><td>0.2</td><td>setosa</td><td>4.7</td></tr>\n",
       "</tbody>\n",
       "</table>\n"
      ],
      "text/latex": [
       "A data.frame: 3 × 6\n",
       "\\begin{tabular}{r|llllll}\n",
       "  & Sepal.Length & Sepal.Width & Petal.Length & Petal.Width & Species & Sepal.Length2\\\\\n",
       "  & <dbl> & <dbl> & <dbl> & <dbl> & <fct> & <dbl>\\\\\n",
       "\\hline\n",
       "\t1 & 5.1 & 3.5 & 1.4 & 0.2 & setosa & 5.0\\\\\n",
       "\t2 & 4.9 & 3.0 & 1.4 & 0.2 & setosa & 4.9\\\\\n",
       "\t3 & 4.7 & 3.2 & 1.3 & 0.2 & setosa & 4.7\\\\\n",
       "\\end{tabular}\n"
      ],
      "text/markdown": [
       "\n",
       "A data.frame: 3 × 6\n",
       "\n",
       "| <!--/--> | Sepal.Length &lt;dbl&gt; | Sepal.Width &lt;dbl&gt; | Petal.Length &lt;dbl&gt; | Petal.Width &lt;dbl&gt; | Species &lt;fct&gt; | Sepal.Length2 &lt;dbl&gt; |\n",
       "|---|---|---|---|---|---|---|\n",
       "| 1 | 5.1 | 3.5 | 1.4 | 0.2 | setosa | 5.0 |\n",
       "| 2 | 4.9 | 3.0 | 1.4 | 0.2 | setosa | 4.9 |\n",
       "| 3 | 4.7 | 3.2 | 1.3 | 0.2 | setosa | 4.7 |\n",
       "\n"
      ],
      "text/plain": [
       "  Sepal.Length Sepal.Width Petal.Length Petal.Width Species Sepal.Length2\n",
       "1 5.1          3.5         1.4          0.2         setosa  5.0          \n",
       "2 4.9          3.0         1.4          0.2         setosa  4.9          \n",
       "3 4.7          3.2         1.3          0.2         setosa  4.7          "
      ]
     },
     "metadata": {},
     "output_type": "display_data"
    }
   ],
   "source": [
    "iris %>%\n",
    "  mutate(Sepal.Length2 = replace(Sepal.Length, Sepal.Length > 5, 5)) %>%\n",
    "  head(3)"
   ]
  },
  {
   "cell_type": "markdown",
   "id": "a5c0d6c1-c28e-4a6d-828c-ee712db462f9",
   "metadata": {},
   "source": [
    "<a name=\"toc_788789_4.4\"></a>\n",
    "<u>4.4 The `any()` and `all()` functions</u>"
   ]
  },
  {
   "cell_type": "code",
   "execution_count": 195,
   "id": "448d5ca0-be5b-40e9-b2e6-8304af9823f7",
   "metadata": {},
   "outputs": [
    {
     "data": {
      "text/html": [
       "<table class=\"dataframe\">\n",
       "<caption>A grouped_df: 2 × 4</caption>\n",
       "<thead>\n",
       "\t<tr><th scope=col>Group</th><th scope=col>value1</th><th scope=col>subj</th><th scope=col>A_ratio</th></tr>\n",
       "\t<tr><th scope=col>&lt;fct&gt;</th><th scope=col>&lt;dbl&gt;</th><th scope=col>&lt;chr&gt;</th><th scope=col>&lt;chr&gt;</th></tr>\n",
       "</thead>\n",
       "<tbody>\n",
       "\t<tr><td>C</td><td>107.94348</td><td>1</td><td>NA</td></tr>\n",
       "\t<tr><td>B</td><td> 85.71268</td><td>1</td><td>NA</td></tr>\n",
       "</tbody>\n",
       "</table>\n"
      ],
      "text/latex": [
       "A grouped\\_df: 2 × 4\n",
       "\\begin{tabular}{llll}\n",
       " Group & value1 & subj & A\\_ratio\\\\\n",
       " <fct> & <dbl> & <chr> & <chr>\\\\\n",
       "\\hline\n",
       "\t C & 107.94348 & 1 & NA\\\\\n",
       "\t B &  85.71268 & 1 & NA\\\\\n",
       "\\end{tabular}\n"
      ],
      "text/markdown": [
       "\n",
       "A grouped_df: 2 × 4\n",
       "\n",
       "| Group &lt;fct&gt; | value1 &lt;dbl&gt; | subj &lt;chr&gt; | A_ratio &lt;chr&gt; |\n",
       "|---|---|---|---|\n",
       "| C | 107.94348 | 1 | NA |\n",
       "| B |  85.71268 | 1 | NA |\n",
       "\n"
      ],
      "text/plain": [
       "  Group value1    subj A_ratio\n",
       "1 C     107.94348 1    NA     \n",
       "2 B      85.71268 1    NA     "
      ]
     },
     "metadata": {},
     "output_type": "display_data"
    }
   ],
   "source": [
    "data4 %>%\n",
    " sample_n(2) %>%\n",
    " select(Group, value1) %>%\n",
    " mutate(subj = \"1\") %>%\n",
    " group_by(subj) %>%\n",
    " mutate(A_ratio = ifelse(any(Group == \"A\"), \n",
    "                         value1 / value1[Group == \"A\"], \n",
    "                         \"NA\"))  "
   ]
  },
  {
   "cell_type": "code",
   "execution_count": 187,
   "id": "21022dde-0fe1-4253-b4a0-9aff33667168",
   "metadata": {},
   "outputs": [
    {
     "data": {
      "text/html": [
       "<table class=\"dataframe\">\n",
       "<caption>A grouped_df: 2 × 4</caption>\n",
       "<thead>\n",
       "\t<tr><th scope=col>Group</th><th scope=col>value1</th><th scope=col>subj</th><th scope=col>newvar</th></tr>\n",
       "\t<tr><th scope=col>&lt;fct&gt;</th><th scope=col>&lt;dbl&gt;</th><th scope=col>&lt;chr&gt;</th><th scope=col>&lt;chr&gt;</th></tr>\n",
       "</thead>\n",
       "<tbody>\n",
       "\t<tr><td>B</td><td>103.84834</td><td>1</td><td>NA</td></tr>\n",
       "\t<tr><td>C</td><td> 75.03137</td><td>1</td><td>NA</td></tr>\n",
       "</tbody>\n",
       "</table>\n"
      ],
      "text/latex": [
       "A grouped\\_df: 2 × 4\n",
       "\\begin{tabular}{llll}\n",
       " Group & value1 & subj & newvar\\\\\n",
       " <fct> & <dbl> & <chr> & <chr>\\\\\n",
       "\\hline\n",
       "\t B & 103.84834 & 1 & NA\\\\\n",
       "\t C &  75.03137 & 1 & NA\\\\\n",
       "\\end{tabular}\n"
      ],
      "text/markdown": [
       "\n",
       "A grouped_df: 2 × 4\n",
       "\n",
       "| Group &lt;fct&gt; | value1 &lt;dbl&gt; | subj &lt;chr&gt; | newvar &lt;chr&gt; |\n",
       "|---|---|---|---|\n",
       "| B | 103.84834 | 1 | NA |\n",
       "| C |  75.03137 | 1 | NA |\n",
       "\n"
      ],
      "text/plain": [
       "  Group value1    subj newvar\n",
       "1 B     103.84834 1    NA    \n",
       "2 C      75.03137 1    NA    "
      ]
     },
     "metadata": {},
     "output_type": "display_data"
    }
   ],
   "source": [
    " #set.seed(1212) \n",
    " data4 %>%\n",
    " sample_n(2) %>%\n",
    " select(Group, value1) %>%\n",
    " mutate(subj = \"1\") %>%\n",
    " group_by(subj) %>%\n",
    " mutate(newvar = ifelse(all(Group == \"B\"), \n",
    "                         \"b\", \n",
    "                         \"NA\"))  "
   ]
  },
  {
   "cell_type": "markdown",
   "id": "9990cd7b-dfe9-49bc-be52-e0e1d8705d8e",
   "metadata": {},
   "source": [
    "<a name=\"toc_788789_4.5\"></a>\n",
    "<u>4.5 The `exists()` function</u>"
   ]
  },
  {
   "cell_type": "code",
   "execution_count": 215,
   "id": "a8b8cac7-ef7d-432d-bafc-7f95b5aba0d3",
   "metadata": {},
   "outputs": [
    {
     "data": {
      "text/html": [
       "<table class=\"dataframe\">\n",
       "<caption>A data.frame: 2 × 7</caption>\n",
       "<thead>\n",
       "\t<tr><th></th><th scope=col>Gender</th><th scope=col>Group</th><th scope=col>subj</th><th scope=col>value1</th><th scope=col>value2</th><th scope=col>value3</th><th scope=col>ratio</th></tr>\n",
       "\t<tr><th></th><th scope=col>&lt;fct&gt;</th><th scope=col>&lt;fct&gt;</th><th scope=col>&lt;fct&gt;</th><th scope=col>&lt;dbl&gt;</th><th scope=col>&lt;dbl&gt;</th><th scope=col>&lt;dbl&gt;</th><th scope=col>&lt;dbl&gt;</th></tr>\n",
       "</thead>\n",
       "<tbody>\n",
       "\t<tr><th scope=row>1</th><td>M</td><td>A</td><td>1</td><td>71.71731</td><td>12.311578</td><td>54.29632</td><td>5.825192</td></tr>\n",
       "\t<tr><th scope=row>2</th><td>F</td><td>A</td><td>2</td><td>81.46142</td><td> 9.641766</td><td>39.78287</td><td>8.448807</td></tr>\n",
       "</tbody>\n",
       "</table>\n"
      ],
      "text/latex": [
       "A data.frame: 2 × 7\n",
       "\\begin{tabular}{r|lllllll}\n",
       "  & Gender & Group & subj & value1 & value2 & value3 & ratio\\\\\n",
       "  & <fct> & <fct> & <fct> & <dbl> & <dbl> & <dbl> & <dbl>\\\\\n",
       "\\hline\n",
       "\t1 & M & A & 1 & 71.71731 & 12.311578 & 54.29632 & 5.825192\\\\\n",
       "\t2 & F & A & 2 & 81.46142 &  9.641766 & 39.78287 & 8.448807\\\\\n",
       "\\end{tabular}\n"
      ],
      "text/markdown": [
       "\n",
       "A data.frame: 2 × 7\n",
       "\n",
       "| <!--/--> | Gender &lt;fct&gt; | Group &lt;fct&gt; | subj &lt;fct&gt; | value1 &lt;dbl&gt; | value2 &lt;dbl&gt; | value3 &lt;dbl&gt; | ratio &lt;dbl&gt; |\n",
       "|---|---|---|---|---|---|---|---|\n",
       "| 1 | M | A | 1 | 71.71731 | 12.311578 | 54.29632 | 5.825192 |\n",
       "| 2 | F | A | 2 | 81.46142 |  9.641766 | 39.78287 | 8.448807 |\n",
       "\n"
      ],
      "text/plain": [
       "  Gender Group subj value1   value2    value3   ratio   \n",
       "1 M      A     1    71.71731 12.311578 54.29632 5.825192\n",
       "2 F      A     2    81.46142  9.641766 39.78287 8.448807"
      ]
     },
     "metadata": {},
     "output_type": "display_data"
    }
   ],
   "source": [
    "data4 %>%\n",
    "  mutate(ratio = if(exists(\"value2\")) value1 / value2) %>%\n",
    "  head(2)"
   ]
  },
  {
   "cell_type": "code",
   "execution_count": 220,
   "id": "8dc1f51d-0f09-41bb-878e-fe3410db31c2",
   "metadata": {},
   "outputs": [
    {
     "data": {
      "text/html": [
       "<table class=\"dataframe\">\n",
       "<caption>A data.frame: 2 × 7</caption>\n",
       "<thead>\n",
       "\t<tr><th></th><th scope=col>Gender</th><th scope=col>Group</th><th scope=col>subj</th><th scope=col>value1</th><th scope=col>value2</th><th scope=col>value3</th><th scope=col>Sex</th></tr>\n",
       "\t<tr><th></th><th scope=col>&lt;fct&gt;</th><th scope=col>&lt;fct&gt;</th><th scope=col>&lt;fct&gt;</th><th scope=col>&lt;dbl&gt;</th><th scope=col>&lt;dbl&gt;</th><th scope=col>&lt;dbl&gt;</th><th scope=col>&lt;fct&gt;</th></tr>\n",
       "</thead>\n",
       "<tbody>\n",
       "\t<tr><th scope=row>1</th><td>M</td><td>A</td><td>1</td><td>71.71731</td><td>12.311578</td><td>54.29632</td><td>M</td></tr>\n",
       "\t<tr><th scope=row>2</th><td>F</td><td>A</td><td>2</td><td>81.46142</td><td> 9.641766</td><td>39.78287</td><td>F</td></tr>\n",
       "</tbody>\n",
       "</table>\n"
      ],
      "text/latex": [
       "A data.frame: 2 × 7\n",
       "\\begin{tabular}{r|lllllll}\n",
       "  & Gender & Group & subj & value1 & value2 & value3 & Sex\\\\\n",
       "  & <fct> & <fct> & <fct> & <dbl> & <dbl> & <dbl> & <fct>\\\\\n",
       "\\hline\n",
       "\t1 & M & A & 1 & 71.71731 & 12.311578 & 54.29632 & M\\\\\n",
       "\t2 & F & A & 2 & 81.46142 &  9.641766 & 39.78287 & F\\\\\n",
       "\\end{tabular}\n"
      ],
      "text/markdown": [
       "\n",
       "A data.frame: 2 × 7\n",
       "\n",
       "| <!--/--> | Gender &lt;fct&gt; | Group &lt;fct&gt; | subj &lt;fct&gt; | value1 &lt;dbl&gt; | value2 &lt;dbl&gt; | value3 &lt;dbl&gt; | Sex &lt;fct&gt; |\n",
       "|---|---|---|---|---|---|---|---|\n",
       "| 1 | M | A | 1 | 71.71731 | 12.311578 | 54.29632 | M |\n",
       "| 2 | F | A | 2 | 81.46142 |  9.641766 | 39.78287 | F |\n",
       "\n"
      ],
      "text/plain": [
       "  Gender Group subj value1   value2    value3   Sex\n",
       "1 M      A     1    71.71731 12.311578 54.29632 M  \n",
       "2 F      A     2    81.46142  9.641766 39.78287 F  "
      ]
     },
     "metadata": {},
     "output_type": "display_data"
    }
   ],
   "source": [
    "data4 %>%\n",
    "  mutate(Sex = if(!exists(\"Gender\")) \"M\" else Gender) %>%\n",
    "  head(2)"
   ]
  },
  {
   "cell_type": "markdown",
   "id": "e22886df-744f-44bc-a713-78315096930d",
   "metadata": {
    "tags": []
   },
   "source": [
    "<a name=\"toc_788789_5\"></a>\n",
    "## 5.   Advanced filtering and column handling"
   ]
  },
  {
   "cell_type": "markdown",
   "id": "17a46ac3-371c-4645-9800-fe7c44e3647c",
   "metadata": {},
   "source": [
    "<a name=\"toc_788789_5.1\"></a>\n",
    "<u>5.1 The `if_any()` and `if_all()` functions</u>"
   ]
  },
  {
   "cell_type": "markdown",
   "id": "7771e16a-ec61-4b3c-ad2a-56f3e7eb54d1",
   "metadata": {},
   "source": [
    "Use `if_any()` and `if_all()`:"
   ]
  },
  {
   "cell_type": "code",
   "execution_count": 112,
   "id": "ba6e3510-a053-432e-94ac-2917b9adda56",
   "metadata": {},
   "outputs": [
    {
     "data": {
      "text/html": [
       "<table class=\"dataframe\">\n",
       "<caption>A data.frame: 3 × 5</caption>\n",
       "<thead>\n",
       "\t<tr><th scope=col>Sepal.Length</th><th scope=col>Sepal.Width</th><th scope=col>Petal.Length</th><th scope=col>Petal.Width</th><th scope=col>Species</th></tr>\n",
       "\t<tr><th scope=col>&lt;dbl&gt;</th><th scope=col>&lt;dbl&gt;</th><th scope=col>&lt;dbl&gt;</th><th scope=col>&lt;dbl&gt;</th><th scope=col>&lt;fct&gt;</th></tr>\n",
       "</thead>\n",
       "<tbody>\n",
       "\t<tr><td>5.7</td><td>4.4</td><td>1.5</td><td>0.4</td><td>setosa</td></tr>\n",
       "\t<tr><td>5.2</td><td>4.1</td><td>1.5</td><td>0.1</td><td>setosa</td></tr>\n",
       "\t<tr><td>5.5</td><td>4.2</td><td>1.4</td><td>0.2</td><td>setosa</td></tr>\n",
       "</tbody>\n",
       "</table>\n"
      ],
      "text/latex": [
       "A data.frame: 3 × 5\n",
       "\\begin{tabular}{lllll}\n",
       " Sepal.Length & Sepal.Width & Petal.Length & Petal.Width & Species\\\\\n",
       " <dbl> & <dbl> & <dbl> & <dbl> & <fct>\\\\\n",
       "\\hline\n",
       "\t 5.7 & 4.4 & 1.5 & 0.4 & setosa\\\\\n",
       "\t 5.2 & 4.1 & 1.5 & 0.1 & setosa\\\\\n",
       "\t 5.5 & 4.2 & 1.4 & 0.2 & setosa\\\\\n",
       "\\end{tabular}\n"
      ],
      "text/markdown": [
       "\n",
       "A data.frame: 3 × 5\n",
       "\n",
       "| Sepal.Length &lt;dbl&gt; | Sepal.Width &lt;dbl&gt; | Petal.Length &lt;dbl&gt; | Petal.Width &lt;dbl&gt; | Species &lt;fct&gt; |\n",
       "|---|---|---|---|---|\n",
       "| 5.7 | 4.4 | 1.5 | 0.4 | setosa |\n",
       "| 5.2 | 4.1 | 1.5 | 0.1 | setosa |\n",
       "| 5.5 | 4.2 | 1.4 | 0.2 | setosa |\n",
       "\n"
      ],
      "text/plain": [
       "  Sepal.Length Sepal.Width Petal.Length Petal.Width Species\n",
       "1 5.7          4.4         1.5          0.4         setosa \n",
       "2 5.2          4.1         1.5          0.1         setosa \n",
       "3 5.5          4.2         1.4          0.2         setosa "
      ]
     },
     "metadata": {},
     "output_type": "display_data"
    }
   ],
   "source": [
    "# Select columns where any of the columns ending with \"Width\" contain values > 4\n",
    "iris %>%\n",
    "  filter(if_any(ends_with(\"Width\"), ~ . > 4))"
   ]
  },
  {
   "cell_type": "code",
   "execution_count": 113,
   "id": "5da8526b-deb9-484d-a574-db0d940bd60e",
   "metadata": {},
   "outputs": [
    {
     "data": {
      "text/html": [
       "<table class=\"dataframe\">\n",
       "<caption>A data.frame: 3 × 5</caption>\n",
       "<thead>\n",
       "\t<tr><th scope=col>Sepal.Length</th><th scope=col>Sepal.Width</th><th scope=col>Petal.Length</th><th scope=col>Petal.Width</th><th scope=col>Species</th></tr>\n",
       "\t<tr><th scope=col>&lt;dbl&gt;</th><th scope=col>&lt;dbl&gt;</th><th scope=col>&lt;dbl&gt;</th><th scope=col>&lt;dbl&gt;</th><th scope=col>&lt;fct&gt;</th></tr>\n",
       "</thead>\n",
       "<tbody>\n",
       "\t<tr><td>6.3</td><td>3.3</td><td>6.0</td><td>2.5</td><td>virginica</td></tr>\n",
       "\t<tr><td>7.2</td><td>3.6</td><td>6.1</td><td>2.5</td><td>virginica</td></tr>\n",
       "\t<tr><td>6.7</td><td>3.3</td><td>5.7</td><td>2.5</td><td>virginica</td></tr>\n",
       "</tbody>\n",
       "</table>\n"
      ],
      "text/latex": [
       "A data.frame: 3 × 5\n",
       "\\begin{tabular}{lllll}\n",
       " Sepal.Length & Sepal.Width & Petal.Length & Petal.Width & Species\\\\\n",
       " <dbl> & <dbl> & <dbl> & <dbl> & <fct>\\\\\n",
       "\\hline\n",
       "\t 6.3 & 3.3 & 6.0 & 2.5 & virginica\\\\\n",
       "\t 7.2 & 3.6 & 6.1 & 2.5 & virginica\\\\\n",
       "\t 6.7 & 3.3 & 5.7 & 2.5 & virginica\\\\\n",
       "\\end{tabular}\n"
      ],
      "text/markdown": [
       "\n",
       "A data.frame: 3 × 5\n",
       "\n",
       "| Sepal.Length &lt;dbl&gt; | Sepal.Width &lt;dbl&gt; | Petal.Length &lt;dbl&gt; | Petal.Width &lt;dbl&gt; | Species &lt;fct&gt; |\n",
       "|---|---|---|---|---|\n",
       "| 6.3 | 3.3 | 6.0 | 2.5 | virginica |\n",
       "| 7.2 | 3.6 | 6.1 | 2.5 | virginica |\n",
       "| 6.7 | 3.3 | 5.7 | 2.5 | virginica |\n",
       "\n"
      ],
      "text/plain": [
       "  Sepal.Length Sepal.Width Petal.Length Petal.Width Species  \n",
       "1 6.3          3.3         6.0          2.5         virginica\n",
       "2 7.2          3.6         6.1          2.5         virginica\n",
       "3 6.7          3.3         5.7          2.5         virginica"
      ]
     },
     "metadata": {},
     "output_type": "display_data"
    }
   ],
   "source": [
    "# Select columns where all of the columns ending with \"Width\" contain values > 2.5\n",
    "iris %>%\n",
    "  filter(if_all(ends_with(\"Width\"), ~ . > 2.4))"
   ]
  },
  {
   "cell_type": "markdown",
   "id": "a7e8cd7a-56b2-4f3a-bc8d-fe1e764704e8",
   "metadata": {},
   "source": [
    "<a name=\"toc_788789_5.2\"></a>\n",
    "<u>5.2 The `select_if()` and `select_at()` functions</u>"
   ]
  },
  {
   "cell_type": "code",
   "execution_count": 146,
   "id": "105d944e-e443-4278-a0e1-5dc952b471db",
   "metadata": {},
   "outputs": [
    {
     "data": {
      "text/html": [
       "<table class=\"dataframe\">\n",
       "<caption>A data.frame: 2 × 4</caption>\n",
       "<thead>\n",
       "\t<tr><th></th><th scope=col>Sepal.Length</th><th scope=col>Sepal.Width</th><th scope=col>Petal.Length</th><th scope=col>Petal.Width</th></tr>\n",
       "\t<tr><th></th><th scope=col>&lt;dbl&gt;</th><th scope=col>&lt;dbl&gt;</th><th scope=col>&lt;dbl&gt;</th><th scope=col>&lt;dbl&gt;</th></tr>\n",
       "</thead>\n",
       "<tbody>\n",
       "\t<tr><th scope=row>1</th><td>5.1</td><td>3.5</td><td>1.4</td><td>0.2</td></tr>\n",
       "\t<tr><th scope=row>2</th><td>4.9</td><td>3.0</td><td>1.4</td><td>0.2</td></tr>\n",
       "</tbody>\n",
       "</table>\n"
      ],
      "text/latex": [
       "A data.frame: 2 × 4\n",
       "\\begin{tabular}{r|llll}\n",
       "  & Sepal.Length & Sepal.Width & Petal.Length & Petal.Width\\\\\n",
       "  & <dbl> & <dbl> & <dbl> & <dbl>\\\\\n",
       "\\hline\n",
       "\t1 & 5.1 & 3.5 & 1.4 & 0.2\\\\\n",
       "\t2 & 4.9 & 3.0 & 1.4 & 0.2\\\\\n",
       "\\end{tabular}\n"
      ],
      "text/markdown": [
       "\n",
       "A data.frame: 2 × 4\n",
       "\n",
       "| <!--/--> | Sepal.Length &lt;dbl&gt; | Sepal.Width &lt;dbl&gt; | Petal.Length &lt;dbl&gt; | Petal.Width &lt;dbl&gt; |\n",
       "|---|---|---|---|---|\n",
       "| 1 | 5.1 | 3.5 | 1.4 | 0.2 |\n",
       "| 2 | 4.9 | 3.0 | 1.4 | 0.2 |\n",
       "\n"
      ],
      "text/plain": [
       "  Sepal.Length Sepal.Width Petal.Length Petal.Width\n",
       "1 5.1          3.5         1.4          0.2        \n",
       "2 4.9          3.0         1.4          0.2        "
      ]
     },
     "metadata": {},
     "output_type": "display_data"
    }
   ],
   "source": [
    "iris %>% \n",
    "  select_if(is.numeric) %>% \n",
    "  head(2)"
   ]
  },
  {
   "cell_type": "markdown",
   "id": "0b57931c-c218-4038-aaf2-5b2de0bdcb1f",
   "metadata": {},
   "source": [
    "Use the `select_if(function(x) condition1 | condition2)` syntax for more complicated examples"
   ]
  },
  {
   "cell_type": "code",
   "execution_count": 148,
   "id": "639c9cd2-5183-4396-b93f-f01adc9a1232",
   "metadata": {},
   "outputs": [
    {
     "data": {
      "text/html": [
       "<table class=\"dataframe\">\n",
       "<caption>A data.frame: 2 × 2</caption>\n",
       "<thead>\n",
       "\t<tr><th></th><th scope=col>Sepal.Length</th><th scope=col>Petal.Length</th></tr>\n",
       "\t<tr><th></th><th scope=col>&lt;dbl&gt;</th><th scope=col>&lt;dbl&gt;</th></tr>\n",
       "</thead>\n",
       "<tbody>\n",
       "\t<tr><th scope=row>1</th><td>5.1</td><td>1.4</td></tr>\n",
       "\t<tr><th scope=row>2</th><td>4.9</td><td>1.4</td></tr>\n",
       "</tbody>\n",
       "</table>\n"
      ],
      "text/latex": [
       "A data.frame: 2 × 2\n",
       "\\begin{tabular}{r|ll}\n",
       "  & Sepal.Length & Petal.Length\\\\\n",
       "  & <dbl> & <dbl>\\\\\n",
       "\\hline\n",
       "\t1 & 5.1 & 1.4\\\\\n",
       "\t2 & 4.9 & 1.4\\\\\n",
       "\\end{tabular}\n"
      ],
      "text/markdown": [
       "\n",
       "A data.frame: 2 × 2\n",
       "\n",
       "| <!--/--> | Sepal.Length &lt;dbl&gt; | Petal.Length &lt;dbl&gt; |\n",
       "|---|---|---|\n",
       "| 1 | 5.1 | 1.4 |\n",
       "| 2 | 4.9 | 1.4 |\n",
       "\n"
      ],
      "text/plain": [
       "  Sepal.Length Petal.Length\n",
       "1 5.1          1.4         \n",
       "2 4.9          1.4         "
      ]
     },
     "metadata": {},
     "output_type": "display_data"
    }
   ],
   "source": [
    "iris %>% \n",
    "  select_if(function(x) is.numeric(x) && mean(x) > 3.5) %>% \n",
    "  head(2)"
   ]
  },
  {
   "cell_type": "markdown",
   "id": "3cc631aa-5dcd-4ac9-9d61-4333a0bffd06",
   "metadata": {},
   "source": [
    "<a name=\"toc_788789_5.3\"></a>\n",
    "<u>5.3 The `rename_width()` function</u>"
   ]
  },
  {
   "cell_type": "code",
   "execution_count": 198,
   "id": "e9c498c8-6497-435e-97e6-855a340c052f",
   "metadata": {},
   "outputs": [
    {
     "data": {
      "text/html": [
       "<table class=\"dataframe\">\n",
       "<caption>A data.frame: 1 × 5</caption>\n",
       "<thead>\n",
       "\t<tr><th></th><th scope=col>sepal.length</th><th scope=col>sepal.width</th><th scope=col>petal.length</th><th scope=col>petal.width</th><th scope=col>species</th></tr>\n",
       "\t<tr><th></th><th scope=col>&lt;dbl&gt;</th><th scope=col>&lt;dbl&gt;</th><th scope=col>&lt;dbl&gt;</th><th scope=col>&lt;dbl&gt;</th><th scope=col>&lt;fct&gt;</th></tr>\n",
       "</thead>\n",
       "<tbody>\n",
       "\t<tr><th scope=row>1</th><td>5.1</td><td>3.5</td><td>1.4</td><td>0.2</td><td>setosa</td></tr>\n",
       "</tbody>\n",
       "</table>\n"
      ],
      "text/latex": [
       "A data.frame: 1 × 5\n",
       "\\begin{tabular}{r|lllll}\n",
       "  & sepal.length & sepal.width & petal.length & petal.width & species\\\\\n",
       "  & <dbl> & <dbl> & <dbl> & <dbl> & <fct>\\\\\n",
       "\\hline\n",
       "\t1 & 5.1 & 3.5 & 1.4 & 0.2 & setosa\\\\\n",
       "\\end{tabular}\n"
      ],
      "text/markdown": [
       "\n",
       "A data.frame: 1 × 5\n",
       "\n",
       "| <!--/--> | sepal.length &lt;dbl&gt; | sepal.width &lt;dbl&gt; | petal.length &lt;dbl&gt; | petal.width &lt;dbl&gt; | species &lt;fct&gt; |\n",
       "|---|---|---|---|---|---|\n",
       "| 1 | 5.1 | 3.5 | 1.4 | 0.2 | setosa |\n",
       "\n"
      ],
      "text/plain": [
       "  sepal.length sepal.width petal.length petal.width species\n",
       "1 5.1          3.5         1.4          0.2         setosa "
      ]
     },
     "metadata": {},
     "output_type": "display_data"
    }
   ],
   "source": [
    "iris %>% \n",
    "  rename_with(tolower) %>% \n",
    "  head(1) "
   ]
  },
  {
   "cell_type": "code",
   "execution_count": 199,
   "id": "8fdcbd43-d39f-4c55-abd8-8e1e61920a05",
   "metadata": {},
   "outputs": [
    {
     "data": {
      "text/html": [
       "<table class=\"dataframe\">\n",
       "<caption>A data.frame: 1 × 5</caption>\n",
       "<thead>\n",
       "\t<tr><th></th><th scope=col>Sepal.length</th><th scope=col>Sepal.width</th><th scope=col>Petal.length</th><th scope=col>Petal.width</th><th scope=col>Species</th></tr>\n",
       "\t<tr><th></th><th scope=col>&lt;dbl&gt;</th><th scope=col>&lt;dbl&gt;</th><th scope=col>&lt;dbl&gt;</th><th scope=col>&lt;dbl&gt;</th><th scope=col>&lt;fct&gt;</th></tr>\n",
       "</thead>\n",
       "<tbody>\n",
       "\t<tr><th scope=row>1</th><td>5.1</td><td>3.5</td><td>1.4</td><td>0.2</td><td>setosa</td></tr>\n",
       "</tbody>\n",
       "</table>\n"
      ],
      "text/latex": [
       "A data.frame: 1 × 5\n",
       "\\begin{tabular}{r|lllll}\n",
       "  & Sepal.length & Sepal.width & Petal.length & Petal.width & Species\\\\\n",
       "  & <dbl> & <dbl> & <dbl> & <dbl> & <fct>\\\\\n",
       "\\hline\n",
       "\t1 & 5.1 & 3.5 & 1.4 & 0.2 & setosa\\\\\n",
       "\\end{tabular}\n"
      ],
      "text/markdown": [
       "\n",
       "A data.frame: 1 × 5\n",
       "\n",
       "| <!--/--> | Sepal.length &lt;dbl&gt; | Sepal.width &lt;dbl&gt; | Petal.length &lt;dbl&gt; | Petal.width &lt;dbl&gt; | Species &lt;fct&gt; |\n",
       "|---|---|---|---|---|---|\n",
       "| 1 | 5.1 | 3.5 | 1.4 | 0.2 | setosa |\n",
       "\n"
      ],
      "text/plain": [
       "  Sepal.length Sepal.width Petal.length Petal.width Species\n",
       "1 5.1          3.5         1.4          0.2         setosa "
      ]
     },
     "metadata": {},
     "output_type": "display_data"
    }
   ],
   "source": [
    "iris %>% \n",
    "  rename_with(str_to_title) %>% \n",
    "  head(1) "
   ]
  },
  {
   "cell_type": "code",
   "execution_count": 169,
   "id": "ff3ceec4-fc07-45f0-927b-f3d3b21d76d0",
   "metadata": {},
   "outputs": [
    {
     "data": {
      "text/html": [
       "<table class=\"dataframe\">\n",
       "<caption>A data.frame: 1 × 6</caption>\n",
       "<thead>\n",
       "\t<tr><th></th><th scope=col>Gender</th><th scope=col>Group</th><th scope=col>subj</th><th scope=col>value1_num</th><th scope=col>value2_num</th><th scope=col>value3_num</th></tr>\n",
       "\t<tr><th></th><th scope=col>&lt;fct&gt;</th><th scope=col>&lt;fct&gt;</th><th scope=col>&lt;fct&gt;</th><th scope=col>&lt;dbl&gt;</th><th scope=col>&lt;dbl&gt;</th><th scope=col>&lt;dbl&gt;</th></tr>\n",
       "</thead>\n",
       "<tbody>\n",
       "\t<tr><th scope=row>1</th><td>M</td><td>A</td><td>1</td><td>71.71731</td><td>12.31158</td><td>54.29632</td></tr>\n",
       "</tbody>\n",
       "</table>\n"
      ],
      "text/latex": [
       "A data.frame: 1 × 6\n",
       "\\begin{tabular}{r|llllll}\n",
       "  & Gender & Group & subj & value1\\_num & value2\\_num & value3\\_num\\\\\n",
       "  & <fct> & <fct> & <fct> & <dbl> & <dbl> & <dbl>\\\\\n",
       "\\hline\n",
       "\t1 & M & A & 1 & 71.71731 & 12.31158 & 54.29632\\\\\n",
       "\\end{tabular}\n"
      ],
      "text/markdown": [
       "\n",
       "A data.frame: 1 × 6\n",
       "\n",
       "| <!--/--> | Gender &lt;fct&gt; | Group &lt;fct&gt; | subj &lt;fct&gt; | value1_num &lt;dbl&gt; | value2_num &lt;dbl&gt; | value3_num &lt;dbl&gt; |\n",
       "|---|---|---|---|---|---|---|\n",
       "| 1 | M | A | 1 | 71.71731 | 12.31158 | 54.29632 |\n",
       "\n"
      ],
      "text/plain": [
       "  Gender Group subj value1_num value2_num value3_num\n",
       "1 M      A     1    71.71731   12.31158   54.29632  "
      ]
     },
     "metadata": {},
     "output_type": "display_data"
    }
   ],
   "source": [
    "data4 %>% \n",
    "  rename_with(~ paste0(., \"_num\"), 4:6)  %>% \n",
    "  head(1) "
   ]
  },
  {
   "cell_type": "code",
   "execution_count": 161,
   "id": "5b145afe-3c66-4d7d-a235-c4d4c44bf54b",
   "metadata": {},
   "outputs": [
    {
     "data": {
      "text/html": [
       "<table class=\"dataframe\">\n",
       "<caption>A data.frame: 1 × 11</caption>\n",
       "<thead>\n",
       "\t<tr><th></th><th scope=col>mpg</th><th scope=col>CYL</th><th scope=col>disp</th><th scope=col>HP</th><th scope=col>drat</th><th scope=col>wt</th><th scope=col>qsec</th><th scope=col>VS</th><th scope=col>AM</th><th scope=col>GEAR</th><th scope=col>CARB</th></tr>\n",
       "\t<tr><th></th><th scope=col>&lt;dbl&gt;</th><th scope=col>&lt;dbl&gt;</th><th scope=col>&lt;dbl&gt;</th><th scope=col>&lt;dbl&gt;</th><th scope=col>&lt;dbl&gt;</th><th scope=col>&lt;dbl&gt;</th><th scope=col>&lt;dbl&gt;</th><th scope=col>&lt;dbl&gt;</th><th scope=col>&lt;dbl&gt;</th><th scope=col>&lt;dbl&gt;</th><th scope=col>&lt;dbl&gt;</th></tr>\n",
       "</thead>\n",
       "<tbody>\n",
       "\t<tr><th scope=row>Mazda RX4</th><td>21</td><td>6</td><td>160</td><td>110</td><td>3.9</td><td>2.62</td><td>16.46</td><td>0</td><td>1</td><td>4</td><td>4</td></tr>\n",
       "</tbody>\n",
       "</table>\n"
      ],
      "text/latex": [
       "A data.frame: 1 × 11\n",
       "\\begin{tabular}{r|lllllllllll}\n",
       "  & mpg & CYL & disp & HP & drat & wt & qsec & VS & AM & GEAR & CARB\\\\\n",
       "  & <dbl> & <dbl> & <dbl> & <dbl> & <dbl> & <dbl> & <dbl> & <dbl> & <dbl> & <dbl> & <dbl>\\\\\n",
       "\\hline\n",
       "\tMazda RX4 & 21 & 6 & 160 & 110 & 3.9 & 2.62 & 16.46 & 0 & 1 & 4 & 4\\\\\n",
       "\\end{tabular}\n"
      ],
      "text/markdown": [
       "\n",
       "A data.frame: 1 × 11\n",
       "\n",
       "| <!--/--> | mpg &lt;dbl&gt; | CYL &lt;dbl&gt; | disp &lt;dbl&gt; | HP &lt;dbl&gt; | drat &lt;dbl&gt; | wt &lt;dbl&gt; | qsec &lt;dbl&gt; | VS &lt;dbl&gt; | AM &lt;dbl&gt; | GEAR &lt;dbl&gt; | CARB &lt;dbl&gt; |\n",
       "|---|---|---|---|---|---|---|---|---|---|---|---|\n",
       "| Mazda RX4 | 21 | 6 | 160 | 110 | 3.9 | 2.62 | 16.46 | 0 | 1 | 4 | 4 |\n",
       "\n"
      ],
      "text/plain": [
       "          mpg CYL disp HP  drat wt   qsec  VS AM GEAR CARB\n",
       "Mazda RX4 21  6   160  110 3.9  2.62 16.46 0  1  4    4   "
      ]
     },
     "metadata": {},
     "output_type": "display_data"
    }
   ],
   "source": [
    "is_whole  <- function(x) all(floor(x) == x)\n",
    "\n",
    "mtcars %>% \n",
    "  rename_with(toupper, where(is_whole)) %>% \n",
    "  head(1) "
   ]
  },
  {
   "cell_type": "markdown",
   "id": "8d18917c-4bd6-4cbb-9e3a-f6c7118df2d5",
   "metadata": {},
   "source": [
    "<a name=\"toc_788789_6\"></a>\n",
    "## 6.   Handling NA\n",
    "\n",
    "For an in-depth overview of missing data handling, check the **Cleanind_data_in_R** Notebook!"
   ]
  },
  {
   "cell_type": "code",
   "execution_count": 54,
   "id": "3a80d47a-c4f7-4c3a-b2af-d051a6992ba8",
   "metadata": {},
   "outputs": [
    {
     "data": {
      "text/html": [
       "<table class=\"dataframe\">\n",
       "<caption>A data.frame: 6 × 6</caption>\n",
       "<thead>\n",
       "\t<tr><th scope=col>Gender</th><th scope=col>Group</th><th scope=col>subj</th><th scope=col>value1</th><th scope=col>value2</th><th scope=col>value3</th></tr>\n",
       "\t<tr><th scope=col>&lt;fct&gt;</th><th scope=col>&lt;fct&gt;</th><th scope=col>&lt;fct&gt;</th><th scope=col>&lt;dbl&gt;</th><th scope=col>&lt;dbl&gt;</th><th scope=col>&lt;dbl&gt;</th></tr>\n",
       "</thead>\n",
       "<tbody>\n",
       "\t<tr><td>M</td><td>A</td><td>1</td><td>       NA</td><td>12.311578</td><td>54.29632</td></tr>\n",
       "\t<tr><td>F</td><td>A</td><td>2</td><td> 81.46142</td><td>       NA</td><td>39.78287</td></tr>\n",
       "\t<tr><td>M</td><td>A</td><td>3</td><td>       NA</td><td>13.758260</td><td>43.43926</td></tr>\n",
       "\t<tr><td>F</td><td>A</td><td>4</td><td>112.88687</td><td>       NA</td><td>46.36044</td></tr>\n",
       "\t<tr><td>M</td><td>A</td><td>5</td><td>       NA</td><td> 9.744124</td><td>48.06578</td></tr>\n",
       "\t<tr><td>F</td><td>A</td><td>6</td><td>144.80922</td><td>       NA</td><td>45.95515</td></tr>\n",
       "</tbody>\n",
       "</table>\n"
      ],
      "text/latex": [
       "A data.frame: 6 × 6\n",
       "\\begin{tabular}{llllll}\n",
       " Gender & Group & subj & value1 & value2 & value3\\\\\n",
       " <fct> & <fct> & <fct> & <dbl> & <dbl> & <dbl>\\\\\n",
       "\\hline\n",
       "\t M & A & 1 &        NA & 12.311578 & 54.29632\\\\\n",
       "\t F & A & 2 &  81.46142 &        NA & 39.78287\\\\\n",
       "\t M & A & 3 &        NA & 13.758260 & 43.43926\\\\\n",
       "\t F & A & 4 & 112.88687 &        NA & 46.36044\\\\\n",
       "\t M & A & 5 &        NA &  9.744124 & 48.06578\\\\\n",
       "\t F & A & 6 & 144.80922 &        NA & 45.95515\\\\\n",
       "\\end{tabular}\n"
      ],
      "text/markdown": [
       "\n",
       "A data.frame: 6 × 6\n",
       "\n",
       "| Gender &lt;fct&gt; | Group &lt;fct&gt; | subj &lt;fct&gt; | value1 &lt;dbl&gt; | value2 &lt;dbl&gt; | value3 &lt;dbl&gt; |\n",
       "|---|---|---|---|---|---|\n",
       "| M | A | 1 |        NA | 12.311578 | 54.29632 |\n",
       "| F | A | 2 |  81.46142 |        NA | 39.78287 |\n",
       "| M | A | 3 |        NA | 13.758260 | 43.43926 |\n",
       "| F | A | 4 | 112.88687 |        NA | 46.36044 |\n",
       "| M | A | 5 |        NA |  9.744124 | 48.06578 |\n",
       "| F | A | 6 | 144.80922 |        NA | 45.95515 |\n",
       "\n"
      ],
      "text/plain": [
       "  Gender Group subj value1    value2    value3  \n",
       "1 M      A     1           NA 12.311578 54.29632\n",
       "2 F      A     2     81.46142        NA 39.78287\n",
       "3 M      A     3           NA 13.758260 43.43926\n",
       "4 F      A     4    112.88687        NA 46.36044\n",
       "5 M      A     5           NA  9.744124 48.06578\n",
       "6 F      A     6    144.80922        NA 45.95515"
      ]
     },
     "metadata": {},
     "output_type": "display_data"
    }
   ],
   "source": [
    "# Find rows that contain NA\n",
    "data5 %>%\n",
    "    filter(if_any(everything(), ~ is.na(.))) "
   ]
  },
  {
   "cell_type": "code",
   "execution_count": 29,
   "id": "e9cf8d30-5948-4179-b5bd-660ec93d4998",
   "metadata": {},
   "outputs": [
    {
     "data": {
      "text/html": [
       "6"
      ],
      "text/latex": [
       "6"
      ],
      "text/markdown": [
       "6"
      ],
      "text/plain": [
       "[1] 6"
      ]
     },
     "metadata": {},
     "output_type": "display_data"
    }
   ],
   "source": [
    "# Total Number of NAs in the dataset\n",
    "sum(is.na(data5))  "
   ]
  },
  {
   "cell_type": "code",
   "execution_count": 180,
   "id": "fc118f65-1851-47de-b4f6-5f0363e00447",
   "metadata": {},
   "outputs": [
    {
     "data": {
      "text/html": [
       "<table class=\"dataframe\">\n",
       "<caption>A data.frame: 3 × 6</caption>\n",
       "<thead>\n",
       "\t<tr><th></th><th scope=col>Gender</th><th scope=col>Group</th><th scope=col>subj</th><th scope=col>value1</th><th scope=col>value2</th><th scope=col>value3</th></tr>\n",
       "\t<tr><th></th><th scope=col>&lt;fct&gt;</th><th scope=col>&lt;fct&gt;</th><th scope=col>&lt;fct&gt;</th><th scope=col>&lt;dbl&gt;</th><th scope=col>&lt;dbl&gt;</th><th scope=col>&lt;dbl&gt;</th></tr>\n",
       "</thead>\n",
       "<tbody>\n",
       "\t<tr><th scope=row>1</th><td>F</td><td>A</td><td>2</td><td> 81.46142</td><td>NA</td><td>39.78287</td></tr>\n",
       "\t<tr><th scope=row>2</th><td>F</td><td>A</td><td>4</td><td>112.88687</td><td>NA</td><td>46.36044</td></tr>\n",
       "\t<tr><th scope=row>3</th><td>F</td><td>A</td><td>6</td><td>144.80922</td><td>NA</td><td>45.95515</td></tr>\n",
       "</tbody>\n",
       "</table>\n"
      ],
      "text/latex": [
       "A data.frame: 3 × 6\n",
       "\\begin{tabular}{r|llllll}\n",
       "  & Gender & Group & subj & value1 & value2 & value3\\\\\n",
       "  & <fct> & <fct> & <fct> & <dbl> & <dbl> & <dbl>\\\\\n",
       "\\hline\n",
       "\t1 & F & A & 2 &  81.46142 & NA & 39.78287\\\\\n",
       "\t2 & F & A & 4 & 112.88687 & NA & 46.36044\\\\\n",
       "\t3 & F & A & 6 & 144.80922 & NA & 45.95515\\\\\n",
       "\\end{tabular}\n"
      ],
      "text/markdown": [
       "\n",
       "A data.frame: 3 × 6\n",
       "\n",
       "| <!--/--> | Gender &lt;fct&gt; | Group &lt;fct&gt; | subj &lt;fct&gt; | value1 &lt;dbl&gt; | value2 &lt;dbl&gt; | value3 &lt;dbl&gt; |\n",
       "|---|---|---|---|---|---|---|\n",
       "| 1 | F | A | 2 |  81.46142 | NA | 39.78287 |\n",
       "| 2 | F | A | 4 | 112.88687 | NA | 46.36044 |\n",
       "| 3 | F | A | 6 | 144.80922 | NA | 45.95515 |\n",
       "\n"
      ],
      "text/plain": [
       "  Gender Group subj value1    value2 value3  \n",
       "1 F      A     2     81.46142 NA     39.78287\n",
       "2 F      A     4    112.88687 NA     46.36044\n",
       "3 F      A     6    144.80922 NA     45.95515"
      ]
     },
     "metadata": {},
     "output_type": "display_data"
    }
   ],
   "source": [
    "data5 %>%\n",
    "  filter(!is.na(value1)) %>%\n",
    "  head(3)"
   ]
  },
  {
   "cell_type": "code",
   "execution_count": 179,
   "id": "43a69605-5ea9-4ba7-883f-5a8f5acc3299",
   "metadata": {},
   "outputs": [
    {
     "data": {
      "text/html": [
       "<table class=\"dataframe\">\n",
       "<caption>A data.frame: 3 × 6</caption>\n",
       "<thead>\n",
       "\t<tr><th></th><th scope=col>Gender</th><th scope=col>Group</th><th scope=col>subj</th><th scope=col>value1</th><th scope=col>value2</th><th scope=col>value3</th></tr>\n",
       "\t<tr><th></th><th scope=col>&lt;fct&gt;</th><th scope=col>&lt;fct&gt;</th><th scope=col>&lt;fct&gt;</th><th scope=col>&lt;dbl&gt;</th><th scope=col>&lt;dbl&gt;</th><th scope=col>&lt;dbl&gt;</th></tr>\n",
       "</thead>\n",
       "<tbody>\n",
       "\t<tr><th scope=row>1</th><td>M</td><td>B</td><td>7</td><td>105.08062</td><td> 9.501912</td><td>55.11975</td></tr>\n",
       "\t<tr><th scope=row>2</th><td>F</td><td>B</td><td>8</td><td> 85.71268</td><td> 9.407883</td><td>41.74556</td></tr>\n",
       "\t<tr><th scope=row>3</th><td>M</td><td>B</td><td>9</td><td> 84.10510</td><td>10.051057</td><td>44.91995</td></tr>\n",
       "</tbody>\n",
       "</table>\n"
      ],
      "text/latex": [
       "A data.frame: 3 × 6\n",
       "\\begin{tabular}{r|llllll}\n",
       "  & Gender & Group & subj & value1 & value2 & value3\\\\\n",
       "  & <fct> & <fct> & <fct> & <dbl> & <dbl> & <dbl>\\\\\n",
       "\\hline\n",
       "\t1 & M & B & 7 & 105.08062 &  9.501912 & 55.11975\\\\\n",
       "\t2 & F & B & 8 &  85.71268 &  9.407883 & 41.74556\\\\\n",
       "\t3 & M & B & 9 &  84.10510 & 10.051057 & 44.91995\\\\\n",
       "\\end{tabular}\n"
      ],
      "text/markdown": [
       "\n",
       "A data.frame: 3 × 6\n",
       "\n",
       "| <!--/--> | Gender &lt;fct&gt; | Group &lt;fct&gt; | subj &lt;fct&gt; | value1 &lt;dbl&gt; | value2 &lt;dbl&gt; | value3 &lt;dbl&gt; |\n",
       "|---|---|---|---|---|---|---|\n",
       "| 1 | M | B | 7 | 105.08062 |  9.501912 | 55.11975 |\n",
       "| 2 | F | B | 8 |  85.71268 |  9.407883 | 41.74556 |\n",
       "| 3 | M | B | 9 |  84.10510 | 10.051057 | 44.91995 |\n",
       "\n"
      ],
      "text/plain": [
       "  Gender Group subj value1    value2    value3  \n",
       "1 M      B     7    105.08062  9.501912 55.11975\n",
       "2 F      B     8     85.71268  9.407883 41.74556\n",
       "3 M      B     9     84.10510 10.051057 44.91995"
      ]
     },
     "metadata": {},
     "output_type": "display_data"
    }
   ],
   "source": [
    "data5 %>%\n",
    "  filter(if_all(c(value1, value2), ~ !is.na(.))) %>%\n",
    "  head(3)"
   ]
  },
  {
   "cell_type": "code",
   "execution_count": 37,
   "id": "856e8d14-d2db-45de-ad36-7351d361c243",
   "metadata": {},
   "outputs": [
    {
     "data": {
      "text/html": [
       "<table class=\"dataframe\">\n",
       "<caption>A data.frame: 12 × 6</caption>\n",
       "<thead>\n",
       "\t<tr><th scope=col>Gender</th><th scope=col>Group</th><th scope=col>subj</th><th scope=col>value1</th><th scope=col>value2</th><th scope=col>value3</th></tr>\n",
       "\t<tr><th scope=col>&lt;fct&gt;</th><th scope=col>&lt;fct&gt;</th><th scope=col>&lt;fct&gt;</th><th scope=col>&lt;dbl&gt;</th><th scope=col>&lt;dbl&gt;</th><th scope=col>&lt;dbl&gt;</th></tr>\n",
       "</thead>\n",
       "<tbody>\n",
       "\t<tr><td>M</td><td>B</td><td>7 </td><td>105.08062</td><td> 9.501912</td><td>55.11975</td></tr>\n",
       "\t<tr><td>F</td><td>B</td><td>8 </td><td> 85.71268</td><td> 9.407883</td><td>41.74556</td></tr>\n",
       "\t<tr><td>M</td><td>B</td><td>9 </td><td> 84.10510</td><td>10.051057</td><td>44.91995</td></tr>\n",
       "\t<tr><td>F</td><td>B</td><td>10</td><td>105.14120</td><td> 8.226162</td><td>47.16866</td></tr>\n",
       "\t<tr><td>M</td><td>B</td><td>11</td><td>103.84834</td><td>10.270653</td><td>51.53962</td></tr>\n",
       "\t<tr><td>F</td><td>B</td><td>12</td><td>100.94637</td><td> 8.516129</td><td>40.84116</td></tr>\n",
       "\t<tr><td>M</td><td>C</td><td>13</td><td> 83.10430</td><td>12.321793</td><td>46.35786</td></tr>\n",
       "\t<tr><td>F</td><td>C</td><td>14</td><td> 93.01286</td><td>10.884117</td><td>53.58787</td></tr>\n",
       "\t<tr><td>M</td><td>C</td><td>15</td><td>111.88045</td><td>13.950246</td><td>39.72265</td></tr>\n",
       "\t<tr><td>F</td><td>C</td><td>16</td><td> 64.96254</td><td>11.539770</td><td>48.13149</td></tr>\n",
       "\t<tr><td>M</td><td>C</td><td>17</td><td>107.94348</td><td>10.849292</td><td>52.95739</td></tr>\n",
       "\t<tr><td>F</td><td>C</td><td>18</td><td> 75.03137</td><td> 8.681083</td><td>45.93341</td></tr>\n",
       "</tbody>\n",
       "</table>\n"
      ],
      "text/latex": [
       "A data.frame: 12 × 6\n",
       "\\begin{tabular}{llllll}\n",
       " Gender & Group & subj & value1 & value2 & value3\\\\\n",
       " <fct> & <fct> & <fct> & <dbl> & <dbl> & <dbl>\\\\\n",
       "\\hline\n",
       "\t M & B & 7  & 105.08062 &  9.501912 & 55.11975\\\\\n",
       "\t F & B & 8  &  85.71268 &  9.407883 & 41.74556\\\\\n",
       "\t M & B & 9  &  84.10510 & 10.051057 & 44.91995\\\\\n",
       "\t F & B & 10 & 105.14120 &  8.226162 & 47.16866\\\\\n",
       "\t M & B & 11 & 103.84834 & 10.270653 & 51.53962\\\\\n",
       "\t F & B & 12 & 100.94637 &  8.516129 & 40.84116\\\\\n",
       "\t M & C & 13 &  83.10430 & 12.321793 & 46.35786\\\\\n",
       "\t F & C & 14 &  93.01286 & 10.884117 & 53.58787\\\\\n",
       "\t M & C & 15 & 111.88045 & 13.950246 & 39.72265\\\\\n",
       "\t F & C & 16 &  64.96254 & 11.539770 & 48.13149\\\\\n",
       "\t M & C & 17 & 107.94348 & 10.849292 & 52.95739\\\\\n",
       "\t F & C & 18 &  75.03137 &  8.681083 & 45.93341\\\\\n",
       "\\end{tabular}\n"
      ],
      "text/markdown": [
       "\n",
       "A data.frame: 12 × 6\n",
       "\n",
       "| Gender &lt;fct&gt; | Group &lt;fct&gt; | subj &lt;fct&gt; | value1 &lt;dbl&gt; | value2 &lt;dbl&gt; | value3 &lt;dbl&gt; |\n",
       "|---|---|---|---|---|---|\n",
       "| M | B | 7  | 105.08062 |  9.501912 | 55.11975 |\n",
       "| F | B | 8  |  85.71268 |  9.407883 | 41.74556 |\n",
       "| M | B | 9  |  84.10510 | 10.051057 | 44.91995 |\n",
       "| F | B | 10 | 105.14120 |  8.226162 | 47.16866 |\n",
       "| M | B | 11 | 103.84834 | 10.270653 | 51.53962 |\n",
       "| F | B | 12 | 100.94637 |  8.516129 | 40.84116 |\n",
       "| M | C | 13 |  83.10430 | 12.321793 | 46.35786 |\n",
       "| F | C | 14 |  93.01286 | 10.884117 | 53.58787 |\n",
       "| M | C | 15 | 111.88045 | 13.950246 | 39.72265 |\n",
       "| F | C | 16 |  64.96254 | 11.539770 | 48.13149 |\n",
       "| M | C | 17 | 107.94348 | 10.849292 | 52.95739 |\n",
       "| F | C | 18 |  75.03137 |  8.681083 | 45.93341 |\n",
       "\n"
      ],
      "text/plain": [
       "   Gender Group subj value1    value2    value3  \n",
       "1  M      B     7    105.08062  9.501912 55.11975\n",
       "2  F      B     8     85.71268  9.407883 41.74556\n",
       "3  M      B     9     84.10510 10.051057 44.91995\n",
       "4  F      B     10   105.14120  8.226162 47.16866\n",
       "5  M      B     11   103.84834 10.270653 51.53962\n",
       "6  F      B     12   100.94637  8.516129 40.84116\n",
       "7  M      C     13    83.10430 12.321793 46.35786\n",
       "8  F      C     14    93.01286 10.884117 53.58787\n",
       "9  M      C     15   111.88045 13.950246 39.72265\n",
       "10 F      C     16    64.96254 11.539770 48.13149\n",
       "11 M      C     17   107.94348 10.849292 52.95739\n",
       "12 F      C     18    75.03137  8.681083 45.93341"
      ]
     },
     "metadata": {},
     "output_type": "display_data"
    }
   ],
   "source": [
    "data5 %>%\n",
    "  drop_na()"
   ]
  },
  {
   "cell_type": "code",
   "execution_count": 26,
   "id": "afdadf08-dae2-437b-8716-c2ca67bb8d74",
   "metadata": {},
   "outputs": [
    {
     "data": {
      "text/html": [
       "<table class=\"dataframe\">\n",
       "<caption>A data.frame: 3 × 6</caption>\n",
       "<thead>\n",
       "\t<tr><th></th><th scope=col>Gender</th><th scope=col>Group</th><th scope=col>subj</th><th scope=col>value1</th><th scope=col>value2</th><th scope=col>value3</th></tr>\n",
       "\t<tr><th></th><th scope=col>&lt;fct&gt;</th><th scope=col>&lt;fct&gt;</th><th scope=col>&lt;fct&gt;</th><th scope=col>&lt;dbl&gt;</th><th scope=col>&lt;dbl&gt;</th><th scope=col>&lt;dbl&gt;</th></tr>\n",
       "</thead>\n",
       "<tbody>\n",
       "\t<tr><th scope=row>1</th><td>M</td><td>A</td><td>1</td><td> 0.00000</td><td>12.31158</td><td>54.29632</td></tr>\n",
       "\t<tr><th scope=row>2</th><td>F</td><td>A</td><td>2</td><td>81.46142</td><td>      NA</td><td>39.78287</td></tr>\n",
       "\t<tr><th scope=row>3</th><td>M</td><td>A</td><td>3</td><td> 0.00000</td><td>13.75826</td><td>43.43926</td></tr>\n",
       "</tbody>\n",
       "</table>\n"
      ],
      "text/latex": [
       "A data.frame: 3 × 6\n",
       "\\begin{tabular}{r|llllll}\n",
       "  & Gender & Group & subj & value1 & value2 & value3\\\\\n",
       "  & <fct> & <fct> & <fct> & <dbl> & <dbl> & <dbl>\\\\\n",
       "\\hline\n",
       "\t1 & M & A & 1 &  0.00000 & 12.31158 & 54.29632\\\\\n",
       "\t2 & F & A & 2 & 81.46142 &       NA & 39.78287\\\\\n",
       "\t3 & M & A & 3 &  0.00000 & 13.75826 & 43.43926\\\\\n",
       "\\end{tabular}\n"
      ],
      "text/markdown": [
       "\n",
       "A data.frame: 3 × 6\n",
       "\n",
       "| <!--/--> | Gender &lt;fct&gt; | Group &lt;fct&gt; | subj &lt;fct&gt; | value1 &lt;dbl&gt; | value2 &lt;dbl&gt; | value3 &lt;dbl&gt; |\n",
       "|---|---|---|---|---|---|---|\n",
       "| 1 | M | A | 1 |  0.00000 | 12.31158 | 54.29632 |\n",
       "| 2 | F | A | 2 | 81.46142 |       NA | 39.78287 |\n",
       "| 3 | M | A | 3 |  0.00000 | 13.75826 | 43.43926 |\n",
       "\n"
      ],
      "text/plain": [
       "  Gender Group subj value1   value2   value3  \n",
       "1 M      A     1     0.00000 12.31158 54.29632\n",
       "2 F      A     2    81.46142       NA 39.78287\n",
       "3 M      A     3     0.00000 13.75826 43.43926"
      ]
     },
     "metadata": {},
     "output_type": "display_data"
    }
   ],
   "source": [
    "data5 %>%\n",
    "  mutate(value1 = replace(value1, is.na(value1), 0)) %>%\n",
    "  head(3)"
   ]
  },
  {
   "cell_type": "code",
   "execution_count": 181,
   "id": "c8072744-0e10-4695-a16a-f582689e28a8",
   "metadata": {},
   "outputs": [
    {
     "data": {
      "text/html": [
       "<table class=\"dataframe\">\n",
       "<caption>A data.frame: 2 × 6</caption>\n",
       "<thead>\n",
       "\t<tr><th></th><th scope=col>Gender</th><th scope=col>Group</th><th scope=col>subj</th><th scope=col>value1</th><th scope=col>value2</th><th scope=col>value3</th></tr>\n",
       "\t<tr><th></th><th scope=col>&lt;int&gt;</th><th scope=col>&lt;int&gt;</th><th scope=col>&lt;int&gt;</th><th scope=col>&lt;dbl&gt;</th><th scope=col>&lt;dbl&gt;</th><th scope=col>&lt;dbl&gt;</th></tr>\n",
       "</thead>\n",
       "<tbody>\n",
       "\t<tr><th scope=row>1</th><td>1</td><td>1</td><td>1</td><td> 0.00000</td><td>12.31158</td><td>54.29632</td></tr>\n",
       "\t<tr><th scope=row>2</th><td>2</td><td>1</td><td>2</td><td>81.46142</td><td> 0.00000</td><td>39.78287</td></tr>\n",
       "</tbody>\n",
       "</table>\n"
      ],
      "text/latex": [
       "A data.frame: 2 × 6\n",
       "\\begin{tabular}{r|llllll}\n",
       "  & Gender & Group & subj & value1 & value2 & value3\\\\\n",
       "  & <int> & <int> & <int> & <dbl> & <dbl> & <dbl>\\\\\n",
       "\\hline\n",
       "\t1 & 1 & 1 & 1 &  0.00000 & 12.31158 & 54.29632\\\\\n",
       "\t2 & 2 & 1 & 2 & 81.46142 &  0.00000 & 39.78287\\\\\n",
       "\\end{tabular}\n"
      ],
      "text/markdown": [
       "\n",
       "A data.frame: 2 × 6\n",
       "\n",
       "| <!--/--> | Gender &lt;int&gt; | Group &lt;int&gt; | subj &lt;int&gt; | value1 &lt;dbl&gt; | value2 &lt;dbl&gt; | value3 &lt;dbl&gt; |\n",
       "|---|---|---|---|---|---|---|\n",
       "| 1 | 1 | 1 | 1 |  0.00000 | 12.31158 | 54.29632 |\n",
       "| 2 | 2 | 1 | 2 | 81.46142 |  0.00000 | 39.78287 |\n",
       "\n"
      ],
      "text/plain": [
       "  Gender Group subj value1   value2   value3  \n",
       "1 1      1     1     0.00000 12.31158 54.29632\n",
       "2 2      1     2    81.46142  0.00000 39.78287"
      ]
     },
     "metadata": {},
     "output_type": "display_data"
    }
   ],
   "source": [
    "data5 %>%\n",
    "  mutate(across(everything(), ~ ifelse(is.na(.), 0, .))) %>% \n",
    "  head(2)"
   ]
  },
  {
   "cell_type": "markdown",
   "id": "83cd943a-a12a-4224-afbb-2e5955f74077",
   "metadata": {},
   "source": [
    "To fill down NAs with last-observation carried forward (LOCF), use `fill()` from `tidyr`:"
   ]
  },
  {
   "cell_type": "code",
   "execution_count": 35,
   "id": "e72a8972-dbf7-49d0-a3d0-5778c2199910",
   "metadata": {},
   "outputs": [
    {
     "data": {
      "text/html": [
       "<table class=\"dataframe\">\n",
       "<caption>A tibble: 9 × 2</caption>\n",
       "<thead>\n",
       "\t<tr><th scope=col>name</th><th scope=col>value</th></tr>\n",
       "\t<tr><th scope=col>&lt;chr&gt;</th><th scope=col>&lt;int&gt;</th></tr>\n",
       "</thead>\n",
       "<tbody>\n",
       "\t<tr><td>A </td><td>1</td></tr>\n",
       "\t<tr><td>NA</td><td>2</td></tr>\n",
       "\t<tr><td>NA</td><td>3</td></tr>\n",
       "\t<tr><td>B </td><td>4</td></tr>\n",
       "\t<tr><td>NA</td><td>5</td></tr>\n",
       "\t<tr><td>NA</td><td>6</td></tr>\n",
       "\t<tr><td>C </td><td>7</td></tr>\n",
       "\t<tr><td>NA</td><td>8</td></tr>\n",
       "\t<tr><td>NA</td><td>9</td></tr>\n",
       "</tbody>\n",
       "</table>\n"
      ],
      "text/latex": [
       "A tibble: 9 × 2\n",
       "\\begin{tabular}{ll}\n",
       " name & value\\\\\n",
       " <chr> & <int>\\\\\n",
       "\\hline\n",
       "\t A  & 1\\\\\n",
       "\t NA & 2\\\\\n",
       "\t NA & 3\\\\\n",
       "\t B  & 4\\\\\n",
       "\t NA & 5\\\\\n",
       "\t NA & 6\\\\\n",
       "\t C  & 7\\\\\n",
       "\t NA & 8\\\\\n",
       "\t NA & 9\\\\\n",
       "\\end{tabular}\n"
      ],
      "text/markdown": [
       "\n",
       "A tibble: 9 × 2\n",
       "\n",
       "| name &lt;chr&gt; | value &lt;int&gt; |\n",
       "|---|---|\n",
       "| A  | 1 |\n",
       "| NA | 2 |\n",
       "| NA | 3 |\n",
       "| B  | 4 |\n",
       "| NA | 5 |\n",
       "| NA | 6 |\n",
       "| C  | 7 |\n",
       "| NA | 8 |\n",
       "| NA | 9 |\n",
       "\n"
      ],
      "text/plain": [
       "  name value\n",
       "1 A    1    \n",
       "2 NA   2    \n",
       "3 NA   3    \n",
       "4 B    4    \n",
       "5 NA   5    \n",
       "6 NA   6    \n",
       "7 C    7    \n",
       "8 NA   8    \n",
       "9 NA   9    "
      ]
     },
     "metadata": {},
     "output_type": "display_data"
    }
   ],
   "source": [
    "dt2 <-tibble(name = c(\"A\", NA, NA, \"B\", NA, NA, \"C\", NA, NA),\n",
    "            value = 1:9)\n",
    "\n",
    "dt2"
   ]
  },
  {
   "cell_type": "code",
   "execution_count": 36,
   "id": "bbefa958-2a32-4c91-b414-2c73026888da",
   "metadata": {},
   "outputs": [
    {
     "data": {
      "text/html": [
       "<table class=\"dataframe\">\n",
       "<caption>A tibble: 9 × 2</caption>\n",
       "<thead>\n",
       "\t<tr><th scope=col>name</th><th scope=col>value</th></tr>\n",
       "\t<tr><th scope=col>&lt;chr&gt;</th><th scope=col>&lt;int&gt;</th></tr>\n",
       "</thead>\n",
       "<tbody>\n",
       "\t<tr><td>A</td><td>1</td></tr>\n",
       "\t<tr><td>A</td><td>2</td></tr>\n",
       "\t<tr><td>A</td><td>3</td></tr>\n",
       "\t<tr><td>B</td><td>4</td></tr>\n",
       "\t<tr><td>B</td><td>5</td></tr>\n",
       "\t<tr><td>B</td><td>6</td></tr>\n",
       "\t<tr><td>C</td><td>7</td></tr>\n",
       "\t<tr><td>C</td><td>8</td></tr>\n",
       "\t<tr><td>C</td><td>9</td></tr>\n",
       "</tbody>\n",
       "</table>\n"
      ],
      "text/latex": [
       "A tibble: 9 × 2\n",
       "\\begin{tabular}{ll}\n",
       " name & value\\\\\n",
       " <chr> & <int>\\\\\n",
       "\\hline\n",
       "\t A & 1\\\\\n",
       "\t A & 2\\\\\n",
       "\t A & 3\\\\\n",
       "\t B & 4\\\\\n",
       "\t B & 5\\\\\n",
       "\t B & 6\\\\\n",
       "\t C & 7\\\\\n",
       "\t C & 8\\\\\n",
       "\t C & 9\\\\\n",
       "\\end{tabular}\n"
      ],
      "text/markdown": [
       "\n",
       "A tibble: 9 × 2\n",
       "\n",
       "| name &lt;chr&gt; | value &lt;int&gt; |\n",
       "|---|---|\n",
       "| A | 1 |\n",
       "| A | 2 |\n",
       "| A | 3 |\n",
       "| B | 4 |\n",
       "| B | 5 |\n",
       "| B | 6 |\n",
       "| C | 7 |\n",
       "| C | 8 |\n",
       "| C | 9 |\n",
       "\n"
      ],
      "text/plain": [
       "  name value\n",
       "1 A    1    \n",
       "2 A    2    \n",
       "3 A    3    \n",
       "4 B    4    \n",
       "5 B    5    \n",
       "6 B    6    \n",
       "7 C    7    \n",
       "8 C    8    \n",
       "9 C    9    "
      ]
     },
     "metadata": {},
     "output_type": "display_data"
    }
   ],
   "source": [
    "dt2 %>%\n",
    "  fill(name)"
   ]
  },
  {
   "cell_type": "markdown",
   "id": "63bf52ae-1543-4410-a668-e1b54f765a1c",
   "metadata": {},
   "source": [
    "<a name=\"toc_788789_7\"></a>\n",
    "## 7.   Creating functions from ggplot"
   ]
  },
  {
   "cell_type": "markdown",
   "id": "ec05980f-7d5b-44dd-b5d4-9c010ad90732",
   "metadata": {},
   "source": [
    "Using `aes_string()`:"
   ]
  },
  {
   "cell_type": "raw",
   "id": "2c44bf65-145a-4312-861b-013c1e176246",
   "metadata": {},
   "source": [
    "plot_ratio_il6 <- function(param){\n",
    "  nca_il6_ratios %>% \n",
    "    ggplot(aes_string(y = param, x = \"subj\", color = \"groups\")) +\n",
    "    geom_point()\n",
    "}\n",
    "\n",
    "plot_ratio_il6(\"Cmax_ratioil6\")"
   ]
  },
  {
   "cell_type": "markdown",
   "id": "ed4e80c3-0f24-4270-9d28-1254def4030c",
   "metadata": {},
   "source": [
    "Using `{{ }}` *(called curly-curly)* from the `rlang` package. `{{}}` tells R to treat the expression inside as an unevaluated argument that should be evaluated in the context of the calling environment.:"
   ]
  },
  {
   "cell_type": "raw",
   "id": "e98b1b6c-df12-4282-bd21-5f0112178c5e",
   "metadata": {},
   "source": [
    "pct_plot <- function(var){\n",
    "cardata %>% \n",
    "     select(ID, {{var}}) %>% \n",
    "     distinct() %>% \n",
    "     count({{var}} := as.factor({{var}})) %>% \n",
    "     mutate(pct = prop.table(n)) %>% \n",
    "           ggplot(aes(x = {{var}}, y = pct, label = paste0(round(pct*100, 1), '%'))) +\n",
    "           geom_col() +\n",
    "           geom_text(position = position_dodge(width = .9), vjust = -0.5, size = 3) +\n",
    "           scale_y_continuous(expand = expansion(mult = c(0, 0.1)))\n",
    "}\n",
    "\n",
    "pct_plot(var = SEXF)"
   ]
  },
  {
   "cell_type": "markdown",
   "id": "ba8ad5ec-fc68-4d1e-8cdd-fad82ddf6ed4",
   "metadata": {},
   "source": [
    "☝️ Note the use of `:=` form the `rlang` package. This operator allows us to create or modify columns with names specified by expressions."
   ]
  },
  {
   "cell_type": "markdown",
   "id": "a1e01268-3ba3-44c9-a486-65be1c0a83b4",
   "metadata": {},
   "source": [
    "To add dynamic x axis label, use `as_label(ensym(arg))`. The `ensym()` function from `rlang` captures the name of the argument or expression. `as_label()` then converts this captured name into a character string:"
   ]
  },
  {
   "cell_type": "raw",
   "id": "6a2311c6-c809-4cb1-ba5d-fdc1a8edd22b",
   "metadata": {},
   "source": [
    "pct_plot <- function(var){\n",
    "    \n",
    "  label_mapping <- c(\n",
    "      SEXF = \"Gender\",\n",
    "      RACE2 = \"Race\",\n",
    "      NCILC2 = \"NCI Liver Class\",\n",
    "      INH3A4 = \"CYP3A4 Inhibitor\",\n",
    "      INH2D6 = \"CYP2D6 Inhibitor\",\n",
    "      INDUCR = \"P450 Inducer\"\n",
    "  )\n",
    "  \n",
    "  var_label <- label_mapping[as_label(ensym(var))]\n",
    "      \n",
    "  cardata %>% \n",
    "       select(ID, {{var}}) %>% \n",
    "       distinct() %>% \n",
    "       count({{var}} := as.factor({{var}})) %>% \n",
    "       mutate(pct = prop.table(n)) %>% \n",
    "             ggplot(aes(x = {{var}}, y = pct, label = paste0(round(pct*100, 1), '%'))) +\n",
    "             geom_col() +\n",
    "             geom_text(position = position_dodge(width = .9), vjust = -0.5, size = 3) +\n",
    "             scale_y_continuous(expand = expansion(mult = c(0, 0.1))) +\n",
    "          labs(y = \"Percentage\", x = paste0(var_label, \" (\", as_label(ensym(var)), \")\"))\n",
    "}\n",
    "\n",
    "(pct_plot(var = SEXF) / pct_plot(var = RACE2) / pct_plot(var = NCILC2))  |\n",
    "(pct_plot(var = INH3A4) / pct_plot(var = INH2D6) / pct_plot(var = INDUCR))"
   ]
  },
  {
   "cell_type": "markdown",
   "id": "37906c80-79b3-4a47-a8a5-d23469ffd0e7",
   "metadata": {},
   "source": [
    "<div style=\"text-align:center;\">\n",
    "  <img src=\"images/tips_01.png\" width = \"600\" align=\"center\">\n",
    "</div>"
   ]
  },
  {
   "cell_type": "markdown",
   "id": "f06a52db-d36b-4aa9-9d6e-1edde4483bd0",
   "metadata": {},
   "source": [
    "<a name=\"toc_788789_8\"></a>\n",
    "## 8.   Growing datasets with loops"
   ]
  },
  {
   "cell_type": "markdown",
   "id": "cb89e390-e0f8-4498-915e-cf26bcec5e4a",
   "metadata": {},
   "source": [
    "<a name=\"toc_788789_9\"></a>\n",
    "## 9.  Check if an object exists"
   ]
  },
  {
   "cell_type": "markdown",
   "id": "73b25622-7698-4409-a168-4281de1bc7e6",
   "metadata": {},
   "source": [
    "<a name=\"toc_788789_10\"></a>\n",
    "## 10.   Useful custom mathematical functions"
   ]
  },
  {
   "cell_type": "code",
   "execution_count": 192,
   "id": "4019327c-021d-47be-a170-f83030332fe5",
   "metadata": {},
   "outputs": [],
   "source": [
    "round2 <- function (x, digits = 0) {\n",
    "    posneg = sign(x)\n",
    "    z = trunc(abs(x) * 10 ^ (digits + 1)) / 10\n",
    "    z = floor(z * posneg + 0.5) / 10 ^ digits\n",
    "    return(z)\n",
    "}\n",
    "\n",
    "geomean <- function(x) {\n",
    "    exp(mean(log(x)))\n",
    "}\n",
    "\n",
    "geocv <- function(x) {\n",
    "    round2(sqrt(exp(sd(log(x)) ^ 2) - 1) * 100, 1)\n",
    "}"
   ]
  },
  {
   "cell_type": "code",
   "execution_count": 196,
   "id": "de5ca7d6-e7f4-4b90-8e8b-90b72413ec01",
   "metadata": {},
   "outputs": [
    {
     "data": {
      "text/html": [
       "2"
      ],
      "text/latex": [
       "2"
      ],
      "text/markdown": [
       "2"
      ],
      "text/plain": [
       "[1] 2"
      ]
     },
     "metadata": {},
     "output_type": "display_data"
    },
    {
     "data": {
      "text/html": [
       "3"
      ],
      "text/latex": [
       "3"
      ],
      "text/markdown": [
       "3"
      ],
      "text/plain": [
       "[1] 3"
      ]
     },
     "metadata": {},
     "output_type": "display_data"
    }
   ],
   "source": [
    "round(2.5)\n",
    "round2(2.5) "
   ]
  },
  {
   "cell_type": "code",
   "execution_count": 195,
   "id": "9e86d11d-fa8e-49df-839a-dd82374c568b",
   "metadata": {},
   "outputs": [
    {
     "data": {
      "text/html": [
       "63.94"
      ],
      "text/latex": [
       "63.94"
      ],
      "text/markdown": [
       "63.94"
      ],
      "text/plain": [
       "[1] 63.94"
      ]
     },
     "metadata": {},
     "output_type": "display_data"
    },
    {
     "data": {
      "text/html": [
       "14.9226634317479"
      ],
      "text/latex": [
       "14.9226634317479"
      ],
      "text/markdown": [
       "14.9226634317479"
      ],
      "text/plain": [
       "[1] 14.92266"
      ]
     },
     "metadata": {},
     "output_type": "display_data"
    }
   ],
   "source": [
    "vec <- c(2.5, 4, 3.2, 125, 185)\n",
    "mean(vec)\n",
    "geomean(vec)"
   ]
  }
 ],
 "metadata": {
  "kernelspec": {
   "display_name": "R",
   "language": "R",
   "name": "ir"
  },
  "language_info": {
   "codemirror_mode": "r",
   "file_extension": ".r",
   "mimetype": "text/x-r-source",
   "name": "R",
   "pygments_lexer": "r",
   "version": "4.1.3"
  }
 },
 "nbformat": 4,
 "nbformat_minor": 5
}
